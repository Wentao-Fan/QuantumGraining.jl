{
 "cells": [
  {
   "cell_type": "code",
   "execution_count": 68,
   "metadata": {},
   "outputs": [],
   "source": [
    "using QuantumCumulants\n",
    "using IterTools"
   ]
  },
  {
   "attachments": {},
   "cell_type": "markdown",
   "metadata": {},
   "source": [
    "# Prototyping TCG Pole algorithm"
   ]
  },
  {
   "attachments": {},
   "cell_type": "markdown",
   "metadata": {},
   "source": [
    "## Theoretical background"
   ]
  },
  {
   "attachments": {},
   "cell_type": "markdown",
   "metadata": {},
   "source": [
    "In general, the TCG process requires calculating the contraction coefficients up to the order of truncation $k$,\n",
    "$$\\mathcal{C}_{l,r}(\\vec\\mu, \\vec\\nu) = \\sum_{d\\in \\text{diagrams}} \\frac{\\tilde{f}\\left(\\lang \\vec\\mu_1 \\rang +\\lang \\vec\\nu_1 \\rang\\right) \\tilde{f}\\left(\\lang \\vec\\mu_2 \\rang +\\lang \\vec\\nu_2 \\rang\\right) \\cdots \\tilde{f}\\left(\\lang \\vec\\mu_{||d||} \\rang +\\lang \\vec\\nu_{||d||} \\rang\\right)}{\\vec\\mu_1!\\vec\\nu_1!\\cdot\\vec\\mu_2!\\vec\\nu_2!\\cdot(\\cdots)\\cdot\\vec\\mu_{||d||}\\vec\\nu_{||d||}}$$\n",
    "where the sum is over diagrams $d = [(l_1, r_1), (l_2, r_2), \\cdots, (l_n, r_n)]$ where $n \\le k$ and $k$ is the order of truncation and $(l_i, r_i)$ are tuples representing the bubbles in the diagram. The vectors $\\vec\\mu_i=(\\mu_i^1, \\mu_i^2, \\cdots,\\mu_i^{l_i})$ and $\\vec\\nu=(\\nu_i^1, \\nu_i^2, \\cdots, \\nu_i^{r_i})$ are the ordered frequencies of the modes in each bubble of the diagram. \n",
    "Additionally, we define the vector factorial function,\n",
    "$$\\vec \\mu! = (\\mu^1 + \\mu^2 +\\cdots + \\mu^l)(\\mu^1+\\mu^2 + \\cdots + \\mu^{l-1})\\cdots(\\mu_1 + \\mu_2)\\mu_1 \\\\ \\vec \\nu! = (\\nu^1 + \\nu^2 +\\cdots + \\nu^l)(\\nu^1 + \\nu^2 + \\cdots + \\nu^{l-1})\\cdots(\\nu_1 + \\nu_2)\\nu_1$$"
   ]
  },
  {
   "attachments": {},
   "cell_type": "markdown",
   "metadata": {},
   "source": [
    "The problem with the TCG is that we can have resonances - points where some factors in the vector factorial vanish. Let us denote the sets of vanishing terms by $s$ and $s'$,\n",
    "$$\n",
    "\\begin{matrix}\n",
    "(\\mu_i^{1} + \\cdots+\\mu_i^{s_1}) & (\\mu_i^{1} + \\cdots+\\mu_i^{s_2}) &   \\ldots & (\\mu_i^{1} + \\cdots+\\mu_i^{s_n}) \\\\\n",
    "(\\nu_i^{1} + \\cdots+ \\nu_i^{s'_1}) & (\\nu_i^{1} + \\cdots + \\nu_i^{s'_2}) &   \\ldots & (\\nu_i^{1} + \\cdots + \\nu_i^{s'_n})\n",
    "\\end{matrix}\n",
    "$$\n",
    "and also a corrected vector factorial without the vanishing terms,\n",
    "$$\n",
    "\\overline{\\vec\\mu_i} = \\prod_{j \\notin s}^{l_i} (\\mu_i^1 + \\mu_i^2 + \\cdots + \\mu_i^j) \\\\\n",
    "\\overline{\\vec\\nu_i} = \\prod_{j \\notin s'}^{l_i} (\\nu_i^1 + \\nu_i^2 + \\cdots + \\nu_i^j)\n",
    "$$"
   ]
  },
  {
   "attachments": {},
   "cell_type": "markdown",
   "metadata": {},
   "source": [
    "Through the power of math and friendship, the contribution of each diagram becomes,\n",
    "$$\n",
    "   \\mathcal{E}_d = (-1)^{l}\\prod_{i=1}^{||d||} \\left [ -\\frac{f(\\lang \\vec{\\mu}_i \\rang + \\lang \\vec{\\nu}_i \\rang)}{\\overline{\\vec\\mu}_i! \\overline{\\vec\\nu}_i!} \\sum^{\\sum_i (n_i + u_i + l_i) = \\sum_i (|\\vec s_i| + |\\vec s_i'| )}_{n_i \\ge 0, u_i \\ge 0, l_i \\ge 0} \\sum_{k_i = 0}^{\\lfloor \\frac{n_i}{2} \\rfloor} \\frac{c(n_i, k_i)}{(n_i)!} \\tau^{2(n_i - k_i)} \\left(\\lang \\vec\\mu_i \\rang + \\lang \\vec\\nu_i \\rang \\right)^{n_i} \\\\\n",
    "    \\sum_{\\sum m_{J_u} = u_i, \\sum m'_{J_l} = l_i} \\frac{\\prod_{J_u \\notin \\vec s_i, J_l \\notin \\vec s_i'}\\left( \\frac{-J_u}{\\mu_i^1 + \\cdots + \\mu_i^{J_u}} \\right)^{m_{J_u}} \\left( \\frac{-J_l}{\\nu_i^1 + \\cdots + \\nu_i^{J_l}} \\right)^{m'_{J_u}} }{\\prod_{s_i^{j_1} \\in \\vec s_i, {s'}_i^{j_2} \\in \\vec{s'}_i} \\left(s_i^{j_i} {s'}_i^{j_2} \\right)} \\right ]\n",
    "$$"
   ]
  },
  {
   "attachments": {},
   "cell_type": "markdown",
   "metadata": {},
   "source": [
    "## Code and definitions"
   ]
  },
  {
   "attachments": {},
   "cell_type": "markdown",
   "metadata": {},
   "source": [
    "### Taylor coefficient"
   ]
  },
  {
   "attachments": {},
   "cell_type": "markdown",
   "metadata": {},
   "source": [
    "The Taylor expension can be calculated recursively,\n",
    "$$ c(n+1,k)=-c(n,k) + (n-2k+2)c(n,k-1) $$\n",
    "\n",
    "$$c(0,0) = 1 \\\\\n",
    "c(n,-1) = 0 \\\\\n",
    "c(n,k) \\equiv 0 \\text{ for }  n<2k$$"
   ]
  },
  {
   "cell_type": "code",
   "execution_count": 69,
   "metadata": {},
   "outputs": [
    {
     "data": {
      "text/plain": [
       "taylor_coeff (generic function with 1 method)"
      ]
     },
     "metadata": {},
     "output_type": "display_data"
    }
   ],
   "source": [
    "function taylor_coeff(n, k)\n",
    "    # base cases\n",
    "    if (k == -1) || (n < 2*k)\n",
    "        return 0\n",
    "    elseif (n == 0) && (k ==0)\n",
    "        return 1\n",
    "    else\n",
    "        return -taylor_coeff(n - 1, k) + (n - 2*k + 1)*taylor_coeff(n - 1, k - 1)\n",
    "    end\n",
    "end"
   ]
  },
  {
   "cell_type": "code",
   "execution_count": 70,
   "metadata": {},
   "outputs": [
    {
     "name": "stdout",
     "output_type": "stream",
     "text": [
      "taylor_coeff(1, -1) = 0\n",
      "taylor_coeff(231, -1) = 0\n",
      "taylor_coeff(3, 5) = 0\n",
      "taylor_coeff(3, 3) = 0\n",
      "---------\n",
      "taylor_coeff(2, 1) = -1\n",
      "\n",
      "taylor_coeff(3, 1) = 3\n",
      "\n",
      "taylor_coeff(4, 1) = -6\n",
      "\n",
      "taylor_coeff(4, 2) = 3\n",
      "\n",
      "taylor_coeff(5, 1) = 10\n",
      "\n",
      "taylor_coeff(5, 2) = -15\n",
      "\n",
      "taylor_coeff(6, 1) = -15\n",
      "\n",
      "taylor_coeff(6, 2) = 45\n",
      "\n",
      "taylor_coeff(6, 3) = -15\n",
      "\n"
     ]
    }
   ],
   "source": [
    "# base cases verification\n",
    "@show taylor_coeff(1, -1)\n",
    "@show taylor_coeff(231, -1)\n",
    "@show taylor_coeff(3, 5)\n",
    "@show taylor_coeff(3, 3)\n",
    "println(\"---------\")\n",
    "\n",
    "# general cases\n",
    "for i in 1:6\n",
    "    for j in 1:6\n",
    "        val = taylor_coeff(i, j)\n",
    "        if val != 0  \n",
    "            println(\"taylor_coeff($i, $j) = $(val)\")\n",
    "            println()\n",
    "        end\n",
    "    end\n",
    "end"
   ]
  },
  {
   "attachments": {},
   "cell_type": "markdown",
   "metadata": {},
   "source": [
    "### Vector factorial"
   ]
  },
  {
   "cell_type": "code",
   "execution_count": 71,
   "metadata": {},
   "outputs": [
    {
     "data": {
      "text/plain": [
       "vec_factorial (generic function with 1 method)"
      ]
     },
     "metadata": {},
     "output_type": "display_data"
    }
   ],
   "source": [
    "function vec_factorial(u; include_poles=true)\n",
    "    temp_prod = u[1]\n",
    "    for i = 2:length(u)\n",
    "        temp_sum = sum(u[1:i])\n",
    "        if isequal(temp_sum, 0)\n",
    "            if include_poles == true\n",
    "                temp_prod = 0\n",
    "            end\n",
    "        else\n",
    "            temp_prod *= temp_sum\n",
    "        end\n",
    "    end\n",
    "    return temp_prod\n",
    "end"
   ]
  },
  {
   "cell_type": "code",
   "execution_count": 72,
   "metadata": {},
   "outputs": [
    {
     "name": "stdout",
     "output_type": "stream",
     "text": [
      "vec_factorial(a) = 576\n",
      "1 * (1 + 3) * (1 + 3 + 5) * (1 + 3 + 5 + 7) = 576\n",
      "vec_factorial(b) = 0\n",
      "vec_factorial(b, include_poles = false) = 576\n"
     ]
    },
    {
     "data": {
      "text/plain": [
       "576"
      ]
     },
     "metadata": {},
     "output_type": "display_data"
    }
   ],
   "source": [
    "a = [1, 3, 5, 7]\n",
    "@show vec_factorial(a) \n",
    "@show 1*(1+3)*(1+3+5)*(1+3+5+7)\n",
    "\n",
    "b = [1, 3, 5, 7, -(1+ 3 + 5 + 7)]\n",
    "@show vec_factorial(b)\n",
    "@show vec_factorial(b, include_poles=false)"
   ]
  },
  {
   "cell_type": "code",
   "execution_count": 73,
   "metadata": {},
   "outputs": [
    {
     "name": "stdout",
     "output_type": "stream",
     "text": [
      "vec_factorial(v, include_poles = false) = a*d*(a + b)*(a + b + c)\n",
      "vec_factorial(v, include_poles = true) = 0\n"
     ]
    },
    {
     "data": {
      "text/plain": [
       "0"
      ]
     },
     "metadata": {},
     "output_type": "display_data"
    }
   ],
   "source": [
    "@cnumbers a b c d\n",
    "\n",
    "v = [a, b, c, -(a+b+c), d]\n",
    "@show vec_factorial(v, include_poles=false)\n",
    "@show vec_factorial(v, include_poles=true)\n"
   ]
  },
  {
   "attachments": {},
   "cell_type": "markdown",
   "metadata": {},
   "source": [
    "### find_poles(u)"
   ]
  },
  {
   "attachments": {},
   "cell_type": "markdown",
   "metadata": {},
   "source": [
    "Finds all the factors of the vector factorial that evaluate to 0."
   ]
  },
  {
   "cell_type": "code",
   "execution_count": 74,
   "metadata": {},
   "outputs": [
    {
     "data": {
      "text/plain": [
       "find_poles (generic function with 1 method)"
      ]
     },
     "metadata": {},
     "output_type": "display_data"
    }
   ],
   "source": [
    "function find_poles(u)\n",
    "    poles_list = []\n",
    "    for i = 1:length(u)\n",
    "        temp_sum = sum(u[1:i])\n",
    "        if isequal(temp_sum, 0)\n",
    "            append!(poles_list, i)\n",
    "        end\n",
    "    end\n",
    "    return poles_list\n",
    "end"
   ]
  },
  {
   "cell_type": "code",
   "execution_count": 75,
   "metadata": {},
   "outputs": [
    {
     "name": "stdout",
     "output_type": "stream",
     "text": [
      "find_poles(v) = Any[4, 6]\n"
     ]
    },
    {
     "data": {
      "text/plain": [
       "2-element Vector{Any}:\n",
       " 4\n",
       " 6"
      ]
     },
     "metadata": {},
     "output_type": "display_data"
    }
   ],
   "source": [
    "@cnumbers a b c d\n",
    "\n",
    "v = [a, b, c, -(a+b+c), d, -d]\n",
    "\n",
    "@show find_poles(v)"
   ]
  },
  {
   "attachments": {},
   "cell_type": "markdown",
   "metadata": {},
   "source": [
    "Additionally, calculating the total number of poles requires finding the total number of poles. We define another function that recieves a vector of frequencies for a diagram and returns the total number of poles."
   ]
  },
  {
   "cell_type": "code",
   "execution_count": 76,
   "metadata": {},
   "outputs": [
    {
     "data": {
      "text/plain": [
       "find_all_poles (generic function with 1 method)"
      ]
     },
     "metadata": {},
     "output_type": "display_data"
    }
   ],
   "source": [
    "# ω = [(μ_1, ν_1), ..., (μ_||d||, ν_||d||)]\n",
    "function find_all_poles(ω)\n",
    "    μ_poles = []\n",
    "    ν_poles = []\n",
    "    for (μ, ν) in ω\n",
    "        push!(μ_poles, find_poles(μ))\n",
    "        push!(ν_poles, find_poles(ν))\n",
    "    end\n",
    "    return (μ_poles, ν_poles)\n",
    "end"
   ]
  },
  {
   "cell_type": "code",
   "execution_count": 77,
   "metadata": {},
   "outputs": [
    {
     "name": "stdout",
     "output_type": "stream",
     "text": [
      "s_list = Any[Any[3], Any[1, 4]]\n",
      "stag_list = Any[Any[2], Any[3]]\n",
      "total_num_poles = 5\n"
     ]
    },
    {
     "data": {
      "text/plain": [
       "5"
      ]
     },
     "metadata": {},
     "output_type": "display_data"
    }
   ],
   "source": [
    "μ1 = [a, b, -a-b] # pole at 3\n",
    "ν1 = [a, -a] # pole at 2\n",
    "\n",
    "μ2 = [0, a, a, -2a] # pole at 1 and 4\n",
    "ν2 = [-a, b, a-b] # poles at 3\n",
    "ω = [(μ1, ν1), (μ2, ν2)]\n",
    "\n",
    "s_list, stag_list = find_all_poles(ω)\n",
    "\n",
    "total_num_poles = sum([length(su) + length(sl) for (su, sl) in (s_list, stag_list)])\n",
    "\n",
    "@show s_list\n",
    "@show stag_list\n",
    "@show total_num_poles"
   ]
  },
  {
   "attachments": {},
   "cell_type": "markdown",
   "metadata": {},
   "source": [
    "## Integer solutions"
   ]
  },
  {
   "attachments": {},
   "cell_type": "markdown",
   "metadata": {},
   "source": [
    "As we saw, our sums usually involve solving integer equations of the form $n_1 + n_2 + \\cdots + n_k = m$ where all variables and parameters are integers.\n",
    "It is useful then to have a function that efficiently solves this problem."
   ]
  },
  {
   "cell_type": "code",
   "execution_count": 78,
   "metadata": {},
   "outputs": [
    {
     "data": {
      "text/plain": [
       "find_integer_solutions (generic function with 3 methods)"
      ]
     },
     "metadata": {},
     "output_type": "display_data"
    }
   ],
   "source": [
    "function find_integer_solutions(num_vars::Int, target_sum::Int, combination::Vector{Int}=Vector{Int}(), sum_so_far::Int=0)\n",
    "    res = []\n",
    "    if sum_so_far == target_sum\n",
    "        if length(combination) == num_vars\n",
    "            push!(res, combination)\n",
    "            return res\n",
    "        end\n",
    "    elseif sum_so_far > target_sum\n",
    "        return res\n",
    "    end\n",
    "    for i in 0:target_sum\n",
    "        if length(combination) < num_vars\n",
    "            res = vcat(res, find_integer_solutions(num_vars, target_sum, [combination..., i], sum_so_far+i))\n",
    "        end\n",
    "    end\n",
    "    return res\n",
    "end\n"
   ]
  },
  {
   "cell_type": "code",
   "execution_count": 79,
   "metadata": {},
   "outputs": [
    {
     "data": {
      "text/plain": [
       "reshape_sols (generic function with 2 methods)"
      ]
     },
     "metadata": {},
     "output_type": "display_data"
    }
   ],
   "source": [
    "function reshape_sols(sols, target_sum, num_bubbles, num_indices = 3)\n",
    "    num_vars = num_bubbles*num_indices\n",
    "    num_sols = floor(Int, factorial(num_vars + target_sum - 1)/(factorial(num_vars)*factorial(target_sum - 1)))\n",
    "    dim_sols = num_sols                # total number of solutions\n",
    "    dim_indices = num_indices          # number of indices - u, n, l\n",
    "    dim_bubbles = num_bubbles          # number of bubbles \n",
    "    \n",
    "    vectors = Array{Array{Int64,1}, 2}(undef, dim_sols, dim_bubbles)\n",
    "\n",
    "    for i in 1:dim_sols           \n",
    "        for j in 1:dim_bubbles    \n",
    "            end_idx = dim_indices*j < length(sols[i][:]) ? dim_indices*j : length(sols[i][:])\n",
    "            vectors[i, j] = sols[i][(1 + dim_indices*(j - 1)):end_idx]\n",
    "        end\n",
    "    end\n",
    "    return vectors\n",
    "end"
   ]
  },
  {
   "attachments": {},
   "cell_type": "markdown",
   "metadata": {},
   "source": [
    "Let us verify and try the following equations,\n",
    "$$ n_1 = 5 $$\n",
    "$$ n_1 + n_2 = 4 $$"
   ]
  },
  {
   "cell_type": "code",
   "execution_count": 80,
   "metadata": {},
   "outputs": [
    {
     "name": "stdout",
     "output_type": "stream",
     "text": [
      "find_integer_solutions(1, 5) = Any[[5]]\n",
      "find_integer_solutions(2, 4) = Any[[0, 4], [1, 3], [2, 2], [3, 1], [4, 0]]\n"
     ]
    },
    {
     "data": {
      "text/plain": [
       "5-element Vector{Any}:\n",
       " [0, 4]\n",
       " [1, 3]\n",
       " [2, 2]\n",
       " [3, 1]\n",
       " [4, 0]"
      ]
     },
     "metadata": {},
     "output_type": "display_data"
    }
   ],
   "source": [
    "@show find_integer_solutions(1, 5)\n",
    "@show find_integer_solutions(2, 4)"
   ]
  },
  {
   "cell_type": "code",
   "execution_count": 81,
   "metadata": {},
   "outputs": [
    {
     "name": "stdout",
     "output_type": "stream",
     "text": [
      "size(vecs) = (455, 4)\n",
      "num_sols = 455\n",
      "vecs = [[0, 0, 0] [0, 0, 0] [0, 0, 0] [0, 0, 4]; [0, 0, 0] [0, 0, 0] [0, 0, 0] [0, 1, 3]; [0, 0, 0] [0, 0, 0] [0, 0, 0] [0, 2, 2]; [0, 0, 0] [0, 0, 0] [0, 0, 0] [0, 3, 1]; [0, 0, 0] [0, 0, 0] [0, 0, 0] [0, 4, 0]; [0, 0, 0] [0, 0, 0] [0, 0, 0] [1, 0, 3]; [0, 0, 0] [0, 0, 0] [0, 0, 0] [1, 1, 2]; [0, 0, 0] [0, 0, 0] [0, 0, 0] [1, 2, 1]; [0, 0, 0] [0, 0, 0] [0, 0, 0] [1, 3, 0]; [0, 0, 0] [0, 0, 0] [0, 0, 0] [2, 0, 2]; [0, 0, 0] [0, 0, 0] [0, 0, 0] [2, 1, 1]; [0, 0, 0] [0, 0, 0] [0, 0, 0] [2, 2, 0]; [0, 0, 0] [0, 0, 0] [0, 0, 0] [3, 0, 1]; [0, 0, 0] [0, 0, 0] [0, 0, 0] [3, 1, 0]; [0, 0, 0] [0, 0, 0] [0, 0, 0] [4, 0, 0]; [0, 0, 0] [0, 0, 0] [0, 0, 1] [0, 0, 3]; [0, 0, 0] [0, 0, 0] [0, 0, 1] [0, 1, 2]; [0, 0, 0] [0, 0, 0] [0, 0, 1] [0, 2, 1]; [0, 0, 0] [0, 0, 0] [0, 0, 1] [0, 3, 0]; [0, 0, 0] [0, 0, 0] [0, 0, 1] [1, 0, 2]; [0, 0, 0] [0, 0, 0] [0, 0, 1] [1, 1, 1]; [0, 0, 0] [0, 0, 0] [0, 0, 1] [1, 2, 0]; [0, 0, 0] [0, 0, 0] [0, 0, 1] [2, 0, 1]; [0, 0, 0] [0, 0, 0] [0, 0, 1] [2, 1, 0]; [0, 0, 0] [0, 0, 0] [0, 0, 1] [3, 0, 0]; [0, 0, 0] [0, 0, 0] [0, 0, 2] [0, 0, 2]; [0, 0, 0] [0, 0, 0] [0, 0, 2] [0, 1, 1]; [0, 0, 0] [0, 0, 0] [0, 0, 2] [0, 2, 0]; [0, 0, 0] [0, 0, 0] [0, 0, 2] [1, 0, 1]; [0, 0, 0] [0, 0, 0] [0, 0, 2] [1, 1, 0]; [0, 0, 0] [0, 0, 0] [0, 0, 2] [2, 0, 0]; [0, 0, 0] [0, 0, 0] [0, 0, 3] [0, 0, 1]; [0, 0, 0] [0, 0, 0] [0, 0, 3] [0, 1, 0]; [0, 0, 0] [0, 0, 0] [0, 0, 3] [1, 0, 0]; [0, 0, 0] [0, 0, 0] [0, 0, 4] [0, 0, 0]; [0, 0, 0] [0, 0, 0] [0, 1, 0] [0, 0, 3]; [0, 0, 0] [0, 0, 0] [0, 1, 0] [0, 1, 2]; [0, 0, 0] [0, 0, 0] [0, 1, 0] [0, 2, 1]; [0, 0, 0] [0, 0, 0] [0, 1, 0] [0, 3, 0]; [0, 0, 0] [0, 0, 0] [0, 1, 0] [1, 0, 2]; [0, 0, 0] [0, 0, 0] [0, 1, 0] [1, 1, 1]; [0, 0, 0] [0, 0, 0] [0, 1, 0] [1, 2, 0]; [0, 0, 0] [0, 0, 0] [0, 1, 0] [2, 0, 1]; [0, 0, 0] [0, 0, 0] [0, 1, 0] [2, 1, 0]; [0, 0, 0] [0, 0, 0] [0, 1, 0] [3, 0, 0]; [0, 0, 0] [0, 0, 0] [0, 1, 1] [0, 0, 2]; [0, 0, 0] [0, 0, 0] [0, 1, 1] [0, 1, 1]; [0, 0, 0] [0, 0, 0] [0, 1, 1] [0, 2, 0]; [0, 0, 0] [0, 0, 0] [0, 1, 1] [1, 0, 1]; [0, 0, 0] [0, 0, 0] [0, 1, 1] [1, 1, 0]; [0, 0, 0] [0, 0, 0] [0, 1, 1] [2, 0, 0]; [0, 0, 0] [0, 0, 0] [0, 1, 2] [0, 0, 1]; [0, 0, 0] [0, 0, 0] [0, 1, 2] [0, 1, 0]; [0, 0, 0] [0, 0, 0] [0, 1, 2] [1, 0, 0]; [0, 0, 0] [0, 0, 0] [0, 1, 3] [0, 0, 0]; [0, 0, 0] [0, 0, 0] [0, 2, 0] [0, 0, 2]; [0, 0, 0] [0, 0, 0] [0, 2, 0] [0, 1, 1]; [0, 0, 0] [0, 0, 0] [0, 2, 0] [0, 2, 0]; [0, 0, 0] [0, 0, 0] [0, 2, 0] [1, 0, 1]; [0, 0, 0] [0, 0, 0] [0, 2, 0] [1, 1, 0]; [0, 0, 0] [0, 0, 0] [0, 2, 0] [2, 0, 0]; [0, 0, 0] [0, 0, 0] [0, 2, 1] [0, 0, 1]; [0, 0, 0] [0, 0, 0] [0, 2, 1] [0, 1, 0]; [0, 0, 0] [0, 0, 0] [0, 2, 1] [1, 0, 0]; [0, 0, 0] [0, 0, 0] [0, 2, 2] [0, 0, 0]; [0, 0, 0] [0, 0, 0] [0, 3, 0] [0, 0, 1]; [0, 0, 0] [0, 0, 0] [0, 3, 0] [0, 1, 0]; [0, 0, 0] [0, 0, 0] [0, 3, 0] [1, 0, 0]; [0, 0, 0] [0, 0, 0] [0, 3, 1] [0, 0, 0]; [0, 0, 0] [0, 0, 0] [0, 4, 0] [0, 0, 0]; [0, 0, 0] [0, 0, 0] [1, 0, 0] [0, 0, 3]; [0, 0, 0] [0, 0, 0] [1, 0, 0] [0, 1, 2]; [0, 0, 0] [0, 0, 0] [1, 0, 0] [0, 2, 1]; [0, 0, 0] [0, 0, 0] [1, 0, 0] [0, 3, 0]; [0, 0, 0] [0, 0, 0] [1, 0, 0] [1, 0, 2]; [0, 0, 0] [0, 0, 0] [1, 0, 0] [1, 1, 1]; [0, 0, 0] [0, 0, 0] [1, 0, 0] [1, 2, 0]; [0, 0, 0] [0, 0, 0] [1, 0, 0] [2, 0, 1]; [0, 0, 0] [0, 0, 0] [1, 0, 0] [2, 1, 0]; [0, 0, 0] [0, 0, 0] [1, 0, 0] [3, 0, 0]; [0, 0, 0] [0, 0, 0] [1, 0, 1] [0, 0, 2]; [0, 0, 0] [0, 0, 0] [1, 0, 1] [0, 1, 1]; [0, 0, 0] [0, 0, 0] [1, 0, 1] [0, 2, 0]; [0, 0, 0] [0, 0, 0] [1, 0, 1] [1, 0, 1]; [0, 0, 0] [0, 0, 0] [1, 0, 1] [1, 1, 0]; [0, 0, 0] [0, 0, 0] [1, 0, 1] [2, 0, 0]; [0, 0, 0] [0, 0, 0] [1, 0, 2] [0, 0, 1]; [0, 0, 0] [0, 0, 0] [1, 0, 2] [0, 1, 0]; [0, 0, 0] [0, 0, 0] [1, 0, 2] [1, 0, 0]; [0, 0, 0] [0, 0, 0] [1, 0, 3] [0, 0, 0]; [0, 0, 0] [0, 0, 0] [1, 1, 0] [0, 0, 2]; [0, 0, 0] [0, 0, 0] [1, 1, 0] [0, 1, 1]; [0, 0, 0] [0, 0, 0] [1, 1, 0] [0, 2, 0]; [0, 0, 0] [0, 0, 0] [1, 1, 0] [1, 0, 1]; [0, 0, 0] [0, 0, 0] [1, 1, 0] [1, 1, 0]; [0, 0, 0] [0, 0, 0] [1, 1, 0] [2, 0, 0]; [0, 0, 0] [0, 0, 0] [1, 1, 1] [0, 0, 1]; [0, 0, 0] [0, 0, 0] [1, 1, 1] [0, 1, 0]; [0, 0, 0] [0, 0, 0] [1, 1, 1] [1, 0, 0]; [0, 0, 0] [0, 0, 0] [1, 1, 2] [0, 0, 0]; [0, 0, 0] [0, 0, 0] [1, 2, 0] [0, 0, 1]; [0, 0, 0] [0, 0, 0] [1, 2, 0] [0, 1, 0]; [0, 0, 0] [0, 0, 0] [1, 2, 0] [1, 0, 0]; [0, 0, 0] [0, 0, 0] [1, 2, 1] [0, 0, 0]; [0, 0, 0] [0, 0, 0] [1, 3, 0] [0, 0, 0]; [0, 0, 0] [0, 0, 0] [2, 0, 0] [0, 0, 2]; [0, 0, 0] [0, 0, 0] [2, 0, 0] [0, 1, 1]; [0, 0, 0] [0, 0, 0] [2, 0, 0] [0, 2, 0]; [0, 0, 0] [0, 0, 0] [2, 0, 0] [1, 0, 1]; [0, 0, 0] [0, 0, 0] [2, 0, 0] [1, 1, 0]; [0, 0, 0] [0, 0, 0] [2, 0, 0] [2, 0, 0]; [0, 0, 0] [0, 0, 0] [2, 0, 1] [0, 0, 1]; [0, 0, 0] [0, 0, 0] [2, 0, 1] [0, 1, 0]; [0, 0, 0] [0, 0, 0] [2, 0, 1] [1, 0, 0]; [0, 0, 0] [0, 0, 0] [2, 0, 2] [0, 0, 0]; [0, 0, 0] [0, 0, 0] [2, 1, 0] [0, 0, 1]; [0, 0, 0] [0, 0, 0] [2, 1, 0] [0, 1, 0]; [0, 0, 0] [0, 0, 0] [2, 1, 0] [1, 0, 0]; [0, 0, 0] [0, 0, 0] [2, 1, 1] [0, 0, 0]; [0, 0, 0] [0, 0, 0] [2, 2, 0] [0, 0, 0]; [0, 0, 0] [0, 0, 0] [3, 0, 0] [0, 0, 1]; [0, 0, 0] [0, 0, 0] [3, 0, 0] [0, 1, 0]; [0, 0, 0] [0, 0, 0] [3, 0, 0] [1, 0, 0]; [0, 0, 0] [0, 0, 0] [3, 0, 1] [0, 0, 0]; [0, 0, 0] [0, 0, 0] [3, 1, 0] [0, 0, 0]; [0, 0, 0] [0, 0, 0] [4, 0, 0] [0, 0, 0]; [0, 0, 0] [0, 0, 1] [0, 0, 0] [0, 0, 3]; [0, 0, 0] [0, 0, 1] [0, 0, 0] [0, 1, 2]; [0, 0, 0] [0, 0, 1] [0, 0, 0] [0, 2, 1]; [0, 0, 0] [0, 0, 1] [0, 0, 0] [0, 3, 0]; [0, 0, 0] [0, 0, 1] [0, 0, 0] [1, 0, 2]; [0, 0, 0] [0, 0, 1] [0, 0, 0] [1, 1, 1]; [0, 0, 0] [0, 0, 1] [0, 0, 0] [1, 2, 0]; [0, 0, 0] [0, 0, 1] [0, 0, 0] [2, 0, 1]; [0, 0, 0] [0, 0, 1] [0, 0, 0] [2, 1, 0]; [0, 0, 0] [0, 0, 1] [0, 0, 0] [3, 0, 0]; [0, 0, 0] [0, 0, 1] [0, 0, 1] [0, 0, 2]; [0, 0, 0] [0, 0, 1] [0, 0, 1] [0, 1, 1]; [0, 0, 0] [0, 0, 1] [0, 0, 1] [0, 2, 0]; [0, 0, 0] [0, 0, 1] [0, 0, 1] [1, 0, 1]; [0, 0, 0] [0, 0, 1] [0, 0, 1] [1, 1, 0]; [0, 0, 0] [0, 0, 1] [0, 0, 1] [2, 0, 0]; [0, 0, 0] [0, 0, 1] [0, 0, 2] [0, 0, 1]; [0, 0, 0] [0, 0, 1] [0, 0, 2] [0, 1, 0]; [0, 0, 0] [0, 0, 1] [0, 0, 2] [1, 0, 0]; [0, 0, 0] [0, 0, 1] [0, 0, 3] [0, 0, 0]; [0, 0, 0] [0, 0, 1] [0, 1, 0] [0, 0, 2]; [0, 0, 0] [0, 0, 1] [0, 1, 0] [0, 1, 1]; [0, 0, 0] [0, 0, 1] [0, 1, 0] [0, 2, 0]; [0, 0, 0] [0, 0, 1] [0, 1, 0] [1, 0, 1]; [0, 0, 0] [0, 0, 1] [0, 1, 0] [1, 1, 0]; [0, 0, 0] [0, 0, 1] [0, 1, 0] [2, 0, 0]; [0, 0, 0] [0, 0, 1] [0, 1, 1] [0, 0, 1]; [0, 0, 0] [0, 0, 1] [0, 1, 1] [0, 1, 0]; [0, 0, 0] [0, 0, 1] [0, 1, 1] [1, 0, 0]; [0, 0, 0] [0, 0, 1] [0, 1, 2] [0, 0, 0]; [0, 0, 0] [0, 0, 1] [0, 2, 0] [0, 0, 1]; [0, 0, 0] [0, 0, 1] [0, 2, 0] [0, 1, 0]; [0, 0, 0] [0, 0, 1] [0, 2, 0] [1, 0, 0]; [0, 0, 0] [0, 0, 1] [0, 2, 1] [0, 0, 0]; [0, 0, 0] [0, 0, 1] [0, 3, 0] [0, 0, 0]; [0, 0, 0] [0, 0, 1] [1, 0, 0] [0, 0, 2]; [0, 0, 0] [0, 0, 1] [1, 0, 0] [0, 1, 1]; [0, 0, 0] [0, 0, 1] [1, 0, 0] [0, 2, 0]; [0, 0, 0] [0, 0, 1] [1, 0, 0] [1, 0, 1]; [0, 0, 0] [0, 0, 1] [1, 0, 0] [1, 1, 0]; [0, 0, 0] [0, 0, 1] [1, 0, 0] [2, 0, 0]; [0, 0, 0] [0, 0, 1] [1, 0, 1] [0, 0, 1]; [0, 0, 0] [0, 0, 1] [1, 0, 1] [0, 1, 0]; [0, 0, 0] [0, 0, 1] [1, 0, 1] [1, 0, 0]; [0, 0, 0] [0, 0, 1] [1, 0, 2] [0, 0, 0]; [0, 0, 0] [0, 0, 1] [1, 1, 0] [0, 0, 1]; [0, 0, 0] [0, 0, 1] [1, 1, 0] [0, 1, 0]; [0, 0, 0] [0, 0, 1] [1, 1, 0] [1, 0, 0]; [0, 0, 0] [0, 0, 1] [1, 1, 1] [0, 0, 0]; [0, 0, 0] [0, 0, 1] [1, 2, 0] [0, 0, 0]; [0, 0, 0] [0, 0, 1] [2, 0, 0] [0, 0, 1]; [0, 0, 0] [0, 0, 1] [2, 0, 0] [0, 1, 0]; [0, 0, 0] [0, 0, 1] [2, 0, 0] [1, 0, 0]; [0, 0, 0] [0, 0, 1] [2, 0, 1] [0, 0, 0]; [0, 0, 0] [0, 0, 1] [2, 1, 0] [0, 0, 0]; [0, 0, 0] [0, 0, 1] [3, 0, 0] [0, 0, 0]; [0, 0, 0] [0, 0, 2] [0, 0, 0] [0, 0, 2]; [0, 0, 0] [0, 0, 2] [0, 0, 0] [0, 1, 1]; [0, 0, 0] [0, 0, 2] [0, 0, 0] [0, 2, 0]; [0, 0, 0] [0, 0, 2] [0, 0, 0] [1, 0, 1]; [0, 0, 0] [0, 0, 2] [0, 0, 0] [1, 1, 0]; [0, 0, 0] [0, 0, 2] [0, 0, 0] [2, 0, 0]; [0, 0, 0] [0, 0, 2] [0, 0, 1] [0, 0, 1]; [0, 0, 0] [0, 0, 2] [0, 0, 1] [0, 1, 0]; [0, 0, 0] [0, 0, 2] [0, 0, 1] [1, 0, 0]; [0, 0, 0] [0, 0, 2] [0, 0, 2] [0, 0, 0]; [0, 0, 0] [0, 0, 2] [0, 1, 0] [0, 0, 1]; [0, 0, 0] [0, 0, 2] [0, 1, 0] [0, 1, 0]; [0, 0, 0] [0, 0, 2] [0, 1, 0] [1, 0, 0]; [0, 0, 0] [0, 0, 2] [0, 1, 1] [0, 0, 0]; [0, 0, 0] [0, 0, 2] [0, 2, 0] [0, 0, 0]; [0, 0, 0] [0, 0, 2] [1, 0, 0] [0, 0, 1]; [0, 0, 0] [0, 0, 2] [1, 0, 0] [0, 1, 0]; [0, 0, 0] [0, 0, 2] [1, 0, 0] [1, 0, 0]; [0, 0, 0] [0, 0, 2] [1, 0, 1] [0, 0, 0]; [0, 0, 0] [0, 0, 2] [1, 1, 0] [0, 0, 0]; [0, 0, 0] [0, 0, 2] [2, 0, 0] [0, 0, 0]; [0, 0, 0] [0, 0, 3] [0, 0, 0] [0, 0, 1]; [0, 0, 0] [0, 0, 3] [0, 0, 0] [0, 1, 0]; [0, 0, 0] [0, 0, 3] [0, 0, 0] [1, 0, 0]; [0, 0, 0] [0, 0, 3] [0, 0, 1] [0, 0, 0]; [0, 0, 0] [0, 0, 3] [0, 1, 0] [0, 0, 0]; [0, 0, 0] [0, 0, 3] [1, 0, 0] [0, 0, 0]; [0, 0, 0] [0, 0, 4] [0, 0, 0] [0, 0, 0]; [0, 0, 0] [0, 1, 0] [0, 0, 0] [0, 0, 3]; [0, 0, 0] [0, 1, 0] [0, 0, 0] [0, 1, 2]; [0, 0, 0] [0, 1, 0] [0, 0, 0] [0, 2, 1]; [0, 0, 0] [0, 1, 0] [0, 0, 0] [0, 3, 0]; [0, 0, 0] [0, 1, 0] [0, 0, 0] [1, 0, 2]; [0, 0, 0] [0, 1, 0] [0, 0, 0] [1, 1, 1]; [0, 0, 0] [0, 1, 0] [0, 0, 0] [1, 2, 0]; [0, 0, 0] [0, 1, 0] [0, 0, 0] [2, 0, 1]; [0, 0, 0] [0, 1, 0] [0, 0, 0] [2, 1, 0]; [0, 0, 0] [0, 1, 0] [0, 0, 0] [3, 0, 0]; [0, 0, 0] [0, 1, 0] [0, 0, 1] [0, 0, 2]; [0, 0, 0] [0, 1, 0] [0, 0, 1] [0, 1, 1]; [0, 0, 0] [0, 1, 0] [0, 0, 1] [0, 2, 0]; [0, 0, 0] [0, 1, 0] [0, 0, 1] [1, 0, 1]; [0, 0, 0] [0, 1, 0] [0, 0, 1] [1, 1, 0]; [0, 0, 0] [0, 1, 0] [0, 0, 1] [2, 0, 0]; [0, 0, 0] [0, 1, 0] [0, 0, 2] [0, 0, 1]; [0, 0, 0] [0, 1, 0] [0, 0, 2] [0, 1, 0]; [0, 0, 0] [0, 1, 0] [0, 0, 2] [1, 0, 0]; [0, 0, 0] [0, 1, 0] [0, 0, 3] [0, 0, 0]; [0, 0, 0] [0, 1, 0] [0, 1, 0] [0, 0, 2]; [0, 0, 0] [0, 1, 0] [0, 1, 0] [0, 1, 1]; [0, 0, 0] [0, 1, 0] [0, 1, 0] [0, 2, 0]; [0, 0, 0] [0, 1, 0] [0, 1, 0] [1, 0, 1]; [0, 0, 0] [0, 1, 0] [0, 1, 0] [1, 1, 0]; [0, 0, 0] [0, 1, 0] [0, 1, 0] [2, 0, 0]; [0, 0, 0] [0, 1, 0] [0, 1, 1] [0, 0, 1]; [0, 0, 0] [0, 1, 0] [0, 1, 1] [0, 1, 0]; [0, 0, 0] [0, 1, 0] [0, 1, 1] [1, 0, 0]; [0, 0, 0] [0, 1, 0] [0, 1, 2] [0, 0, 0]; [0, 0, 0] [0, 1, 0] [0, 2, 0] [0, 0, 1]; [0, 0, 0] [0, 1, 0] [0, 2, 0] [0, 1, 0]; [0, 0, 0] [0, 1, 0] [0, 2, 0] [1, 0, 0]; [0, 0, 0] [0, 1, 0] [0, 2, 1] [0, 0, 0]; [0, 0, 0] [0, 1, 0] [0, 3, 0] [0, 0, 0]; [0, 0, 0] [0, 1, 0] [1, 0, 0] [0, 0, 2]; [0, 0, 0] [0, 1, 0] [1, 0, 0] [0, 1, 1]; [0, 0, 0] [0, 1, 0] [1, 0, 0] [0, 2, 0]; [0, 0, 0] [0, 1, 0] [1, 0, 0] [1, 0, 1]; [0, 0, 0] [0, 1, 0] [1, 0, 0] [1, 1, 0]; [0, 0, 0] [0, 1, 0] [1, 0, 0] [2, 0, 0]; [0, 0, 0] [0, 1, 0] [1, 0, 1] [0, 0, 1]; [0, 0, 0] [0, 1, 0] [1, 0, 1] [0, 1, 0]; [0, 0, 0] [0, 1, 0] [1, 0, 1] [1, 0, 0]; [0, 0, 0] [0, 1, 0] [1, 0, 2] [0, 0, 0]; [0, 0, 0] [0, 1, 0] [1, 1, 0] [0, 0, 1]; [0, 0, 0] [0, 1, 0] [1, 1, 0] [0, 1, 0]; [0, 0, 0] [0, 1, 0] [1, 1, 0] [1, 0, 0]; [0, 0, 0] [0, 1, 0] [1, 1, 1] [0, 0, 0]; [0, 0, 0] [0, 1, 0] [1, 2, 0] [0, 0, 0]; [0, 0, 0] [0, 1, 0] [2, 0, 0] [0, 0, 1]; [0, 0, 0] [0, 1, 0] [2, 0, 0] [0, 1, 0]; [0, 0, 0] [0, 1, 0] [2, 0, 0] [1, 0, 0]; [0, 0, 0] [0, 1, 0] [2, 0, 1] [0, 0, 0]; [0, 0, 0] [0, 1, 0] [2, 1, 0] [0, 0, 0]; [0, 0, 0] [0, 1, 0] [3, 0, 0] [0, 0, 0]; [0, 0, 0] [0, 1, 1] [0, 0, 0] [0, 0, 2]; [0, 0, 0] [0, 1, 1] [0, 0, 0] [0, 1, 1]; [0, 0, 0] [0, 1, 1] [0, 0, 0] [0, 2, 0]; [0, 0, 0] [0, 1, 1] [0, 0, 0] [1, 0, 1]; [0, 0, 0] [0, 1, 1] [0, 0, 0] [1, 1, 0]; [0, 0, 0] [0, 1, 1] [0, 0, 0] [2, 0, 0]; [0, 0, 0] [0, 1, 1] [0, 0, 1] [0, 0, 1]; [0, 0, 0] [0, 1, 1] [0, 0, 1] [0, 1, 0]; [0, 0, 0] [0, 1, 1] [0, 0, 1] [1, 0, 0]; [0, 0, 0] [0, 1, 1] [0, 0, 2] [0, 0, 0]; [0, 0, 0] [0, 1, 1] [0, 1, 0] [0, 0, 1]; [0, 0, 0] [0, 1, 1] [0, 1, 0] [0, 1, 0]; [0, 0, 0] [0, 1, 1] [0, 1, 0] [1, 0, 0]; [0, 0, 0] [0, 1, 1] [0, 1, 1] [0, 0, 0]; [0, 0, 0] [0, 1, 1] [0, 2, 0] [0, 0, 0]; [0, 0, 0] [0, 1, 1] [1, 0, 0] [0, 0, 1]; [0, 0, 0] [0, 1, 1] [1, 0, 0] [0, 1, 0]; [0, 0, 0] [0, 1, 1] [1, 0, 0] [1, 0, 0]; [0, 0, 0] [0, 1, 1] [1, 0, 1] [0, 0, 0]; [0, 0, 0] [0, 1, 1] [1, 1, 0] [0, 0, 0]; [0, 0, 0] [0, 1, 1] [2, 0, 0] [0, 0, 0]; [0, 0, 0] [0, 1, 2] [0, 0, 0] [0, 0, 1]; [0, 0, 0] [0, 1, 2] [0, 0, 0] [0, 1, 0]; [0, 0, 0] [0, 1, 2] [0, 0, 0] [1, 0, 0]; [0, 0, 0] [0, 1, 2] [0, 0, 1] [0, 0, 0]; [0, 0, 0] [0, 1, 2] [0, 1, 0] [0, 0, 0]; [0, 0, 0] [0, 1, 2] [1, 0, 0] [0, 0, 0]; [0, 0, 0] [0, 1, 3] [0, 0, 0] [0, 0, 0]; [0, 0, 0] [0, 2, 0] [0, 0, 0] [0, 0, 2]; [0, 0, 0] [0, 2, 0] [0, 0, 0] [0, 1, 1]; [0, 0, 0] [0, 2, 0] [0, 0, 0] [0, 2, 0]; [0, 0, 0] [0, 2, 0] [0, 0, 0] [1, 0, 1]; [0, 0, 0] [0, 2, 0] [0, 0, 0] [1, 1, 0]; [0, 0, 0] [0, 2, 0] [0, 0, 0] [2, 0, 0]; [0, 0, 0] [0, 2, 0] [0, 0, 1] [0, 0, 1]; [0, 0, 0] [0, 2, 0] [0, 0, 1] [0, 1, 0]; [0, 0, 0] [0, 2, 0] [0, 0, 1] [1, 0, 0]; [0, 0, 0] [0, 2, 0] [0, 0, 2] [0, 0, 0]; [0, 0, 0] [0, 2, 0] [0, 1, 0] [0, 0, 1]; [0, 0, 0] [0, 2, 0] [0, 1, 0] [0, 1, 0]; [0, 0, 0] [0, 2, 0] [0, 1, 0] [1, 0, 0]; [0, 0, 0] [0, 2, 0] [0, 1, 1] [0, 0, 0]; [0, 0, 0] [0, 2, 0] [0, 2, 0] [0, 0, 0]; [0, 0, 0] [0, 2, 0] [1, 0, 0] [0, 0, 1]; [0, 0, 0] [0, 2, 0] [1, 0, 0] [0, 1, 0]; [0, 0, 0] [0, 2, 0] [1, 0, 0] [1, 0, 0]; [0, 0, 0] [0, 2, 0] [1, 0, 1] [0, 0, 0]; [0, 0, 0] [0, 2, 0] [1, 1, 0] [0, 0, 0]; [0, 0, 0] [0, 2, 0] [2, 0, 0] [0, 0, 0]; [0, 0, 0] [0, 2, 1] [0, 0, 0] [0, 0, 1]; [0, 0, 0] [0, 2, 1] [0, 0, 0] [0, 1, 0]; [0, 0, 0] [0, 2, 1] [0, 0, 0] [1, 0, 0]; [0, 0, 0] [0, 2, 1] [0, 0, 1] [0, 0, 0]; [0, 0, 0] [0, 2, 1] [0, 1, 0] [0, 0, 0]; [0, 0, 0] [0, 2, 1] [1, 0, 0] [0, 0, 0]; [0, 0, 0] [0, 2, 2] [0, 0, 0] [0, 0, 0]; [0, 0, 0] [0, 3, 0] [0, 0, 0] [0, 0, 1]; [0, 0, 0] [0, 3, 0] [0, 0, 0] [0, 1, 0]; [0, 0, 0] [0, 3, 0] [0, 0, 0] [1, 0, 0]; [0, 0, 0] [0, 3, 0] [0, 0, 1] [0, 0, 0]; [0, 0, 0] [0, 3, 0] [0, 1, 0] [0, 0, 0]; [0, 0, 0] [0, 3, 0] [1, 0, 0] [0, 0, 0]; [0, 0, 0] [0, 3, 1] [0, 0, 0] [0, 0, 0]; [0, 0, 0] [0, 4, 0] [0, 0, 0] [0, 0, 0]; [0, 0, 0] [1, 0, 0] [0, 0, 0] [0, 0, 3]; [0, 0, 0] [1, 0, 0] [0, 0, 0] [0, 1, 2]; [0, 0, 0] [1, 0, 0] [0, 0, 0] [0, 2, 1]; [0, 0, 0] [1, 0, 0] [0, 0, 0] [0, 3, 0]; [0, 0, 0] [1, 0, 0] [0, 0, 0] [1, 0, 2]; [0, 0, 0] [1, 0, 0] [0, 0, 0] [1, 1, 1]; [0, 0, 0] [1, 0, 0] [0, 0, 0] [1, 2, 0]; [0, 0, 0] [1, 0, 0] [0, 0, 0] [2, 0, 1]; [0, 0, 0] [1, 0, 0] [0, 0, 0] [2, 1, 0]; [0, 0, 0] [1, 0, 0] [0, 0, 0] [3, 0, 0]; [0, 0, 0] [1, 0, 0] [0, 0, 1] [0, 0, 2]; [0, 0, 0] [1, 0, 0] [0, 0, 1] [0, 1, 1]; [0, 0, 0] [1, 0, 0] [0, 0, 1] [0, 2, 0]; [0, 0, 0] [1, 0, 0] [0, 0, 1] [1, 0, 1]; [0, 0, 0] [1, 0, 0] [0, 0, 1] [1, 1, 0]; [0, 0, 0] [1, 0, 0] [0, 0, 1] [2, 0, 0]; [0, 0, 0] [1, 0, 0] [0, 0, 2] [0, 0, 1]; [0, 0, 0] [1, 0, 0] [0, 0, 2] [0, 1, 0]; [0, 0, 0] [1, 0, 0] [0, 0, 2] [1, 0, 0]; [0, 0, 0] [1, 0, 0] [0, 0, 3] [0, 0, 0]; [0, 0, 0] [1, 0, 0] [0, 1, 0] [0, 0, 2]; [0, 0, 0] [1, 0, 0] [0, 1, 0] [0, 1, 1]; [0, 0, 0] [1, 0, 0] [0, 1, 0] [0, 2, 0]; [0, 0, 0] [1, 0, 0] [0, 1, 0] [1, 0, 1]; [0, 0, 0] [1, 0, 0] [0, 1, 0] [1, 1, 0]; [0, 0, 0] [1, 0, 0] [0, 1, 0] [2, 0, 0]; [0, 0, 0] [1, 0, 0] [0, 1, 1] [0, 0, 1]; [0, 0, 0] [1, 0, 0] [0, 1, 1] [0, 1, 0]; [0, 0, 0] [1, 0, 0] [0, 1, 1] [1, 0, 0]; [0, 0, 0] [1, 0, 0] [0, 1, 2] [0, 0, 0]; [0, 0, 0] [1, 0, 0] [0, 2, 0] [0, 0, 1]; [0, 0, 0] [1, 0, 0] [0, 2, 0] [0, 1, 0]; [0, 0, 0] [1, 0, 0] [0, 2, 0] [1, 0, 0]; [0, 0, 0] [1, 0, 0] [0, 2, 1] [0, 0, 0]; [0, 0, 0] [1, 0, 0] [0, 3, 0] [0, 0, 0]; [0, 0, 0] [1, 0, 0] [1, 0, 0] [0, 0, 2]; [0, 0, 0] [1, 0, 0] [1, 0, 0] [0, 1, 1]; [0, 0, 0] [1, 0, 0] [1, 0, 0] [0, 2, 0]; [0, 0, 0] [1, 0, 0] [1, 0, 0] [1, 0, 1]; [0, 0, 0] [1, 0, 0] [1, 0, 0] [1, 1, 0]; [0, 0, 0] [1, 0, 0] [1, 0, 0] [2, 0, 0]; [0, 0, 0] [1, 0, 0] [1, 0, 1] [0, 0, 1]; [0, 0, 0] [1, 0, 0] [1, 0, 1] [0, 1, 0]; [0, 0, 0] [1, 0, 0] [1, 0, 1] [1, 0, 0]; [0, 0, 0] [1, 0, 0] [1, 0, 2] [0, 0, 0]; [0, 0, 0] [1, 0, 0] [1, 1, 0] [0, 0, 1]; [0, 0, 0] [1, 0, 0] [1, 1, 0] [0, 1, 0]; [0, 0, 0] [1, 0, 0] [1, 1, 0] [1, 0, 0]; [0, 0, 0] [1, 0, 0] [1, 1, 1] [0, 0, 0]; [0, 0, 0] [1, 0, 0] [1, 2, 0] [0, 0, 0]; [0, 0, 0] [1, 0, 0] [2, 0, 0] [0, 0, 1]; [0, 0, 0] [1, 0, 0] [2, 0, 0] [0, 1, 0]; [0, 0, 0] [1, 0, 0] [2, 0, 0] [1, 0, 0]; [0, 0, 0] [1, 0, 0] [2, 0, 1] [0, 0, 0]; [0, 0, 0] [1, 0, 0] [2, 1, 0] [0, 0, 0]; [0, 0, 0] [1, 0, 0] [3, 0, 0] [0, 0, 0]; [0, 0, 0] [1, 0, 1] [0, 0, 0] [0, 0, 2]; [0, 0, 0] [1, 0, 1] [0, 0, 0] [0, 1, 1]; [0, 0, 0] [1, 0, 1] [0, 0, 0] [0, 2, 0]; [0, 0, 0] [1, 0, 1] [0, 0, 0] [1, 0, 1]; [0, 0, 0] [1, 0, 1] [0, 0, 0] [1, 1, 0]; [0, 0, 0] [1, 0, 1] [0, 0, 0] [2, 0, 0]; [0, 0, 0] [1, 0, 1] [0, 0, 1] [0, 0, 1]; [0, 0, 0] [1, 0, 1] [0, 0, 1] [0, 1, 0]; [0, 0, 0] [1, 0, 1] [0, 0, 1] [1, 0, 0]; [0, 0, 0] [1, 0, 1] [0, 0, 2] [0, 0, 0]; [0, 0, 0] [1, 0, 1] [0, 1, 0] [0, 0, 1]; [0, 0, 0] [1, 0, 1] [0, 1, 0] [0, 1, 0]; [0, 0, 0] [1, 0, 1] [0, 1, 0] [1, 0, 0]; [0, 0, 0] [1, 0, 1] [0, 1, 1] [0, 0, 0]; [0, 0, 0] [1, 0, 1] [0, 2, 0] [0, 0, 0]; [0, 0, 0] [1, 0, 1] [1, 0, 0] [0, 0, 1]; [0, 0, 0] [1, 0, 1] [1, 0, 0] [0, 1, 0]; [0, 0, 0] [1, 0, 1] [1, 0, 0] [1, 0, 0]; [0, 0, 0] [1, 0, 1] [1, 0, 1] [0, 0, 0]; [0, 0, 0] [1, 0, 1] [1, 1, 0] [0, 0, 0]; [0, 0, 0] [1, 0, 1] [2, 0, 0] [0, 0, 0]; [0, 0, 0] [1, 0, 2] [0, 0, 0] [0, 0, 1]; [0, 0, 0] [1, 0, 2] [0, 0, 0] [0, 1, 0]; [0, 0, 0] [1, 0, 2] [0, 0, 0] [1, 0, 0]; [0, 0, 0] [1, 0, 2] [0, 0, 1] [0, 0, 0]; [0, 0, 0] [1, 0, 2] [0, 1, 0] [0, 0, 0]; [0, 0, 0] [1, 0, 2] [1, 0, 0] [0, 0, 0]; [0, 0, 0] [1, 0, 3] [0, 0, 0] [0, 0, 0]; [0, 0, 0] [1, 1, 0] [0, 0, 0] [0, 0, 2]; [0, 0, 0] [1, 1, 0] [0, 0, 0] [0, 1, 1]; [0, 0, 0] [1, 1, 0] [0, 0, 0] [0, 2, 0]; [0, 0, 0] [1, 1, 0] [0, 0, 0] [1, 0, 1]; [0, 0, 0] [1, 1, 0] [0, 0, 0] [1, 1, 0]; [0, 0, 0] [1, 1, 0] [0, 0, 0] [2, 0, 0]; [0, 0, 0] [1, 1, 0] [0, 0, 1] [0, 0, 1]; [0, 0, 0] [1, 1, 0] [0, 0, 1] [0, 1, 0]; [0, 0, 0] [1, 1, 0] [0, 0, 1] [1, 0, 0]; [0, 0, 0] [1, 1, 0] [0, 0, 2] [0, 0, 0]; [0, 0, 0] [1, 1, 0] [0, 1, 0] [0, 0, 1]; [0, 0, 0] [1, 1, 0] [0, 1, 0] [0, 1, 0]; [0, 0, 0] [1, 1, 0] [0, 1, 0] [1, 0, 0]; [0, 0, 0] [1, 1, 0] [0, 1, 1] [0, 0, 0]; [0, 0, 0] [1, 1, 0] [0, 2, 0] [0, 0, 0]; [0, 0, 0] [1, 1, 0] [1, 0, 0] [0, 0, 1]; [0, 0, 0] [1, 1, 0] [1, 0, 0] [0, 1, 0]; [0, 0, 0] [1, 1, 0] [1, 0, 0] [1, 0, 0]; [0, 0, 0] [1, 1, 0] [1, 0, 1] [0, 0, 0]; [0, 0, 0] [1, 1, 0] [1, 1, 0] [0, 0, 0]; [0, 0, 0] [1, 1, 0] [2, 0, 0] [0, 0, 0]; [0, 0, 0] [1, 1, 1] [0, 0, 0] [0, 0, 1]; [0, 0, 0] [1, 1, 1] [0, 0, 0] [0, 1, 0]; [0, 0, 0] [1, 1, 1] [0, 0, 0] [1, 0, 0]; [0, 0, 0] [1, 1, 1] [0, 0, 1] [0, 0, 0]; [0, 0, 0] [1, 1, 1] [0, 1, 0] [0, 0, 0]; [0, 0, 0] [1, 1, 1] [1, 0, 0] [0, 0, 0]; [0, 0, 0] [1, 1, 2] [0, 0, 0] [0, 0, 0]; [0, 0, 0] [1, 2, 0] [0, 0, 0] [0, 0, 1]; [0, 0, 0] [1, 2, 0] [0, 0, 0] [0, 1, 0]; [0, 0, 0] [1, 2, 0] [0, 0, 0] [1, 0, 0]; [0, 0, 0] [1, 2, 0] [0, 0, 1] [0, 0, 0]; [0, 0, 0] [1, 2, 0] [0, 1, 0] [0, 0, 0]; [0, 0, 0] [1, 2, 0] [1, 0, 0] [0, 0, 0]; [0, 0, 0] [1, 2, 1] [0, 0, 0] [0, 0, 0]; [0, 0, 0] [1, 3, 0] [0, 0, 0] [0, 0, 0]; [0, 0, 0] [2, 0, 0] [0, 0, 0] [0, 0, 2]; [0, 0, 0] [2, 0, 0] [0, 0, 0] [0, 1, 1]; [0, 0, 0] [2, 0, 0] [0, 0, 0] [0, 2, 0]; [0, 0, 0] [2, 0, 0] [0, 0, 0] [1, 0, 1]; [0, 0, 0] [2, 0, 0] [0, 0, 0] [1, 1, 0]]"
     ]
    },
    {
     "name": "stdout",
     "output_type": "stream",
     "text": [
      "\n"
     ]
    },
    {
     "data": {
      "text/plain": [
       "220×3 Matrix{Vector{Int64}}:\n",
       " [0, 0, 0]  [0, 0, 0]  [0, 0, 4]\n",
       " [0, 0, 0]  [0, 0, 0]  [0, 1, 3]\n",
       " [0, 0, 0]  [0, 0, 0]  [0, 2, 2]\n",
       " [0, 0, 0]  [0, 0, 0]  [0, 3, 1]\n",
       " [0, 0, 0]  [0, 0, 0]  [0, 4, 0]\n",
       " [0, 0, 0]  [0, 0, 0]  [1, 0, 3]\n",
       " [0, 0, 0]  [0, 0, 0]  [1, 1, 2]\n",
       " [0, 0, 0]  [0, 0, 0]  [1, 2, 1]\n",
       " [0, 0, 0]  [0, 0, 0]  [1, 3, 0]\n",
       " [0, 0, 0]  [0, 0, 0]  [2, 0, 2]\n",
       " ⋮                     \n",
       " [0, 1, 0]  [0, 0, 0]  [0, 1, 2]\n",
       " [0, 1, 0]  [0, 0, 0]  [0, 2, 1]\n",
       " [0, 1, 0]  [0, 0, 0]  [0, 3, 0]\n",
       " [0, 1, 0]  [0, 0, 0]  [1, 0, 2]\n",
       " [0, 1, 0]  [0, 0, 0]  [1, 1, 1]\n",
       " [0, 1, 0]  [0, 0, 0]  [1, 2, 0]\n",
       " [0, 1, 0]  [0, 0, 0]  [2, 0, 1]\n",
       " [0, 1, 0]  [0, 0, 0]  [2, 1, 0]\n",
       " [0, 1, 0]  [0, 0, 0]  [3, 0, 0]"
      ]
     },
     "metadata": {},
     "output_type": "display_data"
    }
   ],
   "source": [
    "# 4 bubbles, each bubble with 3 indices that sum up to 4.\n",
    "num_indices = 3\n",
    "num_bubbles = 4\n",
    "num_vars = num_indices*num_bubbles\n",
    "target_sum = 4\n",
    "\n",
    "sols = find_integer_solutions(num_vars, target_sum);\n",
    "num_sols = floor(Int, factorial(num_vars + target_sum - 1)/(factorial(num_vars)*factorial(target_sum - 1)))\n",
    "\n",
    "# reshape_sols(sols, target_sum, num_bubbles, num_indices = 3)\n",
    "\n",
    "vecs = reshape_sols(sols, target_sum, num_bubbles)\n",
    "\n",
    "\n",
    "@show size(vecs) \n",
    "@show num_sols\n",
    "@show vecs"
   ]
  },
  {
   "attachments": {},
   "cell_type": "markdown",
   "metadata": {},
   "source": [
    "### Diagram factor"
   ]
  },
  {
   "cell_type": "code",
   "execution_count": 146,
   "metadata": {},
   "outputs": [
    {
     "data": {
      "text/plain": [
       "diagram_correction (generic function with 1 method)"
      ]
     },
     "metadata": {},
     "output_type": "display_data"
    }
   ],
   "source": [
    "function diagram_correction(ω)\n",
    "    # Gets: ω is a list of tuples, including the frequency values for each bubble\n",
    "    # e.g for a diagram d = [(3, 2), (2, 1)] we would ω = [(μ1, ν1), (μ2, ν2)] where μi and νi are vectors containing mode values.\n",
    "\t# Returns: a symbolic expression for the diagram correction\n",
    "    @cnumbers τ\n",
    "    f(x) = exp(-1/2*τ^2*x^2)\n",
    "\n",
    "    # helper function for the innermost sum\n",
    "    function norm_fac(v, j)\n",
    "        if j == 0\n",
    "            return 0\n",
    "        else \n",
    "            return (j/sum(v[1:j]))\n",
    "        end\n",
    "    end\n",
    "\n",
    "    # find all singularities\n",
    "    num_bubbles = length(ω)\n",
    "    (s_list, stag_list) = find_all_poles(ω)\n",
    "    total_num_poles = sum([length(su) + length(sl) for (su, sl) in (s_list, stag_list)])\n",
    "\n",
    "    bubble_factors = []                                                 # array holding the terms of the outer sum\n",
    "    l_tot = 0\n",
    "    unl_list = find_integer_solutions(3*length(ω), total_num_poles)     # first sum (n+u+l)_i = total_num_poles\n",
    "    for (i, (μ, ν)) in enumerate(ω)\n",
    "        l = length(μ)\n",
    "        r = length(ν)\n",
    "        l_tot += l\n",
    "        @show (l, r)\n",
    "        \n",
    "        s = s_list[i, :] \n",
    "        stag = stag_list[i, :]                    # singular indices for current bubble\n",
    "        num_poles = length(s) + length(stag)      # total number of poles\n",
    "\n",
    "        ju_list = filter(x -> !(x in s), 1:l)\n",
    "        jl_list = filter(x -> !(x in stag), 1:r)  # non-singular indices\n",
    "        \n",
    "        # finite part of the bubble factor (not including the expansion terms)\n",
    "        prefac = -f(sum(μ) + sum(ν))/(vec_factorial(μ, include_poles = false)*vec_factorial(ν, include_poles=false))\n",
    "        \n",
    "        # sum over (n_i + u_i + l_i) = total_num_poles\n",
    "        sols = find_integer_solutions(3*num_bubbles, total_num_poles)\n",
    "        unl_list = reshape_sols(sols, total_num_poles, length(ω))\n",
    "        inner_terms = []\n",
    "        for (idx, (n, u, d)) in enumerate(unl_list[:, i])\n",
    "            # first inner sum\n",
    "            analytic_terms = [taylor_coeff(n, k)/factorial(n)*τ^(2*(n - k))*(sum(μ) + sum(ν))^(n - 2*k)*(d + r)^n for k = 0:floor(Int, n/2)]\n",
    "\n",
    "            # second inner sum\n",
    "            # mu_list and ml_list hold vectors of mu values\n",
    "            pole_terms = []\n",
    "            mu_list = find_integer_solutions(length(ju_list), u)\n",
    "            ml_list = find_integer_solutions(length(jl_list), d)\n",
    "\n",
    "            # denominator normalization factor\n",
    "            denominator = prod([su*sl for (su, sl) in product(s_list[i], stag_list[i])])\n",
    "            \n",
    "            # numerator factors\n",
    "            numerator = []\n",
    "            for (mu_vec, ml_vec) in product(mu_list, ml_list)   # for each solution vector\n",
    "                for (mu, ml) in product(mu_vec, ml_vec)         # for each value in the solution vector   \n",
    "                    for (ju, jl) in product(ju_list, jl_list)   # for each non-singular factor\n",
    "                        idx_u = indexin(ju, ju_list)[1]         # pick up the corresponding index for m_{Ju}\n",
    "                        idx_l = indexin(jl, jl_list)[1]\n",
    "                        push!(numerator, (norm_fac(μ, ju))^mu_vec[idx_u]*(norm_fac(ν, jl))^ml_vec[idx_l])\n",
    "                    end\n",
    "                    push!(pole_terms, prod(numerator)/prod(denominator))\n",
    "                end\n",
    "            end\n",
    "            push!(inner_terms, sum(analytic_terms)*sum(pole_terms))\n",
    "        end\n",
    "        push!(bubble_factors, prefac*sum(inner_terms))\n",
    "    end\n",
    "    return (-1)^l_tot*prod(bubble_factors)\n",
    "end"
   ]
  },
  {
   "cell_type": "code",
   "execution_count": 145,
   "metadata": {},
   "outputs": [
    {
     "name": "stdout",
     "output_type": "stream",
     "text": [
      "ju_list = [2]\n",
      "jl_list = [1, 3, 4]\n",
      "mu_list = Any[[3]]\n",
      "ml_list = Any[[0, 0, 4], [0, 1, 3], [0, 2, 2], [0, 3, 1], [0, 4, 0], [1, 0, 3], [1, 1, 2], [1, 2, 1], [1, 3, 0], [2, 0, 2], [2, 1, 1], [2, 2, 0], [3, 0, 1], [3, 1, 0], [4, 0, 0]]\n",
      "(ju, jl) = (2, 1)\n",
      "(mu_vec[idx_u], idx_u) = (3, 1)\n",
      "(ml_vec[idx_l], idx_l) = (0, 1)\n",
      "(ju, jl) = (2, 3)\n",
      "(mu_vec[idx_u], idx_u) = (3, 1)\n",
      "(ml_vec[idx_l], idx_l) = (0, 2)\n",
      "(ju, jl) = (2, 4)\n",
      "(mu_vec[idx_u], idx_u) = (3, 1)\n",
      "(ml_vec[idx_l], idx_l) = (4, 3)\n",
      "(ju, jl) = (2, 1)\n",
      "(mu_vec[idx_u], idx_u) = (3, 1)\n",
      "(ml_vec[idx_l], idx_l) = (0, 1)\n",
      "(ju, jl) = (2, 3)\n",
      "(mu_vec[idx_u], idx_u) = (3, 1)\n",
      "(ml_vec[idx_l], idx_l) = (0, 2)\n",
      "(ju, jl) = (2, 4)\n",
      "(mu_vec[idx_u], idx_u) = (3, 1)\n",
      "(ml_vec[idx_l], idx_l) = (4, 3)\n",
      "(ju, jl) = (2, 1)\n",
      "(mu_vec[idx_u], idx_u) = (3, 1)\n",
      "(ml_vec[idx_l], idx_l) = (0, 1)\n",
      "(ju, jl) = (2, 3)\n",
      "(mu_vec[idx_u], idx_u) = (3, 1)\n",
      "(ml_vec[idx_l], idx_l) = (0, 2)\n",
      "(ju, jl) = (2, 4)\n",
      "(mu_vec[idx_u], idx_u) = (3, 1)\n",
      "(ml_vec[idx_l], idx_l) = (4, 3)\n",
      "(ju, jl) = (2, 1)\n",
      "(mu_vec[idx_u], idx_u) = (3, 1)\n",
      "(ml_vec[idx_l], idx_l) = (0, 1)\n",
      "(ju, jl) = (2, 3)\n",
      "(mu_vec[idx_u], idx_u) = (3, 1)\n",
      "(ml_vec[idx_l], idx_l) = (1, 2)\n",
      "(ju, jl) = (2, 4)\n",
      "(mu_vec[idx_u], idx_u) = (3, 1)\n",
      "(ml_vec[idx_l], idx_l) = (3, 3)\n",
      "(ju, jl) = (2, 1)\n",
      "(mu_vec[idx_u], idx_u) = (3, 1)\n",
      "(ml_vec[idx_l], idx_l) = (0, 1)\n",
      "(ju, jl) = (2, 3)\n",
      "(mu_vec[idx_u], idx_u) = (3, 1)\n",
      "(ml_vec[idx_l], idx_l) = (1, 2)\n",
      "(ju, jl) = (2, 4)\n",
      "(mu_vec[idx_u], idx_u) = (3, 1)\n",
      "(ml_vec[idx_l], idx_l) = (3, 3)\n",
      "(ju, jl) = (2, 1)\n",
      "(mu_vec[idx_u], idx_u) = (3, 1)\n",
      "(ml_vec[idx_l], idx_l) = (0, 1)\n",
      "(ju, jl) = (2, 3)\n",
      "(mu_vec[idx_u], idx_u) = (3, 1)\n",
      "(ml_vec[idx_l], idx_l) = (1, 2)\n",
      "(ju, jl) = (2, 4)\n",
      "(mu_vec[idx_u], idx_u) = (3, 1)\n",
      "(ml_vec[idx_l], idx_l) = (3, 3)\n",
      "(ju, jl) = (2, 1)\n",
      "(mu_vec[idx_u], idx_u) = (3, 1)\n",
      "(ml_vec[idx_l], idx_l) = (0, 1)\n",
      "(ju, jl) = (2, 3)\n",
      "(mu_vec[idx_u], idx_u) = (3, 1)\n",
      "(ml_vec[idx_l], idx_l) = (2, 2)\n",
      "(ju, jl) = (2, 4)\n",
      "(mu_vec[idx_u], idx_u) = (3, 1)\n",
      "(ml_vec[idx_l], idx_l) = (2, 3)\n",
      "(ju, jl) = (2, 1)\n",
      "(mu_vec[idx_u], idx_u) = (3, 1)\n",
      "(ml_vec[idx_l], idx_l) = (0, 1)\n",
      "(ju, jl) = (2, 3)\n",
      "(mu_vec[idx_u], idx_u) = (3, 1)\n",
      "(ml_vec[idx_l], idx_l) = (2, 2)\n",
      "(ju, jl) = (2, 4)\n",
      "(mu_vec[idx_u], idx_u) = (3, 1)\n",
      "(ml_vec[idx_l], idx_l) = (2, 3)\n",
      "(ju, jl) = (2, 1)\n",
      "(mu_vec[idx_u], idx_u) = (3, 1)\n",
      "(ml_vec[idx_l], idx_l) = (0, 1)\n",
      "(ju, jl) = (2, 3)\n",
      "(mu_vec[idx_u], idx_u) = (3, 1)\n",
      "(ml_vec[idx_l], idx_l) = (2, 2)\n",
      "(ju, jl) = (2, 4)\n",
      "(mu_vec[idx_u], idx_u) = (3, 1)\n",
      "(ml_vec[idx_l], idx_l) = (2, 3)\n",
      "(ju, jl) = (2, 1)\n",
      "(mu_vec[idx_u], idx_u) = (3, 1)\n",
      "(ml_vec[idx_l], idx_l) = (0, 1)\n",
      "(ju, jl) = (2, 3)\n",
      "(mu_vec[idx_u], idx_u) = (3, 1)\n",
      "(ml_vec[idx_l], idx_l) = (3, 2)\n",
      "(ju, jl) = (2, 4)\n",
      "(mu_vec[idx_u], idx_u) = (3, 1)\n",
      "(ml_vec[idx_l], idx_l) = (1, 3)\n",
      "(ju, jl) = (2, 1)\n",
      "(mu_vec[idx_u], idx_u) = (3, 1)\n",
      "(ml_vec[idx_l], idx_l) = (0, 1)\n",
      "(ju, jl) = (2, 3)\n",
      "(mu_vec[idx_u], idx_u) = (3, 1)\n",
      "(ml_vec[idx_l], idx_l) = (3, 2)\n",
      "(ju, jl) = (2, 4)\n",
      "(mu_vec[idx_u], idx_u) = (3, 1)\n",
      "(ml_vec[idx_l], idx_l) = (1, 3)\n",
      "(ju, jl) = (2, 1)\n",
      "(mu_vec[idx_u], idx_u) = (3, 1)\n",
      "(ml_vec[idx_l], idx_l) = (0, 1)\n",
      "(ju, jl) = (2, 3)\n",
      "(mu_vec[idx_u], idx_u) = (3, 1)\n",
      "(ml_vec[idx_l], idx_l) = (3, 2)\n",
      "(ju, jl) = (2, 4)\n",
      "(mu_vec[idx_u], idx_u) = (3, 1)\n",
      "(ml_vec[idx_l], idx_l) = (1, 3)\n",
      "(ju, jl) = (2, 1)\n",
      "(mu_vec[idx_u], idx_u) = (3, 1)\n",
      "(ml_vec[idx_l], idx_l) = (0, 1)\n",
      "(ju, jl) = (2, 3)\n",
      "(mu_vec[idx_u], idx_u) = (3, 1)\n",
      "(ml_vec[idx_l], idx_l) = (4, 2)\n",
      "(ju, jl) = (2, 4)\n",
      "(mu_vec[idx_u], idx_u) = (3, 1)\n",
      "(ml_vec[idx_l], idx_l) = (0, 3)\n",
      "(ju, jl) = (2, 1)\n",
      "(mu_vec[idx_u], idx_u) = (3, 1)\n",
      "(ml_vec[idx_l], idx_l) = (0, 1)\n",
      "(ju, jl) = (2, 3)\n",
      "(mu_vec[idx_u], idx_u) = (3, 1)\n",
      "(ml_vec[idx_l], idx_l) = (4, 2)\n",
      "(ju, jl) = (2, 4)\n",
      "(mu_vec[idx_u], idx_u) = (3, 1)\n",
      "(ml_vec[idx_l], idx_l) = (0, 3)\n",
      "(ju, jl) = (2, 1)\n",
      "(mu_vec[idx_u], idx_u) = (3, 1)\n",
      "(ml_vec[idx_l], idx_l) = (0, 1)\n",
      "(ju, jl) = (2, 3)\n",
      "(mu_vec[idx_u], idx_u) = (3, 1)\n",
      "(ml_vec[idx_l], idx_l) = (4, 2)\n",
      "(ju, jl) = (2, 4)\n",
      "(mu_vec[idx_u], idx_u) = (3, 1)\n",
      "(ml_vec[idx_l], idx_l) = (0, 3)\n",
      "(ju, jl) = (2, 1)\n",
      "(mu_vec[idx_u], idx_u) = (3, 1)\n",
      "(ml_vec[idx_l], idx_l) = (1, 1)\n",
      "(ju, jl) = (2, 3)\n",
      "(mu_vec[idx_u], idx_u) = (3, 1)\n",
      "(ml_vec[idx_l], idx_l) = (0, 2)\n",
      "(ju, jl) = (2, 4)\n",
      "(mu_vec[idx_u], idx_u) = (3, 1)\n",
      "(ml_vec[idx_l], idx_l) = (3, 3)\n",
      "(ju, jl) = (2, 1)\n",
      "(mu_vec[idx_u], idx_u) = (3, 1)\n",
      "(ml_vec[idx_l], idx_l) = (1, 1)\n",
      "(ju, jl) = (2, 3)\n",
      "(mu_vec[idx_u], idx_u) = (3, 1)\n",
      "(ml_vec[idx_l], idx_l) = (0, 2)\n",
      "(ju, jl) = (2, 4)\n",
      "(mu_vec[idx_u], idx_u) = (3, 1)\n",
      "(ml_vec[idx_l], idx_l) = (3, 3)\n",
      "(ju, jl) = (2, 1)\n",
      "(mu_vec[idx_u], idx_u) = (3, 1)\n",
      "(ml_vec[idx_l], idx_l) = (1, 1)\n",
      "(ju, jl) = (2, 3)\n",
      "(mu_vec[idx_u], idx_u) = (3, 1)\n",
      "(ml_vec[idx_l], idx_l) = (0, 2)\n",
      "(ju, jl) = (2, 4)\n",
      "(mu_vec[idx_u], idx_u) = (3, 1)\n",
      "(ml_vec[idx_l], idx_l) = (3, 3)\n",
      "(ju, jl) = (2, 1)\n",
      "(mu_vec[idx_u], idx_u) = (3, 1)\n",
      "(ml_vec[idx_l], idx_l) = (1, 1)\n",
      "(ju, jl) = (2, 3)\n",
      "(mu_vec[idx_u], idx_u) = (3, 1)\n",
      "(ml_vec[idx_l], idx_l) = (1, 2)\n",
      "(ju, jl) = (2, 4)\n",
      "(mu_vec[idx_u], idx_u) = (3, 1)\n",
      "(ml_vec[idx_l], idx_l) = (2, 3)\n",
      "(ju, jl) = (2, 1)\n",
      "(mu_vec[idx_u], idx_u) = (3, 1)\n",
      "(ml_vec[idx_l], idx_l) = (1, 1)\n",
      "(ju, jl) = (2, 3)\n",
      "(mu_vec[idx_u], idx_u) = (3, 1)\n",
      "(ml_vec[idx_l], idx_l) = (1, 2)\n",
      "(ju, jl) = (2, 4)\n",
      "(mu_vec[idx_u], idx_u) = (3, 1)\n",
      "(ml_vec[idx_l], idx_l) = (2, 3)\n",
      "(ju, jl) = (2, 1)\n",
      "(mu_vec[idx_u], idx_u) = (3, 1)\n",
      "(ml_vec[idx_l], idx_l) = (1, 1)\n",
      "(ju, jl) = (2, 3)\n",
      "(mu_vec[idx_u], idx_u) = (3, 1)\n",
      "(ml_vec[idx_l], idx_l) = (1, 2)\n",
      "(ju, jl) = (2, 4)\n",
      "(mu_vec[idx_u], idx_u) = (3, 1)\n",
      "(ml_vec[idx_l], idx_l) = (2, 3)\n",
      "(ju, jl) = (2, 1)\n",
      "(mu_vec[idx_u], idx_u) = (3, 1)\n",
      "(ml_vec[idx_l], idx_l) = (1, 1)\n",
      "(ju, jl) = (2, 3)\n",
      "(mu_vec[idx_u], idx_u) = (3, 1)\n",
      "(ml_vec[idx_l], idx_l) = (2, 2)\n",
      "(ju, jl) = (2, 4)\n",
      "(mu_vec[idx_u], idx_u) = (3, 1)\n",
      "(ml_vec[idx_l], idx_l) = (1, 3)\n",
      "(ju, jl) = (2, 1)\n",
      "(mu_vec[idx_u], idx_u) = (3, 1)\n",
      "(ml_vec[idx_l], idx_l) = (1, 1)\n",
      "(ju, jl) = (2, 3)\n",
      "(mu_vec[idx_u], idx_u) = (3, 1)\n",
      "(ml_vec[idx_l], idx_l) = (2, 2)\n",
      "(ju, jl) = (2, 4)\n",
      "(mu_vec[idx_u], idx_u) = (3, 1)\n",
      "(ml_vec[idx_l], idx_l) = (1, 3)\n",
      "(ju, jl) = (2, 1)\n",
      "(mu_vec[idx_u], idx_u) = (3, 1)\n",
      "(ml_vec[idx_l], idx_l) = (1, 1)\n",
      "(ju, jl) = (2, 3)\n",
      "(mu_vec[idx_u], idx_u) = (3, 1)\n",
      "(ml_vec[idx_l], idx_l) = (2, 2)\n",
      "(ju, jl) = (2, 4)\n",
      "(mu_vec[idx_u], idx_u) = (3, 1)\n",
      "(ml_vec[idx_l], idx_l) = (1, 3)\n",
      "(ju, jl) = (2, 1)\n",
      "(mu_vec[idx_u], idx_u) = (3, 1)\n",
      "(ml_vec[idx_l], idx_l) = (1, 1)\n",
      "(ju, jl) = (2, 3)\n",
      "(mu_vec[idx_u], idx_u) = (3, 1)\n",
      "(ml_vec[idx_l], idx_l) = (3, 2)\n",
      "(ju, jl) = (2, 4)\n",
      "(mu_vec[idx_u], idx_u) = (3, 1)\n",
      "(ml_vec[idx_l], idx_l) = (0, 3)\n",
      "(ju, jl) = (2, 1)\n",
      "(mu_vec[idx_u], idx_u) = (3, 1)\n",
      "(ml_vec[idx_l], idx_l) = (1, 1)\n",
      "(ju, jl) = (2, 3)\n",
      "(mu_vec[idx_u], idx_u) = (3, 1)\n",
      "(ml_vec[idx_l], idx_l) = (3, 2)\n",
      "(ju, jl) = (2, 4)\n",
      "(mu_vec[idx_u], idx_u) = (3, 1)\n",
      "(ml_vec[idx_l], idx_l) = (0, 3)\n",
      "(ju, jl) = (2, 1)\n",
      "(mu_vec[idx_u], idx_u) = (3, 1)\n",
      "(ml_vec[idx_l], idx_l) = (1, 1)\n",
      "(ju, jl) = (2, 3)\n",
      "(mu_vec[idx_u], idx_u) = (3, 1)\n",
      "(ml_vec[idx_l], idx_l) = (3, 2)\n",
      "(ju, jl) = (2, 4)\n",
      "(mu_vec[idx_u], idx_u) = (3, 1)\n",
      "(ml_vec[idx_l], idx_l) = (0, 3)\n",
      "(ju, jl) = (2, 1)\n",
      "(mu_vec[idx_u], idx_u) = (3, 1)\n",
      "(ml_vec[idx_l], idx_l) = (2, 1)\n",
      "(ju, jl) = (2, 3)\n",
      "(mu_vec[idx_u], idx_u) = (3, 1)\n",
      "(ml_vec[idx_l], idx_l) = (0, 2)\n",
      "(ju, jl) = (2, 4)\n",
      "(mu_vec[idx_u], idx_u) = (3, 1)\n",
      "(ml_vec[idx_l], idx_l) = (2, 3)\n",
      "(ju, jl) = (2, 1)\n",
      "(mu_vec[idx_u], idx_u) = (3, 1)\n",
      "(ml_vec[idx_l], idx_l) = (2, 1)\n",
      "(ju, jl) = (2, 3)\n",
      "(mu_vec[idx_u], idx_u) = (3, 1)\n",
      "(ml_vec[idx_l], idx_l) = (0, 2)\n",
      "(ju, jl) = (2, 4)\n",
      "(mu_vec[idx_u], idx_u) = (3, 1)\n",
      "(ml_vec[idx_l], idx_l) = (2, 3)\n",
      "(ju, jl) = (2, 1)\n",
      "(mu_vec[idx_u], idx_u) = (3, 1)\n",
      "(ml_vec[idx_l], idx_l) = (2, 1)\n",
      "(ju, jl) = (2, 3)\n",
      "(mu_vec[idx_u], idx_u) = (3, 1)\n",
      "(ml_vec[idx_l], idx_l) = (0, 2)\n",
      "(ju, jl) = (2, 4)\n",
      "(mu_vec[idx_u], idx_u) = (3, 1)\n",
      "(ml_vec[idx_l], idx_l) = (2, 3)\n",
      "(ju, jl) = (2, 1)\n",
      "(mu_vec[idx_u], idx_u) = (3, 1)\n",
      "(ml_vec[idx_l], idx_l) = (2, 1)\n",
      "(ju, jl) = (2, 3)\n",
      "(mu_vec[idx_u], idx_u) = (3, 1)\n",
      "(ml_vec[idx_l], idx_l) = (1, 2)\n",
      "(ju, jl) = (2, 4)\n",
      "(mu_vec[idx_u], idx_u) = (3, 1)\n",
      "(ml_vec[idx_l], idx_l) = (1, 3)\n",
      "(ju, jl) = (2, 1)\n",
      "(mu_vec[idx_u], idx_u) = (3, 1)\n",
      "(ml_vec[idx_l], idx_l) = (2, 1)\n",
      "(ju, jl) = (2, 3)\n",
      "(mu_vec[idx_u], idx_u) = (3, 1)\n",
      "(ml_vec[idx_l], idx_l) = (1, 2)\n",
      "(ju, jl) = (2, 4)\n",
      "(mu_vec[idx_u], idx_u) = (3, 1)\n",
      "(ml_vec[idx_l], idx_l) = (1, 3)\n",
      "(ju, jl) = (2, 1)\n",
      "(mu_vec[idx_u], idx_u) = (3, 1)\n",
      "(ml_vec[idx_l], idx_l) = (2, 1)\n",
      "(ju, jl) = (2, 3)\n",
      "(mu_vec[idx_u], idx_u) = (3, 1)\n",
      "(ml_vec[idx_l], idx_l) = (1, 2)\n",
      "(ju, jl) = (2, 4)\n",
      "(mu_vec[idx_u], idx_u) = (3, 1)\n",
      "(ml_vec[idx_l], idx_l) = (1, 3)\n",
      "(ju, jl) = (2, 1)\n",
      "(mu_vec[idx_u], idx_u) = (3, 1)\n",
      "(ml_vec[idx_l], idx_l) = (2, 1)\n",
      "(ju, jl) = (2, 3)\n",
      "(mu_vec[idx_u], idx_u) = (3, 1)\n",
      "(ml_vec[idx_l], idx_l) = (2, 2)\n",
      "(ju, jl) = (2, 4)\n",
      "(mu_vec[idx_u], idx_u) = (3, 1)\n",
      "(ml_vec[idx_l], idx_l) = (0, 3)\n",
      "(ju, jl) = (2, 1)\n",
      "(mu_vec[idx_u], idx_u) = (3, 1)\n",
      "(ml_vec[idx_l], idx_l) = (2, 1)\n",
      "(ju, jl) = (2, 3)\n",
      "(mu_vec[idx_u], idx_u) = (3, 1)\n",
      "(ml_vec[idx_l], idx_l) = (2, 2)\n",
      "(ju, jl) = (2, 4)\n",
      "(mu_vec[idx_u], idx_u) = (3, 1)\n",
      "(ml_vec[idx_l], idx_l) = (0, 3)\n",
      "(ju, jl) = (2, 1)\n",
      "(mu_vec[idx_u], idx_u) = (3, 1)\n",
      "(ml_vec[idx_l], idx_l) = (2, 1)\n",
      "(ju, jl) = (2, 3)\n",
      "(mu_vec[idx_u], idx_u) = (3, 1)\n",
      "(ml_vec[idx_l], idx_l) = (2, 2)\n",
      "(ju, jl) = (2, 4)\n",
      "(mu_vec[idx_u], idx_u) = (3, 1)\n",
      "(ml_vec[idx_l], idx_l) = (0, 3)\n",
      "(ju, jl) = (2, 1)\n",
      "(mu_vec[idx_u], idx_u) = (3, 1)\n",
      "(ml_vec[idx_l], idx_l) = (3, 1)\n",
      "(ju, jl) = (2, 3)\n",
      "(mu_vec[idx_u], idx_u) = (3, 1)\n",
      "(ml_vec[idx_l], idx_l) = (0, 2)\n",
      "(ju, jl) = (2, 4)\n",
      "(mu_vec[idx_u], idx_u) = (3, 1)\n",
      "(ml_vec[idx_l], idx_l) = (1, 3)\n",
      "(ju, jl) = (2, 1)\n",
      "(mu_vec[idx_u], idx_u) = (3, 1)\n",
      "(ml_vec[idx_l], idx_l) = (3, 1)\n",
      "(ju, jl) = (2, 3)\n",
      "(mu_vec[idx_u], idx_u) = (3, 1)\n",
      "(ml_vec[idx_l], idx_l) = (0, 2)\n",
      "(ju, jl) = (2, 4)\n",
      "(mu_vec[idx_u], idx_u) = (3, 1)\n",
      "(ml_vec[idx_l], idx_l) = (1, 3)\n",
      "(ju, jl) = (2, 1)\n",
      "(mu_vec[idx_u], idx_u) = (3, 1)\n",
      "(ml_vec[idx_l], idx_l) = (3, 1)\n",
      "(ju, jl) = (2, 3)\n",
      "(mu_vec[idx_u], idx_u) = (3, 1)\n",
      "(ml_vec[idx_l], idx_l) = (0, 2)\n",
      "(ju, jl) = (2, 4)\n",
      "(mu_vec[idx_u], idx_u) = (3, 1)\n",
      "(ml_vec[idx_l], idx_l) = (1, 3)\n",
      "(ju, jl) = (2, 1)\n",
      "(mu_vec[idx_u], idx_u) = (3, 1)\n",
      "(ml_vec[idx_l], idx_l) = (3, 1)\n",
      "(ju, jl) = (2, 3)\n",
      "(mu_vec[idx_u], idx_u) = (3, 1)\n",
      "(ml_vec[idx_l], idx_l) = (1, 2)\n",
      "(ju, jl) = (2, 4)\n",
      "(mu_vec[idx_u], idx_u) = (3, 1)\n",
      "(ml_vec[idx_l], idx_l) = (0, 3)\n",
      "(ju, jl) = (2, 1)\n",
      "(mu_vec[idx_u], idx_u) = (3, 1)\n",
      "(ml_vec[idx_l], idx_l) = (3, 1)\n",
      "(ju, jl) = (2, 3)\n",
      "(mu_vec[idx_u], idx_u) = (3, 1)\n",
      "(ml_vec[idx_l], idx_l) = (1, 2)\n",
      "(ju, jl) = (2, 4)"
     ]
    },
    {
     "name": "stdout",
     "output_type": "stream",
     "text": [
      "\n",
      "(mu_vec[idx_u], idx_u) = (3, 1)\n",
      "(ml_vec[idx_l], idx_l) = (0, 3)\n",
      "(ju, jl) = (2, 1)\n",
      "(mu_vec[idx_u], idx_u) = (3, 1)\n",
      "(ml_vec[idx_l], idx_l) = (3, 1)\n",
      "(ju, jl) = (2, 3)\n",
      "(mu_vec[idx_u], idx_u) = (3, 1)\n",
      "(ml_vec[idx_l], idx_l) = (1, 2)\n",
      "(ju, jl) = (2, 4)\n",
      "(mu_vec[idx_u], idx_u) = (3, 1)\n",
      "(ml_vec[idx_l], idx_l) = (0, 3)\n",
      "(ju, jl) = (2, 1)\n",
      "(mu_vec[idx_u], idx_u) = (3, 1)\n",
      "(ml_vec[idx_l], idx_l) = (4, 1)\n",
      "(ju, jl) = (2, 3)\n",
      "(mu_vec[idx_u], idx_u) = (3, 1)\n",
      "(ml_vec[idx_l], idx_l) = (0, 2)\n",
      "(ju, jl) = (2, 4)\n",
      "(mu_vec[idx_u], idx_u) = (3, 1)\n",
      "(ml_vec[idx_l], idx_l) = (0, 3)\n",
      "(ju, jl) = (2, 1)\n",
      "(mu_vec[idx_u], idx_u) = (3, 1)\n",
      "(ml_vec[idx_l], idx_l) = (4, 1)\n",
      "(ju, jl) = (2, 3)\n",
      "(mu_vec[idx_u], idx_u) = (3, 1)\n",
      "(ml_vec[idx_l], idx_l) = (0, 2)\n",
      "(ju, jl) = (2, 4)\n",
      "(mu_vec[idx_u], idx_u) = (3, 1)\n",
      "(ml_vec[idx_l], idx_l) = (0, 3)\n",
      "(ju, jl) = (2, 1)\n",
      "(mu_vec[idx_u], idx_u) = (3, 1)\n",
      "(ml_vec[idx_l], idx_l) = (4, 1)\n",
      "(ju, jl) = (2, 3)\n",
      "(mu_vec[idx_u], idx_u) = (3, 1)\n",
      "(ml_vec[idx_l], idx_l) = (0, 2)\n",
      "(ju, jl) = (2, 4)\n",
      "(mu_vec[idx_u], idx_u) = (3, 1)\n",
      "(ml_vec[idx_l], idx_l) = (0, 3)\n"
     ]
    }
   ],
   "source": [
    "#@cnumbers a, b, c\n",
    "# μ = [0, a, -a] # pole at 3\n",
    "# ν = [a, -a, b, c] # pole at 2\n",
    "\n",
    "s = [1, 3]\n",
    "stag = [2, 5, 7]                          # singular indices\n",
    "\n",
    "ju_list = filter(x -> !(x in s), 1:3)\n",
    "jl_list = filter(x -> !(x in stag), 1:4)  # non-singular indices\n",
    "@show ju_list\n",
    "@show jl_list\n",
    "\n",
    "mu_list = find_integer_solutions(length(ju_list), 3)\n",
    "ml_list = find_integer_solutions(length(jl_list), 4)\n",
    "\n",
    "@show mu_list\n",
    "@show ml_list\n",
    "\n",
    "function norm_fac(v, j)\n",
    "    if j == 0\n",
    "        return 0\n",
    "    else \n",
    "        return (j/sum(v[1:j]))\n",
    "    end\n",
    "end\n",
    "\n",
    "numerator = []\n",
    "for (mu_vec, ml_vec) in product(mu_list, ml_list)\n",
    "    for (mu, ml) in product(mu_vec, ml_vec)\n",
    "        # idx_u = indexin(mu, mu_vec)[1]\n",
    "        # idx_l = indexin(ml, ml_vec)[1]\n",
    "         \n",
    "        # @show (mu, ml)\n",
    "        # @show idx_u, idx_l\n",
    "\n",
    "        facs = []\n",
    "        for (ju, jl) in product(ju_list, jl_list)\n",
    "            idx_u = indexin(ju, ju_list)[1]\n",
    "            idx_l = indexin(jl, jl_list)[1]\n",
    "            @show ju, jl\n",
    "            @show mu_vec[idx_u], idx_u\n",
    "            @show ml_vec[idx_l], idx_l\n",
    "            push!(facs, (norm_fac(μ, ju))^mu_vec[idx_u]*(norm_fac(ν, jl))^ml_vec[idx_l])\n",
    "        end\n",
    "        push!(numerator, prod(facs))\n",
    "    end\n",
    "end"
   ]
  },
  {
   "cell_type": "code",
   "execution_count": 148,
   "metadata": {},
   "outputs": [
    {
     "name": "stdout",
     "output_type": "stream",
     "text": [
      "(l, r) = (3, 2)\n",
      "(l, r) = (4, 3)\n"
     ]
    },
    {
     "ename": "OverflowError",
     "evalue": "OverflowError: 1152921504606846976 * 32 overflowed for type Int64",
     "output_type": "error",
     "traceback": [
      "OverflowError: 1152921504606846976 * 32 overflowed for type Int64\n",
      "\n",
      "Stacktrace:\n",
      "  [1] throw_overflowerr_binaryop(op::Symbol, x::Int64, y::Int64)\n",
      "    @ Base.Checked ./checked.jl:154\n",
      "  [2] checked_mul\n",
      "    @ ./checked.jl:288 [inlined]\n",
      "  [3] *(x::Rational{Int64}, y::Rational{Int64})\n",
      "    @ Base ./rational.jl:334\n",
      "  [4] *(a::SymbolicUtils.Mul{CNumber, Rational{Int64}, Dict{Any, Number}, Nothing}, b::SymbolicUtils.Mul{CNumber, Rational{Int64}, Dict{Any, Number}, Nothing})\n",
      "    @ SymbolicUtils ~/.julia/packages/SymbolicUtils/2UXNG/src/types.jl:818\n",
      "  [5] mul_prod(x::SymbolicUtils.Mul{CNumber, Rational{Int64}, Dict{Any, Number}, Nothing}, y::SymbolicUtils.Mul{CNumber, Rational{Int64}, Dict{Any, Number}, Nothing})\n",
      "    @ Base ./reduce.jl:35\n",
      "  [6] macro expansion\n",
      "    @ ./reduce.jl:247 [inlined]\n",
      "  [7] macro expansion\n",
      "    @ ./simdloop.jl:77 [inlined]\n",
      "  [8] mapreduce_impl(f::typeof(identity), op::typeof(Base.mul_prod), A::Vector{Any}, ifirst::Int64, ilast::Int64, blksize::Int64)\n",
      "    @ Base ./reduce.jl:245\n",
      "  [9] mapreduce_impl(f::typeof(identity), op::typeof(Base.mul_prod), A::Vector{Any}, ifirst::Int64, ilast::Int64, blksize::Int64)\n",
      "    @ Base ./reduce.jl:254\n",
      " [10] mapreduce_impl\n",
      "    @ ./reduce.jl:259 [inlined]\n",
      " [11] _mapreduce(f::typeof(identity), op::typeof(Base.mul_prod), #unused#::IndexLinear, A::Vector{Any})\n",
      "    @ Base ./reduce.jl:417\n",
      " [12] _mapreduce_dim\n",
      "    @ ./reducedim.jl:330 [inlined]\n",
      " [13] #mapreduce#725\n",
      "    @ ./reducedim.jl:322 [inlined]\n",
      " [14] mapreduce\n",
      "    @ ./reducedim.jl:322 [inlined]\n",
      " [15] #_prod#739\n",
      "    @ ./reducedim.jl:894 [inlined]\n",
      " [16] _prod\n",
      "    @ ./reducedim.jl:894 [inlined]\n",
      " [17] #_prod#738\n",
      "    @ ./reducedim.jl:893 [inlined]\n",
      " [18] _prod\n",
      "    @ ./reducedim.jl:893 [inlined]\n",
      " [19] #prod#736\n",
      "    @ ./reducedim.jl:889 [inlined]\n",
      " [20] prod\n",
      "    @ ./reducedim.jl:889 [inlined]\n",
      " [21] diagram_correction(ω::Vector{Tuple{Vector, Vector{SymbolicUtils.Symbolic{Parameter}}}})\n",
      "    @ Main ~/.julia/dev/QuantumGraining/notebooks/poles_prototype.ipynb:70\n",
      " [22] top-level scope\n",
      "    @ ~/.julia/dev/QuantumGraining/notebooks/poles_prototype.ipynb:12"
     ]
    }
   ],
   "source": [
    "μ1 = [a, b, -a-b] # pole at 3\n",
    "ν1 = [a, -a] # pole at 2\n",
    "\n",
    "μ2 = [0, a, a, -2a] # pole at 1 and 4\n",
    "ν2 = [-a, b, a-b] # poles at 3\n",
    "ω = [(μ1, ν1), (μ2, ν2)]\n",
    "\n",
    "s_list, stag_list = find_all_poles(ω)\n",
    "\n",
    "total_num_poles = sum([length(su) + length(sl) for (su, sl) in (s_list, stag_list)])\n",
    "\n",
    "diagram_correction(ω)"
   ]
  },
  {
   "cell_type": "code",
   "execution_count": null,
   "metadata": {},
   "outputs": [],
   "source": []
  }
 ],
 "metadata": {
  "kernelspec": {
   "display_name": "Julia 1.7.3",
   "language": "julia",
   "name": "julia-1.7"
  },
  "language_info": {
   "file_extension": ".jl",
   "mimetype": "application/julia",
   "name": "julia",
   "version": "1.7.3"
  },
  "orig_nbformat": 4,
  "vscode": {
   "interpreter": {
    "hash": "31f2aee4e71d21fbe5cf8b01ff0e069b9275f58929596ceb00d14d90e3e16cd6"
   }
  }
 },
 "nbformat": 4,
 "nbformat_minor": 2
}
