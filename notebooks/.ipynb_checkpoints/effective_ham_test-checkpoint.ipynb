{
 "cells": [
  {
   "cell_type": "code",
   "execution_count": 30,
   "metadata": {},
   "outputs": [
    {
     "data": {
      "text/plain": [
       "reshape_sols"
      ]
     },
     "execution_count": 30,
     "metadata": {},
     "output_type": "execute_result"
    }
   ],
   "source": [
    "using QuantumCumulants\n",
    "using IterTools\n",
    "using Symbolics\n",
    "\n",
    "include(\"../src/diagrams.jl\")\n",
    "include(\"../src/contractions.jl\")\n",
    "include(\"../src/lindblad.jl\")\n",
    "include(\"../src/printing.jl\")\n",
    "include(\"../src/poles.jl\")"
   ]
  },
  {
   "cell_type": "code",
   "execution_count": 33,
   "metadata": {},
   "outputs": [
    {
     "data": {
      "text/plain": [
       "5-element Vector{QuantumCumulants.QAdd}:\n",
       " (ω_1+-ω_1*(σ_{1}22)+-0.5ω_1)\n",
       " (ω_2+-ω_2*(σ_{2}22)+-0.5ω_2)\n",
       " (g*(σ_{1}12*σ_{2}12)+g*(σ_{1}12*σ_{2}21)+g*(σ_{1}21*σ_{2}12)+g*(σ_{1}21*σ_{2}21))\n",
       " (ϵ_d*(σ_{2}12)+ϵ_d*(σ_{2}21))\n",
       " (ϵ_d*(σ_{2}12)+ϵ_d*(σ_{2}21))"
      ]
     },
     "execution_count": 33,
     "metadata": {},
     "output_type": "execute_result"
    }
   ],
   "source": [
    "N = 2 # number of atoms \n",
    "h = ⊗([NLevelSpace(Symbol(:atom,i),2) for i=1:N]...)\n",
    "σ(i,j,k) = Transition(h,Symbol(\"σ_{$k}\"),i,j,k)\n",
    "\n",
    "σz1 = 2*σ(1,1,1) - 1\n",
    "σz2 = 2*σ(1,1,2) - 1\n",
    "\n",
    "σx1 = σ(1,2,1) + σ(2,1,1)\n",
    "σx2 = σ(1,2,2) + σ(2,1,2)\n",
    "\n",
    "@cnumbers ω_1 ω_2 ω_d g ϵ_d\n",
    "\n",
    "#Define ordered lists of frequencies and hamiltonian terms \n",
    "ωs = [0, 0, 0, ω_d, -ω_d]\n",
    "hs = [ω_1*σz1/2,ω_2*σz2/2, g* σx1 * σx2, ϵ_d* σx2,ϵ_d* σx2]"
   ]
  },
  {
   "cell_type": "code",
   "execution_count": 34,
   "metadata": {},
   "outputs": [
    {
     "name": "stdout",
     "output_type": "stream",
     "text": [
      "5"
     ]
    }
   ],
   "source": [
    "k=3\n",
    "@cnumbers t\n",
    "H = effective_hamiltonian(k, ωs, hs,t)\n",
    "print(5)"
   ]
  },
  {
   "cell_type": "code",
   "execution_count": 35,
   "metadata": {},
   "outputs": [
    {
     "name": "stdout",
     "output_type": "stream",
     "text": [
      "5"
     ]
    }
   ],
   "source": [
    "k=3\n",
    "γ, J_ops, Jd_ops = effective_dissipator(k, ωs, hs,t)\n",
    "print(5)"
   ]
  },
  {
   "cell_type": "code",
   "execution_count": 24,
   "metadata": {},
   "outputs": [
    {
     "data": {
      "text/plain": [
       "275"
      ]
     },
     "execution_count": 24,
     "metadata": {},
     "output_type": "execute_result"
    }
   ],
   "source": [
    "length(Jd_ops)"
   ]
  },
  {
   "cell_type": "code",
   "execution_count": null,
   "metadata": {},
   "outputs": [],
   "source": []
  },
  {
   "cell_type": "code",
   "execution_count": 36,
   "metadata": {},
   "outputs": [
    {
     "ename": "LoadError",
     "evalue": "ArgumentError: invalid index: nothing of type Nothing",
     "output_type": "error",
     "traceback": [
      "ArgumentError: invalid index: nothing of type Nothing",
      "",
      "Stacktrace:",
      "  [1] to_index(i::Nothing)",
      "    @ Base ./indices.jl:300",
      "  [2] to_index(A::Vector{Any}, i::Nothing)",
      "    @ Base ./indices.jl:277",
      "  [3] to_indices",
      "    @ ./indices.jl:333 [inlined]",
      "  [4] to_indices",
      "    @ ./indices.jl:325 [inlined]",
      "  [5] getindex",
      "    @ ./abstractarray.jl:1218 [inlined]",
      "  [6] hilbert(a::QuantumCumulants.QAdd)",
      "    @ QuantumCumulants ~/.julia/packages/QuantumCumulants/NZQOS/src/qnumber.jl:313",
      "  [7] check_hilbert(a::QuantumCumulants.QAdd, b::QuantumCumulants.QAdd)",
      "    @ QuantumCumulants ~/.julia/packages/QuantumCumulants/NZQOS/src/qnumber.jl:306",
      "  [8] *(a::QuantumCumulants.QAdd, b::QuantumCumulants.QAdd)",
      "    @ QuantumCumulants ~/.julia/packages/QuantumCumulants/NZQOS/src/qnumber.jl:281",
      "  [9] afoldl",
      "    @ ./operators.jl:612 [inlined]",
      " [10] *(a::Float64, b::ComplexF64, c::QuantumCumulants.QAdd, xs::QuantumCumulants.QAdd)",
      "    @ Base ./operators.jl:655",
      " [11] _master_lindblad(a_::QuantumCumulants.QAdd, J::Vector{Any}, Jdagger::Vector{Any}, rates::Vector{Any})",
      "    @ QuantumCumulants ~/.julia/packages/QuantumCumulants/NZQOS/src/meanfield.jl:94",
      " [12] meanfield(a::Vector{QuantumCumulants.QAdd}, H::QuantumCumulants.QAdd, J::Vector{Any}; Jdagger::Vector{Any}, rates::Vector{Any}, multithread::Bool, simplify::Bool, order::Int64, mix_choice::Function, iv::SymbolicUtils.Sym{Real, Nothing})",
      "    @ QuantumCumulants ~/.julia/packages/QuantumCumulants/NZQOS/src/meanfield.jl:59",
      " [13] top-level scope",
      "    @ In[36]:2",
      " [14] eval",
      "    @ ./boot.jl:373 [inlined]",
      " [15] include_string(mapexpr::typeof(REPL.softscope), mod::Module, code::String, filename::String)",
      "    @ Base ./loading.jl:1196"
     ]
    }
   ],
   "source": [
    "#Get meanfield equations using QuantumCumulants\n",
    "eqs = meanfield([σz1], H, J_ops; Jdagger = Jd_ops,rates=γ, order=2)\n",
    "eqs = complete(eqs)"
   ]
  },
  {
   "cell_type": "code",
   "execution_count": null,
   "metadata": {},
   "outputs": [],
   "source": []
  }
 ],
 "metadata": {
  "kernelspec": {
   "display_name": "Julia 1.7.3",
   "language": "julia",
   "name": "julia-1.7"
  },
  "language_info": {
   "file_extension": ".jl",
   "mimetype": "application/julia",
   "name": "julia",
   "version": "1.7.3"
  },
  "vscode": {
   "interpreter": {
    "hash": "aee8b7b246df8f9039afb4144a1f6fd8d2ca17a180786b69acc140d282b71a49"
   }
  }
 },
 "nbformat": 4,
 "nbformat_minor": 2
}
