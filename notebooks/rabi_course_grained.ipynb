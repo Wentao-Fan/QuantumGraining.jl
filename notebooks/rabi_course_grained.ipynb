{
 "cells": [
  {
   "cell_type": "code",
   "execution_count": 83,
   "metadata": {},
   "outputs": [],
   "source": [
    "using QuantumCumulants\n",
    "using SymbolicUtils\n",
    "using IterTools\n",
    "using Symbolics\n",
    "#using SymPy"
   ]
  },
  {
   "cell_type": "code",
   "execution_count": 85,
   "metadata": {},
   "outputs": [
    {
     "data": {
      "text/plain": [
       "effective_lindblad (generic function with 1 method)"
      ]
     },
     "execution_count": 85,
     "metadata": {},
     "output_type": "execute_result"
    }
   ],
   "source": [
    "include(\"../src/diagrams.jl\")\n",
    "include(\"../src/bvector.jl\")\n",
    "include(\"../src/bubble.jl\")\n",
    "include(\"../src/diagram.jl\")\n",
    "include(\"../src/poles.jl\")\n",
    "include(\"../src/contractions.jl\")\n",
    "include(\"../src/printing.jl\")\n",
    "include(\"../src/corrections.jl\")\n",
    "include(\"../src/lindblad.jl\")"
   ]
  },
  {
   "cell_type": "markdown",
   "metadata": {},
   "source": [
    "## Setting up the Hilbert space and operators"
   ]
  },
  {
   "cell_type": "code",
   "execution_count": 192,
   "metadata": {},
   "outputs": [
    {
     "data": {
      "text/latex": [
       "$1 i {\\sigma}^{{eg}} -1 i {\\sigma}^{{ge}}$"
      ],
      "text/plain": [
       "(0 + 1im*(σeg)+0 - 1im*(σge))"
      ]
     },
     "execution_count": 192,
     "metadata": {},
     "output_type": "execute_result"
    }
   ],
   "source": [
    "#Setup\n",
    "h_cav = FockSpace(:cavity)\n",
    "h_atom = NLevelSpace(:atom, (:g,:e))\n",
    "h = tensor(h_cav, h_atom)\n",
    "\n",
    "@qnumbers a::Destroy(h) σ::Transition(h)\n",
    "\n",
    "#@syms ω_0 ω_d g κ γ ϵ ω_3 ω_1\n",
    "#@variables ω_c::real ω_a::real\n",
    "#@variables t::Real\n",
    "\n",
    "σz = 2* σ(:e, :e)  - 1\n",
    "σx = σ(:g, :e) + σ(:e, :g)\n",
    "σy = 1im* (σ(:e, :g) - σ(:g, :e))\n"
   ]
  },
  {
   "cell_type": "markdown",
   "metadata": {},
   "source": [
    "## Studying the Rabi model\n",
    "\n",
    "### First order approximation"
   ]
  },
  {
   "cell_type": "code",
   "execution_count": 193,
   "metadata": {},
   "outputs": [
    {
     "data": {
      "text/plain": [
       "(Any[], Any[(a*σeg), (a′*σge), (a*σge), (a′*σeg)], Any[Any[ω_a + ω_c], Any[-ω_a - ω_c], Any[ω_a - ω_c], Any[ω_c - ω_a]], Any[exp(-0.5(τ^2)*((ω_a + ω_c)^2)), exp(-0.5(τ^2)*((-ω_a - ω_c)^2)), exp(-0.5(τ^2)*((ω_a - ω_c)^2)), exp(-0.5(τ^2)*((ω_c - ω_a)^2))])"
      ]
     },
     "execution_count": 193,
     "metadata": {},
     "output_type": "execute_result"
    }
   ],
   "source": [
    "@variables ω_c ω_a\n",
    "\n",
    "ωs_rabi = [ω_c + ω_a, -ω_c - ω_a, -ω_c + ω_a, ω_c - ω_a]\n",
    "hs_rabi = [a*σ(:e, :g),a'*σ(:g, :e),a*σ(:g, :e), a'*σ(:e, :g)]\n",
    "#typeof(ω_c)\n",
    "\n",
    "eff_ham_rabi_1, ops_eff_rabi_1, ωs_eff_rabi_1, gs_eff_rabi_1 = effective_hamiltonian(hs_rabi, ωs_rabi, 1)"
   ]
  },
  {
   "cell_type": "code",
   "execution_count": 226,
   "metadata": {},
   "outputs": [
    {
     "name": "stdout",
     "output_type": "stream",
     "text": [
      "t*(ω1 + ω2)\n",
      "exp((0 - 1im)*t*(ω1 + ω2))\n",
      "t*(-ω1 - ω2)\n",
      "exp((0 - 1im)*t*(-ω1 - ω2))\n",
      "t*(ω1 - ω2)\n",
      "exp((0 - 1im)*t*(ω1 - ω2))\n",
      "t*(ω2 - ω1)\n",
      "exp((0 - 1im)*t*(ω2 - ω1))\n"
     ]
    },
    {
     "data": {
      "text/plain": [
       "4-element Vector{Any}:\n",
       " exp((im*(-ω1 - ω2))*t)*exp(-0.5(τ^2)*((ω1 + ω2)^2))*(a*σeg)\n",
       " exp((im*(ω1 + ω2))*t)*exp(-0.5(τ^2)*((-ω1 - ω2)^2))*(a′*σge)\n",
       " exp((im*(ω2 - ω1))*t)*exp(-0.5(τ^2)*((ω1 - ω2)^2))*(a*σge)\n",
       " exp((im*(ω1 - ω2))*t)*exp(-0.5(τ^2)*((ω2 - ω1)^2))*(a′*σeg)"
      ]
     },
     "execution_count": 226,
     "metadata": {},
     "output_type": "execute_result"
    }
   ],
   "source": [
    "#@syms t::Real\n",
    "@cnumbers ω1 ω2\n",
    "@syms τ1\n",
    "\n",
    "eff_ham = []\n",
    "@syms t\n",
    "    for i in 1:length(gs_eff_rabi_1)\n",
    "        ωs = substitute(sum(ωs_eff_rabi_1[i]),Dict([ω_a=>ω1,ω_c=>ω2]))\n",
    "        println(ωs*t)\n",
    "        println(exp(-1im*t*ωs))\n",
    "        gs = substitute(to_symbol(gs_eff_rabi_1[i]),Dict([ω_a=>ω1,ω_c=>ω2,τ => τ1]))\n",
    "        push!(eff_ham, gs*exp(-1im*ωs*t)*ops_eff_rabi_1[i])\n",
    "    end\n",
    "#eff_ham_rabi_1[1]\n",
    "#exp(-1im*sum(ωs_eff_rabi_1[1])*t)*eff_ham_rabi_1[1]\n",
    "#ex = substitute(ωs_eff_rabi_1[1][1],Dict([ω_a=>ω1,ω_c=>ω2]))\n",
    "#print(ex)\n",
    "eff_ham\n",
    "#print(eff_ham_4+eff_ham_2)"
   ]
  },
  {
   "cell_type": "code",
   "execution_count": 237,
   "metadata": {},
   "outputs": [
    {
     "data": {
      "text/latex": [
       "\\begin{align}\n",
       "\\frac{d}{dt} \\langle a\\rangle  =& -1 i \\langle {\\sigma}^{{eg}}\\rangle  e^{{\\omega}1 - {\\omega}2 i t -0.5 \\tau^{2} \\left( {\\omega}2 -1 {\\omega}1 \\right)^{2}} \\\\\n",
       "\\frac{d}{dt} \\langle {\\sigma}^{{eg}}\\rangle  =& 1 i \\langle a\\rangle  e^{{\\omega}2 - {\\omega}1 i t -0.5 \\tau^{2} \\left( {\\omega}1 -1 {\\omega}2 \\right)^{2}} -2 i \\langle a\\rangle  \\langle {\\sigma}^{{ee}}\\rangle  e^{{\\omega}2 - {\\omega}1 i t -0.5 \\tau^{2} \\left( {\\omega}1 -1 {\\omega}2 \\right)^{2}} \\\\\n",
       "\\frac{d}{dt} \\langle {\\sigma}^{{ge}}\\rangle  =& -1 i \\langle a^\\dagger\\rangle  e^{{\\omega}1 - {\\omega}2 i t -0.5 \\tau^{2} \\left( {\\omega}2 -1 {\\omega}1 \\right)^{2}} + 2 i \\langle a^\\dagger\\rangle  \\langle {\\sigma}^{{ee}}\\rangle  e^{{\\omega}1 - {\\omega}2 i t -0.5 \\tau^{2} \\left( {\\omega}2 -1 {\\omega}1 \\right)^{2}}\n",
       "\\end{align}\n"
      ],
      "text/plain": [
       "∂ₜ(⟨a⟩) = (0 - 1im)*⟨σeg⟩*exp((im*(ω1 - ω2))*t - 0.5(τ^2)*((ω2 - ω1)^2))\n",
       "∂ₜ(⟨σeg⟩) = (0 + 1im)*⟨a⟩*exp((im*(ω2 - ω1))*t - 0.5(τ^2)*((ω1 - ω2)^2)) + (0 - 2im)*⟨a⟩*⟨σee⟩*exp((im*(ω2 - ω1))*t - 0.5(τ^2)*((ω1 - ω2)^2))\n",
       "∂ₜ(⟨σge⟩) = (0 - 1im)*⟨a′⟩*exp((im*(ω1 - ω2))*t - 0.5(τ^2)*((ω2 - ω1)^2)) + (0 + 2im)*⟨a′⟩*⟨σee⟩*exp((im*(ω1 - ω2))*t - 0.5(τ^2)*((ω2 - ω1)^2))\n"
      ]
     },
     "execution_count": 237,
     "metadata": {},
     "output_type": "execute_result"
    }
   ],
   "source": [
    "#@variables \n",
    "#H_eff = exp((0 - 1im)*T*(ω_a + ω_c))*exp(-0.5(τ^2)*((ω_a + ω_c)^2))*(a*σ(:e,:g))\n",
    "#@syms t\n",
    "@cnumbers τ\n",
    "@syms t\n",
    "@cnumbers ω1 ω2\n",
    "eff_ham_1 = exp((im*(-ω1 - ω2))*t)*exp(-0.5(τ^2)*((ω1 + ω2)^2))*(a*σ(:e,:g))\n",
    "eff_ham_2 = exp((im*(ω1 + ω2))*t)*exp(-0.5(τ^2)*((-ω1 - ω2)^2))*(a'*σ(:g,:e))\n",
    "eff_ham_3 = exp((im*(ω2 - ω1))*t)*exp(-0.5(1^2)*((ω1 - ω2)^2))*(a*σ(:g,:e))\n",
    "eff_ham_4 = exp((im*(ω1 - ω2))*t)*exp(-0.5(τ^2)*((ω2 - ω1)^2))*(a'*σ(:e,:g))\n",
    "#eff_ham = sum(eff_ham_rabi_1)\n",
    "eff_ham_try = [eff_ham_1,eff_ham_2,eff_ham_3,eff_ham_4]\n",
    "#H_eff\n",
    "#@cnumbers t0\n",
    "#eff_ham_meanfield = substitute(eff_ham,Dict([t=>t0]))\n",
    "#print(eff_ham_2)\n",
    "eqs0 = meanfield([a,σ(:e, :g),σ(:g, :e)],eff_ham[4]+eff_ham[3],[];rates=[],order=1,iv=t)\n"
   ]
  },
  {
   "cell_type": "code",
   "execution_count": 203,
   "metadata": {},
   "outputs": [
    {
     "data": {
      "text/latex": [
       "\\begin{align}\n",
       "\\frac{d}{dt} \\langle a\\rangle  =& 0 \\\\\n",
       "\\frac{d}{dt} \\langle {\\sigma}^{{eg}}\\rangle  =& 0 \\\\\n",
       "\\frac{d}{dt} \\langle {\\sigma}^{{ge}}\\rangle  =& -1 i \\langle a\\rangle  e^{t \\left( -1 i {\\omega}1 -1 i {\\omega}2 \\right) -0.5 \\tau^{2} \\left( {\\omega}1 + {\\omega}2 \\right)^{2}} + 2 i \\langle a\\rangle  \\langle {\\sigma}^{{ee}}\\rangle  e^{t \\left( -1 i {\\omega}1 -1 i {\\omega}2 \\right) -0.5 \\tau^{2} \\left( {\\omega}1 + {\\omega}2 \\right)^{2}}\n",
       "\\end{align}\n"
      ],
      "text/plain": [
       "∂ₜ(⟨a⟩) = 0\n",
       "∂ₜ(⟨σeg⟩) = 0\n",
       "∂ₜ(⟨σge⟩) = (0 - 1im)*⟨a⟩*exp(t*((0 - 1im)*ω1 + (0 - 1im)*ω2) - 0.5(τ^2)*((ω1 + ω2)^2)) + (0 + 2im)*⟨a⟩*⟨σee⟩*exp(t*((0 - 1im)*ω1 + (0 - 1im)*ω2) - 0.5(τ^2)*((ω1 + ω2)^2))\n"
      ]
     },
     "execution_count": 203,
     "metadata": {},
     "output_type": "execute_result"
    }
   ],
   "source": [
    "eqs1 = meanfield([a,σ(:e, :g),σ(:g, :e)],eff_ham_1,[];rates=[],order=1,iv=t)"
   ]
  },
  {
   "cell_type": "code",
   "execution_count": 244,
   "metadata": {},
   "outputs": [
    {
     "data": {
      "text/latex": [
       "\\begin{align}\n",
       "\\frac{d}{dt} \\langle a\\rangle  =& -1 i \\langle {\\sigma}^{{eg}}\\rangle  e^{t \\left( 1 i {\\omega}1 -1 i {\\omega}2 \\right) -0.5 \\tau^{2} \\left( {\\omega}2 -1 {\\omega}1 \\right)^{2}} -1 i \\langle {\\sigma}^{{ge}}\\rangle  e^{t \\left( 1 i {\\omega}1 + 1 i {\\omega}2 \\right) -0.5 \\tau^{2} \\left( -1 {\\omega}1 -1 {\\omega}2 \\right)^{2}} \\\\\n",
       "\\frac{d}{dt} \\langle a^\\dagger  a\\rangle  =& 1 i \\langle a\\rangle  \\langle {\\sigma}^{{eg}}\\rangle  e^{t \\left( -1 i {\\omega}1 -1 i {\\omega}2 \\right) -0.5 \\tau^{2} \\left( {\\omega}1 + {\\omega}2 \\right)^{2}} + 1 i \\langle a\\rangle  \\langle {\\sigma}^{{ge}}\\rangle  e^{-0.5 \\left( {\\omega}1 -1 {\\omega}2 \\right)^{2} + t \\left( -1 i {\\omega}1 + 1 i {\\omega}2 \\right)} -1 i \\langle a^\\dagger\\rangle  \\langle {\\sigma}^{{eg}}\\rangle  e^{t \\left( 1 i {\\omega}1 -1 i {\\omega}2 \\right) -0.5 \\tau^{2} \\left( {\\omega}2 -1 {\\omega}1 \\right)^{2}} -1 i \\langle a^\\dagger\\rangle  \\langle {\\sigma}^{{ge}}\\rangle  e^{t \\left( 1 i {\\omega}1 + 1 i {\\omega}2 \\right) -0.5 \\tau^{2} \\left( -1 {\\omega}1 -1 {\\omega}2 \\right)^{2}} \\\\\n",
       "\\frac{d}{dt} \\langle {\\sigma}^{{eg}}\\rangle  =& 1 i \\langle a^\\dagger\\rangle  e^{t \\left( 1 i {\\omega}1 + 1 i {\\omega}2 \\right) -0.5 \\tau^{2} \\left( -1 {\\omega}1 -1 {\\omega}2 \\right)^{2}} + 1 i \\langle a\\rangle  e^{-0.5 \\left( {\\omega}1 -1 {\\omega}2 \\right)^{2} + t \\left( -1 i {\\omega}1 + 1 i {\\omega}2 \\right)} -2 i \\langle a\\rangle  \\langle {\\sigma}^{{ee}}\\rangle  e^{-0.5 \\left( {\\omega}1 -1 {\\omega}2 \\right)^{2} + t \\left( -1 i {\\omega}1 + 1 i {\\omega}2 \\right)} -2 i \\langle a^\\dagger\\rangle  \\langle {\\sigma}^{{ee}}\\rangle  e^{t \\left( 1 i {\\omega}1 + 1 i {\\omega}2 \\right) -0.5 \\tau^{2} \\left( -1 {\\omega}1 -1 {\\omega}2 \\right)^{2}} \\\\\n",
       "\\frac{d}{dt} \\langle {\\sigma}^{{ee}}\\rangle  =& -1 i \\langle a\\rangle  \\langle {\\sigma}^{{eg}}\\rangle  e^{t \\left( -1 i {\\omega}1 -1 i {\\omega}2 \\right) -0.5 \\tau^{2} \\left( {\\omega}1 + {\\omega}2 \\right)^{2}} + 1 i \\langle a\\rangle  \\langle {\\sigma}^{{ge}}\\rangle  e^{-0.5 \\left( {\\omega}1 -1 {\\omega}2 \\right)^{2} + t \\left( -1 i {\\omega}1 + 1 i {\\omega}2 \\right)} -1 i \\langle a^\\dagger\\rangle  \\langle {\\sigma}^{{eg}}\\rangle  e^{t \\left( 1 i {\\omega}1 -1 i {\\omega}2 \\right) -0.5 \\tau^{2} \\left( {\\omega}2 -1 {\\omega}1 \\right)^{2}} + 1 i \\langle a^\\dagger\\rangle  \\langle {\\sigma}^{{ge}}\\rangle  e^{t \\left( 1 i {\\omega}1 + 1 i {\\omega}2 \\right) -0.5 \\tau^{2} \\left( -1 {\\omega}1 -1 {\\omega}2 \\right)^{2}}\n",
       "\\end{align}\n"
      ],
      "text/plain": [
       "∂ₜ(⟨a⟩) = (0 - 1im)*⟨σeg⟩*exp(t*((0 + 1im)*ω1 + (0 - 1im)*ω2) - 0.5(τ^2)*((ω2 - ω1)^2)) + (0 - 1im)*⟨σge⟩*exp(t*((0 + 1im)*ω1 + (0 + 1im)*ω2) - 0.5(τ^2)*((-ω1 - ω2)^2))\n",
       "∂ₜ(⟨a′*a⟩) = (0 + 1im)*⟨a⟩*⟨σeg⟩*exp(t*((0 - 1im)*ω1 + (0 - 1im)*ω2) - 0.5(τ^2)*((ω1 + ω2)^2)) + (0 + 1im)*⟨a⟩*⟨σge⟩*exp(t*((0 - 1im)*ω1 + (0 + 1im)*ω2) - 0.5((ω1 - ω2)^2)) + (0 - 1im)*⟨a′⟩*⟨σeg⟩*exp(t*((0 + 1im)*ω1 + (0 - 1im)*ω2) - 0.5(τ^2)*((ω2 - ω1)^2)) + (0 - 1im)*⟨a′⟩*⟨σge⟩*exp(t*((0 + 1im)*ω1 + (0 + 1im)*ω2) - 0.5(τ^2)*((-ω1 - ω2)^2))\n",
       "∂ₜ(⟨σeg⟩) = (0 + 1im)*⟨a′⟩*exp(t*((0 + 1im)*ω1 + (0 + 1im)*ω2) - 0.5(τ^2)*((-ω1 - ω2)^2)) + (0 + 1im)*⟨a⟩*exp(t*((0 - 1im)*ω1 + (0 + 1im)*ω2) - 0.5((ω1 - ω2)^2)) + (0 - 2im)*⟨a⟩*⟨σee⟩*exp(t*((0 - 1im)*ω1 + (0 + 1im)*ω2) - 0.5((ω1 - ω2)^2)) + (0 - 2im)*⟨a′⟩*⟨σee⟩*exp(t*((0 + 1im)*ω1 + (0 + 1im)*ω2) - 0.5(τ^2)*((-ω1 - ω2)^2))\n",
       "∂ₜ(⟨σee⟩) = (0 - 1im)*⟨a⟩*⟨σeg⟩*exp(t*((0 - 1im)*ω1 + (0 - 1im)*ω2) - 0.5(τ^2)*((ω1 + ω2)^2)) + (0 + 1im)*⟨a⟩*⟨σge⟩*exp(t*((0 - 1im)*ω1 + (0 + 1im)*ω2) - 0.5((ω1 - ω2)^2)) + (0 - 1im)*⟨a′⟩*⟨σeg⟩*exp(t*((0 + 1im)*ω1 + (0 - 1im)*ω2) - 0.5(τ^2)*((ω2 - ω1)^2)) + (0 + 1im)*⟨a′⟩*⟨σge⟩*exp(t*((0 + 1im)*ω1 + (0 + 1im)*ω2) - 0.5(τ^2)*((-ω1 - ω2)^2))\n"
      ]
     },
     "execution_count": 244,
     "metadata": {},
     "output_type": "execute_result"
    }
   ],
   "source": [
    "eqs = meanfield([a,a'*a,σ(:e, :g),σ(:e, :e)],sum(eff_ham_try),[];rates=[],order=1,iv=t)"
   ]
  },
  {
   "cell_type": "code",
   "execution_count": 245,
   "metadata": {},
   "outputs": [
    {
     "data": {
      "text/plain": [
       "\u001b[0m\u001b[1mModel sys with 4 \u001b[22m\u001b[0m\u001b[1mequations\u001b[22m\n",
       "\u001b[0m\u001b[1mStates (4):\u001b[22m\n",
       "  var\"⟨a⟩\"(t)\n",
       "  var\"⟨a′*a⟩\"(t)\n",
       "  var\"⟨σeg⟩\"(t)\n",
       "  var\"⟨σee⟩\"(t)\n",
       "\u001b[0m\u001b[1mParameters (3):\u001b[22m\n",
       "  ω1\n",
       "  ω2\n",
       "  τ"
      ]
     },
     "execution_count": 245,
     "metadata": {},
     "output_type": "execute_result"
    }
   ],
   "source": [
    "using ModelingToolkit, OrdinaryDiffEq\n",
    "@named sys = ODESystem(eqs)\n"
   ]
  },
  {
   "cell_type": "code",
   "execution_count": 253,
   "metadata": {},
   "outputs": [
    {
     "data": {
      "text/plain": [
       "\u001b[38;2;86;182;194mODEProblem\u001b[0m with uType \u001b[38;2;86;182;194mVector{ComplexF64}\u001b[0m and tType \u001b[38;2;86;182;194mFloat64\u001b[0m. In-place: \u001b[38;2;86;182;194mtrue\u001b[0m\n",
       "timespan: (0.0, 500.0)\n",
       "u0: 4-element Vector{ComplexF64}:\n",
       " 0.0 + 0.0im\n",
       " 1.0 + 0.0im\n",
       " 0.0 + 0.0im\n",
       " 0.0 + 0.0im"
      ]
     },
     "execution_count": 253,
     "metadata": {},
     "output_type": "execute_result"
    }
   ],
   "source": [
    "p0 = (ω1=>1, ω2=>1.01, τ=>1)\n",
    "u0 = ComplexF64[0, 1,0,0]\n",
    "\n",
    "#σ(:g,:e),σ(:e,:e)  --> [0,0] ground state\n",
    "prob = ODEProblem(sys,u0,(0.0,500),p0)\n",
    "#sol = solve(prob,RK4())"
   ]
  },
  {
   "cell_type": "code",
   "execution_count": 254,
   "metadata": {},
   "outputs": [
    {
     "name": "stderr",
     "output_type": "stream",
     "text": [
      "┌ Warning: Backwards compatability support of the new return codes to Symbols will be deprecated with the Julia v1.9 release. Please see https://docs.sciml.ai/SciMLBase/stable/interfaces/Solutions/#retcodes for more information\n",
      "└ @ SciMLBase /Users/adityagandotra/.julia/packages/SciMLBase/ys6dl/src/retcodes.jl:355\n"
     ]
    },
    {
     "data": {
      "text/plain": [
       "retcode: Success\n",
       "Interpolation: 3rd order Hermite\n",
       "t: 9-element Vector{Float64}:\n",
       "   0.0\n",
       "   9.999999999999999e-5\n",
       "   0.0010999999999999998\n",
       "   0.011099999999999997\n",
       "   0.11109999999999996\n",
       "   1.1110999999999995\n",
       "  11.111099999999993\n",
       " 111.11109999999994\n",
       " 500.0\n",
       "u: 9-element Vector{Vector{ComplexF64}}:\n",
       " [0.0 + 0.0im, 1.0 + 0.0im, 0.0 + 0.0im, 0.0 + 0.0im]\n",
       " [0.0 + 0.0im, 1.0 + 0.0im, 0.0 + 0.0im, 0.0 + 0.0im]\n",
       " [0.0 + 0.0im, 1.0 + 0.0im, 0.0 + 0.0im, 0.0 + 0.0im]\n",
       " [0.0 + 0.0im, 1.0 + 0.0im, 0.0 + 0.0im, 0.0 + 0.0im]\n",
       " [0.0 + 0.0im, 1.0 + 0.0im, 0.0 + 0.0im, 0.0 + 0.0im]\n",
       " [0.0 + 0.0im, 1.0 + 0.0im, 0.0 + 0.0im, 0.0 + 0.0im]\n",
       " [0.0 + 0.0im, 1.0 + 0.0im, 0.0 + 0.0im, 0.0 + 0.0im]\n",
       " [0.0 + 0.0im, 1.0 + 0.0im, 0.0 + 0.0im, 0.0 + 0.0im]\n",
       " [0.0 + 0.0im, 1.0 + 0.0im, 0.0 + 0.0im, 0.0 + 0.0im]"
      ]
     },
     "execution_count": 254,
     "metadata": {},
     "output_type": "execute_result"
    }
   ],
   "source": [
    "sol = solve(prob,RK4())"
   ]
  },
  {
   "cell_type": "code",
   "execution_count": 252,
   "metadata": {},
   "outputs": [
    {
     "data": {
      "image/svg+xml": "<?xml version=\"1.0\" encoding=\"utf-8\"?>\n<svg xmlns=\"http://www.w3.org/2000/svg\" xmlns:xlink=\"http://www.w3.org/1999/xlink\" width=\"600\" height=\"400\" viewBox=\"0 0 2400 1600\">\n<defs>\n  <clipPath id=\"clip850\">\n    <rect x=\"0\" y=\"0\" width=\"2400\" height=\"1600\"/>\n  </clipPath>\n</defs>\n<path clip-path=\"url(#clip850)\" d=\"\nM0 1600 L2400 1600 L2400 0 L0 0  Z\n  \" fill=\"#ffffff\" fill-rule=\"evenodd\" fill-opacity=\"1\"/>\n<defs>\n  <clipPath id=\"clip851\">\n    <rect x=\"480\" y=\"0\" width=\"1681\" height=\"1600\"/>\n  </clipPath>\n</defs>\n<path clip-path=\"url(#clip850)\" d=\"\nM187.084 1423.18 L2352.76 1423.18 L2352.76 47.2441 L187.084 47.2441  Z\n  \" fill=\"#ffffff\" fill-rule=\"evenodd\" fill-opacity=\"1\"/>\n<defs>\n  <clipPath id=\"clip852\">\n    <rect x=\"187\" y=\"47\" width=\"2167\" height=\"1377\"/>\n  </clipPath>\n</defs>\n<polyline clip-path=\"url(#clip852)\" style=\"stroke:#000000; stroke-linecap:round; stroke-linejoin:round; stroke-width:2; stroke-opacity:0.1; fill:none\" points=\"\n  248.377,1423.18 248.377,47.2441 \n  \"/>\n<polyline clip-path=\"url(#clip852)\" style=\"stroke:#000000; stroke-linecap:round; stroke-linejoin:round; stroke-width:2; stroke-opacity:0.1; fill:none\" points=\"\n  656.994,1423.18 656.994,47.2441 \n  \"/>\n<polyline clip-path=\"url(#clip852)\" style=\"stroke:#000000; stroke-linecap:round; stroke-linejoin:round; stroke-width:2; stroke-opacity:0.1; fill:none\" points=\"\n  1065.61,1423.18 1065.61,47.2441 \n  \"/>\n<polyline clip-path=\"url(#clip852)\" style=\"stroke:#000000; stroke-linecap:round; stroke-linejoin:round; stroke-width:2; stroke-opacity:0.1; fill:none\" points=\"\n  1474.23,1423.18 1474.23,47.2441 \n  \"/>\n<polyline clip-path=\"url(#clip852)\" style=\"stroke:#000000; stroke-linecap:round; stroke-linejoin:round; stroke-width:2; stroke-opacity:0.1; fill:none\" points=\"\n  1882.85,1423.18 1882.85,47.2441 \n  \"/>\n<polyline clip-path=\"url(#clip852)\" style=\"stroke:#000000; stroke-linecap:round; stroke-linejoin:round; stroke-width:2; stroke-opacity:0.1; fill:none\" points=\"\n  2291.46,1423.18 2291.46,47.2441 \n  \"/>\n<polyline clip-path=\"url(#clip850)\" style=\"stroke:#000000; stroke-linecap:round; stroke-linejoin:round; stroke-width:4; stroke-opacity:1; fill:none\" points=\"\n  187.084,1423.18 2352.76,1423.18 \n  \"/>\n<polyline clip-path=\"url(#clip850)\" style=\"stroke:#000000; stroke-linecap:round; stroke-linejoin:round; stroke-width:4; stroke-opacity:1; fill:none\" points=\"\n  248.377,1423.18 248.377,1404.28 \n  \"/>\n<polyline clip-path=\"url(#clip850)\" style=\"stroke:#000000; stroke-linecap:round; stroke-linejoin:round; stroke-width:4; stroke-opacity:1; fill:none\" points=\"\n  656.994,1423.18 656.994,1404.28 \n  \"/>\n<polyline clip-path=\"url(#clip850)\" style=\"stroke:#000000; stroke-linecap:round; stroke-linejoin:round; stroke-width:4; stroke-opacity:1; fill:none\" points=\"\n  1065.61,1423.18 1065.61,1404.28 \n  \"/>\n<polyline clip-path=\"url(#clip850)\" style=\"stroke:#000000; stroke-linecap:round; stroke-linejoin:round; stroke-width:4; stroke-opacity:1; fill:none\" points=\"\n  1474.23,1423.18 1474.23,1404.28 \n  \"/>\n<polyline clip-path=\"url(#clip850)\" style=\"stroke:#000000; stroke-linecap:round; stroke-linejoin:round; stroke-width:4; stroke-opacity:1; fill:none\" points=\"\n  1882.85,1423.18 1882.85,1404.28 \n  \"/>\n<polyline clip-path=\"url(#clip850)\" style=\"stroke:#000000; stroke-linecap:round; stroke-linejoin:round; stroke-width:4; stroke-opacity:1; fill:none\" points=\"\n  2291.46,1423.18 2291.46,1404.28 \n  \"/>\n<path clip-path=\"url(#clip850)\" d=\"M248.377 1454.1 Q244.766 1454.1 242.937 1457.66 Q241.131 1461.2 241.131 1468.33 Q241.131 1475.44 242.937 1479.01 Q244.766 1482.55 248.377 1482.55 Q252.011 1482.55 253.817 1479.01 Q255.645 1475.44 255.645 1468.33 Q255.645 1461.2 253.817 1457.66 Q252.011 1454.1 248.377 1454.1 M248.377 1450.39 Q254.187 1450.39 257.242 1455 Q260.321 1459.58 260.321 1468.33 Q260.321 1477.06 257.242 1481.67 Q254.187 1486.25 248.377 1486.25 Q242.567 1486.25 239.488 1481.67 Q236.432 1477.06 236.432 1468.33 Q236.432 1459.58 239.488 1455 Q242.567 1450.39 248.377 1450.39 Z\" fill=\"#000000\" fill-rule=\"evenodd\" fill-opacity=\"1\" /><path clip-path=\"url(#clip850)\" d=\"M631.682 1481.64 L639.321 1481.64 L639.321 1455.28 L631.01 1456.95 L631.01 1452.69 L639.274 1451.02 L643.95 1451.02 L643.95 1481.64 L651.589 1481.64 L651.589 1485.58 L631.682 1485.58 L631.682 1481.64 Z\" fill=\"#000000\" fill-rule=\"evenodd\" fill-opacity=\"1\" /><path clip-path=\"url(#clip850)\" d=\"M671.033 1454.1 Q667.422 1454.1 665.594 1457.66 Q663.788 1461.2 663.788 1468.33 Q663.788 1475.44 665.594 1479.01 Q667.422 1482.55 671.033 1482.55 Q674.668 1482.55 676.473 1479.01 Q678.302 1475.44 678.302 1468.33 Q678.302 1461.2 676.473 1457.66 Q674.668 1454.1 671.033 1454.1 M671.033 1450.39 Q676.844 1450.39 679.899 1455 Q682.978 1459.58 682.978 1468.33 Q682.978 1477.06 679.899 1481.67 Q676.844 1486.25 671.033 1486.25 Q665.223 1486.25 662.145 1481.67 Q659.089 1477.06 659.089 1468.33 Q659.089 1459.58 662.145 1455 Q665.223 1450.39 671.033 1450.39 Z\" fill=\"#000000\" fill-rule=\"evenodd\" fill-opacity=\"1\" /><path clip-path=\"url(#clip850)\" d=\"M1044.38 1481.64 L1060.7 1481.64 L1060.7 1485.58 L1038.76 1485.58 L1038.76 1481.64 Q1041.42 1478.89 1046.01 1474.26 Q1050.61 1469.61 1051.79 1468.27 Q1054.04 1465.74 1054.92 1464.01 Q1055.82 1462.25 1055.82 1460.56 Q1055.82 1457.8 1053.88 1456.07 Q1051.95 1454.33 1048.85 1454.33 Q1046.65 1454.33 1044.2 1455.09 Q1041.77 1455.86 1038.99 1457.41 L1038.99 1452.69 Q1041.82 1451.55 1044.27 1450.97 Q1046.72 1450.39 1048.76 1450.39 Q1054.13 1450.39 1057.32 1453.08 Q1060.52 1455.77 1060.52 1460.26 Q1060.52 1462.39 1059.71 1464.31 Q1058.92 1466.2 1056.82 1468.8 Q1056.24 1469.47 1053.13 1472.69 Q1050.03 1475.88 1044.38 1481.64 Z\" fill=\"#000000\" fill-rule=\"evenodd\" fill-opacity=\"1\" /><path clip-path=\"url(#clip850)\" d=\"M1080.52 1454.1 Q1076.91 1454.1 1075.08 1457.66 Q1073.27 1461.2 1073.27 1468.33 Q1073.27 1475.44 1075.08 1479.01 Q1076.91 1482.55 1080.52 1482.55 Q1084.15 1482.55 1085.96 1479.01 Q1087.79 1475.44 1087.79 1468.33 Q1087.79 1461.2 1085.96 1457.66 Q1084.15 1454.1 1080.52 1454.1 M1080.52 1450.39 Q1086.33 1450.39 1089.38 1455 Q1092.46 1459.58 1092.46 1468.33 Q1092.46 1477.06 1089.38 1481.67 Q1086.33 1486.25 1080.52 1486.25 Q1074.71 1486.25 1071.63 1481.67 Q1068.57 1477.06 1068.57 1468.33 Q1068.57 1459.58 1071.63 1455 Q1074.71 1450.39 1080.52 1450.39 Z\" fill=\"#000000\" fill-rule=\"evenodd\" fill-opacity=\"1\" /><path clip-path=\"url(#clip850)\" d=\"M1463.07 1466.95 Q1466.43 1467.66 1468.3 1469.93 Q1470.2 1472.2 1470.2 1475.53 Q1470.2 1480.65 1466.68 1483.45 Q1463.16 1486.25 1456.68 1486.25 Q1454.51 1486.25 1452.19 1485.81 Q1449.9 1485.39 1447.45 1484.54 L1447.45 1480.02 Q1449.39 1481.16 1451.71 1481.74 Q1454.02 1482.32 1456.54 1482.32 Q1460.94 1482.32 1463.23 1480.58 Q1465.55 1478.84 1465.55 1475.53 Q1465.55 1472.48 1463.4 1470.77 Q1461.27 1469.03 1457.45 1469.03 L1453.42 1469.03 L1453.42 1465.19 L1457.63 1465.19 Q1461.08 1465.19 1462.91 1463.82 Q1464.74 1462.43 1464.74 1459.84 Q1464.74 1457.18 1462.84 1455.77 Q1460.96 1454.33 1457.45 1454.33 Q1455.53 1454.33 1453.33 1454.75 Q1451.13 1455.16 1448.49 1456.04 L1448.49 1451.88 Q1451.15 1451.14 1453.46 1450.77 Q1455.8 1450.39 1457.86 1450.39 Q1463.19 1450.39 1466.29 1452.83 Q1469.39 1455.23 1469.39 1459.35 Q1469.39 1462.22 1467.75 1464.21 Q1466.1 1466.18 1463.07 1466.95 Z\" fill=\"#000000\" fill-rule=\"evenodd\" fill-opacity=\"1\" /><path clip-path=\"url(#clip850)\" d=\"M1489.07 1454.1 Q1485.46 1454.1 1483.63 1457.66 Q1481.82 1461.2 1481.82 1468.33 Q1481.82 1475.44 1483.63 1479.01 Q1485.46 1482.55 1489.07 1482.55 Q1492.7 1482.55 1494.51 1479.01 Q1496.34 1475.44 1496.34 1468.33 Q1496.34 1461.2 1494.51 1457.66 Q1492.7 1454.1 1489.07 1454.1 M1489.07 1450.39 Q1494.88 1450.39 1497.93 1455 Q1501.01 1459.58 1501.01 1468.33 Q1501.01 1477.06 1497.93 1481.67 Q1494.88 1486.25 1489.07 1486.25 Q1483.26 1486.25 1480.18 1481.67 Q1477.12 1477.06 1477.12 1468.33 Q1477.12 1459.58 1480.18 1455 Q1483.26 1450.39 1489.07 1450.39 Z\" fill=\"#000000\" fill-rule=\"evenodd\" fill-opacity=\"1\" /><path clip-path=\"url(#clip850)\" d=\"M1871.02 1455.09 L1859.21 1473.54 L1871.02 1473.54 L1871.02 1455.09 M1869.79 1451.02 L1875.67 1451.02 L1875.67 1473.54 L1880.6 1473.54 L1880.6 1477.43 L1875.67 1477.43 L1875.67 1485.58 L1871.02 1485.58 L1871.02 1477.43 L1855.42 1477.43 L1855.42 1472.92 L1869.79 1451.02 Z\" fill=\"#000000\" fill-rule=\"evenodd\" fill-opacity=\"1\" /><path clip-path=\"url(#clip850)\" d=\"M1898.33 1454.1 Q1894.72 1454.1 1892.89 1457.66 Q1891.09 1461.2 1891.09 1468.33 Q1891.09 1475.44 1892.89 1479.01 Q1894.72 1482.55 1898.33 1482.55 Q1901.97 1482.55 1903.77 1479.01 Q1905.6 1475.44 1905.6 1468.33 Q1905.6 1461.2 1903.77 1457.66 Q1901.97 1454.1 1898.33 1454.1 M1898.33 1450.39 Q1904.14 1450.39 1907.2 1455 Q1910.28 1459.58 1910.28 1468.33 Q1910.28 1477.06 1907.2 1481.67 Q1904.14 1486.25 1898.33 1486.25 Q1892.52 1486.25 1889.44 1481.67 Q1886.39 1477.06 1886.39 1468.33 Q1886.39 1459.58 1889.44 1455 Q1892.52 1450.39 1898.33 1450.39 Z\" fill=\"#000000\" fill-rule=\"evenodd\" fill-opacity=\"1\" /><path clip-path=\"url(#clip850)\" d=\"M2266.16 1451.02 L2284.52 1451.02 L2284.52 1454.96 L2270.44 1454.96 L2270.44 1463.43 Q2271.46 1463.08 2272.48 1462.92 Q2273.5 1462.73 2274.52 1462.73 Q2280.31 1462.73 2283.69 1465.9 Q2287.07 1469.08 2287.07 1474.49 Q2287.07 1480.07 2283.59 1483.17 Q2280.12 1486.25 2273.8 1486.25 Q2271.63 1486.25 2269.36 1485.88 Q2267.11 1485.51 2264.7 1484.77 L2264.7 1480.07 Q2266.79 1481.2 2269.01 1481.76 Q2271.23 1482.32 2273.71 1482.32 Q2277.71 1482.32 2280.05 1480.21 Q2282.39 1478.1 2282.39 1474.49 Q2282.39 1470.88 2280.05 1468.77 Q2277.71 1466.67 2273.71 1466.67 Q2271.83 1466.67 2269.96 1467.08 Q2268.11 1467.5 2266.16 1468.38 L2266.16 1451.02 Z\" fill=\"#000000\" fill-rule=\"evenodd\" fill-opacity=\"1\" /><path clip-path=\"url(#clip850)\" d=\"M2306.28 1454.1 Q2302.67 1454.1 2300.84 1457.66 Q2299.03 1461.2 2299.03 1468.33 Q2299.03 1475.44 2300.84 1479.01 Q2302.67 1482.55 2306.28 1482.55 Q2309.91 1482.55 2311.72 1479.01 Q2313.55 1475.44 2313.55 1468.33 Q2313.55 1461.2 2311.72 1457.66 Q2309.91 1454.1 2306.28 1454.1 M2306.28 1450.39 Q2312.09 1450.39 2315.14 1455 Q2318.22 1459.58 2318.22 1468.33 Q2318.22 1477.06 2315.14 1481.67 Q2312.09 1486.25 2306.28 1486.25 Q2300.47 1486.25 2297.39 1481.67 Q2294.33 1477.06 2294.33 1468.33 Q2294.33 1459.58 2297.39 1455 Q2300.47 1450.39 2306.28 1450.39 Z\" fill=\"#000000\" fill-rule=\"evenodd\" fill-opacity=\"1\" /><path clip-path=\"url(#clip850)\" d=\"M1268.98 1522.27 L1268.98 1532.4 L1281.04 1532.4 L1281.04 1536.95 L1268.98 1536.95 L1268.98 1556.3 Q1268.98 1560.66 1270.16 1561.9 Q1271.37 1563.14 1275.03 1563.14 L1281.04 1563.14 L1281.04 1568.04 L1275.03 1568.04 Q1268.25 1568.04 1265.67 1565.53 Q1263.09 1562.98 1263.09 1556.3 L1263.09 1536.95 L1258.8 1536.95 L1258.8 1532.4 L1263.09 1532.4 L1263.09 1522.27 L1268.98 1522.27 Z\" fill=\"#000000\" fill-rule=\"evenodd\" fill-opacity=\"1\" /><polyline clip-path=\"url(#clip852)\" style=\"stroke:#000000; stroke-linecap:round; stroke-linejoin:round; stroke-width:2; stroke-opacity:0.1; fill:none\" points=\"\n  187.084,1384.24 2352.76,1384.24 \n  \"/>\n<polyline clip-path=\"url(#clip852)\" style=\"stroke:#000000; stroke-linecap:round; stroke-linejoin:round; stroke-width:2; stroke-opacity:0.1; fill:none\" points=\"\n  187.084,1059.73 2352.76,1059.73 \n  \"/>\n<polyline clip-path=\"url(#clip852)\" style=\"stroke:#000000; stroke-linecap:round; stroke-linejoin:round; stroke-width:2; stroke-opacity:0.1; fill:none\" points=\"\n  187.084,735.212 2352.76,735.212 \n  \"/>\n<polyline clip-path=\"url(#clip852)\" style=\"stroke:#000000; stroke-linecap:round; stroke-linejoin:round; stroke-width:2; stroke-opacity:0.1; fill:none\" points=\"\n  187.084,410.699 2352.76,410.699 \n  \"/>\n<polyline clip-path=\"url(#clip852)\" style=\"stroke:#000000; stroke-linecap:round; stroke-linejoin:round; stroke-width:2; stroke-opacity:0.1; fill:none\" points=\"\n  187.084,86.1857 2352.76,86.1857 \n  \"/>\n<polyline clip-path=\"url(#clip850)\" style=\"stroke:#000000; stroke-linecap:round; stroke-linejoin:round; stroke-width:4; stroke-opacity:1; fill:none\" points=\"\n  187.084,1423.18 187.084,47.2441 \n  \"/>\n<polyline clip-path=\"url(#clip850)\" style=\"stroke:#000000; stroke-linecap:round; stroke-linejoin:round; stroke-width:4; stroke-opacity:1; fill:none\" points=\"\n  187.084,1384.24 205.982,1384.24 \n  \"/>\n<polyline clip-path=\"url(#clip850)\" style=\"stroke:#000000; stroke-linecap:round; stroke-linejoin:round; stroke-width:4; stroke-opacity:1; fill:none\" points=\"\n  187.084,1059.73 205.982,1059.73 \n  \"/>\n<polyline clip-path=\"url(#clip850)\" style=\"stroke:#000000; stroke-linecap:round; stroke-linejoin:round; stroke-width:4; stroke-opacity:1; fill:none\" points=\"\n  187.084,735.212 205.982,735.212 \n  \"/>\n<polyline clip-path=\"url(#clip850)\" style=\"stroke:#000000; stroke-linecap:round; stroke-linejoin:round; stroke-width:4; stroke-opacity:1; fill:none\" points=\"\n  187.084,410.699 205.982,410.699 \n  \"/>\n<polyline clip-path=\"url(#clip850)\" style=\"stroke:#000000; stroke-linecap:round; stroke-linejoin:round; stroke-width:4; stroke-opacity:1; fill:none\" points=\"\n  187.084,86.1857 205.982,86.1857 \n  \"/>\n<path clip-path=\"url(#clip850)\" d=\"M66.5939 1371.03 L54.7884 1389.48 L66.5939 1389.48 L66.5939 1371.03 M65.367 1366.96 L71.2466 1366.96 L71.2466 1389.48 L76.1772 1389.48 L76.1772 1393.37 L71.2466 1393.37 L71.2466 1401.52 L66.5939 1401.52 L66.5939 1393.37 L50.9921 1393.37 L50.9921 1388.86 L65.367 1366.96 Z\" fill=\"#000000\" fill-rule=\"evenodd\" fill-opacity=\"1\" /><path clip-path=\"url(#clip850)\" d=\"M83.9086 1395.64 L88.7928 1395.64 L88.7928 1401.52 L83.9086 1401.52 L83.9086 1395.64 Z\" fill=\"#000000\" fill-rule=\"evenodd\" fill-opacity=\"1\" /><path clip-path=\"url(#clip850)\" d=\"M108.978 1370.04 Q105.367 1370.04 103.538 1373.6 Q101.733 1377.14 101.733 1384.27 Q101.733 1391.38 103.538 1394.94 Q105.367 1398.49 108.978 1398.49 Q112.612 1398.49 114.418 1394.94 Q116.246 1391.38 116.246 1384.27 Q116.246 1377.14 114.418 1373.6 Q112.612 1370.04 108.978 1370.04 M108.978 1366.33 Q114.788 1366.33 117.844 1370.94 Q120.922 1375.52 120.922 1384.27 Q120.922 1393 117.844 1397.61 Q114.788 1402.19 108.978 1402.19 Q103.168 1402.19 100.089 1397.61 Q97.0335 1393 97.0335 1384.27 Q97.0335 1375.52 100.089 1370.94 Q103.168 1366.33 108.978 1366.33 Z\" fill=\"#000000\" fill-rule=\"evenodd\" fill-opacity=\"1\" /><path clip-path=\"url(#clip850)\" d=\"M139.14 1370.04 Q135.529 1370.04 133.7 1373.6 Q131.894 1377.14 131.894 1384.27 Q131.894 1391.38 133.7 1394.94 Q135.529 1398.49 139.14 1398.49 Q142.774 1398.49 144.58 1394.94 Q146.408 1391.38 146.408 1384.27 Q146.408 1377.14 144.58 1373.6 Q142.774 1370.04 139.14 1370.04 M139.14 1366.33 Q144.95 1366.33 148.005 1370.94 Q151.084 1375.52 151.084 1384.27 Q151.084 1393 148.005 1397.61 Q144.95 1402.19 139.14 1402.19 Q133.33 1402.19 130.251 1397.61 Q127.195 1393 127.195 1384.27 Q127.195 1375.52 130.251 1370.94 Q133.33 1366.33 139.14 1366.33 Z\" fill=\"#000000\" fill-rule=\"evenodd\" fill-opacity=\"1\" /><path clip-path=\"url(#clip850)\" d=\"M67.5893 1046.52 L55.7838 1064.97 L67.5893 1064.97 L67.5893 1046.52 M66.3624 1042.45 L72.242 1042.45 L72.242 1064.97 L77.1725 1064.97 L77.1725 1068.86 L72.242 1068.86 L72.242 1077.01 L67.5893 1077.01 L67.5893 1068.86 L51.9875 1068.86 L51.9875 1064.34 L66.3624 1042.45 Z\" fill=\"#000000\" fill-rule=\"evenodd\" fill-opacity=\"1\" /><path clip-path=\"url(#clip850)\" d=\"M84.904 1071.13 L89.7882 1071.13 L89.7882 1077.01 L84.904 1077.01 L84.904 1071.13 Z\" fill=\"#000000\" fill-rule=\"evenodd\" fill-opacity=\"1\" /><path clip-path=\"url(#clip850)\" d=\"M104.001 1073.07 L120.32 1073.07 L120.32 1077.01 L98.3761 1077.01 L98.3761 1073.07 Q101.038 1070.32 105.621 1065.69 Q110.228 1061.03 111.408 1059.69 Q113.654 1057.17 114.533 1055.43 Q115.436 1053.67 115.436 1051.98 Q115.436 1049.23 113.492 1047.49 Q111.571 1045.76 108.469 1045.76 Q106.27 1045.76 103.816 1046.52 Q101.385 1047.28 98.6076 1048.83 L98.6076 1044.11 Q101.432 1042.98 103.885 1042.4 Q106.339 1041.82 108.376 1041.82 Q113.746 1041.82 116.941 1044.51 Q120.135 1047.19 120.135 1051.68 Q120.135 1053.81 119.325 1055.73 Q118.538 1057.63 116.432 1060.22 Q115.853 1060.89 112.751 1064.11 Q109.649 1067.31 104.001 1073.07 Z\" fill=\"#000000\" fill-rule=\"evenodd\" fill-opacity=\"1\" /><path clip-path=\"url(#clip850)\" d=\"M130.182 1042.45 L148.538 1042.45 L148.538 1046.38 L134.464 1046.38 L134.464 1054.85 Q135.482 1054.51 136.501 1054.34 Q137.519 1054.16 138.538 1054.16 Q144.325 1054.16 147.705 1057.33 Q151.084 1060.5 151.084 1065.92 Q151.084 1071.5 147.612 1074.6 Q144.14 1077.68 137.82 1077.68 Q135.644 1077.68 133.376 1077.31 Q131.131 1076.94 128.723 1076.19 L128.723 1071.5 Q130.807 1072.63 133.029 1073.19 Q135.251 1073.74 137.728 1073.74 Q141.732 1073.74 144.07 1071.63 Q146.408 1069.53 146.408 1065.92 Q146.408 1062.31 144.07 1060.2 Q141.732 1058.09 137.728 1058.09 Q135.853 1058.09 133.978 1058.51 Q132.126 1058.93 130.182 1059.81 L130.182 1042.45 Z\" fill=\"#000000\" fill-rule=\"evenodd\" fill-opacity=\"1\" /><path clip-path=\"url(#clip850)\" d=\"M66.5939 722.006 L54.7884 740.455 L66.5939 740.455 L66.5939 722.006 M65.367 717.932 L71.2466 717.932 L71.2466 740.455 L76.1772 740.455 L76.1772 744.344 L71.2466 744.344 L71.2466 752.492 L66.5939 752.492 L66.5939 744.344 L50.9921 744.344 L50.9921 739.83 L65.367 717.932 Z\" fill=\"#000000\" fill-rule=\"evenodd\" fill-opacity=\"1\" /><path clip-path=\"url(#clip850)\" d=\"M83.9086 746.612 L88.7928 746.612 L88.7928 752.492 L83.9086 752.492 L83.9086 746.612 Z\" fill=\"#000000\" fill-rule=\"evenodd\" fill-opacity=\"1\" /><path clip-path=\"url(#clip850)\" d=\"M99.0243 717.932 L117.381 717.932 L117.381 721.867 L103.307 721.867 L103.307 730.339 Q104.325 729.992 105.344 729.83 Q106.362 729.645 107.381 729.645 Q113.168 729.645 116.547 732.816 Q119.927 735.987 119.927 741.404 Q119.927 746.983 116.455 750.085 Q112.983 753.163 106.663 753.163 Q104.487 753.163 102.219 752.793 Q99.9733 752.423 97.566 751.682 L97.566 746.983 Q99.6493 748.117 101.871 748.673 Q104.094 749.228 106.571 749.228 Q110.575 749.228 112.913 747.122 Q115.251 745.015 115.251 741.404 Q115.251 737.793 112.913 735.687 Q110.575 733.58 106.571 733.58 Q104.696 733.58 102.821 733.997 Q100.969 734.413 99.0243 735.293 L99.0243 717.932 Z\" fill=\"#000000\" fill-rule=\"evenodd\" fill-opacity=\"1\" /><path clip-path=\"url(#clip850)\" d=\"M139.14 721.011 Q135.529 721.011 133.7 724.575 Q131.894 728.117 131.894 735.247 Q131.894 742.353 133.7 745.918 Q135.529 749.46 139.14 749.46 Q142.774 749.46 144.58 745.918 Q146.408 742.353 146.408 735.247 Q146.408 728.117 144.58 724.575 Q142.774 721.011 139.14 721.011 M139.14 717.307 Q144.95 717.307 148.005 721.913 Q151.084 726.497 151.084 735.247 Q151.084 743.973 148.005 748.58 Q144.95 753.163 139.14 753.163 Q133.33 753.163 130.251 748.58 Q127.195 743.973 127.195 735.247 Q127.195 726.497 130.251 721.913 Q133.33 717.307 139.14 717.307 Z\" fill=\"#000000\" fill-rule=\"evenodd\" fill-opacity=\"1\" /><path clip-path=\"url(#clip850)\" d=\"M67.5893 397.493 L55.7838 415.942 L67.5893 415.942 L67.5893 397.493 M66.3624 393.419 L72.242 393.419 L72.242 415.942 L77.1725 415.942 L77.1725 419.831 L72.242 419.831 L72.242 427.979 L67.5893 427.979 L67.5893 419.831 L51.9875 419.831 L51.9875 415.317 L66.3624 393.419 Z\" fill=\"#000000\" fill-rule=\"evenodd\" fill-opacity=\"1\" /><path clip-path=\"url(#clip850)\" d=\"M84.904 422.099 L89.7882 422.099 L89.7882 427.979 L84.904 427.979 L84.904 422.099 Z\" fill=\"#000000\" fill-rule=\"evenodd\" fill-opacity=\"1\" /><path clip-path=\"url(#clip850)\" d=\"M98.7928 393.419 L121.015 393.419 L121.015 395.41 L108.469 427.979 L103.584 427.979 L115.39 397.354 L98.7928 397.354 L98.7928 393.419 Z\" fill=\"#000000\" fill-rule=\"evenodd\" fill-opacity=\"1\" /><path clip-path=\"url(#clip850)\" d=\"M130.182 393.419 L148.538 393.419 L148.538 397.354 L134.464 397.354 L134.464 405.826 Q135.482 405.479 136.501 405.317 Q137.519 405.132 138.538 405.132 Q144.325 405.132 147.705 408.303 Q151.084 411.474 151.084 416.891 Q151.084 422.47 147.612 425.571 Q144.14 428.65 137.82 428.65 Q135.644 428.65 133.376 428.28 Q131.131 427.909 128.723 427.169 L128.723 422.47 Q130.807 423.604 133.029 424.159 Q135.251 424.715 137.728 424.715 Q141.732 424.715 144.07 422.608 Q146.408 420.502 146.408 416.891 Q146.408 413.28 144.07 411.173 Q141.732 409.067 137.728 409.067 Q135.853 409.067 133.978 409.484 Q132.126 409.9 130.182 410.78 L130.182 393.419 Z\" fill=\"#000000\" fill-rule=\"evenodd\" fill-opacity=\"1\" /><path clip-path=\"url(#clip850)\" d=\"M53.793 68.9057 L72.1494 68.9057 L72.1494 72.8408 L58.0754 72.8408 L58.0754 81.313 Q59.0939 80.9658 60.1124 80.8038 Q61.131 80.6186 62.1495 80.6186 Q67.9365 80.6186 71.3161 83.7899 Q74.6957 86.9611 74.6957 92.3778 Q74.6957 97.9564 71.2235 101.058 Q67.7513 104.137 61.4319 104.137 Q59.256 104.137 56.9875 103.767 Q54.7421 103.396 52.3347 102.655 L52.3347 97.9564 Q54.418 99.0907 56.6402 99.6462 Q58.8625 100.202 61.3393 100.202 Q65.3439 100.202 67.6819 98.0953 Q70.0198 95.9889 70.0198 92.3778 Q70.0198 88.7667 67.6819 86.6602 Q65.3439 84.5537 61.3393 84.5537 Q59.4643 84.5537 57.5893 84.9704 Q55.7375 85.3871 53.793 86.2667 L53.793 68.9057 Z\" fill=\"#000000\" fill-rule=\"evenodd\" fill-opacity=\"1\" /><path clip-path=\"url(#clip850)\" d=\"M83.9086 97.5861 L88.7928 97.5861 L88.7928 103.466 L83.9086 103.466 L83.9086 97.5861 Z\" fill=\"#000000\" fill-rule=\"evenodd\" fill-opacity=\"1\" /><path clip-path=\"url(#clip850)\" d=\"M108.978 71.9844 Q105.367 71.9844 103.538 75.5492 Q101.733 79.0908 101.733 86.2204 Q101.733 93.3268 103.538 96.8916 Q105.367 100.433 108.978 100.433 Q112.612 100.433 114.418 96.8916 Q116.246 93.3268 116.246 86.2204 Q116.246 79.0908 114.418 75.5492 Q112.612 71.9844 108.978 71.9844 M108.978 68.2807 Q114.788 68.2807 117.844 72.8871 Q120.922 77.4704 120.922 86.2204 Q120.922 94.9472 117.844 99.5537 Q114.788 104.137 108.978 104.137 Q103.168 104.137 100.089 99.5537 Q97.0335 94.9472 97.0335 86.2204 Q97.0335 77.4704 100.089 72.8871 Q103.168 68.2807 108.978 68.2807 Z\" fill=\"#000000\" fill-rule=\"evenodd\" fill-opacity=\"1\" /><path clip-path=\"url(#clip850)\" d=\"M139.14 71.9844 Q135.529 71.9844 133.7 75.5492 Q131.894 79.0908 131.894 86.2204 Q131.894 93.3268 133.7 96.8916 Q135.529 100.433 139.14 100.433 Q142.774 100.433 144.58 96.8916 Q146.408 93.3268 146.408 86.2204 Q146.408 79.0908 144.58 75.5492 Q142.774 71.9844 139.14 71.9844 M139.14 68.2807 Q144.95 68.2807 148.005 72.8871 Q151.084 77.4704 151.084 86.2204 Q151.084 94.9472 148.005 99.5537 Q144.95 104.137 139.14 104.137 Q133.33 104.137 130.251 99.5537 Q127.195 94.9472 127.195 86.2204 Q127.195 77.4704 130.251 72.8871 Q133.33 68.2807 139.14 68.2807 Z\" fill=\"#000000\" fill-rule=\"evenodd\" fill-opacity=\"1\" /><polyline clip-path=\"url(#clip852)\" style=\"stroke:#009af9; stroke-linecap:round; stroke-linejoin:round; stroke-width:4; stroke-opacity:1; fill:none\" points=\"\n  248.377,1384.24 248.381,1384.24 248.422,1384.24 248.83,1384.24 252.917,1384.24 293.778,1384.24 702.396,1384.24 2291.46,1384.24 \n  \"/>\n<path clip-path=\"url(#clip850)\" d=\"\nM2018.22 196.789 L2280.57 196.789 L2280.57 93.1086 L2018.22 93.1086  Z\n  \" fill=\"#ffffff\" fill-rule=\"evenodd\" fill-opacity=\"1\"/>\n<polyline clip-path=\"url(#clip850)\" style=\"stroke:#000000; stroke-linecap:round; stroke-linejoin:round; stroke-width:4; stroke-opacity:1; fill:none\" points=\"\n  2018.22,196.789 2280.57,196.789 2280.57,93.1086 2018.22,93.1086 2018.22,196.789 \n  \"/>\n<polyline clip-path=\"url(#clip850)\" style=\"stroke:#009af9; stroke-linecap:round; stroke-linejoin:round; stroke-width:4; stroke-opacity:1; fill:none\" points=\"\n  2042.29,144.949 2186.66,144.949 \n  \"/>\n<path clip-path=\"url(#clip850)\" d=\"M2232.44 146.581 L2232.44 162.229 L2228.18 162.229 L2228.18 146.719 Q2228.18 143.039 2226.75 141.21 Q2225.31 139.382 2222.44 139.382 Q2218.99 139.382 2217 141.581 Q2215.01 143.78 2215.01 147.576 L2215.01 162.229 L2210.73 162.229 L2210.73 136.303 L2215.01 136.303 L2215.01 140.331 Q2216.54 137.993 2218.6 136.835 Q2220.68 135.678 2223.39 135.678 Q2227.86 135.678 2230.15 138.456 Q2232.44 141.21 2232.44 146.581 Z\" fill=\"#000000\" fill-rule=\"evenodd\" fill-opacity=\"1\" /></svg>\n"
     },
     "execution_count": 252,
     "metadata": {},
     "output_type": "execute_result"
    }
   ],
   "source": [
    "using Plots\n",
    "n = abs2.(sol[])\n",
    "plot(sol.t, n, xlabel=\"t\", label=\"n\")"
   ]
  }
 ],
 "metadata": {
  "kernelspec": {
   "display_name": "Julia 1.7.3",
   "language": "julia",
   "name": "julia-1.7"
  },
  "language_info": {
   "file_extension": ".jl",
   "mimetype": "application/julia",
   "name": "julia",
   "version": "1.7.3"
  },
  "orig_nbformat": 4
 },
 "nbformat": 4,
 "nbformat_minor": 2
}
