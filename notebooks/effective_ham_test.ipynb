{
 "cells": [
  {
   "cell_type": "code",
   "execution_count": 26,
   "metadata": {},
   "outputs": [
    {
     "data": {
      "text/plain": [
       "reshape_sols"
      ]
     },
     "metadata": {},
     "output_type": "display_data"
    }
   ],
   "source": [
    "using QuantumCumulants\n",
    "using IterTools\n",
    "using Symbolics\n",
    "using SymbolicUtils\n",
    "using SymbolicUtils.Rewriters\n",
    "using OrdinaryDiffEq, ModelingToolkit\n",
    "using Plots\n",
    "\n",
    "include(\"../src/diagrams.jl\")\n",
    "include(\"../src/contractions.jl\")\n",
    "include(\"../src/lindblad.jl\")\n",
    "include(\"../src/printing.jl\")\n",
    "include(\"../src/poles.jl\")"
   ]
  },
  {
   "cell_type": "code",
   "execution_count": 213,
   "metadata": {},
   "outputs": [],
   "source": []
  },
  {
   "cell_type": "code",
   "execution_count": 2,
   "metadata": {},
   "outputs": [
    {
     "data": {
      "text/plain": [
       "4-element Vector{Any}:\n",
       " [(1, 2)]\n",
       " [(0, 1), (1, 1)]\n",
       " [(0, 2), (1, 0)]\n",
       " [(0, 1), (0, 1), (1, 0)]"
      ]
     },
     "metadata": {},
     "output_type": "display_data"
    }
   ],
   "source": [
    "node = DiagramNode((1,2))\n",
    "ds = get_diagrams(node)"
   ]
  },
  {
   "cell_type": "code",
   "execution_count": 33,
   "metadata": {},
   "outputs": [
    {
     "data": {
      "text/plain": [
       "4-element Vector{QuantumCumulants.QMul{Nothing}}:\n",
       " 0.5ω_0*(a′*a)\n",
       " 0.5ω_0*(a′*a)\n",
       " ϵ*(a)\n",
       " ϵ*(a′)"
      ]
     },
     "metadata": {},
     "output_type": "display_data"
    }
   ],
   "source": [
    "h_cav = FockSpace(:cavity)\n",
    "h_atom = NLevelSpace(:atom, (:g,:e))\n",
    "h = tensor(h_cav, h_atom)\n",
    "\n",
    "@qnumbers a::Destroy(h) σ::Transition(h)\n",
    "@cnumbers ω_0 ω_d g κ γ ϵ ω_3 ω_1\n",
    "\n",
    "#σz = 2* σ(:e, :e)  - 1\n",
    "#σx = σ(:g, :e) + σ(:e, :g)\n",
    "#σy = 1im* (σ(:e, :g) - σ(:g, :e))\n",
    "@syms t::Real\n",
    "H_rab = ω_0 * a'*a + ω_d/2 * σz + g*(a' + a)*(σx) + ϵ*(a*exp(1im*ω_3*t) + a'*exp(-1im*ω_3*t))\n",
    "#@register f(t)\n",
    "ωs = [0,0,0,ω_3, -ω_3]\n",
    "hs = [ω_0 * a'*a,ω_d/2 * σz,g*(a' + a)*(σx),ϵ*a, ϵ*a']\n",
    "\n",
    "ωs2 = [0,0,ω_3,-ω_3]\n",
    "hs2 = [0.5*ω_0 * a'*a,0.5*ω_0 * a'*a,ϵ*a, ϵ*a']"
   ]
  },
  {
   "cell_type": "code",
   "execution_count": 14,
   "metadata": {},
   "outputs": [
    {
     "name": "stdout",
     "output_type": "stream",
     "text": [
      "Vector{QuantumCumulants.QMul{Nothing}}[[0.5"
     ]
    },
    {
     "name": "stdout",
     "output_type": "stream",
     "text": [
      "ω_0*(a′*a)], [0.5ω_0*(a′*a)], [ϵ*(a)], [ϵ*(a′)]]"
     ]
    }
   ],
   "source": [
    "k=1\n",
    "ω_list = repeated_combinations(ωs2, k)\n",
    "h_list = repeated_combinations(hs2, k)\n",
    "print(h_list)"
   ]
  },
  {
   "cell_type": "code",
   "execution_count": 37,
   "metadata": {},
   "outputs": [
    {
     "data": {
      "text/latex": [
       "$\\frac{-12.0 -3.0 \\omega_{3} \\tau^{2}}{-1 \\omega_{3}} + \\frac{0.5}{-1 \\omega_{3}} + \\frac{-1 \\left( e^{-0.5 \\tau^{2} \\omega_{3}^{2}} \\right)^{2}}{\\omega_{3}^{2}} + \\frac{36.0 \\left( 6.0 + \\frac{-1}{\\omega_{3}} -1.0 \\omega_{3} \\tau^{2} \\right) \\left( e^{-0.5 \\tau^{2} \\omega_{3}^{2}} \\right)^{2}}{\\omega_{3}}$"
      ],
      "text/plain": [
       "(-12.0 - 3.0ω_3*(τ^2)) / (-ω_3) + 0.5 / (-ω_3) + (-(exp(-0.5(τ^2)*(ω_3^2))^2)) / (ω_3^2) + (36.0(6.0 + -1 / ω_3 - ω_3*(τ^2))*(exp(-0.5(τ^2)*(ω_3^2))^2)) / ω_3"
      ]
     },
     "metadata": {},
     "output_type": "display_data"
    }
   ],
   "source": [
    "@cnumbers ω_1 ω_2 ω_3\n",
    "#simplify(contraction_coeff((3,0),[ω_1,-ω_1,ω_2]))\n",
    "c, cs = contraction_coeff((3,0),[0,ω_3,-ω_3])\n",
    "c"
   ]
  },
  {
   "cell_type": "code",
   "execution_count": 34,
   "metadata": {},
   "outputs": [
    {
     "data": {
      "text/latex": [
       "$\\left( \\epsilon e^{1 i t \\omega_{3} -0.5 \\tau^{2} \\omega_{3}^{2}} + \\frac{\\omega_{0} \\epsilon e^{-0.5 \\tau^{2} \\omega_{3}^{2}} e^{1 i t \\omega_{3}}}{\\omega_{3}} + 4.5 \\omega_{0} \\epsilon e^{-0.5 \\tau^{2} \\omega_{3}^{2}} e^{1 i t \\omega_{3}} \\right) a + \\left( \\epsilon e^{-1 i t \\omega_{3} -0.5 \\tau^{2} \\omega_{3}^{2}} + \\frac{\\omega_{0} \\epsilon e^{-0.5 \\tau^{2} \\omega_{3}^{2}} e^{-1 i t \\omega_{3}}}{\\omega_{3}} + 4.5 \\omega_{0} \\epsilon e^{-0.5 \\tau^{2} \\omega_{3}^{2}} e^{-1 i t \\omega_{3}} \\right) a^\\dagger + \\left( \\omega_{0} + 9.0 \\omega_{0}^{2} \\right) a^\\dagger a + \\frac{\\epsilon^{2}}{\\omega_{3}} + \\frac{\\epsilon^{2} e^{-1.0 \\tau^{2} \\omega_{3}^{2}}}{\\omega_{3}} + 9.0 \\omega_{0}^{2} a^\\dagger a^\\dagger a a + 9.0 \\omega_{0} \\epsilon e^{-0.5 \\tau^{2} \\omega_{3}^{2}} e^{-1 i t \\omega_{3}} a^\\dagger a^\\dagger a + 9.0 \\omega_{0} \\epsilon e^{-0.5 \\tau^{2} \\omega_{3}^{2}} e^{1 i t \\omega_{3}} a^\\dagger a a$"
      ],
      "text/plain": [
       "(ϵ*exp((0 + 1im)*t*ω_3 - 0.5(τ^2)*(ω_3^2)) + (ω_0*ϵ*exp(-0.5(τ^2)*(ω_3^2))*exp((0 + 1im)*t*ω_3)) / ω_3 + (4.5 + 0.0im)ω_0*ϵ*exp(-0.5(τ^2)*(ω_3^2))*exp((0 + 1im)*t*ω_3)*(a)+ϵ*exp((0 - 1im)*t*ω_3 - 0.5(τ^2)*(ω_3^2)) + (ω_0*ϵ*exp(-0.5(τ^2)*(ω_3^2))*exp((0 - 1im)*t*ω_3)) / ω_3 + (4.5 + 0.0im)ω_0*ϵ*exp(-0.5(τ^2)*(ω_3^2))*exp((0 - 1im)*t*ω_3)*(a′)+ω_0 + (9.0 + 0.0im)(ω_0^2)*(a′*a)+(ϵ^2) / ω_3+((ϵ^2)*exp(-(τ^2)*(ω_3^2))) / ω_3+(9.0 + 0.0im)(ω_0^2)*(a′*a′*a*a)+(9.0 + 0.0im)ω_0*ϵ*exp(-0.5(τ^2)*(ω_3^2))*exp((0 - 1im)*t*ω_3)*(a′*a′*a)+(9.0 + 0.0im)ω_0*ϵ*exp(-0.5(τ^2)*(ω_3^2))*exp((0 + 1im)*t*ω_3)*(a′*a*a))"
      ]
     },
     "metadata": {},
     "output_type": "display_data"
    }
   ],
   "source": [
    "k=2\n",
    "h_eff = effective_hamiltonian(k, ωs2, hs2)\n",
    "H_eff = simplify(h_eff)\n",
    "secondOrderRule = @acrule((~a)*(~y)*(~z) + (~b)*(~y)*(~z) => ((~a)+(~b))*(~y)*(~z))\n",
    "firstOrderRule = @acrule((~a)*(~y) + (~b)*(~y) => ((~a)+(~b))*(~y))\n",
    "rules = Chain([firstOrderRule,secondOrderRule])#, addRule])\n",
    "H1 = Fixpoint(rules)(H_eff)"
   ]
  },
  {
   "cell_type": "code",
   "execution_count": 38,
   "metadata": {},
   "outputs": [
    {
     "data": {
      "text/latex": [
       "\\begin{align}\n",
       "\\frac{d}{dt} \\langle a\\rangle  =& \\frac{-1.0 i \\omega_{0} \\omega_{3} \\langle a\\rangle  -1.0 i \\omega_{0} \\epsilon e^{-1 i t \\omega_{3} -0.5 \\tau^{2} \\omega_{3}^{2}} -1.0 i \\omega_{3} \\epsilon e^{-1 i t \\omega_{3} -0.5 \\tau^{2} \\omega_{3}^{2}} -18.0 i \\omega_{3} \\left( \\langle a^\\dagger\\rangle  \\langle a  a\\rangle  -2 \\langle a\\rangle ^{2} \\langle a^\\dagger\\rangle  + 2 \\langle a\\rangle  \\langle a^\\dagger  a\\rangle  \\right) \\omega_{0}^{2} -9.0 i \\omega_{3} \\omega_{0}^{2} \\langle a\\rangle  -4.5 i \\omega_{0} \\omega_{3} \\epsilon e^{-1 i t \\omega_{3} -0.5 \\tau^{2} \\omega_{3}^{2}} -9.0 i \\omega_{0} \\omega_{3} \\epsilon e^{1 i t \\omega_{3} -0.5 \\tau^{2} \\omega_{3}^{2}} \\langle a  a\\rangle  -18.0 i \\omega_{0} \\omega_{3} \\epsilon e^{-1 i t \\omega_{3} -0.5 \\tau^{2} \\omega_{3}^{2}} \\langle a^\\dagger  a\\rangle }{\\omega_{3}} \\\\\n",
       "\\frac{d}{dt} \\langle a  a\\rangle  =& \\frac{-36.0 i \\omega_{3} \\left( \\left( -2 \\langle a\\rangle ^{3} + 3 \\langle a\\rangle  \\langle a  a\\rangle  \\right) \\langle a^\\dagger\\rangle  + 3 \\left( \\langle a^\\dagger\\rangle  \\langle a  a\\rangle  -2 \\langle a\\rangle ^{2} \\langle a^\\dagger\\rangle  + 2 \\langle a\\rangle  \\langle a^\\dagger  a\\rangle  \\right) \\langle a\\rangle  + 3 \\langle a^\\dagger  a\\rangle  \\langle a  a\\rangle  -6 \\langle a\\rangle ^{2} \\langle a^\\dagger  a\\rangle  + 6 \\langle a\\rangle ^{3} \\langle a^\\dagger\\rangle  -6 \\langle a^\\dagger\\rangle  \\langle a\\rangle  \\langle a  a\\rangle  \\right) \\omega_{0}^{2} -2.0 i \\omega_{0} \\omega_{3} \\langle a  a\\rangle  -36.0 i \\omega_{3} \\omega_{0}^{2} \\langle a  a\\rangle  -2.0 i \\omega_{0} \\epsilon \\langle a\\rangle  e^{-1 i t \\omega_{3} -0.5 \\tau^{2} \\omega_{3}^{2}} -2.0 i \\omega_{3} \\epsilon \\langle a\\rangle  e^{-1 i t \\omega_{3} -0.5 \\tau^{2} \\omega_{3}^{2}} -18.0 i \\omega_{0} \\omega_{3} \\epsilon \\left( -2 \\langle a\\rangle ^{3} + 3 \\langle a\\rangle  \\langle a  a\\rangle  \\right) e^{1 i t \\omega_{3} -0.5 \\tau^{2} \\omega_{3}^{2}} -27.0 i \\omega_{0} \\omega_{3} \\epsilon \\langle a\\rangle  e^{-1 i t \\omega_{3} -0.5 \\tau^{2} \\omega_{3}^{2}} -36.0 i \\omega_{0} \\omega_{3} \\epsilon \\left( \\langle a^\\dagger\\rangle  \\langle a  a\\rangle  -2 \\langle a\\rangle ^{2} \\langle a^\\dagger\\rangle  + 2 \\langle a\\rangle  \\langle a^\\dagger  a\\rangle  \\right) e^{-1 i t \\omega_{3} -0.5 \\tau^{2} \\omega_{3}^{2}}}{\\omega_{3}} \\\\\n",
       "\\frac{d}{dt} \\langle a^\\dagger  a\\rangle  =& \\frac{-1.0 i \\epsilon \\omega_{3}^{4} \\langle a^\\dagger\\rangle  e^{-1 i t \\omega_{3} -0.5 \\tau^{2} \\omega_{3}^{2}} + 1.0 i \\epsilon \\omega_{3}^{4} \\langle a\\rangle  e^{1 i t \\omega_{3} -0.5 \\tau^{2} \\omega_{3}^{2}} -9.0 i \\omega_{0} \\epsilon \\left( \\langle a\\rangle  \\langle a^\\dagger  a^\\dagger\\rangle  -2 \\langle a^\\dagger\\rangle ^{2} \\langle a\\rangle  + 2 \\langle a^\\dagger\\rangle  \\langle a^\\dagger  a\\rangle  \\right) \\omega_{3}^{4} e^{-1 i t \\omega_{3} -0.5 \\tau^{2} \\omega_{3}^{2}} + 9.0 i \\omega_{0} \\epsilon \\left( \\langle a^\\dagger\\rangle  \\langle a  a\\rangle  -2 \\langle a\\rangle ^{2} \\langle a^\\dagger\\rangle  + 2 \\langle a\\rangle  \\langle a^\\dagger  a\\rangle  \\right) \\omega_{3}^{4} e^{1 i t \\omega_{3} -0.5 \\tau^{2} \\omega_{3}^{2}} -1.0 i \\omega_{0} \\epsilon \\omega_{3}^{3} \\langle a^\\dagger\\rangle  e^{-1 i t \\omega_{3} -0.5 \\tau^{2} \\omega_{3}^{2}} + 1.0 i \\omega_{0} \\epsilon \\omega_{3}^{3} \\langle a\\rangle  e^{1 i t \\omega_{3} -0.5 \\tau^{2} \\omega_{3}^{2}} -4.5 i \\omega_{0} \\epsilon \\omega_{3}^{4} \\langle a^\\dagger\\rangle  e^{-1 i t \\omega_{3} -0.5 \\tau^{2} \\omega_{3}^{2}} + 4.5 i \\omega_{0} \\epsilon \\omega_{3}^{4} \\langle a\\rangle  e^{1 i t \\omega_{3} -0.5 \\tau^{2} \\omega_{3}^{2}}}{\\omega_{3}^{4}}\n",
       "\\end{align}\n"
      ],
      "text/plain": [
       "∂ₜ(⟨a⟩) = ((0.0 - 1.0im)*ω_0*ω_3*⟨a⟩ + (0.0 - 1.0im)*ω_0*ϵ*exp((0 - 1im)*t*ω_3 - 0.5(τ^2)*(ω_3^2)) + (0.0 - 1.0im)*ω_3*ϵ*exp((0 - 1im)*t*ω_3 - 0.5(τ^2)*(ω_3^2)) + (0.0 - 18.0im)*ω_3*(⟨a′⟩*⟨a*a⟩ + 2⟨a⟩*⟨a′*a⟩ - 2(⟨a⟩^2)*⟨a′⟩)*(ω_0^2) + (0.0 - 9.0im)*ω_3*(ω_0^2)*⟨a⟩ + (0.0 - 4.5im)*ω_0*ω_3*ϵ*exp((0 - 1im)*t*ω_3 - 0.5(τ^2)*(ω_3^2)) + (0.0 - 9.0im)*ω_0*ω_3*ϵ*exp((0 + 1im)*t*ω_3 - 0.5(τ^2)*(ω_3^2))*⟨a*a⟩ + (0.0 - 18.0im)*ω_0*ω_3*ϵ*exp((0 - 1im)*t*ω_3 - 0.5(τ^2)*(ω_3^2))*⟨a′*a⟩) / ω_3\n",
       "∂ₜ(⟨a*a⟩) = ((0.0 - 36.0im)*ω_3*((3⟨a⟩*⟨a*a⟩ - 2(⟨a⟩^3))*⟨a′⟩ + 3(⟨a′⟩*⟨a*a⟩ + 2⟨a⟩*⟨a′*a⟩ - 2(⟨a⟩^2)*⟨a′⟩)*⟨a⟩ + 3⟨a′*a⟩*⟨a*a⟩ + 6(⟨a⟩^3)*⟨a′⟩ - 6(⟨a⟩^2)*⟨a′*a⟩ - 6⟨a′⟩*⟨a⟩*⟨a*a⟩)*(ω_0^2) + (0.0 - 2.0im)*ω_0*ω_3*⟨a*a⟩ + (0.0 - 36.0im)*ω_3*(ω_0^2)*⟨a*a⟩ + (0.0 - 2.0im)*ω_0*ϵ*⟨a⟩*exp((0 - 1im)*t*ω_3 - 0.5(τ^2)*(ω_3^2)) + (0.0 - 2.0im)*ω_3*ϵ*⟨a⟩*exp((0 - 1im)*t*ω_3 - 0.5(τ^2)*(ω_3^2)) + (0.0 - 18.0im)*ω_0*ω_3*ϵ*(3⟨a⟩*⟨a*a⟩ - 2(⟨a⟩^3))*exp((0 + 1im)*t*ω_3 - 0.5(τ^2)*(ω_3^2)) + (0.0 - 27.0im)*ω_0*ω_3*ϵ*⟨a⟩*exp((0 - 1im)*t*ω_3 - 0.5(τ^2)*(ω_3^2)) + (0.0 - 36.0im)*ω_0*ω_3*ϵ*(⟨a′⟩*⟨a*a⟩ + 2⟨a⟩*⟨a′*a⟩ - 2(⟨a⟩^2)*⟨a′⟩)*exp((0 - 1im)*t*ω_3 - 0.5(τ^2)*(ω_3^2))) / ω_3\n",
       "∂ₜ(⟨a′*a⟩) = ((0.0 - 1.0im)*ϵ*(ω_3^4)*⟨a′⟩*exp((0 - 1im)*t*ω_3 - 0.5(τ^2)*(ω_3^2)) + (0.0 + 1.0im)*ϵ*(ω_3^4)*⟨a⟩*exp((0 + 1im)*t*ω_3 - 0.5(τ^2)*(ω_3^2)) + (0.0 - 9.0im)*ω_0*ϵ*(⟨a⟩*⟨a′*a′⟩ + 2⟨a′⟩*⟨a′*a⟩ - 2(⟨a′⟩^2)*⟨a⟩)*(ω_3^4)*exp((0 - 1im)*t*ω_3 - 0.5(τ^2)*(ω_3^2)) + (0.0 + 9.0im)*ω_0*ϵ*(⟨a′⟩*⟨a*a⟩ + 2⟨a⟩*⟨a′*a⟩ - 2(⟨a⟩^2)*⟨a′⟩)*(ω_3^4)*exp((0 + 1im)*t*ω_3 - 0.5(τ^2)*(ω_3^2)) + (0.0 - 1.0im)*ω_0*ϵ*(ω_3^3)*⟨a′⟩*exp((0 - 1im)*t*ω_3 - 0.5(τ^2)*(ω_3^2)) + (0.0 + 1.0im)*ω_0*ϵ*(ω_3^3)*⟨a⟩*exp((0 + 1im)*t*ω_3 - 0.5(τ^2)*(ω_3^2)) + (0.0 - 4.5im)*ω_0*ϵ*(ω_3^4)*⟨a′⟩*exp((0 - 1im)*t*ω_3 - 0.5(τ^2)*(ω_3^2)) + (0.0 + 4.5im)*ω_0*ϵ*(ω_3^4)*⟨a⟩*exp((0 + 1im)*t*ω_3 - 0.5(τ^2)*(ω_3^2))) / (ω_3^4)\n"
      ]
     },
     "metadata": {},
     "output_type": "display_data"
    }
   ],
   "source": [
    "eqs = meanfield([a] , H1; order=2)\n",
    "eqs = complete(eqs)"
   ]
  },
  {
   "cell_type": "code",
   "execution_count": 28,
   "metadata": {},
   "outputs": [
    {
     "data": {
      "text/latex": [
       "$\\omega_{d} {\\sigma}^{{ee}} + \\frac{-1}{2} \\omega_{d} + \\omega_{0} a^\\dagger a + g a^\\dagger {\\sigma}^{{ge}} + g a^\\dagger {\\sigma}^{{eg}} + g a {\\sigma}^{{ge}} + g a {\\sigma}^{{eg}} + f\\left( t \\right) a + f\\left( t \\right) a^\\dagger$"
      ],
      "text/plain": [
       "(ω_d*(σee)+(-1//2)*ω_d+ω_0*(a′*a)+g*(a′*σge)+g*(a′*σeg)+g*(a*σge)+g*(a*σeg)+f(t)*(a)+f(t)*(a′))"
      ]
     },
     "metadata": {},
     "output_type": "display_data"
    }
   ],
   "source": [
    "#H_test = σ(1,2,2)⊗σ(2,1,1) #9*(ω_1*σ(2,2,1)+ω_2*σ(2,2,2) - g*σ(1,2,1)*σ(2,1,2))# -  g*σ(1,2,1)*σ(2,2,1) \n",
    "            #-  g*σ(1,1,2)*σ(2,1,2)- g*σ(1,1,2)*σ(2,2,1)) - 4.5*(ω_1 + ω_2)\n",
    "            \n",
    "#H_test2 = 9*ω_1*σ(2,2,1) - 4.5*ω_1 + ϵ_d*exp(1im*ω_d)/(2*ω_d^2)  +σ(1,2,1) + σ(2,1,1) # (ϵ_d/(2*ω_d^2))*σ(1,2,1) #+ (ϵ_d/(2*ω_d^2))*σ(2,1,1)\n",
    "@register f(t)\n",
    "#f(t) = exp(1im*ω_d*t)\n",
    "H_rab = ω_0 * a'*a + ω_d/2 * σz + g*(a' + a)*(σx) + f(t)*(a + a')\n"
   ]
  },
  {
   "cell_type": "code",
   "execution_count": 33,
   "metadata": {},
   "outputs": [
    {
     "data": {
      "text/latex": [
       "\\begin{align}\n",
       "\\frac{d}{dt} \\langle a\\rangle  =& -1 i f\\left( t \\right) + g \\left( -1 i \\langle {\\sigma}^{{eg}}\\rangle  -1 i \\langle {\\sigma}^{{ge}}\\rangle  \\right) -1 i \\omega_{0} \\langle a\\rangle  \\\\\n",
       "\\frac{d}{dt} \\langle {\\sigma}^{{eg}}\\rangle  =& g \\left( 1 i \\langle a^\\dagger\\rangle  + 1 i \\langle a\\rangle  -2 i \\langle a^\\dagger  {\\sigma}^{{ee}}\\rangle  -2 i \\langle a  {\\sigma}^{{ee}}\\rangle  \\right) + 1 i \\omega_{d} \\langle {\\sigma}^{{eg}}\\rangle  \\\\\n",
       "\\frac{d}{dt} \\langle a^\\dagger  {\\sigma}^{{ee}}\\rangle  =& g \\left( 1 i \\langle {\\sigma}^{{ge}}\\rangle  -1 i \\langle a^\\dagger  a^\\dagger  {\\sigma}^{{eg}}\\rangle  + 1 i \\langle a^\\dagger  a^\\dagger  {\\sigma}^{{ge}}\\rangle  -1 i \\langle a^\\dagger  a  {\\sigma}^{{eg}}\\rangle  \\right) + 1 i g \\langle a^\\dagger  a  {\\sigma}^{{ge}}\\rangle  + 1 i \\omega_{0} \\langle a^\\dagger  {\\sigma}^{{ee}}\\rangle  + 1 i f\\left( t \\right) \\langle {\\sigma}^{{ee}}\\rangle  \\\\\n",
       "\\frac{d}{dt} \\langle a^\\dagger  a^\\dagger  {\\sigma}^{{eg}}\\rangle  =& g \\left( 1 i \\langle a^\\dagger  a^\\dagger  a^\\dagger\\rangle  -2 i \\langle a^\\dagger  {\\sigma}^{{ee}}\\rangle  + 1 i \\langle a^\\dagger  a^\\dagger  a\\rangle  -2 i \\langle {\\sigma}^{{ee}}\\rangle  \\langle a^\\dagger  a^\\dagger  a\\rangle  + 4 i \\langle a^\\dagger\\rangle ^{2} \\langle a  {\\sigma}^{{ee}}\\rangle  -4 i \\langle a^\\dagger\\rangle  \\langle a^\\dagger  a  {\\sigma}^{{ee}}\\rangle  -2 i \\langle a\\rangle  \\langle a^\\dagger  a^\\dagger  {\\sigma}^{{ee}}\\rangle  -2 i \\langle a^\\dagger  a^\\dagger\\rangle  \\langle a  {\\sigma}^{{ee}}\\rangle  -4 i \\langle a^\\dagger  a\\rangle  \\langle a^\\dagger  {\\sigma}^{{ee}}\\rangle  + 8 i \\langle a^\\dagger\\rangle  \\langle a\\rangle  \\langle a^\\dagger  {\\sigma}^{{ee}}\\rangle  + 4 i \\langle a\\rangle  \\langle {\\sigma}^{{ee}}\\rangle  \\langle a^\\dagger  a^\\dagger\\rangle  + 8 i \\langle a^\\dagger\\rangle  \\langle {\\sigma}^{{ee}}\\rangle  \\langle a^\\dagger  a\\rangle  -12 i \\langle a^\\dagger\\rangle ^{2} \\langle a\\rangle  \\langle {\\sigma}^{{ee}}\\rangle  \\right) -2 i g \\left( \\langle {\\sigma}^{{ee}}\\rangle  \\langle a^\\dagger  a^\\dagger  a^\\dagger\\rangle  + 3 \\langle a^\\dagger  a^\\dagger\\rangle  \\langle a^\\dagger  {\\sigma}^{{ee}}\\rangle  + 3 \\langle a^\\dagger\\rangle  \\langle a^\\dagger  a^\\dagger  {\\sigma}^{{ee}}\\rangle  -6 \\langle a^\\dagger\\rangle ^{2} \\langle a^\\dagger  {\\sigma}^{{ee}}\\rangle  + 6 \\langle a^\\dagger\\rangle ^{3} \\langle {\\sigma}^{{ee}}\\rangle  -6 \\langle a^\\dagger\\rangle  \\langle {\\sigma}^{{ee}}\\rangle  \\langle a^\\dagger  a^\\dagger\\rangle  \\right) + 2 i g \\langle a^\\dagger\\rangle  + 2 i \\omega_{0} \\langle a^\\dagger  a^\\dagger  {\\sigma}^{{eg}}\\rangle  + 2 i f\\left( t \\right) \\langle a^\\dagger  {\\sigma}^{{eg}}\\rangle  + 1 i \\omega_{d} \\langle a^\\dagger  a^\\dagger  {\\sigma}^{{eg}}\\rangle  \\\\\n",
       "\\frac{d}{dt} \\langle a^\\dagger  a^\\dagger  {\\sigma}^{{ge}}\\rangle  =& g \\left( -1 i \\langle a^\\dagger  a^\\dagger  a^\\dagger\\rangle  + 2 i \\langle a^\\dagger  {\\sigma}^{{ee}}\\rangle  -1 i \\langle a^\\dagger  a^\\dagger  a\\rangle  + 2 i \\langle {\\sigma}^{{ee}}\\rangle  \\langle a^\\dagger  a^\\dagger  a\\rangle  -4 i \\langle a^\\dagger\\rangle ^{2} \\langle a  {\\sigma}^{{ee}}\\rangle  + 4 i \\langle a^\\dagger\\rangle  \\langle a^\\dagger  a  {\\sigma}^{{ee}}\\rangle  + 2 i \\langle a\\rangle  \\langle a^\\dagger  a^\\dagger  {\\sigma}^{{ee}}\\rangle  + 2 i \\langle a^\\dagger  a^\\dagger\\rangle  \\langle a  {\\sigma}^{{ee}}\\rangle  + 4 i \\langle a^\\dagger  a\\rangle  \\langle a^\\dagger  {\\sigma}^{{ee}}\\rangle  -8 i \\langle a^\\dagger\\rangle  \\langle a\\rangle  \\langle a^\\dagger  {\\sigma}^{{ee}}\\rangle  -4 i \\langle a\\rangle  \\langle {\\sigma}^{{ee}}\\rangle  \\langle a^\\dagger  a^\\dagger\\rangle  -8 i \\langle a^\\dagger\\rangle  \\langle {\\sigma}^{{ee}}\\rangle  \\langle a^\\dagger  a\\rangle  + 12 i \\langle a^\\dagger\\rangle ^{2} \\langle a\\rangle  \\langle {\\sigma}^{{ee}}\\rangle  \\right) -1 i \\omega_{d} \\langle a^\\dagger  a^\\dagger  {\\sigma}^{{ge}}\\rangle  + 2 i g \\left( \\langle {\\sigma}^{{ee}}\\rangle  \\langle a^\\dagger  a^\\dagger  a^\\dagger\\rangle  + 3 \\langle a^\\dagger  a^\\dagger\\rangle  \\langle a^\\dagger  {\\sigma}^{{ee}}\\rangle  + 3 \\langle a^\\dagger\\rangle  \\langle a^\\dagger  a^\\dagger  {\\sigma}^{{ee}}\\rangle  -6 \\langle a^\\dagger\\rangle ^{2} \\langle a^\\dagger  {\\sigma}^{{ee}}\\rangle  + 6 \\langle a^\\dagger\\rangle ^{3} \\langle {\\sigma}^{{ee}}\\rangle  -6 \\langle a^\\dagger\\rangle  \\langle {\\sigma}^{{ee}}\\rangle  \\langle a^\\dagger  a^\\dagger\\rangle  \\right) + 2 i \\omega_{0} \\langle a^\\dagger  a^\\dagger  {\\sigma}^{{ge}}\\rangle  + 2 i f\\left( t \\right) \\langle a^\\dagger  {\\sigma}^{{ge}}\\rangle  \\\\\n",
       "\\frac{d}{dt} \\langle a^\\dagger  a  {\\sigma}^{{eg}}\\rangle  =& g \\left( 1 i \\langle a\\rangle  -1 i \\langle a^\\dagger  {\\sigma}^{{ee}}\\rangle  -1 i \\langle a  {\\sigma}^{{ee}}\\rangle  + 1 i \\langle a^\\dagger  a  a\\rangle  + 4 i \\langle a^\\dagger\\rangle ^{2} \\langle a  {\\sigma}^{{ee}}\\rangle  -4 i \\langle a^\\dagger\\rangle  \\langle a^\\dagger  a  {\\sigma}^{{ee}}\\rangle  -2 i \\langle {\\sigma}^{{ee}}\\rangle  \\langle a^\\dagger  a^\\dagger  a\\rangle  -2 i \\langle a\\rangle  \\langle a^\\dagger  a^\\dagger  {\\sigma}^{{ee}}\\rangle  -4 i \\langle a\\rangle  \\langle a^\\dagger  a  {\\sigma}^{{ee}}\\rangle  -2 i \\langle a^\\dagger\\rangle  \\langle a  a  {\\sigma}^{{ee}}\\rangle  -2 i \\langle a^\\dagger  {\\sigma}^{{ee}}\\rangle  \\langle a  a\\rangle  -2 i \\langle {\\sigma}^{{ee}}\\rangle  \\langle a^\\dagger  a  a\\rangle  -2 i \\langle a^\\dagger  a^\\dagger\\rangle  \\langle a  {\\sigma}^{{ee}}\\rangle  + 4 i \\langle a\\rangle ^{2} \\langle a^\\dagger  {\\sigma}^{{ee}}\\rangle  -4 i \\langle a^\\dagger  a\\rangle  \\langle a^\\dagger  {\\sigma}^{{ee}}\\rangle  -4 i \\langle a^\\dagger  a\\rangle  \\langle a  {\\sigma}^{{ee}}\\rangle  -12 i \\langle a\\rangle ^{2} \\langle a^\\dagger\\rangle  \\langle {\\sigma}^{{ee}}\\rangle  + 8 i \\langle a^\\dagger\\rangle  \\langle a\\rangle  \\langle a^\\dagger  {\\sigma}^{{ee}}\\rangle  + 4 i \\langle a\\rangle  \\langle {\\sigma}^{{ee}}\\rangle  \\langle a^\\dagger  a^\\dagger\\rangle  + 8 i \\langle a^\\dagger\\rangle  \\langle {\\sigma}^{{ee}}\\rangle  \\langle a^\\dagger  a\\rangle  + 8 i \\langle a\\rangle  \\langle {\\sigma}^{{ee}}\\rangle  \\langle a^\\dagger  a\\rangle  + 8 i \\langle a^\\dagger\\rangle  \\langle a\\rangle  \\langle a  {\\sigma}^{{ee}}\\rangle  -12 i \\langle a^\\dagger\\rangle ^{2} \\langle a\\rangle  \\langle {\\sigma}^{{ee}}\\rangle  + 4 i \\langle a^\\dagger\\rangle  \\langle {\\sigma}^{{ee}}\\rangle  \\langle a  a\\rangle  \\right) + 1 i g \\langle a^\\dagger  a^\\dagger  a\\rangle  -1 i f\\left( t \\right) \\langle a^\\dagger  {\\sigma}^{{eg}}\\rangle  + 1 i f\\left( t \\right) \\langle a  {\\sigma}^{{eg}}\\rangle  + 1 i \\omega_{d} \\langle a^\\dagger  a  {\\sigma}^{{eg}}\\rangle  \\\\\n",
       "\\frac{d}{dt} \\langle {\\sigma}^{{ee}}\\rangle  =& g \\left( -1 i \\langle a^\\dagger  {\\sigma}^{{eg}}\\rangle  + 1 i \\langle a^\\dagger  {\\sigma}^{{ge}}\\rangle  -1 i \\langle a  {\\sigma}^{{eg}}\\rangle  + 1 i \\langle a  {\\sigma}^{{ge}}\\rangle  \\right) \\\\\n",
       "\\frac{d}{dt} \\langle a^\\dagger  a^\\dagger  a^\\dagger\\rangle  =& g \\left( 3 i \\langle a^\\dagger  a^\\dagger  {\\sigma}^{{eg}}\\rangle  + 3 i \\langle a^\\dagger  a^\\dagger  {\\sigma}^{{ge}}\\rangle  \\right) + 3 i f\\left( t \\right) \\langle a^\\dagger  a^\\dagger\\rangle  + 3 i \\omega_{0} \\langle a^\\dagger  a^\\dagger  a^\\dagger\\rangle  \\\\\n",
       "\\frac{d}{dt} \\langle a^\\dagger  a^\\dagger  a\\rangle  =& g \\left( -1 i \\langle a^\\dagger  a^\\dagger  {\\sigma}^{{eg}}\\rangle  -1 i \\langle a^\\dagger  a^\\dagger  {\\sigma}^{{ge}}\\rangle  + 2 i \\langle a^\\dagger  a  {\\sigma}^{{eg}}\\rangle  + 2 i \\langle a^\\dagger  a  {\\sigma}^{{ge}}\\rangle  \\right) -1 i f\\left( t \\right) \\langle a^\\dagger  a^\\dagger\\rangle  + 1 i \\omega_{0} \\langle a^\\dagger  a^\\dagger  a\\rangle  + 2 i f\\left( t \\right) \\langle a^\\dagger  a\\rangle  \\\\\n",
       "\\frac{d}{dt} \\langle a^\\dagger  a  {\\sigma}^{{ee}}\\rangle  =& g \\left( -1 i \\langle a^\\dagger  {\\sigma}^{{eg}}\\rangle  -2 i \\langle a^\\dagger\\rangle ^{2} \\langle a  {\\sigma}^{{ge}}\\rangle  -1 i \\langle a^\\dagger  {\\sigma}^{{eg}}\\rangle  \\langle a  a\\rangle  + 1 i \\langle a^\\dagger  a^\\dagger\\rangle  \\langle a  {\\sigma}^{{ge}}\\rangle  + 2 i \\langle a\\rangle ^{2} \\langle a^\\dagger  {\\sigma}^{{eg}}\\rangle  -2 i \\langle a\\rangle  \\langle a^\\dagger  a  {\\sigma}^{{eg}}\\rangle  -1 i \\langle {\\sigma}^{{eg}}\\rangle  \\langle a^\\dagger  a  a\\rangle  + 2 i \\langle a^\\dagger\\rangle  \\langle a^\\dagger  a  {\\sigma}^{{ge}}\\rangle  + 2 i \\langle a\\rangle  \\langle a^\\dagger  a  {\\sigma}^{{ge}}\\rangle  + 1 i \\langle {\\sigma}^{{ge}}\\rangle  \\langle a^\\dagger  a^\\dagger  a\\rangle  + 1 i \\langle a^\\dagger  {\\sigma}^{{ge}}\\rangle  \\langle a  a\\rangle  -1 i \\langle a^\\dagger\\rangle  \\langle a  a  {\\sigma}^{{eg}}\\rangle  -2 i \\langle a\\rangle ^{2} \\langle a^\\dagger  {\\sigma}^{{ge}}\\rangle  + 2 i \\langle a^\\dagger  a\\rangle  \\langle a^\\dagger  {\\sigma}^{{ge}}\\rangle  -2 i \\langle a^\\dagger  a\\rangle  \\langle a  {\\sigma}^{{eg}}\\rangle  + 1 i \\langle a\\rangle  \\langle a^\\dagger  a^\\dagger  {\\sigma}^{{ge}}\\rangle  + 2 i \\langle a^\\dagger  a\\rangle  \\langle a  {\\sigma}^{{ge}}\\rangle  + 1 i \\langle {\\sigma}^{{ge}}\\rangle  \\langle a^\\dagger  a  a\\rangle  + 1 i \\langle a^\\dagger\\rangle  \\langle a  a  {\\sigma}^{{ge}}\\rangle  + 2 i \\langle a^\\dagger\\rangle  \\langle {\\sigma}^{{eg}}\\rangle  \\langle a  a\\rangle  -4 i \\langle a^\\dagger\\rangle  \\langle {\\sigma}^{{ge}}\\rangle  \\langle a^\\dagger  a\\rangle  + 6 i \\langle a^\\dagger\\rangle ^{2} \\langle a\\rangle  \\langle {\\sigma}^{{ge}}\\rangle  -4 i \\langle a^\\dagger\\rangle  \\langle a\\rangle  \\langle a^\\dagger  {\\sigma}^{{ge}}\\rangle  -4 i \\langle a^\\dagger\\rangle  \\langle a\\rangle  \\langle a  {\\sigma}^{{ge}}\\rangle  -2 i \\langle a\\rangle  \\langle {\\sigma}^{{ge}}\\rangle  \\langle a^\\dagger  a^\\dagger\\rangle  + 6 i \\langle a\\rangle ^{2} \\langle a^\\dagger\\rangle  \\langle {\\sigma}^{{ge}}\\rangle  + 4 i \\langle a\\rangle  \\langle {\\sigma}^{{eg}}\\rangle  \\langle a^\\dagger  a\\rangle  -6 i \\langle a\\rangle ^{2} \\langle a^\\dagger\\rangle  \\langle {\\sigma}^{{eg}}\\rangle  -2 i \\langle a^\\dagger\\rangle  \\langle {\\sigma}^{{ge}}\\rangle  \\langle a  a\\rangle  + 4 i \\langle a^\\dagger\\rangle  \\langle a\\rangle  \\langle a  {\\sigma}^{{eg}}\\rangle  -4 i \\langle a\\rangle  \\langle {\\sigma}^{{ge}}\\rangle  \\langle a^\\dagger  a\\rangle  \\right) -1 i g \\left( \\langle a\\rangle  \\langle a^\\dagger  a^\\dagger  {\\sigma}^{{eg}}\\rangle  + \\langle a^\\dagger  a^\\dagger\\rangle  \\langle a  {\\sigma}^{{eg}}\\rangle  + \\langle {\\sigma}^{{eg}}\\rangle  \\langle a^\\dagger  a^\\dagger  a\\rangle  + 2 \\langle a^\\dagger  a\\rangle  \\langle a^\\dagger  {\\sigma}^{{eg}}\\rangle  -2 \\langle a^\\dagger\\rangle ^{2} \\langle a  {\\sigma}^{{eg}}\\rangle  + 2 \\langle a^\\dagger\\rangle  \\langle a^\\dagger  a  {\\sigma}^{{eg}}\\rangle  -4 \\langle a^\\dagger\\rangle  \\langle {\\sigma}^{{eg}}\\rangle  \\langle a^\\dagger  a\\rangle  + 6 \\langle a^\\dagger\\rangle ^{2} \\langle a\\rangle  \\langle {\\sigma}^{{eg}}\\rangle  -4 \\langle a^\\dagger\\rangle  \\langle a\\rangle  \\langle a^\\dagger  {\\sigma}^{{eg}}\\rangle  -2 \\langle a\\rangle  \\langle {\\sigma}^{{eg}}\\rangle  \\langle a^\\dagger  a^\\dagger\\rangle  \\right) + 1 i g \\langle a  {\\sigma}^{{ge}}\\rangle  -1 i f\\left( t \\right) \\langle a^\\dagger  {\\sigma}^{{ee}}\\rangle  + 1 i f\\left( t \\right) \\langle a  {\\sigma}^{{ee}}\\rangle  \\\\\n",
       "\\frac{d}{dt} \\langle a^\\dagger  a^\\dagger  {\\sigma}^{{ee}}\\rangle  =& g \\left( -6 i \\langle a^\\dagger\\rangle ^{3} \\langle {\\sigma}^{{eg}}\\rangle  -2 i \\langle a^\\dagger\\rangle ^{2} \\langle a  {\\sigma}^{{ge}}\\rangle  -3 i \\langle a^\\dagger\\rangle  \\langle a^\\dagger  a^\\dagger  {\\sigma}^{{eg}}\\rangle  -2 i \\langle a^\\dagger\\rangle  \\langle a^\\dagger  a  {\\sigma}^{{eg}}\\rangle  + 3 i \\langle a^\\dagger  a^\\dagger\\rangle  \\langle a^\\dagger  {\\sigma}^{{ge}}\\rangle  + 1 i \\langle a^\\dagger  a^\\dagger\\rangle  \\langle a  {\\sigma}^{{ge}}\\rangle  -6 i \\langle a^\\dagger\\rangle ^{2} \\langle a^\\dagger  {\\sigma}^{{ge}}\\rangle  + 2 i \\langle a^\\dagger\\rangle  \\langle a^\\dagger  a  {\\sigma}^{{ge}}\\rangle  + 1 i \\langle {\\sigma}^{{ge}}\\rangle  \\langle a^\\dagger  a^\\dagger  a\\rangle  + 6 i \\langle a^\\dagger\\rangle ^{3} \\langle {\\sigma}^{{ge}}\\rangle  + 2 i \\langle a^\\dagger\\rangle ^{2} \\langle a  {\\sigma}^{{eg}}\\rangle  + 3 i \\langle a^\\dagger\\rangle  \\langle a^\\dagger  a^\\dagger  {\\sigma}^{{ge}}\\rangle  -1 i \\langle a^\\dagger  a^\\dagger\\rangle  \\langle a  {\\sigma}^{{eg}}\\rangle  + 6 i \\langle a^\\dagger\\rangle ^{2} \\langle a^\\dagger  {\\sigma}^{{eg}}\\rangle  -1 i \\langle a\\rangle  \\langle a^\\dagger  a^\\dagger  {\\sigma}^{{eg}}\\rangle  + 1 i \\langle a\\rangle  \\langle a^\\dagger  a^\\dagger  {\\sigma}^{{ge}}\\rangle  -3 i \\langle a^\\dagger  a^\\dagger\\rangle  \\langle a^\\dagger  {\\sigma}^{{eg}}\\rangle  -1 i \\langle {\\sigma}^{{eg}}\\rangle  \\langle a^\\dagger  a^\\dagger  a^\\dagger\\rangle  + 1 i \\langle {\\sigma}^{{ge}}\\rangle  \\langle a^\\dagger  a^\\dagger  a^\\dagger\\rangle  -1 i \\langle {\\sigma}^{{eg}}\\rangle  \\langle a^\\dagger  a^\\dagger  a\\rangle  -2 i \\langle a^\\dagger  a\\rangle  \\langle a^\\dagger  {\\sigma}^{{eg}}\\rangle  + 2 i \\langle a^\\dagger  a\\rangle  \\langle a^\\dagger  {\\sigma}^{{ge}}\\rangle  + 4 i \\langle a^\\dagger\\rangle  \\langle {\\sigma}^{{eg}}\\rangle  \\langle a^\\dagger  a\\rangle  -4 i \\langle a^\\dagger\\rangle  \\langle {\\sigma}^{{ge}}\\rangle  \\langle a^\\dagger  a\\rangle  -6 i \\langle a^\\dagger\\rangle ^{2} \\langle a\\rangle  \\langle {\\sigma}^{{eg}}\\rangle  + 6 i \\langle a^\\dagger\\rangle ^{2} \\langle a\\rangle  \\langle {\\sigma}^{{ge}}\\rangle  + 4 i \\langle a^\\dagger\\rangle  \\langle a\\rangle  \\langle a^\\dagger  {\\sigma}^{{eg}}\\rangle  -4 i \\langle a^\\dagger\\rangle  \\langle a\\rangle  \\langle a^\\dagger  {\\sigma}^{{ge}}\\rangle  -2 i \\langle a\\rangle  \\langle {\\sigma}^{{ge}}\\rangle  \\langle a^\\dagger  a^\\dagger\\rangle  + 6 i \\langle a^\\dagger\\rangle  \\langle {\\sigma}^{{eg}}\\rangle  \\langle a^\\dagger  a^\\dagger\\rangle  -6 i \\langle a^\\dagger\\rangle  \\langle {\\sigma}^{{ge}}\\rangle  \\langle a^\\dagger  a^\\dagger\\rangle  + 2 i \\langle a\\rangle  \\langle {\\sigma}^{{eg}}\\rangle  \\langle a^\\dagger  a^\\dagger\\rangle  \\right) + 2 i f\\left( t \\right) \\langle a^\\dagger  {\\sigma}^{{ee}}\\rangle  + 2 i g \\langle a^\\dagger  {\\sigma}^{{ge}}\\rangle  + 2 i \\omega_{0} \\langle a^\\dagger  a^\\dagger  {\\sigma}^{{ee}}\\rangle  \\\\\n",
       "\\frac{d}{dt} \\langle a^\\dagger  a^\\dagger\\rangle  =& g \\left( 2 i \\langle a^\\dagger  {\\sigma}^{{eg}}\\rangle  + 2 i \\langle a^\\dagger  {\\sigma}^{{ge}}\\rangle  \\right) + 2 i \\langle a^\\dagger\\rangle  f\\left( t \\right) + 2 i \\omega_{0} \\langle a^\\dagger  a^\\dagger\\rangle  \\\\\n",
       "\\frac{d}{dt} \\langle a^\\dagger  a\\rangle  =& g \\left( -1 i \\langle a^\\dagger  {\\sigma}^{{eg}}\\rangle  -1 i \\langle a^\\dagger  {\\sigma}^{{ge}}\\rangle  + 1 i \\langle a  {\\sigma}^{{eg}}\\rangle  + 1 i \\langle a  {\\sigma}^{{ge}}\\rangle  \\right) -1 i \\langle a^\\dagger\\rangle  f\\left( t \\right) + 1 i \\langle a\\rangle  f\\left( t \\right) \\\\\n",
       "\\frac{d}{dt} \\langle a^\\dagger  {\\sigma}^{{eg}}\\rangle  =& 1 i g + g \\left( 1 i \\langle a^\\dagger  a^\\dagger\\rangle  + 1 i \\langle a^\\dagger  a\\rangle  -2 i \\langle a^\\dagger  a^\\dagger  {\\sigma}^{{ee}}\\rangle  -2 i \\langle a^\\dagger  a  {\\sigma}^{{ee}}\\rangle  \\right) -1 i g \\langle {\\sigma}^{{ee}}\\rangle  + 1 i f\\left( t \\right) \\langle {\\sigma}^{{eg}}\\rangle  + 1 i \\omega_{0} \\langle a^\\dagger  {\\sigma}^{{eg}}\\rangle  + 1 i \\omega_{d} \\langle a^\\dagger  {\\sigma}^{{eg}}\\rangle  \\\\\n",
       "\\frac{d}{dt} \\langle a^\\dagger  {\\sigma}^{{ge}}\\rangle  =& g \\left( -1 i \\langle a^\\dagger  a^\\dagger\\rangle  -1 i \\langle a^\\dagger  a\\rangle  + 2 i \\langle a^\\dagger  a^\\dagger  {\\sigma}^{{ee}}\\rangle  + 2 i \\langle a^\\dagger  a  {\\sigma}^{{ee}}\\rangle  \\right) + 1 i g \\langle {\\sigma}^{{ee}}\\rangle  + 1 i f\\left( t \\right) \\langle {\\sigma}^{{ge}}\\rangle  + 1 i \\omega_{0} \\langle a^\\dagger  {\\sigma}^{{ge}}\\rangle  -1 i \\omega_{d} \\langle a^\\dagger  {\\sigma}^{{ge}}\\rangle \n",
       "\\end{align}\n"
      ],
      "text/plain": [
       "∂ₜ(⟨a⟩) = (0 - 1im)*f(t) + g*((0 - 1im)*⟨σeg⟩ + (0 - 1im)*⟨σge⟩) + (0 - 1im)*ω_0*⟨a⟩\n",
       "∂ₜ(⟨σeg⟩) = g*((0 + 1im)*⟨a′⟩ + (0 + 1im)*⟨a⟩ + (0 - 2im)*⟨a′*σee⟩ + (0 - 2im)*⟨a*σee⟩) + (0 + 1im)*ω_d*⟨σeg⟩\n",
       "∂ₜ(⟨a′*σee⟩) = g*((0 + 1im)*⟨σge⟩ + (0 - 1im)*⟨a′*a′*σeg⟩ + (0 + 1im)*⟨a′*a′*σge⟩ + (0 - 1im)*⟨a′*a*σeg⟩) + (0 + 1im)*g*⟨a′*a*σge⟩ + (0 + 1im)*ω_0*⟨a′*σee⟩ + (0 + 1im)*f(t)*⟨σee⟩\n",
       "∂ₜ(⟨a′*a′*σeg⟩) = g*((0 + 1im)*⟨a′*a′*a′⟩ + (0 - 2im)*⟨a′*σee⟩ + (0 + 1im)*⟨a′*a′*a⟩ + (0 - 2im)*⟨σee⟩*⟨a′*a′*a⟩ + (0 + 4im)*(⟨a′⟩^2)*⟨a*σee⟩ + (0 - 4im)*⟨a′⟩*⟨a′*a*σee⟩ + (0 - 2im)*⟨a⟩*⟨a′*a′*σee⟩ + (0 - 2im)*⟨a′*a′⟩*⟨a*σee⟩ + (0 - 4im)*⟨a′*a⟩*⟨a′*σee⟩ + (0 + 8im)*⟨a′⟩*⟨a⟩*⟨a′*σee⟩ + (0 + 4im)*⟨a⟩*⟨σee⟩*⟨a′*a′⟩ + (0 + 8im)*⟨a′⟩*⟨σee⟩*⟨a′*a⟩ + (0 - 12im)*(⟨a′⟩^2)*⟨a⟩*⟨σee⟩) + (0 - 2im)*g*(⟨σee⟩*⟨a′*a′*a′⟩ + 3⟨a′*a′⟩*⟨a′*σee⟩ + 3⟨a′⟩*⟨a′*a′*σee⟩ + 6(⟨a′⟩^3)*⟨σee⟩ - 6(⟨a′⟩^2)*⟨a′*σee⟩ - 6⟨a′⟩*⟨σee⟩*⟨a′*a′⟩) + (0 + 2im)*g*⟨a′⟩ + (0 + 2im)*ω_0*⟨a′*a′*σeg⟩ + (0 + 2im)*f(t)*⟨a′*σeg⟩ + (0 + 1im)*ω_d*⟨a′*a′*σeg⟩\n",
       "∂ₜ(⟨a′*a′*σge⟩) = g*((0 - 1im)*⟨a′*a′*a′⟩ + (0 + 2im)*⟨a′*σee⟩ + (0 - 1im)*⟨a′*a′*a⟩ + (0 + 2im)*⟨σee⟩*⟨a′*a′*a⟩ + (0 - 4im)*(⟨a′⟩^2)*⟨a*σee⟩ + (0 + 4im)*⟨a′⟩*⟨a′*a*σee⟩ + (0 + 2im)*⟨a⟩*⟨a′*a′*σee⟩ + (0 + 2im)*⟨a′*a′⟩*⟨a*σee⟩ + (0 + 4im)*⟨a′*a⟩*⟨a′*σee⟩ + (0 - 8im)*⟨a′⟩*⟨a⟩*⟨a′*σee⟩ + (0 - 4im)*⟨a⟩*⟨σee⟩*⟨a′*a′⟩ + (0 - 8im)*⟨a′⟩*⟨σee⟩*⟨a′*a⟩ + (0 + 12im)*(⟨a′⟩^2)*⟨a⟩*⟨σee⟩) + (0 - 1im)*ω_d*⟨a′*a′*σge⟩ + (0 + 2im)*g*(⟨σee⟩*⟨a′*a′*a′⟩ + 3⟨a′*a′⟩*⟨a′*σee⟩ + 3⟨a′⟩*⟨a′*a′*σee⟩ + 6(⟨a′⟩^3)*⟨σee⟩ - 6(⟨a′⟩^2)*⟨a′*σee⟩ - 6⟨a′⟩*⟨σee⟩*⟨a′*a′⟩) + (0 + 2im)*ω_0*⟨a′*a′*σge⟩ + (0 + 2im)*f(t)*⟨a′*σge⟩\n",
       "∂ₜ(⟨a′*a*σeg⟩) = g*((0 + 1im)*⟨a⟩ + (0 - 1im)*⟨a′*σee⟩ + (0 - 1im)*⟨a*σee⟩ + (0 + 1im)*⟨a′*a*a⟩ + (0 + 4im)*(⟨a′⟩^2)*⟨a*σee⟩ + (0 - 4im)*⟨a′⟩*⟨a′*a*σee⟩ + (0 - 2im)*⟨σee⟩*⟨a′*a′*a⟩ + (0 - 2im)*⟨a⟩*⟨a′*a′*σee⟩ + (0 - 4im)*⟨a⟩*⟨a′*a*σee⟩ + (0 - 2im)*⟨a′⟩*⟨a*a*σee⟩ + (0 - 2im)*⟨a′*σee⟩*⟨a*a⟩ + (0 - 2im)*⟨σee⟩*⟨a′*a*a⟩ + (0 - 2im)*⟨a′*a′⟩*⟨a*σee⟩ + (0 + 4im)*(⟨a⟩^2)*⟨a′*σee⟩ + (0 - 4im)*⟨a′*a⟩*⟨a′*σee⟩ + (0 - 4im)*⟨a′*a⟩*⟨a*σee⟩ + (0 - 12im)*(⟨a⟩^2)*⟨a′⟩*⟨σee⟩ + (0 + 8im)*⟨a′⟩*⟨a⟩*⟨a′*σee⟩ + (0 + 4im)*⟨a⟩*⟨σee⟩*⟨a′*a′⟩ + (0 + 8im)*⟨a′⟩*⟨σee⟩*⟨a′*a⟩ + (0 + 8im)*⟨a⟩*⟨σee⟩*⟨a′*a⟩ + (0 + 8im)*⟨a′⟩*⟨a⟩*⟨a*σee⟩ + (0 - 12im)*(⟨a′⟩^2)*⟨a⟩*⟨σee⟩ + (0 + 4im)*⟨a′⟩*⟨σee⟩*⟨a*a⟩) + (0 + 1im)*g*⟨a′*a′*a⟩ + (0 - 1im)*f(t)*⟨a′*σeg⟩ + (0 + 1im)*f(t)*⟨a*σeg⟩ + (0 + 1im)*ω_d*⟨a′*a*σeg⟩\n",
       "∂ₜ(⟨σee⟩) = g*((0 - 1im)*⟨a′*σeg⟩ + (0 + 1im)*⟨a′*σge⟩ + (0 - 1im)*⟨a*σeg⟩ + (0 + 1im)*⟨a*σge⟩)\n",
       "∂ₜ(⟨a′*a′*a′⟩) = g*((0 + 3im)*⟨a′*a′*σeg⟩ + (0 + 3im)*⟨a′*a′*σge⟩) + (0 + 3im)*f(t)*⟨a′*a′⟩ + (0 + 3im)*ω_0*⟨a′*a′*a′⟩\n",
       "∂ₜ(⟨a′*a′*a⟩) = g*((0 - 1im)*⟨a′*a′*σeg⟩ + (0 - 1im)*⟨a′*a′*σge⟩ + (0 + 2im)*⟨a′*a*σeg⟩ + (0 + 2im)*⟨a′*a*σge⟩) + (0 - 1im)*f(t)*⟨a′*a′⟩ + (0 + 1im)*ω_0*⟨a′*a′*a⟩ + (0 + 2im)*f(t)*⟨a′*a⟩\n",
       "∂ₜ(⟨a′*a*σee⟩) = g*((0 - 1im)*⟨a′*σeg⟩ + (0 - 2im)*(⟨a′⟩^2)*⟨a*σge⟩ + (0 - 1im)*⟨a′*σeg⟩*⟨a*a⟩ + (0 + 1im)*⟨a′*a′⟩*⟨a*σge⟩ + (0 + 2im)*(⟨a⟩^2)*⟨a′*σeg⟩ + (0 - 2im)*⟨a⟩*⟨a′*a*σeg⟩ + (0 - 1im)*⟨σeg⟩*⟨a′*a*a⟩ + (0 + 2im)*⟨a′⟩*⟨a′*a*σge⟩ + (0 + 2im)*⟨a⟩*⟨a′*a*σge⟩ + (0 + 1im)*⟨σge⟩*⟨a′*a′*a⟩ + (0 + 1im)*⟨a′*σge⟩*⟨a*a⟩ + (0 - 1im)*⟨a′⟩*⟨a*a*σeg⟩ + (0 - 2im)*(⟨a⟩^2)*⟨a′*σge⟩ + (0 + 2im)*⟨a′*a⟩*⟨a′*σge⟩ + (0 - 2im)*⟨a′*a⟩*⟨a*σeg⟩ + (0 + 1im)*⟨a⟩*⟨a′*a′*σge⟩ + (0 + 2im)*⟨a′*a⟩*⟨a*σge⟩ + (0 + 1im)*⟨σge⟩*⟨a′*a*a⟩ + (0 + 1im)*⟨a′⟩*⟨a*a*σge⟩ + (0 + 2im)*⟨a′⟩*⟨σeg⟩*⟨a*a⟩ + (0 - 4im)*⟨a′⟩*⟨σge⟩*⟨a′*a⟩ + (0 + 6im)*(⟨a′⟩^2)*⟨a⟩*⟨σge⟩ + (0 - 4im)*⟨a′⟩*⟨a⟩*⟨a′*σge⟩ + (0 - 4im)*⟨a′⟩*⟨a⟩*⟨a*σge⟩ + (0 - 2im)*⟨a⟩*⟨σge⟩*⟨a′*a′⟩ + (0 + 6im)*(⟨a⟩^2)*⟨a′⟩*⟨σge⟩ + (0 + 4im)*⟨a⟩*⟨σeg⟩*⟨a′*a⟩ + (0 - 6im)*(⟨a⟩^2)*⟨a′⟩*⟨σeg⟩ + (0 - 2im)*⟨a′⟩*⟨σge⟩*⟨a*a⟩ + (0 + 4im)*⟨a′⟩*⟨a⟩*⟨a*σeg⟩ + (0 - 4im)*⟨a⟩*⟨σge⟩*⟨a′*a⟩) + (0 - 1im)*g*(⟨a⟩*⟨a′*a′*σeg⟩ + ⟨a′*a′⟩*⟨a*σeg⟩ + ⟨σeg⟩*⟨a′*a′*a⟩ + 2⟨a′*a⟩*⟨a′*σeg⟩ + 2⟨a′⟩*⟨a′*a*σeg⟩ + 6(⟨a′⟩^2)*⟨a⟩*⟨σeg⟩ - 2(⟨a′⟩^2)*⟨a*σeg⟩ - 4⟨a′⟩*⟨σeg⟩*⟨a′*a⟩ - 4⟨a′⟩*⟨a⟩*⟨a′*σeg⟩ - 2⟨a⟩*⟨σeg⟩*⟨a′*a′⟩) + (0 + 1im)*g*⟨a*σge⟩ + (0 - 1im)*f(t)*⟨a′*σee⟩ + (0 + 1im)*f(t)*⟨a*σee⟩\n",
       "∂ₜ(⟨a′*a′*σee⟩) = g*((0 - 6im)*(⟨a′⟩^3)*⟨σeg⟩ + (0 - 2im)*(⟨a′⟩^2)*⟨a*σge⟩ + (0 - 3im)*⟨a′⟩*⟨a′*a′*σeg⟩ + (0 - 2im)*⟨a′⟩*⟨a′*a*σeg⟩ + (0 + 3im)*⟨a′*a′⟩*⟨a′*σge⟩ + (0 + 1im)*⟨a′*a′⟩*⟨a*σge⟩ + (0 - 6im)*(⟨a′⟩^2)*⟨a′*σge⟩ + (0 + 2im)*⟨a′⟩*⟨a′*a*σge⟩ + (0 + 1im)*⟨σge⟩*⟨a′*a′*a⟩ + (0 + 6im)*(⟨a′⟩^3)*⟨σge⟩ + (0 + 2im)*(⟨a′⟩^2)*⟨a*σeg⟩ + (0 + 3im)*⟨a′⟩*⟨a′*a′*σge⟩ + (0 - 1im)*⟨a′*a′⟩*⟨a*σeg⟩ + (0 + 6im)*(⟨a′⟩^2)*⟨a′*σeg⟩ + (0 - 1im)*⟨a⟩*⟨a′*a′*σeg⟩ + (0 + 1im)*⟨a⟩*⟨a′*a′*σge⟩ + (0 - 3im)*⟨a′*a′⟩*⟨a′*σeg⟩ + (0 - 1im)*⟨σeg⟩*⟨a′*a′*a′⟩ + (0 + 1im)*⟨σge⟩*⟨a′*a′*a′⟩ + (0 - 1im)*⟨σeg⟩*⟨a′*a′*a⟩ + (0 - 2im)*⟨a′*a⟩*⟨a′*σeg⟩ + (0 + 2im)*⟨a′*a⟩*⟨a′*σge⟩ + (0 + 4im)*⟨a′⟩*⟨σeg⟩*⟨a′*a⟩ + (0 - 4im)*⟨a′⟩*⟨σge⟩*⟨a′*a⟩ + (0 - 6im)*(⟨a′⟩^2)*⟨a⟩*⟨σeg⟩ + (0 + 6im)*(⟨a′⟩^2)*⟨a⟩*⟨σge⟩ + (0 + 4im)*⟨a′⟩*⟨a⟩*⟨a′*σeg⟩ + (0 - 4im)*⟨a′⟩*⟨a⟩*⟨a′*σge⟩ + (0 - 2im)*⟨a⟩*⟨σge⟩*⟨a′*a′⟩ + (0 + 6im)*⟨a′⟩*⟨σeg⟩*⟨a′*a′⟩ + (0 - 6im)*⟨a′⟩*⟨σge⟩*⟨a′*a′⟩ + (0 + 2im)*⟨a⟩*⟨σeg⟩*⟨a′*a′⟩) + (0 + 2im)*f(t)*⟨a′*σee⟩ + (0 + 2im)*g*⟨a′*σge⟩ + (0 + 2im)*ω_0*⟨a′*a′*σee⟩\n",
       "∂ₜ(⟨a′*a′⟩) = g*((0 + 2im)*⟨a′*σeg⟩ + (0 + 2im)*⟨a′*σge⟩) + (0 + 2im)*⟨a′⟩*f(t) + (0 + 2im)*ω_0*⟨a′*a′⟩\n",
       "∂ₜ(⟨a′*a⟩) = g*((0 - 1im)*⟨a′*σeg⟩ + (0 - 1im)*⟨a′*σge⟩ + (0 + 1im)*⟨a*σeg⟩ + (0 + 1im)*⟨a*σge⟩) + (0 - 1im)*⟨a′⟩*f(t) + (0 + 1im)*⟨a⟩*f(t)\n",
       "∂ₜ(⟨a′*σeg⟩) = (0 + 1im)*g + g*((0 + 1im)*⟨a′*a′⟩ + (0 + 1im)*⟨a′*a⟩ + (0 - 2im)*⟨a′*a′*σee⟩ + (0 - 2im)*⟨a′*a*σee⟩) + (0 - 1im)*g*⟨σee⟩ + (0 + 1im)*f(t)*⟨σeg⟩ + (0 + 1im)*ω_0*⟨a′*σeg⟩ + (0 + 1im)*ω_d*⟨a′*σeg⟩\n",
       "∂ₜ(⟨a′*σge⟩) = g*((0 - 1im)*⟨a′*a′⟩ + (0 - 1im)*⟨a′*a⟩ + (0 + 2im)*⟨a′*a′*σee⟩ + (0 + 2im)*⟨a′*a*σee⟩) + (0 + 1im)*g*⟨σee⟩ + (0 + 1im)*f(t)*⟨σge⟩ + (0 + 1im)*ω_0*⟨a′*σge⟩ + (0 - 1im)*ω_d*⟨a′*σge⟩\n"
      ]
     },
     "metadata": {},
     "output_type": "display_data"
    }
   ],
   "source": [
    "eqs = meanfield([a] , H_rab; order=3, iv=t)\n",
    "eqs = complete(eqs)"
   ]
  },
  {
   "cell_type": "code",
   "execution_count": 34,
   "metadata": {},
   "outputs": [
    {
     "data": {
      "text/latex": [
       "\\begin{align}\n",
       "\\frac{d}{dt} \\langle a\\rangle  =& -1 i e^{1 i t \\omega_{d}} + g \\left( -1 i \\langle {\\sigma}^{{eg}}\\rangle  -1 i \\langle {\\sigma}^{{ge}}\\rangle  \\right) -1 i \\omega_{0} \\langle a\\rangle  \\\\\n",
       "\\frac{d}{dt} \\langle {\\sigma}^{{eg}}\\rangle  =& g \\left( 1 i \\langle a^\\dagger\\rangle  + 1 i \\langle a\\rangle  -2 i \\langle a^\\dagger  {\\sigma}^{{ee}}\\rangle  -2 i \\langle a  {\\sigma}^{{ee}}\\rangle  \\right) + 1 i \\omega_{d} \\langle {\\sigma}^{{eg}}\\rangle  \\\\\n",
       "\\frac{d}{dt} \\langle a^\\dagger  {\\sigma}^{{ee}}\\rangle  =& g \\left( 1 i \\langle {\\sigma}^{{ge}}\\rangle  -1 i \\langle a^\\dagger  a^\\dagger  {\\sigma}^{{eg}}\\rangle  + 1 i \\langle a^\\dagger  a^\\dagger  {\\sigma}^{{ge}}\\rangle  -1 i \\langle a^\\dagger  a  {\\sigma}^{{eg}}\\rangle  \\right) + 1 i g \\langle a^\\dagger  a  {\\sigma}^{{ge}}\\rangle  + 1 i \\omega_{0} \\langle a^\\dagger  {\\sigma}^{{ee}}\\rangle  + 1 i \\langle {\\sigma}^{{ee}}\\rangle  e^{1 i t \\omega_{d}} \\\\\n",
       "\\frac{d}{dt} \\langle a^\\dagger  a^\\dagger  {\\sigma}^{{eg}}\\rangle  =& g \\left( 1 i \\langle a^\\dagger  a^\\dagger  a^\\dagger\\rangle  -2 i \\langle a^\\dagger  {\\sigma}^{{ee}}\\rangle  + 1 i \\langle a^\\dagger  a^\\dagger  a\\rangle  -2 i \\langle {\\sigma}^{{ee}}\\rangle  \\langle a^\\dagger  a^\\dagger  a\\rangle  + 4 i \\langle a^\\dagger\\rangle ^{2} \\langle a  {\\sigma}^{{ee}}\\rangle  -4 i \\langle a^\\dagger\\rangle  \\langle a^\\dagger  a  {\\sigma}^{{ee}}\\rangle  -2 i \\langle a\\rangle  \\langle a^\\dagger  a^\\dagger  {\\sigma}^{{ee}}\\rangle  -2 i \\langle a^\\dagger  a^\\dagger\\rangle  \\langle a  {\\sigma}^{{ee}}\\rangle  -4 i \\langle a^\\dagger  a\\rangle  \\langle a^\\dagger  {\\sigma}^{{ee}}\\rangle  + 8 i \\langle a^\\dagger\\rangle  \\langle a\\rangle  \\langle a^\\dagger  {\\sigma}^{{ee}}\\rangle  + 4 i \\langle a\\rangle  \\langle {\\sigma}^{{ee}}\\rangle  \\langle a^\\dagger  a^\\dagger\\rangle  + 8 i \\langle a^\\dagger\\rangle  \\langle {\\sigma}^{{ee}}\\rangle  \\langle a^\\dagger  a\\rangle  -12 i \\langle a^\\dagger\\rangle ^{2} \\langle a\\rangle  \\langle {\\sigma}^{{ee}}\\rangle  \\right) -2 i g \\left( \\langle {\\sigma}^{{ee}}\\rangle  \\langle a^\\dagger  a^\\dagger  a^\\dagger\\rangle  + 6 \\langle a^\\dagger\\rangle ^{3} \\langle {\\sigma}^{{ee}}\\rangle  + 3 \\langle a^\\dagger  a^\\dagger\\rangle  \\langle a^\\dagger  {\\sigma}^{{ee}}\\rangle  + 3 \\langle a^\\dagger\\rangle  \\langle a^\\dagger  a^\\dagger  {\\sigma}^{{ee}}\\rangle  -6 \\langle a^\\dagger\\rangle ^{2} \\langle a^\\dagger  {\\sigma}^{{ee}}\\rangle  -6 \\langle a^\\dagger\\rangle  \\langle {\\sigma}^{{ee}}\\rangle  \\langle a^\\dagger  a^\\dagger\\rangle  \\right) + 2 i g \\langle a^\\dagger\\rangle  + 2 i \\omega_{0} \\langle a^\\dagger  a^\\dagger  {\\sigma}^{{eg}}\\rangle  + 2 i \\langle a^\\dagger  {\\sigma}^{{eg}}\\rangle  e^{1 i t \\omega_{d}} + 1 i \\omega_{d} \\langle a^\\dagger  a^\\dagger  {\\sigma}^{{eg}}\\rangle  \\\\\n",
       "\\frac{d}{dt} \\langle a^\\dagger  a^\\dagger  {\\sigma}^{{ge}}\\rangle  =& g \\left( -1 i \\langle a^\\dagger  a^\\dagger  a^\\dagger\\rangle  + 2 i \\langle a^\\dagger  {\\sigma}^{{ee}}\\rangle  -1 i \\langle a^\\dagger  a^\\dagger  a\\rangle  + 2 i \\langle {\\sigma}^{{ee}}\\rangle  \\langle a^\\dagger  a^\\dagger  a\\rangle  -4 i \\langle a^\\dagger\\rangle ^{2} \\langle a  {\\sigma}^{{ee}}\\rangle  + 4 i \\langle a^\\dagger\\rangle  \\langle a^\\dagger  a  {\\sigma}^{{ee}}\\rangle  + 2 i \\langle a\\rangle  \\langle a^\\dagger  a^\\dagger  {\\sigma}^{{ee}}\\rangle  + 2 i \\langle a^\\dagger  a^\\dagger\\rangle  \\langle a  {\\sigma}^{{ee}}\\rangle  + 4 i \\langle a^\\dagger  a\\rangle  \\langle a^\\dagger  {\\sigma}^{{ee}}\\rangle  -8 i \\langle a^\\dagger\\rangle  \\langle a\\rangle  \\langle a^\\dagger  {\\sigma}^{{ee}}\\rangle  -4 i \\langle a\\rangle  \\langle {\\sigma}^{{ee}}\\rangle  \\langle a^\\dagger  a^\\dagger\\rangle  -8 i \\langle a^\\dagger\\rangle  \\langle {\\sigma}^{{ee}}\\rangle  \\langle a^\\dagger  a\\rangle  + 12 i \\langle a^\\dagger\\rangle ^{2} \\langle a\\rangle  \\langle {\\sigma}^{{ee}}\\rangle  \\right) -1 i \\omega_{d} \\langle a^\\dagger  a^\\dagger  {\\sigma}^{{ge}}\\rangle  + 2 i g \\left( \\langle {\\sigma}^{{ee}}\\rangle  \\langle a^\\dagger  a^\\dagger  a^\\dagger\\rangle  + 6 \\langle a^\\dagger\\rangle ^{3} \\langle {\\sigma}^{{ee}}\\rangle  + 3 \\langle a^\\dagger  a^\\dagger\\rangle  \\langle a^\\dagger  {\\sigma}^{{ee}}\\rangle  + 3 \\langle a^\\dagger\\rangle  \\langle a^\\dagger  a^\\dagger  {\\sigma}^{{ee}}\\rangle  -6 \\langle a^\\dagger\\rangle ^{2} \\langle a^\\dagger  {\\sigma}^{{ee}}\\rangle  -6 \\langle a^\\dagger\\rangle  \\langle {\\sigma}^{{ee}}\\rangle  \\langle a^\\dagger  a^\\dagger\\rangle  \\right) + 2 i \\omega_{0} \\langle a^\\dagger  a^\\dagger  {\\sigma}^{{ge}}\\rangle  + 2 i \\langle a^\\dagger  {\\sigma}^{{ge}}\\rangle  e^{1 i t \\omega_{d}} \\\\\n",
       "\\frac{d}{dt} \\langle a^\\dagger  a  {\\sigma}^{{eg}}\\rangle  =& g \\left( 1 i \\langle a\\rangle  -1 i \\langle a^\\dagger  {\\sigma}^{{ee}}\\rangle  -1 i \\langle a  {\\sigma}^{{ee}}\\rangle  + 1 i \\langle a^\\dagger  a  a\\rangle  + 4 i \\langle a^\\dagger\\rangle ^{2} \\langle a  {\\sigma}^{{ee}}\\rangle  -4 i \\langle a^\\dagger\\rangle  \\langle a^\\dagger  a  {\\sigma}^{{ee}}\\rangle  -2 i \\langle {\\sigma}^{{ee}}\\rangle  \\langle a^\\dagger  a^\\dagger  a\\rangle  -2 i \\langle a\\rangle  \\langle a^\\dagger  a^\\dagger  {\\sigma}^{{ee}}\\rangle  -4 i \\langle a\\rangle  \\langle a^\\dagger  a  {\\sigma}^{{ee}}\\rangle  -2 i \\langle a^\\dagger\\rangle  \\langle a  a  {\\sigma}^{{ee}}\\rangle  -2 i \\langle a^\\dagger  {\\sigma}^{{ee}}\\rangle  \\langle a  a\\rangle  -2 i \\langle {\\sigma}^{{ee}}\\rangle  \\langle a^\\dagger  a  a\\rangle  -2 i \\langle a^\\dagger  a^\\dagger\\rangle  \\langle a  {\\sigma}^{{ee}}\\rangle  + 4 i \\langle a\\rangle ^{2} \\langle a^\\dagger  {\\sigma}^{{ee}}\\rangle  -4 i \\langle a^\\dagger  a\\rangle  \\langle a^\\dagger  {\\sigma}^{{ee}}\\rangle  -4 i \\langle a^\\dagger  a\\rangle  \\langle a  {\\sigma}^{{ee}}\\rangle  -12 i \\langle a\\rangle ^{2} \\langle a^\\dagger\\rangle  \\langle {\\sigma}^{{ee}}\\rangle  + 8 i \\langle a^\\dagger\\rangle  \\langle a\\rangle  \\langle a^\\dagger  {\\sigma}^{{ee}}\\rangle  + 4 i \\langle a\\rangle  \\langle {\\sigma}^{{ee}}\\rangle  \\langle a^\\dagger  a^\\dagger\\rangle  + 8 i \\langle a^\\dagger\\rangle  \\langle {\\sigma}^{{ee}}\\rangle  \\langle a^\\dagger  a\\rangle  + 8 i \\langle a\\rangle  \\langle {\\sigma}^{{ee}}\\rangle  \\langle a^\\dagger  a\\rangle  + 8 i \\langle a^\\dagger\\rangle  \\langle a\\rangle  \\langle a  {\\sigma}^{{ee}}\\rangle  -12 i \\langle a^\\dagger\\rangle ^{2} \\langle a\\rangle  \\langle {\\sigma}^{{ee}}\\rangle  + 4 i \\langle a^\\dagger\\rangle  \\langle {\\sigma}^{{ee}}\\rangle  \\langle a  a\\rangle  \\right) + 1 i g \\langle a^\\dagger  a^\\dagger  a\\rangle  -1 i \\langle a^\\dagger  {\\sigma}^{{eg}}\\rangle  e^{1 i t \\omega_{d}} + 1 i \\langle a  {\\sigma}^{{eg}}\\rangle  e^{1 i t \\omega_{d}} + 1 i \\omega_{d} \\langle a^\\dagger  a  {\\sigma}^{{eg}}\\rangle  \\\\\n",
       "\\frac{d}{dt} \\langle {\\sigma}^{{ee}}\\rangle  =& g \\left( -1 i \\langle a^\\dagger  {\\sigma}^{{eg}}\\rangle  + 1 i \\langle a^\\dagger  {\\sigma}^{{ge}}\\rangle  -1 i \\langle a  {\\sigma}^{{eg}}\\rangle  + 1 i \\langle a  {\\sigma}^{{ge}}\\rangle  \\right) \\\\\n",
       "\\frac{d}{dt} \\langle a^\\dagger  a^\\dagger  a^\\dagger\\rangle  =& g \\left( 3 i \\langle a^\\dagger  a^\\dagger  {\\sigma}^{{eg}}\\rangle  + 3 i \\langle a^\\dagger  a^\\dagger  {\\sigma}^{{ge}}\\rangle  \\right) + 3 i \\langle a^\\dagger  a^\\dagger\\rangle  e^{1 i t \\omega_{d}} + 3 i \\omega_{0} \\langle a^\\dagger  a^\\dagger  a^\\dagger\\rangle  \\\\\n",
       "\\frac{d}{dt} \\langle a^\\dagger  a^\\dagger  a\\rangle  =& g \\left( -1 i \\langle a^\\dagger  a^\\dagger  {\\sigma}^{{eg}}\\rangle  -1 i \\langle a^\\dagger  a^\\dagger  {\\sigma}^{{ge}}\\rangle  + 2 i \\langle a^\\dagger  a  {\\sigma}^{{eg}}\\rangle  + 2 i \\langle a^\\dagger  a  {\\sigma}^{{ge}}\\rangle  \\right) -1 i \\langle a^\\dagger  a^\\dagger\\rangle  e^{1 i t \\omega_{d}} + 1 i \\omega_{0} \\langle a^\\dagger  a^\\dagger  a\\rangle  + 2 i \\langle a^\\dagger  a\\rangle  e^{1 i t \\omega_{d}} \\\\\n",
       "\\frac{d}{dt} \\langle a^\\dagger  a  {\\sigma}^{{ee}}\\rangle  =& g \\left( -1 i \\langle a^\\dagger  {\\sigma}^{{eg}}\\rangle  -2 i \\langle a^\\dagger\\rangle ^{2} \\langle a  {\\sigma}^{{ge}}\\rangle  -1 i \\langle a^\\dagger  {\\sigma}^{{eg}}\\rangle  \\langle a  a\\rangle  + 1 i \\langle a^\\dagger  a^\\dagger\\rangle  \\langle a  {\\sigma}^{{ge}}\\rangle  + 2 i \\langle a\\rangle ^{2} \\langle a^\\dagger  {\\sigma}^{{eg}}\\rangle  -2 i \\langle a\\rangle  \\langle a^\\dagger  a  {\\sigma}^{{eg}}\\rangle  -1 i \\langle {\\sigma}^{{eg}}\\rangle  \\langle a^\\dagger  a  a\\rangle  + 2 i \\langle a^\\dagger\\rangle  \\langle a^\\dagger  a  {\\sigma}^{{ge}}\\rangle  + 2 i \\langle a\\rangle  \\langle a^\\dagger  a  {\\sigma}^{{ge}}\\rangle  + 1 i \\langle {\\sigma}^{{ge}}\\rangle  \\langle a^\\dagger  a^\\dagger  a\\rangle  + 1 i \\langle a^\\dagger  {\\sigma}^{{ge}}\\rangle  \\langle a  a\\rangle  -1 i \\langle a^\\dagger\\rangle  \\langle a  a  {\\sigma}^{{eg}}\\rangle  -2 i \\langle a\\rangle ^{2} \\langle a^\\dagger  {\\sigma}^{{ge}}\\rangle  + 2 i \\langle a^\\dagger  a\\rangle  \\langle a^\\dagger  {\\sigma}^{{ge}}\\rangle  -2 i \\langle a^\\dagger  a\\rangle  \\langle a  {\\sigma}^{{eg}}\\rangle  + 1 i \\langle a\\rangle  \\langle a^\\dagger  a^\\dagger  {\\sigma}^{{ge}}\\rangle  + 2 i \\langle a^\\dagger  a\\rangle  \\langle a  {\\sigma}^{{ge}}\\rangle  + 1 i \\langle {\\sigma}^{{ge}}\\rangle  \\langle a^\\dagger  a  a\\rangle  + 1 i \\langle a^\\dagger\\rangle  \\langle a  a  {\\sigma}^{{ge}}\\rangle  + 2 i \\langle a^\\dagger\\rangle  \\langle {\\sigma}^{{eg}}\\rangle  \\langle a  a\\rangle  -4 i \\langle a^\\dagger\\rangle  \\langle {\\sigma}^{{ge}}\\rangle  \\langle a^\\dagger  a\\rangle  + 6 i \\langle a^\\dagger\\rangle ^{2} \\langle a\\rangle  \\langle {\\sigma}^{{ge}}\\rangle  -4 i \\langle a^\\dagger\\rangle  \\langle a\\rangle  \\langle a^\\dagger  {\\sigma}^{{ge}}\\rangle  -4 i \\langle a^\\dagger\\rangle  \\langle a\\rangle  \\langle a  {\\sigma}^{{ge}}\\rangle  -2 i \\langle a\\rangle  \\langle {\\sigma}^{{ge}}\\rangle  \\langle a^\\dagger  a^\\dagger\\rangle  + 6 i \\langle a\\rangle ^{2} \\langle a^\\dagger\\rangle  \\langle {\\sigma}^{{ge}}\\rangle  + 4 i \\langle a\\rangle  \\langle {\\sigma}^{{eg}}\\rangle  \\langle a^\\dagger  a\\rangle  -6 i \\langle a\\rangle ^{2} \\langle a^\\dagger\\rangle  \\langle {\\sigma}^{{eg}}\\rangle  -2 i \\langle a^\\dagger\\rangle  \\langle {\\sigma}^{{ge}}\\rangle  \\langle a  a\\rangle  + 4 i \\langle a^\\dagger\\rangle  \\langle a\\rangle  \\langle a  {\\sigma}^{{eg}}\\rangle  -4 i \\langle a\\rangle  \\langle {\\sigma}^{{ge}}\\rangle  \\langle a^\\dagger  a\\rangle  \\right) -1 i g \\left( \\langle a^\\dagger  a^\\dagger\\rangle  \\langle a  {\\sigma}^{{eg}}\\rangle  + \\langle {\\sigma}^{{eg}}\\rangle  \\langle a^\\dagger  a^\\dagger  a\\rangle  + \\langle a\\rangle  \\langle a^\\dagger  a^\\dagger  {\\sigma}^{{eg}}\\rangle  + 2 \\langle a^\\dagger  a\\rangle  \\langle a^\\dagger  {\\sigma}^{{eg}}\\rangle  -2 \\langle a^\\dagger\\rangle ^{2} \\langle a  {\\sigma}^{{eg}}\\rangle  + 2 \\langle a^\\dagger\\rangle  \\langle a^\\dagger  a  {\\sigma}^{{eg}}\\rangle  + 6 \\langle a^\\dagger\\rangle ^{2} \\langle a\\rangle  \\langle {\\sigma}^{{eg}}\\rangle  -4 \\langle a^\\dagger\\rangle  \\langle a\\rangle  \\langle a^\\dagger  {\\sigma}^{{eg}}\\rangle  -2 \\langle a\\rangle  \\langle {\\sigma}^{{eg}}\\rangle  \\langle a^\\dagger  a^\\dagger\\rangle  -4 \\langle a^\\dagger\\rangle  \\langle {\\sigma}^{{eg}}\\rangle  \\langle a^\\dagger  a\\rangle  \\right) + 1 i g \\langle a  {\\sigma}^{{ge}}\\rangle  -1 i \\langle a^\\dagger  {\\sigma}^{{ee}}\\rangle  e^{1 i t \\omega_{d}} + 1 i \\langle a  {\\sigma}^{{ee}}\\rangle  e^{1 i t \\omega_{d}} \\\\\n",
       "\\frac{d}{dt} \\langle a^\\dagger  a^\\dagger  {\\sigma}^{{ee}}\\rangle  =& g \\left( -2 i \\langle a^\\dagger  a\\rangle  \\langle a^\\dagger  {\\sigma}^{{eg}}\\rangle  + 2 i \\langle a^\\dagger\\rangle ^{2} \\langle a  {\\sigma}^{{eg}}\\rangle  -2 i \\langle a^\\dagger\\rangle ^{2} \\langle a  {\\sigma}^{{ge}}\\rangle  -2 i \\langle a^\\dagger\\rangle  \\langle a^\\dagger  a  {\\sigma}^{{eg}}\\rangle  + 3 i \\langle a^\\dagger  a^\\dagger\\rangle  \\langle a^\\dagger  {\\sigma}^{{ge}}\\rangle  -1 i \\langle a^\\dagger  a^\\dagger\\rangle  \\langle a  {\\sigma}^{{eg}}\\rangle  + 1 i \\langle a^\\dagger  a^\\dagger\\rangle  \\langle a  {\\sigma}^{{ge}}\\rangle  + 6 i \\langle a^\\dagger\\rangle ^{2} \\langle a^\\dagger  {\\sigma}^{{eg}}\\rangle  -6 i \\langle a^\\dagger\\rangle ^{2} \\langle a^\\dagger  {\\sigma}^{{ge}}\\rangle  + 2 i \\langle a^\\dagger\\rangle  \\langle a^\\dagger  a  {\\sigma}^{{ge}}\\rangle  + 1 i \\langle {\\sigma}^{{ge}}\\rangle  \\langle a^\\dagger  a^\\dagger  a\\rangle  + 2 i \\langle a^\\dagger  a\\rangle  \\langle a^\\dagger  {\\sigma}^{{ge}}\\rangle  -1 i \\langle a\\rangle  \\langle a^\\dagger  a^\\dagger  {\\sigma}^{{eg}}\\rangle  + 1 i \\langle a\\rangle  \\langle a^\\dagger  a^\\dagger  {\\sigma}^{{ge}}\\rangle  -3 i \\langle a^\\dagger  a^\\dagger\\rangle  \\langle a^\\dagger  {\\sigma}^{{eg}}\\rangle  -1 i \\langle {\\sigma}^{{eg}}\\rangle  \\langle a^\\dagger  a^\\dagger  a^\\dagger\\rangle  + 1 i \\langle {\\sigma}^{{ge}}\\rangle  \\langle a^\\dagger  a^\\dagger  a^\\dagger\\rangle  -1 i \\langle {\\sigma}^{{eg}}\\rangle  \\langle a^\\dagger  a^\\dagger  a\\rangle  -3 i \\langle a^\\dagger\\rangle  \\langle a^\\dagger  a^\\dagger  {\\sigma}^{{eg}}\\rangle  + 3 i \\langle a^\\dagger\\rangle  \\langle a^\\dagger  a^\\dagger  {\\sigma}^{{ge}}\\rangle  -6 i \\langle a^\\dagger\\rangle ^{3} \\langle {\\sigma}^{{eg}}\\rangle  + 6 i \\langle a^\\dagger\\rangle ^{3} \\langle {\\sigma}^{{ge}}\\rangle  + 2 i \\langle a\\rangle  \\langle {\\sigma}^{{eg}}\\rangle  \\langle a^\\dagger  a^\\dagger\\rangle  + 4 i \\langle a^\\dagger\\rangle  \\langle {\\sigma}^{{eg}}\\rangle  \\langle a^\\dagger  a\\rangle  -4 i \\langle a^\\dagger\\rangle  \\langle {\\sigma}^{{ge}}\\rangle  \\langle a^\\dagger  a\\rangle  -6 i \\langle a^\\dagger\\rangle ^{2} \\langle a\\rangle  \\langle {\\sigma}^{{eg}}\\rangle  + 6 i \\langle a^\\dagger\\rangle ^{2} \\langle a\\rangle  \\langle {\\sigma}^{{ge}}\\rangle  + 4 i \\langle a^\\dagger\\rangle  \\langle a\\rangle  \\langle a^\\dagger  {\\sigma}^{{eg}}\\rangle  -4 i \\langle a^\\dagger\\rangle  \\langle a\\rangle  \\langle a^\\dagger  {\\sigma}^{{ge}}\\rangle  -2 i \\langle a\\rangle  \\langle {\\sigma}^{{ge}}\\rangle  \\langle a^\\dagger  a^\\dagger\\rangle  + 6 i \\langle a^\\dagger\\rangle  \\langle {\\sigma}^{{eg}}\\rangle  \\langle a^\\dagger  a^\\dagger\\rangle  -6 i \\langle a^\\dagger\\rangle  \\langle {\\sigma}^{{ge}}\\rangle  \\langle a^\\dagger  a^\\dagger\\rangle  \\right) + 2 i g \\langle a^\\dagger  {\\sigma}^{{ge}}\\rangle  + 2 i \\omega_{0} \\langle a^\\dagger  a^\\dagger  {\\sigma}^{{ee}}\\rangle  + 2 i \\langle a^\\dagger  {\\sigma}^{{ee}}\\rangle  e^{1 i t \\omega_{d}} \\\\\n",
       "\\frac{d}{dt} \\langle a^\\dagger  a^\\dagger\\rangle  =& g \\left( 2 i \\langle a^\\dagger  {\\sigma}^{{eg}}\\rangle  + 2 i \\langle a^\\dagger  {\\sigma}^{{ge}}\\rangle  \\right) + 2 i \\omega_{0} \\langle a^\\dagger  a^\\dagger\\rangle  + 2 i \\langle a^\\dagger\\rangle  e^{1 i t \\omega_{d}} \\\\\n",
       "\\frac{d}{dt} \\langle a^\\dagger  a\\rangle  =& g \\left( -1 i \\langle a^\\dagger  {\\sigma}^{{eg}}\\rangle  -1 i \\langle a^\\dagger  {\\sigma}^{{ge}}\\rangle  + 1 i \\langle a  {\\sigma}^{{eg}}\\rangle  + 1 i \\langle a  {\\sigma}^{{ge}}\\rangle  \\right) -1 i \\langle a^\\dagger\\rangle  e^{1 i t \\omega_{d}} + 1 i \\langle a\\rangle  e^{1 i t \\omega_{d}} \\\\\n",
       "\\frac{d}{dt} \\langle a^\\dagger  {\\sigma}^{{eg}}\\rangle  =& 1 i g + g \\left( 1 i \\langle a^\\dagger  a^\\dagger\\rangle  + 1 i \\langle a^\\dagger  a\\rangle  -2 i \\langle a^\\dagger  a^\\dagger  {\\sigma}^{{ee}}\\rangle  -2 i \\langle a^\\dagger  a  {\\sigma}^{{ee}}\\rangle  \\right) -1 i g \\langle {\\sigma}^{{ee}}\\rangle  + 1 i \\omega_{0} \\langle a^\\dagger  {\\sigma}^{{eg}}\\rangle  + 1 i \\omega_{d} \\langle a^\\dagger  {\\sigma}^{{eg}}\\rangle  + 1 i \\langle {\\sigma}^{{eg}}\\rangle  e^{1 i t \\omega_{d}} \\\\\n",
       "\\frac{d}{dt} \\langle a^\\dagger  {\\sigma}^{{ge}}\\rangle  =& g \\left( -1 i \\langle a^\\dagger  a^\\dagger\\rangle  -1 i \\langle a^\\dagger  a\\rangle  + 2 i \\langle a^\\dagger  a^\\dagger  {\\sigma}^{{ee}}\\rangle  + 2 i \\langle a^\\dagger  a  {\\sigma}^{{ee}}\\rangle  \\right) + 1 i g \\langle {\\sigma}^{{ee}}\\rangle  + 1 i \\omega_{0} \\langle a^\\dagger  {\\sigma}^{{ge}}\\rangle  -1 i \\omega_{d} \\langle a^\\dagger  {\\sigma}^{{ge}}\\rangle  + 1 i \\langle {\\sigma}^{{ge}}\\rangle  e^{1 i t \\omega_{d}}\n",
       "\\end{align}\n"
      ],
      "text/plain": [
       "∂ₜ(⟨a⟩) = (0 - 1im)*exp((0 + 1im)*t*ω_d) + g*((0 - 1im)*⟨σeg⟩ + (0 - 1im)*⟨σge⟩) + (0 - 1im)*ω_0*⟨a⟩\n",
       "∂ₜ(⟨σeg⟩) = g*((0 + 1im)*⟨a′⟩ + (0 + 1im)*⟨a⟩ + (0 - 2im)*⟨a′*σee⟩ + (0 - 2im)*⟨a*σee⟩) + (0 + 1im)*ω_d*⟨σeg⟩\n",
       "∂ₜ(⟨a′*σee⟩) = g*((0 + 1im)*⟨σge⟩ + (0 - 1im)*⟨a′*a′*σeg⟩ + (0 + 1im)*⟨a′*a′*σge⟩ + (0 - 1im)*⟨a′*a*σeg⟩) + (0 + 1im)*g*⟨a′*a*σge⟩ + (0 + 1im)*ω_0*⟨a′*σee⟩ + (0 + 1im)*⟨σee⟩*exp((0 + 1im)*t*ω_d)\n",
       "∂ₜ(⟨a′*a′*σeg⟩) = g*((0 + 1im)*⟨a′*a′*a′⟩ + (0 - 2im)*⟨a′*σee⟩ + (0 + 1im)*⟨a′*a′*a⟩ + (0 - 2im)*⟨σee⟩*⟨a′*a′*a⟩ + (0 + 4im)*(⟨a′⟩^2)*⟨a*σee⟩ + (0 - 4im)*⟨a′⟩*⟨a′*a*σee⟩ + (0 - 2im)*⟨a⟩*⟨a′*a′*σee⟩ + (0 - 2im)*⟨a′*a′⟩*⟨a*σee⟩ + (0 - 4im)*⟨a′*a⟩*⟨a′*σee⟩ + (0 + 8im)*⟨a′⟩*⟨a⟩*⟨a′*σee⟩ + (0 + 4im)*⟨a⟩*⟨σee⟩*⟨a′*a′⟩ + (0 + 8im)*⟨a′⟩*⟨σee⟩*⟨a′*a⟩ + (0 - 12im)*(⟨a′⟩^2)*⟨a⟩*⟨σee⟩) + (0 - 2im)*g*(⟨σee⟩*⟨a′*a′*a′⟩ + 6(⟨a′⟩^3)*⟨σee⟩ + 3⟨a′*a′⟩*⟨a′*σee⟩ + 3⟨a′⟩*⟨a′*a′*σee⟩ - 6(⟨a′⟩^2)*⟨a′*σee⟩ - 6⟨a′⟩*⟨σee⟩*⟨a′*a′⟩) + (0 + 2im)*g*⟨a′⟩ + (0 + 2im)*ω_0*⟨a′*a′*σeg⟩ + (0 + 2im)*⟨a′*σeg⟩*exp((0 + 1im)*t*ω_d) + (0 + 1im)*ω_d*⟨a′*a′*σeg⟩\n",
       "∂ₜ(⟨a′*a′*σge⟩) = g*((0 - 1im)*⟨a′*a′*a′⟩ + (0 + 2im)*⟨a′*σee⟩ + (0 - 1im)*⟨a′*a′*a⟩ + (0 + 2im)*⟨σee⟩*⟨a′*a′*a⟩ + (0 - 4im)*(⟨a′⟩^2)*⟨a*σee⟩ + (0 + 4im)*⟨a′⟩*⟨a′*a*σee⟩ + (0 + 2im)*⟨a⟩*⟨a′*a′*σee⟩ + (0 + 2im)*⟨a′*a′⟩*⟨a*σee⟩ + (0 + 4im)*⟨a′*a⟩*⟨a′*σee⟩ + (0 - 8im)*⟨a′⟩*⟨a⟩*⟨a′*σee⟩ + (0 - 4im)*⟨a⟩*⟨σee⟩*⟨a′*a′⟩ + (0 - 8im)*⟨a′⟩*⟨σee⟩*⟨a′*a⟩ + (0 + 12im)*(⟨a′⟩^2)*⟨a⟩*⟨σee⟩) + (0 - 1im)*ω_d*⟨a′*a′*σge⟩ + (0 + 2im)*g*(⟨σee⟩*⟨a′*a′*a′⟩ + 6(⟨a′⟩^3)*⟨σee⟩ + 3⟨a′*a′⟩*⟨a′*σee⟩ + 3⟨a′⟩*⟨a′*a′*σee⟩ - 6(⟨a′⟩^2)*⟨a′*σee⟩ - 6⟨a′⟩*⟨σee⟩*⟨a′*a′⟩) + (0 + 2im)*ω_0*⟨a′*a′*σge⟩ + (0 + 2im)*⟨a′*σge⟩*exp((0 + 1im)*t*ω_d)\n",
       "∂ₜ(⟨a′*a*σeg⟩) = g*((0 + 1im)*⟨a⟩ + (0 - 1im)*⟨a′*σee⟩ + (0 - 1im)*⟨a*σee⟩ + (0 + 1im)*⟨a′*a*a⟩ + (0 + 4im)*(⟨a′⟩^2)*⟨a*σee⟩ + (0 - 4im)*⟨a′⟩*⟨a′*a*σee⟩ + (0 - 2im)*⟨σee⟩*⟨a′*a′*a⟩ + (0 - 2im)*⟨a⟩*⟨a′*a′*σee⟩ + (0 - 4im)*⟨a⟩*⟨a′*a*σee⟩ + (0 - 2im)*⟨a′⟩*⟨a*a*σee⟩ + (0 - 2im)*⟨a′*σee⟩*⟨a*a⟩ + (0 - 2im)*⟨σee⟩*⟨a′*a*a⟩ + (0 - 2im)*⟨a′*a′⟩*⟨a*σee⟩ + (0 + 4im)*(⟨a⟩^2)*⟨a′*σee⟩ + (0 - 4im)*⟨a′*a⟩*⟨a′*σee⟩ + (0 - 4im)*⟨a′*a⟩*⟨a*σee⟩ + (0 - 12im)*(⟨a⟩^2)*⟨a′⟩*⟨σee⟩ + (0 + 8im)*⟨a′⟩*⟨a⟩*⟨a′*σee⟩ + (0 + 4im)*⟨a⟩*⟨σee⟩*⟨a′*a′⟩ + (0 + 8im)*⟨a′⟩*⟨σee⟩*⟨a′*a⟩ + (0 + 8im)*⟨a⟩*⟨σee⟩*⟨a′*a⟩ + (0 + 8im)*⟨a′⟩*⟨a⟩*⟨a*σee⟩ + (0 - 12im)*(⟨a′⟩^2)*⟨a⟩*⟨σee⟩ + (0 + 4im)*⟨a′⟩*⟨σee⟩*⟨a*a⟩) + (0 + 1im)*g*⟨a′*a′*a⟩ + (0 - 1im)*⟨a′*σeg⟩*exp((0 + 1im)*t*ω_d) + (0 + 1im)*⟨a*σeg⟩*exp((0 + 1im)*t*ω_d) + (0 + 1im)*ω_d*⟨a′*a*σeg⟩\n",
       "∂ₜ(⟨σee⟩) = g*((0 - 1im)*⟨a′*σeg⟩ + (0 + 1im)*⟨a′*σge⟩ + (0 - 1im)*⟨a*σeg⟩ + (0 + 1im)*⟨a*σge⟩)\n",
       "∂ₜ(⟨a′*a′*a′⟩) = g*((0 + 3im)*⟨a′*a′*σeg⟩ + (0 + 3im)*⟨a′*a′*σge⟩) + (0 + 3im)*⟨a′*a′⟩*exp((0 + 1im)*t*ω_d) + (0 + 3im)*ω_0*⟨a′*a′*a′⟩\n",
       "∂ₜ(⟨a′*a′*a⟩) = g*((0 - 1im)*⟨a′*a′*σeg⟩ + (0 - 1im)*⟨a′*a′*σge⟩ + (0 + 2im)*⟨a′*a*σeg⟩ + (0 + 2im)*⟨a′*a*σge⟩) + (0 - 1im)*⟨a′*a′⟩*exp((0 + 1im)*t*ω_d) + (0 + 1im)*ω_0*⟨a′*a′*a⟩ + (0 + 2im)*⟨a′*a⟩*exp((0 + 1im)*t*ω_d)\n",
       "∂ₜ(⟨a′*a*σee⟩) = g*((0 - 1im)*⟨a′*σeg⟩ + (0 - 2im)*(⟨a′⟩^2)*⟨a*σge⟩ + (0 - 1im)*⟨a′*σeg⟩*⟨a*a⟩ + (0 + 1im)*⟨a′*a′⟩*⟨a*σge⟩ + (0 + 2im)*(⟨a⟩^2)*⟨a′*σeg⟩ + (0 - 2im)*⟨a⟩*⟨a′*a*σeg⟩ + (0 - 1im)*⟨σeg⟩*⟨a′*a*a⟩ + (0 + 2im)*⟨a′⟩*⟨a′*a*σge⟩ + (0 + 2im)*⟨a⟩*⟨a′*a*σge⟩ + (0 + 1im)*⟨σge⟩*⟨a′*a′*a⟩ + (0 + 1im)*⟨a′*σge⟩*⟨a*a⟩ + (0 - 1im)*⟨a′⟩*⟨a*a*σeg⟩ + (0 - 2im)*(⟨a⟩^2)*⟨a′*σge⟩ + (0 + 2im)*⟨a′*a⟩*⟨a′*σge⟩ + (0 - 2im)*⟨a′*a⟩*⟨a*σeg⟩ + (0 + 1im)*⟨a⟩*⟨a′*a′*σge⟩ + (0 + 2im)*⟨a′*a⟩*⟨a*σge⟩ + (0 + 1im)*⟨σge⟩*⟨a′*a*a⟩ + (0 + 1im)*⟨a′⟩*⟨a*a*σge⟩ + (0 + 2im)*⟨a′⟩*⟨σeg⟩*⟨a*a⟩ + (0 - 4im)*⟨a′⟩*⟨σge⟩*⟨a′*a⟩ + (0 + 6im)*(⟨a′⟩^2)*⟨a⟩*⟨σge⟩ + (0 - 4im)*⟨a′⟩*⟨a⟩*⟨a′*σge⟩ + (0 - 4im)*⟨a′⟩*⟨a⟩*⟨a*σge⟩ + (0 - 2im)*⟨a⟩*⟨σge⟩*⟨a′*a′⟩ + (0 + 6im)*(⟨a⟩^2)*⟨a′⟩*⟨σge⟩ + (0 + 4im)*⟨a⟩*⟨σeg⟩*⟨a′*a⟩ + (0 - 6im)*(⟨a⟩^2)*⟨a′⟩*⟨σeg⟩ + (0 - 2im)*⟨a′⟩*⟨σge⟩*⟨a*a⟩ + (0 + 4im)*⟨a′⟩*⟨a⟩*⟨a*σeg⟩ + (0 - 4im)*⟨a⟩*⟨σge⟩*⟨a′*a⟩) + (0 - 1im)*g*(⟨a′*a′⟩*⟨a*σeg⟩ + ⟨σeg⟩*⟨a′*a′*a⟩ + ⟨a⟩*⟨a′*a′*σeg⟩ + 2⟨a′*a⟩*⟨a′*σeg⟩ + 2⟨a′⟩*⟨a′*a*σeg⟩ + 6(⟨a′⟩^2)*⟨a⟩*⟨σeg⟩ - 2(⟨a′⟩^2)*⟨a*σeg⟩ - 4⟨a′⟩*⟨a⟩*⟨a′*σeg⟩ - 2⟨a⟩*⟨σeg⟩*⟨a′*a′⟩ - 4⟨a′⟩*⟨σeg⟩*⟨a′*a⟩) + (0 + 1im)*g*⟨a*σge⟩ + (0 - 1im)*⟨a′*σee⟩*exp((0 + 1im)*t*ω_d) + (0 + 1im)*⟨a*σee⟩*exp((0 + 1im)*t*ω_d)\n",
       "∂ₜ(⟨a′*a′*σee⟩) = g*((0 - 2im)*⟨a′*a⟩*⟨a′*σeg⟩ + (0 + 2im)*(⟨a′⟩^2)*⟨a*σeg⟩ + (0 - 2im)*(⟨a′⟩^2)*⟨a*σge⟩ + (0 - 2im)*⟨a′⟩*⟨a′*a*σeg⟩ + (0 + 3im)*⟨a′*a′⟩*⟨a′*σge⟩ + (0 - 1im)*⟨a′*a′⟩*⟨a*σeg⟩ + (0 + 1im)*⟨a′*a′⟩*⟨a*σge⟩ + (0 + 6im)*(⟨a′⟩^2)*⟨a′*σeg⟩ + (0 - 6im)*(⟨a′⟩^2)*⟨a′*σge⟩ + (0 + 2im)*⟨a′⟩*⟨a′*a*σge⟩ + (0 + 1im)*⟨σge⟩*⟨a′*a′*a⟩ + (0 + 2im)*⟨a′*a⟩*⟨a′*σge⟩ + (0 - 1im)*⟨a⟩*⟨a′*a′*σeg⟩ + (0 + 1im)*⟨a⟩*⟨a′*a′*σge⟩ + (0 - 3im)*⟨a′*a′⟩*⟨a′*σeg⟩ + (0 - 1im)*⟨σeg⟩*⟨a′*a′*a′⟩ + (0 + 1im)*⟨σge⟩*⟨a′*a′*a′⟩ + (0 - 1im)*⟨σeg⟩*⟨a′*a′*a⟩ + (0 - 3im)*⟨a′⟩*⟨a′*a′*σeg⟩ + (0 + 3im)*⟨a′⟩*⟨a′*a′*σge⟩ + (0 - 6im)*(⟨a′⟩^3)*⟨σeg⟩ + (0 + 6im)*(⟨a′⟩^3)*⟨σge⟩ + (0 + 2im)*⟨a⟩*⟨σeg⟩*⟨a′*a′⟩ + (0 + 4im)*⟨a′⟩*⟨σeg⟩*⟨a′*a⟩ + (0 - 4im)*⟨a′⟩*⟨σge⟩*⟨a′*a⟩ + (0 - 6im)*(⟨a′⟩^2)*⟨a⟩*⟨σeg⟩ + (0 + 6im)*(⟨a′⟩^2)*⟨a⟩*⟨σge⟩ + (0 + 4im)*⟨a′⟩*⟨a⟩*⟨a′*σeg⟩ + (0 - 4im)*⟨a′⟩*⟨a⟩*⟨a′*σge⟩ + (0 - 2im)*⟨a⟩*⟨σge⟩*⟨a′*a′⟩ + (0 + 6im)*⟨a′⟩*⟨σeg⟩*⟨a′*a′⟩ + (0 - 6im)*⟨a′⟩*⟨σge⟩*⟨a′*a′⟩) + (0 + 2im)*g*⟨a′*σge⟩ + (0 + 2im)*ω_0*⟨a′*a′*σee⟩ + (0 + 2im)*⟨a′*σee⟩*exp((0 + 1im)*t*ω_d)\n",
       "∂ₜ(⟨a′*a′⟩) = g*((0 + 2im)*⟨a′*σeg⟩ + (0 + 2im)*⟨a′*σge⟩) + (0 + 2im)*ω_0*⟨a′*a′⟩ + (0 + 2im)*⟨a′⟩*exp((0 + 1im)*t*ω_d)\n",
       "∂ₜ(⟨a′*a⟩) = g*((0 - 1im)*⟨a′*σeg⟩ + (0 - 1im)*⟨a′*σge⟩ + (0 + 1im)*⟨a*σeg⟩ + (0 + 1im)*⟨a*σge⟩) + (0 - 1im)*⟨a′⟩*exp((0 + 1im)*t*ω_d) + (0 + 1im)*⟨a⟩*exp((0 + 1im)*t*ω_d)\n",
       "∂ₜ(⟨a′*σeg⟩) = (0 + 1im)*g + g*((0 + 1im)*⟨a′*a′⟩ + (0 + 1im)*⟨a′*a⟩ + (0 - 2im)*⟨a′*a′*σee⟩ + (0 - 2im)*⟨a′*a*σee⟩) + (0 - 1im)*g*⟨σee⟩ + (0 + 1im)*ω_0*⟨a′*σeg⟩ + (0 + 1im)*ω_d*⟨a′*σeg⟩ + (0 + 1im)*⟨σeg⟩*exp((0 + 1im)*t*ω_d)\n",
       "∂ₜ(⟨a′*σge⟩) = g*((0 - 1im)*⟨a′*a′⟩ + (0 - 1im)*⟨a′*a⟩ + (0 + 2im)*⟨a′*a′*σee⟩ + (0 + 2im)*⟨a′*a*σee⟩) + (0 + 1im)*g*⟨σee⟩ + (0 + 1im)*ω_0*⟨a′*σge⟩ + (0 - 1im)*ω_d*⟨a′*σge⟩ + (0 + 1im)*⟨σge⟩*exp((0 + 1im)*t*ω_d)\n"
      ]
     },
     "metadata": {},
     "output_type": "display_data"
    }
   ],
   "source": [
    "substitute(eqs, Dict([f(t) => exp(1im*ω_d*t)]))"
   ]
  },
  {
   "cell_type": "code",
   "execution_count": 49,
   "metadata": {},
   "outputs": [
    {
     "data": {
      "text/plain": [
       "(Any[], Any[], Any[])"
      ]
     },
     "metadata": {},
     "output_type": "display_data"
    }
   ],
   "source": [
    "k=1\n",
    "γ, J_ops, Jd_ops = effective_dissipator(k, ωs, hs,t)\n",
    "#print(5)"
   ]
  },
  {
   "cell_type": "code",
   "execution_count": 26,
   "metadata": {},
   "outputs": [
    {
     "ename": "ArgumentError",
     "evalue": "ArgumentError: Sym{Parameter, Base.ImmutableDict{DataType, Any}}[g, ω_0, ω_d] are missing from the variable map.",
     "output_type": "error",
     "traceback": [
      "ArgumentError: Sym{Parameter, Base.ImmutableDict{DataType, Any}}[g, ω_0, ω_d] are missing from the variable map.\n",
      "\n",
      "Stacktrace:\n",
      " [1] throw_missingvars(vars::Vector{Sym{Parameter, Base.ImmutableDict{DataType, Any}}})\n",
      "   @ ModelingToolkit ~/.julia/packages/ModelingToolkit/tMgaW/src/variables.jl:100\n",
      " [2] _varmap_to_vars(varmap::Dict{Int64, Float64}, varlist::Vector{Sym{Parameter, Base.ImmutableDict{DataType, Any}}}; defaults::Dict{Any, Any}, check::Bool, toterm::typeof(Symbolics.diff2term))\n",
      "   @ ModelingToolkit ~/.julia/packages/ModelingToolkit/tMgaW/src/variables.jl:94\n",
      " [3] varmap_to_vars(varmap::Vector{Pair{Int64, Float64}}, varlist::Vector{Sym{Parameter, Base.ImmutableDict{DataType, Any}}}; defaults::Dict{Any, Any}, check::Bool, toterm::Function, promotetoconcrete::Nothing, tofloat::Bool, use_union::Bool)\n",
      "   @ ModelingToolkit ~/.julia/packages/ModelingToolkit/tMgaW/src/variables.jl:63\n",
      " [4] process_DEProblem(constructor::Type, sys::ODESystem, u0map::Vector{ComplexF64}, parammap::Vector{Pair{Int64, Float64}}; implicit_dae::Bool, du0map::Nothing, version::Nothing, tgrad::Bool, jac::Bool, checkbounds::Bool, sparse::Bool, simplify::Bool, linenumbers::Bool, parallel::Symbolics.SerialForm, eval_expression::Bool, use_union::Bool, kwargs::Base.Pairs{Symbol, Bool, Tuple{Symbol, Symbol}, NamedTuple{(:has_difference, :check_length), Tuple{Bool, Bool}}})\n",
      "   @ ModelingToolkit ~/.julia/packages/ModelingToolkit/tMgaW/src/systems/diffeqs/abstractodesystem.jl:540\n",
      " [5] (ODEProblem{true})(sys::ODESystem, u0map::Vector{ComplexF64}, tspan::Tuple{Float64, Int64}, parammap::Vector{Pair{Int64, Float64}}; callback::Nothing, check_length::Bool, kwargs::Base.Pairs{Symbol, Union{}, Tuple{}, NamedTuple{(), Tuple{}}})\n",
      "   @ ModelingToolkit ~/.julia/packages/ModelingToolkit/tMgaW/src/systems/diffeqs/abstractodesystem.jl:635\n",
      " [6] (ODEProblem{true})(sys::ODESystem, u0map::Vector{ComplexF64}, tspan::Tuple{Float64, Int64}, parammap::Vector{Pair{Int64, Float64}})\n",
      "   @ ModelingToolkit ~/.julia/packages/ModelingToolkit/tMgaW/src/systems/diffeqs/abstractodesystem.jl:634\n",
      " [7] ODEProblem(::ODESystem, ::Vector{ComplexF64}, ::Vararg{Any}; kwargs::Base.Pairs{Symbol, Union{}, Tuple{}, NamedTuple{(), Tuple{}}})\n",
      "   @ ModelingToolkit ~/.julia/packages/ModelingToolkit/tMgaW/src/systems/diffeqs/abstractodesystem.jl:611\n",
      " [8] ODEProblem(::ODESystem, ::Vector{ComplexF64}, ::Vararg{Any})\n",
      "   @ ModelingToolkit ~/.julia/packages/ModelingToolkit/tMgaW/src/systems/diffeqs/abstractodesystem.jl:611\n",
      " [9] top-level scope\n",
      "   @ ~/Documents/GitHub2/QuantumGraining.jl/notebooks/effective_ham_test.ipynb:6"
     ]
    }
   ],
   "source": [
    "f(t) = exp(1im*ω_d*t)\n",
    "@named sys = ODESystem(eqs)\n",
    "#ω_0,ω_d, g = 1,1,1\n",
    "vals = [1.0;1.0;1.0]\n",
    "u0 = zeros(ComplexF64, length(eqs))\n",
    "prob = ODEProblem(sys,u0,(0.0, 1), [g; ω_0; ω_d].=>vals)\n",
    "sol = solve(prob,Tsit5(),maxiters=1e7)"
   ]
  },
  {
   "cell_type": "code",
   "execution_count": 24,
   "metadata": {},
   "outputs": [
    {
     "data": {
      "text/plain": [
       "275"
      ]
     },
     "execution_count": 24,
     "metadata": {},
     "output_type": "execute_result"
    }
   ],
   "source": [
    "length(Jd_ops)"
   ]
  },
  {
   "cell_type": "code",
   "execution_count": null,
   "metadata": {},
   "outputs": [],
   "source": []
  },
  {
   "cell_type": "code",
   "execution_count": 39,
   "metadata": {},
   "outputs": [
    {
     "data": {
      "text/latex": [
       "\\begin{align}\n",
       "\\frac{d}{dt} \\left( 1 -2 \\langle {\\sigma_{1}}^{{22}}\\rangle  \\right) =& \\frac{-4608.0 i g \\omega_{d}^{8} \\langle {\\sigma_{1}}^{{21}}  {\\sigma_{2}}^{{12}}\\rangle  -4608.0 i g \\omega_{d}^{8} \\langle {\\sigma_{1}}^{{21}}  {\\sigma_{2}}^{{21}}\\rangle  + 4608.0 i g \\omega_{d}^{8} \\langle {\\sigma_{1}}^{{12}}  {\\sigma_{2}}^{{12}}\\rangle  + 4608.0 i g \\omega_{d}^{8} \\langle {\\sigma_{1}}^{{12}}  {\\sigma_{2}}^{{21}}\\rangle  -2560.0 i g \\epsilon_{d} \\omega_{d}^{6} \\langle {\\sigma_{1}}^{{21}}\\rangle  e^{1 i t \\omega_{d} -0.5 \\tau^{2} \\omega_{d}^{2}} -2560.0 i g \\epsilon_{d} \\omega_{d}^{6} \\langle {\\sigma_{1}}^{{21}}\\rangle  e^{-1 i t \\omega_{d} -0.5 \\tau^{2} \\omega_{d}^{2}} + 2560.0 i g \\epsilon_{d} \\omega_{d}^{6} \\langle {\\sigma_{1}}^{{12}}\\rangle  e^{-1 i t \\omega_{d} -0.5 \\tau^{2} \\omega_{d}^{2}} + 2560.0 i g \\epsilon_{d} \\omega_{d}^{6} \\langle {\\sigma_{1}}^{{12}}\\rangle  e^{1 i t \\omega_{d} -0.5 \\tau^{2} \\omega_{d}^{2}} -105984.0 i g \\epsilon_{d} \\omega_{d}^{8} \\langle {\\sigma_{1}}^{{21}}\\rangle  e^{-1 i t \\omega_{d} -0.5 \\tau^{2} \\omega_{d}^{2}} -105984.0 i g \\epsilon_{d} \\omega_{d}^{8} \\langle {\\sigma_{1}}^{{21}}\\rangle  e^{1 i t \\omega_{d} -0.5 \\tau^{2} \\omega_{d}^{2}} + 105984.0 i g \\epsilon_{d} \\omega_{d}^{8} \\langle {\\sigma_{1}}^{{12}}\\rangle  e^{-1 i t \\omega_{d} -0.5 \\tau^{2} \\omega_{d}^{2}} + 105984.0 i g \\epsilon_{d} \\omega_{d}^{8} \\langle {\\sigma_{1}}^{{12}}\\rangle  e^{1 i t \\omega_{d} -0.5 \\tau^{2} \\omega_{d}^{2}} -3072.0 i g \\epsilon_{d} \\tau^{2} \\omega_{d}^{8} \\langle {\\sigma_{1}}^{{21}}\\rangle  e^{1 i t \\omega_{d} -0.5 \\tau^{2} \\omega_{d}^{2}} -3072.0 i g \\epsilon_{d} \\tau^{2} \\omega_{d}^{8} \\langle {\\sigma_{1}}^{{21}}\\rangle  e^{-1 i t \\omega_{d} -0.5 \\tau^{2} \\omega_{d}^{2}} + 3072.0 i g \\epsilon_{d} \\tau^{2} \\omega_{d}^{8} \\langle {\\sigma_{1}}^{{12}}\\rangle  e^{-1 i t \\omega_{d} -0.5 \\tau^{2} \\omega_{d}^{2}} + 3072.0 i g \\epsilon_{d} \\tau^{2} \\omega_{d}^{8} \\langle {\\sigma_{1}}^{{12}}\\rangle  e^{1 i t \\omega_{d} -0.5 \\tau^{2} \\omega_{d}^{2}}}{256 \\omega_{d}^{8}} \\\\\n",
       "\\frac{d}{dt} \\left( 1 -2 \\langle {\\sigma_{2}}^{{22}}\\rangle  \\right) =& \\frac{3.01989888e8 i g \\omega_{d}^{20} \\langle {\\sigma_{1}}^{{21}}  {\\sigma_{2}}^{{12}}\\rangle  -3.01989888e8 i g \\omega_{d}^{20} \\langle {\\sigma_{1}}^{{21}}  {\\sigma_{2}}^{{21}}\\rangle  + 3.01989888e8 i g \\omega_{d}^{20} \\langle {\\sigma_{1}}^{{12}}  {\\sigma_{2}}^{{12}}\\rangle  -3.01989888e8 i g \\omega_{d}^{20} \\langle {\\sigma_{1}}^{{12}}  {\\sigma_{2}}^{{21}}\\rangle  + 8.388608e7 i \\omega_{1} \\epsilon_{d} \\omega_{d}^{18} \\langle {\\sigma_{2}}^{{12}}\\rangle  e^{-1 i t \\omega_{d} -0.5 \\tau^{2} \\omega_{d}^{2}} + 8.388608e7 i \\omega_{1} \\epsilon_{d} \\omega_{d}^{18} \\langle {\\sigma_{2}}^{{12}}\\rangle  e^{1 i t \\omega_{d} -0.5 \\tau^{2} \\omega_{d}^{2}} + 1.50994944e8 i \\omega_{2} \\epsilon_{d} \\omega_{d}^{19} \\langle {\\sigma_{2}}^{{12}}\\rangle  e^{1 i t \\omega_{d} -0.5 \\tau^{2} \\omega_{d}^{2}} -8.388608e7 i \\omega_{1} \\epsilon_{d} \\omega_{d}^{18} \\langle {\\sigma_{2}}^{{21}}\\rangle  e^{-1 i t \\omega_{d} -0.5 \\tau^{2} \\omega_{d}^{2}} -8.388608e7 i \\omega_{1} \\epsilon_{d} \\omega_{d}^{18} \\langle {\\sigma_{2}}^{{21}}\\rangle  e^{1 i t \\omega_{d} -0.5 \\tau^{2} \\omega_{d}^{2}} + 3.472883712e9 i \\omega_{1} \\epsilon_{d} \\omega_{d}^{20} \\langle {\\sigma_{2}}^{{12}}\\rangle  e^{-1 i t \\omega_{d} -0.5 \\tau^{2} \\omega_{d}^{2}} + 3.472883712e9 i \\omega_{1} \\epsilon_{d} \\omega_{d}^{20} \\langle {\\sigma_{2}}^{{12}}\\rangle  e^{1 i t \\omega_{d} -0.5 \\tau^{2} \\omega_{d}^{2}} + 1.50994944e8 i \\omega_{2} \\epsilon_{d} \\omega_{d}^{19} \\langle {\\sigma_{2}}^{{21}}\\rangle  e^{1 i t \\omega_{d} -0.5 \\tau^{2} \\omega_{d}^{2}} -1.50994944e8 i \\omega_{2} \\epsilon_{d} \\omega_{d}^{19} \\langle {\\sigma_{2}}^{{21}}\\rangle  e^{-1 i t \\omega_{d} -0.5 \\tau^{2} \\omega_{d}^{2}} -1.6777216e8 i \\omega_{1} \\epsilon_{d} \\omega_{d}^{18} e^{-1 i t \\omega_{d} -0.5 \\tau^{2} \\omega_{d}^{2}} \\langle {\\sigma_{1}}^{{22}}  {\\sigma_{2}}^{{12}}\\rangle  -1.6777216e8 i \\omega_{1} \\epsilon_{d} \\omega_{d}^{18} e^{1 i t \\omega_{d} -0.5 \\tau^{2} \\omega_{d}^{2}} \\langle {\\sigma_{1}}^{{22}}  {\\sigma_{2}}^{{12}}\\rangle  -6.945767424e9 i \\omega_{1} \\epsilon_{d} \\omega_{d}^{20} e^{1 i t \\omega_{d} -0.5 \\tau^{2} \\omega_{d}^{2}} \\langle {\\sigma_{1}}^{{22}}  {\\sigma_{2}}^{{12}}\\rangle  + 1.6777216e8 i \\omega_{1} \\epsilon_{d} \\omega_{d}^{18} e^{-1 i t \\omega_{d} -0.5 \\tau^{2} \\omega_{d}^{2}} \\langle {\\sigma_{1}}^{{22}}  {\\sigma_{2}}^{{21}}\\rangle  + 1.6777216e8 i \\omega_{1} \\epsilon_{d} \\omega_{d}^{18} e^{1 i t \\omega_{d} -0.5 \\tau^{2} \\omega_{d}^{2}} \\langle {\\sigma_{1}}^{{22}}  {\\sigma_{2}}^{{21}}\\rangle  + 6.945767424e9 i \\omega_{1} \\epsilon_{d} \\omega_{d}^{20} e^{1 i t \\omega_{d} -0.5 \\tau^{2} \\omega_{d}^{2}} \\langle {\\sigma_{1}}^{{22}}  {\\sigma_{2}}^{{21}}\\rangle  + 6.945767424e9 i \\omega_{1} \\epsilon_{d} \\omega_{d}^{20} e^{-1 i t \\omega_{d} -0.5 \\tau^{2} \\omega_{d}^{2}} \\langle {\\sigma_{1}}^{{22}}  {\\sigma_{2}}^{{21}}\\rangle  -1.50994944e8 i \\omega_{2} \\epsilon_{d} \\omega_{d}^{19} \\langle {\\sigma_{2}}^{{12}}\\rangle  e^{-1 i t \\omega_{d} -0.5 \\tau^{2} \\omega_{d}^{2}} -3.472883712e9 i \\omega_{1} \\epsilon_{d} \\omega_{d}^{20} \\langle {\\sigma_{2}}^{{21}}\\rangle  e^{1 i t \\omega_{d} -0.5 \\tau^{2} \\omega_{d}^{2}} -3.472883712e9 i \\omega_{1} \\epsilon_{d} \\omega_{d}^{20} \\langle {\\sigma_{2}}^{{21}}\\rangle  e^{-1 i t \\omega_{d} -0.5 \\tau^{2} \\omega_{d}^{2}} -6.945767424e9 i \\omega_{1} \\epsilon_{d} \\omega_{d}^{20} e^{-1 i t \\omega_{d} -0.5 \\tau^{2} \\omega_{d}^{2}} \\langle {\\sigma_{1}}^{{22}}  {\\sigma_{2}}^{{12}}\\rangle  + 1.00663296e8 i \\omega_{1} \\epsilon_{d} \\tau^{2} \\omega_{d}^{20} \\langle {\\sigma_{2}}^{{12}}\\rangle  e^{-1 i t \\omega_{d} -0.5 \\tau^{2} \\omega_{d}^{2}} + 1.00663296e8 i \\omega_{1} \\epsilon_{d} \\tau^{2} \\omega_{d}^{20} \\langle {\\sigma_{2}}^{{12}}\\rangle  e^{1 i t \\omega_{d} -0.5 \\tau^{2} \\omega_{d}^{2}} -1.00663296e8 i \\omega_{1} \\epsilon_{d} \\tau^{2} \\omega_{d}^{20} \\langle {\\sigma_{2}}^{{21}}\\rangle  e^{1 i t \\omega_{d} -0.5 \\tau^{2} \\omega_{d}^{2}} -1.00663296e8 i \\omega_{1} \\epsilon_{d} \\tau^{2} \\omega_{d}^{20} \\langle {\\sigma_{2}}^{{21}}\\rangle  e^{-1 i t \\omega_{d} -0.5 \\tau^{2} \\omega_{d}^{2}} -2.01326592e8 i \\omega_{1} \\epsilon_{d} \\tau^{2} \\omega_{d}^{20} e^{1 i t \\omega_{d} -0.5 \\tau^{2} \\omega_{d}^{2}} \\langle {\\sigma_{1}}^{{22}}  {\\sigma_{2}}^{{12}}\\rangle  -2.01326592e8 i \\omega_{1} \\epsilon_{d} \\tau^{2} \\omega_{d}^{20} e^{-1 i t \\omega_{d} -0.5 \\tau^{2} \\omega_{d}^{2}} \\langle {\\sigma_{1}}^{{22}}  {\\sigma_{2}}^{{12}}\\rangle  + 2.01326592e8 i \\omega_{1} \\epsilon_{d} \\tau^{2} \\omega_{d}^{20} e^{-1 i t \\omega_{d} -0.5 \\tau^{2} \\omega_{d}^{2}} \\langle {\\sigma_{1}}^{{22}}  {\\sigma_{2}}^{{21}}\\rangle  + 2.01326592e8 i \\omega_{1} \\epsilon_{d} \\tau^{2} \\omega_{d}^{20} e^{1 i t \\omega_{d} -0.5 \\tau^{2} \\omega_{d}^{2}} \\langle {\\sigma_{1}}^{{22}}  {\\sigma_{2}}^{{21}}\\rangle }{16777216 \\omega_{d}^{20}} \\\\\n",
       "\\frac{d}{dt} \\left( \\langle {\\sigma_{1}}^{{21}}\\rangle  + \\langle {\\sigma_{1}}^{{12}}\\rangle  \\right) =& \\frac{147456.0 i \\omega_{1} \\omega_{d}^{16} \\langle {\\sigma_{1}}^{{21}}\\rangle  -147456.0 i \\omega_{1} \\omega_{d}^{16} \\langle {\\sigma_{1}}^{{12}}\\rangle  + 3.096576e6 i \\omega_{1} \\omega_{2} \\omega_{d}^{16} \\langle {\\sigma_{1}}^{{21}}\\rangle  -3.096576e6 i \\omega_{1} \\omega_{2} \\omega_{d}^{16} \\langle {\\sigma_{1}}^{{12}}\\rangle  -6.193152e6 i \\omega_{1} \\omega_{2} \\omega_{d}^{16} \\langle {\\sigma_{1}}^{{21}}  {\\sigma_{2}}^{{22}}\\rangle  + 6.193152e6 i \\omega_{1} \\omega_{2} \\omega_{d}^{16} \\langle {\\sigma_{1}}^{{12}}  {\\sigma_{2}}^{{22}}\\rangle  + 81920.0 i \\omega_{1} \\epsilon_{d} \\omega_{d}^{14} e^{-1 i t \\omega_{d} -0.5 \\tau^{2} \\omega_{d}^{2}} \\langle {\\sigma_{1}}^{{21}}  {\\sigma_{2}}^{{21}}\\rangle  + 81920.0 i \\omega_{1} \\epsilon_{d} \\omega_{d}^{14} e^{1 i t \\omega_{d} -0.5 \\tau^{2} \\omega_{d}^{2}} \\langle {\\sigma_{1}}^{{21}}  {\\sigma_{2}}^{{21}}\\rangle  + 98304.0 i \\omega_{1} \\omega_{2} \\tau^{2} \\omega_{d}^{16} \\langle {\\sigma_{1}}^{{21}}\\rangle  -98304.0 i \\omega_{1} \\omega_{2} \\tau^{2} \\omega_{d}^{16} \\langle {\\sigma_{1}}^{{12}}\\rangle  -196608.0 i \\omega_{1} \\omega_{2} \\tau^{2} \\omega_{d}^{16} \\langle {\\sigma_{1}}^{{21}}  {\\sigma_{2}}^{{22}}\\rangle  + 3.391488e6 i \\omega_{1} \\epsilon_{d} \\omega_{d}^{16} e^{-1 i t \\omega_{d} -0.5 \\tau^{2} \\omega_{d}^{2}} \\langle {\\sigma_{1}}^{{21}}  {\\sigma_{2}}^{{12}}\\rangle  + 3.391488e6 i \\omega_{1} \\epsilon_{d} \\omega_{d}^{16} e^{1 i t \\omega_{d} -0.5 \\tau^{2} \\omega_{d}^{2}} \\langle {\\sigma_{1}}^{{21}}  {\\sigma_{2}}^{{12}}\\rangle  + 3.391488e6 i \\omega_{1} \\epsilon_{d} \\omega_{d}^{16} e^{-1 i t \\omega_{d} -0.5 \\tau^{2} \\omega_{d}^{2}} \\langle {\\sigma_{1}}^{{21}}  {\\sigma_{2}}^{{21}}\\rangle  -81920.0 i \\omega_{1} \\epsilon_{d} \\omega_{d}^{14} e^{1 i t \\omega_{d} -0.5 \\tau^{2} \\omega_{d}^{2}} \\langle {\\sigma_{1}}^{{12}}  {\\sigma_{2}}^{{12}}\\rangle  -81920.0 i \\omega_{1} \\epsilon_{d} \\omega_{d}^{14} e^{-1 i t \\omega_{d} -0.5 \\tau^{2} \\omega_{d}^{2}} \\langle {\\sigma_{1}}^{{12}}  {\\sigma_{2}}^{{12}}\\rangle  -81920.0 i \\omega_{1} \\epsilon_{d} \\omega_{d}^{14} e^{-1 i t \\omega_{d} -0.5 \\tau^{2} \\omega_{d}^{2}} \\langle {\\sigma_{1}}^{{12}}  {\\sigma_{2}}^{{21}}\\rangle  + 196608.0 i \\omega_{1} \\omega_{2} \\tau^{2} \\omega_{d}^{16} \\langle {\\sigma_{1}}^{{12}}  {\\sigma_{2}}^{{22}}\\rangle  + 81920.0 i \\omega_{1} \\epsilon_{d} \\omega_{d}^{14} e^{-1 i t \\omega_{d} -0.5 \\tau^{2} \\omega_{d}^{2}} \\langle {\\sigma_{1}}^{{21}}  {\\sigma_{2}}^{{12}}\\rangle  + 81920.0 i \\omega_{1} \\epsilon_{d} \\omega_{d}^{14} e^{1 i t \\omega_{d} -0.5 \\tau^{2} \\omega_{d}^{2}} \\langle {\\sigma_{1}}^{{21}}  {\\sigma_{2}}^{{12}}\\rangle  -3.391488e6 i \\omega_{1} \\epsilon_{d} \\omega_{d}^{16} e^{1 i t \\omega_{d} -0.5 \\tau^{2} \\omega_{d}^{2}} \\langle {\\sigma_{1}}^{{12}}  {\\sigma_{2}}^{{12}}\\rangle  -81920.0 i \\omega_{1} \\epsilon_{d} \\omega_{d}^{14} e^{1 i t \\omega_{d} -0.5 \\tau^{2} \\omega_{d}^{2}} \\langle {\\sigma_{1}}^{{12}}  {\\sigma_{2}}^{{21}}\\rangle  + 3.391488e6 i \\omega_{1} \\epsilon_{d} \\omega_{d}^{16} e^{1 i t \\omega_{d} -0.5 \\tau^{2} \\omega_{d}^{2}} \\langle {\\sigma_{1}}^{{21}}  {\\sigma_{2}}^{{21}}\\rangle  -3.391488e6 i \\omega_{1} \\epsilon_{d} \\omega_{d}^{16} e^{-1 i t \\omega_{d} -0.5 \\tau^{2} \\omega_{d}^{2}} \\langle {\\sigma_{1}}^{{12}}  {\\sigma_{2}}^{{12}}\\rangle  -3.391488e6 i \\omega_{1} \\epsilon_{d} \\omega_{d}^{16} e^{-1 i t \\omega_{d} -0.5 \\tau^{2} \\omega_{d}^{2}} \\langle {\\sigma_{1}}^{{12}}  {\\sigma_{2}}^{{21}}\\rangle  -3.391488e6 i \\omega_{1} \\epsilon_{d} \\omega_{d}^{16} e^{1 i t \\omega_{d} -0.5 \\tau^{2} \\omega_{d}^{2}} \\langle {\\sigma_{1}}^{{12}}  {\\sigma_{2}}^{{21}}\\rangle  + 98304.0 i \\omega_{1} \\epsilon_{d} \\tau^{2} \\omega_{d}^{16} e^{-1 i t \\omega_{d} -0.5 \\tau^{2} \\omega_{d}^{2}} \\langle {\\sigma_{1}}^{{21}}  {\\sigma_{2}}^{{12}}\\rangle  + 98304.0 i \\omega_{1} \\epsilon_{d} \\tau^{2} \\omega_{d}^{16} e^{1 i t \\omega_{d} -0.5 \\tau^{2} \\omega_{d}^{2}} \\langle {\\sigma_{1}}^{{21}}  {\\sigma_{2}}^{{12}}\\rangle  + 98304.0 i \\omega_{1} \\epsilon_{d} \\tau^{2} \\omega_{d}^{16} e^{-1 i t \\omega_{d} -0.5 \\tau^{2} \\omega_{d}^{2}} \\langle {\\sigma_{1}}^{{21}}  {\\sigma_{2}}^{{21}}\\rangle  + 98304.0 i \\omega_{1} \\epsilon_{d} \\tau^{2} \\omega_{d}^{16} e^{1 i t \\omega_{d} -0.5 \\tau^{2} \\omega_{d}^{2}} \\langle {\\sigma_{1}}^{{21}}  {\\sigma_{2}}^{{21}}\\rangle  -98304.0 i \\omega_{1} \\epsilon_{d} \\tau^{2} \\omega_{d}^{16} e^{-1 i t \\omega_{d} -0.5 \\tau^{2} \\omega_{d}^{2}} \\langle {\\sigma_{1}}^{{12}}  {\\sigma_{2}}^{{12}}\\rangle  -98304.0 i \\omega_{1} \\epsilon_{d} \\tau^{2} \\omega_{d}^{16} e^{1 i t \\omega_{d} -0.5 \\tau^{2} \\omega_{d}^{2}} \\langle {\\sigma_{1}}^{{12}}  {\\sigma_{2}}^{{12}}\\rangle  -98304.0 i \\omega_{1} \\epsilon_{d} \\tau^{2} \\omega_{d}^{16} e^{1 i t \\omega_{d} -0.5 \\tau^{2} \\omega_{d}^{2}} \\langle {\\sigma_{1}}^{{12}}  {\\sigma_{2}}^{{21}}\\rangle  -98304.0 i \\omega_{1} \\epsilon_{d} \\tau^{2} \\omega_{d}^{16} e^{-1 i t \\omega_{d} -0.5 \\tau^{2} \\omega_{d}^{2}} \\langle {\\sigma_{1}}^{{12}}  {\\sigma_{2}}^{{21}}\\rangle }{16384 \\omega_{d}^{16}} \\\\\n",
       "\\frac{d}{dt} \\left( \\langle {\\sigma_{2}}^{{12}}\\rangle  + \\langle {\\sigma_{2}}^{{21}}\\rangle  \\right) =& \\frac{-1.50994944e8 i \\omega_{2} \\omega_{d}^{22} \\langle {\\sigma_{2}}^{{12}}\\rangle  + 1.50994944e8 i \\omega_{2} \\omega_{d}^{22} \\langle {\\sigma_{2}}^{{21}}\\rangle  + 1.50994944e8 i \\omega_{2} \\epsilon_{d} \\omega_{d}^{21} e^{-1 i t \\omega_{d} -0.5 \\tau^{2} \\omega_{d}^{2}} -1.50994944e8 i \\omega_{2} \\epsilon_{d} \\omega_{d}^{21} e^{1 i t \\omega_{d} -0.5 \\tau^{2} \\omega_{d}^{2}} -3.170893824e9 i \\omega_{1} \\omega_{2} \\omega_{d}^{22} \\langle {\\sigma_{2}}^{{12}}\\rangle  + 3.170893824e9 i \\omega_{1} \\omega_{2} \\omega_{d}^{22} \\langle {\\sigma_{2}}^{{21}}\\rangle  + 6.341787648e9 i \\omega_{1} \\omega_{2} \\omega_{d}^{22} \\langle {\\sigma_{1}}^{{22}}  {\\sigma_{2}}^{{12}}\\rangle  -6.341787648e9 i \\omega_{1} \\omega_{2} \\omega_{d}^{22} \\langle {\\sigma_{1}}^{{22}}  {\\sigma_{2}}^{{21}}\\rangle  -1.00663296e8 i \\omega_{1} \\omega_{2} \\tau^{2} \\omega_{d}^{22} \\langle {\\sigma_{2}}^{{12}}\\rangle  + 1.00663296e8 i \\omega_{1} \\omega_{2} \\tau^{2} \\omega_{d}^{22} \\langle {\\sigma_{2}}^{{21}}\\rangle  -3.01989888e8 i \\omega_{2} \\epsilon_{d} \\omega_{d}^{21} \\langle {\\sigma_{2}}^{{22}}\\rangle  e^{-1 i t \\omega_{d} -0.5 \\tau^{2} \\omega_{d}^{2}} + 3.01989888e8 i \\omega_{2} \\epsilon_{d} \\omega_{d}^{21} \\langle {\\sigma_{2}}^{{22}}\\rangle  e^{1 i t \\omega_{d} -0.5 \\tau^{2} \\omega_{d}^{2}} + 2.01326592e8 i \\omega_{1} \\omega_{2} \\tau^{2} \\omega_{d}^{22} \\langle {\\sigma_{1}}^{{22}}  {\\sigma_{2}}^{{12}}\\rangle  -2.01326592e8 i \\omega_{1} \\omega_{2} \\tau^{2} \\omega_{d}^{22} \\langle {\\sigma_{1}}^{{22}}  {\\sigma_{2}}^{{21}}\\rangle }{16777216 \\omega_{d}^{22}} \\\\\n",
       "\\frac{d}{dt} \\left( -2 \\langle {\\sigma_{1}}^{{21}}  {\\sigma_{2}}^{{22}}\\rangle  -2 \\langle {\\sigma_{1}}^{{12}}  {\\sigma_{2}}^{{22}}\\rangle  + \\langle {\\sigma_{1}}^{{21}}\\rangle  + \\langle {\\sigma_{1}}^{{12}}\\rangle  \\right) =& \\frac{1.0133099161583616e16 i \\omega_{1} \\omega_{d}^{48} \\langle {\\sigma_{1}}^{{21}}\\rangle  + 2.026619832316723e16 i g \\omega_{d}^{48} \\langle {\\sigma_{2}}^{{12}}\\rangle  -2.026619832316723e16 i g \\omega_{d}^{48} \\langle {\\sigma_{2}}^{{21}}\\rangle  -1.0133099161583616e16 i \\omega_{1} \\omega_{d}^{48} \\langle {\\sigma_{1}}^{{12}}\\rangle  -2.026619832316723e16 i \\omega_{1} \\omega_{d}^{48} \\langle {\\sigma_{1}}^{{21}}  {\\sigma_{2}}^{{22}}\\rangle  + 2.026619832316723e16 i \\omega_{1} \\omega_{d}^{48} \\langle {\\sigma_{1}}^{{12}}  {\\sigma_{2}}^{{22}}\\rangle  + 2.1279508239325594e17 i \\omega_{1} \\omega_{2} \\omega_{d}^{48} \\langle {\\sigma_{1}}^{{21}}\\rangle  -2.1279508239325594e17 i \\omega_{1} \\omega_{2} \\omega_{d}^{48} \\langle {\\sigma_{1}}^{{12}}\\rangle  + 6.755399441055744e15 i \\omega_{1} \\omega_{2} \\tau^{2} \\omega_{d}^{48} \\langle {\\sigma_{1}}^{{21}}\\rangle  -6.755399441055744e15 i \\omega_{1} \\omega_{2} \\tau^{2} \\omega_{d}^{48} \\langle {\\sigma_{1}}^{{12}}\\rangle  -1.0133099161583616e16 i \\omega_{2} \\epsilon_{d} \\omega_{d}^{47} e^{-1 i t \\omega_{d} -0.5 \\tau^{2} \\omega_{d}^{2}} \\langle {\\sigma_{1}}^{{21}}  {\\sigma_{2}}^{{12}}\\rangle  + 1.0133099161583616e16 i \\omega_{2} \\epsilon_{d} \\omega_{d}^{47} e^{1 i t \\omega_{d} -0.5 \\tau^{2} \\omega_{d}^{2}} \\langle {\\sigma_{1}}^{{21}}  {\\sigma_{2}}^{{12}}\\rangle  + 1.0133099161583616e16 i \\omega_{2} \\epsilon_{d} \\omega_{d}^{47} e^{1 i t \\omega_{d} -0.5 \\tau^{2} \\omega_{d}^{2}} \\langle {\\sigma_{1}}^{{21}}  {\\sigma_{2}}^{{21}}\\rangle  -1.0133099161583616e16 i \\omega_{2} \\epsilon_{d} \\omega_{d}^{47} e^{-1 i t \\omega_{d} -0.5 \\tau^{2} \\omega_{d}^{2}} \\langle {\\sigma_{1}}^{{21}}  {\\sigma_{2}}^{{21}}\\rangle  -1.0133099161583616e16 i \\omega_{2} \\epsilon_{d} \\omega_{d}^{47} e^{-1 i t \\omega_{d} -0.5 \\tau^{2} \\omega_{d}^{2}} \\langle {\\sigma_{1}}^{{12}}  {\\sigma_{2}}^{{12}}\\rangle  + 1.0133099161583616e16 i \\omega_{2} \\epsilon_{d} \\omega_{d}^{47} e^{1 i t \\omega_{d} -0.5 \\tau^{2} \\omega_{d}^{2}} \\langle {\\sigma_{1}}^{{12}}  {\\sigma_{2}}^{{12}}\\rangle  + 1.0133099161583616e16 i \\omega_{2} \\epsilon_{d} \\omega_{d}^{47} e^{1 i t \\omega_{d} -0.5 \\tau^{2} \\omega_{d}^{2}} \\langle {\\sigma_{1}}^{{12}}  {\\sigma_{2}}^{{21}}\\rangle  -1.0133099161583616e16 i \\omega_{2} \\epsilon_{d} \\omega_{d}^{47} e^{-1 i t \\omega_{d} -0.5 \\tau^{2} \\omega_{d}^{2}} \\langle {\\sigma_{1}}^{{12}}  {\\sigma_{2}}^{{21}}\\rangle }{1125899906842624 \\omega_{d}^{48}}\n",
       "\\end{align}\n"
      ],
      "text/plain": [
       "∂ₜ(1 - 2⟨σ_{1}22⟩) = ((0.0 - 4608.0im)*g*(ω_d^8)*⟨σ_{1}21*σ_{2}12⟩ + (0.0 - 4608.0im)*g*(ω_d^8)*⟨σ_{1}21*σ_{2}21⟩ + (0.0 + 4608.0im)*g*(ω_d^8)*⟨σ_{1}12*σ_{2}12⟩ + (0.0 + 4608.0im)*g*(ω_d^8)*⟨σ_{1}12*σ_{2}21⟩ + (0.0 - 2560.0im)*g*ϵ_d*(ω_d^6)*⟨σ_{1}21⟩*exp((0 + 1im)*t*ω_d - 0.5(τ^2)*(ω_d^2)) + (0.0 - 2560.0im)*g*ϵ_d*(ω_d^6)*⟨σ_{1}21⟩*exp((0 - 1im)*t*ω_d - 0.5(τ^2)*(ω_d^2)) + (0.0 + 2560.0im)*g*ϵ_d*(ω_d^6)*⟨σ_{1}12⟩*exp((0 - 1im)*t*ω_d - 0.5(τ^2)*(ω_d^2)) + (0.0 + 2560.0im)*g*ϵ_d*(ω_d^6)*⟨σ_{1}12⟩*exp((0 + 1im)*t*ω_d - 0.5(τ^2)*(ω_d^2)) + (0.0 - 105984.0im)*g*ϵ_d*(ω_d^8)*⟨σ_{1}21⟩*exp((0 - 1im)*t*ω_d - 0.5(τ^2)*(ω_d^2)) + (0.0 - 105984.0im)*g*ϵ_d*(ω_d^8)*⟨σ_{1}21⟩*exp((0 + 1im)*t*ω_d - 0.5(τ^2)*(ω_d^2)) + (0.0 + 105984.0im)*g*ϵ_d*(ω_d^8)*⟨σ_{1}12⟩*exp((0 - 1im)*t*ω_d - 0.5(τ^2)*(ω_d^2)) + (0.0 + 105984.0im)*g*ϵ_d*(ω_d^8)*⟨σ_{1}12⟩*exp((0 + 1im)*t*ω_d - 0.5(τ^2)*(ω_d^2)) + (0.0 - 3072.0im)*g*ϵ_d*(τ^2)*(ω_d^8)*⟨σ_{1}21⟩*exp((0 + 1im)*t*ω_d - 0.5(τ^2)*(ω_d^2)) + (0.0 - 3072.0im)*g*ϵ_d*(τ^2)*(ω_d^8)*⟨σ_{1}21⟩*exp((0 - 1im)*t*ω_d - 0.5(τ^2)*(ω_d^2)) + (0.0 + 3072.0im)*g*ϵ_d*(τ^2)*(ω_d^8)*⟨σ_{1}12⟩*exp((0 - 1im)*t*ω_d - 0.5(τ^2)*(ω_d^2)) + (0.0 + 3072.0im)*g*ϵ_d*(τ^2)*(ω_d^8)*⟨σ_{1}12⟩*exp((0 + 1im)*t*ω_d - 0.5(τ^2)*(ω_d^2))) / (256(ω_d^8))\n",
       "∂ₜ(1 - 2⟨σ_{2}22⟩) = ((0.0 + 3.01989888e8im)*g*(ω_d^20)*⟨σ_{1}21*σ_{2}12⟩ + (0.0 - 3.01989888e8im)*g*(ω_d^20)*⟨σ_{1}21*σ_{2}21⟩ + (0.0 + 3.01989888e8im)*g*(ω_d^20)*⟨σ_{1}12*σ_{2}12⟩ + (0.0 - 3.01989888e8im)*g*(ω_d^20)*⟨σ_{1}12*σ_{2}21⟩ + (0.0 + 8.388608e7im)*ω_1*ϵ_d*(ω_d^18)*⟨σ_{2}12⟩*exp((0 - 1im)*t*ω_d - 0.5(τ^2)*(ω_d^2)) + (0.0 + 8.388608e7im)*ω_1*ϵ_d*(ω_d^18)*⟨σ_{2}12⟩*exp((0 + 1im)*t*ω_d - 0.5(τ^2)*(ω_d^2)) + (0.0 + 1.50994944e8im)*ω_2*ϵ_d*(ω_d^19)*⟨σ_{2}12⟩*exp((0 + 1im)*t*ω_d - 0.5(τ^2)*(ω_d^2)) + (0.0 - 8.388608e7im)*ω_1*ϵ_d*(ω_d^18)*⟨σ_{2}21⟩*exp((0 - 1im)*t*ω_d - 0.5(τ^2)*(ω_d^2)) + (0.0 - 8.388608e7im)*ω_1*ϵ_d*(ω_d^18)*⟨σ_{2}21⟩*exp((0 + 1im)*t*ω_d - 0.5(τ^2)*(ω_d^2)) + (0.0 + 3.472883712e9im)*ω_1*ϵ_d*(ω_d^20)*⟨σ_{2}12⟩*exp((0 - 1im)*t*ω_d - 0.5(τ^2)*(ω_d^2)) + (0.0 + 3.472883712e9im)*ω_1*ϵ_d*(ω_d^20)*⟨σ_{2}12⟩*exp((0 + 1im)*t*ω_d - 0.5(τ^2)*(ω_d^2)) + (0.0 + 1.50994944e8im)*ω_2*ϵ_d*(ω_d^19)*⟨σ_{2}21⟩*exp((0 + 1im)*t*ω_d - 0.5(τ^2)*(ω_d^2)) + (0.0 - 1.50994944e8im)*ω_2*ϵ_d*(ω_d^19)*⟨σ_{2}21⟩*exp((0 - 1im)*t*ω_d - 0.5(τ^2)*(ω_d^2)) + (0.0 - 1.6777216e8im)*ω_1*ϵ_d*(ω_d^18)*exp((0 - 1im)*t*ω_d - 0.5(τ^2)*(ω_d^2))*⟨σ_{1}22*σ_{2}12⟩ + (0.0 - 1.6777216e8im)*ω_1*ϵ_d*(ω_d^18)*exp((0 + 1im)*t*ω_d - 0.5(τ^2)*(ω_d^2))*⟨σ_{1}22*σ_{2}12⟩ + (0.0 - 6.945767424e9im)*ω_1*ϵ_d*(ω_d^20)*exp((0 + 1im)*t*ω_d - 0.5(τ^2)*(ω_d^2))*⟨σ_{1}22*σ_{2}12⟩ + (0.0 + 1.6777216e8im)*ω_1*ϵ_d*(ω_d^18)*exp((0 - 1im)*t*ω_d - 0.5(τ^2)*(ω_d^2))*⟨σ_{1}22*σ_{2}21⟩ + (0.0 + 1.6777216e8im)*ω_1*ϵ_d*(ω_d^18)*exp((0 + 1im)*t*ω_d - 0.5(τ^2)*(ω_d^2))*⟨σ_{1}22*σ_{2}21⟩ + (0.0 + 6.945767424e9im)*ω_1*ϵ_d*(ω_d^20)*exp((0 + 1im)*t*ω_d - 0.5(τ^2)*(ω_d^2))*⟨σ_{1}22*σ_{2}21⟩ + (0.0 + 6.945767424e9im)*ω_1*ϵ_d*(ω_d^20)*exp((0 - 1im)*t*ω_d - 0.5(τ^2)*(ω_d^2))*⟨σ_{1}22*σ_{2}21⟩ + (0.0 - 1.50994944e8im)*ω_2*ϵ_d*(ω_d^19)*⟨σ_{2}12⟩*exp((0 - 1im)*t*ω_d - 0.5(τ^2)*(ω_d^2)) + (0.0 - 3.472883712e9im)*ω_1*ϵ_d*(ω_d^20)*⟨σ_{2}21⟩*exp((0 + 1im)*t*ω_d - 0.5(τ^2)*(ω_d^2)) + (0.0 - 3.472883712e9im)*ω_1*ϵ_d*(ω_d^20)*⟨σ_{2}21⟩*exp((0 - 1im)*t*ω_d - 0.5(τ^2)*(ω_d^2)) + (0.0 - 6.945767424e9im)*ω_1*ϵ_d*(ω_d^20)*exp((0 - 1im)*t*ω_d - 0.5(τ^2)*(ω_d^2))*⟨σ_{1}22*σ_{2}12⟩ + (0.0 + 1.00663296e8im)*ω_1*ϵ_d*(τ^2)*(ω_d^20)*⟨σ_{2}12⟩*exp((0 - 1im)*t*ω_d - 0.5(τ^2)*(ω_d^2)) + (0.0 + 1.00663296e8im)*ω_1*ϵ_d*(τ^2)*(ω_d^20)*⟨σ_{2}12⟩*exp((0 + 1im)*t*ω_d - 0.5(τ^2)*(ω_d^2)) + (0.0 - 1.00663296e8im)*ω_1*ϵ_d*(τ^2)*(ω_d^20)*⟨σ_{2}21⟩*exp((0 + 1im)*t*ω_d - 0.5(τ^2)*(ω_d^2)) + (0.0 - 1.00663296e8im)*ω_1*ϵ_d*(τ^2)*(ω_d^20)*⟨σ_{2}21⟩*exp((0 - 1im)*t*ω_d - 0.5(τ^2)*(ω_d^2)) + (0.0 - 2.01326592e8im)*ω_1*ϵ_d*(τ^2)*(ω_d^20)*exp((0 + 1im)*t*ω_d - 0.5(τ^2)*(ω_d^2))*⟨σ_{1}22*σ_{2}12⟩ + (0.0 - 2.01326592e8im)*ω_1*ϵ_d*(τ^2)*(ω_d^20)*exp((0 - 1im)*t*ω_d - 0.5(τ^2)*(ω_d^2))*⟨σ_{1}22*σ_{2}12⟩ + (0.0 + 2.01326592e8im)*ω_1*ϵ_d*(τ^2)*(ω_d^20)*exp((0 - 1im)*t*ω_d - 0.5(τ^2)*(ω_d^2))*⟨σ_{1}22*σ_{2}21⟩ + (0.0 + 2.01326592e8im)*ω_1*ϵ_d*(τ^2)*(ω_d^20)*exp((0 + 1im)*t*ω_d - 0.5(τ^2)*(ω_d^2))*⟨σ_{1}22*σ_{2}21⟩) / (16777216(ω_d^20))\n",
       "∂ₜ(⟨σ_{1}21⟩ + ⟨σ_{1}12⟩) = ((0.0 + 147456.0im)*ω_1*(ω_d^16)*⟨σ_{1}21⟩ + (0.0 - 147456.0im)*ω_1*(ω_d^16)*⟨σ_{1}12⟩ + (0.0 + 3.096576e6im)*ω_1*ω_2*(ω_d^16)*⟨σ_{1}21⟩ + (0.0 - 3.096576e6im)*ω_1*ω_2*(ω_d^16)*⟨σ_{1}12⟩ + (0.0 - 6.193152e6im)*ω_1*ω_2*(ω_d^16)*⟨σ_{1}21*σ_{2}22⟩ + (0.0 + 6.193152e6im)*ω_1*ω_2*(ω_d^16)*⟨σ_{1}12*σ_{2}22⟩ + (0.0 + 81920.0im)*ω_1*ϵ_d*(ω_d^14)*exp((0 - 1im)*t*ω_d - 0.5(τ^2)*(ω_d^2))*⟨σ_{1}21*σ_{2}21⟩ + (0.0 + 81920.0im)*ω_1*ϵ_d*(ω_d^14)*exp((0 + 1im)*t*ω_d - 0.5(τ^2)*(ω_d^2))*⟨σ_{1}21*σ_{2}21⟩ + (0.0 + 98304.0im)*ω_1*ω_2*(τ^2)*(ω_d^16)*⟨σ_{1}21⟩ + (0.0 - 98304.0im)*ω_1*ω_2*(τ^2)*(ω_d^16)*⟨σ_{1}12⟩ + (0.0 - 196608.0im)*ω_1*ω_2*(τ^2)*(ω_d^16)*⟨σ_{1}21*σ_{2}22⟩ + (0.0 + 3.391488e6im)*ω_1*ϵ_d*(ω_d^16)*exp((0 - 1im)*t*ω_d - 0.5(τ^2)*(ω_d^2))*⟨σ_{1}21*σ_{2}12⟩ + (0.0 + 3.391488e6im)*ω_1*ϵ_d*(ω_d^16)*exp((0 + 1im)*t*ω_d - 0.5(τ^2)*(ω_d^2))*⟨σ_{1}21*σ_{2}12⟩ + (0.0 + 3.391488e6im)*ω_1*ϵ_d*(ω_d^16)*exp((0 - 1im)*t*ω_d - 0.5(τ^2)*(ω_d^2))*⟨σ_{1}21*σ_{2}21⟩ + (0.0 - 81920.0im)*ω_1*ϵ_d*(ω_d^14)*exp((0 + 1im)*t*ω_d - 0.5(τ^2)*(ω_d^2))*⟨σ_{1}12*σ_{2}12⟩ + (0.0 - 81920.0im)*ω_1*ϵ_d*(ω_d^14)*exp((0 - 1im)*t*ω_d - 0.5(τ^2)*(ω_d^2))*⟨σ_{1}12*σ_{2}12⟩ + (0.0 - 81920.0im)*ω_1*ϵ_d*(ω_d^14)*exp((0 - 1im)*t*ω_d - 0.5(τ^2)*(ω_d^2))*⟨σ_{1}12*σ_{2}21⟩ + (0.0 + 196608.0im)*ω_1*ω_2*(τ^2)*(ω_d^16)*⟨σ_{1}12*σ_{2}22⟩ + (0.0 + 81920.0im)*ω_1*ϵ_d*(ω_d^14)*exp((0 - 1im)*t*ω_d - 0.5(τ^2)*(ω_d^2))*⟨σ_{1}21*σ_{2}12⟩ + (0.0 + 81920.0im)*ω_1*ϵ_d*(ω_d^14)*exp((0 + 1im)*t*ω_d - 0.5(τ^2)*(ω_d^2))*⟨σ_{1}21*σ_{2}12⟩ + (0.0 - 3.391488e6im)*ω_1*ϵ_d*(ω_d^16)*exp((0 + 1im)*t*ω_d - 0.5(τ^2)*(ω_d^2))*⟨σ_{1}12*σ_{2}12⟩ + (0.0 - 81920.0im)*ω_1*ϵ_d*(ω_d^14)*exp((0 + 1im)*t*ω_d - 0.5(τ^2)*(ω_d^2))*⟨σ_{1}12*σ_{2}21⟩ + (0.0 + 3.391488e6im)*ω_1*ϵ_d*(ω_d^16)*exp((0 + 1im)*t*ω_d - 0.5(τ^2)*(ω_d^2))*⟨σ_{1}21*σ_{2}21⟩ + (0.0 - 3.391488e6im)*ω_1*ϵ_d*(ω_d^16)*exp((0 - 1im)*t*ω_d - 0.5(τ^2)*(ω_d^2))*⟨σ_{1}12*σ_{2}12⟩ + (0.0 - 3.391488e6im)*ω_1*ϵ_d*(ω_d^16)*exp((0 - 1im)*t*ω_d - 0.5(τ^2)*(ω_d^2))*⟨σ_{1}12*σ_{2}21⟩ + (0.0 - 3.391488e6im)*ω_1*ϵ_d*(ω_d^16)*exp((0 + 1im)*t*ω_d - 0.5(τ^2)*(ω_d^2))*⟨σ_{1}12*σ_{2}21⟩ + (0.0 + 98304.0im)*ω_1*ϵ_d*(τ^2)*(ω_d^16)*exp((0 - 1im)*t*ω_d - 0.5(τ^2)*(ω_d^2))*⟨σ_{1}21*σ_{2}12⟩ + (0.0 + 98304.0im)*ω_1*ϵ_d*(τ^2)*(ω_d^16)*exp((0 + 1im)*t*ω_d - 0.5(τ^2)*(ω_d^2))*⟨σ_{1}21*σ_{2}12⟩ + (0.0 + 98304.0im)*ω_1*ϵ_d*(τ^2)*(ω_d^16)*exp((0 - 1im)*t*ω_d - 0.5(τ^2)*(ω_d^2))*⟨σ_{1}21*σ_{2}21⟩ + (0.0 + 98304.0im)*ω_1*ϵ_d*(τ^2)*(ω_d^16)*exp((0 + 1im)*t*ω_d - 0.5(τ^2)*(ω_d^2))*⟨σ_{1}21*σ_{2}21⟩ + (0.0 - 98304.0im)*ω_1*ϵ_d*(τ^2)*(ω_d^16)*exp((0 - 1im)*t*ω_d - 0.5(τ^2)*(ω_d^2))*⟨σ_{1}12*σ_{2}12⟩ + (0.0 - 98304.0im)*ω_1*ϵ_d*(τ^2)*(ω_d^16)*exp((0 + 1im)*t*ω_d - 0.5(τ^2)*(ω_d^2))*⟨σ_{1}12*σ_{2}12⟩ + (0.0 - 98304.0im)*ω_1*ϵ_d*(τ^2)*(ω_d^16)*exp((0 + 1im)*t*ω_d - 0.5(τ^2)*(ω_d^2))*⟨σ_{1}12*σ_{2}21⟩ + (0.0 - 98304.0im)*ω_1*ϵ_d*(τ^2)*(ω_d^16)*exp((0 - 1im)*t*ω_d - 0.5(τ^2)*(ω_d^2))*⟨σ_{1}12*σ_{2}21⟩) / (16384(ω_d^16))\n",
       "∂ₜ(⟨σ_{2}12⟩ + ⟨σ_{2}21⟩) = ((0.0 - 1.50994944e8im)*ω_2*(ω_d^22)*⟨σ_{2}12⟩ + (0.0 + 1.50994944e8im)*ω_2*(ω_d^22)*⟨σ_{2}21⟩ + (0.0 + 1.50994944e8im)*ω_2*ϵ_d*(ω_d^21)*exp((0 - 1im)*t*ω_d - 0.5(τ^2)*(ω_d^2)) + (0.0 - 1.50994944e8im)*ω_2*ϵ_d*(ω_d^21)*exp((0 + 1im)*t*ω_d - 0.5(τ^2)*(ω_d^2)) + (0.0 - 3.170893824e9im)*ω_1*ω_2*(ω_d^22)*⟨σ_{2}12⟩ + (0.0 + 3.170893824e9im)*ω_1*ω_2*(ω_d^22)*⟨σ_{2}21⟩ + (0.0 + 6.341787648e9im)*ω_1*ω_2*(ω_d^22)*⟨σ_{1}22*σ_{2}12⟩ + (0.0 - 6.341787648e9im)*ω_1*ω_2*(ω_d^22)*⟨σ_{1}22*σ_{2}21⟩ + (0.0 - 1.00663296e8im)*ω_1*ω_2*(τ^2)*(ω_d^22)*⟨σ_{2}12⟩ + (0.0 + 1.00663296e8im)*ω_1*ω_2*(τ^2)*(ω_d^22)*⟨σ_{2}21⟩ + (0.0 - 3.01989888e8im)*ω_2*ϵ_d*(ω_d^21)*⟨σ_{2}22⟩*exp((0 - 1im)*t*ω_d - 0.5(τ^2)*(ω_d^2)) + (0.0 + 3.01989888e8im)*ω_2*ϵ_d*(ω_d^21)*⟨σ_{2}22⟩*exp((0 + 1im)*t*ω_d - 0.5(τ^2)*(ω_d^2)) + (0.0 + 2.01326592e8im)*ω_1*ω_2*(τ^2)*(ω_d^22)*⟨σ_{1}22*σ_{2}12⟩ + (0.0 - 2.01326592e8im)*ω_1*ω_2*(τ^2)*(ω_d^22)*⟨σ_{1}22*σ_{2}21⟩) / (16777216(ω_d^22))\n",
       "∂ₜ(⟨σ_{1}21⟩ + ⟨σ_{1}12⟩ - 2⟨σ_{1}21*σ_{2}22⟩ - 2⟨σ_{1}12*σ_{2}22⟩) = ((0.0 + 1.0133099161583616e16im)*ω_1*(ω_d^48)*⟨σ_{1}21⟩ + (0.0 + 2.026619832316723e16im)*g*(ω_d^48)*⟨σ_{2}12⟩ + (0.0 - 2.026619832316723e16im)*g*(ω_d^48)*⟨σ_{2}21⟩ + (0.0 - 1.0133099161583616e16im)*ω_1*(ω_d^48)*⟨σ_{1}12⟩ + (0.0 - 2.026619832316723e16im)*ω_1*(ω_d^48)*⟨σ_{1}21*σ_{2}22⟩ + (0.0 + 2.026619832316723e16im)*ω_1*(ω_d^48)*⟨σ_{1}12*σ_{2}22⟩ + (0.0 + 2.1279508239325594e17im)*ω_1*ω_2*(ω_d^48)*⟨σ_{1}21⟩ + (0.0 - 2.1279508239325594e17im)*ω_1*ω_2*(ω_d^48)*⟨σ_{1}12⟩ + (0.0 + 6.755399441055744e15im)*ω_1*ω_2*(τ^2)*(ω_d^48)*⟨σ_{1}21⟩ + (0.0 - 6.755399441055744e15im)*ω_1*ω_2*(τ^2)*(ω_d^48)*⟨σ_{1}12⟩ + (0.0 - 1.0133099161583616e16im)*ω_2*ϵ_d*(ω_d^47)*exp((0 - 1im)*t*ω_d - 0.5(τ^2)*(ω_d^2))*⟨σ_{1}21*σ_{2}12⟩ + (0.0 + 1.0133099161583616e16im)*ω_2*ϵ_d*(ω_d^47)*exp((0 + 1im)*t*ω_d - 0.5(τ^2)*(ω_d^2))*⟨σ_{1}21*σ_{2}12⟩ + (0.0 + 1.0133099161583616e16im)*ω_2*ϵ_d*(ω_d^47)*exp((0 + 1im)*t*ω_d - 0.5(τ^2)*(ω_d^2))*⟨σ_{1}21*σ_{2}21⟩ + (0.0 - 1.0133099161583616e16im)*ω_2*ϵ_d*(ω_d^47)*exp((0 - 1im)*t*ω_d - 0.5(τ^2)*(ω_d^2))*⟨σ_{1}21*σ_{2}21⟩ + (0.0 - 1.0133099161583616e16im)*ω_2*ϵ_d*(ω_d^47)*exp((0 - 1im)*t*ω_d - 0.5(τ^2)*(ω_d^2))*⟨σ_{1}12*σ_{2}12⟩ + (0.0 + 1.0133099161583616e16im)*ω_2*ϵ_d*(ω_d^47)*exp((0 + 1im)*t*ω_d - 0.5(τ^2)*(ω_d^2))*⟨σ_{1}12*σ_{2}12⟩ + (0.0 + 1.0133099161583616e16im)*ω_2*ϵ_d*(ω_d^47)*exp((0 + 1im)*t*ω_d - 0.5(τ^2)*(ω_d^2))*⟨σ_{1}12*σ_{2}21⟩ + (0.0 - 1.0133099161583616e16im)*ω_2*ϵ_d*(ω_d^47)*exp((0 - 1im)*t*ω_d - 0.5(τ^2)*(ω_d^2))*⟨σ_{1}12*σ_{2}21⟩) / (1125899906842624(ω_d^48))\n"
      ]
     },
     "metadata": {},
     "output_type": "display_data"
    }
   ],
   "source": [
    "#Get meanfield equations using QuantumCumulants\n",
    "eqs = meanfield([σz1, σz2, σx1, σx2, σx1*σz2] , H1; order=2,iv=t)"
   ]
  },
  {
   "cell_type": "code",
   "execution_count": 28,
   "metadata": {},
   "outputs": [
    {
     "ename": "MethodError",
     "evalue": "MethodError: Cannot `convert` an object of type SymbolicUtils.Term{QuantumCumulants.AvgSym, Nothing} to an object of type SymbolicUtils.Add{CNumber, Int64, Dict{Any, Number}, Nothing}\nClosest candidates are:\n  convert(::Type{T}, !Matched::T) where T at /Applications/Julia-1.7.app/Contents/Resources/julia/share/julia/base/essentials.jl:218\n  SymbolicUtils.Add{X, T, D, M}(::Any, !Matched::Any, !Matched::Any, !Matched::Any, !Matched::Any) where {X<:Number, T<:Number, D, M} at ~/.julia/packages/SymbolicUtils/qulQp/src/types.jl:617",
     "output_type": "error",
     "traceback": [
      "MethodError: Cannot `convert` an object of type SymbolicUtils.Term{QuantumCumulants.AvgSym, Nothing} to an object of type SymbolicUtils.Add{CNumber, Int64, Dict{Any, Number}, Nothing}\n",
      "Closest candidates are:\n",
      "  convert(::Type{T}, !Matched::T) where T at /Applications/Julia-1.7.app/Contents/Resources/julia/share/julia/base/essentials.jl:218\n",
      "  SymbolicUtils.Add{X, T, D, M}(::Any, !Matched::Any, !Matched::Any, !Matched::Any, !Matched::Any) where {X<:Number, T<:Number, D, M} at ~/.julia/packages/SymbolicUtils/qulQp/src/types.jl:617\n",
      "\n",
      "Stacktrace:\n",
      "  [1] setindex!(A::Vector{SymbolicUtils.Add{CNumber, Int64, Dict{Any, Number}, Nothing}}, x::SymbolicUtils.Term{QuantumCumulants.AvgSym, Nothing}, i1::Int64)\n",
      "    @ Base ./array.jl:903\n",
      "  [2] _unsafe_copyto!(dest::Vector{SymbolicUtils.Add{CNumber, Int64, Dict{Any, Number}, Nothing}}, doffs::Int64, src::Vector{SymbolicUtils.Term{QuantumCumulants.AvgSym, Nothing}}, soffs::Int64, n::Int64)\n",
      "    @ Base ./array.jl:253\n",
      "  [3] unsafe_copyto!\n",
      "    @ ./array.jl:307 [inlined]\n",
      "  [4] _copyto_impl!\n",
      "    @ ./array.jl:331 [inlined]\n",
      "  [5] copyto!\n",
      "    @ ./array.jl:317 [inlined]\n",
      "  [6] append!(a::Vector{SymbolicUtils.Add{CNumber, Int64, Dict{Any, Number}, Nothing}}, items::Vector{SymbolicUtils.Term{QuantumCumulants.AvgSym, Nothing}})\n",
      "    @ Base ./array.jl:1046\n",
      "  [7] _append!(de::MeanfieldEquations, me::MeanfieldEquations)\n",
      "    @ QuantumCumulants ~/.julia/packages/QuantumCumulants/NZQOS/src/equations.jl:51\n",
      "  [8] complete!(de::MeanfieldEquations; order::Int64, multithread::Bool, filter_func::Nothing, mix_choice::Function, simplify::Bool, kwargs::Base.Pairs{Symbol, Union{}, Tuple{}, NamedTuple{(), Tuple{}}})\n",
      "    @ QuantumCumulants ~/.julia/packages/QuantumCumulants/NZQOS/src/utils.jl:157\n",
      "  [9] complete!(de::MeanfieldEquations)\n",
      "    @ QuantumCumulants ~/.julia/packages/QuantumCumulants/NZQOS/src/utils.jl:114\n",
      " [10] #complete#99\n",
      "    @ ~/.julia/packages/QuantumCumulants/NZQOS/src/utils.jl:98 [inlined]\n",
      " [11] complete(de::MeanfieldEquations)\n",
      "    @ QuantumCumulants ~/.julia/packages/QuantumCumulants/NZQOS/src/utils.jl:97\n",
      " [12] top-level scope\n",
      "    @ ~/Documents/GitHub2/QuantumGraining.jl/notebooks/effective_ham_test.ipynb:1"
     ]
    }
   ],
   "source": [
    "eqs = complete(eqs)"
   ]
  },
  {
   "cell_type": "code",
   "execution_count": 40,
   "metadata": {},
   "outputs": [
    {
     "ename": "ErrorException",
     "evalue": "syntax: missing comma or ) in argument list",
     "output_type": "error",
     "traceback": [
      "syntax: missing comma or ) in argument list\n",
      "\n",
      "Stacktrace:\n",
      " [1] top-level scope\n",
      "   @ ~/Documents/GitHub2/QuantumGraining.jl/notebooks/effective_ham_test.ipynb:1"
     ]
    }
   ],
   "source": [
    "H_test = ((9.0)ω_1*(σ_{1}22)+(-4.5 + 0.0im)ω_1 + (-4.5 + 0.0im)ω_2+(9.0 + 0.0im)ω_2*(σ_{2}22)+(-9.0 - 0.0im)g*(σ_{1}21*σ_{2}12)+(-9.0 - 0.0im)g*(σ_{1}21*σ_{2}21)+(-9.0 - 0.0im)g*(σ_{1}12*σ_{2}12)+(-9.0 - 0.0im)g*(σ_{1}12*σ_{2}21))"
   ]
  },
  {
   "cell_type": "code",
   "execution_count": null,
   "metadata": {},
   "outputs": [],
   "source": []
  }
 ],
 "metadata": {
  "kernelspec": {
   "display_name": "Julia 1.7.3",
   "language": "julia",
   "name": "julia-1.7"
  },
  "language_info": {
   "file_extension": ".jl",
   "mimetype": "application/julia",
   "name": "julia",
   "version": "1.7.3"
  },
  "vscode": {
   "interpreter": {
    "hash": "aee8b7b246df8f9039afb4144a1f6fd8d2ca17a180786b69acc140d282b71a49"
   }
  }
 },
 "nbformat": 4,
 "nbformat_minor": 2
}
