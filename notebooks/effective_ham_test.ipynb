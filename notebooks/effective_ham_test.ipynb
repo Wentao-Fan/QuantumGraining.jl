{
 "cells": [
  {
   "cell_type": "code",
   "execution_count": 1,
   "metadata": {},
   "outputs": [
    {
     "data": {
      "text/plain": [
       "reshape_sols"
      ]
     },
     "metadata": {},
     "output_type": "display_data"
    }
   ],
   "source": [
    "using QuantumCumulants\n",
    "using IterTools\n",
    "using Symbolics\n",
    "using SymbolicUtils\n",
    "using SymbolicUtils.Rewriters\n",
    "\n",
    "include(\"../src/diagrams.jl\")\n",
    "include(\"../src/contractions.jl\")\n",
    "include(\"../src/lindblad.jl\")\n",
    "include(\"../src/printing.jl\")\n",
    "include(\"../src/poles.jl\")"
   ]
  },
  {
   "cell_type": "code",
   "execution_count": 2,
   "metadata": {},
   "outputs": [
    {
     "data": {
      "text/plain": [
       "5-element Vector{QuantumCumulants.QAdd}:\n",
       " (ω_1+-ω_1*(σ_{1}22)+-0.5ω_1)\n",
       " (ω_2+-ω_2*(σ_{2}22)+-0.5ω_2)\n",
       " (g*(σ_{1}12*σ_{2}12)+g*(σ_{1}12*σ_{2}21)+g*(σ_{1}21*σ_{2}12)+g*(σ_{1}21*σ_{2}21))\n",
       " (ϵ_d*(σ_{2}12)+ϵ_d*(σ_{2}21))\n",
       " (ϵ_d*(σ_{2}12)+ϵ_d*(σ_{2}21))"
      ]
     },
     "metadata": {},
     "output_type": "display_data"
    }
   ],
   "source": [
    "N = 2 # number of atoms \n",
    "h = ⊗([NLevelSpace(Symbol(:atom,i),2) for i=1:N]...)\n",
    "σ(i,j,k) = Transition(h,Symbol(\"σ_{$k}\"),i,j,k)\n",
    "\n",
    "σz1 = 2*σ(1,1,1) - 1\n",
    "σz2 = 2*σ(1,1,2) - 1\n",
    "\n",
    "σx1 = σ(1,2,1) + σ(2,1,1)\n",
    "σx2 = σ(1,2,2) + σ(2,1,2)\n",
    "\n",
    "#@show typeof(σz1)\n",
    "@cnumbers ω_1 ω_2 ω_d g ϵ_d\n",
    "\n",
    "#Define ordered lists of frequencies and hamiltonian terms \n",
    "ωs = [0, 0, 0, ω_d, -ω_d]\n",
    "hs = [ω_1*σz1/2,ω_2*σz2/2, g* σx1 * σx2, ϵ_d* σx2,ϵ_d* σx2]"
   ]
  },
  {
   "cell_type": "code",
   "execution_count": 25,
   "metadata": {},
   "outputs": [
    {
     "data": {
      "text/latex": [
       "$\\left( \\frac{-20.0 g \\epsilon_{d} e^{1 i t \\omega_{d}} e^{-0.5 \\tau^{2} \\omega_{d}^{2}}}{4 \\omega_{d}^{2}} + \\frac{-20.0 g \\epsilon_{d} e^{-1 i t \\omega_{d}} e^{-0.5 \\tau^{2} \\omega_{d}^{2}}}{4 \\omega_{d}^{2}} + \\frac{-828.0 g \\epsilon_{d} e^{-1 i t \\omega_{d}} e^{-0.5 \\tau^{2} \\omega_{d}^{2}}}{4} + \\frac{-828.0 g \\epsilon_{d} e^{1 i t \\omega_{d}} e^{-0.5 \\tau^{2} \\omega_{d}^{2}}}{4} + \\frac{-24.0 g \\epsilon_{d} \\tau^{2} e^{-1 i t \\omega_{d}} e^{-0.5 \\tau^{2} \\omega_{d}^{2}}}{4} + \\frac{-24.0 g \\epsilon_{d} \\tau^{2} e^{1 i t \\omega_{d}} e^{-0.5 \\tau^{2} \\omega_{d}^{2}}}{4} \\right) {\\sigma_{1}}^{{12}} + \\left( \\frac{-20.0 g \\epsilon_{d} e^{1 i t \\omega_{d}} e^{-0.5 \\tau^{2} \\omega_{d}^{2}}}{4 \\omega_{d}^{2}} + \\frac{-20.0 g \\epsilon_{d} e^{-1 i t \\omega_{d}} e^{-0.5 \\tau^{2} \\omega_{d}^{2}}}{4 \\omega_{d}^{2}} + \\frac{-828.0 g \\epsilon_{d} e^{-1 i t \\omega_{d}} e^{-0.5 \\tau^{2} \\omega_{d}^{2}}}{4} + \\frac{-828.0 g \\epsilon_{d} e^{1 i t \\omega_{d}} e^{-0.5 \\tau^{2} \\omega_{d}^{2}}}{4} + \\frac{-24.0 g \\epsilon_{d} \\tau^{2} e^{-1 i t \\omega_{d}} e^{-0.5 \\tau^{2} \\omega_{d}^{2}}}{4} + \\frac{-24.0 g \\epsilon_{d} \\tau^{2} e^{1 i t \\omega_{d}} e^{-0.5 \\tau^{2} \\omega_{d}^{2}}}{4} \\right) {\\sigma_{1}}^{{21}} + \\left( \\frac{-10.0 \\omega_{1} \\epsilon_{d} e^{-1 i t \\omega_{d}} e^{-0.5 \\tau^{2} \\omega_{d}^{2}}}{4 \\omega_{d}^{2}} + \\frac{-10.0 \\omega_{1} \\epsilon_{d} e^{1 i t \\omega_{d}} e^{-0.5 \\tau^{2} \\omega_{d}^{2}}}{4 \\omega_{d}^{2}} + \\frac{-18.0 \\omega_{2} \\epsilon_{d} e^{-1 i t \\omega_{d}} e^{-0.5 \\tau^{2} \\omega_{d}^{2}}}{4 \\omega_{d}} + \\frac{18.0 \\omega_{2} \\epsilon_{d} e^{1 i t \\omega_{d}} e^{-0.5 \\tau^{2} \\omega_{d}^{2}}}{4 \\omega_{d}} + \\frac{-414.0 \\omega_{1} \\epsilon_{d} e^{-1 i t \\omega_{d}} e^{-0.5 \\tau^{2} \\omega_{d}^{2}}}{4} + \\frac{-414.0 \\omega_{1} \\epsilon_{d} e^{1 i t \\omega_{d}} e^{-0.5 \\tau^{2} \\omega_{d}^{2}}}{4} + \\frac{-12.0 \\omega_{1} \\epsilon_{d} \\tau^{2} e^{-1 i t \\omega_{d}} e^{-0.5 \\tau^{2} \\omega_{d}^{2}}}{4} + \\frac{-12.0 \\omega_{1} \\epsilon_{d} \\tau^{2} e^{1 i t \\omega_{d}} e^{-0.5 \\tau^{2} \\omega_{d}^{2}}}{4} \\right) {\\sigma_{2}}^{{21}} + \\left( \\frac{20.0 \\omega_{1} \\epsilon_{d} e^{-1 i t \\omega_{d}} e^{-0.5 \\tau^{2} \\omega_{d}^{2}}}{4 \\omega_{d}^{2}} + \\frac{20.0 \\omega_{1} \\epsilon_{d} e^{1 i t \\omega_{d}} e^{-0.5 \\tau^{2} \\omega_{d}^{2}}}{4 \\omega_{d}^{2}} + \\frac{828.0 \\omega_{1} \\epsilon_{d} e^{1 i t \\omega_{d}} e^{-0.5 \\tau^{2} \\omega_{d}^{2}}}{4} + \\frac{828.0 \\omega_{1} \\epsilon_{d} e^{-1 i t \\omega_{d}} e^{-0.5 \\tau^{2} \\omega_{d}^{2}}}{4} + \\frac{24.0 \\omega_{1} \\epsilon_{d} \\tau^{2} e^{1 i t \\omega_{d}} e^{-0.5 \\tau^{2} \\omega_{d}^{2}}}{4} + \\frac{24.0 \\omega_{1} \\epsilon_{d} \\tau^{2} e^{-1 i t \\omega_{d}} e^{-0.5 \\tau^{2} \\omega_{d}^{2}}}{4} \\right) {\\sigma_{1}}^{{22}} {\\sigma_{2}}^{{21}} + \\left( \\frac{-10.0 \\omega_{1} \\epsilon_{d} e^{-1 i t \\omega_{d}} e^{-0.5 \\tau^{2} \\omega_{d}^{2}}}{4 \\omega_{d}^{2}} + \\frac{-10.0 \\omega_{1} \\epsilon_{d} e^{1 i t \\omega_{d}} e^{-0.5 \\tau^{2} \\omega_{d}^{2}}}{4 \\omega_{d}^{2}} + \\frac{-414.0 \\omega_{1} \\epsilon_{d} e^{-1 i t \\omega_{d}} e^{-0.5 \\tau^{2} \\omega_{d}^{2}}}{4} + \\frac{-414.0 \\omega_{1} \\epsilon_{d} e^{1 i t \\omega_{d}} e^{-0.5 \\tau^{2} \\omega_{d}^{2}}}{4} + \\frac{-18.0 \\omega_{2} \\epsilon_{d} e^{1 i t \\omega_{d}} e^{-0.5 \\tau^{2} \\omega_{d}^{2}}}{4 \\omega_{d}} + \\frac{18.0 \\omega_{2} \\epsilon_{d} e^{-1 i t \\omega_{d}} e^{-0.5 \\tau^{2} \\omega_{d}^{2}}}{4 \\omega_{d}} + \\frac{-12.0 \\omega_{1} \\epsilon_{d} \\tau^{2} e^{-1 i t \\omega_{d}} e^{-0.5 \\tau^{2} \\omega_{d}^{2}}}{4} + \\frac{-12.0 \\omega_{1} \\epsilon_{d} \\tau^{2} e^{1 i t \\omega_{d}} e^{-0.5 \\tau^{2} \\omega_{d}^{2}}}{4} \\right) {\\sigma_{2}}^{{12}} + \\left( \\frac{20.0 \\omega_{1} \\epsilon_{d} e^{-1 i t \\omega_{d}} e^{-0.5 \\tau^{2} \\omega_{d}^{2}}}{4 \\omega_{d}^{2}} + \\frac{20.0 \\omega_{1} \\epsilon_{d} e^{1 i t \\omega_{d}} e^{-0.5 \\tau^{2} \\omega_{d}^{2}}}{4 \\omega_{d}^{2}} + \\frac{828.0 \\omega_{1} \\epsilon_{d} e^{1 i t \\omega_{d}} e^{-0.5 \\tau^{2} \\omega_{d}^{2}}}{4} + \\frac{828.0 \\omega_{1} \\epsilon_{d} e^{-1 i t \\omega_{d}} e^{-0.5 \\tau^{2} \\omega_{d}^{2}}}{4} + \\frac{24.0 \\omega_{1} \\epsilon_{d} \\tau^{2} e^{1 i t \\omega_{d}} e^{-0.5 \\tau^{2} \\omega_{d}^{2}}}{4} + \\frac{24.0 \\omega_{1} \\epsilon_{d} \\tau^{2} e^{-1 i t \\omega_{d}} e^{-0.5 \\tau^{2} \\omega_{d}^{2}}}{4} \\right) {\\sigma_{1}}^{{22}} {\\sigma_{2}}^{{12}} + \\left( \\frac{36.0 \\omega_{2}}{4} + \\frac{756.0 \\omega_{1} \\omega_{2}}{4} + \\frac{24.0 \\omega_{1} \\omega_{2} \\tau^{2}}{4} \\right) {\\sigma_{2}}^{{22}} + \\left( \\frac{36.0 \\omega_{1}}{4} + \\frac{756.0 \\omega_{1} \\omega_{2}}{4} + \\frac{24.0 \\omega_{1} \\omega_{2} \\tau^{2}}{4} \\right) {\\sigma_{1}}^{{22}} + \\left( \\frac{-1512.0 \\omega_{1} \\omega_{2}}{4} + \\frac{-48.0 \\omega_{1} \\omega_{2} \\tau^{2}}{4} \\right) {\\sigma_{1}}^{{22}} {\\sigma_{2}}^{{22}} + \\frac{-36.0 g}{4} {\\sigma_{1}}^{{12}} {\\sigma_{2}}^{{21}} + \\frac{-18.0 \\omega_{1} \\omega_{d}^{146} + 12.0 \\omega_{d}^{144} \\epsilon_{d}^{2} -18.0 \\omega_{2} \\omega_{d}^{146} -189.0 \\omega_{1}^{2} \\omega_{d}^{146} -756.0 g^{2} \\omega_{d}^{146} -189.0 \\omega_{2}^{2} \\omega_{d}^{146}}{4 \\omega_{d}^{146}} + \\frac{-24.0 g^{2} \\tau^{2}}{4} + \\frac{-378.0 \\omega_{1} \\omega_{2}}{4} + \\frac{-36.0 g}{4} {\\sigma_{1}}^{{21}} {\\sigma_{2}}^{{12}} + \\frac{-36.0 g}{4} {\\sigma_{1}}^{{21}} {\\sigma_{2}}^{{21}} + \\frac{-36.0 g}{4} {\\sigma_{1}}^{{12}} {\\sigma_{2}}^{{12}} + \\frac{-6.0 \\tau^{2} \\omega_{1}^{2}}{4} + \\frac{-6.0 \\tau^{2} \\omega_{2}^{2}}{4} + \\frac{2.0 \\epsilon_{d}^{2} e^{-2.0 \\tau^{2} \\omega_{d}^{2}} e^{2 i t \\omega_{d}}}{4 \\omega_{d}^{2}} + \\frac{2.0 \\epsilon_{d}^{2} e^{-2.0 \\tau^{2} \\omega_{d}^{2}} e^{-2 i t \\omega_{d}}}{4 \\omega_{d}^{2}} + \\frac{-12.0 \\omega_{1} \\omega_{2} \\tau^{2}}{4}$"
      ],
      "text/plain": [
       "(((-20.0 + 0.0im)g*ϵ_d*exp((0 + 1im)*t*ω_d)*exp(-0.5(τ^2)*(ω_d^2))) / (4(ω_d^2)) + ((-20.0 + 0.0im)g*ϵ_d*exp((0 - 1im)*t*ω_d)*exp(-0.5(τ^2)*(ω_d^2))) / (4(ω_d^2)) + ((-828.0 + 0.0im)g*ϵ_d*exp((0 - 1im)*t*ω_d)*exp(-0.5(τ^2)*(ω_d^2))) / 4 + ((-828.0 + 0.0im)g*ϵ_d*exp((0 + 1im)*t*ω_d)*exp(-0.5(τ^2)*(ω_d^2))) / 4 + ((-24.0 + 0.0im)g*ϵ_d*(τ^2)*exp((0 - 1im)*t*ω_d)*exp(-0.5(τ^2)*(ω_d^2))) / 4 + ((-24.0 + 0.0im)g*ϵ_d*(τ^2)*exp((0 + 1im)*t*ω_d)*exp(-0.5(τ^2)*(ω_d^2))) / 4*(σ_{1}12)+((-20.0 + 0.0im)g*ϵ_d*exp((0 + 1im)*t*ω_d)*exp(-0.5(τ^2)*(ω_d^2))) / (4(ω_d^2)) + ((-20.0 + 0.0im)g*ϵ_d*exp((0 - 1im)*t*ω_d)*exp(-0.5(τ^2)*(ω_d^2))) / (4(ω_d^2)) + ((-828.0 + 0.0im)g*ϵ_d*exp((0 - 1im)*t*ω_d)*exp(-0.5(τ^2)*(ω_d^2))) / 4 + ((-828.0 + 0.0im)g*ϵ_d*exp((0 + 1im)*t*ω_d)*exp(-0.5(τ^2)*(ω_d^2))) / 4 + ((-24.0 + 0.0im)g*ϵ_d*(τ^2)*exp((0 - 1im)*t*ω_d)*exp(-0.5(τ^2)*(ω_d^2))) / 4 + ((-24.0 + 0.0im)g*ϵ_d*(τ^2)*exp((0 + 1im)*t*ω_d)*exp(-0.5(τ^2)*(ω_d^2))) / 4*(σ_{1}21)+((-10.0 + 0.0im)ω_1*ϵ_d*exp((0 - 1im)*t*ω_d)*exp(-0.5(τ^2)*(ω_d^2))) / (4(ω_d^2)) + ((-10.0 + 0.0im)ω_1*ϵ_d*exp((0 + 1im)*t*ω_d)*exp(-0.5(τ^2)*(ω_d^2))) / (4(ω_d^2)) + ((-18.0 + 0.0im)ω_2*ϵ_d*exp((0 - 1im)*t*ω_d)*exp(-0.5(τ^2)*(ω_d^2))) / (4ω_d) + ((18.0 + 0.0im)ω_2*ϵ_d*exp((0 + 1im)*t*ω_d)*exp(-0.5(τ^2)*(ω_d^2))) / (4ω_d) + ((-414.0 + 0.0im)ω_1*ϵ_d*exp((0 - 1im)*t*ω_d)*exp(-0.5(τ^2)*(ω_d^2))) / 4 + ((-414.0 + 0.0im)ω_1*ϵ_d*exp((0 + 1im)*t*ω_d)*exp(-0.5(τ^2)*(ω_d^2))) / 4 + ((-12.0 + 0.0im)ω_1*ϵ_d*(τ^2)*exp((0 - 1im)*t*ω_d)*exp(-0.5(τ^2)*(ω_d^2))) / 4 + ((-12.0 + 0.0im)ω_1*ϵ_d*(τ^2)*exp((0 + 1im)*t*ω_d)*exp(-0.5(τ^2)*(ω_d^2))) / 4*(σ_{2}21)+((20.0 + 0.0im)ω_1*ϵ_d*exp((0 - 1im)*t*ω_d)*exp(-0.5(τ^2)*(ω_d^2))) / (4(ω_d^2)) + ((20.0 + 0.0im)ω_1*ϵ_d*exp((0 + 1im)*t*ω_d)*exp(-0.5(τ^2)*(ω_d^2))) / (4(ω_d^2)) + ((828.0 + 0.0im)ω_1*ϵ_d*exp((0 + 1im)*t*ω_d)*exp(-0.5(τ^2)*(ω_d^2))) / 4 + ((828.0 + 0.0im)ω_1*ϵ_d*exp((0 - 1im)*t*ω_d)*exp(-0.5(τ^2)*(ω_d^2))) / 4 + ((24.0 + 0.0im)ω_1*ϵ_d*(τ^2)*exp((0 + 1im)*t*ω_d)*exp(-0.5(τ^2)*(ω_d^2))) / 4 + ((24.0 + 0.0im)ω_1*ϵ_d*(τ^2)*exp((0 - 1im)*t*ω_d)*exp(-0.5(τ^2)*(ω_d^2))) / 4*(σ_{1}22*σ_{2}21)+((-10.0 + 0.0im)ω_1*ϵ_d*exp((0 - 1im)*t*ω_d)*exp(-0.5(τ^2)*(ω_d^2))) / (4(ω_d^2)) + ((-10.0 + 0.0im)ω_1*ϵ_d*exp((0 + 1im)*t*ω_d)*exp(-0.5(τ^2)*(ω_d^2))) / (4(ω_d^2)) + ((-414.0 + 0.0im)ω_1*ϵ_d*exp((0 - 1im)*t*ω_d)*exp(-0.5(τ^2)*(ω_d^2))) / 4 + ((-414.0 + 0.0im)ω_1*ϵ_d*exp((0 + 1im)*t*ω_d)*exp(-0.5(τ^2)*(ω_d^2))) / 4 + ((-18.0 + 0.0im)ω_2*ϵ_d*exp((0 + 1im)*t*ω_d)*exp(-0.5(τ^2)*(ω_d^2))) / (4ω_d) + ((18.0 + 0.0im)ω_2*ϵ_d*exp((0 - 1im)*t*ω_d)*exp(-0.5(τ^2)*(ω_d^2))) / (4ω_d) + ((-12.0 + 0.0im)ω_1*ϵ_d*(τ^2)*exp((0 - 1im)*t*ω_d)*exp(-0.5(τ^2)*(ω_d^2))) / 4 + ((-12.0 + 0.0im)ω_1*ϵ_d*(τ^2)*exp((0 + 1im)*t*ω_d)*exp(-0.5(τ^2)*(ω_d^2))) / 4*(σ_{2}12)+((20.0 + 0.0im)ω_1*ϵ_d*exp((0 - 1im)*t*ω_d)*exp(-0.5(τ^2)*(ω_d^2))) / (4(ω_d^2)) + ((20.0 + 0.0im)ω_1*ϵ_d*exp((0 + 1im)*t*ω_d)*exp(-0.5(τ^2)*(ω_d^2))) / (4(ω_d^2)) + ((828.0 + 0.0im)ω_1*ϵ_d*exp((0 + 1im)*t*ω_d)*exp(-0.5(τ^2)*(ω_d^2))) / 4 + ((828.0 + 0.0im)ω_1*ϵ_d*exp((0 - 1im)*t*ω_d)*exp(-0.5(τ^2)*(ω_d^2))) / 4 + ((24.0 + 0.0im)ω_1*ϵ_d*(τ^2)*exp((0 + 1im)*t*ω_d)*exp(-0.5(τ^2)*(ω_d^2))) / 4 + ((24.0 + 0.0im)ω_1*ϵ_d*(τ^2)*exp((0 - 1im)*t*ω_d)*exp(-0.5(τ^2)*(ω_d^2))) / 4*(σ_{1}22*σ_{2}12)+((36.0 + 0.0im)ω_2) / 4 + ((756.0 + 0.0im)ω_1*ω_2) / 4 + ((24.0 + 0.0im)ω_1*ω_2*(τ^2)) / 4*(σ_{2}22)+((36.0 + 0.0im)ω_1) / 4 + ((756.0 + 0.0im)ω_1*ω_2) / 4 + ((24.0 + 0.0im)ω_1*ω_2*(τ^2)) / 4*(σ_{1}22)+((-1512.0 + 0.0im)ω_1*ω_2) / 4 + ((-48.0 + 0.0im)ω_1*ω_2*(τ^2)) / 4*(σ_{1}22*σ_{2}22)+((-36.0 - 0.0im)g) / 4*(σ_{1}12*σ_{2}21)+((-18.0 + 0.0im)ω_1*(ω_d^146) + (12.0 + 0.0im)(ω_d^144)*(ϵ_d^2) + (-18.0 + 0.0im)ω_2*(ω_d^146) + (-189.0 + 0.0im)(ω_1^2)*(ω_d^146) + (-756.0 + 0.0im)(g^2)*(ω_d^146) + (-189.0 + 0.0im)(ω_2^2)*(ω_d^146)) / (4(ω_d^146))+((-24.0 + 0.0im)(g^2)*(τ^2)) / 4+((-378.0 + 0.0im)ω_1*ω_2) / 4+((-36.0 - 0.0im)g) / 4*(σ_{1}21*σ_{2}12)+((-36.0 - 0.0im)g) / 4*(σ_{1}21*σ_{2}21)+((-36.0 - 0.0im)g) / 4*(σ_{1}12*σ_{2}12)+((-6.0 + 0.0im)(τ^2)*(ω_1^2)) / 4+((-6.0 + 0.0im)(τ^2)*(ω_2^2)) / 4+((2.0 + 0.0im)(ϵ_d^2)*exp(-2.0(τ^2)*(ω_d^2))*exp((0 + 2im)*t*ω_d)) / (4(ω_d^2))+((2.0 + 0.0im)(ϵ_d^2)*exp(-2.0(τ^2)*(ω_d^2))*exp((0 - 2im)*t*ω_d)) / (4(ω_d^2))+((-12.0 + 0.0im)ω_1*ω_2*(τ^2)) / 4)"
      ]
     },
     "metadata": {},
     "output_type": "display_data"
    }
   ],
   "source": [
    "k=2\n",
    "@cnumbers t\n",
    "H = simplify(effective_hamiltonian(k, ωs, hs,t))\n",
    "secondOrderRule = @acrule((~a)*(~y)*(~z) + (~b)*(~y)*(~z) => ((~a)+(~b))*(~y)*(~z))\n",
    "firstOrderRule = @acrule((~a)*(~y) + (~b)*(~y) => ((~a)+(~b))*(~y))\n",
    "rules = Chain([firstOrderRule,secondOrderRule])\n",
    "H1 = Fixpoint(rules)(H)\n",
    "#H1 = Fixpoint(secondOrderRule)(H)\n",
    "#H2 = Fixpoint(firstOrderRule)(H1)"
   ]
  },
  {
   "cell_type": "code",
   "execution_count": 6,
   "metadata": {},
   "outputs": [],
   "source": []
  },
  {
   "cell_type": "code",
   "execution_count": 37,
   "metadata": {},
   "outputs": [
    {
     "data": {
      "text/plain": [
       "(Any[0.0 + 0.0im, 0.0 + 0.0im, 0.0 + 0.0im, 0, 0, 0.0 + 0.0im, 0.0 + 0.0im, 0.0 + 0.0im, 0, 0  …  0, 0, 0, 0, 0.0 + 0.0im, 0, 0, 0, 0.0 + 0.0im, 0], Any[(ω_1+-ω_1*(σ_{1}22)+-0.5ω_1), (ω_2+-ω_2*(σ_{2}22)+-0.5ω_2), (g*(σ_{1}12*σ_{2}12)+g*(σ_{1}12*σ_{2}21)+g*(σ_{1}21*σ_{2}12)+g*(σ_{1}21*σ_{2}21)), (ϵ_d*(σ_{2}12)+ϵ_d*(σ_{2}21)), (ϵ_d*(σ_{2}12)+ϵ_d*(σ_{2}21)), (ω_1+-ω_1*(σ_{1}22)+-0.5ω_1), (ω_2+-ω_2*(σ_{2}22)+-0.5ω_2), (g*(σ_{1}12*σ_{2}12)+g*(σ_{1}12*σ_{2}21)+g*(σ_{1}21*σ_{2}12)+g*(σ_{1}21*σ_{2}21)), (ϵ_d*(σ_{2}12)+ϵ_d*(σ_{2}21)), (ϵ_d*(σ_{2}12)+ϵ_d*(σ_{2}21))  …  (ω_1+-ω_1*(σ_{1}22)+-0.5ω_1), (ω_2+-ω_2*(σ_{2}22)+-0.5ω_2), (g*(σ_{1}12*σ_{2}12)+g*(σ_{1}12*σ_{2}21)+g*(σ_{1}21*σ_{2}12)+g*(σ_{1}21*σ_{2}21)), (ϵ_d*(σ_{2}12)+ϵ_d*(σ_{2}21)), (ϵ_d*(σ_{2}12)+ϵ_d*(σ_{2}21)), (ω_1+-ω_1*(σ_{1}22)+-0.5ω_1), (ω_2+-ω_2*(σ_{2}22)+-0.5ω_2), (g*(σ_{1}12*σ_{2}12)+g*(σ_{1}12*σ_{2}21)+g*(σ_{1}21*σ_{2}12)+g*(σ_{1}21*σ_{2}21)), (ϵ_d*(σ_{2}12)+ϵ_d*(σ_{2}21)), (ϵ_d*(σ_{2}12)+ϵ_d*(σ_{2}21))], Any[(ω_1+-ω_1*(σ_{1}22)+-0.5ω_1), (ω_1+-ω_1*(σ_{1}22)+-0.5ω_1), (ω_1+-ω_1*(σ_{1}22)+-0.5ω_1), (ω_1+-ω_1*(σ_{1}22)+-0.5ω_1), (ω_1+-ω_1*(σ_{1}22)+-0.5ω_1), (ω_2+-ω_2*(σ_{2}22)+-0.5ω_2), (ω_2+-ω_2*(σ_{2}22)+-0.5ω_2), (ω_2+-ω_2*(σ_{2}22)+-0.5ω_2), (ω_2+-ω_2*(σ_{2}22)+-0.5ω_2), (ω_2+-ω_2*(σ_{2}22)+-0.5ω_2)  …  (ϵ_d*(σ_{2}12)+ϵ_d*(σ_{2}21)), (ϵ_d*(σ_{2}12)+ϵ_d*(σ_{2}21)), (ϵ_d*(σ_{2}12)+ϵ_d*(σ_{2}21)), (ϵ_d*(σ_{2}12)+ϵ_d*(σ_{2}21)), (ϵ_d*(σ_{2}12)+ϵ_d*(σ_{2}21)), (ϵ_d*(σ_{2}12)+ϵ_d*(σ_{2}21)), (ϵ_d*(σ_{2}12)+ϵ_d*(σ_{2}21)), (ϵ_d*(σ_{2}12)+ϵ_d*(σ_{2}21)), (ϵ_d*(σ_{2}12)+ϵ_d*(σ_{2}21)), (ϵ_d*(σ_{2}12)+ϵ_d*(σ_{2}21))])"
      ]
     },
     "metadata": {},
     "output_type": "display_data"
    }
   ],
   "source": [
    "k=2\n",
    "γ, J_ops, Jd_ops = effective_dissipator(k, ωs, hs,t)\n",
    "#print(5)"
   ]
  },
  {
   "cell_type": "code",
   "execution_count": 24,
   "metadata": {},
   "outputs": [
    {
     "data": {
      "text/plain": [
       "275"
      ]
     },
     "execution_count": 24,
     "metadata": {},
     "output_type": "execute_result"
    }
   ],
   "source": [
    "length(Jd_ops)"
   ]
  },
  {
   "cell_type": "code",
   "execution_count": null,
   "metadata": {},
   "outputs": [],
   "source": []
  },
  {
   "cell_type": "code",
   "execution_count": 39,
   "metadata": {},
   "outputs": [
    {
     "data": {
      "text/latex": [
       "\\begin{align}\n",
       "\\frac{d}{dt} \\left( 1 -2 \\langle {\\sigma_{1}}^{{22}}\\rangle  \\right) =& \\frac{-4608.0 i g \\omega_{d}^{8} \\langle {\\sigma_{1}}^{{21}}  {\\sigma_{2}}^{{12}}\\rangle  -4608.0 i g \\omega_{d}^{8} \\langle {\\sigma_{1}}^{{21}}  {\\sigma_{2}}^{{21}}\\rangle  + 4608.0 i g \\omega_{d}^{8} \\langle {\\sigma_{1}}^{{12}}  {\\sigma_{2}}^{{12}}\\rangle  + 4608.0 i g \\omega_{d}^{8} \\langle {\\sigma_{1}}^{{12}}  {\\sigma_{2}}^{{21}}\\rangle  -2560.0 i g \\epsilon_{d} \\omega_{d}^{6} \\langle {\\sigma_{1}}^{{21}}\\rangle  e^{1 i t \\omega_{d} -0.5 \\tau^{2} \\omega_{d}^{2}} -2560.0 i g \\epsilon_{d} \\omega_{d}^{6} \\langle {\\sigma_{1}}^{{21}}\\rangle  e^{-1 i t \\omega_{d} -0.5 \\tau^{2} \\omega_{d}^{2}} + 2560.0 i g \\epsilon_{d} \\omega_{d}^{6} \\langle {\\sigma_{1}}^{{12}}\\rangle  e^{-1 i t \\omega_{d} -0.5 \\tau^{2} \\omega_{d}^{2}} + 2560.0 i g \\epsilon_{d} \\omega_{d}^{6} \\langle {\\sigma_{1}}^{{12}}\\rangle  e^{1 i t \\omega_{d} -0.5 \\tau^{2} \\omega_{d}^{2}} -105984.0 i g \\epsilon_{d} \\omega_{d}^{8} \\langle {\\sigma_{1}}^{{21}}\\rangle  e^{-1 i t \\omega_{d} -0.5 \\tau^{2} \\omega_{d}^{2}} -105984.0 i g \\epsilon_{d} \\omega_{d}^{8} \\langle {\\sigma_{1}}^{{21}}\\rangle  e^{1 i t \\omega_{d} -0.5 \\tau^{2} \\omega_{d}^{2}} + 105984.0 i g \\epsilon_{d} \\omega_{d}^{8} \\langle {\\sigma_{1}}^{{12}}\\rangle  e^{-1 i t \\omega_{d} -0.5 \\tau^{2} \\omega_{d}^{2}} + 105984.0 i g \\epsilon_{d} \\omega_{d}^{8} \\langle {\\sigma_{1}}^{{12}}\\rangle  e^{1 i t \\omega_{d} -0.5 \\tau^{2} \\omega_{d}^{2}} -3072.0 i g \\epsilon_{d} \\tau^{2} \\omega_{d}^{8} \\langle {\\sigma_{1}}^{{21}}\\rangle  e^{1 i t \\omega_{d} -0.5 \\tau^{2} \\omega_{d}^{2}} -3072.0 i g \\epsilon_{d} \\tau^{2} \\omega_{d}^{8} \\langle {\\sigma_{1}}^{{21}}\\rangle  e^{-1 i t \\omega_{d} -0.5 \\tau^{2} \\omega_{d}^{2}} + 3072.0 i g \\epsilon_{d} \\tau^{2} \\omega_{d}^{8} \\langle {\\sigma_{1}}^{{12}}\\rangle  e^{-1 i t \\omega_{d} -0.5 \\tau^{2} \\omega_{d}^{2}} + 3072.0 i g \\epsilon_{d} \\tau^{2} \\omega_{d}^{8} \\langle {\\sigma_{1}}^{{12}}\\rangle  e^{1 i t \\omega_{d} -0.5 \\tau^{2} \\omega_{d}^{2}}}{256 \\omega_{d}^{8}} \\\\\n",
       "\\frac{d}{dt} \\left( 1 -2 \\langle {\\sigma_{2}}^{{22}}\\rangle  \\right) =& \\frac{3.01989888e8 i g \\omega_{d}^{20} \\langle {\\sigma_{1}}^{{21}}  {\\sigma_{2}}^{{12}}\\rangle  -3.01989888e8 i g \\omega_{d}^{20} \\langle {\\sigma_{1}}^{{21}}  {\\sigma_{2}}^{{21}}\\rangle  + 3.01989888e8 i g \\omega_{d}^{20} \\langle {\\sigma_{1}}^{{12}}  {\\sigma_{2}}^{{12}}\\rangle  -3.01989888e8 i g \\omega_{d}^{20} \\langle {\\sigma_{1}}^{{12}}  {\\sigma_{2}}^{{21}}\\rangle  + 8.388608e7 i \\omega_{1} \\epsilon_{d} \\omega_{d}^{18} \\langle {\\sigma_{2}}^{{12}}\\rangle  e^{-1 i t \\omega_{d} -0.5 \\tau^{2} \\omega_{d}^{2}} + 8.388608e7 i \\omega_{1} \\epsilon_{d} \\omega_{d}^{18} \\langle {\\sigma_{2}}^{{12}}\\rangle  e^{1 i t \\omega_{d} -0.5 \\tau^{2} \\omega_{d}^{2}} + 1.50994944e8 i \\omega_{2} \\epsilon_{d} \\omega_{d}^{19} \\langle {\\sigma_{2}}^{{12}}\\rangle  e^{1 i t \\omega_{d} -0.5 \\tau^{2} \\omega_{d}^{2}} -8.388608e7 i \\omega_{1} \\epsilon_{d} \\omega_{d}^{18} \\langle {\\sigma_{2}}^{{21}}\\rangle  e^{-1 i t \\omega_{d} -0.5 \\tau^{2} \\omega_{d}^{2}} -8.388608e7 i \\omega_{1} \\epsilon_{d} \\omega_{d}^{18} \\langle {\\sigma_{2}}^{{21}}\\rangle  e^{1 i t \\omega_{d} -0.5 \\tau^{2} \\omega_{d}^{2}} + 3.472883712e9 i \\omega_{1} \\epsilon_{d} \\omega_{d}^{20} \\langle {\\sigma_{2}}^{{12}}\\rangle  e^{-1 i t \\omega_{d} -0.5 \\tau^{2} \\omega_{d}^{2}} + 3.472883712e9 i \\omega_{1} \\epsilon_{d} \\omega_{d}^{20} \\langle {\\sigma_{2}}^{{12}}\\rangle  e^{1 i t \\omega_{d} -0.5 \\tau^{2} \\omega_{d}^{2}} + 1.50994944e8 i \\omega_{2} \\epsilon_{d} \\omega_{d}^{19} \\langle {\\sigma_{2}}^{{21}}\\rangle  e^{1 i t \\omega_{d} -0.5 \\tau^{2} \\omega_{d}^{2}} -1.50994944e8 i \\omega_{2} \\epsilon_{d} \\omega_{d}^{19} \\langle {\\sigma_{2}}^{{21}}\\rangle  e^{-1 i t \\omega_{d} -0.5 \\tau^{2} \\omega_{d}^{2}} -1.6777216e8 i \\omega_{1} \\epsilon_{d} \\omega_{d}^{18} e^{-1 i t \\omega_{d} -0.5 \\tau^{2} \\omega_{d}^{2}} \\langle {\\sigma_{1}}^{{22}}  {\\sigma_{2}}^{{12}}\\rangle  -1.6777216e8 i \\omega_{1} \\epsilon_{d} \\omega_{d}^{18} e^{1 i t \\omega_{d} -0.5 \\tau^{2} \\omega_{d}^{2}} \\langle {\\sigma_{1}}^{{22}}  {\\sigma_{2}}^{{12}}\\rangle  -6.945767424e9 i \\omega_{1} \\epsilon_{d} \\omega_{d}^{20} e^{1 i t \\omega_{d} -0.5 \\tau^{2} \\omega_{d}^{2}} \\langle {\\sigma_{1}}^{{22}}  {\\sigma_{2}}^{{12}}\\rangle  + 1.6777216e8 i \\omega_{1} \\epsilon_{d} \\omega_{d}^{18} e^{-1 i t \\omega_{d} -0.5 \\tau^{2} \\omega_{d}^{2}} \\langle {\\sigma_{1}}^{{22}}  {\\sigma_{2}}^{{21}}\\rangle  + 1.6777216e8 i \\omega_{1} \\epsilon_{d} \\omega_{d}^{18} e^{1 i t \\omega_{d} -0.5 \\tau^{2} \\omega_{d}^{2}} \\langle {\\sigma_{1}}^{{22}}  {\\sigma_{2}}^{{21}}\\rangle  + 6.945767424e9 i \\omega_{1} \\epsilon_{d} \\omega_{d}^{20} e^{1 i t \\omega_{d} -0.5 \\tau^{2} \\omega_{d}^{2}} \\langle {\\sigma_{1}}^{{22}}  {\\sigma_{2}}^{{21}}\\rangle  + 6.945767424e9 i \\omega_{1} \\epsilon_{d} \\omega_{d}^{20} e^{-1 i t \\omega_{d} -0.5 \\tau^{2} \\omega_{d}^{2}} \\langle {\\sigma_{1}}^{{22}}  {\\sigma_{2}}^{{21}}\\rangle  -1.50994944e8 i \\omega_{2} \\epsilon_{d} \\omega_{d}^{19} \\langle {\\sigma_{2}}^{{12}}\\rangle  e^{-1 i t \\omega_{d} -0.5 \\tau^{2} \\omega_{d}^{2}} -3.472883712e9 i \\omega_{1} \\epsilon_{d} \\omega_{d}^{20} \\langle {\\sigma_{2}}^{{21}}\\rangle  e^{1 i t \\omega_{d} -0.5 \\tau^{2} \\omega_{d}^{2}} -3.472883712e9 i \\omega_{1} \\epsilon_{d} \\omega_{d}^{20} \\langle {\\sigma_{2}}^{{21}}\\rangle  e^{-1 i t \\omega_{d} -0.5 \\tau^{2} \\omega_{d}^{2}} -6.945767424e9 i \\omega_{1} \\epsilon_{d} \\omega_{d}^{20} e^{-1 i t \\omega_{d} -0.5 \\tau^{2} \\omega_{d}^{2}} \\langle {\\sigma_{1}}^{{22}}  {\\sigma_{2}}^{{12}}\\rangle  + 1.00663296e8 i \\omega_{1} \\epsilon_{d} \\tau^{2} \\omega_{d}^{20} \\langle {\\sigma_{2}}^{{12}}\\rangle  e^{-1 i t \\omega_{d} -0.5 \\tau^{2} \\omega_{d}^{2}} + 1.00663296e8 i \\omega_{1} \\epsilon_{d} \\tau^{2} \\omega_{d}^{20} \\langle {\\sigma_{2}}^{{12}}\\rangle  e^{1 i t \\omega_{d} -0.5 \\tau^{2} \\omega_{d}^{2}} -1.00663296e8 i \\omega_{1} \\epsilon_{d} \\tau^{2} \\omega_{d}^{20} \\langle {\\sigma_{2}}^{{21}}\\rangle  e^{1 i t \\omega_{d} -0.5 \\tau^{2} \\omega_{d}^{2}} -1.00663296e8 i \\omega_{1} \\epsilon_{d} \\tau^{2} \\omega_{d}^{20} \\langle {\\sigma_{2}}^{{21}}\\rangle  e^{-1 i t \\omega_{d} -0.5 \\tau^{2} \\omega_{d}^{2}} -2.01326592e8 i \\omega_{1} \\epsilon_{d} \\tau^{2} \\omega_{d}^{20} e^{1 i t \\omega_{d} -0.5 \\tau^{2} \\omega_{d}^{2}} \\langle {\\sigma_{1}}^{{22}}  {\\sigma_{2}}^{{12}}\\rangle  -2.01326592e8 i \\omega_{1} \\epsilon_{d} \\tau^{2} \\omega_{d}^{20} e^{-1 i t \\omega_{d} -0.5 \\tau^{2} \\omega_{d}^{2}} \\langle {\\sigma_{1}}^{{22}}  {\\sigma_{2}}^{{12}}\\rangle  + 2.01326592e8 i \\omega_{1} \\epsilon_{d} \\tau^{2} \\omega_{d}^{20} e^{-1 i t \\omega_{d} -0.5 \\tau^{2} \\omega_{d}^{2}} \\langle {\\sigma_{1}}^{{22}}  {\\sigma_{2}}^{{21}}\\rangle  + 2.01326592e8 i \\omega_{1} \\epsilon_{d} \\tau^{2} \\omega_{d}^{20} e^{1 i t \\omega_{d} -0.5 \\tau^{2} \\omega_{d}^{2}} \\langle {\\sigma_{1}}^{{22}}  {\\sigma_{2}}^{{21}}\\rangle }{16777216 \\omega_{d}^{20}} \\\\\n",
       "\\frac{d}{dt} \\left( \\langle {\\sigma_{1}}^{{21}}\\rangle  + \\langle {\\sigma_{1}}^{{12}}\\rangle  \\right) =& \\frac{147456.0 i \\omega_{1} \\omega_{d}^{16} \\langle {\\sigma_{1}}^{{21}}\\rangle  -147456.0 i \\omega_{1} \\omega_{d}^{16} \\langle {\\sigma_{1}}^{{12}}\\rangle  + 3.096576e6 i \\omega_{1} \\omega_{2} \\omega_{d}^{16} \\langle {\\sigma_{1}}^{{21}}\\rangle  -3.096576e6 i \\omega_{1} \\omega_{2} \\omega_{d}^{16} \\langle {\\sigma_{1}}^{{12}}\\rangle  -6.193152e6 i \\omega_{1} \\omega_{2} \\omega_{d}^{16} \\langle {\\sigma_{1}}^{{21}}  {\\sigma_{2}}^{{22}}\\rangle  + 6.193152e6 i \\omega_{1} \\omega_{2} \\omega_{d}^{16} \\langle {\\sigma_{1}}^{{12}}  {\\sigma_{2}}^{{22}}\\rangle  + 81920.0 i \\omega_{1} \\epsilon_{d} \\omega_{d}^{14} e^{-1 i t \\omega_{d} -0.5 \\tau^{2} \\omega_{d}^{2}} \\langle {\\sigma_{1}}^{{21}}  {\\sigma_{2}}^{{21}}\\rangle  + 81920.0 i \\omega_{1} \\epsilon_{d} \\omega_{d}^{14} e^{1 i t \\omega_{d} -0.5 \\tau^{2} \\omega_{d}^{2}} \\langle {\\sigma_{1}}^{{21}}  {\\sigma_{2}}^{{21}}\\rangle  + 98304.0 i \\omega_{1} \\omega_{2} \\tau^{2} \\omega_{d}^{16} \\langle {\\sigma_{1}}^{{21}}\\rangle  -98304.0 i \\omega_{1} \\omega_{2} \\tau^{2} \\omega_{d}^{16} \\langle {\\sigma_{1}}^{{12}}\\rangle  -196608.0 i \\omega_{1} \\omega_{2} \\tau^{2} \\omega_{d}^{16} \\langle {\\sigma_{1}}^{{21}}  {\\sigma_{2}}^{{22}}\\rangle  + 3.391488e6 i \\omega_{1} \\epsilon_{d} \\omega_{d}^{16} e^{-1 i t \\omega_{d} -0.5 \\tau^{2} \\omega_{d}^{2}} \\langle {\\sigma_{1}}^{{21}}  {\\sigma_{2}}^{{12}}\\rangle  + 3.391488e6 i \\omega_{1} \\epsilon_{d} \\omega_{d}^{16} e^{1 i t \\omega_{d} -0.5 \\tau^{2} \\omega_{d}^{2}} \\langle {\\sigma_{1}}^{{21}}  {\\sigma_{2}}^{{12}}\\rangle  + 3.391488e6 i \\omega_{1} \\epsilon_{d} \\omega_{d}^{16} e^{-1 i t \\omega_{d} -0.5 \\tau^{2} \\omega_{d}^{2}} \\langle {\\sigma_{1}}^{{21}}  {\\sigma_{2}}^{{21}}\\rangle  -81920.0 i \\omega_{1} \\epsilon_{d} \\omega_{d}^{14} e^{1 i t \\omega_{d} -0.5 \\tau^{2} \\omega_{d}^{2}} \\langle {\\sigma_{1}}^{{12}}  {\\sigma_{2}}^{{12}}\\rangle  -81920.0 i \\omega_{1} \\epsilon_{d} \\omega_{d}^{14} e^{-1 i t \\omega_{d} -0.5 \\tau^{2} \\omega_{d}^{2}} \\langle {\\sigma_{1}}^{{12}}  {\\sigma_{2}}^{{12}}\\rangle  -81920.0 i \\omega_{1} \\epsilon_{d} \\omega_{d}^{14} e^{-1 i t \\omega_{d} -0.5 \\tau^{2} \\omega_{d}^{2}} \\langle {\\sigma_{1}}^{{12}}  {\\sigma_{2}}^{{21}}\\rangle  + 196608.0 i \\omega_{1} \\omega_{2} \\tau^{2} \\omega_{d}^{16} \\langle {\\sigma_{1}}^{{12}}  {\\sigma_{2}}^{{22}}\\rangle  + 81920.0 i \\omega_{1} \\epsilon_{d} \\omega_{d}^{14} e^{-1 i t \\omega_{d} -0.5 \\tau^{2} \\omega_{d}^{2}} \\langle {\\sigma_{1}}^{{21}}  {\\sigma_{2}}^{{12}}\\rangle  + 81920.0 i \\omega_{1} \\epsilon_{d} \\omega_{d}^{14} e^{1 i t \\omega_{d} -0.5 \\tau^{2} \\omega_{d}^{2}} \\langle {\\sigma_{1}}^{{21}}  {\\sigma_{2}}^{{12}}\\rangle  -3.391488e6 i \\omega_{1} \\epsilon_{d} \\omega_{d}^{16} e^{1 i t \\omega_{d} -0.5 \\tau^{2} \\omega_{d}^{2}} \\langle {\\sigma_{1}}^{{12}}  {\\sigma_{2}}^{{12}}\\rangle  -81920.0 i \\omega_{1} \\epsilon_{d} \\omega_{d}^{14} e^{1 i t \\omega_{d} -0.5 \\tau^{2} \\omega_{d}^{2}} \\langle {\\sigma_{1}}^{{12}}  {\\sigma_{2}}^{{21}}\\rangle  + 3.391488e6 i \\omega_{1} \\epsilon_{d} \\omega_{d}^{16} e^{1 i t \\omega_{d} -0.5 \\tau^{2} \\omega_{d}^{2}} \\langle {\\sigma_{1}}^{{21}}  {\\sigma_{2}}^{{21}}\\rangle  -3.391488e6 i \\omega_{1} \\epsilon_{d} \\omega_{d}^{16} e^{-1 i t \\omega_{d} -0.5 \\tau^{2} \\omega_{d}^{2}} \\langle {\\sigma_{1}}^{{12}}  {\\sigma_{2}}^{{12}}\\rangle  -3.391488e6 i \\omega_{1} \\epsilon_{d} \\omega_{d}^{16} e^{-1 i t \\omega_{d} -0.5 \\tau^{2} \\omega_{d}^{2}} \\langle {\\sigma_{1}}^{{12}}  {\\sigma_{2}}^{{21}}\\rangle  -3.391488e6 i \\omega_{1} \\epsilon_{d} \\omega_{d}^{16} e^{1 i t \\omega_{d} -0.5 \\tau^{2} \\omega_{d}^{2}} \\langle {\\sigma_{1}}^{{12}}  {\\sigma_{2}}^{{21}}\\rangle  + 98304.0 i \\omega_{1} \\epsilon_{d} \\tau^{2} \\omega_{d}^{16} e^{-1 i t \\omega_{d} -0.5 \\tau^{2} \\omega_{d}^{2}} \\langle {\\sigma_{1}}^{{21}}  {\\sigma_{2}}^{{12}}\\rangle  + 98304.0 i \\omega_{1} \\epsilon_{d} \\tau^{2} \\omega_{d}^{16} e^{1 i t \\omega_{d} -0.5 \\tau^{2} \\omega_{d}^{2}} \\langle {\\sigma_{1}}^{{21}}  {\\sigma_{2}}^{{12}}\\rangle  + 98304.0 i \\omega_{1} \\epsilon_{d} \\tau^{2} \\omega_{d}^{16} e^{-1 i t \\omega_{d} -0.5 \\tau^{2} \\omega_{d}^{2}} \\langle {\\sigma_{1}}^{{21}}  {\\sigma_{2}}^{{21}}\\rangle  + 98304.0 i \\omega_{1} \\epsilon_{d} \\tau^{2} \\omega_{d}^{16} e^{1 i t \\omega_{d} -0.5 \\tau^{2} \\omega_{d}^{2}} \\langle {\\sigma_{1}}^{{21}}  {\\sigma_{2}}^{{21}}\\rangle  -98304.0 i \\omega_{1} \\epsilon_{d} \\tau^{2} \\omega_{d}^{16} e^{-1 i t \\omega_{d} -0.5 \\tau^{2} \\omega_{d}^{2}} \\langle {\\sigma_{1}}^{{12}}  {\\sigma_{2}}^{{12}}\\rangle  -98304.0 i \\omega_{1} \\epsilon_{d} \\tau^{2} \\omega_{d}^{16} e^{1 i t \\omega_{d} -0.5 \\tau^{2} \\omega_{d}^{2}} \\langle {\\sigma_{1}}^{{12}}  {\\sigma_{2}}^{{12}}\\rangle  -98304.0 i \\omega_{1} \\epsilon_{d} \\tau^{2} \\omega_{d}^{16} e^{1 i t \\omega_{d} -0.5 \\tau^{2} \\omega_{d}^{2}} \\langle {\\sigma_{1}}^{{12}}  {\\sigma_{2}}^{{21}}\\rangle  -98304.0 i \\omega_{1} \\epsilon_{d} \\tau^{2} \\omega_{d}^{16} e^{-1 i t \\omega_{d} -0.5 \\tau^{2} \\omega_{d}^{2}} \\langle {\\sigma_{1}}^{{12}}  {\\sigma_{2}}^{{21}}\\rangle }{16384 \\omega_{d}^{16}} \\\\\n",
       "\\frac{d}{dt} \\left( \\langle {\\sigma_{2}}^{{12}}\\rangle  + \\langle {\\sigma_{2}}^{{21}}\\rangle  \\right) =& \\frac{-1.50994944e8 i \\omega_{2} \\omega_{d}^{22} \\langle {\\sigma_{2}}^{{12}}\\rangle  + 1.50994944e8 i \\omega_{2} \\omega_{d}^{22} \\langle {\\sigma_{2}}^{{21}}\\rangle  + 1.50994944e8 i \\omega_{2} \\epsilon_{d} \\omega_{d}^{21} e^{-1 i t \\omega_{d} -0.5 \\tau^{2} \\omega_{d}^{2}} -1.50994944e8 i \\omega_{2} \\epsilon_{d} \\omega_{d}^{21} e^{1 i t \\omega_{d} -0.5 \\tau^{2} \\omega_{d}^{2}} -3.170893824e9 i \\omega_{1} \\omega_{2} \\omega_{d}^{22} \\langle {\\sigma_{2}}^{{12}}\\rangle  + 3.170893824e9 i \\omega_{1} \\omega_{2} \\omega_{d}^{22} \\langle {\\sigma_{2}}^{{21}}\\rangle  + 6.341787648e9 i \\omega_{1} \\omega_{2} \\omega_{d}^{22} \\langle {\\sigma_{1}}^{{22}}  {\\sigma_{2}}^{{12}}\\rangle  -6.341787648e9 i \\omega_{1} \\omega_{2} \\omega_{d}^{22} \\langle {\\sigma_{1}}^{{22}}  {\\sigma_{2}}^{{21}}\\rangle  -1.00663296e8 i \\omega_{1} \\omega_{2} \\tau^{2} \\omega_{d}^{22} \\langle {\\sigma_{2}}^{{12}}\\rangle  + 1.00663296e8 i \\omega_{1} \\omega_{2} \\tau^{2} \\omega_{d}^{22} \\langle {\\sigma_{2}}^{{21}}\\rangle  -3.01989888e8 i \\omega_{2} \\epsilon_{d} \\omega_{d}^{21} \\langle {\\sigma_{2}}^{{22}}\\rangle  e^{-1 i t \\omega_{d} -0.5 \\tau^{2} \\omega_{d}^{2}} + 3.01989888e8 i \\omega_{2} \\epsilon_{d} \\omega_{d}^{21} \\langle {\\sigma_{2}}^{{22}}\\rangle  e^{1 i t \\omega_{d} -0.5 \\tau^{2} \\omega_{d}^{2}} + 2.01326592e8 i \\omega_{1} \\omega_{2} \\tau^{2} \\omega_{d}^{22} \\langle {\\sigma_{1}}^{{22}}  {\\sigma_{2}}^{{12}}\\rangle  -2.01326592e8 i \\omega_{1} \\omega_{2} \\tau^{2} \\omega_{d}^{22} \\langle {\\sigma_{1}}^{{22}}  {\\sigma_{2}}^{{21}}\\rangle }{16777216 \\omega_{d}^{22}} \\\\\n",
       "\\frac{d}{dt} \\left( -2 \\langle {\\sigma_{1}}^{{21}}  {\\sigma_{2}}^{{22}}\\rangle  -2 \\langle {\\sigma_{1}}^{{12}}  {\\sigma_{2}}^{{22}}\\rangle  + \\langle {\\sigma_{1}}^{{21}}\\rangle  + \\langle {\\sigma_{1}}^{{12}}\\rangle  \\right) =& \\frac{1.0133099161583616e16 i \\omega_{1} \\omega_{d}^{48} \\langle {\\sigma_{1}}^{{21}}\\rangle  + 2.026619832316723e16 i g \\omega_{d}^{48} \\langle {\\sigma_{2}}^{{12}}\\rangle  -2.026619832316723e16 i g \\omega_{d}^{48} \\langle {\\sigma_{2}}^{{21}}\\rangle  -1.0133099161583616e16 i \\omega_{1} \\omega_{d}^{48} \\langle {\\sigma_{1}}^{{12}}\\rangle  -2.026619832316723e16 i \\omega_{1} \\omega_{d}^{48} \\langle {\\sigma_{1}}^{{21}}  {\\sigma_{2}}^{{22}}\\rangle  + 2.026619832316723e16 i \\omega_{1} \\omega_{d}^{48} \\langle {\\sigma_{1}}^{{12}}  {\\sigma_{2}}^{{22}}\\rangle  + 2.1279508239325594e17 i \\omega_{1} \\omega_{2} \\omega_{d}^{48} \\langle {\\sigma_{1}}^{{21}}\\rangle  -2.1279508239325594e17 i \\omega_{1} \\omega_{2} \\omega_{d}^{48} \\langle {\\sigma_{1}}^{{12}}\\rangle  + 6.755399441055744e15 i \\omega_{1} \\omega_{2} \\tau^{2} \\omega_{d}^{48} \\langle {\\sigma_{1}}^{{21}}\\rangle  -6.755399441055744e15 i \\omega_{1} \\omega_{2} \\tau^{2} \\omega_{d}^{48} \\langle {\\sigma_{1}}^{{12}}\\rangle  -1.0133099161583616e16 i \\omega_{2} \\epsilon_{d} \\omega_{d}^{47} e^{-1 i t \\omega_{d} -0.5 \\tau^{2} \\omega_{d}^{2}} \\langle {\\sigma_{1}}^{{21}}  {\\sigma_{2}}^{{12}}\\rangle  + 1.0133099161583616e16 i \\omega_{2} \\epsilon_{d} \\omega_{d}^{47} e^{1 i t \\omega_{d} -0.5 \\tau^{2} \\omega_{d}^{2}} \\langle {\\sigma_{1}}^{{21}}  {\\sigma_{2}}^{{12}}\\rangle  + 1.0133099161583616e16 i \\omega_{2} \\epsilon_{d} \\omega_{d}^{47} e^{1 i t \\omega_{d} -0.5 \\tau^{2} \\omega_{d}^{2}} \\langle {\\sigma_{1}}^{{21}}  {\\sigma_{2}}^{{21}}\\rangle  -1.0133099161583616e16 i \\omega_{2} \\epsilon_{d} \\omega_{d}^{47} e^{-1 i t \\omega_{d} -0.5 \\tau^{2} \\omega_{d}^{2}} \\langle {\\sigma_{1}}^{{21}}  {\\sigma_{2}}^{{21}}\\rangle  -1.0133099161583616e16 i \\omega_{2} \\epsilon_{d} \\omega_{d}^{47} e^{-1 i t \\omega_{d} -0.5 \\tau^{2} \\omega_{d}^{2}} \\langle {\\sigma_{1}}^{{12}}  {\\sigma_{2}}^{{12}}\\rangle  + 1.0133099161583616e16 i \\omega_{2} \\epsilon_{d} \\omega_{d}^{47} e^{1 i t \\omega_{d} -0.5 \\tau^{2} \\omega_{d}^{2}} \\langle {\\sigma_{1}}^{{12}}  {\\sigma_{2}}^{{12}}\\rangle  + 1.0133099161583616e16 i \\omega_{2} \\epsilon_{d} \\omega_{d}^{47} e^{1 i t \\omega_{d} -0.5 \\tau^{2} \\omega_{d}^{2}} \\langle {\\sigma_{1}}^{{12}}  {\\sigma_{2}}^{{21}}\\rangle  -1.0133099161583616e16 i \\omega_{2} \\epsilon_{d} \\omega_{d}^{47} e^{-1 i t \\omega_{d} -0.5 \\tau^{2} \\omega_{d}^{2}} \\langle {\\sigma_{1}}^{{12}}  {\\sigma_{2}}^{{21}}\\rangle }{1125899906842624 \\omega_{d}^{48}}\n",
       "\\end{align}\n"
      ],
      "text/plain": [
       "∂ₜ(1 - 2⟨σ_{1}22⟩) = ((0.0 - 4608.0im)*g*(ω_d^8)*⟨σ_{1}21*σ_{2}12⟩ + (0.0 - 4608.0im)*g*(ω_d^8)*⟨σ_{1}21*σ_{2}21⟩ + (0.0 + 4608.0im)*g*(ω_d^8)*⟨σ_{1}12*σ_{2}12⟩ + (0.0 + 4608.0im)*g*(ω_d^8)*⟨σ_{1}12*σ_{2}21⟩ + (0.0 - 2560.0im)*g*ϵ_d*(ω_d^6)*⟨σ_{1}21⟩*exp((0 + 1im)*t*ω_d - 0.5(τ^2)*(ω_d^2)) + (0.0 - 2560.0im)*g*ϵ_d*(ω_d^6)*⟨σ_{1}21⟩*exp((0 - 1im)*t*ω_d - 0.5(τ^2)*(ω_d^2)) + (0.0 + 2560.0im)*g*ϵ_d*(ω_d^6)*⟨σ_{1}12⟩*exp((0 - 1im)*t*ω_d - 0.5(τ^2)*(ω_d^2)) + (0.0 + 2560.0im)*g*ϵ_d*(ω_d^6)*⟨σ_{1}12⟩*exp((0 + 1im)*t*ω_d - 0.5(τ^2)*(ω_d^2)) + (0.0 - 105984.0im)*g*ϵ_d*(ω_d^8)*⟨σ_{1}21⟩*exp((0 - 1im)*t*ω_d - 0.5(τ^2)*(ω_d^2)) + (0.0 - 105984.0im)*g*ϵ_d*(ω_d^8)*⟨σ_{1}21⟩*exp((0 + 1im)*t*ω_d - 0.5(τ^2)*(ω_d^2)) + (0.0 + 105984.0im)*g*ϵ_d*(ω_d^8)*⟨σ_{1}12⟩*exp((0 - 1im)*t*ω_d - 0.5(τ^2)*(ω_d^2)) + (0.0 + 105984.0im)*g*ϵ_d*(ω_d^8)*⟨σ_{1}12⟩*exp((0 + 1im)*t*ω_d - 0.5(τ^2)*(ω_d^2)) + (0.0 - 3072.0im)*g*ϵ_d*(τ^2)*(ω_d^8)*⟨σ_{1}21⟩*exp((0 + 1im)*t*ω_d - 0.5(τ^2)*(ω_d^2)) + (0.0 - 3072.0im)*g*ϵ_d*(τ^2)*(ω_d^8)*⟨σ_{1}21⟩*exp((0 - 1im)*t*ω_d - 0.5(τ^2)*(ω_d^2)) + (0.0 + 3072.0im)*g*ϵ_d*(τ^2)*(ω_d^8)*⟨σ_{1}12⟩*exp((0 - 1im)*t*ω_d - 0.5(τ^2)*(ω_d^2)) + (0.0 + 3072.0im)*g*ϵ_d*(τ^2)*(ω_d^8)*⟨σ_{1}12⟩*exp((0 + 1im)*t*ω_d - 0.5(τ^2)*(ω_d^2))) / (256(ω_d^8))\n",
       "∂ₜ(1 - 2⟨σ_{2}22⟩) = ((0.0 + 3.01989888e8im)*g*(ω_d^20)*⟨σ_{1}21*σ_{2}12⟩ + (0.0 - 3.01989888e8im)*g*(ω_d^20)*⟨σ_{1}21*σ_{2}21⟩ + (0.0 + 3.01989888e8im)*g*(ω_d^20)*⟨σ_{1}12*σ_{2}12⟩ + (0.0 - 3.01989888e8im)*g*(ω_d^20)*⟨σ_{1}12*σ_{2}21⟩ + (0.0 + 8.388608e7im)*ω_1*ϵ_d*(ω_d^18)*⟨σ_{2}12⟩*exp((0 - 1im)*t*ω_d - 0.5(τ^2)*(ω_d^2)) + (0.0 + 8.388608e7im)*ω_1*ϵ_d*(ω_d^18)*⟨σ_{2}12⟩*exp((0 + 1im)*t*ω_d - 0.5(τ^2)*(ω_d^2)) + (0.0 + 1.50994944e8im)*ω_2*ϵ_d*(ω_d^19)*⟨σ_{2}12⟩*exp((0 + 1im)*t*ω_d - 0.5(τ^2)*(ω_d^2)) + (0.0 - 8.388608e7im)*ω_1*ϵ_d*(ω_d^18)*⟨σ_{2}21⟩*exp((0 - 1im)*t*ω_d - 0.5(τ^2)*(ω_d^2)) + (0.0 - 8.388608e7im)*ω_1*ϵ_d*(ω_d^18)*⟨σ_{2}21⟩*exp((0 + 1im)*t*ω_d - 0.5(τ^2)*(ω_d^2)) + (0.0 + 3.472883712e9im)*ω_1*ϵ_d*(ω_d^20)*⟨σ_{2}12⟩*exp((0 - 1im)*t*ω_d - 0.5(τ^2)*(ω_d^2)) + (0.0 + 3.472883712e9im)*ω_1*ϵ_d*(ω_d^20)*⟨σ_{2}12⟩*exp((0 + 1im)*t*ω_d - 0.5(τ^2)*(ω_d^2)) + (0.0 + 1.50994944e8im)*ω_2*ϵ_d*(ω_d^19)*⟨σ_{2}21⟩*exp((0 + 1im)*t*ω_d - 0.5(τ^2)*(ω_d^2)) + (0.0 - 1.50994944e8im)*ω_2*ϵ_d*(ω_d^19)*⟨σ_{2}21⟩*exp((0 - 1im)*t*ω_d - 0.5(τ^2)*(ω_d^2)) + (0.0 - 1.6777216e8im)*ω_1*ϵ_d*(ω_d^18)*exp((0 - 1im)*t*ω_d - 0.5(τ^2)*(ω_d^2))*⟨σ_{1}22*σ_{2}12⟩ + (0.0 - 1.6777216e8im)*ω_1*ϵ_d*(ω_d^18)*exp((0 + 1im)*t*ω_d - 0.5(τ^2)*(ω_d^2))*⟨σ_{1}22*σ_{2}12⟩ + (0.0 - 6.945767424e9im)*ω_1*ϵ_d*(ω_d^20)*exp((0 + 1im)*t*ω_d - 0.5(τ^2)*(ω_d^2))*⟨σ_{1}22*σ_{2}12⟩ + (0.0 + 1.6777216e8im)*ω_1*ϵ_d*(ω_d^18)*exp((0 - 1im)*t*ω_d - 0.5(τ^2)*(ω_d^2))*⟨σ_{1}22*σ_{2}21⟩ + (0.0 + 1.6777216e8im)*ω_1*ϵ_d*(ω_d^18)*exp((0 + 1im)*t*ω_d - 0.5(τ^2)*(ω_d^2))*⟨σ_{1}22*σ_{2}21⟩ + (0.0 + 6.945767424e9im)*ω_1*ϵ_d*(ω_d^20)*exp((0 + 1im)*t*ω_d - 0.5(τ^2)*(ω_d^2))*⟨σ_{1}22*σ_{2}21⟩ + (0.0 + 6.945767424e9im)*ω_1*ϵ_d*(ω_d^20)*exp((0 - 1im)*t*ω_d - 0.5(τ^2)*(ω_d^2))*⟨σ_{1}22*σ_{2}21⟩ + (0.0 - 1.50994944e8im)*ω_2*ϵ_d*(ω_d^19)*⟨σ_{2}12⟩*exp((0 - 1im)*t*ω_d - 0.5(τ^2)*(ω_d^2)) + (0.0 - 3.472883712e9im)*ω_1*ϵ_d*(ω_d^20)*⟨σ_{2}21⟩*exp((0 + 1im)*t*ω_d - 0.5(τ^2)*(ω_d^2)) + (0.0 - 3.472883712e9im)*ω_1*ϵ_d*(ω_d^20)*⟨σ_{2}21⟩*exp((0 - 1im)*t*ω_d - 0.5(τ^2)*(ω_d^2)) + (0.0 - 6.945767424e9im)*ω_1*ϵ_d*(ω_d^20)*exp((0 - 1im)*t*ω_d - 0.5(τ^2)*(ω_d^2))*⟨σ_{1}22*σ_{2}12⟩ + (0.0 + 1.00663296e8im)*ω_1*ϵ_d*(τ^2)*(ω_d^20)*⟨σ_{2}12⟩*exp((0 - 1im)*t*ω_d - 0.5(τ^2)*(ω_d^2)) + (0.0 + 1.00663296e8im)*ω_1*ϵ_d*(τ^2)*(ω_d^20)*⟨σ_{2}12⟩*exp((0 + 1im)*t*ω_d - 0.5(τ^2)*(ω_d^2)) + (0.0 - 1.00663296e8im)*ω_1*ϵ_d*(τ^2)*(ω_d^20)*⟨σ_{2}21⟩*exp((0 + 1im)*t*ω_d - 0.5(τ^2)*(ω_d^2)) + (0.0 - 1.00663296e8im)*ω_1*ϵ_d*(τ^2)*(ω_d^20)*⟨σ_{2}21⟩*exp((0 - 1im)*t*ω_d - 0.5(τ^2)*(ω_d^2)) + (0.0 - 2.01326592e8im)*ω_1*ϵ_d*(τ^2)*(ω_d^20)*exp((0 + 1im)*t*ω_d - 0.5(τ^2)*(ω_d^2))*⟨σ_{1}22*σ_{2}12⟩ + (0.0 - 2.01326592e8im)*ω_1*ϵ_d*(τ^2)*(ω_d^20)*exp((0 - 1im)*t*ω_d - 0.5(τ^2)*(ω_d^2))*⟨σ_{1}22*σ_{2}12⟩ + (0.0 + 2.01326592e8im)*ω_1*ϵ_d*(τ^2)*(ω_d^20)*exp((0 - 1im)*t*ω_d - 0.5(τ^2)*(ω_d^2))*⟨σ_{1}22*σ_{2}21⟩ + (0.0 + 2.01326592e8im)*ω_1*ϵ_d*(τ^2)*(ω_d^20)*exp((0 + 1im)*t*ω_d - 0.5(τ^2)*(ω_d^2))*⟨σ_{1}22*σ_{2}21⟩) / (16777216(ω_d^20))\n",
       "∂ₜ(⟨σ_{1}21⟩ + ⟨σ_{1}12⟩) = ((0.0 + 147456.0im)*ω_1*(ω_d^16)*⟨σ_{1}21⟩ + (0.0 - 147456.0im)*ω_1*(ω_d^16)*⟨σ_{1}12⟩ + (0.0 + 3.096576e6im)*ω_1*ω_2*(ω_d^16)*⟨σ_{1}21⟩ + (0.0 - 3.096576e6im)*ω_1*ω_2*(ω_d^16)*⟨σ_{1}12⟩ + (0.0 - 6.193152e6im)*ω_1*ω_2*(ω_d^16)*⟨σ_{1}21*σ_{2}22⟩ + (0.0 + 6.193152e6im)*ω_1*ω_2*(ω_d^16)*⟨σ_{1}12*σ_{2}22⟩ + (0.0 + 81920.0im)*ω_1*ϵ_d*(ω_d^14)*exp((0 - 1im)*t*ω_d - 0.5(τ^2)*(ω_d^2))*⟨σ_{1}21*σ_{2}21⟩ + (0.0 + 81920.0im)*ω_1*ϵ_d*(ω_d^14)*exp((0 + 1im)*t*ω_d - 0.5(τ^2)*(ω_d^2))*⟨σ_{1}21*σ_{2}21⟩ + (0.0 + 98304.0im)*ω_1*ω_2*(τ^2)*(ω_d^16)*⟨σ_{1}21⟩ + (0.0 - 98304.0im)*ω_1*ω_2*(τ^2)*(ω_d^16)*⟨σ_{1}12⟩ + (0.0 - 196608.0im)*ω_1*ω_2*(τ^2)*(ω_d^16)*⟨σ_{1}21*σ_{2}22⟩ + (0.0 + 3.391488e6im)*ω_1*ϵ_d*(ω_d^16)*exp((0 - 1im)*t*ω_d - 0.5(τ^2)*(ω_d^2))*⟨σ_{1}21*σ_{2}12⟩ + (0.0 + 3.391488e6im)*ω_1*ϵ_d*(ω_d^16)*exp((0 + 1im)*t*ω_d - 0.5(τ^2)*(ω_d^2))*⟨σ_{1}21*σ_{2}12⟩ + (0.0 + 3.391488e6im)*ω_1*ϵ_d*(ω_d^16)*exp((0 - 1im)*t*ω_d - 0.5(τ^2)*(ω_d^2))*⟨σ_{1}21*σ_{2}21⟩ + (0.0 - 81920.0im)*ω_1*ϵ_d*(ω_d^14)*exp((0 + 1im)*t*ω_d - 0.5(τ^2)*(ω_d^2))*⟨σ_{1}12*σ_{2}12⟩ + (0.0 - 81920.0im)*ω_1*ϵ_d*(ω_d^14)*exp((0 - 1im)*t*ω_d - 0.5(τ^2)*(ω_d^2))*⟨σ_{1}12*σ_{2}12⟩ + (0.0 - 81920.0im)*ω_1*ϵ_d*(ω_d^14)*exp((0 - 1im)*t*ω_d - 0.5(τ^2)*(ω_d^2))*⟨σ_{1}12*σ_{2}21⟩ + (0.0 + 196608.0im)*ω_1*ω_2*(τ^2)*(ω_d^16)*⟨σ_{1}12*σ_{2}22⟩ + (0.0 + 81920.0im)*ω_1*ϵ_d*(ω_d^14)*exp((0 - 1im)*t*ω_d - 0.5(τ^2)*(ω_d^2))*⟨σ_{1}21*σ_{2}12⟩ + (0.0 + 81920.0im)*ω_1*ϵ_d*(ω_d^14)*exp((0 + 1im)*t*ω_d - 0.5(τ^2)*(ω_d^2))*⟨σ_{1}21*σ_{2}12⟩ + (0.0 - 3.391488e6im)*ω_1*ϵ_d*(ω_d^16)*exp((0 + 1im)*t*ω_d - 0.5(τ^2)*(ω_d^2))*⟨σ_{1}12*σ_{2}12⟩ + (0.0 - 81920.0im)*ω_1*ϵ_d*(ω_d^14)*exp((0 + 1im)*t*ω_d - 0.5(τ^2)*(ω_d^2))*⟨σ_{1}12*σ_{2}21⟩ + (0.0 + 3.391488e6im)*ω_1*ϵ_d*(ω_d^16)*exp((0 + 1im)*t*ω_d - 0.5(τ^2)*(ω_d^2))*⟨σ_{1}21*σ_{2}21⟩ + (0.0 - 3.391488e6im)*ω_1*ϵ_d*(ω_d^16)*exp((0 - 1im)*t*ω_d - 0.5(τ^2)*(ω_d^2))*⟨σ_{1}12*σ_{2}12⟩ + (0.0 - 3.391488e6im)*ω_1*ϵ_d*(ω_d^16)*exp((0 - 1im)*t*ω_d - 0.5(τ^2)*(ω_d^2))*⟨σ_{1}12*σ_{2}21⟩ + (0.0 - 3.391488e6im)*ω_1*ϵ_d*(ω_d^16)*exp((0 + 1im)*t*ω_d - 0.5(τ^2)*(ω_d^2))*⟨σ_{1}12*σ_{2}21⟩ + (0.0 + 98304.0im)*ω_1*ϵ_d*(τ^2)*(ω_d^16)*exp((0 - 1im)*t*ω_d - 0.5(τ^2)*(ω_d^2))*⟨σ_{1}21*σ_{2}12⟩ + (0.0 + 98304.0im)*ω_1*ϵ_d*(τ^2)*(ω_d^16)*exp((0 + 1im)*t*ω_d - 0.5(τ^2)*(ω_d^2))*⟨σ_{1}21*σ_{2}12⟩ + (0.0 + 98304.0im)*ω_1*ϵ_d*(τ^2)*(ω_d^16)*exp((0 - 1im)*t*ω_d - 0.5(τ^2)*(ω_d^2))*⟨σ_{1}21*σ_{2}21⟩ + (0.0 + 98304.0im)*ω_1*ϵ_d*(τ^2)*(ω_d^16)*exp((0 + 1im)*t*ω_d - 0.5(τ^2)*(ω_d^2))*⟨σ_{1}21*σ_{2}21⟩ + (0.0 - 98304.0im)*ω_1*ϵ_d*(τ^2)*(ω_d^16)*exp((0 - 1im)*t*ω_d - 0.5(τ^2)*(ω_d^2))*⟨σ_{1}12*σ_{2}12⟩ + (0.0 - 98304.0im)*ω_1*ϵ_d*(τ^2)*(ω_d^16)*exp((0 + 1im)*t*ω_d - 0.5(τ^2)*(ω_d^2))*⟨σ_{1}12*σ_{2}12⟩ + (0.0 - 98304.0im)*ω_1*ϵ_d*(τ^2)*(ω_d^16)*exp((0 + 1im)*t*ω_d - 0.5(τ^2)*(ω_d^2))*⟨σ_{1}12*σ_{2}21⟩ + (0.0 - 98304.0im)*ω_1*ϵ_d*(τ^2)*(ω_d^16)*exp((0 - 1im)*t*ω_d - 0.5(τ^2)*(ω_d^2))*⟨σ_{1}12*σ_{2}21⟩) / (16384(ω_d^16))\n",
       "∂ₜ(⟨σ_{2}12⟩ + ⟨σ_{2}21⟩) = ((0.0 - 1.50994944e8im)*ω_2*(ω_d^22)*⟨σ_{2}12⟩ + (0.0 + 1.50994944e8im)*ω_2*(ω_d^22)*⟨σ_{2}21⟩ + (0.0 + 1.50994944e8im)*ω_2*ϵ_d*(ω_d^21)*exp((0 - 1im)*t*ω_d - 0.5(τ^2)*(ω_d^2)) + (0.0 - 1.50994944e8im)*ω_2*ϵ_d*(ω_d^21)*exp((0 + 1im)*t*ω_d - 0.5(τ^2)*(ω_d^2)) + (0.0 - 3.170893824e9im)*ω_1*ω_2*(ω_d^22)*⟨σ_{2}12⟩ + (0.0 + 3.170893824e9im)*ω_1*ω_2*(ω_d^22)*⟨σ_{2}21⟩ + (0.0 + 6.341787648e9im)*ω_1*ω_2*(ω_d^22)*⟨σ_{1}22*σ_{2}12⟩ + (0.0 - 6.341787648e9im)*ω_1*ω_2*(ω_d^22)*⟨σ_{1}22*σ_{2}21⟩ + (0.0 - 1.00663296e8im)*ω_1*ω_2*(τ^2)*(ω_d^22)*⟨σ_{2}12⟩ + (0.0 + 1.00663296e8im)*ω_1*ω_2*(τ^2)*(ω_d^22)*⟨σ_{2}21⟩ + (0.0 - 3.01989888e8im)*ω_2*ϵ_d*(ω_d^21)*⟨σ_{2}22⟩*exp((0 - 1im)*t*ω_d - 0.5(τ^2)*(ω_d^2)) + (0.0 + 3.01989888e8im)*ω_2*ϵ_d*(ω_d^21)*⟨σ_{2}22⟩*exp((0 + 1im)*t*ω_d - 0.5(τ^2)*(ω_d^2)) + (0.0 + 2.01326592e8im)*ω_1*ω_2*(τ^2)*(ω_d^22)*⟨σ_{1}22*σ_{2}12⟩ + (0.0 - 2.01326592e8im)*ω_1*ω_2*(τ^2)*(ω_d^22)*⟨σ_{1}22*σ_{2}21⟩) / (16777216(ω_d^22))\n",
       "∂ₜ(⟨σ_{1}21⟩ + ⟨σ_{1}12⟩ - 2⟨σ_{1}21*σ_{2}22⟩ - 2⟨σ_{1}12*σ_{2}22⟩) = ((0.0 + 1.0133099161583616e16im)*ω_1*(ω_d^48)*⟨σ_{1}21⟩ + (0.0 + 2.026619832316723e16im)*g*(ω_d^48)*⟨σ_{2}12⟩ + (0.0 - 2.026619832316723e16im)*g*(ω_d^48)*⟨σ_{2}21⟩ + (0.0 - 1.0133099161583616e16im)*ω_1*(ω_d^48)*⟨σ_{1}12⟩ + (0.0 - 2.026619832316723e16im)*ω_1*(ω_d^48)*⟨σ_{1}21*σ_{2}22⟩ + (0.0 + 2.026619832316723e16im)*ω_1*(ω_d^48)*⟨σ_{1}12*σ_{2}22⟩ + (0.0 + 2.1279508239325594e17im)*ω_1*ω_2*(ω_d^48)*⟨σ_{1}21⟩ + (0.0 - 2.1279508239325594e17im)*ω_1*ω_2*(ω_d^48)*⟨σ_{1}12⟩ + (0.0 + 6.755399441055744e15im)*ω_1*ω_2*(τ^2)*(ω_d^48)*⟨σ_{1}21⟩ + (0.0 - 6.755399441055744e15im)*ω_1*ω_2*(τ^2)*(ω_d^48)*⟨σ_{1}12⟩ + (0.0 - 1.0133099161583616e16im)*ω_2*ϵ_d*(ω_d^47)*exp((0 - 1im)*t*ω_d - 0.5(τ^2)*(ω_d^2))*⟨σ_{1}21*σ_{2}12⟩ + (0.0 + 1.0133099161583616e16im)*ω_2*ϵ_d*(ω_d^47)*exp((0 + 1im)*t*ω_d - 0.5(τ^2)*(ω_d^2))*⟨σ_{1}21*σ_{2}12⟩ + (0.0 + 1.0133099161583616e16im)*ω_2*ϵ_d*(ω_d^47)*exp((0 + 1im)*t*ω_d - 0.5(τ^2)*(ω_d^2))*⟨σ_{1}21*σ_{2}21⟩ + (0.0 - 1.0133099161583616e16im)*ω_2*ϵ_d*(ω_d^47)*exp((0 - 1im)*t*ω_d - 0.5(τ^2)*(ω_d^2))*⟨σ_{1}21*σ_{2}21⟩ + (0.0 - 1.0133099161583616e16im)*ω_2*ϵ_d*(ω_d^47)*exp((0 - 1im)*t*ω_d - 0.5(τ^2)*(ω_d^2))*⟨σ_{1}12*σ_{2}12⟩ + (0.0 + 1.0133099161583616e16im)*ω_2*ϵ_d*(ω_d^47)*exp((0 + 1im)*t*ω_d - 0.5(τ^2)*(ω_d^2))*⟨σ_{1}12*σ_{2}12⟩ + (0.0 + 1.0133099161583616e16im)*ω_2*ϵ_d*(ω_d^47)*exp((0 + 1im)*t*ω_d - 0.5(τ^2)*(ω_d^2))*⟨σ_{1}12*σ_{2}21⟩ + (0.0 - 1.0133099161583616e16im)*ω_2*ϵ_d*(ω_d^47)*exp((0 - 1im)*t*ω_d - 0.5(τ^2)*(ω_d^2))*⟨σ_{1}12*σ_{2}21⟩) / (1125899906842624(ω_d^48))\n"
      ]
     },
     "metadata": {},
     "output_type": "display_data"
    }
   ],
   "source": [
    "#Get meanfield equations using QuantumCumulants\n",
    "eqs = meanfield([σz1, σz2, σx1, σx2, σx1*σz2] , H1; order=2,iv=t)"
   ]
  },
  {
   "cell_type": "code",
   "execution_count": 28,
   "metadata": {},
   "outputs": [
    {
     "ename": "MethodError",
     "evalue": "MethodError: Cannot `convert` an object of type SymbolicUtils.Term{QuantumCumulants.AvgSym, Nothing} to an object of type SymbolicUtils.Add{CNumber, Int64, Dict{Any, Number}, Nothing}\nClosest candidates are:\n  convert(::Type{T}, !Matched::T) where T at /Applications/Julia-1.7.app/Contents/Resources/julia/share/julia/base/essentials.jl:218\n  SymbolicUtils.Add{X, T, D, M}(::Any, !Matched::Any, !Matched::Any, !Matched::Any, !Matched::Any) where {X<:Number, T<:Number, D, M} at ~/.julia/packages/SymbolicUtils/qulQp/src/types.jl:617",
     "output_type": "error",
     "traceback": [
      "MethodError: Cannot `convert` an object of type SymbolicUtils.Term{QuantumCumulants.AvgSym, Nothing} to an object of type SymbolicUtils.Add{CNumber, Int64, Dict{Any, Number}, Nothing}\n",
      "Closest candidates are:\n",
      "  convert(::Type{T}, !Matched::T) where T at /Applications/Julia-1.7.app/Contents/Resources/julia/share/julia/base/essentials.jl:218\n",
      "  SymbolicUtils.Add{X, T, D, M}(::Any, !Matched::Any, !Matched::Any, !Matched::Any, !Matched::Any) where {X<:Number, T<:Number, D, M} at ~/.julia/packages/SymbolicUtils/qulQp/src/types.jl:617\n",
      "\n",
      "Stacktrace:\n",
      "  [1] setindex!(A::Vector{SymbolicUtils.Add{CNumber, Int64, Dict{Any, Number}, Nothing}}, x::SymbolicUtils.Term{QuantumCumulants.AvgSym, Nothing}, i1::Int64)\n",
      "    @ Base ./array.jl:903\n",
      "  [2] _unsafe_copyto!(dest::Vector{SymbolicUtils.Add{CNumber, Int64, Dict{Any, Number}, Nothing}}, doffs::Int64, src::Vector{SymbolicUtils.Term{QuantumCumulants.AvgSym, Nothing}}, soffs::Int64, n::Int64)\n",
      "    @ Base ./array.jl:253\n",
      "  [3] unsafe_copyto!\n",
      "    @ ./array.jl:307 [inlined]\n",
      "  [4] _copyto_impl!\n",
      "    @ ./array.jl:331 [inlined]\n",
      "  [5] copyto!\n",
      "    @ ./array.jl:317 [inlined]\n",
      "  [6] append!(a::Vector{SymbolicUtils.Add{CNumber, Int64, Dict{Any, Number}, Nothing}}, items::Vector{SymbolicUtils.Term{QuantumCumulants.AvgSym, Nothing}})\n",
      "    @ Base ./array.jl:1046\n",
      "  [7] _append!(de::MeanfieldEquations, me::MeanfieldEquations)\n",
      "    @ QuantumCumulants ~/.julia/packages/QuantumCumulants/NZQOS/src/equations.jl:51\n",
      "  [8] complete!(de::MeanfieldEquations; order::Int64, multithread::Bool, filter_func::Nothing, mix_choice::Function, simplify::Bool, kwargs::Base.Pairs{Symbol, Union{}, Tuple{}, NamedTuple{(), Tuple{}}})\n",
      "    @ QuantumCumulants ~/.julia/packages/QuantumCumulants/NZQOS/src/utils.jl:157\n",
      "  [9] complete!(de::MeanfieldEquations)\n",
      "    @ QuantumCumulants ~/.julia/packages/QuantumCumulants/NZQOS/src/utils.jl:114\n",
      " [10] #complete#99\n",
      "    @ ~/.julia/packages/QuantumCumulants/NZQOS/src/utils.jl:98 [inlined]\n",
      " [11] complete(de::MeanfieldEquations)\n",
      "    @ QuantumCumulants ~/.julia/packages/QuantumCumulants/NZQOS/src/utils.jl:97\n",
      " [12] top-level scope\n",
      "    @ ~/Documents/GitHub2/QuantumGraining.jl/notebooks/effective_ham_test.ipynb:1"
     ]
    }
   ],
   "source": [
    "eqs = complete(eqs)"
   ]
  },
  {
   "cell_type": "code",
   "execution_count": null,
   "metadata": {},
   "outputs": [],
   "source": []
  }
 ],
 "metadata": {
  "kernelspec": {
   "display_name": "Julia 1.7.3",
   "language": "julia",
   "name": "julia-1.7"
  },
  "language_info": {
   "file_extension": ".jl",
   "mimetype": "application/julia",
   "name": "julia",
   "version": "1.7.3"
  },
  "vscode": {
   "interpreter": {
    "hash": "aee8b7b246df8f9039afb4144a1f6fd8d2ca17a180786b69acc140d282b71a49"
   }
  }
 },
 "nbformat": 4,
 "nbformat_minor": 2
}
