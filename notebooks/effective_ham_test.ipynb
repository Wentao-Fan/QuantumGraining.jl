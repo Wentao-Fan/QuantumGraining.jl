{
 "cells": [
  {
   "cell_type": "code",
   "execution_count": 9,
   "metadata": {},
   "outputs": [
    {
     "name": "stderr",
     "output_type": "stream",
     "text": [
      "WARNING: Method definition setindex(AbstractArray{T, 2} where T, Any, Int64, Int64) in module ArrayInterface at /Users/leonbello/.julia/packages/ArrayInterface/TCj9U/src/ArrayInterface.jl:163 overwritten in module ArrayInterfaceCore at /Users/leonbello/.julia/packages/ArrayInterfaceCore/7kMjZ/src/ArrayInterfaceCore.jl:259.\n",
      "  ** incremental compilation may be fatally broken for this module **\n",
      "\n",
      "WARNING: Method definition setindex(AbstractArray{T, 1} where T, Any, Int64) in module ArrayInterface at /Users/leonbello/.julia/packages/ArrayInterface/TCj9U/src/ArrayInterface.jl:158 overwritten in module ArrayInterfaceCore at /Users/leonbello/.julia/packages/ArrayInterfaceCore/7kMjZ/src/ArrayInterfaceCore.jl:254.\n",
      "  ** incremental compilation may be fatally broken for this module **\n",
      "\n",
      "WARNING: Method definition setindex(AbstractArray{T, N} where N where T, Any, Any...) in module ArrayInterface at /Users/leonbello/.julia/packages/ArrayInterface/TCj9U/src/ArrayInterface.jl:152 overwritten in module ArrayInterfaceCore at /Users/leonbello/.julia/packages/ArrayInterfaceCore/7kMjZ/src/ArrayInterfaceCore.jl:248.\n",
      "  ** incremental compilation may be fatally broken for this module **\n",
      "\n",
      "WARNING: Method definition setindex(AbstractArray{T, 2} where T, Any, Int64, Int64) in module ArrayInterfaceCore at /Users/leonbello/.julia/packages/ArrayInterfaceCore/7kMjZ/src/ArrayInterfaceCore.jl:259 overwritten in module ArrayInterface at /Users/leonbello/.julia/packages/ArrayInterface/TCj9U/src/ArrayInterface.jl:163.\n",
      "  ** incremental compilation may be fatally broken for this module **\n",
      "\n",
      "WARNING: Method definition setindex(AbstractArray{T, 1} where T, Any, Int64) in module ArrayInterfaceCore at /Users/leonbello/.julia/packages/ArrayInterfaceCore/7kMjZ/src/ArrayInterfaceCore.jl:254 overwritten in module ArrayInterface at /Users/leonbello/.julia/packages/ArrayInterface/TCj9U/src/ArrayInterface.jl:158.\n",
      "  ** incremental compilation may be fatally broken for this module **\n",
      "\n",
      "WARNING: Method definition setindex(AbstractArray{T, N} where N where T, Any, Any...) in module ArrayInterfaceCore at /Users/leonbello/.julia/packages/ArrayInterfaceCore/7kMjZ/src/ArrayInterfaceCore.jl:248 overwritten in module ArrayInterface at /Users/leonbello/.julia/packages/ArrayInterface/TCj9U/src/ArrayInterface.jl:152.\n",
      "  ** incremental compilation may be fatally broken for this module **\n",
      "\n",
      "\u001b[91m\u001b[1mERROR: \u001b[22m\u001b[39mLoadError: UndefVarError: _unwrap_val not defined\n",
      "Stacktrace:\n",
      " [1] \u001b[0m\u001b[1minclude\u001b[22m\n",
      "\u001b[90m   @ \u001b[39m\u001b[90m./\u001b[39m\u001b[90m\u001b[4mBase.jl:418\u001b[24m\u001b[39m\u001b[90m [inlined]\u001b[39m\n",
      " [2] \u001b[0m\u001b[1minclude_package_for_output\u001b[22m\u001b[0m\u001b[1m(\u001b[22m\u001b[90mpkg\u001b[39m::\u001b[0mBase.PkgId, \u001b[90minput\u001b[39m::\u001b[0mString, \u001b[90mdepot_path\u001b[39m::\u001b[0mVector\u001b[90m{String}\u001b[39m, \u001b[90mdl_load_path\u001b[39m::\u001b[0mVector\u001b[90m{String}\u001b[39m, \u001b[90mload_path\u001b[39m::\u001b[0mVector\u001b[90m{String}\u001b[39m, \u001b[90mconcrete_deps\u001b[39m::\u001b[0mVector\u001b[90m{Pair{Base.PkgId, UInt64}}\u001b[39m, \u001b[90msource\u001b[39m::\u001b[0mString\u001b[0m\u001b[1m)\u001b[22m\n",
      "\u001b[90m   @ \u001b[39m\u001b[90mBase\u001b[39m \u001b[90m./\u001b[39m\u001b[90m\u001b[4mloading.jl:1318\u001b[24m\u001b[39m\n",
      " [3] top-level scope\n",
      "\u001b[90m   @ \u001b[39m\u001b[90m\u001b[4mnone:1\u001b[24m\u001b[39m\n",
      " [4] \u001b[0m\u001b[1meval\u001b[22m\n",
      "\u001b[90m   @ \u001b[39m\u001b[90m./\u001b[39m\u001b[90m\u001b[4mboot.jl:373\u001b[24m\u001b[39m\u001b[90m [inlined]\u001b[39m\n",
      " [5] \u001b[0m\u001b[1meval\u001b[22m\u001b[0m\u001b[1m(\u001b[22m\u001b[90mx\u001b[39m::\u001b[0mExpr\u001b[0m\u001b[1m)\u001b[22m\n",
      "\u001b[90m   @ \u001b[39m\u001b[90mBase.MainInclude\u001b[39m \u001b[90m./\u001b[39m\u001b[90m\u001b[4mclient.jl:453\u001b[24m\u001b[39m\n",
      " [6] top-level scope\n",
      "\u001b[90m   @ \u001b[39m\u001b[90m\u001b[4mnone:1\u001b[24m\u001b[39m\n",
      "in expression starting at /Users/leonbello/.julia/packages/LinearSolve/dxfUd/src/LinearSolve.jl:1\n",
      "\u001b[91m\u001b[1mERROR: \u001b[22m\u001b[39mLoadError: Failed to precompile LinearSolve [7ed4a6bd-45f5-4d41-b270-4a48e9bafcae] to /Users/leonbello/.julia/compiled/v1.7/LinearSolve/jl_UgbC6V.\n",
      "Stacktrace:\n",
      "  [1] \u001b[0m\u001b[1merror\u001b[22m\u001b[0m\u001b[1m(\u001b[22m\u001b[90ms\u001b[39m::\u001b[0mString\u001b[0m\u001b[1m)\u001b[22m\n",
      "\u001b[90m    @ \u001b[39m\u001b[90mBase\u001b[39m \u001b[90m./\u001b[39m\u001b[90m\u001b[4merror.jl:33\u001b[24m\u001b[39m\n",
      "  [2] \u001b[0m\u001b[1mcompilecache\u001b[22m\u001b[0m\u001b[1m(\u001b[22m\u001b[90mpkg\u001b[39m::\u001b[0mBase.PkgId, \u001b[90mpath\u001b[39m::\u001b[0mString, \u001b[90minternal_stderr\u001b[39m::\u001b[0mIO, \u001b[90minternal_stdout\u001b[39m::\u001b[0mIO, \u001b[90mignore_loaded_modules\u001b[39m::\u001b[0mBool\u001b[0m\u001b[1m)\u001b[22m\n",
      "\u001b[90m    @ \u001b[39m\u001b[90mBase\u001b[39m \u001b[90m./\u001b[39m\u001b[90m\u001b[4mloading.jl:1466\u001b[24m\u001b[39m\n",
      "  [3] \u001b[0m\u001b[1mcompilecache\u001b[22m\u001b[0m\u001b[1m(\u001b[22m\u001b[90mpkg\u001b[39m::\u001b[0mBase.PkgId, \u001b[90mpath\u001b[39m::\u001b[0mString\u001b[0m\u001b[1m)\u001b[22m\n",
      "\u001b[90m    @ \u001b[39m\u001b[90mBase\u001b[39m \u001b[90m./\u001b[39m\u001b[90m\u001b[4mloading.jl:1410\u001b[24m\u001b[39m\n",
      "  [4] \u001b[0m\u001b[1m_require\u001b[22m\u001b[0m\u001b[1m(\u001b[22m\u001b[90mpkg\u001b[39m::\u001b[0mBase.PkgId\u001b[0m\u001b[1m)\u001b[22m\n",
      "\u001b[90m    @ \u001b[39m\u001b[90mBase\u001b[39m \u001b[90m./\u001b[39m\u001b[90m\u001b[4mloading.jl:1120\u001b[24m\u001b[39m\n",
      "  [5] \u001b[0m\u001b[1mrequire\u001b[22m\u001b[0m\u001b[1m(\u001b[22m\u001b[90muuidkey\u001b[39m::\u001b[0mBase.PkgId\u001b[0m\u001b[1m)\u001b[22m\n",
      "\u001b[90m    @ \u001b[39m\u001b[90mBase\u001b[39m \u001b[90m./\u001b[39m\u001b[90m\u001b[4mloading.jl:1013\u001b[24m\u001b[39m\n",
      "  [6] \u001b[0m\u001b[1mrequire\u001b[22m\u001b[0m\u001b[1m(\u001b[22m\u001b[90minto\u001b[39m::\u001b[0mModule, \u001b[90mmod\u001b[39m::\u001b[0mSymbol\u001b[0m\u001b[1m)\u001b[22m\n",
      "\u001b[90m    @ \u001b[39m\u001b[90mBase\u001b[39m \u001b[90m./\u001b[39m\u001b[90m\u001b[4mloading.jl:997\u001b[24m\u001b[39m\n",
      "  [7] \u001b[0m\u001b[1minclude\u001b[22m\n",
      "\u001b[90m    @ \u001b[39m\u001b[90m./\u001b[39m\u001b[90m\u001b[4mBase.jl:418\u001b[24m\u001b[39m\u001b[90m [inlined]\u001b[39m\n",
      "  [8] \u001b[0m\u001b[1minclude_package_for_output\u001b[22m\u001b[0m\u001b[1m(\u001b[22m\u001b[90mpkg\u001b[39m::\u001b[0mBase.PkgId, \u001b[90minput\u001b[39m::\u001b[0mString, \u001b[90mdepot_path\u001b[39m::\u001b[0mVector\u001b[90m{String}\u001b[39m, \u001b[90mdl_load_path\u001b[39m::\u001b[0mVector\u001b[90m{String}\u001b[39m, \u001b[90mload_path\u001b[39m::\u001b[0mVector\u001b[90m{String}\u001b[39m, \u001b[90mconcrete_deps\u001b[39m::\u001b[0mVector\u001b[90m{Pair{Base.PkgId, UInt64}}\u001b[39m, \u001b[90msource\u001b[39m::\u001b[0mString\u001b[0m\u001b[1m)\u001b[22m\n",
      "\u001b[90m    @ \u001b[39m\u001b[90mBase\u001b[39m \u001b[90m./\u001b[39m\u001b[90m\u001b[4mloading.jl:1318\u001b[24m\u001b[39m\n",
      "  [9] top-level scope\n",
      "\u001b[90m    @ \u001b[39m\u001b[90m\u001b[4mnone:1\u001b[24m\u001b[39m\n",
      " [10] \u001b[0m\u001b[1meval\u001b[22m\n",
      "\u001b[90m    @ \u001b[39m\u001b[90m./\u001b[39m\u001b[90m\u001b[4mboot.jl:373\u001b[24m\u001b[39m\u001b[90m [inlined]\u001b[39m\n",
      " [11] \u001b[0m\u001b[1meval\u001b[22m\u001b[0m\u001b[1m(\u001b[22m\u001b[90mx\u001b[39m::\u001b[0mExpr\u001b[0m\u001b[1m)\u001b[22m\n",
      "\u001b[90m    @ \u001b[39m\u001b[90mBase.MainInclude\u001b[39m \u001b[90m./\u001b[39m\u001b[90m\u001b[4mclient.jl:453\u001b[24m\u001b[39m\n",
      " [12] top-level scope\n",
      "\u001b[90m    @ \u001b[39m\u001b[90m\u001b[4mnone:1\u001b[24m\u001b[39m\n",
      "in expression starting at /Users/leonbello/.julia/packages/OrdinaryDiffEq/UG9Mz/src/OrdinaryDiffEq.jl:1\n"
     ]
    },
    {
     "ename": "ErrorException",
     "evalue": "Failed to precompile OrdinaryDiffEq [1dea7af3-3e70-54e6-95c3-0bf5283fa5ed] to /Users/leonbello/.julia/compiled/v1.7/OrdinaryDiffEq/jl_pTLf0t.",
     "output_type": "error",
     "traceback": [
      "Failed to precompile OrdinaryDiffEq [1dea7af3-3e70-54e6-95c3-0bf5283fa5ed] to /Users/leonbello/.julia/compiled/v1.7/OrdinaryDiffEq/jl_pTLf0t.\n",
      "\n",
      "Stacktrace:\n",
      "  [1] error(s::String)\n",
      "    @ Base ./error.jl:33\n",
      "  [2] compilecache(pkg::Base.PkgId, path::String, internal_stderr::IO, internal_stdout::IO, ignore_loaded_modules::Bool)\n",
      "    @ Base ./loading.jl:1466\n",
      "  [3] compilecache(pkg::Base.PkgId, path::String)\n",
      "    @ Base ./loading.jl:1410\n",
      "  [4] _require(pkg::Base.PkgId)\n",
      "    @ Base ./loading.jl:1120\n",
      "  [5] require(uuidkey::Base.PkgId)\n",
      "    @ Base ./loading.jl:1013\n",
      "  [6] require(into::Module, mod::Symbol)\n",
      "    @ Base ./loading.jl:997\n",
      "  [7] eval\n",
      "    @ ./boot.jl:373 [inlined]\n",
      "  [8] include_string(mapexpr::typeof(REPL.softscope), mod::Module, code::String, filename::String)\n",
      "    @ Base ./loading.jl:1196\n",
      "  [9] #invokelatest#2\n",
      "    @ ./essentials.jl:716 [inlined]\n",
      " [10] invokelatest\n",
      "    @ ./essentials.jl:714 [inlined]\n",
      " [11] (::VSCodeServer.var\"#198#199\"{VSCodeServer.NotebookRunCellArguments, String})()\n",
      "    @ VSCodeServer ~/.vscode/extensions/julialang.language-julia-1.38.2/scripts/packages/VSCodeServer/src/serve_notebook.jl:19\n",
      " [12] withpath(f::VSCodeServer.var\"#198#199\"{VSCodeServer.NotebookRunCellArguments, String}, path::String)\n",
      "    @ VSCodeServer ~/.vscode/extensions/julialang.language-julia-1.38.2/scripts/packages/VSCodeServer/src/repl.jl:249\n",
      " [13] notebook_runcell_request(conn::VSCodeServer.JSONRPC.JSONRPCEndpoint{Base.PipeEndpoint, Base.PipeEndpoint}, params::VSCodeServer.NotebookRunCellArguments)\n",
      "    @ VSCodeServer ~/.vscode/extensions/julialang.language-julia-1.38.2/scripts/packages/VSCodeServer/src/serve_notebook.jl:13\n",
      " [14] dispatch_msg(x::VSCodeServer.JSONRPC.JSONRPCEndpoint{Base.PipeEndpoint, Base.PipeEndpoint}, dispatcher::VSCodeServer.JSONRPC.MsgDispatcher, msg::Dict{String, Any})\n",
      "    @ VSCodeServer.JSONRPC ~/.vscode/extensions/julialang.language-julia-1.38.2/scripts/packages/JSONRPC/src/typed.jl:67\n",
      " [15] serve_notebook(pipename::String, outputchannel_logger::Base.CoreLogging.SimpleLogger; crashreporting_pipename::String)\n",
      "    @ VSCodeServer ~/.vscode/extensions/julialang.language-julia-1.38.2/scripts/packages/VSCodeServer/src/serve_notebook.jl:139\n",
      " [16] top-level scope\n",
      "    @ ~/.vscode/extensions/julialang.language-julia-1.38.2/scripts/notebook/notebook.jl:32"
     ]
    }
   ],
   "source": [
    "using QuantumCumulants\n",
    "using IterTools\n",
    "using Symbolics\n",
    "using SymbolicUtils\n",
    "using SymbolicUtils.Rewriters\n",
    "using OrdinaryDiffEq, ModelingToolkit\n",
    "using Plots\n",
    "\n",
    "include(\"../src/diagrams.jl\")\n",
    "include(\"../src/contractions.jl\")\n",
    "include(\"../src/lindblad.jl\")\n",
    "include(\"../src/printing.jl\")\n",
    "include(\"../src/poles.jl\")"
   ]
  },
  {
   "cell_type": "code",
   "execution_count": 213,
   "metadata": {},
   "outputs": [],
   "source": []
  },
  {
   "cell_type": "code",
   "execution_count": 288,
   "metadata": {},
   "outputs": [
    {
     "data": {
      "text/plain": [
       "4-element Vector{Any}:\n",
       " [(1, 2)]\n",
       " [(0, 1), (1, 1)]\n",
       " [(0, 2), (1, 0)]\n",
       " [(0, 1), (0, 1), (1, 0)]"
      ]
     },
     "metadata": {},
     "output_type": "display_data"
    }
   ],
   "source": [
    "node = DiagramNode((1,2))\n",
    "ds = get_diagrams(node)"
   ]
  },
  {
   "cell_type": "code",
   "execution_count": 239,
   "metadata": {},
   "outputs": [
    {
     "data": {
      "text/plain": [
       "false"
      ]
     },
     "metadata": {},
     "output_type": "display_data"
    }
   ],
   "source": [
    "[(2, 0), (1, 0)] == [(1, 0), (2, 0)]"
   ]
  },
  {
   "cell_type": "code",
   "execution_count": 158,
   "metadata": {},
   "outputs": [
    {
     "ename": "BoundsError",
     "evalue": "BoundsError: attempt to access 2-element Vector{Tuple{Int64, Int64}} at index []",
     "output_type": "error",
     "traceback": [
      "BoundsError: attempt to access 2-element Vector{Tuple{Int64, Int64}} at index []\n",
      "\n",
      "Stacktrace:\n",
      " [1] throw_boundserror(A::Vector{Tuple{Int64, Int64}}, I::Tuple{})\n",
      "   @ Base ./abstractarray.jl:691\n",
      " [2] checkbounds\n",
      "   @ ./abstractarray.jl:656 [inlined]\n",
      " [3] _getindex\n",
      "   @ ./abstractarray.jl:1244 [inlined]\n",
      " [4] getindex(::Vector{Tuple{Int64, Int64}})\n",
      "   @ Base ./abstractarray.jl:1218\n",
      " [5] top-level scope\n",
      "   @ ~/Documents/GitHub2/QuantumGraining.jl/notebooks/effective_ham_test.ipynb:2"
     ]
    }
   ],
   "source": [
    "for d in ds \n",
    "    print(getindex(d))\n",
    "end"
   ]
  },
  {
   "cell_type": "code",
   "execution_count": 180,
   "metadata": {},
   "outputs": [
    {
     "data": {
      "text/plain": [
       "4-element Vector{Any}:\n",
       " [(0, 0), (3, 0)]\n",
       " [(1, 0), (2, 0)]\n",
       " [(2, 0), (1, 0)]\n",
       " [(1, 0), (1, 0), (1, 0)]"
      ]
     },
     "metadata": {},
     "output_type": "display_data"
    }
   ],
   "source": [
    "pushfirst!(filter!(x-> ((0,0) ∉ x), ds[1:length(ds)]),ds[1])"
   ]
  },
  {
   "cell_type": "code",
   "execution_count": 217,
   "metadata": {},
   "outputs": [
    {
     "data": {
      "text/plain": [
       "4-element Vector{QuantumCumulants.QMul{Nothing}}:\n",
       " 0.5ω_0*(a′*a)\n",
       " 0.5ω_0*(a′*a)\n",
       " ϵ*(a)\n",
       " ϵ*(a′)"
      ]
     },
     "metadata": {},
     "output_type": "display_data"
    }
   ],
   "source": [
    "h_cav = FockSpace(:cavity)\n",
    "h_atom = NLevelSpace(:atom, (:g,:e))\n",
    "h = tensor(h_cav, h_atom)\n",
    "\n",
    "@qnumbers a::Destroy(h) σ::Transition(h)\n",
    "@cnumbers ω_0 ω_d g κ γ ϵ ω_3 ω_1\n",
    "\n",
    "σz = 2* σ(:e, :e)  - 1\n",
    "σx = σ(:g, :e) + σ(:e, :g)\n",
    "σy = 1im* (σ(:e, :g) - σ(:g, :e))\n",
    "@syms t::Real\n",
    "H_rab = ω_0 * a'*a + ω_d/2 * σz + g*(a' + a)*(σx) + ϵ*(a*exp(1im*ω_3*t) + a'*exp(-1im*ω_3*t))\n",
    "#@register f(t)\n",
    "ωs = [0,0,0,ω_3, -ω_3]\n",
    "hs = [ω_0 * a'*a,ω_d/2 * σz,g*(a' + a)*(σx),ϵ*a, ϵ*a']\n",
    "\n",
    "ωs2 = [ω_1,-ω_1,ω_3, -ω_3]\n",
    "hs2 = [0.5*ω_0 * a'*a,0.5*ω_0 * a'*a,ϵ*a, ϵ*a']"
   ]
  },
  {
   "cell_type": "code",
   "execution_count": 203,
   "metadata": {},
   "outputs": [
    {
     "name": "stdout",
     "output_type": "stream",
     "text": [
      "Vector{QuantumCumulants.QMul{Nothing}}[[0.5ω_0*(a′*a)], [0.5ω_0*(a′*a)], [ϵ*(a)], [ϵ*(a′)]]"
     ]
    }
   ],
   "source": [
    "k=1\n",
    "ω_list = repeated_combinations(ωs2, k)\n",
    "h_list = repeated_combinations(hs2, k)\n",
    "print(h_list)"
   ]
  },
  {
   "cell_type": "code",
   "execution_count": 4,
   "metadata": {},
   "outputs": [],
   "source": [
    "h_eff = 0\n",
    "g = 0\n",
    "V = 0\n",
    "g_list, V_list, freq_list = [],[],[]               \n",
    "for (ω, h) in zip(freq_list, V_list)\n",
    "    #print(h)\n",
    "    #println(h)\n",
    "    g = (contraction_coeff((k,0),ω)) #+ contraction_coeff((k,0),-reverse(ω)))#*exp(1im*sum(ω)*t)\n",
    "    #print(g)\n",
    "    V = h[1] #? \n",
    "    push!(g_list, g)\n",
    "    push!(V_list, V)\n",
    "    #println(g)\n",
    "    #print(h)\n",
    "    print(g)\n",
    "    push!(freq_list, sum(ω))\n",
    "    h_eff += g*V\n",
    "end"
   ]
  },
  {
   "cell_type": "code",
   "execution_count": 8,
   "metadata": {},
   "outputs": [
    {
     "ename": "UndefVarError",
     "evalue": "UndefVarError: contraction_coeff not defined",
     "output_type": "error",
     "traceback": [
      "UndefVarError: contraction_coeff not defined\n",
      "\n",
      "Stacktrace:\n",
      " [1] top-level scope\n",
      "   @ ~/.julia/dev/QuantumGraining/notebooks/effective_ham_test.ipynb:3"
     ]
    }
   ],
   "source": [
    "@cnumbers ω_1 ω_2 ω_3\n",
    "#simplify(contraction_coeff((3,0),[ω_1,-ω_1,ω_2]))\n",
    "c, cs = contraction_coeff((1,2),[ω_1,ω_2,ω_3])\n",
    "print(5)"
   ]
  },
  {
   "cell_type": "code",
   "execution_count": 287,
   "metadata": {},
   "outputs": [
    {
     "data": {
      "text/plain": [
       "((exp(-0.5(τ^2)*(ω_1^2))*exp(-0.5(τ^2)*((ω_2 + ω_3)^2))) / (ω_1*ω_3*(ω_2 + ω_3)), [(0, 1), (2, 0)])"
      ]
     },
     "metadata": {},
     "output_type": "display_data"
    }
   ],
   "source": [
    "cs[4]"
   ]
  },
  {
   "cell_type": "code",
   "execution_count": 269,
   "metadata": {},
   "outputs": [
    {
     "data": {
      "text/plain": [
       "0"
      ]
     },
     "metadata": {},
     "output_type": "display_data"
    }
   ],
   "source": [
    "sum(cs) - c"
   ]
  },
  {
   "cell_type": "code",
   "execution_count": 290,
   "metadata": {},
   "outputs": [
    {
     "data": {
      "text/latex": [
       "$\\frac{-1 e^{-0.5 \\tau^{2} \\omega_{3}^{2}} e^{-0.5 \\tau^{2} \\left( \\omega_{1} + \\omega_{2} \\right)^{2}}}{\\omega_{1} \\omega_{3} \\left( \\omega_{1} + \\omega_{2} \\right)} + \\frac{-1 e^{-0.5 \\tau^{2} \\omega_{1}^{2}} e^{-0.5 \\tau^{2} \\left( \\omega_{2} + \\omega_{3} \\right)^{2}}}{\\omega_{1} \\omega_{2} \\omega_{3}} + \\frac{e^{-0.5 \\tau^{2} \\omega_{1}^{2}} e^{-0.5 \\tau^{2} \\omega_{2}^{2}} e^{-0.5 \\tau^{2} \\omega_{3}^{2}}}{\\omega_{1} \\omega_{2} \\omega_{3}} + \\frac{e^{-0.5 \\tau^{2} \\left( \\omega_{1} + \\omega_{2} + \\omega_{3} \\right)^{2}}}{\\omega_{2} \\left( \\omega_{2} + \\omega_{3} \\right)}$"
      ],
      "text/plain": [
       "(-exp(-0.5(τ^2)*(ω_3^2))*exp(-0.5(τ^2)*((ω_1 + ω_2)^2))) / (ω_1*ω_3*(ω_1 + ω_2)) + (-exp(-0.5(τ^2)*(ω_1^2))*exp(-0.5(τ^2)*((ω_2 + ω_3)^2))) / (ω_1*ω_2*ω_3) + (exp(-0.5(τ^2)*(ω_1^2))*exp(-0.5(τ^2)*(ω_2^2))*exp(-0.5(τ^2)*(ω_3^2))) / (ω_1*ω_2*ω_3) + exp(-0.5(τ^2)*((ω_1 + ω_2 + ω_3)^2)) / (ω_2*(ω_2 + ω_3))"
      ]
     },
     "metadata": {},
     "output_type": "display_data"
    }
   ],
   "source": [
    "c"
   ]
  },
  {
   "cell_type": "code",
   "execution_count": 301,
   "metadata": {},
   "outputs": [
    {
     "data": {
      "text/plain": [
       "2-element Vector{Tuple{Vector{Sym{Parameter, Base.ImmutableDict{DataType, Any}}}, Vector{Sym{Parameter, Base.ImmutableDict{DataType, Any}}}}}:\n",
       " ([], [ω_1])\n",
       " ([ω_2, ω_3], [])"
      ]
     },
     "metadata": {},
     "output_type": "display_data"
    }
   ],
   "source": [
    "diagram = [(0,1),(2,0)]\n",
    "freqs = [ω_1,ω_2,ω_3]\n",
    "μ, ν = [],[]\n",
    "ind_μ = 0\n",
    "ind_ν = 0\n",
    "ububs, dbubs = get_max_modes(diagram)\n",
    "freqs_up = reverse(freqs[1:ububs])\n",
    "freqs_dn = freqs[ububs+1:ububs+dbubs]\n",
    "for (i, bubble) in enumerate(diagram)\n",
    "    (μ_len, ν_len) = bubble\n",
    "    push!(μ, freqs_up[ind_μ+1:ind_μ+μ_len])\n",
    "    ind_μ += μ_len\n",
    "    push!(ν,freqs_dn[ind_ν+1:ind_ν+ν_len]) \n",
    "    ind_ν += ν_len\n",
    "end\n",
    "ω = tuple.(μ, ν)"
   ]
  },
  {
   "cell_type": "code",
   "execution_count": 304,
   "metadata": {},
   "outputs": [
    {
     "data": {
      "text/plain": [
       "2-element Vector{Sym{Parameter, Base.ImmutableDict{DataType, Any}}}:\n",
       " ω_2\n",
       " ω_1"
      ]
     },
     "metadata": {},
     "output_type": "display_data"
    }
   ],
   "source": []
  },
  {
   "cell_type": "code",
   "execution_count": 298,
   "metadata": {},
   "outputs": [
    {
     "data": {
      "text/plain": [
       "1-element Vector{Sym{Parameter, Base.ImmutableDict{DataType, Any}}}:\n",
       " ω_1"
      ]
     },
     "metadata": {},
     "output_type": "display_data"
    }
   ],
   "source": [
    "freqs[1:1]"
   ]
  },
  {
   "cell_type": "code",
   "execution_count": 250,
   "metadata": {},
   "outputs": [
    {
     "ename": "MethodError",
     "evalue": "MethodError: no method matching +(::Tuple{Term{CNumber, Nothing}, Vector{Any}}, ::Tuple{Term{CNumber, Nothing}, Vector{Any}})\nClosest candidates are:\n  +(::Any, ::Any, !Matched::Any, !Matched::Any...) at /Applications/Julia-1.7.app/Contents/Resources/julia/share/julia/base/operators.jl:655\n  +(!Matched::Union{InitialValues.NonspecificInitialValue, InitialValues.SpecificInitialValue{typeof(+)}}, ::Any) at ~/.julia/packages/InitialValues/OWP8V/src/InitialValues.jl:154\n  +(!Matched::MultivariatePolynomials.RationalPoly, ::Any) at ~/.julia/packages/MultivariatePolynomials/1bIGc/src/rational.jl:50\n  ...",
     "output_type": "error",
     "traceback": [
      "MethodError: no method matching +(::Tuple{Term{CNumber, Nothing}, Vector{Any}}, ::Tuple{Term{CNumber, Nothing}, Vector{Any}})\n",
      "Closest candidates are:\n",
      "  +(::Any, ::Any, !Matched::Any, !Matched::Any...) at /Applications/Julia-1.7.app/Contents/Resources/julia/share/julia/base/operators.jl:655\n",
      "  +(!Matched::Union{InitialValues.NonspecificInitialValue, InitialValues.SpecificInitialValue{typeof(+)}}, ::Any) at ~/.julia/packages/InitialValues/OWP8V/src/InitialValues.jl:154\n",
      "  +(!Matched::MultivariatePolynomials.RationalPoly, ::Any) at ~/.julia/packages/MultivariatePolynomials/1bIGc/src/rational.jl:50\n",
      "  ...\n",
      "\n",
      "Stacktrace:\n",
      " [1] effective_hamiltonian(K::Int64, ω::Vector{SymbolicUtils.Symbolic{Parameter}}, h::Vector{QuantumCumulants.QMul{Nothing}})\n",
      "   @ Main ~/Documents/GitHub2/QuantumGraining.jl/src/lindblad.jl:38\n",
      " [2] top-level scope\n",
      "   @ ~/Documents/GitHub2/QuantumGraining.jl/notebooks/effective_ham_test.ipynb:2"
     ]
    }
   ],
   "source": [
    "k=2\n",
    "h_eff = effective_hamiltonian(k, ωs2, hs2)\n",
    "H_eff = simplify(h_eff)\n",
    "secondOrderRule = @acrule((~a)*(~y)*(~z) + (~b)*(~y)*(~z) => ((~a)+(~b))*(~y)*(~z))\n",
    "firstOrderRule = @acrule((~a)*(~y) + (~b)*(~y) => ((~a)+(~b))*(~y))\n",
    "rules = Chain([firstOrderRule,secondOrderRule])#, addRule])\n",
    "H1 = Fixpoint(rules)(H_eff)"
   ]
  },
  {
   "cell_type": "code",
   "execution_count": 38,
   "metadata": {},
   "outputs": [],
   "source": []
  },
  {
   "cell_type": "code",
   "execution_count": null,
   "metadata": {},
   "outputs": [],
   "source": [
    "simplify(substitute())"
   ]
  },
  {
   "cell_type": "code",
   "execution_count": 6,
   "metadata": {},
   "outputs": [
    {
     "ename": "UndefVarError",
     "evalue": "UndefVarError: f not defined",
     "output_type": "error",
     "traceback": [
      "UndefVarError: f not defined\n",
      "\n",
      "Stacktrace:\n",
      " [1] top-level scope\n",
      "   @ ~/Documents/GitHub2/QuantumGraining.jl/notebooks/effective_ham_test.ipynb:1"
     ]
    }
   ],
   "source": [
    "#substitute(H1, Dict([f(j,t)=> exp(1im*freqs[j]*t)]))"
   ]
  },
  {
   "cell_type": "code",
   "execution_count": 36,
   "metadata": {},
   "outputs": [
    {
     "data": {
      "text/plain": [
       "((Inf*ω_0*f(1, t)*(a′*a)+0+Inf*ω_d*f(2, t)*(σee)+-Inf*ω_d*f(2, t)+Inf*g*f(3, t)*(a′*σge)+Inf*g*f(3, t)*(a′*σeg)+Inf*g*f(3, t)*(a*σge)+Inf*g*f(3, t)*(a*σeg)+ϵ*(((-1//2)*exp(-0.5(τ^2)*(ω_3^2))) / ω_3 + ((1//2)*exp(-0.5(τ^2)*(ω_3^2))) / ω_3)*f(4, t)*(a)+ϵ*(((-1//2)*exp(-0.5(τ^2)*(ω_3^2))) / ω_3 + ((1//2)*exp(-0.5(τ^2)*(ω_3^2))) / ω_3)*f(5, t)*(a′)+(ω_0^2)*(NaN - 3.0(τ^2))*f(6, t)*(a′*a′*a*a)+(ω_0^2)*(NaN - 3.0(τ^2))*f(6, t)*(a′*a)+ω_0*ω_d*(NaN - 3.0(τ^2))*f(7, t)*(a′*a*σee)+(-1//2)*ω_0*ω_d*(NaN - 3.0(τ^2))*f(7, t)*(a′*a)+g*ω_0*(NaN - 3.0(τ^2))*f(8, t)*(a′*a′*a*σge)+g*ω_0*(NaN - 3.0(τ^2))*f(8, t)*(a′*a′*a*σeg)+g*ω_0*(NaN - 3.0(τ^2))*f(8, t)*(a′*a*a*σge)+g*ω_0*(NaN - 3.0(τ^2))*f(8, t)*(a*σge)+g*ω_0*(NaN - 3.0(τ^2))*f(8, t)*(a′*a*a*σeg)+g*ω_0*(NaN - 3.0(τ^2))*f(8, t)*(a*σeg)+ω_0*ϵ*((-0.5exp(-0.5(τ^2)*(ω_3^2))) / ω_3 + ((1//2)*exp(-0.5(τ^2)*(ω_3^2))) / ω_3 + ((1//2)*exp(-0.5(τ^2)*(ω_3^2))) / (ω_3^2) + (1.5(3.0 + -2 / ω_3 - 2.0ω_3*(τ^2))*exp(-0.5(τ^2)*(ω_3^2))) / ω_3 - 103.5exp(-0.5(τ^2)*(ω_3^2)))*f(9, t)*(a′*a*a)+ω_0*ϵ*((-0.5exp(-0.5(τ^2)*(ω_3^2))) / ω_3 + ((1//2)*exp(-0.5(τ^2)*(ω_3^2))) / ω_3 + ((1//2)*exp(-0.5(τ^2)*(ω_3^2))) / (ω_3^2) + (1.5(3.0 + -2 / ω_3 - 2.0ω_3*(τ^2))*exp(-0.5(τ^2)*(ω_3^2))) / ω_3 - 103.5exp(-0.5(τ^2)*(ω_3^2)))*f(9, t)*(a)+ω_0*ϵ*(((-1//2)*exp(-0.5(τ^2)*(ω_3^2))) / ω_3 + ((1//2)*exp(-0.5(τ^2)*(ω_3^2))) / ω_3 + ((1//2)*exp(-0.5(τ^2)*(ω_3^2))) / (ω_3^2) + (-1.5(3.0 + 2 / ω_3 + 2.0ω_3*(τ^2))*exp(-0.5(τ^2)*(ω_3^2))) / ω_3 - 103.5exp(-0.5(τ^2)*(ω_3^2)))*f(10, t)*(a′*a′*a)+ω_0*ω_d*(NaN - 3.0(τ^2))*f(11, t)*(a′*a*σee)+(-1//2)*ω_0*ω_d*(NaN - 3.0(τ^2))*f(11, t)*(a′*a)+(ω_d^2)*(NaN - 3.0(τ^2))*f(12, t)*(σee)+(-1//2)*(ω_d^2)*(NaN - 3.0(τ^2))*f(12, t)*(σee)+(-1//2)*(ω_d^2)*(NaN - 3.0(τ^2))*f(12, t)*(σee)+(1//4)*(ω_d^2)*(NaN - 3.0(τ^2))*f(12, t)+g*ω_d*(NaN - 3.0(τ^2))*f(13, t)*(a′*σge)+(-1//2)*g*ω_d*(NaN - 3.0(τ^2))*f(13, t)*(a′*σge)+0+(-1//2)*g*ω_d*(NaN - 3.0(τ^2))*f(13, t)*(a′*σeg)+g*ω_d*(NaN - 3.0(τ^2))*f(13, t)*(a*σge)+(-1//2)*g*ω_d*(NaN - 3.0(τ^2))*f(13, t)*(a*σge)+0+(-1//2)*g*ω_d*(NaN - 3.0(τ^2))*f(13, t)*(a*σeg)+ω_d*ϵ*((-0.5exp(-0.5(τ^2)*(ω_3^2))) / ω_3 + ((1//2)*exp(-0.5(τ^2)*(ω_3^2))) / ω_3 + ((1//2)*exp(-0.5(τ^2)*(ω_3^2))) / (ω_3^2) + (1.5(3.0 + -2 / ω_3 - 2.0ω_3*(τ^2))*exp(-0.5(τ^2)*(ω_3^2))) / ω_3 - 103.5exp(-0.5(τ^2)*(ω_3^2)))*f(14, t)*(a*σee)+(-1//2)*ω_d*ϵ*((-0.5exp(-0.5(τ^2)*(ω_3^2))) / ω_3 + ((1//2)*exp(-0.5(τ^2)*(ω_3^2))) / ω_3 + ((1//2)*exp(-0.5(τ^2)*(ω_3^2))) / (ω_3^2) + (1.5(3.0 + -2 / ω_3 - 2.0ω_3*(τ^2))*exp(-0.5(τ^2)*(ω_3^2))) / ω_3 - 103.5exp(-0.5(τ^2)*(ω_3^2)))*f(14, t)*(a)+ω_d*ϵ*(((-1//2)*exp(-0.5(τ^2)*(ω_3^2))) / ω_3 + ((1//2)*exp(-0.5(τ^2)*(ω_3^2))) / ω_3 + ((1//2)*exp(-0.5(τ^2)*(ω_3^2))) / (ω_3^2) + (-1.5(3.0 + 2 / ω_3 + 2.0ω_3*(τ^2))*exp(-0.5(τ^2)*(ω_3^2))) / ω_3 - 103.5exp(-0.5(τ^2)*(ω_3^2)))*f(15, t)*(a′*σee)+(-1//2)*ω_d*ϵ*(((-1//2)*exp(-0.5(τ^2)*(ω_3^2))) / ω_3 + ((1//2)*exp(-0.5(τ^2)*(ω_3^2))) / ω_3 + ((1//2)*exp(-0.5(τ^2)*(ω_3^2))) / (ω_3^2) + (-1.5(3.0 + 2 / ω_3 + 2.0ω_3*(τ^2))*exp(-0.5(τ^2)*(ω_3^2))) / ω_3 - 103.5exp(-0.5(τ^2)*(ω_3^2)))*f(15, t)*(a′)+g*ω_0*(NaN - 3.0(τ^2))*f(16, t)*(a′*a*a*σge)+g*ω_0*(NaN - 3.0(τ^2))*f(16, t)*(a′*a*a*σeg)+g*ω_0*(NaN - 3.0(τ^2))*f(16, t)*(a′*a′*a*σge)+g*ω_0*(NaN - 3.0(τ^2))*f(16, t)*(a′*σge)+g*ω_0*(NaN - 3.0(τ^2))*f(16, t)*(a′*a′*a*σeg)+g*ω_0*(NaN - 3.0(τ^2))*f(16, t)*(a′*σeg)+0+g*ω_d*(NaN - 3.0(τ^2))*f(17, t)*(a′*σeg)+0+g*ω_d*(NaN - 3.0(τ^2))*f(17, t)*(a*σeg)+(-1//2)*g*ω_d*(NaN - 3.0(τ^2))*f(17, t)*(a′*σge)+(-1//2)*g*ω_d*(NaN - 3.0(τ^2))*f(17, t)*(a′*σeg)+(-1//2)*g*ω_d*(NaN - 3.0(τ^2))*f(17, t)*(a*σge)+(-1//2)*g*ω_d*(NaN - 3.0(τ^2))*f(17, t)*(a*σeg)+0+0+(g^2)*(NaN - 3.0(τ^2))*f(18, t)*(a′*a′*σee)+0+(g^2)*(NaN - 3.0(τ^2))*f(18, t)*(a′*a*σee)+0+0+0+0+(g^2)*(NaN - 3.0(τ^2))*f(18, t)*(a*a*σee)+0+(g^2)*(NaN - 3.0(τ^2))*f(18, t)*(a′*a′)+-(g^2)*(NaN - 3.0(τ^2))*f(18, t)*(a′*a′*σee)+(g^2)*(NaN - 3.0(τ^2))*f(18, t)*(a′*a)+-(g^2)*(NaN - 3.0(τ^2))*f(18, t)*(a′*a*σee)+(g^2)*(NaN - 3.0(τ^2))*f(18, t)*(a′*a)+-(g^2)*(NaN - 3.0(τ^2))*f(18, t)*(a′*a*σee)+(g^2)*(NaN - 3.0(τ^2))*f(18, t)+-(g^2)*(NaN - 3.0(τ^2))*f(18, t)*(σee)+(g^2)*(NaN - 3.0(τ^2))*f(18, t)*(a*a)+-(g^2)*(NaN - 3.0(τ^2))*f(18, t)*(a*a*σee)+(g^2)*(NaN - 3.0(τ^2))*f(18, t)*(a′*a*σee)+(g^2)*(NaN - 3.0(τ^2))*f(18, t)*(σee)+g*ϵ*((-0.5exp(-0.5(τ^2)*(ω_3^2))) / ω_3 + ((1//2)*exp(-0.5(τ^2)*(ω_3^2))) / ω_3 + ((1//2)*exp(-0.5(τ^2)*(ω_3^2))) / (ω_3^2) + (1.5(3.0 + -2 / ω_3 - 2.0ω_3*(τ^2))*exp(-0.5(τ^2)*(ω_3^2))) / ω_3 - 103.5exp(-0.5(τ^2)*(ω_3^2)))*f(19, t)*(a*a*σge)+g*ϵ*((-0.5exp(-0.5(τ^2)*(ω_3^2))) / ω_3 + ((1//2)*exp(-0.5(τ^2)*(ω_3^2))) / ω_3 + ((1//2)*exp(-0.5(τ^2)*(ω_3^2))) / (ω_3^2) + (1.5(3.0 + -2 / ω_3 - 2.0ω_3*(τ^2))*exp(-0.5(τ^2)*(ω_3^2))) / ω_3 - 103.5exp(-0.5(τ^2)*(ω_3^2)))*f(19, t)*(a*a*σeg)+g*ϵ*((-0.5exp(-0.5(τ^2)*(ω_3^2))) / ω_3 + ((1//2)*exp(-0.5(τ^2)*(ω_3^2))) / ω_3 + ((1//2)*exp(-0.5(τ^2)*(ω_3^2))) / (ω_3^2) + (1.5(3.0 + -2 / ω_3 - 2.0ω_3*(τ^2))*exp(-0.5(τ^2)*(ω_3^2))) / ω_3 - 103.5exp(-0.5(τ^2)*(ω_3^2)))*f(19, t)*(a′*a*σge)+g*ϵ*((-0.5exp(-0.5(τ^2)*(ω_3^2))) / ω_3 + ((1//2)*exp(-0.5(τ^2)*(ω_3^2))) / ω_3 + ((1//2)*exp(-0.5(τ^2)*(ω_3^2))) / (ω_3^2) + (1.5(3.0 + -2 / ω_3 - 2.0ω_3*(τ^2))*exp(-0.5(τ^2)*(ω_3^2))) / ω_3 - 103.5exp(-0.5(τ^2)*(ω_3^2)))*f(19, t)*(σge)+g*ϵ*((-0.5exp(-0.5(τ^2)*(ω_3^2))) / ω_3 + ((1//2)*exp(-0.5(τ^2)*(ω_3^2))) / ω_3 + ((1//2)*exp(-0.5(τ^2)*(ω_3^2))) / (ω_3^2) + (1.5(3.0 + -2 / ω_3 - 2.0ω_3*(τ^2))*exp(-0.5(τ^2)*(ω_3^2))) / ω_3 - 103.5exp(-0.5(τ^2)*(ω_3^2)))*f(19, t)*(a′*a*σeg)+g*ϵ*((-0.5exp(-0.5(τ^2)*(ω_3^2))) / ω_3 + ((1//2)*exp(-0.5(τ^2)*(ω_3^2))) / ω_3 + ((1//2)*exp(-0.5(τ^2)*(ω_3^2))) / (ω_3^2) + (1.5(3.0 + -2 / ω_3 - 2.0ω_3*(τ^2))*exp(-0.5(τ^2)*(ω_3^2))) / ω_3 - 103.5exp(-0.5(τ^2)*(ω_3^2)))*f(19, t)*(σeg)+g*ϵ*(((-1//2)*exp(-0.5(τ^2)*(ω_3^2))) / ω_3 + ((1//2)*exp(-0.5(τ^2)*(ω_3^2))) / ω_3 + ((1//2)*exp(-0.5(τ^2)*(ω_3^2))) / (ω_3^2) + (-1.5(3.0 + 2 / ω_3 + 2.0ω_3*(τ^2))*exp(-0.5(τ^2)*(ω_3^2))) / ω_3 - 103.5exp(-0.5(τ^2)*(ω_3^2)))*f(20, t)*(a′*a′*σge)+g*ϵ*(((-1//2)*exp(-0.5(τ^2)*(ω_3^2))) / ω_3 + ((1//2)*exp(-0.5(τ^2)*(ω_3^2))) / ω_3 + ((1//2)*exp(-0.5(τ^2)*(ω_3^2))) / (ω_3^2) + (-1.5(3.0 + 2 / ω_3 + 2.0ω_3*(τ^2))*exp(-0.5(τ^2)*(ω_3^2))) / ω_3 - 103.5exp(-0.5(τ^2)*(ω_3^2)))*f(20, t)*(a′*a′*σeg)+g*ϵ*(((-1//2)*exp(-0.5(τ^2)*(ω_3^2))) / ω_3 + ((1//2)*exp(-0.5(τ^2)*(ω_3^2))) / ω_3 + ((1//2)*exp(-0.5(τ^2)*(ω_3^2))) / (ω_3^2) + (-1.5(3.0 + 2 / ω_3 + 2.0ω_3*(τ^2))*exp(-0.5(τ^2)*(ω_3^2))) / ω_3 - 103.5exp(-0.5(τ^2)*(ω_3^2)))*f(20, t)*(a′*a*σge)+g*ϵ*(((-1//2)*exp(-0.5(τ^2)*(ω_3^2))) / ω_3 + ((1//2)*exp(-0.5(τ^2)*(ω_3^2))) / ω_3 + ((1//2)*exp(-0.5(τ^2)*(ω_3^2))) / (ω_3^2) + (-1.5(3.0 + 2 / ω_3 + 2.0ω_3*(τ^2))*exp(-0.5(τ^2)*(ω_3^2))) / ω_3 - 103.5exp(-0.5(τ^2)*(ω_3^2)))*f(20, t)*(a′*a*σeg)+ω_0*ϵ*(((-1//2)*exp(-0.5(τ^2)*(ω_3^2))) / ω_3 + ((1//2)*exp(-0.5(τ^2)*(ω_3^2))) / ω_3 + ((1//2)*exp(-0.5(τ^2)*(ω_3^2))) / (ω_3^2) + NaN*exp(-0.5(τ^2)*(ω_3^2)))*f(21, t)*(a′*a*a)+ω_d*ϵ*(((-1//2)*exp(-0.5(τ^2)*(ω_3^2))) / ω_3 + ((1//2)*exp(-0.5(τ^2)*(ω_3^2))) / ω_3 + ((1//2)*exp(-0.5(τ^2)*(ω_3^2))) / (ω_3^2) + NaN*exp(-0.5(τ^2)*(ω_3^2)))*f(22, t)*(a*σee)+(-1//2)*ω_d*ϵ*(((-1//2)*exp(-0.5(τ^2)*(ω_3^2))) / ω_3 + ((1//2)*exp(-0.5(τ^2)*(ω_3^2))) / ω_3 + ((1//2)*exp(-0.5(τ^2)*(ω_3^2))) / (ω_3^2) + NaN*exp(-0.5(τ^2)*(ω_3^2)))*f(22, t)*(a)+g*ϵ*(((-1//2)*exp(-0.5(τ^2)*(ω_3^2))) / ω_3 + ((1//2)*exp(-0.5(τ^2)*(ω_3^2))) / ω_3 + ((1//2)*exp(-0.5(τ^2)*(ω_3^2))) / (ω_3^2) + NaN*exp(-0.5(τ^2)*(ω_3^2)))*f(23, t)*(a′*a*σge)+g*ϵ*(((-1//2)*exp(-0.5(τ^2)*(ω_3^2))) / ω_3 + ((1//2)*exp(-0.5(τ^2)*(ω_3^2))) / ω_3 + ((1//2)*exp(-0.5(τ^2)*(ω_3^2))) / (ω_3^2) + NaN*exp(-0.5(τ^2)*(ω_3^2)))*f(23, t)*(a′*a*σeg)+g*ϵ*(((-1//2)*exp(-0.5(τ^2)*(ω_3^2))) / ω_3 + ((1//2)*exp(-0.5(τ^2)*(ω_3^2))) / ω_3 + ((1//2)*exp(-0.5(τ^2)*(ω_3^2))) / (ω_3^2) + NaN*exp(-0.5(τ^2)*(ω_3^2)))*f(23, t)*(a*a*σge)+g*ϵ*(((-1//2)*exp(-0.5(τ^2)*(ω_3^2))) / ω_3 + ((1//2)*exp(-0.5(τ^2)*(ω_3^2))) / ω_3 + ((1//2)*exp(-0.5(τ^2)*(ω_3^2))) / (ω_3^2) + NaN*exp(-0.5(τ^2)*(ω_3^2)))*f(23, t)*(a*a*σeg)+((-(exp(-0.5(τ^2)*(ω_3^2))^2)) / ω_3 + (exp(-0.5(τ^2)*(ω_3^2))^2) / ω_3 + exp(-2.0(τ^2)*(ω_3^2)) / (2(ω_3^2)))*(ϵ^2)*f(24, t)*(a*a)+((4.5 + 1.5 / ω_3) / ω_3 + (-(exp(-0.5(τ^2)*(ω_3^2))^2)) / ω_3 + (exp(-0.5(τ^2)*(ω_3^2))^2) / ω_3)*(ϵ^2)*f(25, t)*(a′*a)+ω_0*ϵ*((-0.5exp(-0.5(τ^2)*(ω_3^2))) / ω_3 + ((1//2)*exp(-0.5(τ^2)*(ω_3^2))) / ω_3 + ((1//2)*exp(-0.5(τ^2)*(ω_3^2))) / (ω_3^2) + NaN*exp(-0.5(τ^2)*(ω_3^2)))*f(26, t)*(a′*a′*a)+ω_0*ϵ*((-0.5exp(-0.5(τ^2)*(ω_3^2))) / ω_3 + ((1//2)*exp(-0.5(τ^2)*(ω_3^2))) / ω_3 + ((1//2)*exp(-0.5(τ^2)*(ω_3^2))) / (ω_3^2) + NaN*exp(-0.5(τ^2)*(ω_3^2)))*f(26, t)*(a′)+ω_d*ϵ*((-0.5exp(-0.5(τ^2)*(ω_3^2))) / ω_3 + ((1//2)*exp(-0.5(τ^2)*(ω_3^2))) / ω_3 + ((1//2)*exp(-0.5(τ^2)*(ω_3^2))) / (ω_3^2) + NaN*exp(-0.5(τ^2)*(ω_3^2)))*f(27, t)*(a′*σee)+(-1//2)*ω_d*ϵ*((-0.5exp(-0.5(τ^2)*(ω_3^2))) / ω_3 + ((1//2)*exp(-0.5(τ^2)*(ω_3^2))) / ω_3 + ((1//2)*exp(-0.5(τ^2)*(ω_3^2))) / (ω_3^2) + NaN*exp(-0.5(τ^2)*(ω_3^2)))*f(27, t)*(a′)+g*ϵ*((-0.5exp(-0.5(τ^2)*(ω_3^2))) / ω_3 + ((1//2)*exp(-0.5(τ^2)*(ω_3^2))) / ω_3 + ((1//2)*exp(-0.5(τ^2)*(ω_3^2))) / (ω_3^2) + NaN*exp(-0.5(τ^2)*(ω_3^2)))*f(28, t)*(a′*a′*σge)+g*ϵ*((-0.5exp(-0.5(τ^2)*(ω_3^2))) / ω_3 + ((1//2)*exp(-0.5(τ^2)*(ω_3^2))) / ω_3 + ((1//2)*exp(-0.5(τ^2)*(ω_3^2))) / (ω_3^2) + NaN*exp(-0.5(τ^2)*(ω_3^2)))*f(28, t)*(a′*a′*σeg)+g*ϵ*((-0.5exp(-0.5(τ^2)*(ω_3^2))) / ω_3 + ((1//2)*exp(-0.5(τ^2)*(ω_3^2))) / ω_3 + ((1//2)*exp(-0.5(τ^2)*(ω_3^2))) / (ω_3^2) + NaN*exp(-0.5(τ^2)*(ω_3^2)))*f(28, t)*(a′*a*σge)+g*ϵ*((-0.5exp(-0.5(τ^2)*(ω_3^2))) / ω_3 + ((1//2)*exp(-0.5(τ^2)*(ω_3^2))) / ω_3 + ((1//2)*exp(-0.5(τ^2)*(ω_3^2))) / (ω_3^2) + NaN*exp(-0.5(τ^2)*(ω_3^2)))*f(28, t)*(σge)+g*ϵ*((-0.5exp(-0.5(τ^2)*(ω_3^2))) / ω_3 + ((1//2)*exp(-0.5(τ^2)*(ω_3^2))) / ω_3 + ((1//2)*exp(-0.5(τ^2)*(ω_3^2))) / (ω_3^2) + NaN*exp(-0.5(τ^2)*(ω_3^2)))*f(28, t)*(a′*a*σeg)+g*ϵ*((-0.5exp(-0.5(τ^2)*(ω_3^2))) / ω_3 + ((1//2)*exp(-0.5(τ^2)*(ω_3^2))) / ω_3 + ((1//2)*exp(-0.5(τ^2)*(ω_3^2))) / (ω_3^2) + NaN*exp(-0.5(τ^2)*(ω_3^2)))*f(28, t)*(σeg)+((4.5 + -1.5 / ω_3) / (-ω_3) + (-(exp(-0.5(τ^2)*(ω_3^2))^2)) / ω_3 + (exp(-0.5(τ^2)*(ω_3^2))^2) / ω_3)*(ϵ^2)*f(29, t)*(a′*a)+((4.5 + -1.5 / ω_3) / (-ω_3) + (-(exp(-0.5(τ^2)*(ω_3^2))^2)) / ω_3 + (exp(-0.5(τ^2)*(ω_3^2))^2) / ω_3)*(ϵ^2)*f(29, t)+((-(exp(-0.5(τ^2)*(ω_3^2))^2)) / ω_3 + (exp(-0.5(τ^2)*(ω_3^2))^2) / ω_3 + exp(-2.0(τ^2)*(ω_3^2)) / (2(ω_3^2)))*(ϵ^2)*f(30, t)*(a′*a′)), Any[0.0, 0.0, 0.0, ω_3, -ω_3, 0.0, 0.0, 0.0, ω_3, -ω_3  …  ω_3, ω_3, ω_3, 2ω_3, 0, -ω_3, -ω_3, -ω_3, 0, -2ω_3])"
      ]
     },
     "metadata": {},
     "output_type": "display_data"
    }
   ],
   "source": [
    "k=2\n",
    "@syms t::Real\n",
    "h_eff, freqs = effective_hamiltonian(k, ωs, hs)"
   ]
  },
  {
   "cell_type": "code",
   "execution_count": 25,
   "metadata": {},
   "outputs": [
    {
     "data": {
      "text/latex": [
       "$\\left( \\frac{-10.0 \\omega_{d} \\epsilon e^{-0.5 \\tau^{2} \\omega_{3}^{2}} f\\left( 14, t \\right)}{4 \\omega_{3}^{2}} + \\frac{-10.0 \\omega_{d} \\epsilon e^{-0.5 \\tau^{2} \\omega_{3}^{2}} f\\left( 22, t \\right)}{4 \\omega_{3}^{2}} + \\frac{18.0 \\omega_{d} \\epsilon e^{-0.5 \\tau^{2} \\omega_{3}^{2}} f\\left( 14, t \\right)}{4 \\omega_{3}} + \\frac{-414.0 \\omega_{d} \\epsilon e^{-0.5 \\tau^{2} \\omega_{3}^{2}} f\\left( 14, t \\right)}{4} + \\frac{-18.0 \\omega_{d} \\epsilon e^{-0.5 \\tau^{2} \\omega_{3}^{2}} f\\left( 22, t \\right)}{4 \\omega_{3}} + \\frac{-414.0 \\omega_{d} \\epsilon e^{-0.5 \\tau^{2} \\omega_{3}^{2}} f\\left( 22, t \\right)}{4} + \\frac{-12.0 \\omega_{d} \\epsilon \\tau^{2} e^{-0.5 \\tau^{2} \\omega_{3}^{2}} f\\left( 14, t \\right)}{4} + \\frac{-12.0 \\omega_{d} \\epsilon \\tau^{2} e^{-0.5 \\tau^{2} \\omega_{3}^{2}} f\\left( 22, t \\right)}{4} \\right) a {\\sigma}^{{ee}} + \\left( \\frac{-10.0 \\omega_{d} \\epsilon e^{-0.5 \\tau^{2} \\omega_{3}^{2}} f\\left( 15, t \\right)}{4 \\omega_{3}^{2}} + \\frac{-10.0 \\omega_{d} \\epsilon e^{-0.5 \\tau^{2} \\omega_{3}^{2}} f\\left( 27, t \\right)}{4 \\omega_{3}^{2}} + \\frac{-18.0 \\omega_{d} \\epsilon e^{-0.5 \\tau^{2} \\omega_{3}^{2}} f\\left( 15, t \\right)}{4 \\omega_{3}} + \\frac{18.0 \\omega_{d} \\epsilon e^{-0.5 \\tau^{2} \\omega_{3}^{2}} f\\left( 27, t \\right)}{4 \\omega_{3}} + \\frac{-414.0 \\omega_{d} \\epsilon e^{-0.5 \\tau^{2} \\omega_{3}^{2}} f\\left( 15, t \\right)}{4} + \\frac{-414.0 \\omega_{d} \\epsilon e^{-0.5 \\tau^{2} \\omega_{3}^{2}} f\\left( 27, t \\right)}{4} + \\frac{-12.0 \\omega_{d} \\epsilon \\tau^{2} e^{-0.5 \\tau^{2} \\omega_{3}^{2}} f\\left( 15, t \\right)}{4} + \\frac{-12.0 \\omega_{d} \\epsilon \\tau^{2} e^{-0.5 \\tau^{2} \\omega_{3}^{2}} f\\left( 27, t \\right)}{4} \\right) a^\\dagger {\\sigma}^{{ee}} + \\left( \\frac{-36.0 g f\\left( 3, t \\right)}{4} + \\frac{378.0 g \\omega_{d} f\\left( 13, t \\right)}{4} + \\frac{-378.0 g \\omega_{d} f\\left( 17, t \\right)}{4} + \\frac{-756.0 g \\omega_{0} f\\left( 8, t \\right)}{4} + \\frac{12.0 g \\omega_{d} \\tau^{2} f\\left( 13, t \\right)}{4} + \\frac{-12.0 g \\omega_{d} \\tau^{2} f\\left( 17, t \\right)}{4} + \\frac{-24.0 g \\omega_{0} \\tau^{2} f\\left( 8, t \\right)}{4} \\right) a {\\sigma}^{{eg}} + \\left( \\frac{5.0 \\omega_{d} \\epsilon e^{-0.5 \\tau^{2} \\omega_{3}^{2}} f\\left( 15, t \\right)}{4 \\omega_{3}^{2}} + \\frac{-10.0 \\omega_{0} \\epsilon e^{-0.5 \\tau^{2} \\omega_{3}^{2}} f\\left( 26, t \\right)}{4 \\omega_{3}^{2}} + \\frac{5.0 \\omega_{d} \\epsilon e^{-0.5 \\tau^{2} \\omega_{3}^{2}} f\\left( 27, t \\right)}{4 \\omega_{3}^{2}} + \\frac{9.0 \\omega_{d} \\epsilon e^{-0.5 \\tau^{2} \\omega_{3}^{2}} f\\left( 15, t \\right)}{4 \\omega_{3}} + \\frac{207.0 \\omega_{d} \\epsilon e^{-0.5 \\tau^{2} \\omega_{3}^{2}} f\\left( 15, t \\right)}{4} + \\frac{18.0 \\omega_{0} \\epsilon e^{-0.5 \\tau^{2} \\omega_{3}^{2}} f\\left( 26, t \\right)}{4 \\omega_{3}} + \\frac{-414.0 \\omega_{0} \\epsilon e^{-0.5 \\tau^{2} \\omega_{3}^{2}} f\\left( 26, t \\right)}{4} + \\frac{-9.0 \\omega_{d} \\epsilon e^{-0.5 \\tau^{2} \\omega_{3}^{2}} f\\left( 27, t \\right)}{4 \\omega_{3}} + \\frac{207.0 \\omega_{d} \\epsilon e^{-0.5 \\tau^{2} \\omega_{3}^{2}} f\\left( 27, t \\right)}{4} + \\frac{-12.0 \\omega_{0} \\epsilon \\tau^{2} e^{-0.5 \\tau^{2} \\omega_{3}^{2}} f\\left( 26, t \\right)}{4} + \\frac{6.0 \\omega_{d} \\epsilon \\tau^{2} e^{-0.5 \\tau^{2} \\omega_{3}^{2}} f\\left( 15, t \\right)}{4} + \\frac{6.0 \\omega_{d} \\epsilon \\tau^{2} e^{-0.5 \\tau^{2} \\omega_{3}^{2}} f\\left( 27, t \\right)}{4} \\right) a^\\dagger + \\left( \\frac{-36.0 g f\\left( 3, t \\right)}{4} + \\frac{-756.0 g \\omega_{0} f\\left( 16, t \\right)}{4} + \\frac{378.0 g \\omega_{d} f\\left( 13, t \\right)}{4} + \\frac{-378.0 g \\omega_{d} f\\left( 17, t \\right)}{4} + \\frac{12.0 g \\omega_{d} \\tau^{2} f\\left( 13, t \\right)}{4} + \\frac{-24.0 g \\omega_{0} \\tau^{2} f\\left( 16, t \\right)}{4} + \\frac{-12.0 g \\omega_{d} \\tau^{2} f\\left( 17, t \\right)}{4} \\right) a^\\dagger {\\sigma}^{{eg}} + \\left( \\frac{-36.0 g f\\left( 3, t \\right)}{4} + \\frac{-378.0 g \\omega_{d} f\\left( 13, t \\right)}{4} + \\frac{-756.0 g \\omega_{0} f\\left( 16, t \\right)}{4} + \\frac{378.0 g \\omega_{d} f\\left( 17, t \\right)}{4} + \\frac{-12.0 g \\omega_{d} \\tau^{2} f\\left( 13, t \\right)}{4} + \\frac{-24.0 g \\omega_{0} \\tau^{2} f\\left( 16, t \\right)}{4} + \\frac{12.0 g \\omega_{d} \\tau^{2} f\\left( 17, t \\right)}{4} \\right) a^\\dagger {\\sigma}^{{ge}} + \\left( \\frac{-10.0 g \\epsilon e^{-0.5 \\tau^{2} \\omega_{3}^{2}} f\\left( 19, t \\right)}{4 \\omega_{3}^{2}} + \\frac{18.0 g \\epsilon e^{-0.5 \\tau^{2} \\omega_{3}^{2}} f\\left( 19, t \\right)}{4 \\omega_{3}} + \\frac{-10.0 g \\epsilon e^{-0.5 \\tau^{2} \\omega_{3}^{2}} f\\left( 28, t \\right)}{4 \\omega_{3}^{2}} + \\frac{18.0 g \\epsilon e^{-0.5 \\tau^{2} \\omega_{3}^{2}} f\\left( 28, t \\right)}{4 \\omega_{3}} + \\frac{-414.0 g \\epsilon e^{-0.5 \\tau^{2} \\omega_{3}^{2}} f\\left( 19, t \\right)}{4} + \\frac{-414.0 g \\epsilon e^{-0.5 \\tau^{2} \\omega_{3}^{2}} f\\left( 28, t \\right)}{4} + \\frac{-12.0 g \\epsilon \\tau^{2} e^{-0.5 \\tau^{2} \\omega_{3}^{2}} f\\left( 19, t \\right)}{4} + \\frac{-12.0 g \\epsilon \\tau^{2} e^{-0.5 \\tau^{2} \\omega_{3}^{2}} f\\left( 28, t \\right)}{4} \\right) {\\sigma}^{{eg}} + \\left( \\frac{-756.0 g^{2} f\\left( 18, t \\right)}{4} + \\frac{-24.0 g^{2} \\tau^{2} f\\left( 18, t \\right)}{4} + \\frac{2.0 \\epsilon^{2} e^{-2.0 \\tau^{2} \\omega_{3}^{2}} f\\left( 24, t \\right)}{4 \\omega_{3}^{2}} \\right) a a + \\left( \\frac{-36.0 g f\\left( 3, t \\right)}{4} + \\frac{-378.0 g \\omega_{d} f\\left( 13, t \\right)}{4} + \\frac{-756.0 g \\omega_{0} f\\left( 8, t \\right)}{4} + \\frac{378.0 g \\omega_{d} f\\left( 17, t \\right)}{4} + \\frac{-12.0 g \\omega_{d} \\tau^{2} f\\left( 13, t \\right)}{4} + \\frac{12.0 g \\omega_{d} \\tau^{2} f\\left( 17, t \\right)}{4} + \\frac{-24.0 g \\omega_{0} \\tau^{2} f\\left( 8, t \\right)}{4} \\right) a {\\sigma}^{{ge}} + \\left( \\frac{5.0 \\omega_{d} \\epsilon e^{-0.5 \\tau^{2} \\omega_{3}^{2}} f\\left( 14, t \\right)}{4 \\omega_{3}^{2}} + \\frac{5.0 \\omega_{d} \\epsilon e^{-0.5 \\tau^{2} \\omega_{3}^{2}} f\\left( 22, t \\right)}{4 \\omega_{3}^{2}} + \\frac{-9.0 \\omega_{d} \\epsilon e^{-0.5 \\tau^{2} \\omega_{3}^{2}} f\\left( 14, t \\right)}{4 \\omega_{3}} + \\frac{9.0 \\omega_{d} \\epsilon e^{-0.5 \\tau^{2} \\omega_{3}^{2}} f\\left( 22, t \\right)}{4 \\omega_{3}} + \\frac{-10.0 \\omega_{0} \\epsilon e^{-0.5 \\tau^{2} \\omega_{3}^{2}} f\\left( 9, t \\right)}{4 \\omega_{3}^{2}} + \\frac{18.0 \\omega_{0} \\epsilon e^{-0.5 \\tau^{2} \\omega_{3}^{2}} f\\left( 9, t \\right)}{4 \\omega_{3}} + \\frac{-414.0 \\omega_{0} \\epsilon e^{-0.5 \\tau^{2} \\omega_{3}^{2}} f\\left( 9, t \\right)}{4} + \\frac{207.0 \\omega_{d} \\epsilon e^{-0.5 \\tau^{2} \\omega_{3}^{2}} f\\left( 14, t \\right)}{4} + \\frac{207.0 \\omega_{d} \\epsilon e^{-0.5 \\tau^{2} \\omega_{3}^{2}} f\\left( 22, t \\right)}{4} + \\frac{-12.0 \\omega_{0} \\epsilon \\tau^{2} e^{-0.5 \\tau^{2} \\omega_{3}^{2}} f\\left( 9, t \\right)}{4} + \\frac{6.0 \\omega_{d} \\epsilon \\tau^{2} e^{-0.5 \\tau^{2} \\omega_{3}^{2}} f\\left( 14, t \\right)}{4} + \\frac{6.0 \\omega_{d} \\epsilon \\tau^{2} e^{-0.5 \\tau^{2} \\omega_{3}^{2}} f\\left( 22, t \\right)}{4} \\right) a + \\left( \\frac{-756.0 g^{2} f\\left( 18, t \\right)}{4} + \\frac{2.0 \\epsilon^{2} e^{-2.0 \\tau^{2} \\omega_{3}^{2}} f\\left( 30, t \\right)}{4 \\omega_{3}^{2}} + \\frac{-24.0 g^{2} \\tau^{2} f\\left( 18, t \\right)}{4} \\right) a^\\dagger a^\\dagger + \\left( \\frac{-36.0 \\omega_{0} f\\left( 1, t \\right)}{4} + \\frac{-756.0 \\omega_{0}^{2} f\\left( 6, t \\right)}{4} + \\frac{6.0 \\epsilon^{2} f\\left( 25, t \\right)}{4 \\omega_{3}^{2}} + \\frac{18.0 \\epsilon^{2} f\\left( 25, t \\right)}{4 \\omega_{3}} + \\frac{6.0 \\epsilon^{2} f\\left( 29, t \\right)}{4 \\omega_{3}^{2}} + \\frac{-18.0 \\epsilon^{2} f\\left( 29, t \\right)}{4 \\omega_{3}} + \\frac{-1512.0 g^{2} f\\left( 18, t \\right)}{4} + \\frac{378.0 \\omega_{0} \\omega_{d} f\\left( 7, t \\right)}{4} + \\frac{-24.0 \\tau^{2} \\omega_{0}^{2} f\\left( 6, t \\right)}{4} + \\frac{378.0 \\omega_{0} \\omega_{d} f\\left( 11, t \\right)}{4} + \\frac{-48.0 g^{2} \\tau^{2} f\\left( 18, t \\right)}{4} + \\frac{12.0 \\omega_{0} \\omega_{d} \\tau^{2} f\\left( 7, t \\right)}{4} + \\frac{12.0 \\omega_{0} \\omega_{d} \\tau^{2} f\\left( 11, t \\right)}{4} \\right) a^\\dagger a + \\left( \\frac{-10.0 g \\epsilon e^{-0.5 \\tau^{2} \\omega_{3}^{2}} f\\left( 19, t \\right)}{4 \\omega_{3}^{2}} + \\frac{-10.0 g \\epsilon e^{-0.5 \\tau^{2} \\omega_{3}^{2}} f\\left( 28, t \\right)}{4 \\omega_{3}^{2}} + \\frac{18.0 g \\epsilon e^{-0.5 \\tau^{2} \\omega_{3}^{2}} f\\left( 19, t \\right)}{4 \\omega_{3}} + \\frac{-414.0 g \\epsilon e^{-0.5 \\tau^{2} \\omega_{3}^{2}} f\\left( 19, t \\right)}{4} + \\frac{18.0 g \\epsilon e^{-0.5 \\tau^{2} \\omega_{3}^{2}} f\\left( 28, t \\right)}{4 \\omega_{3}} + \\frac{-414.0 g \\epsilon e^{-0.5 \\tau^{2} \\omega_{3}^{2}} f\\left( 28, t \\right)}{4} + \\frac{-12.0 g \\epsilon \\tau^{2} e^{-0.5 \\tau^{2} \\omega_{3}^{2}} f\\left( 19, t \\right)}{4} + \\frac{-12.0 g \\epsilon \\tau^{2} e^{-0.5 \\tau^{2} \\omega_{3}^{2}} f\\left( 28, t \\right)}{4} \\right) {\\sigma}^{{ge}} + \\frac{6.0 \\epsilon^{2} f\\left( 29, t \\right) + 18.0 \\omega_{d} \\omega_{3}^{2} f\\left( 2, t \\right) -189.0 \\omega_{3}^{2} \\omega_{d}^{2} f\\left( 12, t \\right) -756.0 g^{2} \\omega_{3}^{2} f\\left( 18, t \\right) -18.0 \\omega_{3} \\epsilon^{2} f\\left( 29, t \\right)}{4 \\omega_{3}^{2}} + \\frac{-24.0 g^{2} \\tau^{2} f\\left( 18, t \\right)}{4} + \\frac{-756.0 \\omega_{0}^{2} f\\left( 6, t \\right)}{4} a^\\dagger a^\\dagger a a + \\frac{-6.0 \\tau^{2} \\omega_{d}^{2} f\\left( 12, t \\right)}{4} + \\frac{-36.0 \\omega_{d} f\\left( 2, t \\right)}{4} {\\sigma}^{{ee}} + \\frac{-756.0 g \\omega_{0} f\\left( 8, t \\right)}{4} a^\\dagger a a {\\sigma}^{{ge}} + \\frac{-10.0 g \\epsilon e^{-0.5 \\tau^{2} \\omega_{3}^{2}} f\\left( 19, t \\right)}{4 \\omega_{3}^{2}} a a {\\sigma}^{{eg}} + \\frac{-10.0 g \\epsilon e^{-0.5 \\tau^{2} \\omega_{3}^{2}} f\\left( 23, t \\right)}{4 \\omega_{3}^{2}} a a {\\sigma}^{{eg}} + \\frac{-10.0 \\omega_{0} \\epsilon e^{-0.5 \\tau^{2} \\omega_{3}^{2}} f\\left( 10, t \\right)}{4 \\omega_{3}^{2}} a^\\dagger a^\\dagger a + \\frac{-10.0 g \\epsilon e^{-0.5 \\tau^{2} \\omega_{3}^{2}} f\\left( 28, t \\right)}{4 \\omega_{3}^{2}} a^\\dagger a^\\dagger {\\sigma}^{{ge}} + \\frac{-756.0 \\omega_{0} \\omega_{d} f\\left( 11, t \\right)}{4} a^\\dagger a {\\sigma}^{{ee}} + \\frac{-10.0 g \\epsilon e^{-0.5 \\tau^{2} \\omega_{3}^{2}} f\\left( 20, t \\right)}{4 \\omega_{3}^{2}} a^\\dagger a^\\dagger {\\sigma}^{{eg}} + \\frac{-10.0 \\omega_{0} \\epsilon e^{-0.5 \\tau^{2} \\omega_{3}^{2}} f\\left( 9, t \\right)}{4 \\omega_{3}^{2}} a^\\dagger a a + \\frac{-756.0 g \\omega_{0} f\\left( 8, t \\right)}{4} a^\\dagger a a {\\sigma}^{{eg}} + \\frac{-10.0 g \\epsilon e^{-0.5 \\tau^{2} \\omega_{3}^{2}} f\\left( 28, t \\right)}{4 \\omega_{3}^{2}} a^\\dagger a {\\sigma}^{{eg}} + \\frac{-756.0 g \\omega_{0} f\\left( 16, t \\right)}{4} a^\\dagger a^\\dagger a {\\sigma}^{{eg}} + \\frac{-10.0 g \\epsilon e^{-0.5 \\tau^{2} \\omega_{3}^{2}} f\\left( 28, t \\right)}{4 \\omega_{3}^{2}} a^\\dagger a^\\dagger {\\sigma}^{{eg}} + \\frac{-756.0 \\omega_{0} \\omega_{d} f\\left( 7, t \\right)}{4} a^\\dagger a {\\sigma}^{{ee}} + \\frac{-756.0 g \\omega_{0} f\\left( 8, t \\right)}{4} a^\\dagger a^\\dagger a {\\sigma}^{{ge}} + \\frac{-756.0 g \\omega_{0} f\\left( 16, t \\right)}{4} a^\\dagger a a {\\sigma}^{{ge}} + \\frac{-10.0 \\omega_{0} \\epsilon e^{-0.5 \\tau^{2} \\omega_{3}^{2}} f\\left( 21, t \\right)}{4 \\omega_{3}^{2}} a^\\dagger a a + \\frac{-756.0 g \\omega_{0} f\\left( 16, t \\right)}{4} a^\\dagger a^\\dagger a {\\sigma}^{{ge}} + \\frac{-10.0 g \\epsilon e^{-0.5 \\tau^{2} \\omega_{3}^{2}} f\\left( 28, t \\right)}{4 \\omega_{3}^{2}} a^\\dagger a {\\sigma}^{{ge}} + \\frac{-10.0 \\omega_{0} \\epsilon e^{-0.5 \\tau^{2} \\omega_{3}^{2}} f\\left( 26, t \\right)}{4 \\omega_{3}^{2}} a^\\dagger a^\\dagger a + \\frac{-10.0 g \\epsilon e^{-0.5 \\tau^{2} \\omega_{3}^{2}} f\\left( 19, t \\right)}{4 \\omega_{3}^{2}} a^\\dagger a {\\sigma}^{{eg}} + \\frac{-10.0 g \\epsilon e^{-0.5 \\tau^{2} \\omega_{3}^{2}} f\\left( 20, t \\right)}{4 \\omega_{3}^{2}} a^\\dagger a^\\dagger {\\sigma}^{{ge}} + \\frac{-10.0 g \\epsilon e^{-0.5 \\tau^{2} \\omega_{3}^{2}} f\\left( 20, t \\right)}{4 \\omega_{3}^{2}} a^\\dagger a {\\sigma}^{{eg}} + \\frac{-10.0 g \\epsilon e^{-0.5 \\tau^{2} \\omega_{3}^{2}} f\\left( 20, t \\right)}{4 \\omega_{3}^{2}} a^\\dagger a {\\sigma}^{{ge}} + \\frac{-10.0 g \\epsilon e^{-0.5 \\tau^{2} \\omega_{3}^{2}} f\\left( 23, t \\right)}{4 \\omega_{3}^{2}} a^\\dagger a {\\sigma}^{{eg}} + \\frac{-10.0 g \\epsilon e^{-0.5 \\tau^{2} \\omega_{3}^{2}} f\\left( 23, t \\right)}{4 \\omega_{3}^{2}} a^\\dagger a {\\sigma}^{{ge}} + \\frac{-756.0 g \\omega_{0} f\\left( 8, t \\right)}{4} a^\\dagger a^\\dagger a {\\sigma}^{{eg}} + \\frac{-10.0 g \\epsilon e^{-0.5 \\tau^{2} \\omega_{3}^{2}} f\\left( 19, t \\right)}{4 \\omega_{3}^{2}} a^\\dagger a {\\sigma}^{{ge}} + \\frac{-10.0 g \\epsilon e^{-0.5 \\tau^{2} \\omega_{3}^{2}} f\\left( 19, t \\right)}{4 \\omega_{3}^{2}} a a {\\sigma}^{{ge}} + \\frac{-24.0 \\tau^{2} \\omega_{0}^{2} f\\left( 6, t \\right)}{4} a^\\dagger a^\\dagger a a + \\frac{-10.0 g \\epsilon e^{-0.5 \\tau^{2} \\omega_{3}^{2}} f\\left( 23, t \\right)}{4 \\omega_{3}^{2}} a a {\\sigma}^{{ge}} + \\frac{-756.0 g \\omega_{0} f\\left( 16, t \\right)}{4} a^\\dagger a a {\\sigma}^{{eg}} + \\frac{-18.0 g \\epsilon e^{-0.5 \\tau^{2} \\omega_{3}^{2}} f\\left( 23, t \\right)}{4 \\omega_{3}} a^\\dagger a {\\sigma}^{{ge}} + \\frac{18.0 g \\epsilon e^{-0.5 \\tau^{2} \\omega_{3}^{2}} f\\left( 19, t \\right)}{4 \\omega_{3}} a a {\\sigma}^{{eg}} + \\frac{18.0 g \\epsilon e^{-0.5 \\tau^{2} \\omega_{3}^{2}} f\\left( 19, t \\right)}{4 \\omega_{3}} a a {\\sigma}^{{ge}} + \\frac{-18.0 g \\epsilon e^{-0.5 \\tau^{2} \\omega_{3}^{2}} f\\left( 20, t \\right)}{4 \\omega_{3}} a^\\dagger a^\\dagger {\\sigma}^{{eg}} + \\frac{-414.0 g \\epsilon e^{-0.5 \\tau^{2} \\omega_{3}^{2}} f\\left( 28, t \\right)}{4} a^\\dagger a^\\dagger {\\sigma}^{{eg}} + \\frac{-18.0 g \\epsilon e^{-0.5 \\tau^{2} \\omega_{3}^{2}} f\\left( 20, t \\right)}{4 \\omega_{3}} a^\\dagger a^\\dagger {\\sigma}^{{ge}} + \\frac{18.0 g \\epsilon e^{-0.5 \\tau^{2} \\omega_{3}^{2}} f\\left( 28, t \\right)}{4 \\omega_{3}} a^\\dagger a^\\dagger {\\sigma}^{{ge}} + \\frac{18.0 g \\epsilon e^{-0.5 \\tau^{2} \\omega_{3}^{2}} f\\left( 19, t \\right)}{4 \\omega_{3}} a^\\dagger a {\\sigma}^{{ge}} + \\frac{18.0 g \\epsilon e^{-0.5 \\tau^{2} \\omega_{3}^{2}} f\\left( 28, t \\right)}{4 \\omega_{3}} a^\\dagger a {\\sigma}^{{ge}} + \\frac{-414.0 g \\epsilon e^{-0.5 \\tau^{2} \\omega_{3}^{2}} f\\left( 28, t \\right)}{4} a^\\dagger a {\\sigma}^{{ge}} + \\frac{18.0 \\omega_{0} \\epsilon e^{-0.5 \\tau^{2} \\omega_{3}^{2}} f\\left( 26, t \\right)}{4 \\omega_{3}} a^\\dagger a^\\dagger a + \\frac{-24.0 g \\omega_{0} \\tau^{2} f\\left( 8, t \\right)}{4} a^\\dagger a a {\\sigma}^{{eg}} + \\frac{-24.0 g \\omega_{0} \\tau^{2} f\\left( 8, t \\right)}{4} a^\\dagger a a {\\sigma}^{{ge}} + \\frac{-24.0 \\omega_{0} \\omega_{d} \\tau^{2} f\\left( 7, t \\right)}{4} a^\\dagger a {\\sigma}^{{ee}} + \\frac{-414.0 g \\epsilon e^{-0.5 \\tau^{2} \\omega_{3}^{2}} f\\left( 20, t \\right)}{4} a^\\dagger a {\\sigma}^{{eg}} + \\frac{-414.0 g \\epsilon e^{-0.5 \\tau^{2} \\omega_{3}^{2}} f\\left( 23, t \\right)}{4} a^\\dagger a {\\sigma}^{{eg}} + \\frac{-414.0 \\omega_{0} \\epsilon e^{-0.5 \\tau^{2} \\omega_{3}^{2}} f\\left( 10, t \\right)}{4} a^\\dagger a^\\dagger a + \\frac{-18.0 \\omega_{0} \\epsilon e^{-0.5 \\tau^{2} \\omega_{3}^{2}} f\\left( 21, t \\right)}{4 \\omega_{3}} a^\\dagger a a + \\frac{-18.0 g \\epsilon e^{-0.5 \\tau^{2} \\omega_{3}^{2}} f\\left( 23, t \\right)}{4 \\omega_{3}} a a {\\sigma}^{{ge}} + \\frac{-414.0 g \\epsilon e^{-0.5 \\tau^{2} \\omega_{3}^{2}} f\\left( 23, t \\right)}{4} a a {\\sigma}^{{ge}} + \\frac{-414.0 g \\epsilon e^{-0.5 \\tau^{2} \\omega_{3}^{2}} f\\left( 23, t \\right)}{4} a a {\\sigma}^{{eg}} + \\frac{-24.0 g \\omega_{0} \\tau^{2} f\\left( 8, t \\right)}{4} a^\\dagger a^\\dagger a {\\sigma}^{{eg}} + \\frac{18.0 \\omega_{0} \\epsilon e^{-0.5 \\tau^{2} \\omega_{3}^{2}} f\\left( 9, t \\right)}{4 \\omega_{3}} a^\\dagger a a + \\frac{-414.0 g \\epsilon e^{-0.5 \\tau^{2} \\omega_{3}^{2}} f\\left( 19, t \\right)}{4} a^\\dagger a {\\sigma}^{{eg}} + \\frac{-24.0 \\omega_{0} \\omega_{d} \\tau^{2} f\\left( 11, t \\right)}{4} a^\\dagger a {\\sigma}^{{ee}} + \\frac{-414.0 \\omega_{0} \\epsilon e^{-0.5 \\tau^{2} \\omega_{3}^{2}} f\\left( 26, t \\right)}{4} a^\\dagger a^\\dagger a + \\frac{-24.0 g \\omega_{0} \\tau^{2} f\\left( 8, t \\right)}{4} a^\\dagger a^\\dagger a {\\sigma}^{{ge}} + \\frac{18.0 g \\epsilon e^{-0.5 \\tau^{2} \\omega_{3}^{2}} f\\left( 28, t \\right)}{4 \\omega_{3}} a^\\dagger a^\\dagger {\\sigma}^{{eg}} + \\frac{18.0 g \\epsilon e^{-0.5 \\tau^{2} \\omega_{3}^{2}} f\\left( 28, t \\right)}{4 \\omega_{3}} a^\\dagger a {\\sigma}^{{eg}} + \\frac{-414.0 \\omega_{0} \\epsilon e^{-0.5 \\tau^{2} \\omega_{3}^{2}} f\\left( 21, t \\right)}{4} a^\\dagger a a + \\frac{-414.0 g \\epsilon e^{-0.5 \\tau^{2} \\omega_{3}^{2}} f\\left( 23, t \\right)}{4} a^\\dagger a {\\sigma}^{{ge}} + \\frac{-414.0 g \\epsilon e^{-0.5 \\tau^{2} \\omega_{3}^{2}} f\\left( 28, t \\right)}{4} a^\\dagger a^\\dagger {\\sigma}^{{ge}} + \\frac{-24.0 g \\omega_{0} \\tau^{2} f\\left( 16, t \\right)}{4} a^\\dagger a a {\\sigma}^{{eg}} + \\frac{-414.0 \\omega_{0} \\epsilon e^{-0.5 \\tau^{2} \\omega_{3}^{2}} f\\left( 9, t \\right)}{4} a^\\dagger a a + \\frac{-414.0 g \\epsilon e^{-0.5 \\tau^{2} \\omega_{3}^{2}} f\\left( 28, t \\right)}{4} a^\\dagger a {\\sigma}^{{eg}} + \\frac{-18.0 \\omega_{0} \\epsilon e^{-0.5 \\tau^{2} \\omega_{3}^{2}} f\\left( 10, t \\right)}{4 \\omega_{3}} a^\\dagger a^\\dagger a + \\frac{-24.0 g \\omega_{0} \\tau^{2} f\\left( 16, t \\right)}{4} a^\\dagger a^\\dagger a {\\sigma}^{{ge}} + \\frac{-414.0 g \\epsilon e^{-0.5 \\tau^{2} \\omega_{3}^{2}} f\\left( 20, t \\right)}{4} a^\\dagger a^\\dagger {\\sigma}^{{ge}} + \\frac{-18.0 g \\epsilon e^{-0.5 \\tau^{2} \\omega_{3}^{2}} f\\left( 20, t \\right)}{4 \\omega_{3}} a^\\dagger a {\\sigma}^{{ge}} + \\frac{-18.0 g \\epsilon e^{-0.5 \\tau^{2} \\omega_{3}^{2}} f\\left( 23, t \\right)}{4 \\omega_{3}} a a {\\sigma}^{{eg}} + \\frac{-414.0 g \\epsilon e^{-0.5 \\tau^{2} \\omega_{3}^{2}} f\\left( 19, t \\right)}{4} a^\\dagger a {\\sigma}^{{ge}} + \\frac{-414.0 g \\epsilon e^{-0.5 \\tau^{2} \\omega_{3}^{2}} f\\left( 19, t \\right)}{4} a a {\\sigma}^{{eg}} + \\frac{-414.0 g \\epsilon e^{-0.5 \\tau^{2} \\omega_{3}^{2}} f\\left( 20, t \\right)}{4} a^\\dagger a^\\dagger {\\sigma}^{{eg}} + \\frac{-414.0 g \\epsilon e^{-0.5 \\tau^{2} \\omega_{3}^{2}} f\\left( 20, t \\right)}{4} a^\\dagger a {\\sigma}^{{ge}} + \\frac{-414.0 g \\epsilon e^{-0.5 \\tau^{2} \\omega_{3}^{2}} f\\left( 19, t \\right)}{4} a a {\\sigma}^{{ge}} + \\frac{-24.0 g \\omega_{0} \\tau^{2} f\\left( 16, t \\right)}{4} a^\\dagger a^\\dagger a {\\sigma}^{{eg}} + \\frac{-18.0 g \\epsilon e^{-0.5 \\tau^{2} \\omega_{3}^{2}} f\\left( 23, t \\right)}{4 \\omega_{3}} a^\\dagger a {\\sigma}^{{eg}} + \\frac{-24.0 g \\omega_{0} \\tau^{2} f\\left( 16, t \\right)}{4} a^\\dagger a a {\\sigma}^{{ge}} + \\frac{18.0 g \\epsilon e^{-0.5 \\tau^{2} \\omega_{3}^{2}} f\\left( 19, t \\right)}{4 \\omega_{3}} a^\\dagger a {\\sigma}^{{eg}} + \\frac{-18.0 g \\epsilon e^{-0.5 \\tau^{2} \\omega_{3}^{2}} f\\left( 20, t \\right)}{4 \\omega_{3}} a^\\dagger a {\\sigma}^{{eg}} + \\frac{-12.0 \\omega_{0} \\epsilon \\tau^{2} e^{-0.5 \\tau^{2} \\omega_{3}^{2}} f\\left( 9, t \\right)}{4} a^\\dagger a a + \\frac{-12.0 g \\epsilon \\tau^{2} e^{-0.5 \\tau^{2} \\omega_{3}^{2}} f\\left( 20, t \\right)}{4} a^\\dagger a {\\sigma}^{{eg}} + \\frac{-12.0 g \\epsilon \\tau^{2} e^{-0.5 \\tau^{2} \\omega_{3}^{2}} f\\left( 23, t \\right)}{4} a^\\dagger a {\\sigma}^{{eg}} + \\frac{-12.0 g \\epsilon \\tau^{2} e^{-0.5 \\tau^{2} \\omega_{3}^{2}} f\\left( 19, t \\right)}{4} a^\\dagger a {\\sigma}^{{ge}} + \\frac{-12.0 g \\epsilon \\tau^{2} e^{-0.5 \\tau^{2} \\omega_{3}^{2}} f\\left( 23, t \\right)}{4} a a {\\sigma}^{{ge}} + \\frac{-12.0 \\omega_{0} \\epsilon \\tau^{2} e^{-0.5 \\tau^{2} \\omega_{3}^{2}} f\\left( 26, t \\right)}{4} a^\\dagger a^\\dagger a + \\frac{-12.0 g \\epsilon \\tau^{2} e^{-0.5 \\tau^{2} \\omega_{3}^{2}} f\\left( 23, t \\right)}{4} a^\\dagger a {\\sigma}^{{ge}} + \\frac{-12.0 g \\epsilon \\tau^{2} e^{-0.5 \\tau^{2} \\omega_{3}^{2}} f\\left( 28, t \\right)}{4} a^\\dagger a {\\sigma}^{{eg}} + \\frac{-12.0 g \\epsilon \\tau^{2} e^{-0.5 \\tau^{2} \\omega_{3}^{2}} f\\left( 23, t \\right)}{4} a a {\\sigma}^{{eg}} + \\frac{-12.0 g \\epsilon \\tau^{2} e^{-0.5 \\tau^{2} \\omega_{3}^{2}} f\\left( 28, t \\right)}{4} a^\\dagger a^\\dagger {\\sigma}^{{eg}} + \\frac{-12.0 g \\epsilon \\tau^{2} e^{-0.5 \\tau^{2} \\omega_{3}^{2}} f\\left( 28, t \\right)}{4} a^\\dagger a^\\dagger {\\sigma}^{{ge}} + \\frac{-12.0 g \\epsilon \\tau^{2} e^{-0.5 \\tau^{2} \\omega_{3}^{2}} f\\left( 28, t \\right)}{4} a^\\dagger a {\\sigma}^{{ge}} + \\frac{-12.0 \\omega_{0} \\epsilon \\tau^{2} e^{-0.5 \\tau^{2} \\omega_{3}^{2}} f\\left( 10, t \\right)}{4} a^\\dagger a^\\dagger a + \\frac{-12.0 g \\epsilon \\tau^{2} e^{-0.5 \\tau^{2} \\omega_{3}^{2}} f\\left( 20, t \\right)}{4} a^\\dagger a^\\dagger {\\sigma}^{{eg}} + \\frac{-12.0 g \\epsilon \\tau^{2} e^{-0.5 \\tau^{2} \\omega_{3}^{2}} f\\left( 20, t \\right)}{4} a^\\dagger a^\\dagger {\\sigma}^{{ge}} + \\frac{-12.0 g \\epsilon \\tau^{2} e^{-0.5 \\tau^{2} \\omega_{3}^{2}} f\\left( 19, t \\right)}{4} a a {\\sigma}^{{eg}} + \\frac{-12.0 g \\epsilon \\tau^{2} e^{-0.5 \\tau^{2} \\omega_{3}^{2}} f\\left( 19, t \\right)}{4} a a {\\sigma}^{{ge}} + \\frac{-12.0 g \\epsilon \\tau^{2} e^{-0.5 \\tau^{2} \\omega_{3}^{2}} f\\left( 20, t \\right)}{4} a^\\dagger a {\\sigma}^{{ge}} + \\frac{-12.0 \\omega_{0} \\epsilon \\tau^{2} e^{-0.5 \\tau^{2} \\omega_{3}^{2}} f\\left( 21, t \\right)}{4} a^\\dagger a a + \\frac{-12.0 g \\epsilon \\tau^{2} e^{-0.5 \\tau^{2} \\omega_{3}^{2}} f\\left( 19, t \\right)}{4} a^\\dagger a {\\sigma}^{{eg}}$"
      ],
      "text/plain": [
       "((-10.0ω_d*ϵ*exp(-0.5(τ^2)*(ω_3^2))*f(14, t)) / (4(ω_3^2)) + (-10.0ω_d*ϵ*exp(-0.5(τ^2)*(ω_3^2))*f(22, t)) / (4(ω_3^2)) + (18.0ω_d*ϵ*exp(-0.5(τ^2)*(ω_3^2))*f(14, t)) / (4ω_3) + (-414.0ω_d*ϵ*exp(-0.5(τ^2)*(ω_3^2))*f(14, t)) / 4 + (-18.0ω_d*ϵ*exp(-0.5(τ^2)*(ω_3^2))*f(22, t)) / (4ω_3) + (-414.0ω_d*ϵ*exp(-0.5(τ^2)*(ω_3^2))*f(22, t)) / 4 + (-12.0ω_d*ϵ*(τ^2)*exp(-0.5(τ^2)*(ω_3^2))*f(14, t)) / 4 + (-12.0ω_d*ϵ*(τ^2)*exp(-0.5(τ^2)*(ω_3^2))*f(22, t)) / 4*(a*σee)+(-10.0ω_d*ϵ*exp(-0.5(τ^2)*(ω_3^2))*f(15, t)) / (4(ω_3^2)) + (-10.0ω_d*ϵ*exp(-0.5(τ^2)*(ω_3^2))*f(27, t)) / (4(ω_3^2)) + (-18.0ω_d*ϵ*exp(-0.5(τ^2)*(ω_3^2))*f(15, t)) / (4ω_3) + (18.0ω_d*ϵ*exp(-0.5(τ^2)*(ω_3^2))*f(27, t)) / (4ω_3) + (-414.0ω_d*ϵ*exp(-0.5(τ^2)*(ω_3^2))*f(15, t)) / 4 + (-414.0ω_d*ϵ*exp(-0.5(τ^2)*(ω_3^2))*f(27, t)) / 4 + (-12.0ω_d*ϵ*(τ^2)*exp(-0.5(τ^2)*(ω_3^2))*f(15, t)) / 4 + (-12.0ω_d*ϵ*(τ^2)*exp(-0.5(τ^2)*(ω_3^2))*f(27, t)) / 4*(a′*σee)+(-36.0g*f(3, t)) / 4 + (378.0g*ω_d*f(13, t)) / 4 + (-378.0g*ω_d*f(17, t)) / 4 + (-756.0g*ω_0*f(8, t)) / 4 + (12.0g*ω_d*(τ^2)*f(13, t)) / 4 + (-12.0g*ω_d*(τ^2)*f(17, t)) / 4 + (-24.0g*ω_0*(τ^2)*f(8, t)) / 4*(a*σeg)+(5.0ω_d*ϵ*exp(-0.5(τ^2)*(ω_3^2))*f(15, t)) / (4(ω_3^2)) + (-10.0ω_0*ϵ*exp(-0.5(τ^2)*(ω_3^2))*f(26, t)) / (4(ω_3^2)) + (5.0ω_d*ϵ*exp(-0.5(τ^2)*(ω_3^2))*f(27, t)) / (4(ω_3^2)) + (9.0ω_d*ϵ*exp(-0.5(τ^2)*(ω_3^2))*f(15, t)) / (4ω_3) + (207.0ω_d*ϵ*exp(-0.5(τ^2)*(ω_3^2))*f(15, t)) / 4 + (18.0ω_0*ϵ*exp(-0.5(τ^2)*(ω_3^2))*f(26, t)) / (4ω_3) + (-414.0ω_0*ϵ*exp(-0.5(τ^2)*(ω_3^2))*f(26, t)) / 4 + (-9.0ω_d*ϵ*exp(-0.5(τ^2)*(ω_3^2))*f(27, t)) / (4ω_3) + (207.0ω_d*ϵ*exp(-0.5(τ^2)*(ω_3^2))*f(27, t)) / 4 + (-12.0ω_0*ϵ*(τ^2)*exp(-0.5(τ^2)*(ω_3^2))*f(26, t)) / 4 + (6.0ω_d*ϵ*(τ^2)*exp(-0.5(τ^2)*(ω_3^2))*f(15, t)) / 4 + (6.0ω_d*ϵ*(τ^2)*exp(-0.5(τ^2)*(ω_3^2))*f(27, t)) / 4*(a′)+(-36.0g*f(3, t)) / 4 + (-756.0g*ω_0*f(16, t)) / 4 + (378.0g*ω_d*f(13, t)) / 4 + (-378.0g*ω_d*f(17, t)) / 4 + (12.0g*ω_d*(τ^2)*f(13, t)) / 4 + (-24.0g*ω_0*(τ^2)*f(16, t)) / 4 + (-12.0g*ω_d*(τ^2)*f(17, t)) / 4*(a′*σeg)+(-36.0g*f(3, t)) / 4 + (-378.0g*ω_d*f(13, t)) / 4 + (-756.0g*ω_0*f(16, t)) / 4 + (378.0g*ω_d*f(17, t)) / 4 + (-12.0g*ω_d*(τ^2)*f(13, t)) / 4 + (-24.0g*ω_0*(τ^2)*f(16, t)) / 4 + (12.0g*ω_d*(τ^2)*f(17, t)) / 4*(a′*σge)+(-10.0g*ϵ*exp(-0.5(τ^2)*(ω_3^2))*f(19, t)) / (4(ω_3^2)) + (18.0g*ϵ*exp(-0.5(τ^2)*(ω_3^2))*f(19, t)) / (4ω_3) + (-10.0g*ϵ*exp(-0.5(τ^2)*(ω_3^2))*f(28, t)) / (4(ω_3^2)) + (18.0g*ϵ*exp(-0.5(τ^2)*(ω_3^2))*f(28, t)) / (4ω_3) + (-414.0g*ϵ*exp(-0.5(τ^2)*(ω_3^2))*f(19, t)) / 4 + (-414.0g*ϵ*exp(-0.5(τ^2)*(ω_3^2))*f(28, t)) / 4 + (-12.0g*ϵ*(τ^2)*exp(-0.5(τ^2)*(ω_3^2))*f(19, t)) / 4 + (-12.0g*ϵ*(τ^2)*exp(-0.5(τ^2)*(ω_3^2))*f(28, t)) / 4*(σeg)+(-756.0(g^2)*f(18, t)) / 4 + (-24.0(g^2)*(τ^2)*f(18, t)) / 4 + (2.0(ϵ^2)*exp(-2.0(τ^2)*(ω_3^2))*f(24, t)) / (4(ω_3^2))*(a*a)+(-36.0g*f(3, t)) / 4 + (-378.0g*ω_d*f(13, t)) / 4 + (-756.0g*ω_0*f(8, t)) / 4 + (378.0g*ω_d*f(17, t)) / 4 + (-12.0g*ω_d*(τ^2)*f(13, t)) / 4 + (12.0g*ω_d*(τ^2)*f(17, t)) / 4 + (-24.0g*ω_0*(τ^2)*f(8, t)) / 4*(a*σge)+(5.0ω_d*ϵ*exp(-0.5(τ^2)*(ω_3^2))*f(14, t)) / (4(ω_3^2)) + (5.0ω_d*ϵ*exp(-0.5(τ^2)*(ω_3^2))*f(22, t)) / (4(ω_3^2)) + (-9.0ω_d*ϵ*exp(-0.5(τ^2)*(ω_3^2))*f(14, t)) / (4ω_3) + (9.0ω_d*ϵ*exp(-0.5(τ^2)*(ω_3^2))*f(22, t)) / (4ω_3) + (-10.0ω_0*ϵ*exp(-0.5(τ^2)*(ω_3^2))*f(9, t)) / (4(ω_3^2)) + (18.0ω_0*ϵ*exp(-0.5(τ^2)*(ω_3^2))*f(9, t)) / (4ω_3) + (-414.0ω_0*ϵ*exp(-0.5(τ^2)*(ω_3^2))*f(9, t)) / 4 + (207.0ω_d*ϵ*exp(-0.5(τ^2)*(ω_3^2))*f(14, t)) / 4 + (207.0ω_d*ϵ*exp(-0.5(τ^2)*(ω_3^2))*f(22, t)) / 4 + (-12.0ω_0*ϵ*(τ^2)*exp(-0.5(τ^2)*(ω_3^2))*f(9, t)) / 4 + (6.0ω_d*ϵ*(τ^2)*exp(-0.5(τ^2)*(ω_3^2))*f(14, t)) / 4 + (6.0ω_d*ϵ*(τ^2)*exp(-0.5(τ^2)*(ω_3^2))*f(22, t)) / 4*(a)+(-756.0(g^2)*f(18, t)) / 4 + (2.0(ϵ^2)*exp(-2.0(τ^2)*(ω_3^2))*f(30, t)) / (4(ω_3^2)) + (-24.0(g^2)*(τ^2)*f(18, t)) / 4*(a′*a′)+(-36.0ω_0*f(1, t)) / 4 + (-756.0(ω_0^2)*f(6, t)) / 4 + (6.0(ϵ^2)*f(25, t)) / (4(ω_3^2)) + (18.0(ϵ^2)*f(25, t)) / (4ω_3) + (6.0(ϵ^2)*f(29, t)) / (4(ω_3^2)) + (-18.0(ϵ^2)*f(29, t)) / (4ω_3) + (-1512.0(g^2)*f(18, t)) / 4 + (378.0ω_0*ω_d*f(7, t)) / 4 + (-24.0(τ^2)*(ω_0^2)*f(6, t)) / 4 + (378.0ω_0*ω_d*f(11, t)) / 4 + (-48.0(g^2)*(τ^2)*f(18, t)) / 4 + (12.0ω_0*ω_d*(τ^2)*f(7, t)) / 4 + (12.0ω_0*ω_d*(τ^2)*f(11, t)) / 4*(a′*a)+(-10.0g*ϵ*exp(-0.5(τ^2)*(ω_3^2))*f(19, t)) / (4(ω_3^2)) + (-10.0g*ϵ*exp(-0.5(τ^2)*(ω_3^2))*f(28, t)) / (4(ω_3^2)) + (18.0g*ϵ*exp(-0.5(τ^2)*(ω_3^2))*f(19, t)) / (4ω_3) + (-414.0g*ϵ*exp(-0.5(τ^2)*(ω_3^2))*f(19, t)) / 4 + (18.0g*ϵ*exp(-0.5(τ^2)*(ω_3^2))*f(28, t)) / (4ω_3) + (-414.0g*ϵ*exp(-0.5(τ^2)*(ω_3^2))*f(28, t)) / 4 + (-12.0g*ϵ*(τ^2)*exp(-0.5(τ^2)*(ω_3^2))*f(19, t)) / 4 + (-12.0g*ϵ*(τ^2)*exp(-0.5(τ^2)*(ω_3^2))*f(28, t)) / 4*(σge)+(6.0(ϵ^2)*f(29, t) + 18.0ω_d*(ω_3^2)*f(2, t) - 189.0(ω_3^2)*(ω_d^2)*f(12, t) - 756.0(g^2)*(ω_3^2)*f(18, t) - 18.0ω_3*(ϵ^2)*f(29, t)) / (4(ω_3^2))+(-24.0(g^2)*(τ^2)*f(18, t)) / 4+(-756.0(ω_0^2)*f(6, t)) / 4*(a′*a′*a*a)+(-6.0(τ^2)*(ω_d^2)*f(12, t)) / 4+(-36.0ω_d*f(2, t)) / 4*(σee)+(-756.0g*ω_0*f(8, t)) / 4*(a′*a*a*σge)+(-10.0g*ϵ*exp(-0.5(τ^2)*(ω_3^2))*f(19, t)) / (4(ω_3^2))*(a*a*σeg)+(-10.0g*ϵ*exp(-0.5(τ^2)*(ω_3^2))*f(23, t)) / (4(ω_3^2))*(a*a*σeg)+(-10.0ω_0*ϵ*exp(-0.5(τ^2)*(ω_3^2))*f(10, t)) / (4(ω_3^2))*(a′*a′*a)+(-10.0g*ϵ*exp(-0.5(τ^2)*(ω_3^2))*f(28, t)) / (4(ω_3^2))*(a′*a′*σge)+(-756.0ω_0*ω_d*f(11, t)) / 4*(a′*a*σee)+(-10.0g*ϵ*exp(-0.5(τ^2)*(ω_3^2))*f(20, t)) / (4(ω_3^2))*(a′*a′*σeg)+(-10.0ω_0*ϵ*exp(-0.5(τ^2)*(ω_3^2))*f(9, t)) / (4(ω_3^2))*(a′*a*a)+(-756.0g*ω_0*f(8, t)) / 4*(a′*a*a*σeg)+(-10.0g*ϵ*exp(-0.5(τ^2)*(ω_3^2))*f(28, t)) / (4(ω_3^2))*(a′*a*σeg)+(-756.0g*ω_0*f(16, t)) / 4*(a′*a′*a*σeg)+(-10.0g*ϵ*exp(-0.5(τ^2)*(ω_3^2))*f(28, t)) / (4(ω_3^2))*(a′*a′*σeg)+(-756.0ω_0*ω_d*f(7, t)) / 4*(a′*a*σee)+(-756.0g*ω_0*f(8, t)) / 4*(a′*a′*a*σge)+(-756.0g*ω_0*f(16, t)) / 4*(a′*a*a*σge)+(-10.0ω_0*ϵ*exp(-0.5(τ^2)*(ω_3^2))*f(21, t)) / (4(ω_3^2))*(a′*a*a)+(-756.0g*ω_0*f(16, t)) / 4*(a′*a′*a*σge)+(-10.0g*ϵ*exp(-0.5(τ^2)*(ω_3^2))*f(28, t)) / (4(ω_3^2))*(a′*a*σge)+(-10.0ω_0*ϵ*exp(-0.5(τ^2)*(ω_3^2))*f(26, t)) / (4(ω_3^2))*(a′*a′*a)+(-10.0g*ϵ*exp(-0.5(τ^2)*(ω_3^2))*f(19, t)) / (4(ω_3^2))*(a′*a*σeg)+(-10.0g*ϵ*exp(-0.5(τ^2)*(ω_3^2))*f(20, t)) / (4(ω_3^2))*(a′*a′*σge)+(-10.0g*ϵ*exp(-0.5(τ^2)*(ω_3^2))*f(20, t)) / (4(ω_3^2))*(a′*a*σeg)+(-10.0g*ϵ*exp(-0.5(τ^2)*(ω_3^2))*f(20, t)) / (4(ω_3^2))*(a′*a*σge)+(-10.0g*ϵ*exp(-0.5(τ^2)*(ω_3^2))*f(23, t)) / (4(ω_3^2))*(a′*a*σeg)+(-10.0g*ϵ*exp(-0.5(τ^2)*(ω_3^2))*f(23, t)) / (4(ω_3^2))*(a′*a*σge)+(-756.0g*ω_0*f(8, t)) / 4*(a′*a′*a*σeg)+(-10.0g*ϵ*exp(-0.5(τ^2)*(ω_3^2))*f(19, t)) / (4(ω_3^2))*(a′*a*σge)+(-10.0g*ϵ*exp(-0.5(τ^2)*(ω_3^2))*f(19, t)) / (4(ω_3^2))*(a*a*σge)+(-24.0(τ^2)*(ω_0^2)*f(6, t)) / 4*(a′*a′*a*a)+(-10.0g*ϵ*exp(-0.5(τ^2)*(ω_3^2))*f(23, t)) / (4(ω_3^2))*(a*a*σge)+(-756.0g*ω_0*f(16, t)) / 4*(a′*a*a*σeg)+(-18.0g*ϵ*exp(-0.5(τ^2)*(ω_3^2))*f(23, t)) / (4ω_3)*(a′*a*σge)+(18.0g*ϵ*exp(-0.5(τ^2)*(ω_3^2))*f(19, t)) / (4ω_3)*(a*a*σeg)+(18.0g*ϵ*exp(-0.5(τ^2)*(ω_3^2))*f(19, t)) / (4ω_3)*(a*a*σge)+(-18.0g*ϵ*exp(-0.5(τ^2)*(ω_3^2))*f(20, t)) / (4ω_3)*(a′*a′*σeg)+(-414.0g*ϵ*exp(-0.5(τ^2)*(ω_3^2))*f(28, t)) / 4*(a′*a′*σeg)+(-18.0g*ϵ*exp(-0.5(τ^2)*(ω_3^2))*f(20, t)) / (4ω_3)*(a′*a′*σge)+(18.0g*ϵ*exp(-0.5(τ^2)*(ω_3^2))*f(28, t)) / (4ω_3)*(a′*a′*σge)+(18.0g*ϵ*exp(-0.5(τ^2)*(ω_3^2))*f(19, t)) / (4ω_3)*(a′*a*σge)+(18.0g*ϵ*exp(-0.5(τ^2)*(ω_3^2))*f(28, t)) / (4ω_3)*(a′*a*σge)+(-414.0g*ϵ*exp(-0.5(τ^2)*(ω_3^2))*f(28, t)) / 4*(a′*a*σge)+(18.0ω_0*ϵ*exp(-0.5(τ^2)*(ω_3^2))*f(26, t)) / (4ω_3)*(a′*a′*a)+(-24.0g*ω_0*(τ^2)*f(8, t)) / 4*(a′*a*a*σeg)+(-24.0g*ω_0*(τ^2)*f(8, t)) / 4*(a′*a*a*σge)+(-24.0ω_0*ω_d*(τ^2)*f(7, t)) / 4*(a′*a*σee)+(-414.0g*ϵ*exp(-0.5(τ^2)*(ω_3^2))*f(20, t)) / 4*(a′*a*σeg)+(-414.0g*ϵ*exp(-0.5(τ^2)*(ω_3^2))*f(23, t)) / 4*(a′*a*σeg)+(-414.0ω_0*ϵ*exp(-0.5(τ^2)*(ω_3^2))*f(10, t)) / 4*(a′*a′*a)+(-18.0ω_0*ϵ*exp(-0.5(τ^2)*(ω_3^2))*f(21, t)) / (4ω_3)*(a′*a*a)+(-18.0g*ϵ*exp(-0.5(τ^2)*(ω_3^2))*f(23, t)) / (4ω_3)*(a*a*σge)+(-414.0g*ϵ*exp(-0.5(τ^2)*(ω_3^2))*f(23, t)) / 4*(a*a*σge)+(-414.0g*ϵ*exp(-0.5(τ^2)*(ω_3^2))*f(23, t)) / 4*(a*a*σeg)+(-24.0g*ω_0*(τ^2)*f(8, t)) / 4*(a′*a′*a*σeg)+(18.0ω_0*ϵ*exp(-0.5(τ^2)*(ω_3^2))*f(9, t)) / (4ω_3)*(a′*a*a)+(-414.0g*ϵ*exp(-0.5(τ^2)*(ω_3^2))*f(19, t)) / 4*(a′*a*σeg)+(-24.0ω_0*ω_d*(τ^2)*f(11, t)) / 4*(a′*a*σee)+(-414.0ω_0*ϵ*exp(-0.5(τ^2)*(ω_3^2))*f(26, t)) / 4*(a′*a′*a)+(-24.0g*ω_0*(τ^2)*f(8, t)) / 4*(a′*a′*a*σge)+(18.0g*ϵ*exp(-0.5(τ^2)*(ω_3^2))*f(28, t)) / (4ω_3)*(a′*a′*σeg)+(18.0g*ϵ*exp(-0.5(τ^2)*(ω_3^2))*f(28, t)) / (4ω_3)*(a′*a*σeg)+(-414.0ω_0*ϵ*exp(-0.5(τ^2)*(ω_3^2))*f(21, t)) / 4*(a′*a*a)+(-414.0g*ϵ*exp(-0.5(τ^2)*(ω_3^2))*f(23, t)) / 4*(a′*a*σge)+(-414.0g*ϵ*exp(-0.5(τ^2)*(ω_3^2))*f(28, t)) / 4*(a′*a′*σge)+(-24.0g*ω_0*(τ^2)*f(16, t)) / 4*(a′*a*a*σeg)+(-414.0ω_0*ϵ*exp(-0.5(τ^2)*(ω_3^2))*f(9, t)) / 4*(a′*a*a)+(-414.0g*ϵ*exp(-0.5(τ^2)*(ω_3^2))*f(28, t)) / 4*(a′*a*σeg)+(-18.0ω_0*ϵ*exp(-0.5(τ^2)*(ω_3^2))*f(10, t)) / (4ω_3)*(a′*a′*a)+(-24.0g*ω_0*(τ^2)*f(16, t)) / 4*(a′*a′*a*σge)+(-414.0g*ϵ*exp(-0.5(τ^2)*(ω_3^2))*f(20, t)) / 4*(a′*a′*σge)+(-18.0g*ϵ*exp(-0.5(τ^2)*(ω_3^2))*f(20, t)) / (4ω_3)*(a′*a*σge)+(-18.0g*ϵ*exp(-0.5(τ^2)*(ω_3^2))*f(23, t)) / (4ω_3)*(a*a*σeg)+(-414.0g*ϵ*exp(-0.5(τ^2)*(ω_3^2))*f(19, t)) / 4*(a′*a*σge)+(-414.0g*ϵ*exp(-0.5(τ^2)*(ω_3^2))*f(19, t)) / 4*(a*a*σeg)+(-414.0g*ϵ*exp(-0.5(τ^2)*(ω_3^2))*f(20, t)) / 4*(a′*a′*σeg)+(-414.0g*ϵ*exp(-0.5(τ^2)*(ω_3^2))*f(20, t)) / 4*(a′*a*σge)+(-414.0g*ϵ*exp(-0.5(τ^2)*(ω_3^2))*f(19, t)) / 4*(a*a*σge)+(-24.0g*ω_0*(τ^2)*f(16, t)) / 4*(a′*a′*a*σeg)+(-18.0g*ϵ*exp(-0.5(τ^2)*(ω_3^2))*f(23, t)) / (4ω_3)*(a′*a*σeg)+(-24.0g*ω_0*(τ^2)*f(16, t)) / 4*(a′*a*a*σge)+(18.0g*ϵ*exp(-0.5(τ^2)*(ω_3^2))*f(19, t)) / (4ω_3)*(a′*a*σeg)+(-18.0g*ϵ*exp(-0.5(τ^2)*(ω_3^2))*f(20, t)) / (4ω_3)*(a′*a*σeg)+(-12.0ω_0*ϵ*(τ^2)*exp(-0.5(τ^2)*(ω_3^2))*f(9, t)) / 4*(a′*a*a)+(-12.0g*ϵ*(τ^2)*exp(-0.5(τ^2)*(ω_3^2))*f(20, t)) / 4*(a′*a*σeg)+(-12.0g*ϵ*(τ^2)*exp(-0.5(τ^2)*(ω_3^2))*f(23, t)) / 4*(a′*a*σeg)+(-12.0g*ϵ*(τ^2)*exp(-0.5(τ^2)*(ω_3^2))*f(19, t)) / 4*(a′*a*σge)+(-12.0g*ϵ*(τ^2)*exp(-0.5(τ^2)*(ω_3^2))*f(23, t)) / 4*(a*a*σge)+(-12.0ω_0*ϵ*(τ^2)*exp(-0.5(τ^2)*(ω_3^2))*f(26, t)) / 4*(a′*a′*a)+(-12.0g*ϵ*(τ^2)*exp(-0.5(τ^2)*(ω_3^2))*f(23, t)) / 4*(a′*a*σge)+(-12.0g*ϵ*(τ^2)*exp(-0.5(τ^2)*(ω_3^2))*f(28, t)) / 4*(a′*a*σeg)+(-12.0g*ϵ*(τ^2)*exp(-0.5(τ^2)*(ω_3^2))*f(23, t)) / 4*(a*a*σeg)+(-12.0g*ϵ*(τ^2)*exp(-0.5(τ^2)*(ω_3^2))*f(28, t)) / 4*(a′*a′*σeg)+(-12.0g*ϵ*(τ^2)*exp(-0.5(τ^2)*(ω_3^2))*f(28, t)) / 4*(a′*a′*σge)+(-12.0g*ϵ*(τ^2)*exp(-0.5(τ^2)*(ω_3^2))*f(28, t)) / 4*(a′*a*σge)+(-12.0ω_0*ϵ*(τ^2)*exp(-0.5(τ^2)*(ω_3^2))*f(10, t)) / 4*(a′*a′*a)+(-12.0g*ϵ*(τ^2)*exp(-0.5(τ^2)*(ω_3^2))*f(20, t)) / 4*(a′*a′*σeg)+(-12.0g*ϵ*(τ^2)*exp(-0.5(τ^2)*(ω_3^2))*f(20, t)) / 4*(a′*a′*σge)+(-12.0g*ϵ*(τ^2)*exp(-0.5(τ^2)*(ω_3^2))*f(19, t)) / 4*(a*a*σeg)+(-12.0g*ϵ*(τ^2)*exp(-0.5(τ^2)*(ω_3^2))*f(19, t)) / 4*(a*a*σge)+(-12.0g*ϵ*(τ^2)*exp(-0.5(τ^2)*(ω_3^2))*f(20, t)) / 4*(a′*a*σge)+(-12.0ω_0*ϵ*(τ^2)*exp(-0.5(τ^2)*(ω_3^2))*f(21, t)) / 4*(a′*a*a)+(-12.0g*ϵ*(τ^2)*exp(-0.5(τ^2)*(ω_3^2))*f(19, t)) / 4*(a′*a*σeg))"
      ]
     },
     "metadata": {},
     "output_type": "display_data"
    }
   ],
   "source": [
    "\n",
    "H_eff = simplify(h_eff)\n",
    "secondOrderRule = @acrule((~a)*(~y)*(~z) + (~b)*(~y)*(~z) => ((~a)+(~b))*(~y)*(~z))\n",
    "firstOrderRule = @acrule((~a)*(~y) + (~b)*(~y) => ((~a)+(~b))*(~y))\n",
    "rules = Chain([firstOrderRule,secondOrderRule])\n",
    "H1 = Fixpoint(rules)(H_eff)"
   ]
  },
  {
   "cell_type": "code",
   "execution_count": null,
   "metadata": {},
   "outputs": [],
   "source": []
  },
  {
   "cell_type": "code",
   "execution_count": 27,
   "metadata": {},
   "outputs": [
    {
     "ename": "DivideError",
     "evalue": "DivideError: integer division error",
     "output_type": "error",
     "traceback": [
      "DivideError: integer division error\n",
      "\n",
      "Stacktrace:\n",
      "  [1] rem\n",
      "    @ ./int.jl:285 [inlined]\n",
      "  [2] ratio(x::Int64, y::Int64)\n",
      "    @ SymbolicUtils ~/.julia/packages/SymbolicUtils/qulQp/src/types.jl:918\n",
      "  [3] (SymbolicUtils.Div{CNumber})(n::SymbolicUtils.Mul{CNumber, Int64, Dict{Any, Number}, Nothing}, d::SymbolicUtils.Mul{CNumber, Int64, Dict{Any, Number}, Nothing}, simplified::Bool; metadata::Nothing)\n",
      "    @ SymbolicUtils ~/.julia/packages/SymbolicUtils/qulQp/src/types.jl:950\n",
      "  [4] Div\n",
      "    @ ~/.julia/packages/SymbolicUtils/qulQp/src/types.jl:927 [inlined]\n",
      "  [5] #Div#50\n",
      "    @ ~/.julia/packages/SymbolicUtils/qulQp/src/types.jl:960 [inlined]\n",
      "  [6] Div (repeats 2 times)\n",
      "    @ ~/.julia/packages/SymbolicUtils/qulQp/src/types.jl:960 [inlined]\n",
      "  [7] /(a::SymbolicUtils.Mul{CNumber, Int64, Dict{Any, Number}, Nothing}, b::SymbolicUtils.Mul{CNumber, Int64, Dict{Any, Number}, Nothing})\n",
      "    @ SymbolicUtils ~/.julia/packages/SymbolicUtils/qulQp/src/types.jl:983\n",
      "  [8] add_divs(x::SymbolicUtils.Div{CNumber, SymbolicUtils.Add{CNumber, Int64, Dict{Any, Number}, Nothing}, SymbolicUtils.Mul{CNumber, Int64, Dict{Any, Number}, Nothing}, Nothing}, y::SymbolicUtils.Div{CNumber, SymbolicUtils.Mul{CNumber, ComplexF64, Dict{Any, Number}, Nothing}, SymbolicUtils.Mul{CNumber, Int64, Dict{Any, Number}, Nothing}, Nothing})\n",
      "    @ SymbolicUtils ~/.julia/packages/SymbolicUtils/qulQp/src/polyform.jl:302\n",
      "  [9] (::ComposedFunction{typeof(quick_cancel), typeof(SymbolicUtils.add_divs)})(::SymbolicUtils.Div{CNumber, SymbolicUtils.Add{CNumber, Int64, Dict{Any, Number}, Nothing}, SymbolicUtils.Mul{CNumber, Int64, Dict{Any, Number}, Nothing}, Nothing}, ::Vararg{Any}; kw::Base.Pairs{Symbol, Union{}, Tuple{}, NamedTuple{(), Tuple{}}})\n",
      "    @ Base ./operators.jl:1085\n",
      " [10] (::ComposedFunction{typeof(quick_cancel), typeof(SymbolicUtils.add_divs)})(::SymbolicUtils.Div{CNumber, SymbolicUtils.Add{CNumber, Int64, Dict{Any, Number}, Nothing}, SymbolicUtils.Mul{CNumber, Int64, Dict{Any, Number}, Nothing}, Nothing}, ::Vararg{Any})\n",
      "    @ Base ./operators.jl:1085\n",
      " [11] macro expansion\n",
      "    @ ./reduce.jl:247 [inlined]\n",
      " [12] macro expansion\n",
      "    @ ./simdloop.jl:77 [inlined]\n",
      " [13] mapreduce_impl(f::typeof(identity), op::ComposedFunction{typeof(quick_cancel), typeof(SymbolicUtils.add_divs)}, A::Vector{SymbolicUtils.Symbolic{CNumber}}, ifirst::Int64, ilast::Int64, blksize::Int64)\n",
      "    @ Base ./reduce.jl:245\n",
      " [14] mapreduce_impl\n",
      "    @ ./reduce.jl:259 [inlined]\n",
      " [15] _mapreduce(f::typeof(identity), op::ComposedFunction{typeof(quick_cancel), typeof(SymbolicUtils.add_divs)}, #unused#::IndexLinear, A::Vector{SymbolicUtils.Symbolic{CNumber}})\n",
      "    @ Base ./reduce.jl:417\n",
      " [16] _mapreduce_dim(f::Function, op::Function, #unused#::Base._InitialValue, A::Vector{SymbolicUtils.Symbolic{CNumber}}, #unused#::Colon)\n",
      "    @ Base ./reducedim.jl:330\n",
      " [17] #mapreduce#731\n",
      "    @ ./reducedim.jl:322 [inlined]\n",
      " [18] mapreduce\n",
      "    @ ./reducedim.jl:322 [inlined]\n",
      " [19] #reduce#733\n",
      "    @ ./reducedim.jl:371 [inlined]\n",
      " [20] reduce(op::Function, A::Vector{SymbolicUtils.Symbolic{CNumber}})\n",
      "    @ Base ./reducedim.jl:371\n",
      " [21] add_with_div(x::SymbolicUtils.Add{CNumber, Int64, Dict{Any, Number}, Nothing}, flatten::Bool)\n",
      "    @ SymbolicUtils ~/.julia/packages/SymbolicUtils/qulQp/src/polyform.jl:352\n",
      " [22] add_with_div(x::SymbolicUtils.Add{CNumber, Int64, Dict{Any, Number}, Nothing})\n",
      "    @ SymbolicUtils ~/.julia/packages/SymbolicUtils/qulQp/src/polyform.jl:345\n",
      " [23] (::Metatheory.Rewriters.Walk{:post, typeof(SymbolicUtils.add_with_div), typeof(SymbolicUtils.frac_similarterm), false})(x::SymbolicUtils.Add{CNumber, Int64, Dict{Any, Number}, Nothing})\n",
      "    @ Metatheory.Rewriters ~/.julia/packages/Metatheory/wqlT2/src/Rewriters.jl:200\n",
      " [24] simplify_fractions(x::SymbolicUtils.Add{CNumber, Int64, Dict{Any, Number}, Nothing}; polyform::Bool)\n",
      "    @ SymbolicUtils ~/.julia/packages/SymbolicUtils/qulQp/src/polyform.jl:337\n",
      " [25] simplify_fractions(x::SymbolicUtils.Add{CNumber, Int64, Dict{Any, Number}, Nothing})\n",
      "    @ SymbolicUtils ~/.julia/packages/SymbolicUtils/qulQp/src/polyform.jl:331\n",
      " [26] simplify(x::SymbolicUtils.Add{CNumber, Complex{Int64}, Dict{Any, Number}, Nothing}; expand::Bool, polynorm::Nothing, threaded::Bool, simplify_fractions::Bool, thread_subtree_cutoff::Int64, rewriter::Nothing)\n",
      "    @ SymbolicUtils ~/.julia/packages/SymbolicUtils/qulQp/src/simplify.jl:43\n",
      " [27] simplify\n",
      "    @ ~/.julia/packages/SymbolicUtils/qulQp/src/simplify.jl:24 [inlined]\n",
      " [28] iterate\n",
      "    @ ./generator.jl:47 [inlined]\n",
      " [29] _collect(c::Vector{SymbolicUtils.Add{CNumber, Complex{Int64}, Dict{Any, Number}, Nothing}}, itr::Base.Generator{Vector{SymbolicUtils.Add{CNumber, Complex{Int64}, Dict{Any, Number}, Nothing}}, typeof(simplify)}, #unused#::Base.EltypeUnknown, isz::Base.HasShape{1})\n",
      "    @ Base ./array.jl:744\n",
      " [30] collect_similar(cont::Vector{SymbolicUtils.Add{CNumber, Complex{Int64}, Dict{Any, Number}, Nothing}}, itr::Base.Generator{Vector{SymbolicUtils.Add{CNumber, Complex{Int64}, Dict{Any, Number}, Nothing}}, typeof(simplify)})\n",
      "    @ Base ./array.jl:653\n",
      " [31] map(f::Function, A::Vector{SymbolicUtils.Add{CNumber, Complex{Int64}, Dict{Any, Number}, Nothing}})\n",
      "    @ Base ./abstractarray.jl:2867\n",
      " [32] meanfield(a::Vector{Destroy{ProductSpace{Vector{QuantumCumulants.ConcreteHilbertSpace}}, Symbol, Int64, Base.ImmutableDict{DataType, Any}}}, H::QuantumCumulants.QAdd, J::Vector{Any}; Jdagger::Vector{Any}, rates::Vector{Int64}, multithread::Bool, simplify::Bool, order::Int64, mix_choice::Function, iv::Sym{Real, Nothing})\n",
      "    @ QuantumCumulants ~/.julia/packages/QuantumCumulants/NZQOS/src/meanfield.jl:68\n",
      " [33] meanfield(a::Vector{Destroy{ProductSpace{Vector{QuantumCumulants.ConcreteHilbertSpace}}, Symbol, Int64, Base.ImmutableDict{DataType, Any}}}, H::QuantumCumulants.QAdd; kwargs::Base.Pairs{Symbol, Int64, Tuple{Symbol}, NamedTuple{(:order,), Tuple{Int64}}})\n",
      "    @ QuantumCumulants ~/.julia/packages/QuantumCumulants/NZQOS/src/meanfield.jl:88\n",
      " [34] top-level scope\n",
      "    @ ~/Documents/GitHub2/QuantumGraining.jl/notebooks/effective_ham_test.ipynb:1"
     ]
    }
   ],
   "source": [
    "eqs = meanfield([a] , H1; order=1)\n",
    "eqs = complete(eqs)"
   ]
  },
  {
   "cell_type": "code",
   "execution_count": 28,
   "metadata": {},
   "outputs": [
    {
     "data": {
      "text/latex": [
       "$\\omega_{d} {\\sigma}^{{ee}} + \\frac{-1}{2} \\omega_{d} + \\omega_{0} a^\\dagger a + g a^\\dagger {\\sigma}^{{ge}} + g a^\\dagger {\\sigma}^{{eg}} + g a {\\sigma}^{{ge}} + g a {\\sigma}^{{eg}} + f\\left( t \\right) a + f\\left( t \\right) a^\\dagger$"
      ],
      "text/plain": [
       "(ω_d*(σee)+(-1//2)*ω_d+ω_0*(a′*a)+g*(a′*σge)+g*(a′*σeg)+g*(a*σge)+g*(a*σeg)+f(t)*(a)+f(t)*(a′))"
      ]
     },
     "metadata": {},
     "output_type": "display_data"
    }
   ],
   "source": [
    "#H_test = σ(1,2,2)⊗σ(2,1,1) #9*(ω_1*σ(2,2,1)+ω_2*σ(2,2,2) - g*σ(1,2,1)*σ(2,1,2))# -  g*σ(1,2,1)*σ(2,2,1) \n",
    "            #-  g*σ(1,1,2)*σ(2,1,2)- g*σ(1,1,2)*σ(2,2,1)) - 4.5*(ω_1 + ω_2)\n",
    "            \n",
    "#H_test2 = 9*ω_1*σ(2,2,1) - 4.5*ω_1 + ϵ_d*exp(1im*ω_d)/(2*ω_d^2)  +σ(1,2,1) + σ(2,1,1) # (ϵ_d/(2*ω_d^2))*σ(1,2,1) #+ (ϵ_d/(2*ω_d^2))*σ(2,1,1)\n",
    "@register f(t)\n",
    "#f(t) = exp(1im*ω_d*t)\n",
    "H_rab = ω_0 * a'*a + ω_d/2 * σz + g*(a' + a)*(σx) + f(t)*(a + a')\n"
   ]
  },
  {
   "cell_type": "code",
   "execution_count": 33,
   "metadata": {},
   "outputs": [
    {
     "data": {
      "text/latex": [
       "\\begin{align}\n",
       "\\frac{d}{dt} \\langle a\\rangle  =& -1 i f\\left( t \\right) + g \\left( -1 i \\langle {\\sigma}^{{eg}}\\rangle  -1 i \\langle {\\sigma}^{{ge}}\\rangle  \\right) -1 i \\omega_{0} \\langle a\\rangle  \\\\\n",
       "\\frac{d}{dt} \\langle {\\sigma}^{{eg}}\\rangle  =& g \\left( 1 i \\langle a^\\dagger\\rangle  + 1 i \\langle a\\rangle  -2 i \\langle a^\\dagger  {\\sigma}^{{ee}}\\rangle  -2 i \\langle a  {\\sigma}^{{ee}}\\rangle  \\right) + 1 i \\omega_{d} \\langle {\\sigma}^{{eg}}\\rangle  \\\\\n",
       "\\frac{d}{dt} \\langle a^\\dagger  {\\sigma}^{{ee}}\\rangle  =& g \\left( 1 i \\langle {\\sigma}^{{ge}}\\rangle  -1 i \\langle a^\\dagger  a^\\dagger  {\\sigma}^{{eg}}\\rangle  + 1 i \\langle a^\\dagger  a^\\dagger  {\\sigma}^{{ge}}\\rangle  -1 i \\langle a^\\dagger  a  {\\sigma}^{{eg}}\\rangle  \\right) + 1 i g \\langle a^\\dagger  a  {\\sigma}^{{ge}}\\rangle  + 1 i \\omega_{0} \\langle a^\\dagger  {\\sigma}^{{ee}}\\rangle  + 1 i f\\left( t \\right) \\langle {\\sigma}^{{ee}}\\rangle  \\\\\n",
       "\\frac{d}{dt} \\langle a^\\dagger  a^\\dagger  {\\sigma}^{{eg}}\\rangle  =& g \\left( 1 i \\langle a^\\dagger  a^\\dagger  a^\\dagger\\rangle  -2 i \\langle a^\\dagger  {\\sigma}^{{ee}}\\rangle  + 1 i \\langle a^\\dagger  a^\\dagger  a\\rangle  -2 i \\langle {\\sigma}^{{ee}}\\rangle  \\langle a^\\dagger  a^\\dagger  a\\rangle  + 4 i \\langle a^\\dagger\\rangle ^{2} \\langle a  {\\sigma}^{{ee}}\\rangle  -4 i \\langle a^\\dagger\\rangle  \\langle a^\\dagger  a  {\\sigma}^{{ee}}\\rangle  -2 i \\langle a\\rangle  \\langle a^\\dagger  a^\\dagger  {\\sigma}^{{ee}}\\rangle  -2 i \\langle a^\\dagger  a^\\dagger\\rangle  \\langle a  {\\sigma}^{{ee}}\\rangle  -4 i \\langle a^\\dagger  a\\rangle  \\langle a^\\dagger  {\\sigma}^{{ee}}\\rangle  + 8 i \\langle a^\\dagger\\rangle  \\langle a\\rangle  \\langle a^\\dagger  {\\sigma}^{{ee}}\\rangle  + 4 i \\langle a\\rangle  \\langle {\\sigma}^{{ee}}\\rangle  \\langle a^\\dagger  a^\\dagger\\rangle  + 8 i \\langle a^\\dagger\\rangle  \\langle {\\sigma}^{{ee}}\\rangle  \\langle a^\\dagger  a\\rangle  -12 i \\langle a^\\dagger\\rangle ^{2} \\langle a\\rangle  \\langle {\\sigma}^{{ee}}\\rangle  \\right) -2 i g \\left( \\langle {\\sigma}^{{ee}}\\rangle  \\langle a^\\dagger  a^\\dagger  a^\\dagger\\rangle  + 3 \\langle a^\\dagger  a^\\dagger\\rangle  \\langle a^\\dagger  {\\sigma}^{{ee}}\\rangle  + 3 \\langle a^\\dagger\\rangle  \\langle a^\\dagger  a^\\dagger  {\\sigma}^{{ee}}\\rangle  -6 \\langle a^\\dagger\\rangle ^{2} \\langle a^\\dagger  {\\sigma}^{{ee}}\\rangle  + 6 \\langle a^\\dagger\\rangle ^{3} \\langle {\\sigma}^{{ee}}\\rangle  -6 \\langle a^\\dagger\\rangle  \\langle {\\sigma}^{{ee}}\\rangle  \\langle a^\\dagger  a^\\dagger\\rangle  \\right) + 2 i g \\langle a^\\dagger\\rangle  + 2 i \\omega_{0} \\langle a^\\dagger  a^\\dagger  {\\sigma}^{{eg}}\\rangle  + 2 i f\\left( t \\right) \\langle a^\\dagger  {\\sigma}^{{eg}}\\rangle  + 1 i \\omega_{d} \\langle a^\\dagger  a^\\dagger  {\\sigma}^{{eg}}\\rangle  \\\\\n",
       "\\frac{d}{dt} \\langle a^\\dagger  a^\\dagger  {\\sigma}^{{ge}}\\rangle  =& g \\left( -1 i \\langle a^\\dagger  a^\\dagger  a^\\dagger\\rangle  + 2 i \\langle a^\\dagger  {\\sigma}^{{ee}}\\rangle  -1 i \\langle a^\\dagger  a^\\dagger  a\\rangle  + 2 i \\langle {\\sigma}^{{ee}}\\rangle  \\langle a^\\dagger  a^\\dagger  a\\rangle  -4 i \\langle a^\\dagger\\rangle ^{2} \\langle a  {\\sigma}^{{ee}}\\rangle  + 4 i \\langle a^\\dagger\\rangle  \\langle a^\\dagger  a  {\\sigma}^{{ee}}\\rangle  + 2 i \\langle a\\rangle  \\langle a^\\dagger  a^\\dagger  {\\sigma}^{{ee}}\\rangle  + 2 i \\langle a^\\dagger  a^\\dagger\\rangle  \\langle a  {\\sigma}^{{ee}}\\rangle  + 4 i \\langle a^\\dagger  a\\rangle  \\langle a^\\dagger  {\\sigma}^{{ee}}\\rangle  -8 i \\langle a^\\dagger\\rangle  \\langle a\\rangle  \\langle a^\\dagger  {\\sigma}^{{ee}}\\rangle  -4 i \\langle a\\rangle  \\langle {\\sigma}^{{ee}}\\rangle  \\langle a^\\dagger  a^\\dagger\\rangle  -8 i \\langle a^\\dagger\\rangle  \\langle {\\sigma}^{{ee}}\\rangle  \\langle a^\\dagger  a\\rangle  + 12 i \\langle a^\\dagger\\rangle ^{2} \\langle a\\rangle  \\langle {\\sigma}^{{ee}}\\rangle  \\right) -1 i \\omega_{d} \\langle a^\\dagger  a^\\dagger  {\\sigma}^{{ge}}\\rangle  + 2 i g \\left( \\langle {\\sigma}^{{ee}}\\rangle  \\langle a^\\dagger  a^\\dagger  a^\\dagger\\rangle  + 3 \\langle a^\\dagger  a^\\dagger\\rangle  \\langle a^\\dagger  {\\sigma}^{{ee}}\\rangle  + 3 \\langle a^\\dagger\\rangle  \\langle a^\\dagger  a^\\dagger  {\\sigma}^{{ee}}\\rangle  -6 \\langle a^\\dagger\\rangle ^{2} \\langle a^\\dagger  {\\sigma}^{{ee}}\\rangle  + 6 \\langle a^\\dagger\\rangle ^{3} \\langle {\\sigma}^{{ee}}\\rangle  -6 \\langle a^\\dagger\\rangle  \\langle {\\sigma}^{{ee}}\\rangle  \\langle a^\\dagger  a^\\dagger\\rangle  \\right) + 2 i \\omega_{0} \\langle a^\\dagger  a^\\dagger  {\\sigma}^{{ge}}\\rangle  + 2 i f\\left( t \\right) \\langle a^\\dagger  {\\sigma}^{{ge}}\\rangle  \\\\\n",
       "\\frac{d}{dt} \\langle a^\\dagger  a  {\\sigma}^{{eg}}\\rangle  =& g \\left( 1 i \\langle a\\rangle  -1 i \\langle a^\\dagger  {\\sigma}^{{ee}}\\rangle  -1 i \\langle a  {\\sigma}^{{ee}}\\rangle  + 1 i \\langle a^\\dagger  a  a\\rangle  + 4 i \\langle a^\\dagger\\rangle ^{2} \\langle a  {\\sigma}^{{ee}}\\rangle  -4 i \\langle a^\\dagger\\rangle  \\langle a^\\dagger  a  {\\sigma}^{{ee}}\\rangle  -2 i \\langle {\\sigma}^{{ee}}\\rangle  \\langle a^\\dagger  a^\\dagger  a\\rangle  -2 i \\langle a\\rangle  \\langle a^\\dagger  a^\\dagger  {\\sigma}^{{ee}}\\rangle  -4 i \\langle a\\rangle  \\langle a^\\dagger  a  {\\sigma}^{{ee}}\\rangle  -2 i \\langle a^\\dagger\\rangle  \\langle a  a  {\\sigma}^{{ee}}\\rangle  -2 i \\langle a^\\dagger  {\\sigma}^{{ee}}\\rangle  \\langle a  a\\rangle  -2 i \\langle {\\sigma}^{{ee}}\\rangle  \\langle a^\\dagger  a  a\\rangle  -2 i \\langle a^\\dagger  a^\\dagger\\rangle  \\langle a  {\\sigma}^{{ee}}\\rangle  + 4 i \\langle a\\rangle ^{2} \\langle a^\\dagger  {\\sigma}^{{ee}}\\rangle  -4 i \\langle a^\\dagger  a\\rangle  \\langle a^\\dagger  {\\sigma}^{{ee}}\\rangle  -4 i \\langle a^\\dagger  a\\rangle  \\langle a  {\\sigma}^{{ee}}\\rangle  -12 i \\langle a\\rangle ^{2} \\langle a^\\dagger\\rangle  \\langle {\\sigma}^{{ee}}\\rangle  + 8 i \\langle a^\\dagger\\rangle  \\langle a\\rangle  \\langle a^\\dagger  {\\sigma}^{{ee}}\\rangle  + 4 i \\langle a\\rangle  \\langle {\\sigma}^{{ee}}\\rangle  \\langle a^\\dagger  a^\\dagger\\rangle  + 8 i \\langle a^\\dagger\\rangle  \\langle {\\sigma}^{{ee}}\\rangle  \\langle a^\\dagger  a\\rangle  + 8 i \\langle a\\rangle  \\langle {\\sigma}^{{ee}}\\rangle  \\langle a^\\dagger  a\\rangle  + 8 i \\langle a^\\dagger\\rangle  \\langle a\\rangle  \\langle a  {\\sigma}^{{ee}}\\rangle  -12 i \\langle a^\\dagger\\rangle ^{2} \\langle a\\rangle  \\langle {\\sigma}^{{ee}}\\rangle  + 4 i \\langle a^\\dagger\\rangle  \\langle {\\sigma}^{{ee}}\\rangle  \\langle a  a\\rangle  \\right) + 1 i g \\langle a^\\dagger  a^\\dagger  a\\rangle  -1 i f\\left( t \\right) \\langle a^\\dagger  {\\sigma}^{{eg}}\\rangle  + 1 i f\\left( t \\right) \\langle a  {\\sigma}^{{eg}}\\rangle  + 1 i \\omega_{d} \\langle a^\\dagger  a  {\\sigma}^{{eg}}\\rangle  \\\\\n",
       "\\frac{d}{dt} \\langle {\\sigma}^{{ee}}\\rangle  =& g \\left( -1 i \\langle a^\\dagger  {\\sigma}^{{eg}}\\rangle  + 1 i \\langle a^\\dagger  {\\sigma}^{{ge}}\\rangle  -1 i \\langle a  {\\sigma}^{{eg}}\\rangle  + 1 i \\langle a  {\\sigma}^{{ge}}\\rangle  \\right) \\\\\n",
       "\\frac{d}{dt} \\langle a^\\dagger  a^\\dagger  a^\\dagger\\rangle  =& g \\left( 3 i \\langle a^\\dagger  a^\\dagger  {\\sigma}^{{eg}}\\rangle  + 3 i \\langle a^\\dagger  a^\\dagger  {\\sigma}^{{ge}}\\rangle  \\right) + 3 i f\\left( t \\right) \\langle a^\\dagger  a^\\dagger\\rangle  + 3 i \\omega_{0} \\langle a^\\dagger  a^\\dagger  a^\\dagger\\rangle  \\\\\n",
       "\\frac{d}{dt} \\langle a^\\dagger  a^\\dagger  a\\rangle  =& g \\left( -1 i \\langle a^\\dagger  a^\\dagger  {\\sigma}^{{eg}}\\rangle  -1 i \\langle a^\\dagger  a^\\dagger  {\\sigma}^{{ge}}\\rangle  + 2 i \\langle a^\\dagger  a  {\\sigma}^{{eg}}\\rangle  + 2 i \\langle a^\\dagger  a  {\\sigma}^{{ge}}\\rangle  \\right) -1 i f\\left( t \\right) \\langle a^\\dagger  a^\\dagger\\rangle  + 1 i \\omega_{0} \\langle a^\\dagger  a^\\dagger  a\\rangle  + 2 i f\\left( t \\right) \\langle a^\\dagger  a\\rangle  \\\\\n",
       "\\frac{d}{dt} \\langle a^\\dagger  a  {\\sigma}^{{ee}}\\rangle  =& g \\left( -1 i \\langle a^\\dagger  {\\sigma}^{{eg}}\\rangle  -2 i \\langle a^\\dagger\\rangle ^{2} \\langle a  {\\sigma}^{{ge}}\\rangle  -1 i \\langle a^\\dagger  {\\sigma}^{{eg}}\\rangle  \\langle a  a\\rangle  + 1 i \\langle a^\\dagger  a^\\dagger\\rangle  \\langle a  {\\sigma}^{{ge}}\\rangle  + 2 i \\langle a\\rangle ^{2} \\langle a^\\dagger  {\\sigma}^{{eg}}\\rangle  -2 i \\langle a\\rangle  \\langle a^\\dagger  a  {\\sigma}^{{eg}}\\rangle  -1 i \\langle {\\sigma}^{{eg}}\\rangle  \\langle a^\\dagger  a  a\\rangle  + 2 i \\langle a^\\dagger\\rangle  \\langle a^\\dagger  a  {\\sigma}^{{ge}}\\rangle  + 2 i \\langle a\\rangle  \\langle a^\\dagger  a  {\\sigma}^{{ge}}\\rangle  + 1 i \\langle {\\sigma}^{{ge}}\\rangle  \\langle a^\\dagger  a^\\dagger  a\\rangle  + 1 i \\langle a^\\dagger  {\\sigma}^{{ge}}\\rangle  \\langle a  a\\rangle  -1 i \\langle a^\\dagger\\rangle  \\langle a  a  {\\sigma}^{{eg}}\\rangle  -2 i \\langle a\\rangle ^{2} \\langle a^\\dagger  {\\sigma}^{{ge}}\\rangle  + 2 i \\langle a^\\dagger  a\\rangle  \\langle a^\\dagger  {\\sigma}^{{ge}}\\rangle  -2 i \\langle a^\\dagger  a\\rangle  \\langle a  {\\sigma}^{{eg}}\\rangle  + 1 i \\langle a\\rangle  \\langle a^\\dagger  a^\\dagger  {\\sigma}^{{ge}}\\rangle  + 2 i \\langle a^\\dagger  a\\rangle  \\langle a  {\\sigma}^{{ge}}\\rangle  + 1 i \\langle {\\sigma}^{{ge}}\\rangle  \\langle a^\\dagger  a  a\\rangle  + 1 i \\langle a^\\dagger\\rangle  \\langle a  a  {\\sigma}^{{ge}}\\rangle  + 2 i \\langle a^\\dagger\\rangle  \\langle {\\sigma}^{{eg}}\\rangle  \\langle a  a\\rangle  -4 i \\langle a^\\dagger\\rangle  \\langle {\\sigma}^{{ge}}\\rangle  \\langle a^\\dagger  a\\rangle  + 6 i \\langle a^\\dagger\\rangle ^{2} \\langle a\\rangle  \\langle {\\sigma}^{{ge}}\\rangle  -4 i \\langle a^\\dagger\\rangle  \\langle a\\rangle  \\langle a^\\dagger  {\\sigma}^{{ge}}\\rangle  -4 i \\langle a^\\dagger\\rangle  \\langle a\\rangle  \\langle a  {\\sigma}^{{ge}}\\rangle  -2 i \\langle a\\rangle  \\langle {\\sigma}^{{ge}}\\rangle  \\langle a^\\dagger  a^\\dagger\\rangle  + 6 i \\langle a\\rangle ^{2} \\langle a^\\dagger\\rangle  \\langle {\\sigma}^{{ge}}\\rangle  + 4 i \\langle a\\rangle  \\langle {\\sigma}^{{eg}}\\rangle  \\langle a^\\dagger  a\\rangle  -6 i \\langle a\\rangle ^{2} \\langle a^\\dagger\\rangle  \\langle {\\sigma}^{{eg}}\\rangle  -2 i \\langle a^\\dagger\\rangle  \\langle {\\sigma}^{{ge}}\\rangle  \\langle a  a\\rangle  + 4 i \\langle a^\\dagger\\rangle  \\langle a\\rangle  \\langle a  {\\sigma}^{{eg}}\\rangle  -4 i \\langle a\\rangle  \\langle {\\sigma}^{{ge}}\\rangle  \\langle a^\\dagger  a\\rangle  \\right) -1 i g \\left( \\langle a\\rangle  \\langle a^\\dagger  a^\\dagger  {\\sigma}^{{eg}}\\rangle  + \\langle a^\\dagger  a^\\dagger\\rangle  \\langle a  {\\sigma}^{{eg}}\\rangle  + \\langle {\\sigma}^{{eg}}\\rangle  \\langle a^\\dagger  a^\\dagger  a\\rangle  + 2 \\langle a^\\dagger  a\\rangle  \\langle a^\\dagger  {\\sigma}^{{eg}}\\rangle  -2 \\langle a^\\dagger\\rangle ^{2} \\langle a  {\\sigma}^{{eg}}\\rangle  + 2 \\langle a^\\dagger\\rangle  \\langle a^\\dagger  a  {\\sigma}^{{eg}}\\rangle  -4 \\langle a^\\dagger\\rangle  \\langle {\\sigma}^{{eg}}\\rangle  \\langle a^\\dagger  a\\rangle  + 6 \\langle a^\\dagger\\rangle ^{2} \\langle a\\rangle  \\langle {\\sigma}^{{eg}}\\rangle  -4 \\langle a^\\dagger\\rangle  \\langle a\\rangle  \\langle a^\\dagger  {\\sigma}^{{eg}}\\rangle  -2 \\langle a\\rangle  \\langle {\\sigma}^{{eg}}\\rangle  \\langle a^\\dagger  a^\\dagger\\rangle  \\right) + 1 i g \\langle a  {\\sigma}^{{ge}}\\rangle  -1 i f\\left( t \\right) \\langle a^\\dagger  {\\sigma}^{{ee}}\\rangle  + 1 i f\\left( t \\right) \\langle a  {\\sigma}^{{ee}}\\rangle  \\\\\n",
       "\\frac{d}{dt} \\langle a^\\dagger  a^\\dagger  {\\sigma}^{{ee}}\\rangle  =& g \\left( -6 i \\langle a^\\dagger\\rangle ^{3} \\langle {\\sigma}^{{eg}}\\rangle  -2 i \\langle a^\\dagger\\rangle ^{2} \\langle a  {\\sigma}^{{ge}}\\rangle  -3 i \\langle a^\\dagger\\rangle  \\langle a^\\dagger  a^\\dagger  {\\sigma}^{{eg}}\\rangle  -2 i \\langle a^\\dagger\\rangle  \\langle a^\\dagger  a  {\\sigma}^{{eg}}\\rangle  + 3 i \\langle a^\\dagger  a^\\dagger\\rangle  \\langle a^\\dagger  {\\sigma}^{{ge}}\\rangle  + 1 i \\langle a^\\dagger  a^\\dagger\\rangle  \\langle a  {\\sigma}^{{ge}}\\rangle  -6 i \\langle a^\\dagger\\rangle ^{2} \\langle a^\\dagger  {\\sigma}^{{ge}}\\rangle  + 2 i \\langle a^\\dagger\\rangle  \\langle a^\\dagger  a  {\\sigma}^{{ge}}\\rangle  + 1 i \\langle {\\sigma}^{{ge}}\\rangle  \\langle a^\\dagger  a^\\dagger  a\\rangle  + 6 i \\langle a^\\dagger\\rangle ^{3} \\langle {\\sigma}^{{ge}}\\rangle  + 2 i \\langle a^\\dagger\\rangle ^{2} \\langle a  {\\sigma}^{{eg}}\\rangle  + 3 i \\langle a^\\dagger\\rangle  \\langle a^\\dagger  a^\\dagger  {\\sigma}^{{ge}}\\rangle  -1 i \\langle a^\\dagger  a^\\dagger\\rangle  \\langle a  {\\sigma}^{{eg}}\\rangle  + 6 i \\langle a^\\dagger\\rangle ^{2} \\langle a^\\dagger  {\\sigma}^{{eg}}\\rangle  -1 i \\langle a\\rangle  \\langle a^\\dagger  a^\\dagger  {\\sigma}^{{eg}}\\rangle  + 1 i \\langle a\\rangle  \\langle a^\\dagger  a^\\dagger  {\\sigma}^{{ge}}\\rangle  -3 i \\langle a^\\dagger  a^\\dagger\\rangle  \\langle a^\\dagger  {\\sigma}^{{eg}}\\rangle  -1 i \\langle {\\sigma}^{{eg}}\\rangle  \\langle a^\\dagger  a^\\dagger  a^\\dagger\\rangle  + 1 i \\langle {\\sigma}^{{ge}}\\rangle  \\langle a^\\dagger  a^\\dagger  a^\\dagger\\rangle  -1 i \\langle {\\sigma}^{{eg}}\\rangle  \\langle a^\\dagger  a^\\dagger  a\\rangle  -2 i \\langle a^\\dagger  a\\rangle  \\langle a^\\dagger  {\\sigma}^{{eg}}\\rangle  + 2 i \\langle a^\\dagger  a\\rangle  \\langle a^\\dagger  {\\sigma}^{{ge}}\\rangle  + 4 i \\langle a^\\dagger\\rangle  \\langle {\\sigma}^{{eg}}\\rangle  \\langle a^\\dagger  a\\rangle  -4 i \\langle a^\\dagger\\rangle  \\langle {\\sigma}^{{ge}}\\rangle  \\langle a^\\dagger  a\\rangle  -6 i \\langle a^\\dagger\\rangle ^{2} \\langle a\\rangle  \\langle {\\sigma}^{{eg}}\\rangle  + 6 i \\langle a^\\dagger\\rangle ^{2} \\langle a\\rangle  \\langle {\\sigma}^{{ge}}\\rangle  + 4 i \\langle a^\\dagger\\rangle  \\langle a\\rangle  \\langle a^\\dagger  {\\sigma}^{{eg}}\\rangle  -4 i \\langle a^\\dagger\\rangle  \\langle a\\rangle  \\langle a^\\dagger  {\\sigma}^{{ge}}\\rangle  -2 i \\langle a\\rangle  \\langle {\\sigma}^{{ge}}\\rangle  \\langle a^\\dagger  a^\\dagger\\rangle  + 6 i \\langle a^\\dagger\\rangle  \\langle {\\sigma}^{{eg}}\\rangle  \\langle a^\\dagger  a^\\dagger\\rangle  -6 i \\langle a^\\dagger\\rangle  \\langle {\\sigma}^{{ge}}\\rangle  \\langle a^\\dagger  a^\\dagger\\rangle  + 2 i \\langle a\\rangle  \\langle {\\sigma}^{{eg}}\\rangle  \\langle a^\\dagger  a^\\dagger\\rangle  \\right) + 2 i f\\left( t \\right) \\langle a^\\dagger  {\\sigma}^{{ee}}\\rangle  + 2 i g \\langle a^\\dagger  {\\sigma}^{{ge}}\\rangle  + 2 i \\omega_{0} \\langle a^\\dagger  a^\\dagger  {\\sigma}^{{ee}}\\rangle  \\\\\n",
       "\\frac{d}{dt} \\langle a^\\dagger  a^\\dagger\\rangle  =& g \\left( 2 i \\langle a^\\dagger  {\\sigma}^{{eg}}\\rangle  + 2 i \\langle a^\\dagger  {\\sigma}^{{ge}}\\rangle  \\right) + 2 i \\langle a^\\dagger\\rangle  f\\left( t \\right) + 2 i \\omega_{0} \\langle a^\\dagger  a^\\dagger\\rangle  \\\\\n",
       "\\frac{d}{dt} \\langle a^\\dagger  a\\rangle  =& g \\left( -1 i \\langle a^\\dagger  {\\sigma}^{{eg}}\\rangle  -1 i \\langle a^\\dagger  {\\sigma}^{{ge}}\\rangle  + 1 i \\langle a  {\\sigma}^{{eg}}\\rangle  + 1 i \\langle a  {\\sigma}^{{ge}}\\rangle  \\right) -1 i \\langle a^\\dagger\\rangle  f\\left( t \\right) + 1 i \\langle a\\rangle  f\\left( t \\right) \\\\\n",
       "\\frac{d}{dt} \\langle a^\\dagger  {\\sigma}^{{eg}}\\rangle  =& 1 i g + g \\left( 1 i \\langle a^\\dagger  a^\\dagger\\rangle  + 1 i \\langle a^\\dagger  a\\rangle  -2 i \\langle a^\\dagger  a^\\dagger  {\\sigma}^{{ee}}\\rangle  -2 i \\langle a^\\dagger  a  {\\sigma}^{{ee}}\\rangle  \\right) -1 i g \\langle {\\sigma}^{{ee}}\\rangle  + 1 i f\\left( t \\right) \\langle {\\sigma}^{{eg}}\\rangle  + 1 i \\omega_{0} \\langle a^\\dagger  {\\sigma}^{{eg}}\\rangle  + 1 i \\omega_{d} \\langle a^\\dagger  {\\sigma}^{{eg}}\\rangle  \\\\\n",
       "\\frac{d}{dt} \\langle a^\\dagger  {\\sigma}^{{ge}}\\rangle  =& g \\left( -1 i \\langle a^\\dagger  a^\\dagger\\rangle  -1 i \\langle a^\\dagger  a\\rangle  + 2 i \\langle a^\\dagger  a^\\dagger  {\\sigma}^{{ee}}\\rangle  + 2 i \\langle a^\\dagger  a  {\\sigma}^{{ee}}\\rangle  \\right) + 1 i g \\langle {\\sigma}^{{ee}}\\rangle  + 1 i f\\left( t \\right) \\langle {\\sigma}^{{ge}}\\rangle  + 1 i \\omega_{0} \\langle a^\\dagger  {\\sigma}^{{ge}}\\rangle  -1 i \\omega_{d} \\langle a^\\dagger  {\\sigma}^{{ge}}\\rangle \n",
       "\\end{align}\n"
      ],
      "text/plain": [
       "∂ₜ(⟨a⟩) = (0 - 1im)*f(t) + g*((0 - 1im)*⟨σeg⟩ + (0 - 1im)*⟨σge⟩) + (0 - 1im)*ω_0*⟨a⟩\n",
       "∂ₜ(⟨σeg⟩) = g*((0 + 1im)*⟨a′⟩ + (0 + 1im)*⟨a⟩ + (0 - 2im)*⟨a′*σee⟩ + (0 - 2im)*⟨a*σee⟩) + (0 + 1im)*ω_d*⟨σeg⟩\n",
       "∂ₜ(⟨a′*σee⟩) = g*((0 + 1im)*⟨σge⟩ + (0 - 1im)*⟨a′*a′*σeg⟩ + (0 + 1im)*⟨a′*a′*σge⟩ + (0 - 1im)*⟨a′*a*σeg⟩) + (0 + 1im)*g*⟨a′*a*σge⟩ + (0 + 1im)*ω_0*⟨a′*σee⟩ + (0 + 1im)*f(t)*⟨σee⟩\n",
       "∂ₜ(⟨a′*a′*σeg⟩) = g*((0 + 1im)*⟨a′*a′*a′⟩ + (0 - 2im)*⟨a′*σee⟩ + (0 + 1im)*⟨a′*a′*a⟩ + (0 - 2im)*⟨σee⟩*⟨a′*a′*a⟩ + (0 + 4im)*(⟨a′⟩^2)*⟨a*σee⟩ + (0 - 4im)*⟨a′⟩*⟨a′*a*σee⟩ + (0 - 2im)*⟨a⟩*⟨a′*a′*σee⟩ + (0 - 2im)*⟨a′*a′⟩*⟨a*σee⟩ + (0 - 4im)*⟨a′*a⟩*⟨a′*σee⟩ + (0 + 8im)*⟨a′⟩*⟨a⟩*⟨a′*σee⟩ + (0 + 4im)*⟨a⟩*⟨σee⟩*⟨a′*a′⟩ + (0 + 8im)*⟨a′⟩*⟨σee⟩*⟨a′*a⟩ + (0 - 12im)*(⟨a′⟩^2)*⟨a⟩*⟨σee⟩) + (0 - 2im)*g*(⟨σee⟩*⟨a′*a′*a′⟩ + 3⟨a′*a′⟩*⟨a′*σee⟩ + 3⟨a′⟩*⟨a′*a′*σee⟩ + 6(⟨a′⟩^3)*⟨σee⟩ - 6(⟨a′⟩^2)*⟨a′*σee⟩ - 6⟨a′⟩*⟨σee⟩*⟨a′*a′⟩) + (0 + 2im)*g*⟨a′⟩ + (0 + 2im)*ω_0*⟨a′*a′*σeg⟩ + (0 + 2im)*f(t)*⟨a′*σeg⟩ + (0 + 1im)*ω_d*⟨a′*a′*σeg⟩\n",
       "∂ₜ(⟨a′*a′*σge⟩) = g*((0 - 1im)*⟨a′*a′*a′⟩ + (0 + 2im)*⟨a′*σee⟩ + (0 - 1im)*⟨a′*a′*a⟩ + (0 + 2im)*⟨σee⟩*⟨a′*a′*a⟩ + (0 - 4im)*(⟨a′⟩^2)*⟨a*σee⟩ + (0 + 4im)*⟨a′⟩*⟨a′*a*σee⟩ + (0 + 2im)*⟨a⟩*⟨a′*a′*σee⟩ + (0 + 2im)*⟨a′*a′⟩*⟨a*σee⟩ + (0 + 4im)*⟨a′*a⟩*⟨a′*σee⟩ + (0 - 8im)*⟨a′⟩*⟨a⟩*⟨a′*σee⟩ + (0 - 4im)*⟨a⟩*⟨σee⟩*⟨a′*a′⟩ + (0 - 8im)*⟨a′⟩*⟨σee⟩*⟨a′*a⟩ + (0 + 12im)*(⟨a′⟩^2)*⟨a⟩*⟨σee⟩) + (0 - 1im)*ω_d*⟨a′*a′*σge⟩ + (0 + 2im)*g*(⟨σee⟩*⟨a′*a′*a′⟩ + 3⟨a′*a′⟩*⟨a′*σee⟩ + 3⟨a′⟩*⟨a′*a′*σee⟩ + 6(⟨a′⟩^3)*⟨σee⟩ - 6(⟨a′⟩^2)*⟨a′*σee⟩ - 6⟨a′⟩*⟨σee⟩*⟨a′*a′⟩) + (0 + 2im)*ω_0*⟨a′*a′*σge⟩ + (0 + 2im)*f(t)*⟨a′*σge⟩\n",
       "∂ₜ(⟨a′*a*σeg⟩) = g*((0 + 1im)*⟨a⟩ + (0 - 1im)*⟨a′*σee⟩ + (0 - 1im)*⟨a*σee⟩ + (0 + 1im)*⟨a′*a*a⟩ + (0 + 4im)*(⟨a′⟩^2)*⟨a*σee⟩ + (0 - 4im)*⟨a′⟩*⟨a′*a*σee⟩ + (0 - 2im)*⟨σee⟩*⟨a′*a′*a⟩ + (0 - 2im)*⟨a⟩*⟨a′*a′*σee⟩ + (0 - 4im)*⟨a⟩*⟨a′*a*σee⟩ + (0 - 2im)*⟨a′⟩*⟨a*a*σee⟩ + (0 - 2im)*⟨a′*σee⟩*⟨a*a⟩ + (0 - 2im)*⟨σee⟩*⟨a′*a*a⟩ + (0 - 2im)*⟨a′*a′⟩*⟨a*σee⟩ + (0 + 4im)*(⟨a⟩^2)*⟨a′*σee⟩ + (0 - 4im)*⟨a′*a⟩*⟨a′*σee⟩ + (0 - 4im)*⟨a′*a⟩*⟨a*σee⟩ + (0 - 12im)*(⟨a⟩^2)*⟨a′⟩*⟨σee⟩ + (0 + 8im)*⟨a′⟩*⟨a⟩*⟨a′*σee⟩ + (0 + 4im)*⟨a⟩*⟨σee⟩*⟨a′*a′⟩ + (0 + 8im)*⟨a′⟩*⟨σee⟩*⟨a′*a⟩ + (0 + 8im)*⟨a⟩*⟨σee⟩*⟨a′*a⟩ + (0 + 8im)*⟨a′⟩*⟨a⟩*⟨a*σee⟩ + (0 - 12im)*(⟨a′⟩^2)*⟨a⟩*⟨σee⟩ + (0 + 4im)*⟨a′⟩*⟨σee⟩*⟨a*a⟩) + (0 + 1im)*g*⟨a′*a′*a⟩ + (0 - 1im)*f(t)*⟨a′*σeg⟩ + (0 + 1im)*f(t)*⟨a*σeg⟩ + (0 + 1im)*ω_d*⟨a′*a*σeg⟩\n",
       "∂ₜ(⟨σee⟩) = g*((0 - 1im)*⟨a′*σeg⟩ + (0 + 1im)*⟨a′*σge⟩ + (0 - 1im)*⟨a*σeg⟩ + (0 + 1im)*⟨a*σge⟩)\n",
       "∂ₜ(⟨a′*a′*a′⟩) = g*((0 + 3im)*⟨a′*a′*σeg⟩ + (0 + 3im)*⟨a′*a′*σge⟩) + (0 + 3im)*f(t)*⟨a′*a′⟩ + (0 + 3im)*ω_0*⟨a′*a′*a′⟩\n",
       "∂ₜ(⟨a′*a′*a⟩) = g*((0 - 1im)*⟨a′*a′*σeg⟩ + (0 - 1im)*⟨a′*a′*σge⟩ + (0 + 2im)*⟨a′*a*σeg⟩ + (0 + 2im)*⟨a′*a*σge⟩) + (0 - 1im)*f(t)*⟨a′*a′⟩ + (0 + 1im)*ω_0*⟨a′*a′*a⟩ + (0 + 2im)*f(t)*⟨a′*a⟩\n",
       "∂ₜ(⟨a′*a*σee⟩) = g*((0 - 1im)*⟨a′*σeg⟩ + (0 - 2im)*(⟨a′⟩^2)*⟨a*σge⟩ + (0 - 1im)*⟨a′*σeg⟩*⟨a*a⟩ + (0 + 1im)*⟨a′*a′⟩*⟨a*σge⟩ + (0 + 2im)*(⟨a⟩^2)*⟨a′*σeg⟩ + (0 - 2im)*⟨a⟩*⟨a′*a*σeg⟩ + (0 - 1im)*⟨σeg⟩*⟨a′*a*a⟩ + (0 + 2im)*⟨a′⟩*⟨a′*a*σge⟩ + (0 + 2im)*⟨a⟩*⟨a′*a*σge⟩ + (0 + 1im)*⟨σge⟩*⟨a′*a′*a⟩ + (0 + 1im)*⟨a′*σge⟩*⟨a*a⟩ + (0 - 1im)*⟨a′⟩*⟨a*a*σeg⟩ + (0 - 2im)*(⟨a⟩^2)*⟨a′*σge⟩ + (0 + 2im)*⟨a′*a⟩*⟨a′*σge⟩ + (0 - 2im)*⟨a′*a⟩*⟨a*σeg⟩ + (0 + 1im)*⟨a⟩*⟨a′*a′*σge⟩ + (0 + 2im)*⟨a′*a⟩*⟨a*σge⟩ + (0 + 1im)*⟨σge⟩*⟨a′*a*a⟩ + (0 + 1im)*⟨a′⟩*⟨a*a*σge⟩ + (0 + 2im)*⟨a′⟩*⟨σeg⟩*⟨a*a⟩ + (0 - 4im)*⟨a′⟩*⟨σge⟩*⟨a′*a⟩ + (0 + 6im)*(⟨a′⟩^2)*⟨a⟩*⟨σge⟩ + (0 - 4im)*⟨a′⟩*⟨a⟩*⟨a′*σge⟩ + (0 - 4im)*⟨a′⟩*⟨a⟩*⟨a*σge⟩ + (0 - 2im)*⟨a⟩*⟨σge⟩*⟨a′*a′⟩ + (0 + 6im)*(⟨a⟩^2)*⟨a′⟩*⟨σge⟩ + (0 + 4im)*⟨a⟩*⟨σeg⟩*⟨a′*a⟩ + (0 - 6im)*(⟨a⟩^2)*⟨a′⟩*⟨σeg⟩ + (0 - 2im)*⟨a′⟩*⟨σge⟩*⟨a*a⟩ + (0 + 4im)*⟨a′⟩*⟨a⟩*⟨a*σeg⟩ + (0 - 4im)*⟨a⟩*⟨σge⟩*⟨a′*a⟩) + (0 - 1im)*g*(⟨a⟩*⟨a′*a′*σeg⟩ + ⟨a′*a′⟩*⟨a*σeg⟩ + ⟨σeg⟩*⟨a′*a′*a⟩ + 2⟨a′*a⟩*⟨a′*σeg⟩ + 2⟨a′⟩*⟨a′*a*σeg⟩ + 6(⟨a′⟩^2)*⟨a⟩*⟨σeg⟩ - 2(⟨a′⟩^2)*⟨a*σeg⟩ - 4⟨a′⟩*⟨σeg⟩*⟨a′*a⟩ - 4⟨a′⟩*⟨a⟩*⟨a′*σeg⟩ - 2⟨a⟩*⟨σeg⟩*⟨a′*a′⟩) + (0 + 1im)*g*⟨a*σge⟩ + (0 - 1im)*f(t)*⟨a′*σee⟩ + (0 + 1im)*f(t)*⟨a*σee⟩\n",
       "∂ₜ(⟨a′*a′*σee⟩) = g*((0 - 6im)*(⟨a′⟩^3)*⟨σeg⟩ + (0 - 2im)*(⟨a′⟩^2)*⟨a*σge⟩ + (0 - 3im)*⟨a′⟩*⟨a′*a′*σeg⟩ + (0 - 2im)*⟨a′⟩*⟨a′*a*σeg⟩ + (0 + 3im)*⟨a′*a′⟩*⟨a′*σge⟩ + (0 + 1im)*⟨a′*a′⟩*⟨a*σge⟩ + (0 - 6im)*(⟨a′⟩^2)*⟨a′*σge⟩ + (0 + 2im)*⟨a′⟩*⟨a′*a*σge⟩ + (0 + 1im)*⟨σge⟩*⟨a′*a′*a⟩ + (0 + 6im)*(⟨a′⟩^3)*⟨σge⟩ + (0 + 2im)*(⟨a′⟩^2)*⟨a*σeg⟩ + (0 + 3im)*⟨a′⟩*⟨a′*a′*σge⟩ + (0 - 1im)*⟨a′*a′⟩*⟨a*σeg⟩ + (0 + 6im)*(⟨a′⟩^2)*⟨a′*σeg⟩ + (0 - 1im)*⟨a⟩*⟨a′*a′*σeg⟩ + (0 + 1im)*⟨a⟩*⟨a′*a′*σge⟩ + (0 - 3im)*⟨a′*a′⟩*⟨a′*σeg⟩ + (0 - 1im)*⟨σeg⟩*⟨a′*a′*a′⟩ + (0 + 1im)*⟨σge⟩*⟨a′*a′*a′⟩ + (0 - 1im)*⟨σeg⟩*⟨a′*a′*a⟩ + (0 - 2im)*⟨a′*a⟩*⟨a′*σeg⟩ + (0 + 2im)*⟨a′*a⟩*⟨a′*σge⟩ + (0 + 4im)*⟨a′⟩*⟨σeg⟩*⟨a′*a⟩ + (0 - 4im)*⟨a′⟩*⟨σge⟩*⟨a′*a⟩ + (0 - 6im)*(⟨a′⟩^2)*⟨a⟩*⟨σeg⟩ + (0 + 6im)*(⟨a′⟩^2)*⟨a⟩*⟨σge⟩ + (0 + 4im)*⟨a′⟩*⟨a⟩*⟨a′*σeg⟩ + (0 - 4im)*⟨a′⟩*⟨a⟩*⟨a′*σge⟩ + (0 - 2im)*⟨a⟩*⟨σge⟩*⟨a′*a′⟩ + (0 + 6im)*⟨a′⟩*⟨σeg⟩*⟨a′*a′⟩ + (0 - 6im)*⟨a′⟩*⟨σge⟩*⟨a′*a′⟩ + (0 + 2im)*⟨a⟩*⟨σeg⟩*⟨a′*a′⟩) + (0 + 2im)*f(t)*⟨a′*σee⟩ + (0 + 2im)*g*⟨a′*σge⟩ + (0 + 2im)*ω_0*⟨a′*a′*σee⟩\n",
       "∂ₜ(⟨a′*a′⟩) = g*((0 + 2im)*⟨a′*σeg⟩ + (0 + 2im)*⟨a′*σge⟩) + (0 + 2im)*⟨a′⟩*f(t) + (0 + 2im)*ω_0*⟨a′*a′⟩\n",
       "∂ₜ(⟨a′*a⟩) = g*((0 - 1im)*⟨a′*σeg⟩ + (0 - 1im)*⟨a′*σge⟩ + (0 + 1im)*⟨a*σeg⟩ + (0 + 1im)*⟨a*σge⟩) + (0 - 1im)*⟨a′⟩*f(t) + (0 + 1im)*⟨a⟩*f(t)\n",
       "∂ₜ(⟨a′*σeg⟩) = (0 + 1im)*g + g*((0 + 1im)*⟨a′*a′⟩ + (0 + 1im)*⟨a′*a⟩ + (0 - 2im)*⟨a′*a′*σee⟩ + (0 - 2im)*⟨a′*a*σee⟩) + (0 - 1im)*g*⟨σee⟩ + (0 + 1im)*f(t)*⟨σeg⟩ + (0 + 1im)*ω_0*⟨a′*σeg⟩ + (0 + 1im)*ω_d*⟨a′*σeg⟩\n",
       "∂ₜ(⟨a′*σge⟩) = g*((0 - 1im)*⟨a′*a′⟩ + (0 - 1im)*⟨a′*a⟩ + (0 + 2im)*⟨a′*a′*σee⟩ + (0 + 2im)*⟨a′*a*σee⟩) + (0 + 1im)*g*⟨σee⟩ + (0 + 1im)*f(t)*⟨σge⟩ + (0 + 1im)*ω_0*⟨a′*σge⟩ + (0 - 1im)*ω_d*⟨a′*σge⟩\n"
      ]
     },
     "metadata": {},
     "output_type": "display_data"
    }
   ],
   "source": [
    "eqs = meanfield([a] , H_rab; order=3, iv=t)\n",
    "eqs = complete(eqs)"
   ]
  },
  {
   "cell_type": "code",
   "execution_count": 34,
   "metadata": {},
   "outputs": [
    {
     "data": {
      "text/latex": [
       "\\begin{align}\n",
       "\\frac{d}{dt} \\langle a\\rangle  =& -1 i e^{1 i t \\omega_{d}} + g \\left( -1 i \\langle {\\sigma}^{{eg}}\\rangle  -1 i \\langle {\\sigma}^{{ge}}\\rangle  \\right) -1 i \\omega_{0} \\langle a\\rangle  \\\\\n",
       "\\frac{d}{dt} \\langle {\\sigma}^{{eg}}\\rangle  =& g \\left( 1 i \\langle a^\\dagger\\rangle  + 1 i \\langle a\\rangle  -2 i \\langle a^\\dagger  {\\sigma}^{{ee}}\\rangle  -2 i \\langle a  {\\sigma}^{{ee}}\\rangle  \\right) + 1 i \\omega_{d} \\langle {\\sigma}^{{eg}}\\rangle  \\\\\n",
       "\\frac{d}{dt} \\langle a^\\dagger  {\\sigma}^{{ee}}\\rangle  =& g \\left( 1 i \\langle {\\sigma}^{{ge}}\\rangle  -1 i \\langle a^\\dagger  a^\\dagger  {\\sigma}^{{eg}}\\rangle  + 1 i \\langle a^\\dagger  a^\\dagger  {\\sigma}^{{ge}}\\rangle  -1 i \\langle a^\\dagger  a  {\\sigma}^{{eg}}\\rangle  \\right) + 1 i g \\langle a^\\dagger  a  {\\sigma}^{{ge}}\\rangle  + 1 i \\omega_{0} \\langle a^\\dagger  {\\sigma}^{{ee}}\\rangle  + 1 i \\langle {\\sigma}^{{ee}}\\rangle  e^{1 i t \\omega_{d}} \\\\\n",
       "\\frac{d}{dt} \\langle a^\\dagger  a^\\dagger  {\\sigma}^{{eg}}\\rangle  =& g \\left( 1 i \\langle a^\\dagger  a^\\dagger  a^\\dagger\\rangle  -2 i \\langle a^\\dagger  {\\sigma}^{{ee}}\\rangle  + 1 i \\langle a^\\dagger  a^\\dagger  a\\rangle  -2 i \\langle {\\sigma}^{{ee}}\\rangle  \\langle a^\\dagger  a^\\dagger  a\\rangle  + 4 i \\langle a^\\dagger\\rangle ^{2} \\langle a  {\\sigma}^{{ee}}\\rangle  -4 i \\langle a^\\dagger\\rangle  \\langle a^\\dagger  a  {\\sigma}^{{ee}}\\rangle  -2 i \\langle a\\rangle  \\langle a^\\dagger  a^\\dagger  {\\sigma}^{{ee}}\\rangle  -2 i \\langle a^\\dagger  a^\\dagger\\rangle  \\langle a  {\\sigma}^{{ee}}\\rangle  -4 i \\langle a^\\dagger  a\\rangle  \\langle a^\\dagger  {\\sigma}^{{ee}}\\rangle  + 8 i \\langle a^\\dagger\\rangle  \\langle a\\rangle  \\langle a^\\dagger  {\\sigma}^{{ee}}\\rangle  + 4 i \\langle a\\rangle  \\langle {\\sigma}^{{ee}}\\rangle  \\langle a^\\dagger  a^\\dagger\\rangle  + 8 i \\langle a^\\dagger\\rangle  \\langle {\\sigma}^{{ee}}\\rangle  \\langle a^\\dagger  a\\rangle  -12 i \\langle a^\\dagger\\rangle ^{2} \\langle a\\rangle  \\langle {\\sigma}^{{ee}}\\rangle  \\right) -2 i g \\left( \\langle {\\sigma}^{{ee}}\\rangle  \\langle a^\\dagger  a^\\dagger  a^\\dagger\\rangle  + 6 \\langle a^\\dagger\\rangle ^{3} \\langle {\\sigma}^{{ee}}\\rangle  + 3 \\langle a^\\dagger  a^\\dagger\\rangle  \\langle a^\\dagger  {\\sigma}^{{ee}}\\rangle  + 3 \\langle a^\\dagger\\rangle  \\langle a^\\dagger  a^\\dagger  {\\sigma}^{{ee}}\\rangle  -6 \\langle a^\\dagger\\rangle ^{2} \\langle a^\\dagger  {\\sigma}^{{ee}}\\rangle  -6 \\langle a^\\dagger\\rangle  \\langle {\\sigma}^{{ee}}\\rangle  \\langle a^\\dagger  a^\\dagger\\rangle  \\right) + 2 i g \\langle a^\\dagger\\rangle  + 2 i \\omega_{0} \\langle a^\\dagger  a^\\dagger  {\\sigma}^{{eg}}\\rangle  + 2 i \\langle a^\\dagger  {\\sigma}^{{eg}}\\rangle  e^{1 i t \\omega_{d}} + 1 i \\omega_{d} \\langle a^\\dagger  a^\\dagger  {\\sigma}^{{eg}}\\rangle  \\\\\n",
       "\\frac{d}{dt} \\langle a^\\dagger  a^\\dagger  {\\sigma}^{{ge}}\\rangle  =& g \\left( -1 i \\langle a^\\dagger  a^\\dagger  a^\\dagger\\rangle  + 2 i \\langle a^\\dagger  {\\sigma}^{{ee}}\\rangle  -1 i \\langle a^\\dagger  a^\\dagger  a\\rangle  + 2 i \\langle {\\sigma}^{{ee}}\\rangle  \\langle a^\\dagger  a^\\dagger  a\\rangle  -4 i \\langle a^\\dagger\\rangle ^{2} \\langle a  {\\sigma}^{{ee}}\\rangle  + 4 i \\langle a^\\dagger\\rangle  \\langle a^\\dagger  a  {\\sigma}^{{ee}}\\rangle  + 2 i \\langle a\\rangle  \\langle a^\\dagger  a^\\dagger  {\\sigma}^{{ee}}\\rangle  + 2 i \\langle a^\\dagger  a^\\dagger\\rangle  \\langle a  {\\sigma}^{{ee}}\\rangle  + 4 i \\langle a^\\dagger  a\\rangle  \\langle a^\\dagger  {\\sigma}^{{ee}}\\rangle  -8 i \\langle a^\\dagger\\rangle  \\langle a\\rangle  \\langle a^\\dagger  {\\sigma}^{{ee}}\\rangle  -4 i \\langle a\\rangle  \\langle {\\sigma}^{{ee}}\\rangle  \\langle a^\\dagger  a^\\dagger\\rangle  -8 i \\langle a^\\dagger\\rangle  \\langle {\\sigma}^{{ee}}\\rangle  \\langle a^\\dagger  a\\rangle  + 12 i \\langle a^\\dagger\\rangle ^{2} \\langle a\\rangle  \\langle {\\sigma}^{{ee}}\\rangle  \\right) -1 i \\omega_{d} \\langle a^\\dagger  a^\\dagger  {\\sigma}^{{ge}}\\rangle  + 2 i g \\left( \\langle {\\sigma}^{{ee}}\\rangle  \\langle a^\\dagger  a^\\dagger  a^\\dagger\\rangle  + 6 \\langle a^\\dagger\\rangle ^{3} \\langle {\\sigma}^{{ee}}\\rangle  + 3 \\langle a^\\dagger  a^\\dagger\\rangle  \\langle a^\\dagger  {\\sigma}^{{ee}}\\rangle  + 3 \\langle a^\\dagger\\rangle  \\langle a^\\dagger  a^\\dagger  {\\sigma}^{{ee}}\\rangle  -6 \\langle a^\\dagger\\rangle ^{2} \\langle a^\\dagger  {\\sigma}^{{ee}}\\rangle  -6 \\langle a^\\dagger\\rangle  \\langle {\\sigma}^{{ee}}\\rangle  \\langle a^\\dagger  a^\\dagger\\rangle  \\right) + 2 i \\omega_{0} \\langle a^\\dagger  a^\\dagger  {\\sigma}^{{ge}}\\rangle  + 2 i \\langle a^\\dagger  {\\sigma}^{{ge}}\\rangle  e^{1 i t \\omega_{d}} \\\\\n",
       "\\frac{d}{dt} \\langle a^\\dagger  a  {\\sigma}^{{eg}}\\rangle  =& g \\left( 1 i \\langle a\\rangle  -1 i \\langle a^\\dagger  {\\sigma}^{{ee}}\\rangle  -1 i \\langle a  {\\sigma}^{{ee}}\\rangle  + 1 i \\langle a^\\dagger  a  a\\rangle  + 4 i \\langle a^\\dagger\\rangle ^{2} \\langle a  {\\sigma}^{{ee}}\\rangle  -4 i \\langle a^\\dagger\\rangle  \\langle a^\\dagger  a  {\\sigma}^{{ee}}\\rangle  -2 i \\langle {\\sigma}^{{ee}}\\rangle  \\langle a^\\dagger  a^\\dagger  a\\rangle  -2 i \\langle a\\rangle  \\langle a^\\dagger  a^\\dagger  {\\sigma}^{{ee}}\\rangle  -4 i \\langle a\\rangle  \\langle a^\\dagger  a  {\\sigma}^{{ee}}\\rangle  -2 i \\langle a^\\dagger\\rangle  \\langle a  a  {\\sigma}^{{ee}}\\rangle  -2 i \\langle a^\\dagger  {\\sigma}^{{ee}}\\rangle  \\langle a  a\\rangle  -2 i \\langle {\\sigma}^{{ee}}\\rangle  \\langle a^\\dagger  a  a\\rangle  -2 i \\langle a^\\dagger  a^\\dagger\\rangle  \\langle a  {\\sigma}^{{ee}}\\rangle  + 4 i \\langle a\\rangle ^{2} \\langle a^\\dagger  {\\sigma}^{{ee}}\\rangle  -4 i \\langle a^\\dagger  a\\rangle  \\langle a^\\dagger  {\\sigma}^{{ee}}\\rangle  -4 i \\langle a^\\dagger  a\\rangle  \\langle a  {\\sigma}^{{ee}}\\rangle  -12 i \\langle a\\rangle ^{2} \\langle a^\\dagger\\rangle  \\langle {\\sigma}^{{ee}}\\rangle  + 8 i \\langle a^\\dagger\\rangle  \\langle a\\rangle  \\langle a^\\dagger  {\\sigma}^{{ee}}\\rangle  + 4 i \\langle a\\rangle  \\langle {\\sigma}^{{ee}}\\rangle  \\langle a^\\dagger  a^\\dagger\\rangle  + 8 i \\langle a^\\dagger\\rangle  \\langle {\\sigma}^{{ee}}\\rangle  \\langle a^\\dagger  a\\rangle  + 8 i \\langle a\\rangle  \\langle {\\sigma}^{{ee}}\\rangle  \\langle a^\\dagger  a\\rangle  + 8 i \\langle a^\\dagger\\rangle  \\langle a\\rangle  \\langle a  {\\sigma}^{{ee}}\\rangle  -12 i \\langle a^\\dagger\\rangle ^{2} \\langle a\\rangle  \\langle {\\sigma}^{{ee}}\\rangle  + 4 i \\langle a^\\dagger\\rangle  \\langle {\\sigma}^{{ee}}\\rangle  \\langle a  a\\rangle  \\right) + 1 i g \\langle a^\\dagger  a^\\dagger  a\\rangle  -1 i \\langle a^\\dagger  {\\sigma}^{{eg}}\\rangle  e^{1 i t \\omega_{d}} + 1 i \\langle a  {\\sigma}^{{eg}}\\rangle  e^{1 i t \\omega_{d}} + 1 i \\omega_{d} \\langle a^\\dagger  a  {\\sigma}^{{eg}}\\rangle  \\\\\n",
       "\\frac{d}{dt} \\langle {\\sigma}^{{ee}}\\rangle  =& g \\left( -1 i \\langle a^\\dagger  {\\sigma}^{{eg}}\\rangle  + 1 i \\langle a^\\dagger  {\\sigma}^{{ge}}\\rangle  -1 i \\langle a  {\\sigma}^{{eg}}\\rangle  + 1 i \\langle a  {\\sigma}^{{ge}}\\rangle  \\right) \\\\\n",
       "\\frac{d}{dt} \\langle a^\\dagger  a^\\dagger  a^\\dagger\\rangle  =& g \\left( 3 i \\langle a^\\dagger  a^\\dagger  {\\sigma}^{{eg}}\\rangle  + 3 i \\langle a^\\dagger  a^\\dagger  {\\sigma}^{{ge}}\\rangle  \\right) + 3 i \\langle a^\\dagger  a^\\dagger\\rangle  e^{1 i t \\omega_{d}} + 3 i \\omega_{0} \\langle a^\\dagger  a^\\dagger  a^\\dagger\\rangle  \\\\\n",
       "\\frac{d}{dt} \\langle a^\\dagger  a^\\dagger  a\\rangle  =& g \\left( -1 i \\langle a^\\dagger  a^\\dagger  {\\sigma}^{{eg}}\\rangle  -1 i \\langle a^\\dagger  a^\\dagger  {\\sigma}^{{ge}}\\rangle  + 2 i \\langle a^\\dagger  a  {\\sigma}^{{eg}}\\rangle  + 2 i \\langle a^\\dagger  a  {\\sigma}^{{ge}}\\rangle  \\right) -1 i \\langle a^\\dagger  a^\\dagger\\rangle  e^{1 i t \\omega_{d}} + 1 i \\omega_{0} \\langle a^\\dagger  a^\\dagger  a\\rangle  + 2 i \\langle a^\\dagger  a\\rangle  e^{1 i t \\omega_{d}} \\\\\n",
       "\\frac{d}{dt} \\langle a^\\dagger  a  {\\sigma}^{{ee}}\\rangle  =& g \\left( -1 i \\langle a^\\dagger  {\\sigma}^{{eg}}\\rangle  -2 i \\langle a^\\dagger\\rangle ^{2} \\langle a  {\\sigma}^{{ge}}\\rangle  -1 i \\langle a^\\dagger  {\\sigma}^{{eg}}\\rangle  \\langle a  a\\rangle  + 1 i \\langle a^\\dagger  a^\\dagger\\rangle  \\langle a  {\\sigma}^{{ge}}\\rangle  + 2 i \\langle a\\rangle ^{2} \\langle a^\\dagger  {\\sigma}^{{eg}}\\rangle  -2 i \\langle a\\rangle  \\langle a^\\dagger  a  {\\sigma}^{{eg}}\\rangle  -1 i \\langle {\\sigma}^{{eg}}\\rangle  \\langle a^\\dagger  a  a\\rangle  + 2 i \\langle a^\\dagger\\rangle  \\langle a^\\dagger  a  {\\sigma}^{{ge}}\\rangle  + 2 i \\langle a\\rangle  \\langle a^\\dagger  a  {\\sigma}^{{ge}}\\rangle  + 1 i \\langle {\\sigma}^{{ge}}\\rangle  \\langle a^\\dagger  a^\\dagger  a\\rangle  + 1 i \\langle a^\\dagger  {\\sigma}^{{ge}}\\rangle  \\langle a  a\\rangle  -1 i \\langle a^\\dagger\\rangle  \\langle a  a  {\\sigma}^{{eg}}\\rangle  -2 i \\langle a\\rangle ^{2} \\langle a^\\dagger  {\\sigma}^{{ge}}\\rangle  + 2 i \\langle a^\\dagger  a\\rangle  \\langle a^\\dagger  {\\sigma}^{{ge}}\\rangle  -2 i \\langle a^\\dagger  a\\rangle  \\langle a  {\\sigma}^{{eg}}\\rangle  + 1 i \\langle a\\rangle  \\langle a^\\dagger  a^\\dagger  {\\sigma}^{{ge}}\\rangle  + 2 i \\langle a^\\dagger  a\\rangle  \\langle a  {\\sigma}^{{ge}}\\rangle  + 1 i \\langle {\\sigma}^{{ge}}\\rangle  \\langle a^\\dagger  a  a\\rangle  + 1 i \\langle a^\\dagger\\rangle  \\langle a  a  {\\sigma}^{{ge}}\\rangle  + 2 i \\langle a^\\dagger\\rangle  \\langle {\\sigma}^{{eg}}\\rangle  \\langle a  a\\rangle  -4 i \\langle a^\\dagger\\rangle  \\langle {\\sigma}^{{ge}}\\rangle  \\langle a^\\dagger  a\\rangle  + 6 i \\langle a^\\dagger\\rangle ^{2} \\langle a\\rangle  \\langle {\\sigma}^{{ge}}\\rangle  -4 i \\langle a^\\dagger\\rangle  \\langle a\\rangle  \\langle a^\\dagger  {\\sigma}^{{ge}}\\rangle  -4 i \\langle a^\\dagger\\rangle  \\langle a\\rangle  \\langle a  {\\sigma}^{{ge}}\\rangle  -2 i \\langle a\\rangle  \\langle {\\sigma}^{{ge}}\\rangle  \\langle a^\\dagger  a^\\dagger\\rangle  + 6 i \\langle a\\rangle ^{2} \\langle a^\\dagger\\rangle  \\langle {\\sigma}^{{ge}}\\rangle  + 4 i \\langle a\\rangle  \\langle {\\sigma}^{{eg}}\\rangle  \\langle a^\\dagger  a\\rangle  -6 i \\langle a\\rangle ^{2} \\langle a^\\dagger\\rangle  \\langle {\\sigma}^{{eg}}\\rangle  -2 i \\langle a^\\dagger\\rangle  \\langle {\\sigma}^{{ge}}\\rangle  \\langle a  a\\rangle  + 4 i \\langle a^\\dagger\\rangle  \\langle a\\rangle  \\langle a  {\\sigma}^{{eg}}\\rangle  -4 i \\langle a\\rangle  \\langle {\\sigma}^{{ge}}\\rangle  \\langle a^\\dagger  a\\rangle  \\right) -1 i g \\left( \\langle a^\\dagger  a^\\dagger\\rangle  \\langle a  {\\sigma}^{{eg}}\\rangle  + \\langle {\\sigma}^{{eg}}\\rangle  \\langle a^\\dagger  a^\\dagger  a\\rangle  + \\langle a\\rangle  \\langle a^\\dagger  a^\\dagger  {\\sigma}^{{eg}}\\rangle  + 2 \\langle a^\\dagger  a\\rangle  \\langle a^\\dagger  {\\sigma}^{{eg}}\\rangle  -2 \\langle a^\\dagger\\rangle ^{2} \\langle a  {\\sigma}^{{eg}}\\rangle  + 2 \\langle a^\\dagger\\rangle  \\langle a^\\dagger  a  {\\sigma}^{{eg}}\\rangle  + 6 \\langle a^\\dagger\\rangle ^{2} \\langle a\\rangle  \\langle {\\sigma}^{{eg}}\\rangle  -4 \\langle a^\\dagger\\rangle  \\langle a\\rangle  \\langle a^\\dagger  {\\sigma}^{{eg}}\\rangle  -2 \\langle a\\rangle  \\langle {\\sigma}^{{eg}}\\rangle  \\langle a^\\dagger  a^\\dagger\\rangle  -4 \\langle a^\\dagger\\rangle  \\langle {\\sigma}^{{eg}}\\rangle  \\langle a^\\dagger  a\\rangle  \\right) + 1 i g \\langle a  {\\sigma}^{{ge}}\\rangle  -1 i \\langle a^\\dagger  {\\sigma}^{{ee}}\\rangle  e^{1 i t \\omega_{d}} + 1 i \\langle a  {\\sigma}^{{ee}}\\rangle  e^{1 i t \\omega_{d}} \\\\\n",
       "\\frac{d}{dt} \\langle a^\\dagger  a^\\dagger  {\\sigma}^{{ee}}\\rangle  =& g \\left( -2 i \\langle a^\\dagger  a\\rangle  \\langle a^\\dagger  {\\sigma}^{{eg}}\\rangle  + 2 i \\langle a^\\dagger\\rangle ^{2} \\langle a  {\\sigma}^{{eg}}\\rangle  -2 i \\langle a^\\dagger\\rangle ^{2} \\langle a  {\\sigma}^{{ge}}\\rangle  -2 i \\langle a^\\dagger\\rangle  \\langle a^\\dagger  a  {\\sigma}^{{eg}}\\rangle  + 3 i \\langle a^\\dagger  a^\\dagger\\rangle  \\langle a^\\dagger  {\\sigma}^{{ge}}\\rangle  -1 i \\langle a^\\dagger  a^\\dagger\\rangle  \\langle a  {\\sigma}^{{eg}}\\rangle  + 1 i \\langle a^\\dagger  a^\\dagger\\rangle  \\langle a  {\\sigma}^{{ge}}\\rangle  + 6 i \\langle a^\\dagger\\rangle ^{2} \\langle a^\\dagger  {\\sigma}^{{eg}}\\rangle  -6 i \\langle a^\\dagger\\rangle ^{2} \\langle a^\\dagger  {\\sigma}^{{ge}}\\rangle  + 2 i \\langle a^\\dagger\\rangle  \\langle a^\\dagger  a  {\\sigma}^{{ge}}\\rangle  + 1 i \\langle {\\sigma}^{{ge}}\\rangle  \\langle a^\\dagger  a^\\dagger  a\\rangle  + 2 i \\langle a^\\dagger  a\\rangle  \\langle a^\\dagger  {\\sigma}^{{ge}}\\rangle  -1 i \\langle a\\rangle  \\langle a^\\dagger  a^\\dagger  {\\sigma}^{{eg}}\\rangle  + 1 i \\langle a\\rangle  \\langle a^\\dagger  a^\\dagger  {\\sigma}^{{ge}}\\rangle  -3 i \\langle a^\\dagger  a^\\dagger\\rangle  \\langle a^\\dagger  {\\sigma}^{{eg}}\\rangle  -1 i \\langle {\\sigma}^{{eg}}\\rangle  \\langle a^\\dagger  a^\\dagger  a^\\dagger\\rangle  + 1 i \\langle {\\sigma}^{{ge}}\\rangle  \\langle a^\\dagger  a^\\dagger  a^\\dagger\\rangle  -1 i \\langle {\\sigma}^{{eg}}\\rangle  \\langle a^\\dagger  a^\\dagger  a\\rangle  -3 i \\langle a^\\dagger\\rangle  \\langle a^\\dagger  a^\\dagger  {\\sigma}^{{eg}}\\rangle  + 3 i \\langle a^\\dagger\\rangle  \\langle a^\\dagger  a^\\dagger  {\\sigma}^{{ge}}\\rangle  -6 i \\langle a^\\dagger\\rangle ^{3} \\langle {\\sigma}^{{eg}}\\rangle  + 6 i \\langle a^\\dagger\\rangle ^{3} \\langle {\\sigma}^{{ge}}\\rangle  + 2 i \\langle a\\rangle  \\langle {\\sigma}^{{eg}}\\rangle  \\langle a^\\dagger  a^\\dagger\\rangle  + 4 i \\langle a^\\dagger\\rangle  \\langle {\\sigma}^{{eg}}\\rangle  \\langle a^\\dagger  a\\rangle  -4 i \\langle a^\\dagger\\rangle  \\langle {\\sigma}^{{ge}}\\rangle  \\langle a^\\dagger  a\\rangle  -6 i \\langle a^\\dagger\\rangle ^{2} \\langle a\\rangle  \\langle {\\sigma}^{{eg}}\\rangle  + 6 i \\langle a^\\dagger\\rangle ^{2} \\langle a\\rangle  \\langle {\\sigma}^{{ge}}\\rangle  + 4 i \\langle a^\\dagger\\rangle  \\langle a\\rangle  \\langle a^\\dagger  {\\sigma}^{{eg}}\\rangle  -4 i \\langle a^\\dagger\\rangle  \\langle a\\rangle  \\langle a^\\dagger  {\\sigma}^{{ge}}\\rangle  -2 i \\langle a\\rangle  \\langle {\\sigma}^{{ge}}\\rangle  \\langle a^\\dagger  a^\\dagger\\rangle  + 6 i \\langle a^\\dagger\\rangle  \\langle {\\sigma}^{{eg}}\\rangle  \\langle a^\\dagger  a^\\dagger\\rangle  -6 i \\langle a^\\dagger\\rangle  \\langle {\\sigma}^{{ge}}\\rangle  \\langle a^\\dagger  a^\\dagger\\rangle  \\right) + 2 i g \\langle a^\\dagger  {\\sigma}^{{ge}}\\rangle  + 2 i \\omega_{0} \\langle a^\\dagger  a^\\dagger  {\\sigma}^{{ee}}\\rangle  + 2 i \\langle a^\\dagger  {\\sigma}^{{ee}}\\rangle  e^{1 i t \\omega_{d}} \\\\\n",
       "\\frac{d}{dt} \\langle a^\\dagger  a^\\dagger\\rangle  =& g \\left( 2 i \\langle a^\\dagger  {\\sigma}^{{eg}}\\rangle  + 2 i \\langle a^\\dagger  {\\sigma}^{{ge}}\\rangle  \\right) + 2 i \\omega_{0} \\langle a^\\dagger  a^\\dagger\\rangle  + 2 i \\langle a^\\dagger\\rangle  e^{1 i t \\omega_{d}} \\\\\n",
       "\\frac{d}{dt} \\langle a^\\dagger  a\\rangle  =& g \\left( -1 i \\langle a^\\dagger  {\\sigma}^{{eg}}\\rangle  -1 i \\langle a^\\dagger  {\\sigma}^{{ge}}\\rangle  + 1 i \\langle a  {\\sigma}^{{eg}}\\rangle  + 1 i \\langle a  {\\sigma}^{{ge}}\\rangle  \\right) -1 i \\langle a^\\dagger\\rangle  e^{1 i t \\omega_{d}} + 1 i \\langle a\\rangle  e^{1 i t \\omega_{d}} \\\\\n",
       "\\frac{d}{dt} \\langle a^\\dagger  {\\sigma}^{{eg}}\\rangle  =& 1 i g + g \\left( 1 i \\langle a^\\dagger  a^\\dagger\\rangle  + 1 i \\langle a^\\dagger  a\\rangle  -2 i \\langle a^\\dagger  a^\\dagger  {\\sigma}^{{ee}}\\rangle  -2 i \\langle a^\\dagger  a  {\\sigma}^{{ee}}\\rangle  \\right) -1 i g \\langle {\\sigma}^{{ee}}\\rangle  + 1 i \\omega_{0} \\langle a^\\dagger  {\\sigma}^{{eg}}\\rangle  + 1 i \\omega_{d} \\langle a^\\dagger  {\\sigma}^{{eg}}\\rangle  + 1 i \\langle {\\sigma}^{{eg}}\\rangle  e^{1 i t \\omega_{d}} \\\\\n",
       "\\frac{d}{dt} \\langle a^\\dagger  {\\sigma}^{{ge}}\\rangle  =& g \\left( -1 i \\langle a^\\dagger  a^\\dagger\\rangle  -1 i \\langle a^\\dagger  a\\rangle  + 2 i \\langle a^\\dagger  a^\\dagger  {\\sigma}^{{ee}}\\rangle  + 2 i \\langle a^\\dagger  a  {\\sigma}^{{ee}}\\rangle  \\right) + 1 i g \\langle {\\sigma}^{{ee}}\\rangle  + 1 i \\omega_{0} \\langle a^\\dagger  {\\sigma}^{{ge}}\\rangle  -1 i \\omega_{d} \\langle a^\\dagger  {\\sigma}^{{ge}}\\rangle  + 1 i \\langle {\\sigma}^{{ge}}\\rangle  e^{1 i t \\omega_{d}}\n",
       "\\end{align}\n"
      ],
      "text/plain": [
       "∂ₜ(⟨a⟩) = (0 - 1im)*exp((0 + 1im)*t*ω_d) + g*((0 - 1im)*⟨σeg⟩ + (0 - 1im)*⟨σge⟩) + (0 - 1im)*ω_0*⟨a⟩\n",
       "∂ₜ(⟨σeg⟩) = g*((0 + 1im)*⟨a′⟩ + (0 + 1im)*⟨a⟩ + (0 - 2im)*⟨a′*σee⟩ + (0 - 2im)*⟨a*σee⟩) + (0 + 1im)*ω_d*⟨σeg⟩\n",
       "∂ₜ(⟨a′*σee⟩) = g*((0 + 1im)*⟨σge⟩ + (0 - 1im)*⟨a′*a′*σeg⟩ + (0 + 1im)*⟨a′*a′*σge⟩ + (0 - 1im)*⟨a′*a*σeg⟩) + (0 + 1im)*g*⟨a′*a*σge⟩ + (0 + 1im)*ω_0*⟨a′*σee⟩ + (0 + 1im)*⟨σee⟩*exp((0 + 1im)*t*ω_d)\n",
       "∂ₜ(⟨a′*a′*σeg⟩) = g*((0 + 1im)*⟨a′*a′*a′⟩ + (0 - 2im)*⟨a′*σee⟩ + (0 + 1im)*⟨a′*a′*a⟩ + (0 - 2im)*⟨σee⟩*⟨a′*a′*a⟩ + (0 + 4im)*(⟨a′⟩^2)*⟨a*σee⟩ + (0 - 4im)*⟨a′⟩*⟨a′*a*σee⟩ + (0 - 2im)*⟨a⟩*⟨a′*a′*σee⟩ + (0 - 2im)*⟨a′*a′⟩*⟨a*σee⟩ + (0 - 4im)*⟨a′*a⟩*⟨a′*σee⟩ + (0 + 8im)*⟨a′⟩*⟨a⟩*⟨a′*σee⟩ + (0 + 4im)*⟨a⟩*⟨σee⟩*⟨a′*a′⟩ + (0 + 8im)*⟨a′⟩*⟨σee⟩*⟨a′*a⟩ + (0 - 12im)*(⟨a′⟩^2)*⟨a⟩*⟨σee⟩) + (0 - 2im)*g*(⟨σee⟩*⟨a′*a′*a′⟩ + 6(⟨a′⟩^3)*⟨σee⟩ + 3⟨a′*a′⟩*⟨a′*σee⟩ + 3⟨a′⟩*⟨a′*a′*σee⟩ - 6(⟨a′⟩^2)*⟨a′*σee⟩ - 6⟨a′⟩*⟨σee⟩*⟨a′*a′⟩) + (0 + 2im)*g*⟨a′⟩ + (0 + 2im)*ω_0*⟨a′*a′*σeg⟩ + (0 + 2im)*⟨a′*σeg⟩*exp((0 + 1im)*t*ω_d) + (0 + 1im)*ω_d*⟨a′*a′*σeg⟩\n",
       "∂ₜ(⟨a′*a′*σge⟩) = g*((0 - 1im)*⟨a′*a′*a′⟩ + (0 + 2im)*⟨a′*σee⟩ + (0 - 1im)*⟨a′*a′*a⟩ + (0 + 2im)*⟨σee⟩*⟨a′*a′*a⟩ + (0 - 4im)*(⟨a′⟩^2)*⟨a*σee⟩ + (0 + 4im)*⟨a′⟩*⟨a′*a*σee⟩ + (0 + 2im)*⟨a⟩*⟨a′*a′*σee⟩ + (0 + 2im)*⟨a′*a′⟩*⟨a*σee⟩ + (0 + 4im)*⟨a′*a⟩*⟨a′*σee⟩ + (0 - 8im)*⟨a′⟩*⟨a⟩*⟨a′*σee⟩ + (0 - 4im)*⟨a⟩*⟨σee⟩*⟨a′*a′⟩ + (0 - 8im)*⟨a′⟩*⟨σee⟩*⟨a′*a⟩ + (0 + 12im)*(⟨a′⟩^2)*⟨a⟩*⟨σee⟩) + (0 - 1im)*ω_d*⟨a′*a′*σge⟩ + (0 + 2im)*g*(⟨σee⟩*⟨a′*a′*a′⟩ + 6(⟨a′⟩^3)*⟨σee⟩ + 3⟨a′*a′⟩*⟨a′*σee⟩ + 3⟨a′⟩*⟨a′*a′*σee⟩ - 6(⟨a′⟩^2)*⟨a′*σee⟩ - 6⟨a′⟩*⟨σee⟩*⟨a′*a′⟩) + (0 + 2im)*ω_0*⟨a′*a′*σge⟩ + (0 + 2im)*⟨a′*σge⟩*exp((0 + 1im)*t*ω_d)\n",
       "∂ₜ(⟨a′*a*σeg⟩) = g*((0 + 1im)*⟨a⟩ + (0 - 1im)*⟨a′*σee⟩ + (0 - 1im)*⟨a*σee⟩ + (0 + 1im)*⟨a′*a*a⟩ + (0 + 4im)*(⟨a′⟩^2)*⟨a*σee⟩ + (0 - 4im)*⟨a′⟩*⟨a′*a*σee⟩ + (0 - 2im)*⟨σee⟩*⟨a′*a′*a⟩ + (0 - 2im)*⟨a⟩*⟨a′*a′*σee⟩ + (0 - 4im)*⟨a⟩*⟨a′*a*σee⟩ + (0 - 2im)*⟨a′⟩*⟨a*a*σee⟩ + (0 - 2im)*⟨a′*σee⟩*⟨a*a⟩ + (0 - 2im)*⟨σee⟩*⟨a′*a*a⟩ + (0 - 2im)*⟨a′*a′⟩*⟨a*σee⟩ + (0 + 4im)*(⟨a⟩^2)*⟨a′*σee⟩ + (0 - 4im)*⟨a′*a⟩*⟨a′*σee⟩ + (0 - 4im)*⟨a′*a⟩*⟨a*σee⟩ + (0 - 12im)*(⟨a⟩^2)*⟨a′⟩*⟨σee⟩ + (0 + 8im)*⟨a′⟩*⟨a⟩*⟨a′*σee⟩ + (0 + 4im)*⟨a⟩*⟨σee⟩*⟨a′*a′⟩ + (0 + 8im)*⟨a′⟩*⟨σee⟩*⟨a′*a⟩ + (0 + 8im)*⟨a⟩*⟨σee⟩*⟨a′*a⟩ + (0 + 8im)*⟨a′⟩*⟨a⟩*⟨a*σee⟩ + (0 - 12im)*(⟨a′⟩^2)*⟨a⟩*⟨σee⟩ + (0 + 4im)*⟨a′⟩*⟨σee⟩*⟨a*a⟩) + (0 + 1im)*g*⟨a′*a′*a⟩ + (0 - 1im)*⟨a′*σeg⟩*exp((0 + 1im)*t*ω_d) + (0 + 1im)*⟨a*σeg⟩*exp((0 + 1im)*t*ω_d) + (0 + 1im)*ω_d*⟨a′*a*σeg⟩\n",
       "∂ₜ(⟨σee⟩) = g*((0 - 1im)*⟨a′*σeg⟩ + (0 + 1im)*⟨a′*σge⟩ + (0 - 1im)*⟨a*σeg⟩ + (0 + 1im)*⟨a*σge⟩)\n",
       "∂ₜ(⟨a′*a′*a′⟩) = g*((0 + 3im)*⟨a′*a′*σeg⟩ + (0 + 3im)*⟨a′*a′*σge⟩) + (0 + 3im)*⟨a′*a′⟩*exp((0 + 1im)*t*ω_d) + (0 + 3im)*ω_0*⟨a′*a′*a′⟩\n",
       "∂ₜ(⟨a′*a′*a⟩) = g*((0 - 1im)*⟨a′*a′*σeg⟩ + (0 - 1im)*⟨a′*a′*σge⟩ + (0 + 2im)*⟨a′*a*σeg⟩ + (0 + 2im)*⟨a′*a*σge⟩) + (0 - 1im)*⟨a′*a′⟩*exp((0 + 1im)*t*ω_d) + (0 + 1im)*ω_0*⟨a′*a′*a⟩ + (0 + 2im)*⟨a′*a⟩*exp((0 + 1im)*t*ω_d)\n",
       "∂ₜ(⟨a′*a*σee⟩) = g*((0 - 1im)*⟨a′*σeg⟩ + (0 - 2im)*(⟨a′⟩^2)*⟨a*σge⟩ + (0 - 1im)*⟨a′*σeg⟩*⟨a*a⟩ + (0 + 1im)*⟨a′*a′⟩*⟨a*σge⟩ + (0 + 2im)*(⟨a⟩^2)*⟨a′*σeg⟩ + (0 - 2im)*⟨a⟩*⟨a′*a*σeg⟩ + (0 - 1im)*⟨σeg⟩*⟨a′*a*a⟩ + (0 + 2im)*⟨a′⟩*⟨a′*a*σge⟩ + (0 + 2im)*⟨a⟩*⟨a′*a*σge⟩ + (0 + 1im)*⟨σge⟩*⟨a′*a′*a⟩ + (0 + 1im)*⟨a′*σge⟩*⟨a*a⟩ + (0 - 1im)*⟨a′⟩*⟨a*a*σeg⟩ + (0 - 2im)*(⟨a⟩^2)*⟨a′*σge⟩ + (0 + 2im)*⟨a′*a⟩*⟨a′*σge⟩ + (0 - 2im)*⟨a′*a⟩*⟨a*σeg⟩ + (0 + 1im)*⟨a⟩*⟨a′*a′*σge⟩ + (0 + 2im)*⟨a′*a⟩*⟨a*σge⟩ + (0 + 1im)*⟨σge⟩*⟨a′*a*a⟩ + (0 + 1im)*⟨a′⟩*⟨a*a*σge⟩ + (0 + 2im)*⟨a′⟩*⟨σeg⟩*⟨a*a⟩ + (0 - 4im)*⟨a′⟩*⟨σge⟩*⟨a′*a⟩ + (0 + 6im)*(⟨a′⟩^2)*⟨a⟩*⟨σge⟩ + (0 - 4im)*⟨a′⟩*⟨a⟩*⟨a′*σge⟩ + (0 - 4im)*⟨a′⟩*⟨a⟩*⟨a*σge⟩ + (0 - 2im)*⟨a⟩*⟨σge⟩*⟨a′*a′⟩ + (0 + 6im)*(⟨a⟩^2)*⟨a′⟩*⟨σge⟩ + (0 + 4im)*⟨a⟩*⟨σeg⟩*⟨a′*a⟩ + (0 - 6im)*(⟨a⟩^2)*⟨a′⟩*⟨σeg⟩ + (0 - 2im)*⟨a′⟩*⟨σge⟩*⟨a*a⟩ + (0 + 4im)*⟨a′⟩*⟨a⟩*⟨a*σeg⟩ + (0 - 4im)*⟨a⟩*⟨σge⟩*⟨a′*a⟩) + (0 - 1im)*g*(⟨a′*a′⟩*⟨a*σeg⟩ + ⟨σeg⟩*⟨a′*a′*a⟩ + ⟨a⟩*⟨a′*a′*σeg⟩ + 2⟨a′*a⟩*⟨a′*σeg⟩ + 2⟨a′⟩*⟨a′*a*σeg⟩ + 6(⟨a′⟩^2)*⟨a⟩*⟨σeg⟩ - 2(⟨a′⟩^2)*⟨a*σeg⟩ - 4⟨a′⟩*⟨a⟩*⟨a′*σeg⟩ - 2⟨a⟩*⟨σeg⟩*⟨a′*a′⟩ - 4⟨a′⟩*⟨σeg⟩*⟨a′*a⟩) + (0 + 1im)*g*⟨a*σge⟩ + (0 - 1im)*⟨a′*σee⟩*exp((0 + 1im)*t*ω_d) + (0 + 1im)*⟨a*σee⟩*exp((0 + 1im)*t*ω_d)\n",
       "∂ₜ(⟨a′*a′*σee⟩) = g*((0 - 2im)*⟨a′*a⟩*⟨a′*σeg⟩ + (0 + 2im)*(⟨a′⟩^2)*⟨a*σeg⟩ + (0 - 2im)*(⟨a′⟩^2)*⟨a*σge⟩ + (0 - 2im)*⟨a′⟩*⟨a′*a*σeg⟩ + (0 + 3im)*⟨a′*a′⟩*⟨a′*σge⟩ + (0 - 1im)*⟨a′*a′⟩*⟨a*σeg⟩ + (0 + 1im)*⟨a′*a′⟩*⟨a*σge⟩ + (0 + 6im)*(⟨a′⟩^2)*⟨a′*σeg⟩ + (0 - 6im)*(⟨a′⟩^2)*⟨a′*σge⟩ + (0 + 2im)*⟨a′⟩*⟨a′*a*σge⟩ + (0 + 1im)*⟨σge⟩*⟨a′*a′*a⟩ + (0 + 2im)*⟨a′*a⟩*⟨a′*σge⟩ + (0 - 1im)*⟨a⟩*⟨a′*a′*σeg⟩ + (0 + 1im)*⟨a⟩*⟨a′*a′*σge⟩ + (0 - 3im)*⟨a′*a′⟩*⟨a′*σeg⟩ + (0 - 1im)*⟨σeg⟩*⟨a′*a′*a′⟩ + (0 + 1im)*⟨σge⟩*⟨a′*a′*a′⟩ + (0 - 1im)*⟨σeg⟩*⟨a′*a′*a⟩ + (0 - 3im)*⟨a′⟩*⟨a′*a′*σeg⟩ + (0 + 3im)*⟨a′⟩*⟨a′*a′*σge⟩ + (0 - 6im)*(⟨a′⟩^3)*⟨σeg⟩ + (0 + 6im)*(⟨a′⟩^3)*⟨σge⟩ + (0 + 2im)*⟨a⟩*⟨σeg⟩*⟨a′*a′⟩ + (0 + 4im)*⟨a′⟩*⟨σeg⟩*⟨a′*a⟩ + (0 - 4im)*⟨a′⟩*⟨σge⟩*⟨a′*a⟩ + (0 - 6im)*(⟨a′⟩^2)*⟨a⟩*⟨σeg⟩ + (0 + 6im)*(⟨a′⟩^2)*⟨a⟩*⟨σge⟩ + (0 + 4im)*⟨a′⟩*⟨a⟩*⟨a′*σeg⟩ + (0 - 4im)*⟨a′⟩*⟨a⟩*⟨a′*σge⟩ + (0 - 2im)*⟨a⟩*⟨σge⟩*⟨a′*a′⟩ + (0 + 6im)*⟨a′⟩*⟨σeg⟩*⟨a′*a′⟩ + (0 - 6im)*⟨a′⟩*⟨σge⟩*⟨a′*a′⟩) + (0 + 2im)*g*⟨a′*σge⟩ + (0 + 2im)*ω_0*⟨a′*a′*σee⟩ + (0 + 2im)*⟨a′*σee⟩*exp((0 + 1im)*t*ω_d)\n",
       "∂ₜ(⟨a′*a′⟩) = g*((0 + 2im)*⟨a′*σeg⟩ + (0 + 2im)*⟨a′*σge⟩) + (0 + 2im)*ω_0*⟨a′*a′⟩ + (0 + 2im)*⟨a′⟩*exp((0 + 1im)*t*ω_d)\n",
       "∂ₜ(⟨a′*a⟩) = g*((0 - 1im)*⟨a′*σeg⟩ + (0 - 1im)*⟨a′*σge⟩ + (0 + 1im)*⟨a*σeg⟩ + (0 + 1im)*⟨a*σge⟩) + (0 - 1im)*⟨a′⟩*exp((0 + 1im)*t*ω_d) + (0 + 1im)*⟨a⟩*exp((0 + 1im)*t*ω_d)\n",
       "∂ₜ(⟨a′*σeg⟩) = (0 + 1im)*g + g*((0 + 1im)*⟨a′*a′⟩ + (0 + 1im)*⟨a′*a⟩ + (0 - 2im)*⟨a′*a′*σee⟩ + (0 - 2im)*⟨a′*a*σee⟩) + (0 - 1im)*g*⟨σee⟩ + (0 + 1im)*ω_0*⟨a′*σeg⟩ + (0 + 1im)*ω_d*⟨a′*σeg⟩ + (0 + 1im)*⟨σeg⟩*exp((0 + 1im)*t*ω_d)\n",
       "∂ₜ(⟨a′*σge⟩) = g*((0 - 1im)*⟨a′*a′⟩ + (0 - 1im)*⟨a′*a⟩ + (0 + 2im)*⟨a′*a′*σee⟩ + (0 + 2im)*⟨a′*a*σee⟩) + (0 + 1im)*g*⟨σee⟩ + (0 + 1im)*ω_0*⟨a′*σge⟩ + (0 - 1im)*ω_d*⟨a′*σge⟩ + (0 + 1im)*⟨σge⟩*exp((0 + 1im)*t*ω_d)\n"
      ]
     },
     "metadata": {},
     "output_type": "display_data"
    }
   ],
   "source": [
    "substitute(eqs, Dict([f(t) => exp(1im*ω_d*t)]))"
   ]
  },
  {
   "cell_type": "code",
   "execution_count": 49,
   "metadata": {},
   "outputs": [
    {
     "data": {
      "text/plain": [
       "(Any[], Any[], Any[])"
      ]
     },
     "metadata": {},
     "output_type": "display_data"
    }
   ],
   "source": [
    "k=1\n",
    "γ, J_ops, Jd_ops = effective_dissipator(k, ωs, hs,t)\n",
    "#print(5)"
   ]
  },
  {
   "cell_type": "code",
   "execution_count": 26,
   "metadata": {},
   "outputs": [
    {
     "ename": "ArgumentError",
     "evalue": "ArgumentError: Sym{Parameter, Base.ImmutableDict{DataType, Any}}[g, ω_0, ω_d] are missing from the variable map.",
     "output_type": "error",
     "traceback": [
      "ArgumentError: Sym{Parameter, Base.ImmutableDict{DataType, Any}}[g, ω_0, ω_d] are missing from the variable map.\n",
      "\n",
      "Stacktrace:\n",
      " [1] throw_missingvars(vars::Vector{Sym{Parameter, Base.ImmutableDict{DataType, Any}}})\n",
      "   @ ModelingToolkit ~/.julia/packages/ModelingToolkit/tMgaW/src/variables.jl:100\n",
      " [2] _varmap_to_vars(varmap::Dict{Int64, Float64}, varlist::Vector{Sym{Parameter, Base.ImmutableDict{DataType, Any}}}; defaults::Dict{Any, Any}, check::Bool, toterm::typeof(Symbolics.diff2term))\n",
      "   @ ModelingToolkit ~/.julia/packages/ModelingToolkit/tMgaW/src/variables.jl:94\n",
      " [3] varmap_to_vars(varmap::Vector{Pair{Int64, Float64}}, varlist::Vector{Sym{Parameter, Base.ImmutableDict{DataType, Any}}}; defaults::Dict{Any, Any}, check::Bool, toterm::Function, promotetoconcrete::Nothing, tofloat::Bool, use_union::Bool)\n",
      "   @ ModelingToolkit ~/.julia/packages/ModelingToolkit/tMgaW/src/variables.jl:63\n",
      " [4] process_DEProblem(constructor::Type, sys::ODESystem, u0map::Vector{ComplexF64}, parammap::Vector{Pair{Int64, Float64}}; implicit_dae::Bool, du0map::Nothing, version::Nothing, tgrad::Bool, jac::Bool, checkbounds::Bool, sparse::Bool, simplify::Bool, linenumbers::Bool, parallel::Symbolics.SerialForm, eval_expression::Bool, use_union::Bool, kwargs::Base.Pairs{Symbol, Bool, Tuple{Symbol, Symbol}, NamedTuple{(:has_difference, :check_length), Tuple{Bool, Bool}}})\n",
      "   @ ModelingToolkit ~/.julia/packages/ModelingToolkit/tMgaW/src/systems/diffeqs/abstractodesystem.jl:540\n",
      " [5] (ODEProblem{true})(sys::ODESystem, u0map::Vector{ComplexF64}, tspan::Tuple{Float64, Int64}, parammap::Vector{Pair{Int64, Float64}}; callback::Nothing, check_length::Bool, kwargs::Base.Pairs{Symbol, Union{}, Tuple{}, NamedTuple{(), Tuple{}}})\n",
      "   @ ModelingToolkit ~/.julia/packages/ModelingToolkit/tMgaW/src/systems/diffeqs/abstractodesystem.jl:635\n",
      " [6] (ODEProblem{true})(sys::ODESystem, u0map::Vector{ComplexF64}, tspan::Tuple{Float64, Int64}, parammap::Vector{Pair{Int64, Float64}})\n",
      "   @ ModelingToolkit ~/.julia/packages/ModelingToolkit/tMgaW/src/systems/diffeqs/abstractodesystem.jl:634\n",
      " [7] ODEProblem(::ODESystem, ::Vector{ComplexF64}, ::Vararg{Any}; kwargs::Base.Pairs{Symbol, Union{}, Tuple{}, NamedTuple{(), Tuple{}}})\n",
      "   @ ModelingToolkit ~/.julia/packages/ModelingToolkit/tMgaW/src/systems/diffeqs/abstractodesystem.jl:611\n",
      " [8] ODEProblem(::ODESystem, ::Vector{ComplexF64}, ::Vararg{Any})\n",
      "   @ ModelingToolkit ~/.julia/packages/ModelingToolkit/tMgaW/src/systems/diffeqs/abstractodesystem.jl:611\n",
      " [9] top-level scope\n",
      "   @ ~/Documents/GitHub2/QuantumGraining.jl/notebooks/effective_ham_test.ipynb:6"
     ]
    }
   ],
   "source": [
    "f(t) = exp(1im*ω_d*t)\n",
    "@named sys = ODESystem(eqs)\n",
    "#ω_0,ω_d, g = 1,1,1\n",
    "vals = [1.0;1.0;1.0]\n",
    "u0 = zeros(ComplexF64, length(eqs))\n",
    "prob = ODEProblem(sys,u0,(0.0, 1), [g; ω_0; ω_d].=>vals)\n",
    "sol = solve(prob,Tsit5(),maxiters=1e7)"
   ]
  },
  {
   "cell_type": "code",
   "execution_count": 24,
   "metadata": {},
   "outputs": [
    {
     "data": {
      "text/plain": [
       "275"
      ]
     },
     "execution_count": 24,
     "metadata": {},
     "output_type": "execute_result"
    }
   ],
   "source": [
    "length(Jd_ops)"
   ]
  },
  {
   "cell_type": "code",
   "execution_count": null,
   "metadata": {},
   "outputs": [],
   "source": []
  },
  {
   "cell_type": "code",
   "execution_count": 39,
   "metadata": {},
   "outputs": [
    {
     "data": {
      "text/latex": [
       "\\begin{align}\n",
       "\\frac{d}{dt} \\left( 1 -2 \\langle {\\sigma_{1}}^{{22}}\\rangle  \\right) =& \\frac{-4608.0 i g \\omega_{d}^{8} \\langle {\\sigma_{1}}^{{21}}  {\\sigma_{2}}^{{12}}\\rangle  -4608.0 i g \\omega_{d}^{8} \\langle {\\sigma_{1}}^{{21}}  {\\sigma_{2}}^{{21}}\\rangle  + 4608.0 i g \\omega_{d}^{8} \\langle {\\sigma_{1}}^{{12}}  {\\sigma_{2}}^{{12}}\\rangle  + 4608.0 i g \\omega_{d}^{8} \\langle {\\sigma_{1}}^{{12}}  {\\sigma_{2}}^{{21}}\\rangle  -2560.0 i g \\epsilon_{d} \\omega_{d}^{6} \\langle {\\sigma_{1}}^{{21}}\\rangle  e^{1 i t \\omega_{d} -0.5 \\tau^{2} \\omega_{d}^{2}} -2560.0 i g \\epsilon_{d} \\omega_{d}^{6} \\langle {\\sigma_{1}}^{{21}}\\rangle  e^{-1 i t \\omega_{d} -0.5 \\tau^{2} \\omega_{d}^{2}} + 2560.0 i g \\epsilon_{d} \\omega_{d}^{6} \\langle {\\sigma_{1}}^{{12}}\\rangle  e^{-1 i t \\omega_{d} -0.5 \\tau^{2} \\omega_{d}^{2}} + 2560.0 i g \\epsilon_{d} \\omega_{d}^{6} \\langle {\\sigma_{1}}^{{12}}\\rangle  e^{1 i t \\omega_{d} -0.5 \\tau^{2} \\omega_{d}^{2}} -105984.0 i g \\epsilon_{d} \\omega_{d}^{8} \\langle {\\sigma_{1}}^{{21}}\\rangle  e^{-1 i t \\omega_{d} -0.5 \\tau^{2} \\omega_{d}^{2}} -105984.0 i g \\epsilon_{d} \\omega_{d}^{8} \\langle {\\sigma_{1}}^{{21}}\\rangle  e^{1 i t \\omega_{d} -0.5 \\tau^{2} \\omega_{d}^{2}} + 105984.0 i g \\epsilon_{d} \\omega_{d}^{8} \\langle {\\sigma_{1}}^{{12}}\\rangle  e^{-1 i t \\omega_{d} -0.5 \\tau^{2} \\omega_{d}^{2}} + 105984.0 i g \\epsilon_{d} \\omega_{d}^{8} \\langle {\\sigma_{1}}^{{12}}\\rangle  e^{1 i t \\omega_{d} -0.5 \\tau^{2} \\omega_{d}^{2}} -3072.0 i g \\epsilon_{d} \\tau^{2} \\omega_{d}^{8} \\langle {\\sigma_{1}}^{{21}}\\rangle  e^{1 i t \\omega_{d} -0.5 \\tau^{2} \\omega_{d}^{2}} -3072.0 i g \\epsilon_{d} \\tau^{2} \\omega_{d}^{8} \\langle {\\sigma_{1}}^{{21}}\\rangle  e^{-1 i t \\omega_{d} -0.5 \\tau^{2} \\omega_{d}^{2}} + 3072.0 i g \\epsilon_{d} \\tau^{2} \\omega_{d}^{8} \\langle {\\sigma_{1}}^{{12}}\\rangle  e^{-1 i t \\omega_{d} -0.5 \\tau^{2} \\omega_{d}^{2}} + 3072.0 i g \\epsilon_{d} \\tau^{2} \\omega_{d}^{8} \\langle {\\sigma_{1}}^{{12}}\\rangle  e^{1 i t \\omega_{d} -0.5 \\tau^{2} \\omega_{d}^{2}}}{256 \\omega_{d}^{8}} \\\\\n",
       "\\frac{d}{dt} \\left( 1 -2 \\langle {\\sigma_{2}}^{{22}}\\rangle  \\right) =& \\frac{3.01989888e8 i g \\omega_{d}^{20} \\langle {\\sigma_{1}}^{{21}}  {\\sigma_{2}}^{{12}}\\rangle  -3.01989888e8 i g \\omega_{d}^{20} \\langle {\\sigma_{1}}^{{21}}  {\\sigma_{2}}^{{21}}\\rangle  + 3.01989888e8 i g \\omega_{d}^{20} \\langle {\\sigma_{1}}^{{12}}  {\\sigma_{2}}^{{12}}\\rangle  -3.01989888e8 i g \\omega_{d}^{20} \\langle {\\sigma_{1}}^{{12}}  {\\sigma_{2}}^{{21}}\\rangle  + 8.388608e7 i \\omega_{1} \\epsilon_{d} \\omega_{d}^{18} \\langle {\\sigma_{2}}^{{12}}\\rangle  e^{-1 i t \\omega_{d} -0.5 \\tau^{2} \\omega_{d}^{2}} + 8.388608e7 i \\omega_{1} \\epsilon_{d} \\omega_{d}^{18} \\langle {\\sigma_{2}}^{{12}}\\rangle  e^{1 i t \\omega_{d} -0.5 \\tau^{2} \\omega_{d}^{2}} + 1.50994944e8 i \\omega_{2} \\epsilon_{d} \\omega_{d}^{19} \\langle {\\sigma_{2}}^{{12}}\\rangle  e^{1 i t \\omega_{d} -0.5 \\tau^{2} \\omega_{d}^{2}} -8.388608e7 i \\omega_{1} \\epsilon_{d} \\omega_{d}^{18} \\langle {\\sigma_{2}}^{{21}}\\rangle  e^{-1 i t \\omega_{d} -0.5 \\tau^{2} \\omega_{d}^{2}} -8.388608e7 i \\omega_{1} \\epsilon_{d} \\omega_{d}^{18} \\langle {\\sigma_{2}}^{{21}}\\rangle  e^{1 i t \\omega_{d} -0.5 \\tau^{2} \\omega_{d}^{2}} + 3.472883712e9 i \\omega_{1} \\epsilon_{d} \\omega_{d}^{20} \\langle {\\sigma_{2}}^{{12}}\\rangle  e^{-1 i t \\omega_{d} -0.5 \\tau^{2} \\omega_{d}^{2}} + 3.472883712e9 i \\omega_{1} \\epsilon_{d} \\omega_{d}^{20} \\langle {\\sigma_{2}}^{{12}}\\rangle  e^{1 i t \\omega_{d} -0.5 \\tau^{2} \\omega_{d}^{2}} + 1.50994944e8 i \\omega_{2} \\epsilon_{d} \\omega_{d}^{19} \\langle {\\sigma_{2}}^{{21}}\\rangle  e^{1 i t \\omega_{d} -0.5 \\tau^{2} \\omega_{d}^{2}} -1.50994944e8 i \\omega_{2} \\epsilon_{d} \\omega_{d}^{19} \\langle {\\sigma_{2}}^{{21}}\\rangle  e^{-1 i t \\omega_{d} -0.5 \\tau^{2} \\omega_{d}^{2}} -1.6777216e8 i \\omega_{1} \\epsilon_{d} \\omega_{d}^{18} e^{-1 i t \\omega_{d} -0.5 \\tau^{2} \\omega_{d}^{2}} \\langle {\\sigma_{1}}^{{22}}  {\\sigma_{2}}^{{12}}\\rangle  -1.6777216e8 i \\omega_{1} \\epsilon_{d} \\omega_{d}^{18} e^{1 i t \\omega_{d} -0.5 \\tau^{2} \\omega_{d}^{2}} \\langle {\\sigma_{1}}^{{22}}  {\\sigma_{2}}^{{12}}\\rangle  -6.945767424e9 i \\omega_{1} \\epsilon_{d} \\omega_{d}^{20} e^{1 i t \\omega_{d} -0.5 \\tau^{2} \\omega_{d}^{2}} \\langle {\\sigma_{1}}^{{22}}  {\\sigma_{2}}^{{12}}\\rangle  + 1.6777216e8 i \\omega_{1} \\epsilon_{d} \\omega_{d}^{18} e^{-1 i t \\omega_{d} -0.5 \\tau^{2} \\omega_{d}^{2}} \\langle {\\sigma_{1}}^{{22}}  {\\sigma_{2}}^{{21}}\\rangle  + 1.6777216e8 i \\omega_{1} \\epsilon_{d} \\omega_{d}^{18} e^{1 i t \\omega_{d} -0.5 \\tau^{2} \\omega_{d}^{2}} \\langle {\\sigma_{1}}^{{22}}  {\\sigma_{2}}^{{21}}\\rangle  + 6.945767424e9 i \\omega_{1} \\epsilon_{d} \\omega_{d}^{20} e^{1 i t \\omega_{d} -0.5 \\tau^{2} \\omega_{d}^{2}} \\langle {\\sigma_{1}}^{{22}}  {\\sigma_{2}}^{{21}}\\rangle  + 6.945767424e9 i \\omega_{1} \\epsilon_{d} \\omega_{d}^{20} e^{-1 i t \\omega_{d} -0.5 \\tau^{2} \\omega_{d}^{2}} \\langle {\\sigma_{1}}^{{22}}  {\\sigma_{2}}^{{21}}\\rangle  -1.50994944e8 i \\omega_{2} \\epsilon_{d} \\omega_{d}^{19} \\langle {\\sigma_{2}}^{{12}}\\rangle  e^{-1 i t \\omega_{d} -0.5 \\tau^{2} \\omega_{d}^{2}} -3.472883712e9 i \\omega_{1} \\epsilon_{d} \\omega_{d}^{20} \\langle {\\sigma_{2}}^{{21}}\\rangle  e^{1 i t \\omega_{d} -0.5 \\tau^{2} \\omega_{d}^{2}} -3.472883712e9 i \\omega_{1} \\epsilon_{d} \\omega_{d}^{20} \\langle {\\sigma_{2}}^{{21}}\\rangle  e^{-1 i t \\omega_{d} -0.5 \\tau^{2} \\omega_{d}^{2}} -6.945767424e9 i \\omega_{1} \\epsilon_{d} \\omega_{d}^{20} e^{-1 i t \\omega_{d} -0.5 \\tau^{2} \\omega_{d}^{2}} \\langle {\\sigma_{1}}^{{22}}  {\\sigma_{2}}^{{12}}\\rangle  + 1.00663296e8 i \\omega_{1} \\epsilon_{d} \\tau^{2} \\omega_{d}^{20} \\langle {\\sigma_{2}}^{{12}}\\rangle  e^{-1 i t \\omega_{d} -0.5 \\tau^{2} \\omega_{d}^{2}} + 1.00663296e8 i \\omega_{1} \\epsilon_{d} \\tau^{2} \\omega_{d}^{20} \\langle {\\sigma_{2}}^{{12}}\\rangle  e^{1 i t \\omega_{d} -0.5 \\tau^{2} \\omega_{d}^{2}} -1.00663296e8 i \\omega_{1} \\epsilon_{d} \\tau^{2} \\omega_{d}^{20} \\langle {\\sigma_{2}}^{{21}}\\rangle  e^{1 i t \\omega_{d} -0.5 \\tau^{2} \\omega_{d}^{2}} -1.00663296e8 i \\omega_{1} \\epsilon_{d} \\tau^{2} \\omega_{d}^{20} \\langle {\\sigma_{2}}^{{21}}\\rangle  e^{-1 i t \\omega_{d} -0.5 \\tau^{2} \\omega_{d}^{2}} -2.01326592e8 i \\omega_{1} \\epsilon_{d} \\tau^{2} \\omega_{d}^{20} e^{1 i t \\omega_{d} -0.5 \\tau^{2} \\omega_{d}^{2}} \\langle {\\sigma_{1}}^{{22}}  {\\sigma_{2}}^{{12}}\\rangle  -2.01326592e8 i \\omega_{1} \\epsilon_{d} \\tau^{2} \\omega_{d}^{20} e^{-1 i t \\omega_{d} -0.5 \\tau^{2} \\omega_{d}^{2}} \\langle {\\sigma_{1}}^{{22}}  {\\sigma_{2}}^{{12}}\\rangle  + 2.01326592e8 i \\omega_{1} \\epsilon_{d} \\tau^{2} \\omega_{d}^{20} e^{-1 i t \\omega_{d} -0.5 \\tau^{2} \\omega_{d}^{2}} \\langle {\\sigma_{1}}^{{22}}  {\\sigma_{2}}^{{21}}\\rangle  + 2.01326592e8 i \\omega_{1} \\epsilon_{d} \\tau^{2} \\omega_{d}^{20} e^{1 i t \\omega_{d} -0.5 \\tau^{2} \\omega_{d}^{2}} \\langle {\\sigma_{1}}^{{22}}  {\\sigma_{2}}^{{21}}\\rangle }{16777216 \\omega_{d}^{20}} \\\\\n",
       "\\frac{d}{dt} \\left( \\langle {\\sigma_{1}}^{{21}}\\rangle  + \\langle {\\sigma_{1}}^{{12}}\\rangle  \\right) =& \\frac{147456.0 i \\omega_{1} \\omega_{d}^{16} \\langle {\\sigma_{1}}^{{21}}\\rangle  -147456.0 i \\omega_{1} \\omega_{d}^{16} \\langle {\\sigma_{1}}^{{12}}\\rangle  + 3.096576e6 i \\omega_{1} \\omega_{2} \\omega_{d}^{16} \\langle {\\sigma_{1}}^{{21}}\\rangle  -3.096576e6 i \\omega_{1} \\omega_{2} \\omega_{d}^{16} \\langle {\\sigma_{1}}^{{12}}\\rangle  -6.193152e6 i \\omega_{1} \\omega_{2} \\omega_{d}^{16} \\langle {\\sigma_{1}}^{{21}}  {\\sigma_{2}}^{{22}}\\rangle  + 6.193152e6 i \\omega_{1} \\omega_{2} \\omega_{d}^{16} \\langle {\\sigma_{1}}^{{12}}  {\\sigma_{2}}^{{22}}\\rangle  + 81920.0 i \\omega_{1} \\epsilon_{d} \\omega_{d}^{14} e^{-1 i t \\omega_{d} -0.5 \\tau^{2} \\omega_{d}^{2}} \\langle {\\sigma_{1}}^{{21}}  {\\sigma_{2}}^{{21}}\\rangle  + 81920.0 i \\omega_{1} \\epsilon_{d} \\omega_{d}^{14} e^{1 i t \\omega_{d} -0.5 \\tau^{2} \\omega_{d}^{2}} \\langle {\\sigma_{1}}^{{21}}  {\\sigma_{2}}^{{21}}\\rangle  + 98304.0 i \\omega_{1} \\omega_{2} \\tau^{2} \\omega_{d}^{16} \\langle {\\sigma_{1}}^{{21}}\\rangle  -98304.0 i \\omega_{1} \\omega_{2} \\tau^{2} \\omega_{d}^{16} \\langle {\\sigma_{1}}^{{12}}\\rangle  -196608.0 i \\omega_{1} \\omega_{2} \\tau^{2} \\omega_{d}^{16} \\langle {\\sigma_{1}}^{{21}}  {\\sigma_{2}}^{{22}}\\rangle  + 3.391488e6 i \\omega_{1} \\epsilon_{d} \\omega_{d}^{16} e^{-1 i t \\omega_{d} -0.5 \\tau^{2} \\omega_{d}^{2}} \\langle {\\sigma_{1}}^{{21}}  {\\sigma_{2}}^{{12}}\\rangle  + 3.391488e6 i \\omega_{1} \\epsilon_{d} \\omega_{d}^{16} e^{1 i t \\omega_{d} -0.5 \\tau^{2} \\omega_{d}^{2}} \\langle {\\sigma_{1}}^{{21}}  {\\sigma_{2}}^{{12}}\\rangle  + 3.391488e6 i \\omega_{1} \\epsilon_{d} \\omega_{d}^{16} e^{-1 i t \\omega_{d} -0.5 \\tau^{2} \\omega_{d}^{2}} \\langle {\\sigma_{1}}^{{21}}  {\\sigma_{2}}^{{21}}\\rangle  -81920.0 i \\omega_{1} \\epsilon_{d} \\omega_{d}^{14} e^{1 i t \\omega_{d} -0.5 \\tau^{2} \\omega_{d}^{2}} \\langle {\\sigma_{1}}^{{12}}  {\\sigma_{2}}^{{12}}\\rangle  -81920.0 i \\omega_{1} \\epsilon_{d} \\omega_{d}^{14} e^{-1 i t \\omega_{d} -0.5 \\tau^{2} \\omega_{d}^{2}} \\langle {\\sigma_{1}}^{{12}}  {\\sigma_{2}}^{{12}}\\rangle  -81920.0 i \\omega_{1} \\epsilon_{d} \\omega_{d}^{14} e^{-1 i t \\omega_{d} -0.5 \\tau^{2} \\omega_{d}^{2}} \\langle {\\sigma_{1}}^{{12}}  {\\sigma_{2}}^{{21}}\\rangle  + 196608.0 i \\omega_{1} \\omega_{2} \\tau^{2} \\omega_{d}^{16} \\langle {\\sigma_{1}}^{{12}}  {\\sigma_{2}}^{{22}}\\rangle  + 81920.0 i \\omega_{1} \\epsilon_{d} \\omega_{d}^{14} e^{-1 i t \\omega_{d} -0.5 \\tau^{2} \\omega_{d}^{2}} \\langle {\\sigma_{1}}^{{21}}  {\\sigma_{2}}^{{12}}\\rangle  + 81920.0 i \\omega_{1} \\epsilon_{d} \\omega_{d}^{14} e^{1 i t \\omega_{d} -0.5 \\tau^{2} \\omega_{d}^{2}} \\langle {\\sigma_{1}}^{{21}}  {\\sigma_{2}}^{{12}}\\rangle  -3.391488e6 i \\omega_{1} \\epsilon_{d} \\omega_{d}^{16} e^{1 i t \\omega_{d} -0.5 \\tau^{2} \\omega_{d}^{2}} \\langle {\\sigma_{1}}^{{12}}  {\\sigma_{2}}^{{12}}\\rangle  -81920.0 i \\omega_{1} \\epsilon_{d} \\omega_{d}^{14} e^{1 i t \\omega_{d} -0.5 \\tau^{2} \\omega_{d}^{2}} \\langle {\\sigma_{1}}^{{12}}  {\\sigma_{2}}^{{21}}\\rangle  + 3.391488e6 i \\omega_{1} \\epsilon_{d} \\omega_{d}^{16} e^{1 i t \\omega_{d} -0.5 \\tau^{2} \\omega_{d}^{2}} \\langle {\\sigma_{1}}^{{21}}  {\\sigma_{2}}^{{21}}\\rangle  -3.391488e6 i \\omega_{1} \\epsilon_{d} \\omega_{d}^{16} e^{-1 i t \\omega_{d} -0.5 \\tau^{2} \\omega_{d}^{2}} \\langle {\\sigma_{1}}^{{12}}  {\\sigma_{2}}^{{12}}\\rangle  -3.391488e6 i \\omega_{1} \\epsilon_{d} \\omega_{d}^{16} e^{-1 i t \\omega_{d} -0.5 \\tau^{2} \\omega_{d}^{2}} \\langle {\\sigma_{1}}^{{12}}  {\\sigma_{2}}^{{21}}\\rangle  -3.391488e6 i \\omega_{1} \\epsilon_{d} \\omega_{d}^{16} e^{1 i t \\omega_{d} -0.5 \\tau^{2} \\omega_{d}^{2}} \\langle {\\sigma_{1}}^{{12}}  {\\sigma_{2}}^{{21}}\\rangle  + 98304.0 i \\omega_{1} \\epsilon_{d} \\tau^{2} \\omega_{d}^{16} e^{-1 i t \\omega_{d} -0.5 \\tau^{2} \\omega_{d}^{2}} \\langle {\\sigma_{1}}^{{21}}  {\\sigma_{2}}^{{12}}\\rangle  + 98304.0 i \\omega_{1} \\epsilon_{d} \\tau^{2} \\omega_{d}^{16} e^{1 i t \\omega_{d} -0.5 \\tau^{2} \\omega_{d}^{2}} \\langle {\\sigma_{1}}^{{21}}  {\\sigma_{2}}^{{12}}\\rangle  + 98304.0 i \\omega_{1} \\epsilon_{d} \\tau^{2} \\omega_{d}^{16} e^{-1 i t \\omega_{d} -0.5 \\tau^{2} \\omega_{d}^{2}} \\langle {\\sigma_{1}}^{{21}}  {\\sigma_{2}}^{{21}}\\rangle  + 98304.0 i \\omega_{1} \\epsilon_{d} \\tau^{2} \\omega_{d}^{16} e^{1 i t \\omega_{d} -0.5 \\tau^{2} \\omega_{d}^{2}} \\langle {\\sigma_{1}}^{{21}}  {\\sigma_{2}}^{{21}}\\rangle  -98304.0 i \\omega_{1} \\epsilon_{d} \\tau^{2} \\omega_{d}^{16} e^{-1 i t \\omega_{d} -0.5 \\tau^{2} \\omega_{d}^{2}} \\langle {\\sigma_{1}}^{{12}}  {\\sigma_{2}}^{{12}}\\rangle  -98304.0 i \\omega_{1} \\epsilon_{d} \\tau^{2} \\omega_{d}^{16} e^{1 i t \\omega_{d} -0.5 \\tau^{2} \\omega_{d}^{2}} \\langle {\\sigma_{1}}^{{12}}  {\\sigma_{2}}^{{12}}\\rangle  -98304.0 i \\omega_{1} \\epsilon_{d} \\tau^{2} \\omega_{d}^{16} e^{1 i t \\omega_{d} -0.5 \\tau^{2} \\omega_{d}^{2}} \\langle {\\sigma_{1}}^{{12}}  {\\sigma_{2}}^{{21}}\\rangle  -98304.0 i \\omega_{1} \\epsilon_{d} \\tau^{2} \\omega_{d}^{16} e^{-1 i t \\omega_{d} -0.5 \\tau^{2} \\omega_{d}^{2}} \\langle {\\sigma_{1}}^{{12}}  {\\sigma_{2}}^{{21}}\\rangle }{16384 \\omega_{d}^{16}} \\\\\n",
       "\\frac{d}{dt} \\left( \\langle {\\sigma_{2}}^{{12}}\\rangle  + \\langle {\\sigma_{2}}^{{21}}\\rangle  \\right) =& \\frac{-1.50994944e8 i \\omega_{2} \\omega_{d}^{22} \\langle {\\sigma_{2}}^{{12}}\\rangle  + 1.50994944e8 i \\omega_{2} \\omega_{d}^{22} \\langle {\\sigma_{2}}^{{21}}\\rangle  + 1.50994944e8 i \\omega_{2} \\epsilon_{d} \\omega_{d}^{21} e^{-1 i t \\omega_{d} -0.5 \\tau^{2} \\omega_{d}^{2}} -1.50994944e8 i \\omega_{2} \\epsilon_{d} \\omega_{d}^{21} e^{1 i t \\omega_{d} -0.5 \\tau^{2} \\omega_{d}^{2}} -3.170893824e9 i \\omega_{1} \\omega_{2} \\omega_{d}^{22} \\langle {\\sigma_{2}}^{{12}}\\rangle  + 3.170893824e9 i \\omega_{1} \\omega_{2} \\omega_{d}^{22} \\langle {\\sigma_{2}}^{{21}}\\rangle  + 6.341787648e9 i \\omega_{1} \\omega_{2} \\omega_{d}^{22} \\langle {\\sigma_{1}}^{{22}}  {\\sigma_{2}}^{{12}}\\rangle  -6.341787648e9 i \\omega_{1} \\omega_{2} \\omega_{d}^{22} \\langle {\\sigma_{1}}^{{22}}  {\\sigma_{2}}^{{21}}\\rangle  -1.00663296e8 i \\omega_{1} \\omega_{2} \\tau^{2} \\omega_{d}^{22} \\langle {\\sigma_{2}}^{{12}}\\rangle  + 1.00663296e8 i \\omega_{1} \\omega_{2} \\tau^{2} \\omega_{d}^{22} \\langle {\\sigma_{2}}^{{21}}\\rangle  -3.01989888e8 i \\omega_{2} \\epsilon_{d} \\omega_{d}^{21} \\langle {\\sigma_{2}}^{{22}}\\rangle  e^{-1 i t \\omega_{d} -0.5 \\tau^{2} \\omega_{d}^{2}} + 3.01989888e8 i \\omega_{2} \\epsilon_{d} \\omega_{d}^{21} \\langle {\\sigma_{2}}^{{22}}\\rangle  e^{1 i t \\omega_{d} -0.5 \\tau^{2} \\omega_{d}^{2}} + 2.01326592e8 i \\omega_{1} \\omega_{2} \\tau^{2} \\omega_{d}^{22} \\langle {\\sigma_{1}}^{{22}}  {\\sigma_{2}}^{{12}}\\rangle  -2.01326592e8 i \\omega_{1} \\omega_{2} \\tau^{2} \\omega_{d}^{22} \\langle {\\sigma_{1}}^{{22}}  {\\sigma_{2}}^{{21}}\\rangle }{16777216 \\omega_{d}^{22}} \\\\\n",
       "\\frac{d}{dt} \\left( -2 \\langle {\\sigma_{1}}^{{21}}  {\\sigma_{2}}^{{22}}\\rangle  -2 \\langle {\\sigma_{1}}^{{12}}  {\\sigma_{2}}^{{22}}\\rangle  + \\langle {\\sigma_{1}}^{{21}}\\rangle  + \\langle {\\sigma_{1}}^{{12}}\\rangle  \\right) =& \\frac{1.0133099161583616e16 i \\omega_{1} \\omega_{d}^{48} \\langle {\\sigma_{1}}^{{21}}\\rangle  + 2.026619832316723e16 i g \\omega_{d}^{48} \\langle {\\sigma_{2}}^{{12}}\\rangle  -2.026619832316723e16 i g \\omega_{d}^{48} \\langle {\\sigma_{2}}^{{21}}\\rangle  -1.0133099161583616e16 i \\omega_{1} \\omega_{d}^{48} \\langle {\\sigma_{1}}^{{12}}\\rangle  -2.026619832316723e16 i \\omega_{1} \\omega_{d}^{48} \\langle {\\sigma_{1}}^{{21}}  {\\sigma_{2}}^{{22}}\\rangle  + 2.026619832316723e16 i \\omega_{1} \\omega_{d}^{48} \\langle {\\sigma_{1}}^{{12}}  {\\sigma_{2}}^{{22}}\\rangle  + 2.1279508239325594e17 i \\omega_{1} \\omega_{2} \\omega_{d}^{48} \\langle {\\sigma_{1}}^{{21}}\\rangle  -2.1279508239325594e17 i \\omega_{1} \\omega_{2} \\omega_{d}^{48} \\langle {\\sigma_{1}}^{{12}}\\rangle  + 6.755399441055744e15 i \\omega_{1} \\omega_{2} \\tau^{2} \\omega_{d}^{48} \\langle {\\sigma_{1}}^{{21}}\\rangle  -6.755399441055744e15 i \\omega_{1} \\omega_{2} \\tau^{2} \\omega_{d}^{48} \\langle {\\sigma_{1}}^{{12}}\\rangle  -1.0133099161583616e16 i \\omega_{2} \\epsilon_{d} \\omega_{d}^{47} e^{-1 i t \\omega_{d} -0.5 \\tau^{2} \\omega_{d}^{2}} \\langle {\\sigma_{1}}^{{21}}  {\\sigma_{2}}^{{12}}\\rangle  + 1.0133099161583616e16 i \\omega_{2} \\epsilon_{d} \\omega_{d}^{47} e^{1 i t \\omega_{d} -0.5 \\tau^{2} \\omega_{d}^{2}} \\langle {\\sigma_{1}}^{{21}}  {\\sigma_{2}}^{{12}}\\rangle  + 1.0133099161583616e16 i \\omega_{2} \\epsilon_{d} \\omega_{d}^{47} e^{1 i t \\omega_{d} -0.5 \\tau^{2} \\omega_{d}^{2}} \\langle {\\sigma_{1}}^{{21}}  {\\sigma_{2}}^{{21}}\\rangle  -1.0133099161583616e16 i \\omega_{2} \\epsilon_{d} \\omega_{d}^{47} e^{-1 i t \\omega_{d} -0.5 \\tau^{2} \\omega_{d}^{2}} \\langle {\\sigma_{1}}^{{21}}  {\\sigma_{2}}^{{21}}\\rangle  -1.0133099161583616e16 i \\omega_{2} \\epsilon_{d} \\omega_{d}^{47} e^{-1 i t \\omega_{d} -0.5 \\tau^{2} \\omega_{d}^{2}} \\langle {\\sigma_{1}}^{{12}}  {\\sigma_{2}}^{{12}}\\rangle  + 1.0133099161583616e16 i \\omega_{2} \\epsilon_{d} \\omega_{d}^{47} e^{1 i t \\omega_{d} -0.5 \\tau^{2} \\omega_{d}^{2}} \\langle {\\sigma_{1}}^{{12}}  {\\sigma_{2}}^{{12}}\\rangle  + 1.0133099161583616e16 i \\omega_{2} \\epsilon_{d} \\omega_{d}^{47} e^{1 i t \\omega_{d} -0.5 \\tau^{2} \\omega_{d}^{2}} \\langle {\\sigma_{1}}^{{12}}  {\\sigma_{2}}^{{21}}\\rangle  -1.0133099161583616e16 i \\omega_{2} \\epsilon_{d} \\omega_{d}^{47} e^{-1 i t \\omega_{d} -0.5 \\tau^{2} \\omega_{d}^{2}} \\langle {\\sigma_{1}}^{{12}}  {\\sigma_{2}}^{{21}}\\rangle }{1125899906842624 \\omega_{d}^{48}}\n",
       "\\end{align}\n"
      ],
      "text/plain": [
       "∂ₜ(1 - 2⟨σ_{1}22⟩) = ((0.0 - 4608.0im)*g*(ω_d^8)*⟨σ_{1}21*σ_{2}12⟩ + (0.0 - 4608.0im)*g*(ω_d^8)*⟨σ_{1}21*σ_{2}21⟩ + (0.0 + 4608.0im)*g*(ω_d^8)*⟨σ_{1}12*σ_{2}12⟩ + (0.0 + 4608.0im)*g*(ω_d^8)*⟨σ_{1}12*σ_{2}21⟩ + (0.0 - 2560.0im)*g*ϵ_d*(ω_d^6)*⟨σ_{1}21⟩*exp((0 + 1im)*t*ω_d - 0.5(τ^2)*(ω_d^2)) + (0.0 - 2560.0im)*g*ϵ_d*(ω_d^6)*⟨σ_{1}21⟩*exp((0 - 1im)*t*ω_d - 0.5(τ^2)*(ω_d^2)) + (0.0 + 2560.0im)*g*ϵ_d*(ω_d^6)*⟨σ_{1}12⟩*exp((0 - 1im)*t*ω_d - 0.5(τ^2)*(ω_d^2)) + (0.0 + 2560.0im)*g*ϵ_d*(ω_d^6)*⟨σ_{1}12⟩*exp((0 + 1im)*t*ω_d - 0.5(τ^2)*(ω_d^2)) + (0.0 - 105984.0im)*g*ϵ_d*(ω_d^8)*⟨σ_{1}21⟩*exp((0 - 1im)*t*ω_d - 0.5(τ^2)*(ω_d^2)) + (0.0 - 105984.0im)*g*ϵ_d*(ω_d^8)*⟨σ_{1}21⟩*exp((0 + 1im)*t*ω_d - 0.5(τ^2)*(ω_d^2)) + (0.0 + 105984.0im)*g*ϵ_d*(ω_d^8)*⟨σ_{1}12⟩*exp((0 - 1im)*t*ω_d - 0.5(τ^2)*(ω_d^2)) + (0.0 + 105984.0im)*g*ϵ_d*(ω_d^8)*⟨σ_{1}12⟩*exp((0 + 1im)*t*ω_d - 0.5(τ^2)*(ω_d^2)) + (0.0 - 3072.0im)*g*ϵ_d*(τ^2)*(ω_d^8)*⟨σ_{1}21⟩*exp((0 + 1im)*t*ω_d - 0.5(τ^2)*(ω_d^2)) + (0.0 - 3072.0im)*g*ϵ_d*(τ^2)*(ω_d^8)*⟨σ_{1}21⟩*exp((0 - 1im)*t*ω_d - 0.5(τ^2)*(ω_d^2)) + (0.0 + 3072.0im)*g*ϵ_d*(τ^2)*(ω_d^8)*⟨σ_{1}12⟩*exp((0 - 1im)*t*ω_d - 0.5(τ^2)*(ω_d^2)) + (0.0 + 3072.0im)*g*ϵ_d*(τ^2)*(ω_d^8)*⟨σ_{1}12⟩*exp((0 + 1im)*t*ω_d - 0.5(τ^2)*(ω_d^2))) / (256(ω_d^8))\n",
       "∂ₜ(1 - 2⟨σ_{2}22⟩) = ((0.0 + 3.01989888e8im)*g*(ω_d^20)*⟨σ_{1}21*σ_{2}12⟩ + (0.0 - 3.01989888e8im)*g*(ω_d^20)*⟨σ_{1}21*σ_{2}21⟩ + (0.0 + 3.01989888e8im)*g*(ω_d^20)*⟨σ_{1}12*σ_{2}12⟩ + (0.0 - 3.01989888e8im)*g*(ω_d^20)*⟨σ_{1}12*σ_{2}21⟩ + (0.0 + 8.388608e7im)*ω_1*ϵ_d*(ω_d^18)*⟨σ_{2}12⟩*exp((0 - 1im)*t*ω_d - 0.5(τ^2)*(ω_d^2)) + (0.0 + 8.388608e7im)*ω_1*ϵ_d*(ω_d^18)*⟨σ_{2}12⟩*exp((0 + 1im)*t*ω_d - 0.5(τ^2)*(ω_d^2)) + (0.0 + 1.50994944e8im)*ω_2*ϵ_d*(ω_d^19)*⟨σ_{2}12⟩*exp((0 + 1im)*t*ω_d - 0.5(τ^2)*(ω_d^2)) + (0.0 - 8.388608e7im)*ω_1*ϵ_d*(ω_d^18)*⟨σ_{2}21⟩*exp((0 - 1im)*t*ω_d - 0.5(τ^2)*(ω_d^2)) + (0.0 - 8.388608e7im)*ω_1*ϵ_d*(ω_d^18)*⟨σ_{2}21⟩*exp((0 + 1im)*t*ω_d - 0.5(τ^2)*(ω_d^2)) + (0.0 + 3.472883712e9im)*ω_1*ϵ_d*(ω_d^20)*⟨σ_{2}12⟩*exp((0 - 1im)*t*ω_d - 0.5(τ^2)*(ω_d^2)) + (0.0 + 3.472883712e9im)*ω_1*ϵ_d*(ω_d^20)*⟨σ_{2}12⟩*exp((0 + 1im)*t*ω_d - 0.5(τ^2)*(ω_d^2)) + (0.0 + 1.50994944e8im)*ω_2*ϵ_d*(ω_d^19)*⟨σ_{2}21⟩*exp((0 + 1im)*t*ω_d - 0.5(τ^2)*(ω_d^2)) + (0.0 - 1.50994944e8im)*ω_2*ϵ_d*(ω_d^19)*⟨σ_{2}21⟩*exp((0 - 1im)*t*ω_d - 0.5(τ^2)*(ω_d^2)) + (0.0 - 1.6777216e8im)*ω_1*ϵ_d*(ω_d^18)*exp((0 - 1im)*t*ω_d - 0.5(τ^2)*(ω_d^2))*⟨σ_{1}22*σ_{2}12⟩ + (0.0 - 1.6777216e8im)*ω_1*ϵ_d*(ω_d^18)*exp((0 + 1im)*t*ω_d - 0.5(τ^2)*(ω_d^2))*⟨σ_{1}22*σ_{2}12⟩ + (0.0 - 6.945767424e9im)*ω_1*ϵ_d*(ω_d^20)*exp((0 + 1im)*t*ω_d - 0.5(τ^2)*(ω_d^2))*⟨σ_{1}22*σ_{2}12⟩ + (0.0 + 1.6777216e8im)*ω_1*ϵ_d*(ω_d^18)*exp((0 - 1im)*t*ω_d - 0.5(τ^2)*(ω_d^2))*⟨σ_{1}22*σ_{2}21⟩ + (0.0 + 1.6777216e8im)*ω_1*ϵ_d*(ω_d^18)*exp((0 + 1im)*t*ω_d - 0.5(τ^2)*(ω_d^2))*⟨σ_{1}22*σ_{2}21⟩ + (0.0 + 6.945767424e9im)*ω_1*ϵ_d*(ω_d^20)*exp((0 + 1im)*t*ω_d - 0.5(τ^2)*(ω_d^2))*⟨σ_{1}22*σ_{2}21⟩ + (0.0 + 6.945767424e9im)*ω_1*ϵ_d*(ω_d^20)*exp((0 - 1im)*t*ω_d - 0.5(τ^2)*(ω_d^2))*⟨σ_{1}22*σ_{2}21⟩ + (0.0 - 1.50994944e8im)*ω_2*ϵ_d*(ω_d^19)*⟨σ_{2}12⟩*exp((0 - 1im)*t*ω_d - 0.5(τ^2)*(ω_d^2)) + (0.0 - 3.472883712e9im)*ω_1*ϵ_d*(ω_d^20)*⟨σ_{2}21⟩*exp((0 + 1im)*t*ω_d - 0.5(τ^2)*(ω_d^2)) + (0.0 - 3.472883712e9im)*ω_1*ϵ_d*(ω_d^20)*⟨σ_{2}21⟩*exp((0 - 1im)*t*ω_d - 0.5(τ^2)*(ω_d^2)) + (0.0 - 6.945767424e9im)*ω_1*ϵ_d*(ω_d^20)*exp((0 - 1im)*t*ω_d - 0.5(τ^2)*(ω_d^2))*⟨σ_{1}22*σ_{2}12⟩ + (0.0 + 1.00663296e8im)*ω_1*ϵ_d*(τ^2)*(ω_d^20)*⟨σ_{2}12⟩*exp((0 - 1im)*t*ω_d - 0.5(τ^2)*(ω_d^2)) + (0.0 + 1.00663296e8im)*ω_1*ϵ_d*(τ^2)*(ω_d^20)*⟨σ_{2}12⟩*exp((0 + 1im)*t*ω_d - 0.5(τ^2)*(ω_d^2)) + (0.0 - 1.00663296e8im)*ω_1*ϵ_d*(τ^2)*(ω_d^20)*⟨σ_{2}21⟩*exp((0 + 1im)*t*ω_d - 0.5(τ^2)*(ω_d^2)) + (0.0 - 1.00663296e8im)*ω_1*ϵ_d*(τ^2)*(ω_d^20)*⟨σ_{2}21⟩*exp((0 - 1im)*t*ω_d - 0.5(τ^2)*(ω_d^2)) + (0.0 - 2.01326592e8im)*ω_1*ϵ_d*(τ^2)*(ω_d^20)*exp((0 + 1im)*t*ω_d - 0.5(τ^2)*(ω_d^2))*⟨σ_{1}22*σ_{2}12⟩ + (0.0 - 2.01326592e8im)*ω_1*ϵ_d*(τ^2)*(ω_d^20)*exp((0 - 1im)*t*ω_d - 0.5(τ^2)*(ω_d^2))*⟨σ_{1}22*σ_{2}12⟩ + (0.0 + 2.01326592e8im)*ω_1*ϵ_d*(τ^2)*(ω_d^20)*exp((0 - 1im)*t*ω_d - 0.5(τ^2)*(ω_d^2))*⟨σ_{1}22*σ_{2}21⟩ + (0.0 + 2.01326592e8im)*ω_1*ϵ_d*(τ^2)*(ω_d^20)*exp((0 + 1im)*t*ω_d - 0.5(τ^2)*(ω_d^2))*⟨σ_{1}22*σ_{2}21⟩) / (16777216(ω_d^20))\n",
       "∂ₜ(⟨σ_{1}21⟩ + ⟨σ_{1}12⟩) = ((0.0 + 147456.0im)*ω_1*(ω_d^16)*⟨σ_{1}21⟩ + (0.0 - 147456.0im)*ω_1*(ω_d^16)*⟨σ_{1}12⟩ + (0.0 + 3.096576e6im)*ω_1*ω_2*(ω_d^16)*⟨σ_{1}21⟩ + (0.0 - 3.096576e6im)*ω_1*ω_2*(ω_d^16)*⟨σ_{1}12⟩ + (0.0 - 6.193152e6im)*ω_1*ω_2*(ω_d^16)*⟨σ_{1}21*σ_{2}22⟩ + (0.0 + 6.193152e6im)*ω_1*ω_2*(ω_d^16)*⟨σ_{1}12*σ_{2}22⟩ + (0.0 + 81920.0im)*ω_1*ϵ_d*(ω_d^14)*exp((0 - 1im)*t*ω_d - 0.5(τ^2)*(ω_d^2))*⟨σ_{1}21*σ_{2}21⟩ + (0.0 + 81920.0im)*ω_1*ϵ_d*(ω_d^14)*exp((0 + 1im)*t*ω_d - 0.5(τ^2)*(ω_d^2))*⟨σ_{1}21*σ_{2}21⟩ + (0.0 + 98304.0im)*ω_1*ω_2*(τ^2)*(ω_d^16)*⟨σ_{1}21⟩ + (0.0 - 98304.0im)*ω_1*ω_2*(τ^2)*(ω_d^16)*⟨σ_{1}12⟩ + (0.0 - 196608.0im)*ω_1*ω_2*(τ^2)*(ω_d^16)*⟨σ_{1}21*σ_{2}22⟩ + (0.0 + 3.391488e6im)*ω_1*ϵ_d*(ω_d^16)*exp((0 - 1im)*t*ω_d - 0.5(τ^2)*(ω_d^2))*⟨σ_{1}21*σ_{2}12⟩ + (0.0 + 3.391488e6im)*ω_1*ϵ_d*(ω_d^16)*exp((0 + 1im)*t*ω_d - 0.5(τ^2)*(ω_d^2))*⟨σ_{1}21*σ_{2}12⟩ + (0.0 + 3.391488e6im)*ω_1*ϵ_d*(ω_d^16)*exp((0 - 1im)*t*ω_d - 0.5(τ^2)*(ω_d^2))*⟨σ_{1}21*σ_{2}21⟩ + (0.0 - 81920.0im)*ω_1*ϵ_d*(ω_d^14)*exp((0 + 1im)*t*ω_d - 0.5(τ^2)*(ω_d^2))*⟨σ_{1}12*σ_{2}12⟩ + (0.0 - 81920.0im)*ω_1*ϵ_d*(ω_d^14)*exp((0 - 1im)*t*ω_d - 0.5(τ^2)*(ω_d^2))*⟨σ_{1}12*σ_{2}12⟩ + (0.0 - 81920.0im)*ω_1*ϵ_d*(ω_d^14)*exp((0 - 1im)*t*ω_d - 0.5(τ^2)*(ω_d^2))*⟨σ_{1}12*σ_{2}21⟩ + (0.0 + 196608.0im)*ω_1*ω_2*(τ^2)*(ω_d^16)*⟨σ_{1}12*σ_{2}22⟩ + (0.0 + 81920.0im)*ω_1*ϵ_d*(ω_d^14)*exp((0 - 1im)*t*ω_d - 0.5(τ^2)*(ω_d^2))*⟨σ_{1}21*σ_{2}12⟩ + (0.0 + 81920.0im)*ω_1*ϵ_d*(ω_d^14)*exp((0 + 1im)*t*ω_d - 0.5(τ^2)*(ω_d^2))*⟨σ_{1}21*σ_{2}12⟩ + (0.0 - 3.391488e6im)*ω_1*ϵ_d*(ω_d^16)*exp((0 + 1im)*t*ω_d - 0.5(τ^2)*(ω_d^2))*⟨σ_{1}12*σ_{2}12⟩ + (0.0 - 81920.0im)*ω_1*ϵ_d*(ω_d^14)*exp((0 + 1im)*t*ω_d - 0.5(τ^2)*(ω_d^2))*⟨σ_{1}12*σ_{2}21⟩ + (0.0 + 3.391488e6im)*ω_1*ϵ_d*(ω_d^16)*exp((0 + 1im)*t*ω_d - 0.5(τ^2)*(ω_d^2))*⟨σ_{1}21*σ_{2}21⟩ + (0.0 - 3.391488e6im)*ω_1*ϵ_d*(ω_d^16)*exp((0 - 1im)*t*ω_d - 0.5(τ^2)*(ω_d^2))*⟨σ_{1}12*σ_{2}12⟩ + (0.0 - 3.391488e6im)*ω_1*ϵ_d*(ω_d^16)*exp((0 - 1im)*t*ω_d - 0.5(τ^2)*(ω_d^2))*⟨σ_{1}12*σ_{2}21⟩ + (0.0 - 3.391488e6im)*ω_1*ϵ_d*(ω_d^16)*exp((0 + 1im)*t*ω_d - 0.5(τ^2)*(ω_d^2))*⟨σ_{1}12*σ_{2}21⟩ + (0.0 + 98304.0im)*ω_1*ϵ_d*(τ^2)*(ω_d^16)*exp((0 - 1im)*t*ω_d - 0.5(τ^2)*(ω_d^2))*⟨σ_{1}21*σ_{2}12⟩ + (0.0 + 98304.0im)*ω_1*ϵ_d*(τ^2)*(ω_d^16)*exp((0 + 1im)*t*ω_d - 0.5(τ^2)*(ω_d^2))*⟨σ_{1}21*σ_{2}12⟩ + (0.0 + 98304.0im)*ω_1*ϵ_d*(τ^2)*(ω_d^16)*exp((0 - 1im)*t*ω_d - 0.5(τ^2)*(ω_d^2))*⟨σ_{1}21*σ_{2}21⟩ + (0.0 + 98304.0im)*ω_1*ϵ_d*(τ^2)*(ω_d^16)*exp((0 + 1im)*t*ω_d - 0.5(τ^2)*(ω_d^2))*⟨σ_{1}21*σ_{2}21⟩ + (0.0 - 98304.0im)*ω_1*ϵ_d*(τ^2)*(ω_d^16)*exp((0 - 1im)*t*ω_d - 0.5(τ^2)*(ω_d^2))*⟨σ_{1}12*σ_{2}12⟩ + (0.0 - 98304.0im)*ω_1*ϵ_d*(τ^2)*(ω_d^16)*exp((0 + 1im)*t*ω_d - 0.5(τ^2)*(ω_d^2))*⟨σ_{1}12*σ_{2}12⟩ + (0.0 - 98304.0im)*ω_1*ϵ_d*(τ^2)*(ω_d^16)*exp((0 + 1im)*t*ω_d - 0.5(τ^2)*(ω_d^2))*⟨σ_{1}12*σ_{2}21⟩ + (0.0 - 98304.0im)*ω_1*ϵ_d*(τ^2)*(ω_d^16)*exp((0 - 1im)*t*ω_d - 0.5(τ^2)*(ω_d^2))*⟨σ_{1}12*σ_{2}21⟩) / (16384(ω_d^16))\n",
       "∂ₜ(⟨σ_{2}12⟩ + ⟨σ_{2}21⟩) = ((0.0 - 1.50994944e8im)*ω_2*(ω_d^22)*⟨σ_{2}12⟩ + (0.0 + 1.50994944e8im)*ω_2*(ω_d^22)*⟨σ_{2}21⟩ + (0.0 + 1.50994944e8im)*ω_2*ϵ_d*(ω_d^21)*exp((0 - 1im)*t*ω_d - 0.5(τ^2)*(ω_d^2)) + (0.0 - 1.50994944e8im)*ω_2*ϵ_d*(ω_d^21)*exp((0 + 1im)*t*ω_d - 0.5(τ^2)*(ω_d^2)) + (0.0 - 3.170893824e9im)*ω_1*ω_2*(ω_d^22)*⟨σ_{2}12⟩ + (0.0 + 3.170893824e9im)*ω_1*ω_2*(ω_d^22)*⟨σ_{2}21⟩ + (0.0 + 6.341787648e9im)*ω_1*ω_2*(ω_d^22)*⟨σ_{1}22*σ_{2}12⟩ + (0.0 - 6.341787648e9im)*ω_1*ω_2*(ω_d^22)*⟨σ_{1}22*σ_{2}21⟩ + (0.0 - 1.00663296e8im)*ω_1*ω_2*(τ^2)*(ω_d^22)*⟨σ_{2}12⟩ + (0.0 + 1.00663296e8im)*ω_1*ω_2*(τ^2)*(ω_d^22)*⟨σ_{2}21⟩ + (0.0 - 3.01989888e8im)*ω_2*ϵ_d*(ω_d^21)*⟨σ_{2}22⟩*exp((0 - 1im)*t*ω_d - 0.5(τ^2)*(ω_d^2)) + (0.0 + 3.01989888e8im)*ω_2*ϵ_d*(ω_d^21)*⟨σ_{2}22⟩*exp((0 + 1im)*t*ω_d - 0.5(τ^2)*(ω_d^2)) + (0.0 + 2.01326592e8im)*ω_1*ω_2*(τ^2)*(ω_d^22)*⟨σ_{1}22*σ_{2}12⟩ + (0.0 - 2.01326592e8im)*ω_1*ω_2*(τ^2)*(ω_d^22)*⟨σ_{1}22*σ_{2}21⟩) / (16777216(ω_d^22))\n",
       "∂ₜ(⟨σ_{1}21⟩ + ⟨σ_{1}12⟩ - 2⟨σ_{1}21*σ_{2}22⟩ - 2⟨σ_{1}12*σ_{2}22⟩) = ((0.0 + 1.0133099161583616e16im)*ω_1*(ω_d^48)*⟨σ_{1}21⟩ + (0.0 + 2.026619832316723e16im)*g*(ω_d^48)*⟨σ_{2}12⟩ + (0.0 - 2.026619832316723e16im)*g*(ω_d^48)*⟨σ_{2}21⟩ + (0.0 - 1.0133099161583616e16im)*ω_1*(ω_d^48)*⟨σ_{1}12⟩ + (0.0 - 2.026619832316723e16im)*ω_1*(ω_d^48)*⟨σ_{1}21*σ_{2}22⟩ + (0.0 + 2.026619832316723e16im)*ω_1*(ω_d^48)*⟨σ_{1}12*σ_{2}22⟩ + (0.0 + 2.1279508239325594e17im)*ω_1*ω_2*(ω_d^48)*⟨σ_{1}21⟩ + (0.0 - 2.1279508239325594e17im)*ω_1*ω_2*(ω_d^48)*⟨σ_{1}12⟩ + (0.0 + 6.755399441055744e15im)*ω_1*ω_2*(τ^2)*(ω_d^48)*⟨σ_{1}21⟩ + (0.0 - 6.755399441055744e15im)*ω_1*ω_2*(τ^2)*(ω_d^48)*⟨σ_{1}12⟩ + (0.0 - 1.0133099161583616e16im)*ω_2*ϵ_d*(ω_d^47)*exp((0 - 1im)*t*ω_d - 0.5(τ^2)*(ω_d^2))*⟨σ_{1}21*σ_{2}12⟩ + (0.0 + 1.0133099161583616e16im)*ω_2*ϵ_d*(ω_d^47)*exp((0 + 1im)*t*ω_d - 0.5(τ^2)*(ω_d^2))*⟨σ_{1}21*σ_{2}12⟩ + (0.0 + 1.0133099161583616e16im)*ω_2*ϵ_d*(ω_d^47)*exp((0 + 1im)*t*ω_d - 0.5(τ^2)*(ω_d^2))*⟨σ_{1}21*σ_{2}21⟩ + (0.0 - 1.0133099161583616e16im)*ω_2*ϵ_d*(ω_d^47)*exp((0 - 1im)*t*ω_d - 0.5(τ^2)*(ω_d^2))*⟨σ_{1}21*σ_{2}21⟩ + (0.0 - 1.0133099161583616e16im)*ω_2*ϵ_d*(ω_d^47)*exp((0 - 1im)*t*ω_d - 0.5(τ^2)*(ω_d^2))*⟨σ_{1}12*σ_{2}12⟩ + (0.0 + 1.0133099161583616e16im)*ω_2*ϵ_d*(ω_d^47)*exp((0 + 1im)*t*ω_d - 0.5(τ^2)*(ω_d^2))*⟨σ_{1}12*σ_{2}12⟩ + (0.0 + 1.0133099161583616e16im)*ω_2*ϵ_d*(ω_d^47)*exp((0 + 1im)*t*ω_d - 0.5(τ^2)*(ω_d^2))*⟨σ_{1}12*σ_{2}21⟩ + (0.0 - 1.0133099161583616e16im)*ω_2*ϵ_d*(ω_d^47)*exp((0 - 1im)*t*ω_d - 0.5(τ^2)*(ω_d^2))*⟨σ_{1}12*σ_{2}21⟩) / (1125899906842624(ω_d^48))\n"
      ]
     },
     "metadata": {},
     "output_type": "display_data"
    }
   ],
   "source": [
    "#Get meanfield equations using QuantumCumulants\n",
    "eqs = meanfield([σz1, σz2, σx1, σx2, σx1*σz2] , H1; order=2,iv=t)"
   ]
  },
  {
   "cell_type": "code",
   "execution_count": 28,
   "metadata": {},
   "outputs": [
    {
     "ename": "MethodError",
     "evalue": "MethodError: Cannot `convert` an object of type SymbolicUtils.Term{QuantumCumulants.AvgSym, Nothing} to an object of type SymbolicUtils.Add{CNumber, Int64, Dict{Any, Number}, Nothing}\nClosest candidates are:\n  convert(::Type{T}, !Matched::T) where T at /Applications/Julia-1.7.app/Contents/Resources/julia/share/julia/base/essentials.jl:218\n  SymbolicUtils.Add{X, T, D, M}(::Any, !Matched::Any, !Matched::Any, !Matched::Any, !Matched::Any) where {X<:Number, T<:Number, D, M} at ~/.julia/packages/SymbolicUtils/qulQp/src/types.jl:617",
     "output_type": "error",
     "traceback": [
      "MethodError: Cannot `convert` an object of type SymbolicUtils.Term{QuantumCumulants.AvgSym, Nothing} to an object of type SymbolicUtils.Add{CNumber, Int64, Dict{Any, Number}, Nothing}\n",
      "Closest candidates are:\n",
      "  convert(::Type{T}, !Matched::T) where T at /Applications/Julia-1.7.app/Contents/Resources/julia/share/julia/base/essentials.jl:218\n",
      "  SymbolicUtils.Add{X, T, D, M}(::Any, !Matched::Any, !Matched::Any, !Matched::Any, !Matched::Any) where {X<:Number, T<:Number, D, M} at ~/.julia/packages/SymbolicUtils/qulQp/src/types.jl:617\n",
      "\n",
      "Stacktrace:\n",
      "  [1] setindex!(A::Vector{SymbolicUtils.Add{CNumber, Int64, Dict{Any, Number}, Nothing}}, x::SymbolicUtils.Term{QuantumCumulants.AvgSym, Nothing}, i1::Int64)\n",
      "    @ Base ./array.jl:903\n",
      "  [2] _unsafe_copyto!(dest::Vector{SymbolicUtils.Add{CNumber, Int64, Dict{Any, Number}, Nothing}}, doffs::Int64, src::Vector{SymbolicUtils.Term{QuantumCumulants.AvgSym, Nothing}}, soffs::Int64, n::Int64)\n",
      "    @ Base ./array.jl:253\n",
      "  [3] unsafe_copyto!\n",
      "    @ ./array.jl:307 [inlined]\n",
      "  [4] _copyto_impl!\n",
      "    @ ./array.jl:331 [inlined]\n",
      "  [5] copyto!\n",
      "    @ ./array.jl:317 [inlined]\n",
      "  [6] append!(a::Vector{SymbolicUtils.Add{CNumber, Int64, Dict{Any, Number}, Nothing}}, items::Vector{SymbolicUtils.Term{QuantumCumulants.AvgSym, Nothing}})\n",
      "    @ Base ./array.jl:1046\n",
      "  [7] _append!(de::MeanfieldEquations, me::MeanfieldEquations)\n",
      "    @ QuantumCumulants ~/.julia/packages/QuantumCumulants/NZQOS/src/equations.jl:51\n",
      "  [8] complete!(de::MeanfieldEquations; order::Int64, multithread::Bool, filter_func::Nothing, mix_choice::Function, simplify::Bool, kwargs::Base.Pairs{Symbol, Union{}, Tuple{}, NamedTuple{(), Tuple{}}})\n",
      "    @ QuantumCumulants ~/.julia/packages/QuantumCumulants/NZQOS/src/utils.jl:157\n",
      "  [9] complete!(de::MeanfieldEquations)\n",
      "    @ QuantumCumulants ~/.julia/packages/QuantumCumulants/NZQOS/src/utils.jl:114\n",
      " [10] #complete#99\n",
      "    @ ~/.julia/packages/QuantumCumulants/NZQOS/src/utils.jl:98 [inlined]\n",
      " [11] complete(de::MeanfieldEquations)\n",
      "    @ QuantumCumulants ~/.julia/packages/QuantumCumulants/NZQOS/src/utils.jl:97\n",
      " [12] top-level scope\n",
      "    @ ~/Documents/GitHub2/QuantumGraining.jl/notebooks/effective_ham_test.ipynb:1"
     ]
    }
   ],
   "source": [
    "eqs = complete(eqs)"
   ]
  },
  {
   "cell_type": "code",
   "execution_count": 40,
   "metadata": {},
   "outputs": [
    {
     "ename": "ErrorException",
     "evalue": "syntax: missing comma or ) in argument list",
     "output_type": "error",
     "traceback": [
      "syntax: missing comma or ) in argument list\n",
      "\n",
      "Stacktrace:\n",
      " [1] top-level scope\n",
      "   @ ~/Documents/GitHub2/QuantumGraining.jl/notebooks/effective_ham_test.ipynb:1"
     ]
    }
   ],
   "source": [
    "H_test = ((9.0)ω_1*(σ_{1}22)+(-4.5 + 0.0im)ω_1 + (-4.5 + 0.0im)ω_2+(9.0 + 0.0im)ω_2*(σ_{2}22)+(-9.0 - 0.0im)g*(σ_{1}21*σ_{2}12)+(-9.0 - 0.0im)g*(σ_{1}21*σ_{2}21)+(-9.0 - 0.0im)g*(σ_{1}12*σ_{2}12)+(-9.0 - 0.0im)g*(σ_{1}12*σ_{2}21))"
   ]
  },
  {
   "cell_type": "code",
   "execution_count": null,
   "metadata": {},
   "outputs": [],
   "source": []
  }
 ],
 "metadata": {
  "kernelspec": {
   "display_name": "Julia 1.7.2",
   "language": "julia",
   "name": "julia-1.7"
  },
  "language_info": {
   "file_extension": ".jl",
   "mimetype": "application/julia",
   "name": "julia",
   "version": "1.7.2"
  },
  "vscode": {
   "interpreter": {
    "hash": "aee8b7b246df8f9039afb4144a1f6fd8d2ca17a180786b69acc140d282b71a49"
   }
  }
 },
 "nbformat": 4,
 "nbformat_minor": 2
}
