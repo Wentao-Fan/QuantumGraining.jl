{
 "cells": [
  {
   "cell_type": "code",
   "execution_count": 1,
   "metadata": {},
   "outputs": [],
   "source": [
    "using QuantumCumulants\n",
    "using SymbolicUtils\n",
    "using IterTools\n",
    "using Symbolics"
   ]
  },
  {
   "cell_type": "code",
   "execution_count": 7,
   "metadata": {},
   "outputs": [
    {
     "data": {
      "text/plain": [
       "effective_lindblad (generic function with 1 method)"
      ]
     },
     "metadata": {},
     "output_type": "display_data"
    }
   ],
   "source": [
    "include(\"../src/diagrams.jl\")\n",
    "include(\"../src/poles.jl\")\n",
    "include(\"../src/contractions.jl\")\n",
    "include(\"../src/printing.jl\")\n",
    "include(\"../src/expressions.jl\")\n",
    "include(\"../src/lindblad.jl\")"
   ]
  },
  {
   "attachments": {},
   "cell_type": "markdown",
   "metadata": {},
   "source": [
    "# Time-coarse graining the Jaynes-Cummings model"
   ]
  },
  {
   "attachments": {},
   "cell_type": "markdown",
   "metadata": {},
   "source": [
    "We look at the Jaynes cummings model in the interaction frame. In this frame, the Hamiltonian is given by\n",
    "$$ \\hat{H} = \\frac{\\Omega}{2} \\left ( \\hat{a}\\hat{\\sigma}_- e^{-i\\Sigma t} + \\hat{a}^\\dagger\\hat{\\sigma}_+ e^{i\\Sigma t} \\\\ \n",
    "            + \\hat{a}\\hat{\\sigma}_+ e^{-i\\Delta t} + \\hat{a}^\\dagger \\hat{\\sigma}_- e^{-i\\Delta t}\\right ) $$\n",
    "where $\\Sigma$ is a fast frequency and $\\Delta$ is a slow difference frequency. First, we write the Hamiltonian in a Harmonic form,\n",
    "$$ \\hat{H} = \\sum_{\\omega \\in \\Omega} \\hat{h}_k e^{-i\\omega_k t} $$\n",
    "\n",
    "$$ \n",
    "    \\begin{matrix}\n",
    "        \\hat{h}_1 = \\hat{a}\\hat{\\sigma}_- & \\omega_1 = \\Sigma \\\\\n",
    "        \\hat{h}_2 = \\hat{a}^\\dagger \\hat{\\sigma}_+ & \\omega_2 = -\\Sigma \\\\\n",
    "        \\hat{h}_3 = \\hat{a}\\hat{\\sigma}_+ & \\omega_3 = \\Delta \\\\\n",
    "        \\hat{h}_4 = \\hat{a}^\\dagger\\hat{\\sigma}_- & \\omega_4 = -\\Delta\n",
    "    \\end{matrix}\n",
    "$$"
   ]
  },
  {
   "cell_type": "code",
   "execution_count": 8,
   "metadata": {},
   "outputs": [
    {
     "data": {
      "text/plain": [
       "4-element Vector{SymbolicUtils.Symbolic{Parameter}}:\n",
       " Σ\n",
       " -Σ\n",
       " Δ\n",
       " -Δ"
      ]
     },
     "metadata": {},
     "output_type": "display_data"
    }
   ],
   "source": [
    "@cnumbers Σ Δ\n",
    "ω = [Σ, -Σ, Δ, -Δ]"
   ]
  },
  {
   "attachments": {},
   "cell_type": "markdown",
   "metadata": {},
   "source": [
    "## First-order graining"
   ]
  },
  {
   "attachments": {},
   "cell_type": "markdown",
   "metadata": {},
   "source": [
    "### Contractions and diagrams"
   ]
  },
  {
   "attachments": {},
   "cell_type": "markdown",
   "metadata": {},
   "source": [
    "For the first-order TCG, we need to calculate all contractions of the form $\\mathcal{C}_{1,0}$ and $\\mathcal{C}_{0,1}$."
   ]
  },
  {
   "cell_type": "code",
   "execution_count": 12,
   "metadata": {},
   "outputs": [
    {
     "data": {
      "text/plain": [
       "4-element Vector{Vector}:\n",
       " SymbolicUtils.Sym{Parameter, Base.ImmutableDict{DataType, Any}}[Σ]\n",
       " SymbolicUtils.Mul{Parameter, Int64, Dict{Any, Number}, Nothing}[-Σ]\n",
       " SymbolicUtils.Sym{Parameter, Base.ImmutableDict{DataType, Any}}[Δ]\n",
       " SymbolicUtils.Mul{Parameter, Int64, Dict{Any, Number}, Nothing}[-Δ]"
      ]
     },
     "metadata": {},
     "output_type": "display_data"
    }
   ],
   "source": [
    "ω_list = repeated_combinations(ω, 1)"
   ]
  },
  {
   "cell_type": "code",
   "execution_count": 42,
   "metadata": {},
   "outputs": [
    {
     "name": "stdout",
     "output_type": "stream",
     "text": [
      "c_10(Σ) = exp(-0.5(Σ^2)*(τ^2))\n",
      "c_10(-Σ) = exp(-0.5(Σ^2)*(τ^2))\n",
      "c_10(Δ) = exp(-0.5(Δ^2)*(τ^2))\n",
      "c_10(-Δ) = exp(-0.5(Δ^2)*(τ^2))\n",
      "c_01(Σ) = -exp(-0.5(Σ^2)*(τ^2))*(Σ^-1)\n",
      "c_01(-Σ) = exp(-0.5(Σ^2)*(τ^2))*(Σ^-1)\n",
      "c_01(Δ) = -exp(-0.5(Δ^2)*(τ^2))*(Δ^-1)\n",
      "c_01(-Δ) = exp(-0.5(Δ^2)*(τ^2))*(Δ^-1)\n"
     ]
    }
   ],
   "source": [
    "for ω_vec in ω_list\n",
    "    c, c_list = contraction_coeff(1, 0, ω_vec)\n",
    "    println(\"c_10($(ω_vec...)) = $c\")\n",
    "end\n",
    "\n",
    "for ω_vec in ω_list\n",
    "    c, c_list = contraction_coeff(0, 1, ω_vec)\n",
    "    println(\"c_01($(ω_vec...)) = $c\")\n",
    "end"
   ]
  },
  {
   "cell_type": "code",
   "execution_count": null,
   "metadata": {},
   "outputs": [],
   "source": []
  }
 ],
 "metadata": {
  "kernelspec": {
   "display_name": "Julia 1.7.2",
   "language": "julia",
   "name": "julia-1.7"
  },
  "language_info": {
   "file_extension": ".jl",
   "mimetype": "application/julia",
   "name": "julia",
   "version": "1.7.2"
  },
  "orig_nbformat": 4,
  "vscode": {
   "interpreter": {
    "hash": "31f2aee4e71d21fbe5cf8b01ff0e069b9275f58929596ceb00d14d90e3e16cd6"
   }
  }
 },
 "nbformat": 4,
 "nbformat_minor": 2
}
