{
 "cells": [
  {
   "cell_type": "code",
   "execution_count": 1,
   "metadata": {},
   "outputs": [],
   "source": [
    "using QuantumCumulants\n",
    "using SymbolicUtils\n",
    "using IterTools\n",
    "using Symbolics\n",
    "using Revise\n",
    "using QuantumGraining\n",
    "using OrdinaryDiffEq\n",
    "using ModelingToolkit"
   ]
  },
  {
   "cell_type": "code",
   "execution_count": 2,
   "metadata": {},
   "outputs": [],
   "source": [
    "# include(\"../src/diagrams.jl\")\n",
    "# include(\"../src/bvector.jl\")\n",
    "# include(\"../src/bubble.jl\")\n",
    "# include(\"../src/diagram.jl\")\n",
    "# include(\"../src/poles.jl\")\n",
    "# include(\"../src/contractions.jl\")\n",
    "# include(\"../src/printing.jl\")\n",
    "# include(\"../src/corrections.jl\")\n",
    "# include(\"../src/lindblad.jl\")"
   ]
  },
  {
   "cell_type": "markdown",
   "metadata": {},
   "source": [
    "## Setting up the Hilbert space and operators"
   ]
  },
  {
   "cell_type": "code",
   "execution_count": 3,
   "metadata": {},
   "outputs": [
    {
     "data": {
      "text/latex": [
       "$1 i {\\sigma}^{{eg}} -1 i {\\sigma}^{{ge}}$"
      ],
      "text/plain": [
       "(0 + 1im*(σeg)+0 - 1im*(σge))"
      ]
     },
     "metadata": {},
     "output_type": "display_data"
    }
   ],
   "source": [
    "# Setup\n",
    "h_cav = FockSpace(:cavity)\n",
    "h_atom = NLevelSpace(:atom, (:g,:e))\n",
    "h = tensor(h_cav, h_atom)\n",
    "\n",
    "@qnumbers a::Destroy(h) σ::Transition(h)\n",
    "\n",
    "#@syms ω_0 ω_d g κ γ ϵ ω_3 ω_1\n",
    "#@variables ω_c::real ω_a::real\n",
    "#@variables t::Real\n",
    "\n",
    "σz = 2* σ(:e, :e)  - 1\n",
    "σx = σ(:g, :e) + σ(:e, :g)\n",
    "σy = 1im* (σ(:e, :g) - σ(:g, :e))\n"
   ]
  },
  {
   "cell_type": "markdown",
   "metadata": {},
   "source": [
    "## Studying the Rabi model\n",
    "\n",
    "### First order approximation using the TCG algorithm"
   ]
  },
  {
   "cell_type": "code",
   "execution_count": 4,
   "metadata": {},
   "outputs": [
    {
     "data": {
      "text/plain": [
       "(Any[], Any[(a*σeg), (a′*σge), (a*σge), (a′*σeg)], Any[Any[ω_a + ω_c], Any[-ω_a - ω_c], Any[ω_a - ω_c], Any[ω_c - ω_a]], Any[exp(-0.5(τ^2)*((ω_a + ω_c)^2)), exp(-0.5(τ^2)*((-ω_a - ω_c)^2)), exp(-0.5(τ^2)*((ω_a - ω_c)^2)), exp(-0.5(τ^2)*((ω_c - ω_a)^2))])"
      ]
     },
     "metadata": {},
     "output_type": "display_data"
    }
   ],
   "source": [
    "@variables ω_c ω_a \n",
    "\n",
    "ωs_rabi = [ω_c + ω_a, -ω_c - ω_a, -ω_c + ω_a, ω_c - ω_a]\n",
    "hs_rabi = [a*σ(:e, :g),a'*σ(:g, :e),a*σ(:g, :e), a'*σ(:e, :g)]\n",
    "\n",
    "eff_ham_rabi_1, ops_eff_rabi_1, ωs_eff_rabi_1, gs_eff_rabi_1 = effective_hamiltonian(hs_rabi, ωs_rabi, 1)"
   ]
  },
  {
   "cell_type": "code",
   "execution_count": 5,
   "metadata": {},
   "outputs": [
    {
     "data": {
      "text/plain": [
       "4-element Vector{Any}:\n",
       " (a*σeg)\n",
       " (a′*σge)\n",
       " (a*σge)\n",
       " (a′*σeg)"
      ]
     },
     "metadata": {},
     "output_type": "display_data"
    }
   ],
   "source": [
    "ops_eff_rabi_1"
   ]
  },
  {
   "cell_type": "markdown",
   "metadata": {},
   "source": [
    "Note that the elements of `ωs_eff_rabi_1` are vectors, and not frequencies."
   ]
  },
  {
   "cell_type": "code",
   "execution_count": 6,
   "metadata": {},
   "outputs": [
    {
     "data": {
      "text/plain": [
       "4-element Vector{Any}:\n",
       " Any[ω_a + ω_c]\n",
       " Any[-ω_a - ω_c]\n",
       " Any[ω_a - ω_c]\n",
       " Any[ω_c - ω_a]"
      ]
     },
     "metadata": {},
     "output_type": "display_data"
    }
   ],
   "source": [
    "ωs_eff_rabi_1"
   ]
  },
  {
   "cell_type": "markdown",
   "metadata": {},
   "source": [
    "To fix that, we use `vcat()`"
   ]
  },
  {
   "cell_type": "code",
   "execution_count": 7,
   "metadata": {},
   "outputs": [
    {
     "data": {
      "text/plain": [
       "4-element Vector{Any}:\n",
       "  ω_a + ω_c\n",
       " -ω_a - ω_c\n",
       "  ω_a - ω_c\n",
       "  ω_c - ω_a"
      ]
     },
     "metadata": {},
     "output_type": "display_data"
    }
   ],
   "source": [
    "ωs_eff_rabi_1 = vcat(ωs_eff_rabi_1...)"
   ]
  },
  {
   "cell_type": "code",
   "execution_count": 8,
   "metadata": {},
   "outputs": [
    {
     "data": {
      "text/plain": [
       "4-element Vector{Any}:\n",
       " exp(-0.5(τ^2)*((ω_a + ω_c)^2))\n",
       " exp(-0.5(τ^2)*((-ω_a - ω_c)^2))\n",
       " exp(-0.5(τ^2)*((ω_a - ω_c)^2))\n",
       " exp(-0.5(τ^2)*((ω_c - ω_a)^2))"
      ]
     },
     "metadata": {},
     "output_type": "display_data"
    }
   ],
   "source": [
    "gs_eff_rabi_1"
   ]
  },
  {
   "cell_type": "markdown",
   "metadata": {},
   "source": [
    "It is useful to look at the symbolic expression"
   ]
  },
  {
   "cell_type": "code",
   "execution_count": 9,
   "metadata": {},
   "outputs": [
    {
     "data": {
      "text/latex": [
       "$$ \\begin{equation}\n",
       "\\left[\n",
       "\\begin{array}{c}\n",
       "e^{ - 0.5 \\left( \\omega_{a} + \\omega_{c} \\right)^{2} \\tau^{2}} \\\\\n",
       "e^{ - 0.5 \\left(  - \\omega_{a} - \\omega_{c} \\right)^{2} \\tau^{2}} \\\\\n",
       "e^{ - 0.5 \\left( \\omega_{a} - \\omega_{c} \\right)^{2} \\tau^{2}} \\\\\n",
       "e^{ - 0.5 \\left( \\omega_{c} - \\omega_{a} \\right)^{2} \\tau^{2}} \\\\\n",
       "\\end{array}\n",
       "\\right]\n",
       "\\end{equation}\n",
       " $$"
      ],
      "text/plain": [
       "4-element Vector{Num}:\n",
       " exp(-0.5(τ^2)*((ω_a + ω_c)^2))\n",
       " exp(-0.5(τ^2)*((-ω_a - ω_c)^2))\n",
       " exp(-0.5(τ^2)*((ω_a - ω_c)^2))\n",
       " exp(-0.5(τ^2)*((ω_c - ω_a)^2))"
      ]
     },
     "metadata": {},
     "output_type": "display_data"
    }
   ],
   "source": [
    "@cnumbers τ\n",
    "g_eff_1_sym = to_symbol.(gs_eff_rabi_1, τ)"
   ]
  },
  {
   "cell_type": "code",
   "execution_count": 10,
   "metadata": {},
   "outputs": [
    {
     "data": {
      "text/plain": [
       "4-element Vector{QuantumCumulants.QMul{Nothing}}:\n",
       " exp(-0.5(τ^2)*((ω_a + ω_c)^2))*exp((0 - 1im)*t*(ω_a + ω_c))*(a*σeg)\n",
       " exp(-0.5(τ^2)*((-ω_a - ω_c)^2))*exp((0 - 1im)*t*(-ω_a - ω_c))*(a′*σge)\n",
       " exp(-0.5(τ^2)*((ω_a - ω_c)^2))*exp((0 - 1im)*t*(ω_a - ω_c))*(a*σge)\n",
       " exp(-0.5(τ^2)*((ω_c - ω_a)^2))*exp((0 - 1im)*t*(ω_c - ω_a))*(a′*σeg)"
      ]
     },
     "metadata": {},
     "output_type": "display_data"
    }
   ],
   "source": [
    "@syms t::Real\n",
    "H_eff_1_sym = ops_eff_rabi_1.*g_eff_1_sym.*exp.(-im*t*ωs_eff_rabi_1)"
   ]
  },
  {
   "cell_type": "markdown",
   "metadata": {},
   "source": [
    "### Solving the model"
   ]
  },
  {
   "cell_type": "markdown",
   "metadata": {},
   "source": [
    "We start by replacing the variables with `QuantumCumulants.jl` variables,"
   ]
  },
  {
   "cell_type": "code",
   "execution_count": 11,
   "metadata": {},
   "outputs": [
    {
     "data": {
      "text/plain": [
       "4-element Vector{QuantumCumulants.QMul{Nothing}}:\n",
       " exp((0 - 1im)*t*(ω1 + ω2))*exp(-0.5(τ^2)*((ω1 + ω2)^2))*(a*σeg)\n",
       " exp((0 - 1im)*t*(-ω1 - ω2))*exp(-0.5(τ^2)*((-ω1 - ω2)^2))*(a′*σge)\n",
       " exp((0 - 1im)*t*(ω1 - ω2))*exp(-0.5(τ^2)*((ω1 - ω2)^2))*(a*σge)\n",
       " exp((0 - 1im)*t*(ω2 - ω1))*exp(-0.5(τ^2)*((ω2 - ω1)^2))*(a′*σeg)"
      ]
     },
     "metadata": {},
     "output_type": "display_data"
    }
   ],
   "source": [
    "@cnumbers ω1 ω2 \n",
    "\n",
    "subs = Dict(\n",
    "    ω_a => ω1, \n",
    "    ω_c => ω2\n",
    ")\n",
    "H_eff_qc = [substitute(h, subs) for h in H_eff_1_sym]"
   ]
  },
  {
   "cell_type": "code",
   "execution_count": 12,
   "metadata": {},
   "outputs": [
    {
     "data": {
      "text/latex": [
       "$e^{-1 i t \\left( {\\omega}1 + {\\omega}2 \\right)} e^{-0.5 \\tau^{2} \\left( {\\omega}1 + {\\omega}2 \\right)^{2}} a {\\sigma}^{{eg}} + e^{-1 i t \\left( -1 {\\omega}1 -1 {\\omega}2 \\right)} e^{-0.5 \\tau^{2} \\left( -1 {\\omega}1 -1 {\\omega}2 \\right)^{2}} a^\\dagger {\\sigma}^{{ge}} + e^{-1 i t \\left( {\\omega}1 -1 {\\omega}2 \\right)} e^{-0.5 \\tau^{2} \\left( {\\omega}1 -1 {\\omega}2 \\right)^{2}} a {\\sigma}^{{ge}} + e^{-1 i t \\left( {\\omega}2 -1 {\\omega}1 \\right)} e^{-0.5 \\tau^{2} \\left( {\\omega}2 -1 {\\omega}1 \\right)^{2}} a^\\dagger {\\sigma}^{{eg}}$"
      ],
      "text/plain": [
       "(exp((0 - 1im)*t*(ω1 + ω2))*exp(-0.5(τ^2)*((ω1 + ω2)^2))*(a*σeg)+exp((0 - 1im)*t*(-ω1 - ω2))*exp(-0.5(τ^2)*((-ω1 - ω2)^2))*(a′*σge)+exp((0 - 1im)*t*(ω1 - ω2))*exp(-0.5(τ^2)*((ω1 - ω2)^2))*(a*σge)+exp((0 - 1im)*t*(ω2 - ω1))*exp(-0.5(τ^2)*((ω2 - ω1)^2))*(a′*σeg))"
      ]
     },
     "metadata": {},
     "output_type": "display_data"
    }
   ],
   "source": [
    "H_sum = sum(H_eff_qc)"
   ]
  },
  {
   "cell_type": "code",
   "execution_count": 13,
   "metadata": {},
   "outputs": [
    {
     "data": {
      "text/plain": [
       "QuantumCumulants.QAdd"
      ]
     },
     "metadata": {},
     "output_type": "display_data"
    }
   ],
   "source": [
    "typeof(H_sum)"
   ]
  },
  {
   "cell_type": "markdown",
   "metadata": {},
   "source": [
    "Weirdly, this gives an error when we try to use that together with `QuantumCumulants.jl`"
   ]
  },
  {
   "cell_type": "code",
   "execution_count": 14,
   "metadata": {},
   "outputs": [
    {
     "data": {
      "text/latex": [
       "\\begin{align}\n",
       "\\frac{d}{dt} \\langle a\\rangle  =& -1 i \\langle {\\sigma}^{{eg}}\\rangle  e^{-1 i t \\left( {\\omega}2 -1 {\\omega}1 \\right) -0.5 \\tau^{2} \\left( {\\omega}2 -1 {\\omega}1 \\right)^{2}} -1 i \\langle {\\sigma}^{{ge}}\\rangle  e^{-1 i t \\left( -1 {\\omega}1 -1 {\\omega}2 \\right) -0.5 \\tau^{2} \\left( -1 {\\omega}1 -1 {\\omega}2 \\right)^{2}} \\\\\n",
       "\\frac{d}{dt} \\langle {\\sigma}^{{ee}}\\rangle  =& -1 i e^{-0.5 \\tau^{2} \\left( {\\omega}1 + {\\omega}2 \\right)^{2} -1 i t \\left( {\\omega}1 + {\\omega}2 \\right)} \\langle a  {\\sigma}^{{eg}}\\rangle  + 1 i e^{-0.5 \\tau^{2} \\left( {\\omega}1 -1 {\\omega}2 \\right)^{2} -1 i t \\left( {\\omega}1 -1 {\\omega}2 \\right)} \\langle a  {\\sigma}^{{ge}}\\rangle  -1 i e^{-1 i t \\left( {\\omega}2 -1 {\\omega}1 \\right) -0.5 \\tau^{2} \\left( {\\omega}2 -1 {\\omega}1 \\right)^{2}} \\langle a^\\dagger  {\\sigma}^{{eg}}\\rangle  + 1 i e^{-1 i t \\left( -1 {\\omega}1 -1 {\\omega}2 \\right) -0.5 \\tau^{2} \\left( -1 {\\omega}1 -1 {\\omega}2 \\right)^{2}} \\langle a^\\dagger  {\\sigma}^{{ge}}\\rangle  \\\\\n",
       "\\frac{d}{dt} \\langle {\\sigma}^{{eg}}\\rangle  =& 1 i \\langle a\\rangle  e^{-0.5 \\tau^{2} \\left( {\\omega}1 -1 {\\omega}2 \\right)^{2} -1 i t \\left( {\\omega}1 -1 {\\omega}2 \\right)} + 1 i \\langle a^\\dagger\\rangle  e^{-1 i t \\left( -1 {\\omega}1 -1 {\\omega}2 \\right) -0.5 \\tau^{2} \\left( -1 {\\omega}1 -1 {\\omega}2 \\right)^{2}} -2 i e^{-0.5 \\tau^{2} \\left( {\\omega}1 -1 {\\omega}2 \\right)^{2} -1 i t \\left( {\\omega}1 -1 {\\omega}2 \\right)} \\langle a  {\\sigma}^{{ee}}\\rangle  -2 i e^{-1 i t \\left( -1 {\\omega}1 -1 {\\omega}2 \\right) -0.5 \\tau^{2} \\left( -1 {\\omega}1 -1 {\\omega}2 \\right)^{2}} \\langle a^\\dagger  {\\sigma}^{{ee}}\\rangle  \\\\\n",
       "\\frac{d}{dt} \\langle a  {\\sigma}^{{eg}}\\rangle  =& -2 i \\left( \\langle a\\rangle  \\langle a^\\dagger  {\\sigma}^{{ee}}\\rangle  + \\langle a^\\dagger\\rangle  \\langle a  {\\sigma}^{{ee}}\\rangle  + \\langle {\\sigma}^{{ee}}\\rangle  \\langle a^\\dagger  a\\rangle  -2 \\langle a^\\dagger\\rangle  \\langle a\\rangle  \\langle {\\sigma}^{{ee}}\\rangle  \\right) e^{-1 i t \\left( -1 {\\omega}1 -1 {\\omega}2 \\right) -0.5 \\tau^{2} \\left( -1 {\\omega}1 -1 {\\omega}2 \\right)^{2}} -2 i \\left( \\langle {\\sigma}^{{ee}}\\rangle  \\langle a  a\\rangle  -2 \\langle a\\rangle ^{2} \\langle {\\sigma}^{{ee}}\\rangle  + 2 \\langle a\\rangle  \\langle a  {\\sigma}^{{ee}}\\rangle  \\right) e^{-0.5 \\tau^{2} \\left( {\\omega}1 -1 {\\omega}2 \\right)^{2} -1 i t \\left( {\\omega}1 -1 {\\omega}2 \\right)} -1 i \\langle {\\sigma}^{{ee}}\\rangle  e^{-1 i t \\left( -1 {\\omega}1 -1 {\\omega}2 \\right) -0.5 \\tau^{2} \\left( -1 {\\omega}1 -1 {\\omega}2 \\right)^{2}} + 1 i e^{-0.5 \\tau^{2} \\left( {\\omega}1 -1 {\\omega}2 \\right)^{2} -1 i t \\left( {\\omega}1 -1 {\\omega}2 \\right)} \\langle a  a\\rangle  + 1 i e^{-1 i t \\left( -1 {\\omega}1 -1 {\\omega}2 \\right) -0.5 \\tau^{2} \\left( -1 {\\omega}1 -1 {\\omega}2 \\right)^{2}} \\langle a^\\dagger  a\\rangle  \\\\\n",
       "\\frac{d}{dt} \\langle a  {\\sigma}^{{ge}}\\rangle  =& -1 i e^{-1 i t \\left( {\\omega}2 -1 {\\omega}1 \\right) -0.5 \\tau^{2} \\left( {\\omega}2 -1 {\\omega}1 \\right)^{2}} + 1 i \\langle {\\sigma}^{{ee}}\\rangle  e^{-1 i t \\left( {\\omega}2 -1 {\\omega}1 \\right) -0.5 \\tau^{2} \\left( {\\omega}2 -1 {\\omega}1 \\right)^{2}} -1 i e^{-1 i t \\left( {\\omega}2 -1 {\\omega}1 \\right) -0.5 \\tau^{2} \\left( {\\omega}2 -1 {\\omega}1 \\right)^{2}} \\langle a^\\dagger  a\\rangle  + 2 i \\left( \\langle a\\rangle  \\langle a^\\dagger  {\\sigma}^{{ee}}\\rangle  + \\langle a^\\dagger\\rangle  \\langle a  {\\sigma}^{{ee}}\\rangle  + \\langle {\\sigma}^{{ee}}\\rangle  \\langle a^\\dagger  a\\rangle  -2 \\langle a^\\dagger\\rangle  \\langle a\\rangle  \\langle {\\sigma}^{{ee}}\\rangle  \\right) e^{-1 i t \\left( {\\omega}2 -1 {\\omega}1 \\right) -0.5 \\tau^{2} \\left( {\\omega}2 -1 {\\omega}1 \\right)^{2}} -1 i e^{-0.5 \\tau^{2} \\left( {\\omega}1 + {\\omega}2 \\right)^{2} -1 i t \\left( {\\omega}1 + {\\omega}2 \\right)} \\langle a  a\\rangle  + 2 i \\left( \\langle {\\sigma}^{{ee}}\\rangle  \\langle a  a\\rangle  -2 \\langle a\\rangle ^{2} \\langle {\\sigma}^{{ee}}\\rangle  + 2 \\langle a\\rangle  \\langle a  {\\sigma}^{{ee}}\\rangle  \\right) e^{-0.5 \\tau^{2} \\left( {\\omega}1 + {\\omega}2 \\right)^{2} -1 i t \\left( {\\omega}1 + {\\omega}2 \\right)} \\\\\n",
       "\\frac{d}{dt} \\langle a  {\\sigma}^{{ee}}\\rangle  =& 1 i \\left( \\langle {\\sigma}^{{ge}}\\rangle  \\langle a^\\dagger  a\\rangle  + \\langle a^\\dagger\\rangle  \\langle a  {\\sigma}^{{ge}}\\rangle  + \\langle a\\rangle  \\langle a^\\dagger  {\\sigma}^{{ge}}\\rangle  -2 \\langle a^\\dagger\\rangle  \\langle a\\rangle  \\langle {\\sigma}^{{ge}}\\rangle  \\right) e^{-1 i t \\left( -1 {\\omega}1 -1 {\\omega}2 \\right) -0.5 \\tau^{2} \\left( -1 {\\omega}1 -1 {\\omega}2 \\right)^{2}} -1 i \\left( \\langle {\\sigma}^{{eg}}\\rangle  \\langle a  a\\rangle  -2 \\langle a\\rangle ^{2} \\langle {\\sigma}^{{eg}}\\rangle  + 2 \\langle a\\rangle  \\langle a  {\\sigma}^{{eg}}\\rangle  \\right) e^{-0.5 \\tau^{2} \\left( {\\omega}1 + {\\omega}2 \\right)^{2} -1 i t \\left( {\\omega}1 + {\\omega}2 \\right)} + 1 i \\left( \\langle {\\sigma}^{{ge}}\\rangle  \\langle a  a\\rangle  -2 \\langle a\\rangle ^{2} \\langle {\\sigma}^{{ge}}\\rangle  + 2 \\langle a\\rangle  \\langle a  {\\sigma}^{{ge}}\\rangle  \\right) e^{-0.5 \\tau^{2} \\left( {\\omega}1 -1 {\\omega}2 \\right)^{2} -1 i t \\left( {\\omega}1 -1 {\\omega}2 \\right)} -1 i \\left( \\langle {\\sigma}^{{eg}}\\rangle  \\langle a^\\dagger  a\\rangle  + \\langle a\\rangle  \\langle a^\\dagger  {\\sigma}^{{eg}}\\rangle  + \\langle a^\\dagger\\rangle  \\langle a  {\\sigma}^{{eg}}\\rangle  -2 \\langle a^\\dagger\\rangle  \\langle a\\rangle  \\langle {\\sigma}^{{eg}}\\rangle  \\right) e^{-1 i t \\left( {\\omega}2 -1 {\\omega}1 \\right) -0.5 \\tau^{2} \\left( {\\omega}2 -1 {\\omega}1 \\right)^{2}} -1 i \\langle {\\sigma}^{{eg}}\\rangle  e^{-1 i t \\left( {\\omega}2 -1 {\\omega}1 \\right) -0.5 \\tau^{2} \\left( {\\omega}2 -1 {\\omega}1 \\right)^{2}} \\\\\n",
       "\\frac{d}{dt} \\langle a^\\dagger  a\\rangle  =& 1 i e^{-0.5 \\tau^{2} \\left( {\\omega}1 + {\\omega}2 \\right)^{2} -1 i t \\left( {\\omega}1 + {\\omega}2 \\right)} \\langle a  {\\sigma}^{{eg}}\\rangle  + 1 i e^{-0.5 \\tau^{2} \\left( {\\omega}1 -1 {\\omega}2 \\right)^{2} -1 i t \\left( {\\omega}1 -1 {\\omega}2 \\right)} \\langle a  {\\sigma}^{{ge}}\\rangle  -1 i e^{-1 i t \\left( {\\omega}2 -1 {\\omega}1 \\right) -0.5 \\tau^{2} \\left( {\\omega}2 -1 {\\omega}1 \\right)^{2}} \\langle a^\\dagger  {\\sigma}^{{eg}}\\rangle  -1 i e^{-1 i t \\left( -1 {\\omega}1 -1 {\\omega}2 \\right) -0.5 \\tau^{2} \\left( -1 {\\omega}1 -1 {\\omega}2 \\right)^{2}} \\langle a^\\dagger  {\\sigma}^{{ge}}\\rangle  \\\\\n",
       "\\frac{d}{dt} \\langle a  a\\rangle  =& -2 i e^{-1 i t \\left( {\\omega}2 -1 {\\omega}1 \\right) -0.5 \\tau^{2} \\left( {\\omega}2 -1 {\\omega}1 \\right)^{2}} \\langle a  {\\sigma}^{{eg}}\\rangle  -2 i e^{-1 i t \\left( -1 {\\omega}1 -1 {\\omega}2 \\right) -0.5 \\tau^{2} \\left( -1 {\\omega}1 -1 {\\omega}2 \\right)^{2}} \\langle a  {\\sigma}^{{ge}}\\rangle \n",
       "\\end{align}\n"
      ],
      "text/plain": [
       "∂ₜ(⟨a⟩) = (0 - 1im)*⟨σeg⟩*exp((0 - 1im)*t*(ω2 - ω1) - 0.5(τ^2)*((ω2 - ω1)^2)) + (0 - 1im)*⟨σge⟩*exp((0 - 1im)*t*(-ω1 - ω2) - 0.5(τ^2)*((-ω1 - ω2)^2))\n",
       "∂ₜ(⟨σee⟩) = (0 - 1im)*exp((0 - 1im)*t*(ω1 + ω2) - 0.5(τ^2)*((ω1 + ω2)^2))*⟨a*σeg⟩ + (0 + 1im)*exp((0 - 1im)*t*(ω1 - ω2) - 0.5(τ^2)*((ω1 - ω2)^2))*⟨a*σge⟩ + (0 - 1im)*exp((0 - 1im)*t*(ω2 - ω1) - 0.5(τ^2)*((ω2 - ω1)^2))*⟨a′*σeg⟩ + (0 + 1im)*exp((0 - 1im)*t*(-ω1 - ω2) - 0.5(τ^2)*((-ω1 - ω2)^2))*⟨a′*σge⟩\n",
       "∂ₜ(⟨σeg⟩) = (0 + 1im)*⟨a⟩*exp((0 - 1im)*t*(ω1 - ω2) - 0.5(τ^2)*((ω1 - ω2)^2)) + (0 + 1im)*⟨a′⟩*exp((0 - 1im)*t*(-ω1 - ω2) - 0.5(τ^2)*((-ω1 - ω2)^2)) + (0 - 2im)*exp((0 - 1im)*t*(ω1 - ω2) - 0.5(τ^2)*((ω1 - ω2)^2))*⟨a*σee⟩ + (0 - 2im)*exp((0 - 1im)*t*(-ω1 - ω2) - 0.5(τ^2)*((-ω1 - ω2)^2))*⟨a′*σee⟩\n",
       "∂ₜ(⟨a*σeg⟩) = (0 - 2im)*(⟨a⟩*⟨a′*σee⟩ + ⟨a′⟩*⟨a*σee⟩ + ⟨σee⟩*⟨a′*a⟩ - 2⟨a′⟩*⟨a⟩*⟨σee⟩)*exp((0 - 1im)*t*(-ω1 - ω2) - 0.5(τ^2)*((-ω1 - ω2)^2)) + (0 - 2im)*(⟨σee⟩*⟨a*a⟩ + 2⟨a⟩*⟨a*σee⟩ - 2(⟨a⟩^2)*⟨σee⟩)*exp((0 - 1im)*t*(ω1 - ω2) - 0.5(τ^2)*((ω1 - ω2)^2)) + (0 - 1im)*⟨σee⟩*exp((0 - 1im)*t*(-ω1 - ω2) - 0.5(τ^2)*((-ω1 - ω2)^2)) + (0 + 1im)*exp((0 - 1im)*t*(ω1 - ω2) - 0.5(τ^2)*((ω1 - ω2)^2))*⟨a*a⟩ + (0 + 1im)*exp((0 - 1im)*t*(-ω1 - ω2) - 0.5(τ^2)*((-ω1 - ω2)^2))*⟨a′*a⟩\n",
       "∂ₜ(⟨a*σge⟩) = (0 - 1im)*exp((0 - 1im)*t*(ω2 - ω1) - 0.5(τ^2)*((ω2 - ω1)^2)) + (0 + 1im)*⟨σee⟩*exp((0 - 1im)*t*(ω2 - ω1) - 0.5(τ^2)*((ω2 - ω1)^2)) + (0 - 1im)*exp((0 - 1im)*t*(ω2 - ω1) - 0.5(τ^2)*((ω2 - ω1)^2))*⟨a′*a⟩ + (0 + 2im)*(⟨a⟩*⟨a′*σee⟩ + ⟨a′⟩*⟨a*σee⟩ + ⟨σee⟩*⟨a′*a⟩ - 2⟨a′⟩*⟨a⟩*⟨σee⟩)*exp((0 - 1im)*t*(ω2 - ω1) - 0.5(τ^2)*((ω2 - ω1)^2)) + (0 - 1im)*exp((0 - 1im)*t*(ω1 + ω2) - 0.5(τ^2)*((ω1 + ω2)^2))*⟨a*a⟩ + (0 + 2im)*(⟨σee⟩*⟨a*a⟩ + 2⟨a⟩*⟨a*σee⟩ - 2(⟨a⟩^2)*⟨σee⟩)*exp((0 - 1im)*t*(ω1 + ω2) - 0.5(τ^2)*((ω1 + ω2)^2))\n",
       "∂ₜ(⟨a*σee⟩) = (0 + 1im)*(⟨σge⟩*⟨a′*a⟩ + ⟨a′⟩*⟨a*σge⟩ + ⟨a⟩*⟨a′*σge⟩ - 2⟨a′⟩*⟨a⟩*⟨σge⟩)*exp((0 - 1im)*t*(-ω1 - ω2) - 0.5(τ^2)*((-ω1 - ω2)^2)) + (0 - 1im)*(⟨σeg⟩*⟨a*a⟩ + 2⟨a⟩*⟨a*σeg⟩ - 2(⟨a⟩^2)*⟨σeg⟩)*exp((0 - 1im)*t*(ω1 + ω2) - 0.5(τ^2)*((ω1 + ω2)^2)) + (0 + 1im)*(⟨σge⟩*⟨a*a⟩ + 2⟨a⟩*⟨a*σge⟩ - 2(⟨a⟩^2)*⟨σge⟩)*exp((0 - 1im)*t*(ω1 - ω2) - 0.5(τ^2)*((ω1 - ω2)^2)) + (0 - 1im)*(⟨σeg⟩*⟨a′*a⟩ + ⟨a⟩*⟨a′*σeg⟩ + ⟨a′⟩*⟨a*σeg⟩ - 2⟨a′⟩*⟨a⟩*⟨σeg⟩)*exp((0 - 1im)*t*(ω2 - ω1) - 0.5(τ^2)*((ω2 - ω1)^2)) + (0 - 1im)*⟨σeg⟩*exp((0 - 1im)*t*(ω2 - ω1) - 0.5(τ^2)*((ω2 - ω1)^2))\n",
       "∂ₜ(⟨a′*a⟩) = (0 + 1im)*exp((0 - 1im)*t*(ω1 + ω2) - 0.5(τ^2)*((ω1 + ω2)^2))*⟨a*σeg⟩ + (0 + 1im)*exp((0 - 1im)*t*(ω1 - ω2) - 0.5(τ^2)*((ω1 - ω2)^2))*⟨a*σge⟩ + (0 - 1im)*exp((0 - 1im)*t*(ω2 - ω1) - 0.5(τ^2)*((ω2 - ω1)^2))*⟨a′*σeg⟩ + (0 - 1im)*exp((0 - 1im)*t*(-ω1 - ω2) - 0.5(τ^2)*((-ω1 - ω2)^2))*⟨a′*σge⟩\n",
       "∂ₜ(⟨a*a⟩) = (0 - 2im)*exp((0 - 1im)*t*(ω2 - ω1) - 0.5(τ^2)*((ω2 - ω1)^2))*⟨a*σeg⟩ + (0 - 2im)*exp((0 - 1im)*t*(-ω1 - ω2) - 0.5(τ^2)*((-ω1 - ω2)^2))*⟨a*σge⟩\n"
      ]
     },
     "metadata": {},
     "output_type": "display_data"
    }
   ],
   "source": [
    "eqs = meanfield([a, σ(:e, :e)], H_sum, []; rates=[], order=2, iv=t)\n",
    "eqs = complete(eqs)"
   ]
  },
  {
   "cell_type": "code",
   "execution_count": 15,
   "metadata": {},
   "outputs": [
    {
     "data": {
      "text/plain": [
       "\u001b[0m\u001b[1mModel sys with 8 \u001b[22m\u001b[0m\u001b[1mequations\u001b[22m\n",
       "\u001b[0m\u001b[1mStates (8):\u001b[22m\n",
       "  var\"⟨a⟩\"(t)\n",
       "  var\"⟨σee⟩\"(t)\n",
       "  var\"⟨σeg⟩\"(t)\n",
       "  var\"⟨a*σeg⟩\"(t)\n",
       "⋮\n",
       "\u001b[0m\u001b[1mParameters (3):\u001b[22m\n",
       "  τ\n",
       "  ω2\n",
       "  ω1"
      ]
     },
     "metadata": {},
     "output_type": "display_data"
    }
   ],
   "source": [
    "@named sys = ODESystem(eqs)"
   ]
  },
  {
   "cell_type": "code",
   "execution_count": 22,
   "metadata": {},
   "outputs": [
    {
     "data": {
      "text/plain": [
       "\u001b[38;2;86;182;194mODEProblem\u001b[0m with uType \u001b[38;2;86;182;194mVector{ComplexF64}\u001b[0m and tType \u001b[38;2;86;182;194mFloat64\u001b[0m. In-place: \u001b[38;2;86;182;194mtrue\u001b[0m\n",
       "timespan: (0.0, 50.0)\n",
       "u0: 8-element Vector{ComplexF64}:\n",
       " 0.0 + 0.0im\n",
       " 1.0 + 0.0im\n",
       " 0.0 + 0.0im\n",
       " 0.0 + 0.0im\n",
       " 0.0 + 0.0im\n",
       " 0.0 + 0.0im\n",
       " 0.0 + 0.0im\n",
       " 0.0 + 0.0im"
      ]
     },
     "metadata": {},
     "output_type": "display_data"
    }
   ],
   "source": [
    "p0 = (ω1=>1, ω2=>1.01, τ=>1)\n",
    "u0 = ComplexF64[0, 1, 0, 0, 0, 0, 0, 0]\n",
    "\n",
    "prob = ODEProblem(sys,u0,(0.0, 50), p0)"
   ]
  },
  {
   "cell_type": "code",
   "execution_count": 23,
   "metadata": {},
   "outputs": [
    {
     "data": {
      "text/plain": [
       "retcode: Success\n",
       "Interpolation: 3rd order Hermite\n",
       "t: 264-element Vector{Float64}:\n",
       "  0.0\n",
       "  0.007531170688643022\n",
       "  0.023823532014024054\n",
       "  0.04489504339687165\n",
       "  0.07322006058758947\n",
       "  0.10871324781193295\n",
       "  0.1530946946223217\n",
       "  0.20683000925243894\n",
       "  0.2704927292481591\n",
       "  0.34361810996111136\n",
       "  ⋮\n",
       " 48.44445408016575\n",
       " 48.64336206613416\n",
       " 48.84820427733723\n",
       " 49.057864522898534\n",
       " 49.26742545823201\n",
       " 49.479968548990456\n",
       " 49.6966181977359\n",
       " 49.9188656887467\n",
       " 50.0\n",
       "u: 264-element Vector{Vector{ComplexF64}}:\n",
       " [0.0 + 0.0im, 1.0 + 0.0im, 0.0 + 0.0im, 0.0 + 0.0im, 0.0 + 0.0im, 0.0 + 0.0im, 0.0 + 0.0im, 0.0 + 0.0im]\n",
       " [0.0 + 0.0im, 0.9999990020349266 - 2.3490928071013308e-26im, 0.0 + 0.0im, 7.561049065401139e-6 - 0.0009989439610856893im, -1.9055940935765315e-11 - 2.505179229924509e-9im, 0.0 + 0.0im, 9.979839393409633e-7 - 2.3490928071013308e-26im, -7.523059481025749e-6 - 3.758348828577164e-8im]\n",
       " [0.0 + 0.0im, 0.9999900171618281 + 3.5791970394661075e-25im, 0.0 + 0.0im, 7.564104461599798e-5 - 0.003158358442499437im, -1.9076877654886395e-9 - 7.926349879533787e-8im, 0.0 + 0.0im, 9.984726776283974e-6 + 3.5791970394661075e-25im, -7.526133168863169e-5 - 1.189499267125214e-6im]\n",
       " [0.0 + 0.0im, 0.9999645825483382 - 9.260505327685789e-24im, 0.0 + 0.0im, 0.00026842619687142974 - 0.005943197932755826im, -2.404383657189312e-8 - 5.297526950560967e-7im, 0.0 + 0.0im, 3.544124934738601e-5 - 9.260505327685789e-24im, -0.0002670820995982147 - 7.957069140753956e-6im]\n",
       " [0.0 + 0.0im, 0.9999060043079856 - 2.989444172634523e-23im, 0.0 + 0.0im, 0.000712779644631565 - 0.009660206729298274im, -1.698668714444364e-7 - 2.291110758639137e-6im, 0.0 + 0.0im, 9.416372470572783e-5 - 2.989444172634523e-23im, -0.0007092312596872895 - 3.4484038905000705e-5im]\n",
       " [0.0 + 0.0im, 0.9997936819938384 - 3.2301745680166754e-22im, 0.0 + 0.0im, 0.0015661888941174143 - 0.014249611788933856im, -8.232272534048236e-7 - 7.4550085118461265e-6im, 0.0 + 0.0im, 0.00020713144298459044 - 3.2301745680166754e-22im, -0.00155847978207406 - 0.00011265355961463114im]\n",
       " [0.0 + 0.0im, 0.9995940020019496 - 2.1728841640887945e-22im, 0.0 + 0.0im, 0.003087789880236352 - 0.019831411620496925im, -3.2216329199250145e-6 - 2.06003031728228e-5im, 0.0 + 0.0im, 0.00040917493715030923 - 2.1728841640887945e-22im, -0.0030729011332619707 - 0.0003135328693803593im]\n",
       " [0.0 + 0.0im, 0.9992684532632087 - 3.7659295313862815e-22im, 0.0 + 0.0im, 0.005580791925797315 - 0.026266496255500846im, -1.0644094584357018e-5 - 4.990372888556299e-5im, 0.0 + 0.0im, 0.0007420077627601727 - 3.7659295313862815e-22im, -0.005554808952374733 - 0.0007686916523870241im]\n",
       " [0.0 + 0.0im, 0.9987737102913072 - 2.6773682639951667e-21im, 0.0 + 0.0im, 0.009398524372863593 - 0.03328435467808709im, -3.073704774718369e-5 - 0.0001085374431329677im, 0.0 + 0.0im, 0.0012563355999848029 - 2.6773682639951667e-21im, -0.00935719473552058 - 0.0017039513974191228im]\n",
       " [0.0 + 0.0im, 0.9980785060608977 + 1.2041804253196092e-21im, 0.0 + 0.0im, 0.01482186551966096 - 0.040315895532212875im, -7.853645474609909e-5 - 0.0002133816724390812im, 0.0 + 0.0im, 0.001997640856641451 + 1.2041804253196092e-21im, -0.01476227138827737 - 0.0034467376728957648im]\n",
       " ⋮\n",
       " [0.0 + 0.0im, 0.9583886701413178 + 3.1067712332822045e-19im, 0.0 + 0.0im, 0.09816106506661502 + 0.09008568452869577im, -0.025505143095489315 + 0.009397873976546279im, 0.0 + 0.0im, 0.037644570984871 + 3.705288234076651e-18im, -0.19650825831210966 - 0.08985249621615202im]\n",
       " [0.0 + 0.0im, 0.954256703172943 + 3.1067712332822045e-19im, 0.0 + 0.0im, 0.05907261924687062 + 0.1357738367815692im, -0.028014879780096917 + 0.013203161592426309im, 0.0 + 0.0im, 0.04381447385351908 + 3.705288234076651e-18im, -0.17162536210695364 - 0.14060031150757418im]\n",
       " [0.0 + 0.0im, 0.948338677172674 + 3.1067712332822045e-19im, 0.0 + 0.0im, 0.004607902366958675 + 0.16823993295199416im, -0.029921958761686632 + 0.017343980373169195im, 0.0 + 0.0im, 0.04980039025387274 + 3.58684003652833e-18im, -0.12215693943854886 - 0.1836903554916366im]\n",
       " [0.0 + 0.0im, 0.9407631243394156 + 3.1067712332822045e-19im, 0.0 + 0.0im, -0.0589243871512685 + 0.1799543713241204im, -0.03157077652475948 + 0.021094254974378255im, 0.0 + 0.0im, 0.05522884897043795 + 3.58684003652833e-18im, -0.05082545202435318 - 0.21027422325135306im]\n",
       " [0.0 + 0.0im, 0.9324717315004148 + 3.1067712332822045e-19im, 0.0 + 0.0im, -0.12118004749858823 + 0.1669047356399048im, -0.033391357366535694 + 0.023870612358179284im, 0.0 + 0.0im, 0.0596807649097517 + 3.58684003652833e-18im, 0.033535107341022975 - 0.21302467863741897im]\n",
       " [0.0 + 0.0im, 0.9244328225271885 + 3.1067712332822045e-19im, 0.0 + 0.0im, -0.17339808536960233 + 0.12930115902733122im, -0.03574841250859426 + 0.025591196427402048im, 0.0 + 0.0im, 0.06305129174223738 + 2.1120260797469735e-18im, 0.12185284811691037 - 0.18841922842058387im]\n",
       " [0.0 + 0.0im, 0.917606165931486 + 3.1067712332822045e-19im, 0.0 + 0.0im, -0.20662301221093887 + 0.07066814357498084im, -0.03871065878403643 + 0.026454695689905303im, 0.0 + 0.0im, 0.06533429555816635 + 2.863680543228673e-18im, 0.2026431106595416 - 0.1358884327922911im]\n",
       " [0.0 + 0.0im, 0.9125422315689311 + 3.1067712332822045e-19im, 0.0 + 0.0im, -0.21342061653344252 - 0.002107811298875476im, -0.04202383391002773 + 0.026828220258153478im, 0.0 + 0.0im, 0.0667144264011433 + 2.349629956384181e-18im, 0.2637666098857452 - 0.05880229991149312im]\n",
       " [0.0 + 0.0im, 0.9111753332216248 + 3.1067712332822045e-19im, 0.0 + 0.0im, -0.2084083290938554 - 0.02973711307133618im, -0.043200675202838795 + 0.026909403982542667im, 0.0 + 0.0im, 0.06705264115628207 + 2.443460352676388e-18im, 0.27859635628432783 - 0.026630131188697972im]"
      ]
     },
     "metadata": {},
     "output_type": "display_data"
    }
   ],
   "source": [
    "sol = solve(prob,RK4())"
   ]
  },
  {
   "cell_type": "code",
   "execution_count": 24,
   "metadata": {},
   "outputs": [
    {
     "data": {
      "image/png": "[encoded data removed]",
      "image/svg+xml": [
       "<?xml version=\"1.0\" encoding=\"utf-8\"?>\n",
       "<svg xmlns=\"http://www.w3.org/2000/svg\" xmlns:xlink=\"http://www.w3.org/1999/xlink\" width=\"600\" height=\"400\" viewBox=\"0 0 2400 1600\">\n",
       "<defs>\n",
       "  <clipPath id=\"clip790\">\n",
       "    <rect x=\"0\" y=\"0\" width=\"2400\" height=\"1600\"/>\n",
       "  </clipPath>\n",
       "</defs>\n",
       "<path clip-path=\"url(#clip790)\" d=\"M0 1600 L2400 1600 L2400 0 L0 0  Z\" fill=\"#ffffff\" fill-rule=\"evenodd\" fill-opacity=\"1\"/>\n",
       "<defs>\n",
       "  <clipPath id=\"clip791\">\n",
       "    <rect x=\"480\" y=\"0\" width=\"1681\" height=\"1600\"/>\n",
       "  </clipPath>\n",
       "</defs>\n",
       "<path clip-path=\"url(#clip790)\" d=\"M186.76 1423.18 L2352.76 1423.18 L2352.76 47.2441 L186.76 47.2441  Z\" fill=\"#ffffff\" fill-rule=\"evenodd\" fill-opacity=\"1\"/>\n",
       "<defs>\n",
       "  <clipPath id=\"clip792\">\n",
       "    <rect x=\"186\" y=\"47\" width=\"2167\" height=\"1377\"/>\n",
       "  </clipPath>\n",
       "</defs>\n",
       "<polyline clip-path=\"url(#clip792)\" style=\"stroke:#000000; stroke-linecap:round; stroke-linejoin:round; stroke-width:2; stroke-opacity:0.1; fill:none\" points=\"248.062,1423.18 248.062,47.2441 \"/>\n",
       "<polyline clip-path=\"url(#clip792)\" style=\"stroke:#000000; stroke-linecap:round; stroke-linejoin:round; stroke-width:2; stroke-opacity:0.1; fill:none\" points=\"656.74,1423.18 656.74,47.2441 \"/>\n",
       "<polyline clip-path=\"url(#clip792)\" style=\"stroke:#000000; stroke-linecap:round; stroke-linejoin:round; stroke-width:2; stroke-opacity:0.1; fill:none\" points=\"1065.42,1423.18 1065.42,47.2441 \"/>\n",
       "<polyline clip-path=\"url(#clip792)\" style=\"stroke:#000000; stroke-linecap:round; stroke-linejoin:round; stroke-width:2; stroke-opacity:0.1; fill:none\" points=\"1474.1,1423.18 1474.1,47.2441 \"/>\n",
       "<polyline clip-path=\"url(#clip792)\" style=\"stroke:#000000; stroke-linecap:round; stroke-linejoin:round; stroke-width:2; stroke-opacity:0.1; fill:none\" points=\"1882.78,1423.18 1882.78,47.2441 \"/>\n",
       "<polyline clip-path=\"url(#clip792)\" style=\"stroke:#000000; stroke-linecap:round; stroke-linejoin:round; stroke-width:2; stroke-opacity:0.1; fill:none\" points=\"2291.45,1423.18 2291.45,47.2441 \"/>\n",
       "<polyline clip-path=\"url(#clip790)\" style=\"stroke:#000000; stroke-linecap:round; stroke-linejoin:round; stroke-width:4; stroke-opacity:1; fill:none\" points=\"186.76,1423.18 2352.76,1423.18 \"/>\n",
       "<polyline clip-path=\"url(#clip790)\" style=\"stroke:#000000; stroke-linecap:round; stroke-linejoin:round; stroke-width:4; stroke-opacity:1; fill:none\" points=\"248.062,1423.18 248.062,1404.28 \"/>\n",
       "<polyline clip-path=\"url(#clip790)\" style=\"stroke:#000000; stroke-linecap:round; stroke-linejoin:round; stroke-width:4; stroke-opacity:1; fill:none\" points=\"656.74,1423.18 656.74,1404.28 \"/>\n",
       "<polyline clip-path=\"url(#clip790)\" style=\"stroke:#000000; stroke-linecap:round; stroke-linejoin:round; stroke-width:4; stroke-opacity:1; fill:none\" points=\"1065.42,1423.18 1065.42,1404.28 \"/>\n",
       "<polyline clip-path=\"url(#clip790)\" style=\"stroke:#000000; stroke-linecap:round; stroke-linejoin:round; stroke-width:4; stroke-opacity:1; fill:none\" points=\"1474.1,1423.18 1474.1,1404.28 \"/>\n",
       "<polyline clip-path=\"url(#clip790)\" style=\"stroke:#000000; stroke-linecap:round; stroke-linejoin:round; stroke-width:4; stroke-opacity:1; fill:none\" points=\"1882.78,1423.18 1882.78,1404.28 \"/>\n",
       "<polyline clip-path=\"url(#clip790)\" style=\"stroke:#000000; stroke-linecap:round; stroke-linejoin:round; stroke-width:4; stroke-opacity:1; fill:none\" points=\"2291.45,1423.18 2291.45,1404.28 \"/>\n",
       "<path clip-path=\"url(#clip790)\" d=\"M248.062 1454.1 Q244.451 1454.1 242.622 1457.66 Q240.817 1461.2 240.817 1468.33 Q240.817 1475.44 242.622 1479.01 Q244.451 1482.55 248.062 1482.55 Q251.696 1482.55 253.502 1479.01 Q255.33 1475.44 255.33 1468.33 Q255.33 1461.2 253.502 1457.66 Q251.696 1454.1 248.062 1454.1 M248.062 1450.39 Q253.872 1450.39 256.928 1455 Q260.006 1459.58 260.006 1468.33 Q260.006 1477.06 256.928 1481.67 Q253.872 1486.25 248.062 1486.25 Q242.252 1486.25 239.173 1481.67 Q236.117 1477.06 236.117 1468.33 Q236.117 1459.58 239.173 1455 Q242.252 1450.39 248.062 1450.39 Z\" fill=\"#000000\" fill-rule=\"nonzero\" fill-opacity=\"1\" /><path clip-path=\"url(#clip790)\" d=\"M631.428 1481.64 L639.067 1481.64 L639.067 1455.28 L630.757 1456.95 L630.757 1452.69 L639.021 1451.02 L643.696 1451.02 L643.696 1481.64 L651.335 1481.64 L651.335 1485.58 L631.428 1485.58 L631.428 1481.64 Z\" fill=\"#000000\" fill-rule=\"nonzero\" fill-opacity=\"1\" /><path clip-path=\"url(#clip790)\" d=\"M670.78 1454.1 Q667.169 1454.1 665.34 1457.66 Q663.534 1461.2 663.534 1468.33 Q663.534 1475.44 665.34 1479.01 Q667.169 1482.55 670.78 1482.55 Q674.414 1482.55 676.219 1479.01 Q678.048 1475.44 678.048 1468.33 Q678.048 1461.2 676.219 1457.66 Q674.414 1454.1 670.78 1454.1 M670.78 1450.39 Q676.59 1450.39 679.645 1455 Q682.724 1459.58 682.724 1468.33 Q682.724 1477.06 679.645 1481.67 Q676.59 1486.25 670.78 1486.25 Q664.969 1486.25 661.891 1481.67 Q658.835 1477.06 658.835 1468.33 Q658.835 1459.58 661.891 1455 Q664.969 1450.39 670.78 1450.39 Z\" fill=\"#000000\" fill-rule=\"nonzero\" fill-opacity=\"1\" /><path clip-path=\"url(#clip790)\" d=\"M1044.19 1481.64 L1060.51 1481.64 L1060.51 1485.58 L1038.57 1485.58 L1038.57 1481.64 Q1041.23 1478.89 1045.81 1474.26 Q1050.42 1469.61 1051.6 1468.27 Q1053.84 1465.74 1054.72 1464.01 Q1055.63 1462.25 1055.63 1460.56 Q1055.63 1457.8 1053.68 1456.07 Q1051.76 1454.33 1048.66 1454.33 Q1046.46 1454.33 1044.01 1455.09 Q1041.58 1455.86 1038.8 1457.41 L1038.8 1452.69 Q1041.62 1451.55 1044.08 1450.97 Q1046.53 1450.39 1048.57 1450.39 Q1053.94 1450.39 1057.13 1453.08 Q1060.33 1455.77 1060.33 1460.26 Q1060.33 1462.39 1059.52 1464.31 Q1058.73 1466.2 1056.62 1468.8 Q1056.04 1469.47 1052.94 1472.69 Q1049.84 1475.88 1044.19 1481.64 Z\" fill=\"#000000\" fill-rule=\"nonzero\" fill-opacity=\"1\" /><path clip-path=\"url(#clip790)\" d=\"M1080.33 1454.1 Q1076.72 1454.1 1074.89 1457.66 Q1073.08 1461.2 1073.08 1468.33 Q1073.08 1475.44 1074.89 1479.01 Q1076.72 1482.55 1080.33 1482.55 Q1083.96 1482.55 1085.77 1479.01 Q1087.59 1475.44 1087.59 1468.33 Q1087.59 1461.2 1085.77 1457.66 Q1083.96 1454.1 1080.33 1454.1 M1080.33 1450.39 Q1086.14 1450.39 1089.19 1455 Q1092.27 1459.58 1092.27 1468.33 Q1092.27 1477.06 1089.19 1481.67 Q1086.14 1486.25 1080.33 1486.25 Q1074.52 1486.25 1071.44 1481.67 Q1068.38 1477.06 1068.38 1468.33 Q1068.38 1459.58 1071.44 1455 Q1074.52 1450.39 1080.33 1450.39 Z\" fill=\"#000000\" fill-rule=\"nonzero\" fill-opacity=\"1\" /><path clip-path=\"url(#clip790)\" d=\"M1462.94 1466.95 Q1466.3 1467.66 1468.17 1469.93 Q1470.07 1472.2 1470.07 1475.53 Q1470.07 1480.65 1466.55 1483.45 Q1463.03 1486.25 1456.55 1486.25 Q1454.38 1486.25 1452.06 1485.81 Q1449.77 1485.39 1447.31 1484.54 L1447.31 1480.02 Q1449.26 1481.16 1451.57 1481.74 Q1453.89 1482.32 1456.41 1482.32 Q1460.81 1482.32 1463.1 1480.58 Q1465.42 1478.84 1465.42 1475.53 Q1465.42 1472.48 1463.26 1470.77 Q1461.13 1469.03 1457.31 1469.03 L1453.29 1469.03 L1453.29 1465.19 L1457.5 1465.19 Q1460.95 1465.19 1462.78 1463.82 Q1464.61 1462.43 1464.61 1459.84 Q1464.61 1457.18 1462.71 1455.77 Q1460.83 1454.33 1457.31 1454.33 Q1455.39 1454.33 1453.19 1454.75 Q1451 1455.16 1448.36 1456.04 L1448.36 1451.88 Q1451.02 1451.14 1453.33 1450.77 Q1455.67 1450.39 1457.73 1450.39 Q1463.06 1450.39 1466.16 1452.83 Q1469.26 1455.23 1469.26 1459.35 Q1469.26 1462.22 1467.62 1464.21 Q1465.97 1466.18 1462.94 1466.95 Z\" fill=\"#000000\" fill-rule=\"nonzero\" fill-opacity=\"1\" /><path clip-path=\"url(#clip790)\" d=\"M1488.94 1454.1 Q1485.32 1454.1 1483.5 1457.66 Q1481.69 1461.2 1481.69 1468.33 Q1481.69 1475.44 1483.5 1479.01 Q1485.32 1482.55 1488.94 1482.55 Q1492.57 1482.55 1494.37 1479.01 Q1496.2 1475.44 1496.2 1468.33 Q1496.2 1461.2 1494.37 1457.66 Q1492.57 1454.1 1488.94 1454.1 M1488.94 1450.39 Q1494.75 1450.39 1497.8 1455 Q1500.88 1459.58 1500.88 1468.33 Q1500.88 1477.06 1497.8 1481.67 Q1494.75 1486.25 1488.94 1486.25 Q1483.12 1486.25 1480.05 1481.67 Q1476.99 1477.06 1476.99 1468.33 Q1476.99 1459.58 1480.05 1455 Q1483.12 1450.39 1488.94 1450.39 Z\" fill=\"#000000\" fill-rule=\"nonzero\" fill-opacity=\"1\" /><path clip-path=\"url(#clip790)\" d=\"M1870.95 1455.09 L1859.14 1473.54 L1870.95 1473.54 L1870.95 1455.09 M1869.72 1451.02 L1875.6 1451.02 L1875.6 1473.54 L1880.53 1473.54 L1880.53 1477.43 L1875.6 1477.43 L1875.6 1485.58 L1870.95 1485.58 L1870.95 1477.43 L1855.35 1477.43 L1855.35 1472.92 L1869.72 1451.02 Z\" fill=\"#000000\" fill-rule=\"nonzero\" fill-opacity=\"1\" /><path clip-path=\"url(#clip790)\" d=\"M1898.26 1454.1 Q1894.65 1454.1 1892.82 1457.66 Q1891.02 1461.2 1891.02 1468.33 Q1891.02 1475.44 1892.82 1479.01 Q1894.65 1482.55 1898.26 1482.55 Q1901.9 1482.55 1903.7 1479.01 Q1905.53 1475.44 1905.53 1468.33 Q1905.53 1461.2 1903.7 1457.66 Q1901.9 1454.1 1898.26 1454.1 M1898.26 1450.39 Q1904.07 1450.39 1907.13 1455 Q1910.21 1459.58 1910.21 1468.33 Q1910.21 1477.06 1907.13 1481.67 Q1904.07 1486.25 1898.26 1486.25 Q1892.45 1486.25 1889.37 1481.67 Q1886.32 1477.06 1886.32 1468.33 Q1886.32 1459.58 1889.37 1455 Q1892.45 1450.39 1898.26 1450.39 Z\" fill=\"#000000\" fill-rule=\"nonzero\" fill-opacity=\"1\" /><path clip-path=\"url(#clip790)\" d=\"M2266.15 1451.02 L2284.51 1451.02 L2284.51 1454.96 L2270.44 1454.96 L2270.44 1463.43 Q2271.45 1463.08 2272.47 1462.92 Q2273.49 1462.73 2274.51 1462.73 Q2280.3 1462.73 2283.68 1465.9 Q2287.06 1469.08 2287.06 1474.49 Q2287.06 1480.07 2283.58 1483.17 Q2280.11 1486.25 2273.79 1486.25 Q2271.62 1486.25 2269.35 1485.88 Q2267.1 1485.51 2264.7 1484.77 L2264.7 1480.07 Q2266.78 1481.2 2269 1481.76 Q2271.22 1482.32 2273.7 1482.32 Q2277.7 1482.32 2280.04 1480.21 Q2282.38 1478.1 2282.38 1474.49 Q2282.38 1470.88 2280.04 1468.77 Q2277.7 1466.67 2273.7 1466.67 Q2271.82 1466.67 2269.95 1467.08 Q2268.1 1467.5 2266.15 1468.38 L2266.15 1451.02 Z\" fill=\"#000000\" fill-rule=\"nonzero\" fill-opacity=\"1\" /><path clip-path=\"url(#clip790)\" d=\"M2306.27 1454.1 Q2302.66 1454.1 2300.83 1457.66 Q2299.02 1461.2 2299.02 1468.33 Q2299.02 1475.44 2300.83 1479.01 Q2302.66 1482.55 2306.27 1482.55 Q2309.9 1482.55 2311.71 1479.01 Q2313.54 1475.44 2313.54 1468.33 Q2313.54 1461.2 2311.71 1457.66 Q2309.9 1454.1 2306.27 1454.1 M2306.27 1450.39 Q2312.08 1450.39 2315.13 1455 Q2318.21 1459.58 2318.21 1468.33 Q2318.21 1477.06 2315.13 1481.67 Q2312.08 1486.25 2306.27 1486.25 Q2300.46 1486.25 2297.38 1481.67 Q2294.32 1477.06 2294.32 1468.33 Q2294.32 1459.58 2297.38 1455 Q2300.46 1450.39 2306.27 1450.39 Z\" fill=\"#000000\" fill-rule=\"nonzero\" fill-opacity=\"1\" /><path clip-path=\"url(#clip790)\" d=\"M1268.82 1522.27 L1268.82 1532.4 L1280.88 1532.4 L1280.88 1536.95 L1268.82 1536.95 L1268.82 1556.3 Q1268.82 1560.66 1270 1561.9 Q1271.21 1563.14 1274.87 1563.14 L1280.88 1563.14 L1280.88 1568.04 L1274.87 1568.04 Q1268.09 1568.04 1265.51 1565.53 Q1262.93 1562.98 1262.93 1556.3 L1262.93 1536.95 L1258.63 1536.95 L1258.63 1532.4 L1262.93 1532.4 L1262.93 1522.27 L1268.82 1522.27 Z\" fill=\"#000000\" fill-rule=\"nonzero\" fill-opacity=\"1\" /><polyline clip-path=\"url(#clip792)\" style=\"stroke:#000000; stroke-linecap:round; stroke-linejoin:round; stroke-width:2; stroke-opacity:0.1; fill:none\" points=\"186.76,1384.24 2352.76,1384.24 \"/>\n",
       "<polyline clip-path=\"url(#clip792)\" style=\"stroke:#000000; stroke-linecap:round; stroke-linejoin:round; stroke-width:2; stroke-opacity:0.1; fill:none\" points=\"186.76,1054.02 2352.76,1054.02 \"/>\n",
       "<polyline clip-path=\"url(#clip792)\" style=\"stroke:#000000; stroke-linecap:round; stroke-linejoin:round; stroke-width:2; stroke-opacity:0.1; fill:none\" points=\"186.76,723.799 2352.76,723.799 \"/>\n",
       "<polyline clip-path=\"url(#clip792)\" style=\"stroke:#000000; stroke-linecap:round; stroke-linejoin:round; stroke-width:2; stroke-opacity:0.1; fill:none\" points=\"186.76,393.58 2352.76,393.58 \"/>\n",
       "<polyline clip-path=\"url(#clip792)\" style=\"stroke:#000000; stroke-linecap:round; stroke-linejoin:round; stroke-width:2; stroke-opacity:0.1; fill:none\" points=\"186.76,63.3605 2352.76,63.3605 \"/>\n",
       "<polyline clip-path=\"url(#clip790)\" style=\"stroke:#000000; stroke-linecap:round; stroke-linejoin:round; stroke-width:4; stroke-opacity:1; fill:none\" points=\"186.76,1423.18 186.76,47.2441 \"/>\n",
       "<polyline clip-path=\"url(#clip790)\" style=\"stroke:#000000; stroke-linecap:round; stroke-linejoin:round; stroke-width:4; stroke-opacity:1; fill:none\" points=\"186.76,1384.24 205.658,1384.24 \"/>\n",
       "<polyline clip-path=\"url(#clip790)\" style=\"stroke:#000000; stroke-linecap:round; stroke-linejoin:round; stroke-width:4; stroke-opacity:1; fill:none\" points=\"186.76,1054.02 205.658,1054.02 \"/>\n",
       "<polyline clip-path=\"url(#clip790)\" style=\"stroke:#000000; stroke-linecap:round; stroke-linejoin:round; stroke-width:4; stroke-opacity:1; fill:none\" points=\"186.76,723.799 205.658,723.799 \"/>\n",
       "<polyline clip-path=\"url(#clip790)\" style=\"stroke:#000000; stroke-linecap:round; stroke-linejoin:round; stroke-width:4; stroke-opacity:1; fill:none\" points=\"186.76,393.58 205.658,393.58 \"/>\n",
       "<polyline clip-path=\"url(#clip790)\" style=\"stroke:#000000; stroke-linecap:round; stroke-linejoin:round; stroke-width:4; stroke-opacity:1; fill:none\" points=\"186.76,63.3605 205.658,63.3605 \"/>\n",
       "<path clip-path=\"url(#clip790)\" d=\"M63.4226 1370.04 Q59.8115 1370.04 57.9828 1373.6 Q56.1773 1377.14 56.1773 1384.27 Q56.1773 1391.38 57.9828 1394.94 Q59.8115 1398.49 63.4226 1398.49 Q67.0569 1398.49 68.8624 1394.94 Q70.6911 1391.38 70.6911 1384.27 Q70.6911 1377.14 68.8624 1373.6 Q67.0569 1370.04 63.4226 1370.04 M63.4226 1366.33 Q69.2328 1366.33 72.2883 1370.94 Q75.367 1375.52 75.367 1384.27 Q75.367 1393 72.2883 1397.61 Q69.2328 1402.19 63.4226 1402.19 Q57.6125 1402.19 54.5338 1397.61 Q51.4782 1393 51.4782 1384.27 Q51.4782 1375.52 54.5338 1370.94 Q57.6125 1366.33 63.4226 1366.33 Z\" fill=\"#000000\" fill-rule=\"nonzero\" fill-opacity=\"1\" /><path clip-path=\"url(#clip790)\" d=\"M83.5845 1395.64 L88.4688 1395.64 L88.4688 1401.52 L83.5845 1401.52 L83.5845 1395.64 Z\" fill=\"#000000\" fill-rule=\"nonzero\" fill-opacity=\"1\" /><path clip-path=\"url(#clip790)\" d=\"M108.654 1370.04 Q105.043 1370.04 103.214 1373.6 Q101.409 1377.14 101.409 1384.27 Q101.409 1391.38 103.214 1394.94 Q105.043 1398.49 108.654 1398.49 Q112.288 1398.49 114.094 1394.94 Q115.922 1391.38 115.922 1384.27 Q115.922 1377.14 114.094 1373.6 Q112.288 1370.04 108.654 1370.04 M108.654 1366.33 Q114.464 1366.33 117.52 1370.94 Q120.598 1375.52 120.598 1384.27 Q120.598 1393 117.52 1397.61 Q114.464 1402.19 108.654 1402.19 Q102.844 1402.19 99.765 1397.61 Q96.7095 1393 96.7095 1384.27 Q96.7095 1375.52 99.765 1370.94 Q102.844 1366.33 108.654 1366.33 Z\" fill=\"#000000\" fill-rule=\"nonzero\" fill-opacity=\"1\" /><path clip-path=\"url(#clip790)\" d=\"M138.816 1370.04 Q135.205 1370.04 133.376 1373.6 Q131.57 1377.14 131.57 1384.27 Q131.57 1391.38 133.376 1394.94 Q135.205 1398.49 138.816 1398.49 Q142.45 1398.49 144.256 1394.94 Q146.084 1391.38 146.084 1384.27 Q146.084 1377.14 144.256 1373.6 Q142.45 1370.04 138.816 1370.04 M138.816 1366.33 Q144.626 1366.33 147.681 1370.94 Q150.76 1375.52 150.76 1384.27 Q150.76 1393 147.681 1397.61 Q144.626 1402.19 138.816 1402.19 Q133.006 1402.19 129.927 1397.61 Q126.871 1393 126.871 1384.27 Q126.871 1375.52 129.927 1370.94 Q133.006 1366.33 138.816 1366.33 Z\" fill=\"#000000\" fill-rule=\"nonzero\" fill-opacity=\"1\" /><path clip-path=\"url(#clip790)\" d=\"M65.0198 1039.82 Q61.4087 1039.82 59.58 1043.38 Q57.7745 1046.92 57.7745 1054.05 Q57.7745 1061.16 59.58 1064.72 Q61.4087 1068.27 65.0198 1068.27 Q68.6541 1068.27 70.4596 1064.72 Q72.2883 1061.16 72.2883 1054.05 Q72.2883 1046.92 70.4596 1043.38 Q68.6541 1039.82 65.0198 1039.82 M65.0198 1036.11 Q70.83 1036.11 73.8855 1040.72 Q76.9642 1045.3 76.9642 1054.05 Q76.9642 1062.78 73.8855 1067.39 Q70.83 1071.97 65.0198 1071.97 Q59.2097 1071.97 56.131 1067.39 Q53.0754 1062.78 53.0754 1054.05 Q53.0754 1045.3 56.131 1040.72 Q59.2097 1036.11 65.0198 1036.11 Z\" fill=\"#000000\" fill-rule=\"nonzero\" fill-opacity=\"1\" /><path clip-path=\"url(#clip790)\" d=\"M85.1818 1065.42 L90.066 1065.42 L90.066 1071.3 L85.1818 1071.3 L85.1818 1065.42 Z\" fill=\"#000000\" fill-rule=\"nonzero\" fill-opacity=\"1\" /><path clip-path=\"url(#clip790)\" d=\"M110.251 1039.82 Q106.64 1039.82 104.811 1043.38 Q103.006 1046.92 103.006 1054.05 Q103.006 1061.16 104.811 1064.72 Q106.64 1068.27 110.251 1068.27 Q113.885 1068.27 115.691 1064.72 Q117.52 1061.16 117.52 1054.05 Q117.52 1046.92 115.691 1043.38 Q113.885 1039.82 110.251 1039.82 M110.251 1036.11 Q116.061 1036.11 119.117 1040.72 Q122.195 1045.3 122.195 1054.05 Q122.195 1062.78 119.117 1067.39 Q116.061 1071.97 110.251 1071.97 Q104.441 1071.97 101.362 1067.39 Q98.3067 1062.78 98.3067 1054.05 Q98.3067 1045.3 101.362 1040.72 Q104.441 1036.11 110.251 1036.11 Z\" fill=\"#000000\" fill-rule=\"nonzero\" fill-opacity=\"1\" /><path clip-path=\"url(#clip790)\" d=\"M134.441 1067.36 L150.76 1067.36 L150.76 1071.3 L128.816 1071.3 L128.816 1067.36 Q131.478 1064.61 136.061 1059.98 Q140.668 1055.33 141.848 1053.98 Q144.093 1051.46 144.973 1049.72 Q145.876 1047.97 145.876 1046.28 Q145.876 1043.52 143.931 1041.79 Q142.01 1040.05 138.908 1040.05 Q136.709 1040.05 134.256 1040.81 Q131.825 1041.58 129.047 1043.13 L129.047 1038.41 Q131.871 1037.27 134.325 1036.69 Q136.779 1036.11 138.816 1036.11 Q144.186 1036.11 147.38 1038.8 Q150.575 1041.48 150.575 1045.97 Q150.575 1048.1 149.765 1050.03 Q148.978 1051.92 146.871 1054.52 Q146.293 1055.19 143.191 1058.41 Q140.089 1061.6 134.441 1067.36 Z\" fill=\"#000000\" fill-rule=\"nonzero\" fill-opacity=\"1\" /><path clip-path=\"url(#clip790)\" d=\"M62.9365 709.598 Q59.3254 709.598 57.4967 713.163 Q55.6912 716.705 55.6912 723.834 Q55.6912 730.941 57.4967 734.505 Q59.3254 738.047 62.9365 738.047 Q66.5707 738.047 68.3763 734.505 Q70.205 730.941 70.205 723.834 Q70.205 716.705 68.3763 713.163 Q66.5707 709.598 62.9365 709.598 M62.9365 705.894 Q68.7467 705.894 71.8022 710.501 Q74.8809 715.084 74.8809 723.834 Q74.8809 732.561 71.8022 737.167 Q68.7467 741.751 62.9365 741.751 Q57.1264 741.751 54.0477 737.167 Q50.9921 732.561 50.9921 723.834 Q50.9921 715.084 54.0477 710.501 Q57.1264 705.894 62.9365 705.894 Z\" fill=\"#000000\" fill-rule=\"nonzero\" fill-opacity=\"1\" /><path clip-path=\"url(#clip790)\" d=\"M83.0984 735.2 L87.9827 735.2 L87.9827 741.079 L83.0984 741.079 L83.0984 735.2 Z\" fill=\"#000000\" fill-rule=\"nonzero\" fill-opacity=\"1\" /><path clip-path=\"url(#clip790)\" d=\"M108.168 709.598 Q104.557 709.598 102.728 713.163 Q100.922 716.705 100.922 723.834 Q100.922 730.941 102.728 734.505 Q104.557 738.047 108.168 738.047 Q111.802 738.047 113.608 734.505 Q115.436 730.941 115.436 723.834 Q115.436 716.705 113.608 713.163 Q111.802 709.598 108.168 709.598 M108.168 705.894 Q113.978 705.894 117.033 710.501 Q120.112 715.084 120.112 723.834 Q120.112 732.561 117.033 737.167 Q113.978 741.751 108.168 741.751 Q102.358 741.751 99.2789 737.167 Q96.2234 732.561 96.2234 723.834 Q96.2234 715.084 99.2789 710.501 Q102.358 705.894 108.168 705.894 Z\" fill=\"#000000\" fill-rule=\"nonzero\" fill-opacity=\"1\" /><path clip-path=\"url(#clip790)\" d=\"M141.177 710.593 L129.371 729.042 L141.177 729.042 L141.177 710.593 M139.95 706.519 L145.83 706.519 L145.83 729.042 L150.76 729.042 L150.76 732.931 L145.83 732.931 L145.83 741.079 L141.177 741.079 L141.177 732.931 L125.575 732.931 L125.575 728.417 L139.95 706.519 Z\" fill=\"#000000\" fill-rule=\"nonzero\" fill-opacity=\"1\" /><path clip-path=\"url(#clip790)\" d=\"M63.2606 379.379 Q59.6495 379.379 57.8208 382.943 Q56.0152 386.485 56.0152 393.615 Q56.0152 400.721 57.8208 404.286 Q59.6495 407.828 63.2606 407.828 Q66.8948 407.828 68.7004 404.286 Q70.5291 400.721 70.5291 393.615 Q70.5291 386.485 68.7004 382.943 Q66.8948 379.379 63.2606 379.379 M63.2606 375.675 Q69.0707 375.675 72.1263 380.281 Q75.205 384.865 75.205 393.615 Q75.205 402.341 72.1263 406.948 Q69.0707 411.531 63.2606 411.531 Q57.4504 411.531 54.3717 406.948 Q51.3162 402.341 51.3162 393.615 Q51.3162 384.865 54.3717 380.281 Q57.4504 375.675 63.2606 375.675 Z\" fill=\"#000000\" fill-rule=\"nonzero\" fill-opacity=\"1\" /><path clip-path=\"url(#clip790)\" d=\"M83.4225 404.98 L88.3067 404.98 L88.3067 410.86 L83.4225 410.86 L83.4225 404.98 Z\" fill=\"#000000\" fill-rule=\"nonzero\" fill-opacity=\"1\" /><path clip-path=\"url(#clip790)\" d=\"M108.492 379.379 Q104.881 379.379 103.052 382.943 Q101.246 386.485 101.246 393.615 Q101.246 400.721 103.052 404.286 Q104.881 407.828 108.492 407.828 Q112.126 407.828 113.932 404.286 Q115.76 400.721 115.76 393.615 Q115.76 386.485 113.932 382.943 Q112.126 379.379 108.492 379.379 M108.492 375.675 Q114.302 375.675 117.358 380.281 Q120.436 384.865 120.436 393.615 Q120.436 402.341 117.358 406.948 Q114.302 411.531 108.492 411.531 Q102.682 411.531 99.603 406.948 Q96.5474 402.341 96.5474 393.615 Q96.5474 384.865 99.603 380.281 Q102.682 375.675 108.492 375.675 Z\" fill=\"#000000\" fill-rule=\"nonzero\" fill-opacity=\"1\" /><path clip-path=\"url(#clip790)\" d=\"M139.232 391.717 Q136.084 391.717 134.232 393.869 Q132.404 396.022 132.404 399.772 Q132.404 403.499 134.232 405.675 Q136.084 407.828 139.232 407.828 Q142.381 407.828 144.209 405.675 Q146.061 403.499 146.061 399.772 Q146.061 396.022 144.209 393.869 Q142.381 391.717 139.232 391.717 M148.515 377.064 L148.515 381.323 Q146.756 380.49 144.95 380.05 Q143.168 379.61 141.408 379.61 Q136.779 379.61 134.325 382.735 Q131.894 385.86 131.547 392.179 Q132.913 390.166 134.973 389.101 Q137.033 388.013 139.51 388.013 Q144.718 388.013 147.728 391.184 Q150.76 394.332 150.76 399.772 Q150.76 405.096 147.612 408.314 Q144.464 411.531 139.232 411.531 Q133.237 411.531 130.066 406.948 Q126.894 402.341 126.894 393.615 Q126.894 385.42 130.783 380.559 Q134.672 375.675 141.223 375.675 Q142.982 375.675 144.765 376.022 Q146.57 376.369 148.515 377.064 Z\" fill=\"#000000\" fill-rule=\"nonzero\" fill-opacity=\"1\" /><path clip-path=\"url(#clip790)\" d=\"M63.5152 49.1592 Q59.9041 49.1592 58.0754 52.724 Q56.2699 56.2656 56.2699 63.3952 Q56.2699 70.5017 58.0754 74.0665 Q59.9041 77.6081 63.5152 77.6081 Q67.1494 77.6081 68.955 74.0665 Q70.7837 70.5017 70.7837 63.3952 Q70.7837 56.2656 68.955 52.724 Q67.1494 49.1592 63.5152 49.1592 M63.5152 45.4555 Q69.3254 45.4555 72.3809 50.062 Q75.4596 54.6453 75.4596 63.3952 Q75.4596 72.122 72.3809 76.7285 Q69.3254 81.3118 63.5152 81.3118 Q57.7051 81.3118 54.6264 76.7285 Q51.5708 72.122 51.5708 63.3952 Q51.5708 54.6453 54.6264 50.062 Q57.7051 45.4555 63.5152 45.4555 Z\" fill=\"#000000\" fill-rule=\"nonzero\" fill-opacity=\"1\" /><path clip-path=\"url(#clip790)\" d=\"M83.6771 74.7609 L88.5614 74.7609 L88.5614 80.6405 L83.6771 80.6405 L83.6771 74.7609 Z\" fill=\"#000000\" fill-rule=\"nonzero\" fill-opacity=\"1\" /><path clip-path=\"url(#clip790)\" d=\"M108.746 49.1592 Q105.135 49.1592 103.307 52.724 Q101.501 56.2656 101.501 63.3952 Q101.501 70.5017 103.307 74.0665 Q105.135 77.6081 108.746 77.6081 Q112.381 77.6081 114.186 74.0665 Q116.015 70.5017 116.015 63.3952 Q116.015 56.2656 114.186 52.724 Q112.381 49.1592 108.746 49.1592 M108.746 45.4555 Q114.557 45.4555 117.612 50.062 Q120.691 54.6453 120.691 63.3952 Q120.691 72.122 117.612 76.7285 Q114.557 81.3118 108.746 81.3118 Q102.936 81.3118 99.8576 76.7285 Q96.8021 72.122 96.8021 63.3952 Q96.8021 54.6453 99.8576 50.062 Q102.936 45.4555 108.746 45.4555 Z\" fill=\"#000000\" fill-rule=\"nonzero\" fill-opacity=\"1\" /><path clip-path=\"url(#clip790)\" d=\"M138.908 64.2286 Q135.575 64.2286 133.654 66.011 Q131.756 67.7934 131.756 70.9183 Q131.756 74.0433 133.654 75.8257 Q135.575 77.6081 138.908 77.6081 Q142.242 77.6081 144.163 75.8257 Q146.084 74.0202 146.084 70.9183 Q146.084 67.7934 144.163 66.011 Q142.265 64.2286 138.908 64.2286 M134.232 62.2378 Q131.223 61.4971 129.533 59.4369 Q127.867 57.3767 127.867 54.4138 Q127.867 50.2703 130.807 47.8629 Q133.769 45.4555 138.908 45.4555 Q144.07 45.4555 147.01 47.8629 Q149.95 50.2703 149.95 54.4138 Q149.95 57.3767 148.26 59.4369 Q146.593 61.4971 143.607 62.2378 Q146.987 63.0249 148.862 65.3165 Q150.76 67.6082 150.76 70.9183 Q150.76 75.9415 147.681 78.6266 Q144.626 81.3118 138.908 81.3118 Q133.191 81.3118 130.112 78.6266 Q127.057 75.9415 127.057 70.9183 Q127.057 67.6082 128.955 65.3165 Q130.853 63.0249 134.232 62.2378 M132.519 54.8536 Q132.519 57.5388 134.186 59.0434 Q135.876 60.548 138.908 60.548 Q141.918 60.548 143.607 59.0434 Q145.32 57.5388 145.32 54.8536 Q145.32 52.1684 143.607 50.6638 Q141.918 49.1592 138.908 49.1592 Q135.876 49.1592 134.186 50.6638 Q132.519 52.1684 132.519 54.8536 Z\" fill=\"#000000\" fill-rule=\"nonzero\" fill-opacity=\"1\" /><polyline clip-path=\"url(#clip792)\" style=\"stroke:#009af9; stroke-linecap:round; stroke-linejoin:round; stroke-width:4; stroke-opacity:1; fill:none\" points=\"248.062,1384.24 248.37,1384.22 249.035,1384.07 249.897,1383.65 251.054,1382.68 252.505,1380.82 254.319,1377.48 256.515,1371.99 259.116,1363.49 262.105,1351.26 265.462,1334.63 269.181,1313.14 273.281,1286.4 277.8,1254.2 282.785,1216.59 288.255,1174.26 294.007,1129.92 300.027,1084.64 306.307,1039.06 312.881,992.915 319.797,945.371 327.1,895.281 334.714,842.331 342.43,787.499 350.339,729.997 358.475,669.443 366.93,604.544 375.684,534.221 384.534,458.847 393.444,378.729 402.43,296.172 411.567,216.244 420.767,148.394 429.995,102.467 439.286,86.1857 448.649,103.593 458.082,153.405 467.548,228.95 477.016,320.352 486.443,417.514 495.737,512.287 504.956,601.475 514.19,684.592 523.478,761.666 532.746,831.932 541.845,894.241 550.799,949.338 559.627,999.059 568.408,1046.8 576.763,1093.87 584.709,1142.32 592.293,1192.28 599.609,1242.27 606.758,1289.58 613.59,1329.37 620.102,1358.57 626.333,1375.6 632.172,1380.15 637.715,1373.61 643.327,1356.44 649.018,1329.19 654.745,1293.37 660.66,1249.67 666.999,1197.79 673.739,1139.62 680.523,1080.19 687.482,1019.77 694.593,959.281 701.962,898.04 709.645,835.68 717.634,772.53 725.646,711.315 733.82,651.452 742.181,592.819 750.836,533.773 759.757,472.453 768.761,407.625 777.811,338.372 786.933,266.257 796.197,196.286 805.47,138.279 814.79,101.843 824.164,95.1824 833.594,122.353 843.064,181.824 852.524,266.571 861.998,367.311 871.372,473.304 880.608,576.849 889.763,674.202 898.942,763.997 908.167,844.73 917.346,914.264 926.33,971.164 935.164,1016.93 943.874,1054.64 952.52,1088.99 960.696,1123.06 968.444,1159.85 975.762,1199.54 982.696,1240.44 989.657,1281.92 996.446,1318.91 1003.04,1347.51 1009.4,1364.88 1015.32,1369.85 1021.38,1362.66 1027.32,1343.52 1033.45,1312.17 1039.63,1270.42 1046.09,1218.32 1052.99,1156.16 1060.09,1087.96 1067.26,1017.32 1074.57,945.183 1082.05,872.379 1089.8,799.099 1097.87,726.349 1106.03,657.807 1114.28,594.851 1122.69,537.62 1131.35,484.91 1140.28,434.273 1149.37,382.701 1158.49,327.768 1167.67,268.634 1176.97,208.575 1186.29,155.619 1195.65,119.579 1205.06,109.772 1214.52,132.288 1223.99,187.709 1233.46,271.068 1242.91,373.876 1252.3,486.09 1261.51,598.076 1270.62,704.749 1279.71,803.289 1288.85,891.212 1297.98,965.306 1306.92,1022.84 1315.7,1064.85 1324.31,1094.51 1332.86,1117.22 1341.07,1138.28 1348.8,1161.94 1356.07,1189.98 1362.76,1220.87 1369.64,1255.94 1376.44,1290.65 1383.08,1320.58 1389.56,1342.04 1395.53,1352.18 1401.95,1350.63 1408.12,1336.08 1414.49,1307.87 1420.93,1266.98 1427.62,1213.61 1434.71,1147.73 1442.09,1072.4 1449.49,992.803 1457.02,910.143 1464.68,826.344 1472.59,742.415 1480.79,660.57 1489.1,585.677 1497.47,520.377 1505.99,465.132 1514.74,418.804 1523.75,378.397 1532.92,339.614 1542.11,298.489 1551.38,253.002 1560.72,205.689 1570.09,163.901 1579.5,137.169 1588.96,135.011 1598.45,163.778 1607.93,224.33 1617.38,312.045 1626.81,419.311 1636.16,536.123 1645.32,653.056 1654.35,764.689 1663.36,867.567 1672.42,958.176 1681.46,1032.24 1690.29,1086.42 1698.94,1121.99 1707.41,1142.59 1715.81,1154.28 1723.88,1163.52 1731.46,1175.63 1738.6,1193.1 1745.14,1214.98 1752.01,1242.77 1758.67,1271.59 1765.28,1298.22 1771.69,1318.21 1777.77,1328.73 1784.43,1328.07 1790.84,1313.93 1797.44,1285.21 1804.12,1242.53 1811.1,1185.39 1818.47,1113.88 1826.08,1031.44 1833.71,943.162 1841.45,850.891 1849.33,757.189 1857.45,664.205 1865.84,575.648 1874.27,498.256 1882.8,434.424 1891.46,384.914 1900.36,347.976 1909.49,319.646 1918.73,294.274 1928.01,266.692 1937.36,234.79 1946.73,201.551 1956.14,174.207 1965.6,162.309 1975.11,174.829 1984.61,217 1994.09,288.596 2003.5,384.419 2012.92,497.612 2022.16,617.348 2031.22,736.087 2040.15,848.533 2049.09,951.086 2058.07,1039.12 2066.96,1107.36 2075.61,1153.16 2084.06,1178.65 2092.35,1188.48 2100.55,1189.21 2108.33,1188.1 2115.66,1190.64 2122.64,1199.36 2129.27,1214.13 2136.07,1234.68 2142.61,1256.94 2149.14,1277.98 2155.34,1293.19 2161.95,1300.76 2168.66,1296.36 2175.39,1277.95 2182.21,1244.63 2189.2,1196.03 2196.52,1131.6 2204.24,1051.37 2212.05,960.964 2219.92,863.699 2227.88,762.69 2236.01,660.819 2244.38,561.985 2252.95,472.356 2261.52,398.851 2270.2,343.2 2279.06,305.506 2288.14,282.718 2291.45,277.134 \"/>\n",
       "<path clip-path=\"url(#clip790)\" d=\"M2042.24 196.789 L2280.56 196.789 L2280.56 93.1086 L2042.24 93.1086  Z\" fill=\"#ffffff\" fill-rule=\"evenodd\" fill-opacity=\"1\"/>\n",
       "<polyline clip-path=\"url(#clip790)\" style=\"stroke:#000000; stroke-linecap:round; stroke-linejoin:round; stroke-width:4; stroke-opacity:1; fill:none\" points=\"2042.24,196.789 2280.56,196.789 2280.56,93.1086 2042.24,93.1086 2042.24,196.789 \"/>\n",
       "<polyline clip-path=\"url(#clip790)\" style=\"stroke:#009af9; stroke-linecap:round; stroke-linejoin:round; stroke-width:4; stroke-opacity:1; fill:none\" points=\"2066.31,144.949 2210.71,144.949 \"/>\n",
       "<path clip-path=\"url(#clip790)\" d=\"M2256.49 146.581 L2256.49 162.229 L2252.23 162.229 L2252.23 146.719 Q2252.23 143.039 2250.8 141.21 Q2249.36 139.382 2246.49 139.382 Q2243.04 139.382 2241.05 141.581 Q2239.06 143.78 2239.06 147.576 L2239.06 162.229 L2234.78 162.229 L2234.78 136.303 L2239.06 136.303 L2239.06 140.331 Q2240.59 137.993 2242.65 136.835 Q2244.73 135.678 2247.44 135.678 Q2251.91 135.678 2254.2 138.456 Q2256.49 141.21 2256.49 146.581 Z\" fill=\"#000000\" fill-rule=\"nonzero\" fill-opacity=\"1\" /></svg>\n"
      ],
      "text/html": [
       "<?xml version=\"1.0\" encoding=\"utf-8\"?>\n",
       "<svg xmlns=\"http://www.w3.org/2000/svg\" xmlns:xlink=\"http://www.w3.org/1999/xlink\" width=\"600\" height=\"400\" viewBox=\"0 0 2400 1600\">\n",
       "<defs>\n",
       "  <clipPath id=\"clip840\">\n",
       "    <rect x=\"0\" y=\"0\" width=\"2400\" height=\"1600\"/>\n",
       "  </clipPath>\n",
       "</defs>\n",
       "<path clip-path=\"url(#clip840)\" d=\"M0 1600 L2400 1600 L2400 0 L0 0  Z\" fill=\"#ffffff\" fill-rule=\"evenodd\" fill-opacity=\"1\"/>\n",
       "<defs>\n",
       "  <clipPath id=\"clip841\">\n",
       "    <rect x=\"480\" y=\"0\" width=\"1681\" height=\"1600\"/>\n",
       "  </clipPath>\n",
       "</defs>\n",
       "<path clip-path=\"url(#clip840)\" d=\"M186.76 1423.18 L2352.76 1423.18 L2352.76 47.2441 L186.76 47.2441  Z\" fill=\"#ffffff\" fill-rule=\"evenodd\" fill-opacity=\"1\"/>\n",
       "<defs>\n",
       "  <clipPath id=\"clip842\">\n",
       "    <rect x=\"186\" y=\"47\" width=\"2167\" height=\"1377\"/>\n",
       "  </clipPath>\n",
       "</defs>\n",
       "<polyline clip-path=\"url(#clip842)\" style=\"stroke:#000000; stroke-linecap:round; stroke-linejoin:round; stroke-width:2; stroke-opacity:0.1; fill:none\" points=\"248.062,1423.18 248.062,47.2441 \"/>\n",
       "<polyline clip-path=\"url(#clip842)\" style=\"stroke:#000000; stroke-linecap:round; stroke-linejoin:round; stroke-width:2; stroke-opacity:0.1; fill:none\" points=\"656.74,1423.18 656.74,47.2441 \"/>\n",
       "<polyline clip-path=\"url(#clip842)\" style=\"stroke:#000000; stroke-linecap:round; stroke-linejoin:round; stroke-width:2; stroke-opacity:0.1; fill:none\" points=\"1065.42,1423.18 1065.42,47.2441 \"/>\n",
       "<polyline clip-path=\"url(#clip842)\" style=\"stroke:#000000; stroke-linecap:round; stroke-linejoin:round; stroke-width:2; stroke-opacity:0.1; fill:none\" points=\"1474.1,1423.18 1474.1,47.2441 \"/>\n",
       "<polyline clip-path=\"url(#clip842)\" style=\"stroke:#000000; stroke-linecap:round; stroke-linejoin:round; stroke-width:2; stroke-opacity:0.1; fill:none\" points=\"1882.78,1423.18 1882.78,47.2441 \"/>\n",
       "<polyline clip-path=\"url(#clip842)\" style=\"stroke:#000000; stroke-linecap:round; stroke-linejoin:round; stroke-width:2; stroke-opacity:0.1; fill:none\" points=\"2291.45,1423.18 2291.45,47.2441 \"/>\n",
       "<polyline clip-path=\"url(#clip840)\" style=\"stroke:#000000; stroke-linecap:round; stroke-linejoin:round; stroke-width:4; stroke-opacity:1; fill:none\" points=\"186.76,1423.18 2352.76,1423.18 \"/>\n",
       "<polyline clip-path=\"url(#clip840)\" style=\"stroke:#000000; stroke-linecap:round; stroke-linejoin:round; stroke-width:4; stroke-opacity:1; fill:none\" points=\"248.062,1423.18 248.062,1404.28 \"/>\n",
       "<polyline clip-path=\"url(#clip840)\" style=\"stroke:#000000; stroke-linecap:round; stroke-linejoin:round; stroke-width:4; stroke-opacity:1; fill:none\" points=\"656.74,1423.18 656.74,1404.28 \"/>\n",
       "<polyline clip-path=\"url(#clip840)\" style=\"stroke:#000000; stroke-linecap:round; stroke-linejoin:round; stroke-width:4; stroke-opacity:1; fill:none\" points=\"1065.42,1423.18 1065.42,1404.28 \"/>\n",
       "<polyline clip-path=\"url(#clip840)\" style=\"stroke:#000000; stroke-linecap:round; stroke-linejoin:round; stroke-width:4; stroke-opacity:1; fill:none\" points=\"1474.1,1423.18 1474.1,1404.28 \"/>\n",
       "<polyline clip-path=\"url(#clip840)\" style=\"stroke:#000000; stroke-linecap:round; stroke-linejoin:round; stroke-width:4; stroke-opacity:1; fill:none\" points=\"1882.78,1423.18 1882.78,1404.28 \"/>\n",
       "<polyline clip-path=\"url(#clip840)\" style=\"stroke:#000000; stroke-linecap:round; stroke-linejoin:round; stroke-width:4; stroke-opacity:1; fill:none\" points=\"2291.45,1423.18 2291.45,1404.28 \"/>\n",
       "<path clip-path=\"url(#clip840)\" d=\"M248.062 1454.1 Q244.451 1454.1 242.622 1457.66 Q240.817 1461.2 240.817 1468.33 Q240.817 1475.44 242.622 1479.01 Q244.451 1482.55 248.062 1482.55 Q251.696 1482.55 253.502 1479.01 Q255.33 1475.44 255.33 1468.33 Q255.33 1461.2 253.502 1457.66 Q251.696 1454.1 248.062 1454.1 M248.062 1450.39 Q253.872 1450.39 256.928 1455 Q260.006 1459.58 260.006 1468.33 Q260.006 1477.06 256.928 1481.67 Q253.872 1486.25 248.062 1486.25 Q242.252 1486.25 239.173 1481.67 Q236.117 1477.06 236.117 1468.33 Q236.117 1459.58 239.173 1455 Q242.252 1450.39 248.062 1450.39 Z\" fill=\"#000000\" fill-rule=\"nonzero\" fill-opacity=\"1\" /><path clip-path=\"url(#clip840)\" d=\"M631.428 1481.64 L639.067 1481.64 L639.067 1455.28 L630.757 1456.95 L630.757 1452.69 L639.021 1451.02 L643.696 1451.02 L643.696 1481.64 L651.335 1481.64 L651.335 1485.58 L631.428 1485.58 L631.428 1481.64 Z\" fill=\"#000000\" fill-rule=\"nonzero\" fill-opacity=\"1\" /><path clip-path=\"url(#clip840)\" d=\"M670.78 1454.1 Q667.169 1454.1 665.34 1457.66 Q663.534 1461.2 663.534 1468.33 Q663.534 1475.44 665.34 1479.01 Q667.169 1482.55 670.78 1482.55 Q674.414 1482.55 676.219 1479.01 Q678.048 1475.44 678.048 1468.33 Q678.048 1461.2 676.219 1457.66 Q674.414 1454.1 670.78 1454.1 M670.78 1450.39 Q676.59 1450.39 679.645 1455 Q682.724 1459.58 682.724 1468.33 Q682.724 1477.06 679.645 1481.67 Q676.59 1486.25 670.78 1486.25 Q664.969 1486.25 661.891 1481.67 Q658.835 1477.06 658.835 1468.33 Q658.835 1459.58 661.891 1455 Q664.969 1450.39 670.78 1450.39 Z\" fill=\"#000000\" fill-rule=\"nonzero\" fill-opacity=\"1\" /><path clip-path=\"url(#clip840)\" d=\"M1044.19 1481.64 L1060.51 1481.64 L1060.51 1485.58 L1038.57 1485.58 L1038.57 1481.64 Q1041.23 1478.89 1045.81 1474.26 Q1050.42 1469.61 1051.6 1468.27 Q1053.84 1465.74 1054.72 1464.01 Q1055.63 1462.25 1055.63 1460.56 Q1055.63 1457.8 1053.68 1456.07 Q1051.76 1454.33 1048.66 1454.33 Q1046.46 1454.33 1044.01 1455.09 Q1041.58 1455.86 1038.8 1457.41 L1038.8 1452.69 Q1041.62 1451.55 1044.08 1450.97 Q1046.53 1450.39 1048.57 1450.39 Q1053.94 1450.39 1057.13 1453.08 Q1060.33 1455.77 1060.33 1460.26 Q1060.33 1462.39 1059.52 1464.31 Q1058.73 1466.2 1056.62 1468.8 Q1056.04 1469.47 1052.94 1472.69 Q1049.84 1475.88 1044.19 1481.64 Z\" fill=\"#000000\" fill-rule=\"nonzero\" fill-opacity=\"1\" /><path clip-path=\"url(#clip840)\" d=\"M1080.33 1454.1 Q1076.72 1454.1 1074.89 1457.66 Q1073.08 1461.2 1073.08 1468.33 Q1073.08 1475.44 1074.89 1479.01 Q1076.72 1482.55 1080.33 1482.55 Q1083.96 1482.55 1085.77 1479.01 Q1087.59 1475.44 1087.59 1468.33 Q1087.59 1461.2 1085.77 1457.66 Q1083.96 1454.1 1080.33 1454.1 M1080.33 1450.39 Q1086.14 1450.39 1089.19 1455 Q1092.27 1459.58 1092.27 1468.33 Q1092.27 1477.06 1089.19 1481.67 Q1086.14 1486.25 1080.33 1486.25 Q1074.52 1486.25 1071.44 1481.67 Q1068.38 1477.06 1068.38 1468.33 Q1068.38 1459.58 1071.44 1455 Q1074.52 1450.39 1080.33 1450.39 Z\" fill=\"#000000\" fill-rule=\"nonzero\" fill-opacity=\"1\" /><path clip-path=\"url(#clip840)\" d=\"M1462.94 1466.95 Q1466.3 1467.66 1468.17 1469.93 Q1470.07 1472.2 1470.07 1475.53 Q1470.07 1480.65 1466.55 1483.45 Q1463.03 1486.25 1456.55 1486.25 Q1454.38 1486.25 1452.06 1485.81 Q1449.77 1485.39 1447.31 1484.54 L1447.31 1480.02 Q1449.26 1481.16 1451.57 1481.74 Q1453.89 1482.32 1456.41 1482.32 Q1460.81 1482.32 1463.1 1480.58 Q1465.42 1478.84 1465.42 1475.53 Q1465.42 1472.48 1463.26 1470.77 Q1461.13 1469.03 1457.31 1469.03 L1453.29 1469.03 L1453.29 1465.19 L1457.5 1465.19 Q1460.95 1465.19 1462.78 1463.82 Q1464.61 1462.43 1464.61 1459.84 Q1464.61 1457.18 1462.71 1455.77 Q1460.83 1454.33 1457.31 1454.33 Q1455.39 1454.33 1453.19 1454.75 Q1451 1455.16 1448.36 1456.04 L1448.36 1451.88 Q1451.02 1451.14 1453.33 1450.77 Q1455.67 1450.39 1457.73 1450.39 Q1463.06 1450.39 1466.16 1452.83 Q1469.26 1455.23 1469.26 1459.35 Q1469.26 1462.22 1467.62 1464.21 Q1465.97 1466.18 1462.94 1466.95 Z\" fill=\"#000000\" fill-rule=\"nonzero\" fill-opacity=\"1\" /><path clip-path=\"url(#clip840)\" d=\"M1488.94 1454.1 Q1485.32 1454.1 1483.5 1457.66 Q1481.69 1461.2 1481.69 1468.33 Q1481.69 1475.44 1483.5 1479.01 Q1485.32 1482.55 1488.94 1482.55 Q1492.57 1482.55 1494.37 1479.01 Q1496.2 1475.44 1496.2 1468.33 Q1496.2 1461.2 1494.37 1457.66 Q1492.57 1454.1 1488.94 1454.1 M1488.94 1450.39 Q1494.75 1450.39 1497.8 1455 Q1500.88 1459.58 1500.88 1468.33 Q1500.88 1477.06 1497.8 1481.67 Q1494.75 1486.25 1488.94 1486.25 Q1483.12 1486.25 1480.05 1481.67 Q1476.99 1477.06 1476.99 1468.33 Q1476.99 1459.58 1480.05 1455 Q1483.12 1450.39 1488.94 1450.39 Z\" fill=\"#000000\" fill-rule=\"nonzero\" fill-opacity=\"1\" /><path clip-path=\"url(#clip840)\" d=\"M1870.95 1455.09 L1859.14 1473.54 L1870.95 1473.54 L1870.95 1455.09 M1869.72 1451.02 L1875.6 1451.02 L1875.6 1473.54 L1880.53 1473.54 L1880.53 1477.43 L1875.6 1477.43 L1875.6 1485.58 L1870.95 1485.58 L1870.95 1477.43 L1855.35 1477.43 L1855.35 1472.92 L1869.72 1451.02 Z\" fill=\"#000000\" fill-rule=\"nonzero\" fill-opacity=\"1\" /><path clip-path=\"url(#clip840)\" d=\"M1898.26 1454.1 Q1894.65 1454.1 1892.82 1457.66 Q1891.02 1461.2 1891.02 1468.33 Q1891.02 1475.44 1892.82 1479.01 Q1894.65 1482.55 1898.26 1482.55 Q1901.9 1482.55 1903.7 1479.01 Q1905.53 1475.44 1905.53 1468.33 Q1905.53 1461.2 1903.7 1457.66 Q1901.9 1454.1 1898.26 1454.1 M1898.26 1450.39 Q1904.07 1450.39 1907.13 1455 Q1910.21 1459.58 1910.21 1468.33 Q1910.21 1477.06 1907.13 1481.67 Q1904.07 1486.25 1898.26 1486.25 Q1892.45 1486.25 1889.37 1481.67 Q1886.32 1477.06 1886.32 1468.33 Q1886.32 1459.58 1889.37 1455 Q1892.45 1450.39 1898.26 1450.39 Z\" fill=\"#000000\" fill-rule=\"nonzero\" fill-opacity=\"1\" /><path clip-path=\"url(#clip840)\" d=\"M2266.15 1451.02 L2284.51 1451.02 L2284.51 1454.96 L2270.44 1454.96 L2270.44 1463.43 Q2271.45 1463.08 2272.47 1462.92 Q2273.49 1462.73 2274.51 1462.73 Q2280.3 1462.73 2283.68 1465.9 Q2287.06 1469.08 2287.06 1474.49 Q2287.06 1480.07 2283.58 1483.17 Q2280.11 1486.25 2273.79 1486.25 Q2271.62 1486.25 2269.35 1485.88 Q2267.1 1485.51 2264.7 1484.77 L2264.7 1480.07 Q2266.78 1481.2 2269 1481.76 Q2271.22 1482.32 2273.7 1482.32 Q2277.7 1482.32 2280.04 1480.21 Q2282.38 1478.1 2282.38 1474.49 Q2282.38 1470.88 2280.04 1468.77 Q2277.7 1466.67 2273.7 1466.67 Q2271.82 1466.67 2269.95 1467.08 Q2268.1 1467.5 2266.15 1468.38 L2266.15 1451.02 Z\" fill=\"#000000\" fill-rule=\"nonzero\" fill-opacity=\"1\" /><path clip-path=\"url(#clip840)\" d=\"M2306.27 1454.1 Q2302.66 1454.1 2300.83 1457.66 Q2299.02 1461.2 2299.02 1468.33 Q2299.02 1475.44 2300.83 1479.01 Q2302.66 1482.55 2306.27 1482.55 Q2309.9 1482.55 2311.71 1479.01 Q2313.54 1475.44 2313.54 1468.33 Q2313.54 1461.2 2311.71 1457.66 Q2309.9 1454.1 2306.27 1454.1 M2306.27 1450.39 Q2312.08 1450.39 2315.13 1455 Q2318.21 1459.58 2318.21 1468.33 Q2318.21 1477.06 2315.13 1481.67 Q2312.08 1486.25 2306.27 1486.25 Q2300.46 1486.25 2297.38 1481.67 Q2294.32 1477.06 2294.32 1468.33 Q2294.32 1459.58 2297.38 1455 Q2300.46 1450.39 2306.27 1450.39 Z\" fill=\"#000000\" fill-rule=\"nonzero\" fill-opacity=\"1\" /><path clip-path=\"url(#clip840)\" d=\"M1268.82 1522.27 L1268.82 1532.4 L1280.88 1532.4 L1280.88 1536.95 L1268.82 1536.95 L1268.82 1556.3 Q1268.82 1560.66 1270 1561.9 Q1271.21 1563.14 1274.87 1563.14 L1280.88 1563.14 L1280.88 1568.04 L1274.87 1568.04 Q1268.09 1568.04 1265.51 1565.53 Q1262.93 1562.98 1262.93 1556.3 L1262.93 1536.95 L1258.63 1536.95 L1258.63 1532.4 L1262.93 1532.4 L1262.93 1522.27 L1268.82 1522.27 Z\" fill=\"#000000\" fill-rule=\"nonzero\" fill-opacity=\"1\" /><polyline clip-path=\"url(#clip842)\" style=\"stroke:#000000; stroke-linecap:round; stroke-linejoin:round; stroke-width:2; stroke-opacity:0.1; fill:none\" points=\"186.76,1384.24 2352.76,1384.24 \"/>\n",
       "<polyline clip-path=\"url(#clip842)\" style=\"stroke:#000000; stroke-linecap:round; stroke-linejoin:round; stroke-width:2; stroke-opacity:0.1; fill:none\" points=\"186.76,1054.02 2352.76,1054.02 \"/>\n",
       "<polyline clip-path=\"url(#clip842)\" style=\"stroke:#000000; stroke-linecap:round; stroke-linejoin:round; stroke-width:2; stroke-opacity:0.1; fill:none\" points=\"186.76,723.799 2352.76,723.799 \"/>\n",
       "<polyline clip-path=\"url(#clip842)\" style=\"stroke:#000000; stroke-linecap:round; stroke-linejoin:round; stroke-width:2; stroke-opacity:0.1; fill:none\" points=\"186.76,393.58 2352.76,393.58 \"/>\n",
       "<polyline clip-path=\"url(#clip842)\" style=\"stroke:#000000; stroke-linecap:round; stroke-linejoin:round; stroke-width:2; stroke-opacity:0.1; fill:none\" points=\"186.76,63.3605 2352.76,63.3605 \"/>\n",
       "<polyline clip-path=\"url(#clip840)\" style=\"stroke:#000000; stroke-linecap:round; stroke-linejoin:round; stroke-width:4; stroke-opacity:1; fill:none\" points=\"186.76,1423.18 186.76,47.2441 \"/>\n",
       "<polyline clip-path=\"url(#clip840)\" style=\"stroke:#000000; stroke-linecap:round; stroke-linejoin:round; stroke-width:4; stroke-opacity:1; fill:none\" points=\"186.76,1384.24 205.658,1384.24 \"/>\n",
       "<polyline clip-path=\"url(#clip840)\" style=\"stroke:#000000; stroke-linecap:round; stroke-linejoin:round; stroke-width:4; stroke-opacity:1; fill:none\" points=\"186.76,1054.02 205.658,1054.02 \"/>\n",
       "<polyline clip-path=\"url(#clip840)\" style=\"stroke:#000000; stroke-linecap:round; stroke-linejoin:round; stroke-width:4; stroke-opacity:1; fill:none\" points=\"186.76,723.799 205.658,723.799 \"/>\n",
       "<polyline clip-path=\"url(#clip840)\" style=\"stroke:#000000; stroke-linecap:round; stroke-linejoin:round; stroke-width:4; stroke-opacity:1; fill:none\" points=\"186.76,393.58 205.658,393.58 \"/>\n",
       "<polyline clip-path=\"url(#clip840)\" style=\"stroke:#000000; stroke-linecap:round; stroke-linejoin:round; stroke-width:4; stroke-opacity:1; fill:none\" points=\"186.76,63.3605 205.658,63.3605 \"/>\n",
       "<path clip-path=\"url(#clip840)\" d=\"M63.4226 1370.04 Q59.8115 1370.04 57.9828 1373.6 Q56.1773 1377.14 56.1773 1384.27 Q56.1773 1391.38 57.9828 1394.94 Q59.8115 1398.49 63.4226 1398.49 Q67.0569 1398.49 68.8624 1394.94 Q70.6911 1391.38 70.6911 1384.27 Q70.6911 1377.14 68.8624 1373.6 Q67.0569 1370.04 63.4226 1370.04 M63.4226 1366.33 Q69.2328 1366.33 72.2883 1370.94 Q75.367 1375.52 75.367 1384.27 Q75.367 1393 72.2883 1397.61 Q69.2328 1402.19 63.4226 1402.19 Q57.6125 1402.19 54.5338 1397.61 Q51.4782 1393 51.4782 1384.27 Q51.4782 1375.52 54.5338 1370.94 Q57.6125 1366.33 63.4226 1366.33 Z\" fill=\"#000000\" fill-rule=\"nonzero\" fill-opacity=\"1\" /><path clip-path=\"url(#clip840)\" d=\"M83.5845 1395.64 L88.4688 1395.64 L88.4688 1401.52 L83.5845 1401.52 L83.5845 1395.64 Z\" fill=\"#000000\" fill-rule=\"nonzero\" fill-opacity=\"1\" /><path clip-path=\"url(#clip840)\" d=\"M108.654 1370.04 Q105.043 1370.04 103.214 1373.6 Q101.409 1377.14 101.409 1384.27 Q101.409 1391.38 103.214 1394.94 Q105.043 1398.49 108.654 1398.49 Q112.288 1398.49 114.094 1394.94 Q115.922 1391.38 115.922 1384.27 Q115.922 1377.14 114.094 1373.6 Q112.288 1370.04 108.654 1370.04 M108.654 1366.33 Q114.464 1366.33 117.52 1370.94 Q120.598 1375.52 120.598 1384.27 Q120.598 1393 117.52 1397.61 Q114.464 1402.19 108.654 1402.19 Q102.844 1402.19 99.765 1397.61 Q96.7095 1393 96.7095 1384.27 Q96.7095 1375.52 99.765 1370.94 Q102.844 1366.33 108.654 1366.33 Z\" fill=\"#000000\" fill-rule=\"nonzero\" fill-opacity=\"1\" /><path clip-path=\"url(#clip840)\" d=\"M138.816 1370.04 Q135.205 1370.04 133.376 1373.6 Q131.57 1377.14 131.57 1384.27 Q131.57 1391.38 133.376 1394.94 Q135.205 1398.49 138.816 1398.49 Q142.45 1398.49 144.256 1394.94 Q146.084 1391.38 146.084 1384.27 Q146.084 1377.14 144.256 1373.6 Q142.45 1370.04 138.816 1370.04 M138.816 1366.33 Q144.626 1366.33 147.681 1370.94 Q150.76 1375.52 150.76 1384.27 Q150.76 1393 147.681 1397.61 Q144.626 1402.19 138.816 1402.19 Q133.006 1402.19 129.927 1397.61 Q126.871 1393 126.871 1384.27 Q126.871 1375.52 129.927 1370.94 Q133.006 1366.33 138.816 1366.33 Z\" fill=\"#000000\" fill-rule=\"nonzero\" fill-opacity=\"1\" /><path clip-path=\"url(#clip840)\" d=\"M65.0198 1039.82 Q61.4087 1039.82 59.58 1043.38 Q57.7745 1046.92 57.7745 1054.05 Q57.7745 1061.16 59.58 1064.72 Q61.4087 1068.27 65.0198 1068.27 Q68.6541 1068.27 70.4596 1064.72 Q72.2883 1061.16 72.2883 1054.05 Q72.2883 1046.92 70.4596 1043.38 Q68.6541 1039.82 65.0198 1039.82 M65.0198 1036.11 Q70.83 1036.11 73.8855 1040.72 Q76.9642 1045.3 76.9642 1054.05 Q76.9642 1062.78 73.8855 1067.39 Q70.83 1071.97 65.0198 1071.97 Q59.2097 1071.97 56.131 1067.39 Q53.0754 1062.78 53.0754 1054.05 Q53.0754 1045.3 56.131 1040.72 Q59.2097 1036.11 65.0198 1036.11 Z\" fill=\"#000000\" fill-rule=\"nonzero\" fill-opacity=\"1\" /><path clip-path=\"url(#clip840)\" d=\"M85.1818 1065.42 L90.066 1065.42 L90.066 1071.3 L85.1818 1071.3 L85.1818 1065.42 Z\" fill=\"#000000\" fill-rule=\"nonzero\" fill-opacity=\"1\" /><path clip-path=\"url(#clip840)\" d=\"M110.251 1039.82 Q106.64 1039.82 104.811 1043.38 Q103.006 1046.92 103.006 1054.05 Q103.006 1061.16 104.811 1064.72 Q106.64 1068.27 110.251 1068.27 Q113.885 1068.27 115.691 1064.72 Q117.52 1061.16 117.52 1054.05 Q117.52 1046.92 115.691 1043.38 Q113.885 1039.82 110.251 1039.82 M110.251 1036.11 Q116.061 1036.11 119.117 1040.72 Q122.195 1045.3 122.195 1054.05 Q122.195 1062.78 119.117 1067.39 Q116.061 1071.97 110.251 1071.97 Q104.441 1071.97 101.362 1067.39 Q98.3067 1062.78 98.3067 1054.05 Q98.3067 1045.3 101.362 1040.72 Q104.441 1036.11 110.251 1036.11 Z\" fill=\"#000000\" fill-rule=\"nonzero\" fill-opacity=\"1\" /><path clip-path=\"url(#clip840)\" d=\"M134.441 1067.36 L150.76 1067.36 L150.76 1071.3 L128.816 1071.3 L128.816 1067.36 Q131.478 1064.61 136.061 1059.98 Q140.668 1055.33 141.848 1053.98 Q144.093 1051.46 144.973 1049.72 Q145.876 1047.97 145.876 1046.28 Q145.876 1043.52 143.931 1041.79 Q142.01 1040.05 138.908 1040.05 Q136.709 1040.05 134.256 1040.81 Q131.825 1041.58 129.047 1043.13 L129.047 1038.41 Q131.871 1037.27 134.325 1036.69 Q136.779 1036.11 138.816 1036.11 Q144.186 1036.11 147.38 1038.8 Q150.575 1041.48 150.575 1045.97 Q150.575 1048.1 149.765 1050.03 Q148.978 1051.92 146.871 1054.52 Q146.293 1055.19 143.191 1058.41 Q140.089 1061.6 134.441 1067.36 Z\" fill=\"#000000\" fill-rule=\"nonzero\" fill-opacity=\"1\" /><path clip-path=\"url(#clip840)\" d=\"M62.9365 709.598 Q59.3254 709.598 57.4967 713.163 Q55.6912 716.705 55.6912 723.834 Q55.6912 730.941 57.4967 734.505 Q59.3254 738.047 62.9365 738.047 Q66.5707 738.047 68.3763 734.505 Q70.205 730.941 70.205 723.834 Q70.205 716.705 68.3763 713.163 Q66.5707 709.598 62.9365 709.598 M62.9365 705.894 Q68.7467 705.894 71.8022 710.501 Q74.8809 715.084 74.8809 723.834 Q74.8809 732.561 71.8022 737.167 Q68.7467 741.751 62.9365 741.751 Q57.1264 741.751 54.0477 737.167 Q50.9921 732.561 50.9921 723.834 Q50.9921 715.084 54.0477 710.501 Q57.1264 705.894 62.9365 705.894 Z\" fill=\"#000000\" fill-rule=\"nonzero\" fill-opacity=\"1\" /><path clip-path=\"url(#clip840)\" d=\"M83.0984 735.2 L87.9827 735.2 L87.9827 741.079 L83.0984 741.079 L83.0984 735.2 Z\" fill=\"#000000\" fill-rule=\"nonzero\" fill-opacity=\"1\" /><path clip-path=\"url(#clip840)\" d=\"M108.168 709.598 Q104.557 709.598 102.728 713.163 Q100.922 716.705 100.922 723.834 Q100.922 730.941 102.728 734.505 Q104.557 738.047 108.168 738.047 Q111.802 738.047 113.608 734.505 Q115.436 730.941 115.436 723.834 Q115.436 716.705 113.608 713.163 Q111.802 709.598 108.168 709.598 M108.168 705.894 Q113.978 705.894 117.033 710.501 Q120.112 715.084 120.112 723.834 Q120.112 732.561 117.033 737.167 Q113.978 741.751 108.168 741.751 Q102.358 741.751 99.2789 737.167 Q96.2234 732.561 96.2234 723.834 Q96.2234 715.084 99.2789 710.501 Q102.358 705.894 108.168 705.894 Z\" fill=\"#000000\" fill-rule=\"nonzero\" fill-opacity=\"1\" /><path clip-path=\"url(#clip840)\" d=\"M141.177 710.593 L129.371 729.042 L141.177 729.042 L141.177 710.593 M139.95 706.519 L145.83 706.519 L145.83 729.042 L150.76 729.042 L150.76 732.931 L145.83 732.931 L145.83 741.079 L141.177 741.079 L141.177 732.931 L125.575 732.931 L125.575 728.417 L139.95 706.519 Z\" fill=\"#000000\" fill-rule=\"nonzero\" fill-opacity=\"1\" /><path clip-path=\"url(#clip840)\" d=\"M63.2606 379.379 Q59.6495 379.379 57.8208 382.943 Q56.0152 386.485 56.0152 393.615 Q56.0152 400.721 57.8208 404.286 Q59.6495 407.828 63.2606 407.828 Q66.8948 407.828 68.7004 404.286 Q70.5291 400.721 70.5291 393.615 Q70.5291 386.485 68.7004 382.943 Q66.8948 379.379 63.2606 379.379 M63.2606 375.675 Q69.0707 375.675 72.1263 380.281 Q75.205 384.865 75.205 393.615 Q75.205 402.341 72.1263 406.948 Q69.0707 411.531 63.2606 411.531 Q57.4504 411.531 54.3717 406.948 Q51.3162 402.341 51.3162 393.615 Q51.3162 384.865 54.3717 380.281 Q57.4504 375.675 63.2606 375.675 Z\" fill=\"#000000\" fill-rule=\"nonzero\" fill-opacity=\"1\" /><path clip-path=\"url(#clip840)\" d=\"M83.4225 404.98 L88.3067 404.98 L88.3067 410.86 L83.4225 410.86 L83.4225 404.98 Z\" fill=\"#000000\" fill-rule=\"nonzero\" fill-opacity=\"1\" /><path clip-path=\"url(#clip840)\" d=\"M108.492 379.379 Q104.881 379.379 103.052 382.943 Q101.246 386.485 101.246 393.615 Q101.246 400.721 103.052 404.286 Q104.881 407.828 108.492 407.828 Q112.126 407.828 113.932 404.286 Q115.76 400.721 115.76 393.615 Q115.76 386.485 113.932 382.943 Q112.126 379.379 108.492 379.379 M108.492 375.675 Q114.302 375.675 117.358 380.281 Q120.436 384.865 120.436 393.615 Q120.436 402.341 117.358 406.948 Q114.302 411.531 108.492 411.531 Q102.682 411.531 99.603 406.948 Q96.5474 402.341 96.5474 393.615 Q96.5474 384.865 99.603 380.281 Q102.682 375.675 108.492 375.675 Z\" fill=\"#000000\" fill-rule=\"nonzero\" fill-opacity=\"1\" /><path clip-path=\"url(#clip840)\" d=\"M139.232 391.717 Q136.084 391.717 134.232 393.869 Q132.404 396.022 132.404 399.772 Q132.404 403.499 134.232 405.675 Q136.084 407.828 139.232 407.828 Q142.381 407.828 144.209 405.675 Q146.061 403.499 146.061 399.772 Q146.061 396.022 144.209 393.869 Q142.381 391.717 139.232 391.717 M148.515 377.064 L148.515 381.323 Q146.756 380.49 144.95 380.05 Q143.168 379.61 141.408 379.61 Q136.779 379.61 134.325 382.735 Q131.894 385.86 131.547 392.179 Q132.913 390.166 134.973 389.101 Q137.033 388.013 139.51 388.013 Q144.718 388.013 147.728 391.184 Q150.76 394.332 150.76 399.772 Q150.76 405.096 147.612 408.314 Q144.464 411.531 139.232 411.531 Q133.237 411.531 130.066 406.948 Q126.894 402.341 126.894 393.615 Q126.894 385.42 130.783 380.559 Q134.672 375.675 141.223 375.675 Q142.982 375.675 144.765 376.022 Q146.57 376.369 148.515 377.064 Z\" fill=\"#000000\" fill-rule=\"nonzero\" fill-opacity=\"1\" /><path clip-path=\"url(#clip840)\" d=\"M63.5152 49.1592 Q59.9041 49.1592 58.0754 52.724 Q56.2699 56.2656 56.2699 63.3952 Q56.2699 70.5017 58.0754 74.0665 Q59.9041 77.6081 63.5152 77.6081 Q67.1494 77.6081 68.955 74.0665 Q70.7837 70.5017 70.7837 63.3952 Q70.7837 56.2656 68.955 52.724 Q67.1494 49.1592 63.5152 49.1592 M63.5152 45.4555 Q69.3254 45.4555 72.3809 50.062 Q75.4596 54.6453 75.4596 63.3952 Q75.4596 72.122 72.3809 76.7285 Q69.3254 81.3118 63.5152 81.3118 Q57.7051 81.3118 54.6264 76.7285 Q51.5708 72.122 51.5708 63.3952 Q51.5708 54.6453 54.6264 50.062 Q57.7051 45.4555 63.5152 45.4555 Z\" fill=\"#000000\" fill-rule=\"nonzero\" fill-opacity=\"1\" /><path clip-path=\"url(#clip840)\" d=\"M83.6771 74.7609 L88.5614 74.7609 L88.5614 80.6405 L83.6771 80.6405 L83.6771 74.7609 Z\" fill=\"#000000\" fill-rule=\"nonzero\" fill-opacity=\"1\" /><path clip-path=\"url(#clip840)\" d=\"M108.746 49.1592 Q105.135 49.1592 103.307 52.724 Q101.501 56.2656 101.501 63.3952 Q101.501 70.5017 103.307 74.0665 Q105.135 77.6081 108.746 77.6081 Q112.381 77.6081 114.186 74.0665 Q116.015 70.5017 116.015 63.3952 Q116.015 56.2656 114.186 52.724 Q112.381 49.1592 108.746 49.1592 M108.746 45.4555 Q114.557 45.4555 117.612 50.062 Q120.691 54.6453 120.691 63.3952 Q120.691 72.122 117.612 76.7285 Q114.557 81.3118 108.746 81.3118 Q102.936 81.3118 99.8576 76.7285 Q96.8021 72.122 96.8021 63.3952 Q96.8021 54.6453 99.8576 50.062 Q102.936 45.4555 108.746 45.4555 Z\" fill=\"#000000\" fill-rule=\"nonzero\" fill-opacity=\"1\" /><path clip-path=\"url(#clip840)\" d=\"M138.908 64.2286 Q135.575 64.2286 133.654 66.011 Q131.756 67.7934 131.756 70.9183 Q131.756 74.0433 133.654 75.8257 Q135.575 77.6081 138.908 77.6081 Q142.242 77.6081 144.163 75.8257 Q146.084 74.0202 146.084 70.9183 Q146.084 67.7934 144.163 66.011 Q142.265 64.2286 138.908 64.2286 M134.232 62.2378 Q131.223 61.4971 129.533 59.4369 Q127.867 57.3767 127.867 54.4138 Q127.867 50.2703 130.807 47.8629 Q133.769 45.4555 138.908 45.4555 Q144.07 45.4555 147.01 47.8629 Q149.95 50.2703 149.95 54.4138 Q149.95 57.3767 148.26 59.4369 Q146.593 61.4971 143.607 62.2378 Q146.987 63.0249 148.862 65.3165 Q150.76 67.6082 150.76 70.9183 Q150.76 75.9415 147.681 78.6266 Q144.626 81.3118 138.908 81.3118 Q133.191 81.3118 130.112 78.6266 Q127.057 75.9415 127.057 70.9183 Q127.057 67.6082 128.955 65.3165 Q130.853 63.0249 134.232 62.2378 M132.519 54.8536 Q132.519 57.5388 134.186 59.0434 Q135.876 60.548 138.908 60.548 Q141.918 60.548 143.607 59.0434 Q145.32 57.5388 145.32 54.8536 Q145.32 52.1684 143.607 50.6638 Q141.918 49.1592 138.908 49.1592 Q135.876 49.1592 134.186 50.6638 Q132.519 52.1684 132.519 54.8536 Z\" fill=\"#000000\" fill-rule=\"nonzero\" fill-opacity=\"1\" /><polyline clip-path=\"url(#clip842)\" style=\"stroke:#009af9; stroke-linecap:round; stroke-linejoin:round; stroke-width:4; stroke-opacity:1; fill:none\" points=\"248.062,1384.24 248.37,1384.22 249.035,1384.07 249.897,1383.65 251.054,1382.68 252.505,1380.82 254.319,1377.48 256.515,1371.99 259.116,1363.49 262.105,1351.26 265.462,1334.63 269.181,1313.14 273.281,1286.4 277.8,1254.2 282.785,1216.59 288.255,1174.26 294.007,1129.92 300.027,1084.64 306.307,1039.06 312.881,992.915 319.797,945.371 327.1,895.281 334.714,842.331 342.43,787.499 350.339,729.997 358.475,669.443 366.93,604.544 375.684,534.221 384.534,458.847 393.444,378.729 402.43,296.172 411.567,216.244 420.767,148.394 429.995,102.467 439.286,86.1857 448.649,103.593 458.082,153.405 467.548,228.95 477.016,320.352 486.443,417.514 495.737,512.287 504.956,601.475 514.19,684.592 523.478,761.666 532.746,831.932 541.845,894.241 550.799,949.338 559.627,999.059 568.408,1046.8 576.763,1093.87 584.709,1142.32 592.293,1192.28 599.609,1242.27 606.758,1289.58 613.59,1329.37 620.102,1358.57 626.333,1375.6 632.172,1380.15 637.715,1373.61 643.327,1356.44 649.018,1329.19 654.745,1293.37 660.66,1249.67 666.999,1197.79 673.739,1139.62 680.523,1080.19 687.482,1019.77 694.593,959.281 701.962,898.04 709.645,835.68 717.634,772.53 725.646,711.315 733.82,651.452 742.181,592.819 750.836,533.773 759.757,472.453 768.761,407.625 777.811,338.372 786.933,266.257 796.197,196.286 805.47,138.279 814.79,101.843 824.164,95.1824 833.594,122.353 843.064,181.824 852.524,266.571 861.998,367.311 871.372,473.304 880.608,576.849 889.763,674.202 898.942,763.997 908.167,844.73 917.346,914.264 926.33,971.164 935.164,1016.93 943.874,1054.64 952.52,1088.99 960.696,1123.06 968.444,1159.85 975.762,1199.54 982.696,1240.44 989.657,1281.92 996.446,1318.91 1003.04,1347.51 1009.4,1364.88 1015.32,1369.85 1021.38,1362.66 1027.32,1343.52 1033.45,1312.17 1039.63,1270.42 1046.09,1218.32 1052.99,1156.16 1060.09,1087.96 1067.26,1017.32 1074.57,945.183 1082.05,872.379 1089.8,799.099 1097.87,726.349 1106.03,657.807 1114.28,594.851 1122.69,537.62 1131.35,484.91 1140.28,434.273 1149.37,382.701 1158.49,327.768 1167.67,268.634 1176.97,208.575 1186.29,155.619 1195.65,119.579 1205.06,109.772 1214.52,132.288 1223.99,187.709 1233.46,271.068 1242.91,373.876 1252.3,486.09 1261.51,598.076 1270.62,704.749 1279.71,803.289 1288.85,891.212 1297.98,965.306 1306.92,1022.84 1315.7,1064.85 1324.31,1094.51 1332.86,1117.22 1341.07,1138.28 1348.8,1161.94 1356.07,1189.98 1362.76,1220.87 1369.64,1255.94 1376.44,1290.65 1383.08,1320.58 1389.56,1342.04 1395.53,1352.18 1401.95,1350.63 1408.12,1336.08 1414.49,1307.87 1420.93,1266.98 1427.62,1213.61 1434.71,1147.73 1442.09,1072.4 1449.49,992.803 1457.02,910.143 1464.68,826.344 1472.59,742.415 1480.79,660.57 1489.1,585.677 1497.47,520.377 1505.99,465.132 1514.74,418.804 1523.75,378.397 1532.92,339.614 1542.11,298.489 1551.38,253.002 1560.72,205.689 1570.09,163.901 1579.5,137.169 1588.96,135.011 1598.45,163.778 1607.93,224.33 1617.38,312.045 1626.81,419.311 1636.16,536.123 1645.32,653.056 1654.35,764.689 1663.36,867.567 1672.42,958.176 1681.46,1032.24 1690.29,1086.42 1698.94,1121.99 1707.41,1142.59 1715.81,1154.28 1723.88,1163.52 1731.46,1175.63 1738.6,1193.1 1745.14,1214.98 1752.01,1242.77 1758.67,1271.59 1765.28,1298.22 1771.69,1318.21 1777.77,1328.73 1784.43,1328.07 1790.84,1313.93 1797.44,1285.21 1804.12,1242.53 1811.1,1185.39 1818.47,1113.88 1826.08,1031.44 1833.71,943.162 1841.45,850.891 1849.33,757.189 1857.45,664.205 1865.84,575.648 1874.27,498.256 1882.8,434.424 1891.46,384.914 1900.36,347.976 1909.49,319.646 1918.73,294.274 1928.01,266.692 1937.36,234.79 1946.73,201.551 1956.14,174.207 1965.6,162.309 1975.11,174.829 1984.61,217 1994.09,288.596 2003.5,384.419 2012.92,497.612 2022.16,617.348 2031.22,736.087 2040.15,848.533 2049.09,951.086 2058.07,1039.12 2066.96,1107.36 2075.61,1153.16 2084.06,1178.65 2092.35,1188.48 2100.55,1189.21 2108.33,1188.1 2115.66,1190.64 2122.64,1199.36 2129.27,1214.13 2136.07,1234.68 2142.61,1256.94 2149.14,1277.98 2155.34,1293.19 2161.95,1300.76 2168.66,1296.36 2175.39,1277.95 2182.21,1244.63 2189.2,1196.03 2196.52,1131.6 2204.24,1051.37 2212.05,960.964 2219.92,863.699 2227.88,762.69 2236.01,660.819 2244.38,561.985 2252.95,472.356 2261.52,398.851 2270.2,343.2 2279.06,305.506 2288.14,282.718 2291.45,277.134 \"/>\n",
       "<path clip-path=\"url(#clip840)\" d=\"M2042.24 196.789 L2280.56 196.789 L2280.56 93.1086 L2042.24 93.1086  Z\" fill=\"#ffffff\" fill-rule=\"evenodd\" fill-opacity=\"1\"/>\n",
       "<polyline clip-path=\"url(#clip840)\" style=\"stroke:#000000; stroke-linecap:round; stroke-linejoin:round; stroke-width:4; stroke-opacity:1; fill:none\" points=\"2042.24,196.789 2280.56,196.789 2280.56,93.1086 2042.24,93.1086 2042.24,196.789 \"/>\n",
       "<polyline clip-path=\"url(#clip840)\" style=\"stroke:#009af9; stroke-linecap:round; stroke-linejoin:round; stroke-width:4; stroke-opacity:1; fill:none\" points=\"2066.31,144.949 2210.71,144.949 \"/>\n",
       "<path clip-path=\"url(#clip840)\" d=\"M2256.49 146.581 L2256.49 162.229 L2252.23 162.229 L2252.23 146.719 Q2252.23 143.039 2250.8 141.21 Q2249.36 139.382 2246.49 139.382 Q2243.04 139.382 2241.05 141.581 Q2239.06 143.78 2239.06 147.576 L2239.06 162.229 L2234.78 162.229 L2234.78 136.303 L2239.06 136.303 L2239.06 140.331 Q2240.59 137.993 2242.65 136.835 Q2244.73 135.678 2247.44 135.678 Q2251.91 135.678 2254.2 138.456 Q2256.49 141.21 2256.49 146.581 Z\" fill=\"#000000\" fill-rule=\"nonzero\" fill-opacity=\"1\" /></svg>\n"
      ]
     },
     "metadata": {},
     "output_type": "display_data"
    }
   ],
   "source": [
    "using Plots\n",
    "n = real.(sol[a'a])\n",
    "plot(sol.t, n, xlabel=\"t\", label=\"n\")"
   ]
  },
  {
   "cell_type": "markdown",
   "metadata": {},
   "source": [
    "### Hard-coded Hamiltonian"
   ]
  },
  {
   "cell_type": "code",
   "execution_count": 113,
   "metadata": {},
   "outputs": [
    {
     "data": {
      "text/plain": [
       "4-element Vector{QuantumCumulants.QMul{Nothing}}:\n",
       " exp((0 - 1im)*t*(ω1 + ω2))*exp(-0.5(τ^2)*((ω1 + ω2)^2))*(a*σeg)\n",
       " exp((0 - 1im)*t*(-ω1 - ω2))*exp(-0.5(τ^2)*((-ω1 - ω2)^2))*(a′*σge)\n",
       " exp((0 - 1im)*t*(ω2 - ω1))*exp(-0.5(τ^2)*((ω2 - ω1)^2))*(a*σge)\n",
       " exp((0 - 1im)*t*(ω1 - ω2))*exp(-0.5(τ^2)*((ω1 - ω2)^2))*(a′*σeg)"
      ]
     },
     "metadata": {},
     "output_type": "display_data"
    }
   ],
   "source": [
    "# H_eff_hc = [exp(-im*t*(ω1 + ω2))*exp(-0.5*τ^2*(ω1 + ω2)^2)*a*σ(:e, :g),\n",
    "#     exp(-im*t*(-ω1 - ω2))*exp(-0.5*τ^2*(-ω1 - ω2)^2)*a'*σ(:g, :e),\n",
    "#     exp(-im*t*(-ω1 + ω2))*exp(-0.5*τ^2*(-ω1 + ω2)^2)*a*σ(:g, :e),\n",
    "#     exp(-im*t*(ω1 - ω2))*exp(-0.5*τ^2*(ω1 - ω2)^2)*a'*σ(:e, :g)]"
   ]
  },
  {
   "cell_type": "code",
   "execution_count": 126,
   "metadata": {},
   "outputs": [
    {
     "data": {
      "text/latex": [
       "$e^{-1 i t \\left( {\\omega}1 + {\\omega}2 \\right)} e^{-0.5 \\tau^{2} \\left( {\\omega}1 + {\\omega}2 \\right)^{2}} a {\\sigma}^{{eg}} + e^{-1 i t \\left( -1 {\\omega}1 -1 {\\omega}2 \\right)} e^{-0.5 \\tau^{2} \\left( -1 {\\omega}1 -1 {\\omega}2 \\right)^{2}} a^\\dagger {\\sigma}^{{ge}} + e^{-1 i t \\left( {\\omega}2 -1 {\\omega}1 \\right)} e^{-0.5 \\tau^{2} \\left( {\\omega}2 -1 {\\omega}1 \\right)^{2}} a {\\sigma}^{{ge}} + e^{-1 i t \\left( {\\omega}1 -1 {\\omega}2 \\right)} e^{-0.5 \\tau^{2} \\left( {\\omega}1 -1 {\\omega}2 \\right)^{2}} a^\\dagger {\\sigma}^{{eg}}$"
      ],
      "text/plain": [
       "(exp((0 - 1im)*t*(ω1 + ω2))*exp(-0.5(τ^2)*((ω1 + ω2)^2))*(a*σeg)+exp((0 - 1im)*t*(-ω1 - ω2))*exp(-0.5(τ^2)*((-ω1 - ω2)^2))*(a′*σge)+exp((0 - 1im)*t*(ω2 - ω1))*exp(-0.5(τ^2)*((ω2 - ω1)^2))*(a*σge)+exp((0 - 1im)*t*(ω1 - ω2))*exp(-0.5(τ^2)*((ω1 - ω2)^2))*(a′*σeg))"
      ]
     },
     "metadata": {},
     "output_type": "display_data"
    }
   ],
   "source": [
    "# H_sum_hc = sum(H_eff_hc)"
   ]
  }
 ],
 "metadata": {
  "kernelspec": {
   "display_name": "Julia 1.9.0",
   "language": "julia",
   "name": "julia-1.9"
  },
  "language_info": {
   "file_extension": ".jl",
   "mimetype": "application/julia",
   "name": "julia",
   "version": "1.9.0"
  },
  "orig_nbformat": 4
 },
 "nbformat": 4,
 "nbformat_minor": 2
}
